{
  "nbformat": 4,
  "nbformat_minor": 0,
  "metadata": {
    "colab": {
      "name": "보스턴 주택가격 예측",
      "provenance": [],
      "authorship_tag": "ABX9TyN02z3PO353yHrzVXeRNjon"
    },
    "kernelspec": {
      "name": "python3",
      "display_name": "Python 3"
    },
    "language_info": {
      "name": "python"
    }
  },
  "cells": [
    {
      "cell_type": "code",
      "execution_count": 1,
      "metadata": {
        "id": "mHbq3fdnLva0"
      },
      "outputs": [],
      "source": [
        "import pandas as pd\n",
        "import numpy as np\n",
        "import matplotlib.pyplot as plt\n",
        "import seaborn as sns\n",
        "import os"
      ]
    },
    {
      "cell_type": "code",
      "source": [
        "os.environ['KAGGLE_USERNAME']='jiinpp'\n",
        "os.environ['KAGGLE_KEY']=\"b06d525a9f66198051ccb648b091778a\""
      ],
      "metadata": {
        "id": "TwKNvNmDOqR1"
      },
      "execution_count": 2,
      "outputs": []
    },
    {
      "cell_type": "code",
      "source": [
        "!kaggle competitions download -c 2021-ml-midterm-p4"
      ],
      "metadata": {
        "colab": {
          "base_uri": "https://localhost:8080/"
        },
        "id": "BgHBraM5PD4_",
        "outputId": "a3faa5a6-68a1-4a66-ba5d-156b54fcbe92"
      },
      "execution_count": 4,
      "outputs": [
        {
          "output_type": "stream",
          "name": "stdout",
          "text": [
            "Warning: Looks like you're using an outdated API Version, please consider updating (server 1.5.12 / client 1.5.4)\n",
            "Downloading train_update.csv to /content\n",
            "  0% 0.00/28.9k [00:00<?, ?B/s]\n",
            "100% 28.9k/28.9k [00:00<00:00, 11.0MB/s]\n",
            "Downloading test_update.csv to /content\n",
            "  0% 0.00/6.77k [00:00<?, ?B/s]\n",
            "100% 6.77k/6.77k [00:00<00:00, 6.84MB/s]\n",
            "Downloading sample_submit.csv to /content\n",
            "  0% 0.00/615 [00:00<?, ?B/s]\n",
            "100% 615/615 [00:00<00:00, 1.26MB/s]\n",
            "Downloading train.csv to /content\n",
            "  0% 0.00/29.1k [00:00<?, ?B/s]\n",
            "100% 29.1k/29.1k [00:00<00:00, 28.2MB/s]\n",
            "Downloading test.csv to /content\n",
            "  0% 0.00/7.51k [00:00<?, ?B/s]\n",
            "100% 7.51k/7.51k [00:00<00:00, 19.4MB/s]\n"
          ]
        }
      ]
    },
    {
      "cell_type": "code",
      "source": [
        "train=pd.read_csv('train_update.csv')\n",
        "test=pd.read_csv('test_update.csv')\n",
        "sample=pd.read_csv('sample_submit.csv')"
      ],
      "metadata": {
        "id": "HVLqLZebPGka"
      },
      "execution_count": 69,
      "outputs": []
    },
    {
      "cell_type": "code",
      "source": [
        "train.info()"
      ],
      "metadata": {
        "colab": {
          "base_uri": "https://localhost:8080/"
        },
        "id": "xOEHpIGgQgt8",
        "outputId": "75ccac39-f975-4be8-8600-87b871ac6411"
      },
      "execution_count": 70,
      "outputs": [
        {
          "output_type": "stream",
          "name": "stdout",
          "text": [
            "<class 'pandas.core.frame.DataFrame'>\n",
            "RangeIndex: 404 entries, 0 to 403\n",
            "Data columns (total 15 columns):\n",
            " #   Column  Non-Null Count  Dtype  \n",
            "---  ------  --------------  -----  \n",
            " 0   index   404 non-null    int64  \n",
            " 1   a       404 non-null    float64\n",
            " 2   b       404 non-null    float64\n",
            " 3   c       404 non-null    float64\n",
            " 4   d       404 non-null    int64  \n",
            " 5   e       404 non-null    float64\n",
            " 6   f       404 non-null    float64\n",
            " 7   g       404 non-null    float64\n",
            " 8   h       404 non-null    float64\n",
            " 9   i       404 non-null    int64  \n",
            " 10  j       404 non-null    int64  \n",
            " 11  k       404 non-null    float64\n",
            " 12  l       404 non-null    float64\n",
            " 13  m       404 non-null    float64\n",
            " 14  price   404 non-null    float64\n",
            "dtypes: float64(11), int64(4)\n",
            "memory usage: 47.5 KB\n"
          ]
        }
      ]
    },
    {
      "cell_type": "code",
      "source": [
        "X_train=train.drop(['index','price'],axis=1)\n",
        "y_train=train['price']\n",
        "X_test=test.drop('index',axis=1)"
      ],
      "metadata": {
        "id": "gQeg--NePfGH"
      },
      "execution_count": 71,
      "outputs": []
    },
    {
      "cell_type": "code",
      "source": [
        "X_train.info()"
      ],
      "metadata": {
        "colab": {
          "base_uri": "https://localhost:8080/"
        },
        "id": "850NpePwP3z6",
        "outputId": "69e3bdf0-e079-4404-d412-ebe77af452fb"
      },
      "execution_count": 72,
      "outputs": [
        {
          "output_type": "stream",
          "name": "stdout",
          "text": [
            "<class 'pandas.core.frame.DataFrame'>\n",
            "RangeIndex: 404 entries, 0 to 403\n",
            "Data columns (total 13 columns):\n",
            " #   Column  Non-Null Count  Dtype  \n",
            "---  ------  --------------  -----  \n",
            " 0   a       404 non-null    float64\n",
            " 1   b       404 non-null    float64\n",
            " 2   c       404 non-null    float64\n",
            " 3   d       404 non-null    int64  \n",
            " 4   e       404 non-null    float64\n",
            " 5   f       404 non-null    float64\n",
            " 6   g       404 non-null    float64\n",
            " 7   h       404 non-null    float64\n",
            " 8   i       404 non-null    int64  \n",
            " 9   j       404 non-null    int64  \n",
            " 10  k       404 non-null    float64\n",
            " 11  l       404 non-null    float64\n",
            " 12  m       404 non-null    float64\n",
            "dtypes: float64(10), int64(3)\n",
            "memory usage: 41.2 KB\n"
          ]
        }
      ]
    },
    {
      "cell_type": "code",
      "source": [
        "sns.histplot(X_train,x='a')"
      ],
      "metadata": {
        "colab": {
          "base_uri": "https://localhost:8080/",
          "height": 297
        },
        "id": "QY3bjS45QwPh",
        "outputId": "9e86f912-1ba8-4471-ed47-f2eccb8718b7"
      },
      "execution_count": 73,
      "outputs": [
        {
          "output_type": "execute_result",
          "data": {
            "text/plain": [
              "<matplotlib.axes._subplots.AxesSubplot at 0x7fef991d6610>"
            ]
          },
          "metadata": {},
          "execution_count": 73
        },
        {
          "output_type": "display_data",
          "data": {
            "image/png": "[encoded data removed]",
            "text/plain": [
              "<Figure size 432x288 with 1 Axes>"
            ]
          },
          "metadata": {
            "needs_background": "light"
          }
        }
      ]
    },
    {
      "cell_type": "markdown",
      "source": [
        "스케일링이 필요해 보임. "
      ],
      "metadata": {
        "id": "3QAGlGDRQ8t0"
      }
    },
    {
      "cell_type": "code",
      "source": [
        "sns.histplot(X_train,x='b')"
      ],
      "metadata": {
        "colab": {
          "base_uri": "https://localhost:8080/",
          "height": 297
        },
        "id": "S3UI_SNIQ1n5",
        "outputId": "6e5e455f-d4fc-4aec-89ad-16edcea6853e"
      },
      "execution_count": 74,
      "outputs": [
        {
          "output_type": "execute_result",
          "data": {
            "text/plain": [
              "<matplotlib.axes._subplots.AxesSubplot at 0x7fef99053a50>"
            ]
          },
          "metadata": {},
          "execution_count": 74
        },
        {
          "output_type": "display_data",
          "data": {
            "image/png": "[encoded data removed]",
            "text/plain": [
              "<Figure size 432x288 with 1 Axes>"
            ]
          },
          "metadata": {
            "needs_background": "light"
          }
        }
      ]
    },
    {
      "cell_type": "code",
      "source": [
        "sns.histplot(X_train,x='c')"
      ],
      "metadata": {
        "colab": {
          "base_uri": "https://localhost:8080/",
          "height": 297
        },
        "id": "0mC7H2QQcQyo",
        "outputId": "63aa38bd-4527-4245-c566-a09482b20261"
      },
      "execution_count": 75,
      "outputs": [
        {
          "output_type": "execute_result",
          "data": {
            "text/plain": [
              "<matplotlib.axes._subplots.AxesSubplot at 0x7fef98f20b90>"
            ]
          },
          "metadata": {},
          "execution_count": 75
        },
        {
          "output_type": "display_data",
          "data": {
            "image/png": "[encoded data removed]",
            "text/plain": [
              "<Figure size 432x288 with 1 Axes>"
            ]
          },
          "metadata": {
            "needs_background": "light"
          }
        }
      ]
    },
    {
      "cell_type": "code",
      "source": [
        "sns.histplot(X_train,x='d')"
      ],
      "metadata": {
        "colab": {
          "base_uri": "https://localhost:8080/",
          "height": 297
        },
        "id": "khcKs5lqcef9",
        "outputId": "5405ade2-7d4d-46f2-8e38-548266eadd5a"
      },
      "execution_count": 76,
      "outputs": [
        {
          "output_type": "execute_result",
          "data": {
            "text/plain": [
              "<matplotlib.axes._subplots.AxesSubplot at 0x7fef98ea4610>"
            ]
          },
          "metadata": {},
          "execution_count": 76
        },
        {
          "output_type": "display_data",
          "data": {
            "image/png": "[encoded data removed]",
            "text/plain": [
              "<Figure size 432x288 with 1 Axes>"
            ]
          },
          "metadata": {
            "needs_background": "light"
          }
        }
      ]
    },
    {
      "cell_type": "code",
      "source": [
        "col=X_train.columns\n",
        "\n",
        "for i in col:\n",
        "  print(X_train[i].value_counts())\n",
        "  print('\\n')"
      ],
      "metadata": {
        "colab": {
          "base_uri": "https://localhost:8080/"
        },
        "id": "CYS6u0Tbci7i",
        "outputId": "ca229406-991f-4ddd-838f-18bd2da34a8f"
      },
      "execution_count": 77,
      "outputs": [
        {
          "output_type": "stream",
          "name": "stdout",
          "text": [
            "0.01501     2\n",
            "14.33370    2\n",
            "0.08265     1\n",
            "0.97617     1\n",
            "0.03502     1\n",
            "           ..\n",
            "0.06162     1\n",
            "12.80230    1\n",
            "0.72580     1\n",
            "0.78570     1\n",
            "0.03578     1\n",
            "Name: a, Length: 402, dtype: int64\n",
            "\n",
            "\n",
            "0.0      293\n",
            "20.0      19\n",
            "80.0      11\n",
            "22.0       9\n",
            "25.0       9\n",
            "12.5       7\n",
            "40.0       6\n",
            "90.0       5\n",
            "45.0       5\n",
            "30.0       5\n",
            "21.0       4\n",
            "35.0       3\n",
            "34.0       3\n",
            "95.0       3\n",
            "52.5       3\n",
            "75.0       3\n",
            "33.0       3\n",
            "60.0       3\n",
            "85.0       2\n",
            "70.0       2\n",
            "28.0       2\n",
            "100.0      1\n",
            "18.0       1\n",
            "82.5       1\n",
            "17.5       1\n",
            "Name: b, dtype: int64\n",
            "\n",
            "\n",
            "18.10    104\n",
            "19.58     23\n",
            "8.14      18\n",
            "6.20      13\n",
            "21.89     12\n",
            "        ... \n",
            "4.95       1\n",
            "2.01       1\n",
            "4.39       1\n",
            "2.97       1\n",
            "3.75       1\n",
            "Name: c, Length: 72, dtype: int64\n",
            "\n",
            "\n",
            "0    372\n",
            "1     32\n",
            "Name: d, dtype: int64\n",
            "\n",
            "\n",
            "0.538    19\n",
            "0.713    17\n",
            "0.437    15\n",
            "0.871    13\n",
            "0.489    13\n",
            "         ..\n",
            "0.422     1\n",
            "0.415     1\n",
            "0.458     1\n",
            "0.385     1\n",
            "0.460     1\n",
            "Name: e, Length: 76, dtype: int64\n",
            "\n",
            "\n",
            "5.713    3\n",
            "6.167    3\n",
            "6.229    3\n",
            "6.951    2\n",
            "5.813    2\n",
            "        ..\n",
            "6.816    1\n",
            "6.701    1\n",
            "6.461    1\n",
            "6.975    1\n",
            "6.250    1\n",
            "Name: f, Length: 366, dtype: int64\n",
            "\n",
            "\n",
            "100.0    35\n",
            "87.9      4\n",
            "96.0      4\n",
            "92.6      3\n",
            "97.0      3\n",
            "         ..\n",
            "25.8      1\n",
            "23.3      1\n",
            "38.3      1\n",
            "91.7      1\n",
            "80.8      1\n",
            "Name: g, Length: 302, dtype: int64\n",
            "\n",
            "\n",
            "3.4952    5\n",
            "5.4007    4\n",
            "5.7209    4\n",
            "6.8147    4\n",
            "5.2873    4\n",
            "         ..\n",
            "1.8206    1\n",
            "2.0107    1\n",
            "2.2625    1\n",
            "3.2628    1\n",
            "2.4527    1\n",
            "Name: h, Length: 339, dtype: int64\n",
            "\n",
            "\n",
            "24    104\n",
            "5      92\n",
            "4      85\n",
            "3      32\n",
            "2      22\n",
            "6      21\n",
            "8      18\n",
            "7      15\n",
            "1      15\n",
            "Name: i, dtype: int64\n",
            "\n",
            "\n",
            "666    104\n",
            "307     31\n",
            "403     23\n",
            "437     12\n",
            "398     11\n",
            "      ... \n",
            "280      1\n",
            "348      1\n",
            "285      1\n",
            "335      1\n",
            "469      1\n",
            "Name: j, Length: 63, dtype: int64\n",
            "\n",
            "\n",
            "20.2    111\n",
            "14.7     25\n",
            "21.0     21\n",
            "17.8     19\n",
            "19.1     16\n",
            "18.6     16\n",
            "16.6     15\n",
            "19.2     15\n",
            "17.4     13\n",
            "21.2     12\n",
            "18.4     11\n",
            "17.9     10\n",
            "15.2     10\n",
            "13.0     10\n",
            "20.9      8\n",
            "18.7      7\n",
            "19.7      6\n",
            "16.4      5\n",
            "19.6      5\n",
            "17.6      5\n",
            "18.0      5\n",
            "16.0      4\n",
            "19.0      4\n",
            "16.8      4\n",
            "17.0      4\n",
            "14.9      4\n",
            "18.5      3\n",
            "16.1      3\n",
            "18.2      3\n",
            "20.1      3\n",
            "12.6      3\n",
            "16.9      3\n",
            "18.3      3\n",
            "15.6      2\n",
            "15.3      2\n",
            "14.8      2\n",
            "18.9      2\n",
            "22.0      2\n",
            "13.6      1\n",
            "18.8      1\n",
            "15.5      1\n",
            "17.3      1\n",
            "15.9      1\n",
            "21.1      1\n",
            "15.1      1\n",
            "14.4      1\n",
            "Name: k, dtype: int64\n",
            "\n",
            "\n",
            "396.90    96\n",
            "393.74     3\n",
            "395.24     3\n",
            "396.06     2\n",
            "376.14     2\n",
            "          ..\n",
            "393.24     1\n",
            "393.25     1\n",
            "382.84     1\n",
            "384.07     1\n",
            "395.50     1\n",
            "Name: l, Length: 287, dtype: int64\n",
            "\n",
            "\n",
            "7.79     3\n",
            "18.13    3\n",
            "8.05     3\n",
            "6.36     3\n",
            "5.50     2\n",
            "        ..\n",
            "26.40    1\n",
            "9.52     1\n",
            "11.45    1\n",
            "17.73    1\n",
            "18.46    1\n",
            "Name: m, Length: 366, dtype: int64\n",
            "\n",
            "\n"
          ]
        }
      ]
    },
    {
      "cell_type": "markdown",
      "source": [
        "d는 연속형 변수가 아닌가벼"
      ],
      "metadata": {
        "id": "uS1ipf9oecB0"
      }
    },
    {
      "cell_type": "code",
      "source": [
        "plt.figure(figsize=(10,10))\n",
        "sns.heatmap(train.corr(),annot=True)"
      ],
      "metadata": {
        "colab": {
          "base_uri": "https://localhost:8080/",
          "height": 613
        },
        "id": "WxWxQjySTslj",
        "outputId": "083bb50f-dada-45ab-9ff2-a73dde809dda"
      },
      "execution_count": 21,
      "outputs": [
        {
          "output_type": "execute_result",
          "data": {
            "text/plain": [
              "<matplotlib.axes._subplots.AxesSubplot at 0x7fefa50e5890>"
            ]
          },
          "metadata": {},
          "execution_count": 21
        },
        {
          "output_type": "display_data",
          "data": {
            "image/png": "[encoded data removed]",
            "text/plain": [
              "<Figure size 720x720 with 2 Axes>"
            ]
          },
          "metadata": {
            "needs_background": "light"
          }
        }
      ]
    },
    {
      "cell_type": "code",
      "source": [
        "train['i_j']=train['i']*train['j']\n",
        "train['g_e']=train['g']*train['e']\n",
        "train['e_c']=train['e']*train['c']"
      ],
      "metadata": {
        "id": "5lHNoT3CT_bp"
      },
      "execution_count": 78,
      "outputs": []
    },
    {
      "cell_type": "code",
      "source": [
        "test['i_j']=test['i']*test['j']\n",
        "test['g_e']=test['g']*test['e']\n",
        "test['e_c']=test['e']*test['c']"
      ],
      "metadata": {
        "id": "IhnH9uQDXfcr"
      },
      "execution_count": 79,
      "outputs": []
    },
    {
      "cell_type": "code",
      "source": [
        "X_train=train.drop(['index','price'],axis=1)\n",
        "y_train=train['price']\n",
        "X_test=test.drop('index',axis=1)"
      ],
      "metadata": {
        "id": "L3DLbBIAVAIX"
      },
      "execution_count": 80,
      "outputs": []
    },
    {
      "cell_type": "code",
      "source": [
        "X_train.info()"
      ],
      "metadata": {
        "colab": {
          "base_uri": "https://localhost:8080/"
        },
        "id": "1MDvQy3NgIkN",
        "outputId": "3266ead7-0d4d-4218-8c9e-c3fc8184482b"
      },
      "execution_count": 81,
      "outputs": [
        {
          "output_type": "stream",
          "name": "stdout",
          "text": [
            "<class 'pandas.core.frame.DataFrame'>\n",
            "RangeIndex: 404 entries, 0 to 403\n",
            "Data columns (total 16 columns):\n",
            " #   Column  Non-Null Count  Dtype  \n",
            "---  ------  --------------  -----  \n",
            " 0   a       404 non-null    float64\n",
            " 1   b       404 non-null    float64\n",
            " 2   c       404 non-null    float64\n",
            " 3   d       404 non-null    int64  \n",
            " 4   e       404 non-null    float64\n",
            " 5   f       404 non-null    float64\n",
            " 6   g       404 non-null    float64\n",
            " 7   h       404 non-null    float64\n",
            " 8   i       404 non-null    int64  \n",
            " 9   j       404 non-null    int64  \n",
            " 10  k       404 non-null    float64\n",
            " 11  l       404 non-null    float64\n",
            " 12  m       404 non-null    float64\n",
            " 13  i_j     404 non-null    int64  \n",
            " 14  g_e     404 non-null    float64\n",
            " 15  e_c     404 non-null    float64\n",
            "dtypes: float64(12), int64(4)\n",
            "memory usage: 50.6 KB\n"
          ]
        }
      ]
    },
    {
      "cell_type": "code",
      "source": [
        "#스케일링\n",
        "\n",
        "from sklearn.preprocessing import StandardScaler\n",
        "\n",
        "sc=StandardScaler()\n",
        "X_train=sc.fit_transform(X_train)\n",
        "X_test=sc.transform(X_test)"
      ],
      "metadata": {
        "id": "rkzIp8TaW_Wx"
      },
      "execution_count": 66,
      "outputs": []
    },
    {
      "cell_type": "code",
      "source": [
        "X_train['d'].value_counts()"
      ],
      "metadata": {
        "colab": {
          "base_uri": "https://localhost:8080/"
        },
        "id": "4plI2WZwf5LE",
        "outputId": "8236c2cb-f446-4d16-8354-269cfd08bd84"
      },
      "execution_count": 83,
      "outputs": [
        {
          "output_type": "execute_result",
          "data": {
            "text/plain": [
              "0    372\n",
              "1     32\n",
              "Name: d, dtype: int64"
            ]
          },
          "metadata": {},
          "execution_count": 83
        }
      ]
    },
    {
      "cell_type": "markdown",
      "source": [
        "## KNN"
      ],
      "metadata": {
        "id": "yb64Sn3IXwxN"
      }
    },
    {
      "cell_type": "code",
      "source": [
        "from sklearn.neighbors import KNeighborsRegressor\n",
        "\n",
        "knn_r=KNeighborsRegressor()\n",
        "knn_r.fit(X_train,y_train)\n",
        "knn_r_pred=knn_r.predict(X_test)"
      ],
      "metadata": {
        "id": "ko-7_6bIXQ1F"
      },
      "execution_count": 42,
      "outputs": []
    },
    {
      "cell_type": "code",
      "source": [
        "knn_r_sample=sample.copy()\n",
        "knn_r_sample['price']=knn_r_pred\n",
        "knn_r_sample.to_csv('knn_r.csv',index=False)"
      ],
      "metadata": {
        "id": "HwVCcfZ6YExB"
      },
      "execution_count": 47,
      "outputs": []
    },
    {
      "cell_type": "code",
      "source": [
        "knn_r_sample"
      ],
      "metadata": {
        "colab": {
          "base_uri": "https://localhost:8080/",
          "height": 423
        },
        "id": "E2w7QqwrZS8R",
        "outputId": "62eebd3e-e2a5-4252-effd-4b8e06e529a9"
      },
      "execution_count": 48,
      "outputs": [
        {
          "output_type": "execute_result",
          "data": {
            "text/html": [
              "\n",
              "  <div id=\"df-d31c8ef3-4caa-4c3e-a059-79e80e1f72c4\">\n",
              "    <div class=\"colab-df-container\">\n",
              "      <div>\n",
              "<style scoped>\n",
              "    .dataframe tbody tr th:only-of-type {\n",
              "        vertical-align: middle;\n",
              "    }\n",
              "\n",
              "    .dataframe tbody tr th {\n",
              "        vertical-align: top;\n",
              "    }\n",
              "\n",
              "    .dataframe thead th {\n",
              "        text-align: right;\n",
              "    }\n",
              "</style>\n",
              "<table border=\"1\" class=\"dataframe\">\n",
              "  <thead>\n",
              "    <tr style=\"text-align: right;\">\n",
              "      <th></th>\n",
              "      <th>index</th>\n",
              "      <th>price</th>\n",
              "    </tr>\n",
              "  </thead>\n",
              "  <tbody>\n",
              "    <tr>\n",
              "      <th>0</th>\n",
              "      <td>0</td>\n",
              "      <td>29.24</td>\n",
              "    </tr>\n",
              "    <tr>\n",
              "      <th>1</th>\n",
              "      <td>1</td>\n",
              "      <td>24.32</td>\n",
              "    </tr>\n",
              "    <tr>\n",
              "      <th>2</th>\n",
              "      <td>2</td>\n",
              "      <td>20.22</td>\n",
              "    </tr>\n",
              "    <tr>\n",
              "      <th>3</th>\n",
              "      <td>3</td>\n",
              "      <td>21.82</td>\n",
              "    </tr>\n",
              "    <tr>\n",
              "      <th>4</th>\n",
              "      <td>4</td>\n",
              "      <td>18.04</td>\n",
              "    </tr>\n",
              "    <tr>\n",
              "      <th>...</th>\n",
              "      <td>...</td>\n",
              "      <td>...</td>\n",
              "    </tr>\n",
              "    <tr>\n",
              "      <th>97</th>\n",
              "      <td>97</td>\n",
              "      <td>23.88</td>\n",
              "    </tr>\n",
              "    <tr>\n",
              "      <th>98</th>\n",
              "      <td>98</td>\n",
              "      <td>35.86</td>\n",
              "    </tr>\n",
              "    <tr>\n",
              "      <th>99</th>\n",
              "      <td>99</td>\n",
              "      <td>20.22</td>\n",
              "    </tr>\n",
              "    <tr>\n",
              "      <th>100</th>\n",
              "      <td>100</td>\n",
              "      <td>14.74</td>\n",
              "    </tr>\n",
              "    <tr>\n",
              "      <th>101</th>\n",
              "      <td>101</td>\n",
              "      <td>14.96</td>\n",
              "    </tr>\n",
              "  </tbody>\n",
              "</table>\n",
              "<p>102 rows × 2 columns</p>\n",
              "</div>\n",
              "      <button class=\"colab-df-convert\" onclick=\"convertToInteractive('df-d31c8ef3-4caa-4c3e-a059-79e80e1f72c4')\"\n",
              "              title=\"Convert this dataframe to an interactive table.\"\n",
              "              style=\"display:none;\">\n",
              "        \n",
              "  <svg xmlns=\"http://www.w3.org/2000/svg\" height=\"24px\"viewBox=\"0 0 24 24\"\n",
              "       width=\"24px\">\n",
              "    <path d=\"M0 0h24v24H0V0z\" fill=\"none\"/>\n",
              "    <path d=\"M18.56 5.44l.94 2.06.94-2.06 2.06-.94-2.06-.94-.94-2.06-.94 2.06-2.06.94zm-11 1L8.5 8.5l.94-2.06 2.06-.94-2.06-.94L8.5 2.5l-.94 2.06-2.06.94zm10 10l.94 2.06.94-2.06 2.06-.94-2.06-.94-.94-2.06-.94 2.06-2.06.94z\"/><path d=\"M17.41 7.96l-1.37-1.37c-.4-.4-.92-.59-1.43-.59-.52 0-1.04.2-1.43.59L10.3 9.45l-7.72 7.72c-.78.78-.78 2.05 0 2.83L4 21.41c.39.39.9.59 1.41.59.51 0 1.02-.2 1.41-.59l7.78-7.78 2.81-2.81c.8-.78.8-2.07 0-2.86zM5.41 20L4 18.59l7.72-7.72 1.47 1.35L5.41 20z\"/>\n",
              "  </svg>\n",
              "      </button>\n",
              "      \n",
              "  <style>\n",
              "    .colab-df-container {\n",
              "      display:flex;\n",
              "      flex-wrap:wrap;\n",
              "      gap: 12px;\n",
              "    }\n",
              "\n",
              "    .colab-df-convert {\n",
              "      background-color: #E8F0FE;\n",
              "      border: none;\n",
              "      border-radius: 50%;\n",
              "      cursor: pointer;\n",
              "      display: none;\n",
              "      fill: #1967D2;\n",
              "      height: 32px;\n",
              "      padding: 0 0 0 0;\n",
              "      width: 32px;\n",
              "    }\n",
              "\n",
              "    .colab-df-convert:hover {\n",
              "      background-color: #E2EBFA;\n",
              "      box-shadow: 0px 1px 2px rgba(60, 64, 67, 0.3), 0px 1px 3px 1px rgba(60, 64, 67, 0.15);\n",
              "      fill: #174EA6;\n",
              "    }\n",
              "\n",
              "    [theme=dark] .colab-df-convert {\n",
              "      background-color: #3B4455;\n",
              "      fill: #D2E3FC;\n",
              "    }\n",
              "\n",
              "    [theme=dark] .colab-df-convert:hover {\n",
              "      background-color: #434B5C;\n",
              "      box-shadow: 0px 1px 3px 1px rgba(0, 0, 0, 0.15);\n",
              "      filter: drop-shadow(0px 1px 2px rgba(0, 0, 0, 0.3));\n",
              "      fill: #FFFFFF;\n",
              "    }\n",
              "  </style>\n",
              "\n",
              "      <script>\n",
              "        const buttonEl =\n",
              "          document.querySelector('#df-d31c8ef3-4caa-4c3e-a059-79e80e1f72c4 button.colab-df-convert');\n",
              "        buttonEl.style.display =\n",
              "          google.colab.kernel.accessAllowed ? 'block' : 'none';\n",
              "\n",
              "        async function convertToInteractive(key) {\n",
              "          const element = document.querySelector('#df-d31c8ef3-4caa-4c3e-a059-79e80e1f72c4');\n",
              "          const dataTable =\n",
              "            await google.colab.kernel.invokeFunction('convertToInteractive',\n",
              "                                                     [key], {});\n",
              "          if (!dataTable) return;\n",
              "\n",
              "          const docLinkHtml = 'Like what you see? Visit the ' +\n",
              "            '<a target=\"_blank\" href=https://colab.research.google.com/notebooks/data_table.ipynb>data table notebook</a>'\n",
              "            + ' to learn more about interactive tables.';\n",
              "          element.innerHTML = '';\n",
              "          dataTable['output_type'] = 'display_data';\n",
              "          await google.colab.output.renderOutput(dataTable, element);\n",
              "          const docLink = document.createElement('div');\n",
              "          docLink.innerHTML = docLinkHtml;\n",
              "          element.appendChild(docLink);\n",
              "        }\n",
              "      </script>\n",
              "    </div>\n",
              "  </div>\n",
              "  "
            ],
            "text/plain": [
              "     index  price\n",
              "0        0  29.24\n",
              "1        1  24.32\n",
              "2        2  20.22\n",
              "3        3  21.82\n",
              "4        4  18.04\n",
              "..     ...    ...\n",
              "97      97  23.88\n",
              "98      98  35.86\n",
              "99      99  20.22\n",
              "100    100  14.74\n",
              "101    101  14.96\n",
              "\n",
              "[102 rows x 2 columns]"
            ]
          },
          "metadata": {},
          "execution_count": 48
        }
      ]
    },
    {
      "cell_type": "code",
      "source": [
        "from sklearn.ensemble import RandomForestRegressor\n",
        "\n",
        "rf=RandomForestRegressor()\n",
        "rf.fit(X_train,y_train)\n",
        "rf_pred=rf.predict(X_test)"
      ],
      "metadata": {
        "id": "4cgEfMBQX3h9"
      },
      "execution_count": 51,
      "outputs": []
    },
    {
      "cell_type": "code",
      "source": [
        "rf_sample=sample.copy()\n",
        "rf_sample['price']=rf_pred\n",
        "rf_sample.to_csv('rf.csv',index=False)"
      ],
      "metadata": {
        "id": "w0TzUNSpaYaT"
      },
      "execution_count": 52,
      "outputs": []
    },
    {
      "cell_type": "code",
      "source": [
        "rf_sample"
      ],
      "metadata": {
        "colab": {
          "base_uri": "https://localhost:8080/",
          "height": 423
        },
        "id": "ATV9wqTGbOvE",
        "outputId": "2476a71e-b76c-445e-fdef-e68fff9f3cc5"
      },
      "execution_count": 53,
      "outputs": [
        {
          "output_type": "execute_result",
          "data": {
            "text/html": [
              "\n",
              "  <div id=\"df-8cf1ae16-3bfb-4906-a8da-c8733634da15\">\n",
              "    <div class=\"colab-df-container\">\n",
              "      <div>\n",
              "<style scoped>\n",
              "    .dataframe tbody tr th:only-of-type {\n",
              "        vertical-align: middle;\n",
              "    }\n",
              "\n",
              "    .dataframe tbody tr th {\n",
              "        vertical-align: top;\n",
              "    }\n",
              "\n",
              "    .dataframe thead th {\n",
              "        text-align: right;\n",
              "    }\n",
              "</style>\n",
              "<table border=\"1\" class=\"dataframe\">\n",
              "  <thead>\n",
              "    <tr style=\"text-align: right;\">\n",
              "      <th></th>\n",
              "      <th>index</th>\n",
              "      <th>price</th>\n",
              "    </tr>\n",
              "  </thead>\n",
              "  <tbody>\n",
              "    <tr>\n",
              "      <th>0</th>\n",
              "      <td>0</td>\n",
              "      <td>29.913</td>\n",
              "    </tr>\n",
              "    <tr>\n",
              "      <th>1</th>\n",
              "      <td>1</td>\n",
              "      <td>27.641</td>\n",
              "    </tr>\n",
              "    <tr>\n",
              "      <th>2</th>\n",
              "      <td>2</td>\n",
              "      <td>19.608</td>\n",
              "    </tr>\n",
              "    <tr>\n",
              "      <th>3</th>\n",
              "      <td>3</td>\n",
              "      <td>20.522</td>\n",
              "    </tr>\n",
              "    <tr>\n",
              "      <th>4</th>\n",
              "      <td>4</td>\n",
              "      <td>20.156</td>\n",
              "    </tr>\n",
              "    <tr>\n",
              "      <th>...</th>\n",
              "      <td>...</td>\n",
              "      <td>...</td>\n",
              "    </tr>\n",
              "    <tr>\n",
              "      <th>97</th>\n",
              "      <td>97</td>\n",
              "      <td>23.441</td>\n",
              "    </tr>\n",
              "    <tr>\n",
              "      <th>98</th>\n",
              "      <td>98</td>\n",
              "      <td>42.312</td>\n",
              "    </tr>\n",
              "    <tr>\n",
              "      <th>99</th>\n",
              "      <td>99</td>\n",
              "      <td>20.903</td>\n",
              "    </tr>\n",
              "    <tr>\n",
              "      <th>100</th>\n",
              "      <td>100</td>\n",
              "      <td>16.464</td>\n",
              "    </tr>\n",
              "    <tr>\n",
              "      <th>101</th>\n",
              "      <td>101</td>\n",
              "      <td>15.779</td>\n",
              "    </tr>\n",
              "  </tbody>\n",
              "</table>\n",
              "<p>102 rows × 2 columns</p>\n",
              "</div>\n",
              "      <button class=\"colab-df-convert\" onclick=\"convertToInteractive('df-8cf1ae16-3bfb-4906-a8da-c8733634da15')\"\n",
              "              title=\"Convert this dataframe to an interactive table.\"\n",
              "              style=\"display:none;\">\n",
              "        \n",
              "  <svg xmlns=\"http://www.w3.org/2000/svg\" height=\"24px\"viewBox=\"0 0 24 24\"\n",
              "       width=\"24px\">\n",
              "    <path d=\"M0 0h24v24H0V0z\" fill=\"none\"/>\n",
              "    <path d=\"M18.56 5.44l.94 2.06.94-2.06 2.06-.94-2.06-.94-.94-2.06-.94 2.06-2.06.94zm-11 1L8.5 8.5l.94-2.06 2.06-.94-2.06-.94L8.5 2.5l-.94 2.06-2.06.94zm10 10l.94 2.06.94-2.06 2.06-.94-2.06-.94-.94-2.06-.94 2.06-2.06.94z\"/><path d=\"M17.41 7.96l-1.37-1.37c-.4-.4-.92-.59-1.43-.59-.52 0-1.04.2-1.43.59L10.3 9.45l-7.72 7.72c-.78.78-.78 2.05 0 2.83L4 21.41c.39.39.9.59 1.41.59.51 0 1.02-.2 1.41-.59l7.78-7.78 2.81-2.81c.8-.78.8-2.07 0-2.86zM5.41 20L4 18.59l7.72-7.72 1.47 1.35L5.41 20z\"/>\n",
              "  </svg>\n",
              "      </button>\n",
              "      \n",
              "  <style>\n",
              "    .colab-df-container {\n",
              "      display:flex;\n",
              "      flex-wrap:wrap;\n",
              "      gap: 12px;\n",
              "    }\n",
              "\n",
              "    .colab-df-convert {\n",
              "      background-color: #E8F0FE;\n",
              "      border: none;\n",
              "      border-radius: 50%;\n",
              "      cursor: pointer;\n",
              "      display: none;\n",
              "      fill: #1967D2;\n",
              "      height: 32px;\n",
              "      padding: 0 0 0 0;\n",
              "      width: 32px;\n",
              "    }\n",
              "\n",
              "    .colab-df-convert:hover {\n",
              "      background-color: #E2EBFA;\n",
              "      box-shadow: 0px 1px 2px rgba(60, 64, 67, 0.3), 0px 1px 3px 1px rgba(60, 64, 67, 0.15);\n",
              "      fill: #174EA6;\n",
              "    }\n",
              "\n",
              "    [theme=dark] .colab-df-convert {\n",
              "      background-color: #3B4455;\n",
              "      fill: #D2E3FC;\n",
              "    }\n",
              "\n",
              "    [theme=dark] .colab-df-convert:hover {\n",
              "      background-color: #434B5C;\n",
              "      box-shadow: 0px 1px 3px 1px rgba(0, 0, 0, 0.15);\n",
              "      filter: drop-shadow(0px 1px 2px rgba(0, 0, 0, 0.3));\n",
              "      fill: #FFFFFF;\n",
              "    }\n",
              "  </style>\n",
              "\n",
              "      <script>\n",
              "        const buttonEl =\n",
              "          document.querySelector('#df-8cf1ae16-3bfb-4906-a8da-c8733634da15 button.colab-df-convert');\n",
              "        buttonEl.style.display =\n",
              "          google.colab.kernel.accessAllowed ? 'block' : 'none';\n",
              "\n",
              "        async function convertToInteractive(key) {\n",
              "          const element = document.querySelector('#df-8cf1ae16-3bfb-4906-a8da-c8733634da15');\n",
              "          const dataTable =\n",
              "            await google.colab.kernel.invokeFunction('convertToInteractive',\n",
              "                                                     [key], {});\n",
              "          if (!dataTable) return;\n",
              "\n",
              "          const docLinkHtml = 'Like what you see? Visit the ' +\n",
              "            '<a target=\"_blank\" href=https://colab.research.google.com/notebooks/data_table.ipynb>data table notebook</a>'\n",
              "            + ' to learn more about interactive tables.';\n",
              "          element.innerHTML = '';\n",
              "          dataTable['output_type'] = 'display_data';\n",
              "          await google.colab.output.renderOutput(dataTable, element);\n",
              "          const docLink = document.createElement('div');\n",
              "          docLink.innerHTML = docLinkHtml;\n",
              "          element.appendChild(docLink);\n",
              "        }\n",
              "      </script>\n",
              "    </div>\n",
              "  </div>\n",
              "  "
            ],
            "text/plain": [
              "     index   price\n",
              "0        0  29.913\n",
              "1        1  27.641\n",
              "2        2  19.608\n",
              "3        3  20.522\n",
              "4        4  20.156\n",
              "..     ...     ...\n",
              "97      97  23.441\n",
              "98      98  42.312\n",
              "99      99  20.903\n",
              "100    100  16.464\n",
              "101    101  15.779\n",
              "\n",
              "[102 rows x 2 columns]"
            ]
          },
          "metadata": {},
          "execution_count": 53
        }
      ]
    },
    {
      "cell_type": "code",
      "source": [
        "train=pd.read_csv('train_update.csv')\n",
        "test=pd.read_csv('test_update.csv')\n",
        "sample=pd.read_csv('sample_submit.csv')"
      ],
      "metadata": {
        "id": "uaELbAqabPnK"
      },
      "execution_count": 84,
      "outputs": []
    },
    {
      "cell_type": "code",
      "source": [
        "#스케일링\n",
        "\n",
        "from sklearn.preprocessing import StandardScaler\n",
        "\n",
        "sc=StandardScaler()\n",
        "scaled_X_train=sc.fit_transform(X_train)\n",
        "scaled_X_test=sc.transform(X_test)"
      ],
      "metadata": {
        "id": "AT3ib9ldhDPi"
      },
      "execution_count": 85,
      "outputs": []
    },
    {
      "cell_type": "code",
      "source": [
        "from sklearn.neighbors import KNeighborsRegressor\n",
        "\n",
        "knn_r=KNeighborsRegressor()\n",
        "knn_r.fit(scaled_X_train,y_train)\n",
        "knn_r_pred=knn_r.predict(scaled_X_test)"
      ],
      "metadata": {
        "id": "eaBCXPTMhI_W"
      },
      "execution_count": 86,
      "outputs": []
    },
    {
      "cell_type": "code",
      "source": [
        "knn_r_sample1=sample.copy()\n",
        "knn_r_sample1['price']=knn_r_pred\n",
        "knn_r_sample1.to_csv('knn_r1.csv',index=False)"
      ],
      "metadata": {
        "id": "jpaKAn7BhQt_"
      },
      "execution_count": 87,
      "outputs": []
    },
    {
      "cell_type": "code",
      "source": [
        "from xgboost import XGBRegressor\n",
        "\n",
        "xgb_r=XGBRegressor()\n",
        "xgb_r.fit(scaled_X_train,y_train)\n",
        "xgb_pred=xgb_r.predict(scaled_X_test)\n",
        "\n",
        "xgb_sample=sample.copy()\n",
        "xgb_sample['price']=xgb_pred\n",
        "xgb_sample.to_csv('xgb.csv',index=False)"
      ],
      "metadata": {
        "colab": {
          "base_uri": "https://localhost:8080/"
        },
        "id": "OmkrhH9YhTze",
        "outputId": "3c4740cc-6ee1-4daf-b06b-3aab1b638466"
      },
      "execution_count": 88,
      "outputs": [
        {
          "output_type": "stream",
          "name": "stdout",
          "text": [
            "[08:51:49] WARNING: /workspace/src/objective/regression_obj.cu:152: reg:linear is now deprecated in favor of reg:squarederror.\n"
          ]
        }
      ]
    },
    {
      "cell_type": "code",
      "source": [
        "from xgboost import plot_importance\n",
        "import matplotlib.pyplot as plt\n",
        "%matplotlib inline\n",
        "\n",
        "fig,ax=plt.subplots(figsize=(10,12))\n",
        "#사이킷런 Wrapper 클래스를 입력해도 무방\n",
        "plot_importance(xgb_r,ax=ax)"
      ],
      "metadata": {
        "colab": {
          "base_uri": "https://localhost:8080/",
          "height": 748
        },
        "id": "AcC5Z1pUiQUn",
        "outputId": "51eeb8eb-3179-445d-fc9e-1a50c6aaca24"
      },
      "execution_count": 89,
      "outputs": [
        {
          "output_type": "execute_result",
          "data": {
            "text/plain": [
              "<matplotlib.axes._subplots.AxesSubplot at 0x7fef98e93fd0>"
            ]
          },
          "metadata": {},
          "execution_count": 89
        },
        {
          "output_type": "display_data",
          "data": {
            "image/png": "[encoded data removed]",
            "text/plain": [
              "<Figure size 720x864 with 1 Axes>"
            ]
          },
          "metadata": {
            "needs_background": "light"
          }
        }
      ]
    },
    {
      "cell_type": "code",
      "source": [
        "train['i_j']=train['i']*train['j']\n",
        "train['g_e']=train['g']*train['e']\n",
        "train['e_c']=train['e']*train['c']"
      ],
      "metadata": {
        "id": "jCYqiGPSiVCv"
      },
      "execution_count": 90,
      "outputs": []
    },
    {
      "cell_type": "code",
      "source": [
        "test['i_j']=test['i']*test['j']\n",
        "test['g_e']=test['g']*test['e']\n",
        "test['e_c']=test['e']*test['c']"
      ],
      "metadata": {
        "id": "alFb8jcviZtu"
      },
      "execution_count": 91,
      "outputs": []
    },
    {
      "cell_type": "code",
      "source": [
        "X_train=train.drop(['index','price'],axis=1)\n",
        "y_train=train['price']\n",
        "X_test=test.drop('index',axis=1)"
      ],
      "metadata": {
        "id": "6l3vT3iHijgE"
      },
      "execution_count": 92,
      "outputs": []
    },
    {
      "cell_type": "code",
      "source": [
        "from sklearn.preprocessing import StandardScaler\n",
        "\n",
        "sc=StandardScaler()\n",
        "scaled_X_train=sc.fit_transform(X_train)\n",
        "scaled_X_test=sc.transform(X_test)"
      ],
      "metadata": {
        "id": "5wFo7ArUi4Sy"
      },
      "execution_count": 94,
      "outputs": []
    },
    {
      "cell_type": "code",
      "source": [
        "from xgboost import XGBRegressor\n",
        "\n",
        "xgb_r1=XGBRegressor()\n",
        "xgb_r1.fit(scaled_X_train,y_train)\n",
        "xgb_pred1=xgb_r1.predict(scaled_X_test)\n",
        "\n",
        "xgb_sample1=sample.copy()\n",
        "xgb_sample1['price']=xgb_pred1\n",
        "xgb_sample1.to_csv('xgb1.csv',index=False)"
      ],
      "metadata": {
        "colab": {
          "base_uri": "https://localhost:8080/"
        },
        "id": "Vjo6ByY8ioWH",
        "outputId": "2e80571f-7872-4820-c516-e142462c331a"
      },
      "execution_count": 95,
      "outputs": [
        {
          "output_type": "stream",
          "name": "stdout",
          "text": [
            "[08:55:12] WARNING: /workspace/src/objective/regression_obj.cu:152: reg:linear is now deprecated in favor of reg:squarederror.\n"
          ]
        }
      ]
    },
    {
      "cell_type": "code",
      "source": [
        "from xgboost import plot_importance\n",
        "import matplotlib.pyplot as plt\n",
        "%matplotlib inline\n",
        "\n",
        "fig,ax=plt.subplots(figsize=(10,12))\n",
        "#사이킷런 Wrapper 클래스를 입력해도 무방\n",
        "plot_importance(xgb_r1,ax=ax)"
      ],
      "metadata": {
        "colab": {
          "base_uri": "https://localhost:8080/",
          "height": 748
        },
        "id": "r3xbzoMUjB1h",
        "outputId": "6335ef94-82cf-46c0-e7c3-d56ad808917e"
      },
      "execution_count": 96,
      "outputs": [
        {
          "output_type": "execute_result",
          "data": {
            "text/plain": [
              "<matplotlib.axes._subplots.AxesSubplot at 0x7fef98e24990>"
            ]
          },
          "metadata": {},
          "execution_count": 96
        },
        {
          "output_type": "display_data",
          "data": {
            "image/png": "[encoded data removed]",
            "text/plain": [
              "<Figure size 720x864 with 1 Axes>"
            ]
          },
          "metadata": {
            "needs_background": "light"
          }
        }
      ]
    },
    {
      "cell_type": "code",
      "source": [
        ""
      ],
      "metadata": {
        "id": "MgLFwJp6jsBW"
      },
      "execution_count": null,
      "outputs": []
    }
  ]
}