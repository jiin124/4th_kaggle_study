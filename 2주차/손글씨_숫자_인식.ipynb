{
  "cells": [
    {
      "cell_type": "code",
      "execution_count": 1,
      "metadata": {
        "id": "zZX-dcHktv1i"
      },
      "outputs": [],
      "source": [
        "import pandas as pd\n",
        "import numpy as np\n",
        "import matplotlib.pyplot as plt\n",
        "import seaborn as sns\n",
        "import os"
      ]
    },
    {
      "cell_type": "code",
      "execution_count": 2,
      "metadata": {
        "id": "lwvWb29FuB2R"
      },
      "outputs": [],
      "source": [
        "os.environ['KAGGLE_USERNAME']='jiinpp'\n",
        "os.environ['KAGGLE_KEY']=\"b06d525a9f66198051ccb648b091778a\""
      ]
    },
    {
      "cell_type": "code",
      "execution_count": 3,
      "metadata": {
        "colab": {
          "base_uri": "https://localhost:8080/"
        },
        "id": "TmN1S35ruC90",
        "outputId": "7d776f56-247f-43cc-ae65-3635e7a1a8d6"
      },
      "outputs": [
        {
          "output_type": "stream",
          "name": "stdout",
          "text": [
            "Warning: Looks like you're using an outdated API Version, please consider updating (server 1.5.12 / client 1.5.4)\n",
            "Downloading sample_submit.csv to /content\n",
            "  0% 0.00/2.26k [00:00<?, ?B/s]\n",
            "100% 2.26k/2.26k [00:00<00:00, 3.00MB/s]\n",
            "Downloading train.csv to /content\n",
            "  0% 0.00/215k [00:00<?, ?B/s]\n",
            "100% 215k/215k [00:00<00:00, 70.7MB/s]\n",
            "Downloading test.csv to /content\n",
            "  0% 0.00/97.7k [00:00<?, ?B/s]\n",
            "100% 97.7k/97.7k [00:00<00:00, 31.4MB/s]\n"
          ]
        }
      ],
      "source": [
        "!kaggle competitions download -c 2021-ml-midterm-p3"
      ]
    },
    {
      "cell_type": "code",
      "execution_count": 6,
      "metadata": {
        "id": "BUAK7bVVwaSc"
      },
      "outputs": [],
      "source": [
        "train=pd.read_csv('train.csv', index_col=0)\n",
        "test=pd.read_csv('test.csv', index_col=0)\n",
        "sample=pd.read_csv('sample_submit.csv', index_col=0)"
      ]
    },
    {
      "cell_type": "code",
      "execution_count": 7,
      "metadata": {
        "colab": {
          "base_uri": "https://localhost:8080/",
          "height": 302
        },
        "id": "Frv_TQvuweBF",
        "outputId": "180d0ff1-361d-49a0-a3ab-6ccbed2cf674"
      },
      "outputs": [
        {
          "output_type": "execute_result",
          "data": {
            "text/html": [
              "\n",
              "  <div id=\"df-c408b831-78ed-419f-9e5b-218f4de55434\">\n",
              "    <div class=\"colab-df-container\">\n",
              "      <div>\n",
              "<style scoped>\n",
              "    .dataframe tbody tr th:only-of-type {\n",
              "        vertical-align: middle;\n",
              "    }\n",
              "\n",
              "    .dataframe tbody tr th {\n",
              "        vertical-align: top;\n",
              "    }\n",
              "\n",
              "    .dataframe thead th {\n",
              "        text-align: right;\n",
              "    }\n",
              "</style>\n",
              "<table border=\"1\" class=\"dataframe\">\n",
              "  <thead>\n",
              "    <tr style=\"text-align: right;\">\n",
              "      <th></th>\n",
              "      <th>0</th>\n",
              "      <th>1</th>\n",
              "      <th>2</th>\n",
              "      <th>3</th>\n",
              "      <th>4</th>\n",
              "      <th>5</th>\n",
              "      <th>6</th>\n",
              "      <th>7</th>\n",
              "      <th>8</th>\n",
              "      <th>9</th>\n",
              "      <th>10</th>\n",
              "      <th>11</th>\n",
              "      <th>12</th>\n",
              "      <th>13</th>\n",
              "      <th>14</th>\n",
              "      <th>15</th>\n",
              "      <th>16</th>\n",
              "      <th>17</th>\n",
              "      <th>18</th>\n",
              "      <th>19</th>\n",
              "      <th>20</th>\n",
              "      <th>21</th>\n",
              "      <th>22</th>\n",
              "      <th>23</th>\n",
              "      <th>24</th>\n",
              "      <th>25</th>\n",
              "      <th>26</th>\n",
              "      <th>27</th>\n",
              "      <th>28</th>\n",
              "      <th>29</th>\n",
              "      <th>30</th>\n",
              "      <th>31</th>\n",
              "      <th>32</th>\n",
              "      <th>33</th>\n",
              "      <th>34</th>\n",
              "      <th>35</th>\n",
              "      <th>36</th>\n",
              "      <th>37</th>\n",
              "      <th>38</th>\n",
              "      <th>39</th>\n",
              "      <th>40</th>\n",
              "      <th>41</th>\n",
              "      <th>42</th>\n",
              "      <th>43</th>\n",
              "      <th>44</th>\n",
              "      <th>45</th>\n",
              "      <th>46</th>\n",
              "      <th>47</th>\n",
              "      <th>48</th>\n",
              "      <th>49</th>\n",
              "      <th>50</th>\n",
              "      <th>51</th>\n",
              "      <th>52</th>\n",
              "      <th>53</th>\n",
              "      <th>54</th>\n",
              "      <th>55</th>\n",
              "      <th>56</th>\n",
              "      <th>57</th>\n",
              "      <th>58</th>\n",
              "      <th>59</th>\n",
              "      <th>60</th>\n",
              "      <th>61</th>\n",
              "      <th>62</th>\n",
              "      <th>63</th>\n",
              "      <th>label</th>\n",
              "    </tr>\n",
              "    <tr>\n",
              "      <th>index</th>\n",
              "      <th></th>\n",
              "      <th></th>\n",
              "      <th></th>\n",
              "      <th></th>\n",
              "      <th></th>\n",
              "      <th></th>\n",
              "      <th></th>\n",
              "      <th></th>\n",
              "      <th></th>\n",
              "      <th></th>\n",
              "      <th></th>\n",
              "      <th></th>\n",
              "      <th></th>\n",
              "      <th></th>\n",
              "      <th></th>\n",
              "      <th></th>\n",
              "      <th></th>\n",
              "      <th></th>\n",
              "      <th></th>\n",
              "      <th></th>\n",
              "      <th></th>\n",
              "      <th></th>\n",
              "      <th></th>\n",
              "      <th></th>\n",
              "      <th></th>\n",
              "      <th></th>\n",
              "      <th></th>\n",
              "      <th></th>\n",
              "      <th></th>\n",
              "      <th></th>\n",
              "      <th></th>\n",
              "      <th></th>\n",
              "      <th></th>\n",
              "      <th></th>\n",
              "      <th></th>\n",
              "      <th></th>\n",
              "      <th></th>\n",
              "      <th></th>\n",
              "      <th></th>\n",
              "      <th></th>\n",
              "      <th></th>\n",
              "      <th></th>\n",
              "      <th></th>\n",
              "      <th></th>\n",
              "      <th></th>\n",
              "      <th></th>\n",
              "      <th></th>\n",
              "      <th></th>\n",
              "      <th></th>\n",
              "      <th></th>\n",
              "      <th></th>\n",
              "      <th></th>\n",
              "      <th></th>\n",
              "      <th></th>\n",
              "      <th></th>\n",
              "      <th></th>\n",
              "      <th></th>\n",
              "      <th></th>\n",
              "      <th></th>\n",
              "      <th></th>\n",
              "      <th></th>\n",
              "      <th></th>\n",
              "      <th></th>\n",
              "      <th></th>\n",
              "      <th></th>\n",
              "    </tr>\n",
              "  </thead>\n",
              "  <tbody>\n",
              "    <tr>\n",
              "      <th>0</th>\n",
              "      <td>0</td>\n",
              "      <td>0</td>\n",
              "      <td>5</td>\n",
              "      <td>13</td>\n",
              "      <td>9</td>\n",
              "      <td>1</td>\n",
              "      <td>0</td>\n",
              "      <td>0</td>\n",
              "      <td>0</td>\n",
              "      <td>0</td>\n",
              "      <td>13</td>\n",
              "      <td>15</td>\n",
              "      <td>10</td>\n",
              "      <td>15</td>\n",
              "      <td>5</td>\n",
              "      <td>0</td>\n",
              "      <td>0</td>\n",
              "      <td>3</td>\n",
              "      <td>15</td>\n",
              "      <td>2</td>\n",
              "      <td>0</td>\n",
              "      <td>11</td>\n",
              "      <td>8</td>\n",
              "      <td>0</td>\n",
              "      <td>0</td>\n",
              "      <td>4</td>\n",
              "      <td>12</td>\n",
              "      <td>0</td>\n",
              "      <td>0</td>\n",
              "      <td>8</td>\n",
              "      <td>8</td>\n",
              "      <td>0</td>\n",
              "      <td>0</td>\n",
              "      <td>5</td>\n",
              "      <td>8</td>\n",
              "      <td>0</td>\n",
              "      <td>0</td>\n",
              "      <td>9</td>\n",
              "      <td>8</td>\n",
              "      <td>0</td>\n",
              "      <td>0</td>\n",
              "      <td>4</td>\n",
              "      <td>11</td>\n",
              "      <td>0</td>\n",
              "      <td>1</td>\n",
              "      <td>12</td>\n",
              "      <td>7</td>\n",
              "      <td>0</td>\n",
              "      <td>0</td>\n",
              "      <td>2</td>\n",
              "      <td>14</td>\n",
              "      <td>5</td>\n",
              "      <td>10</td>\n",
              "      <td>12</td>\n",
              "      <td>0</td>\n",
              "      <td>0</td>\n",
              "      <td>0</td>\n",
              "      <td>0</td>\n",
              "      <td>6</td>\n",
              "      <td>13</td>\n",
              "      <td>10</td>\n",
              "      <td>0</td>\n",
              "      <td>0</td>\n",
              "      <td>0</td>\n",
              "      <td>0</td>\n",
              "    </tr>\n",
              "    <tr>\n",
              "      <th>1</th>\n",
              "      <td>0</td>\n",
              "      <td>0</td>\n",
              "      <td>0</td>\n",
              "      <td>12</td>\n",
              "      <td>13</td>\n",
              "      <td>5</td>\n",
              "      <td>0</td>\n",
              "      <td>0</td>\n",
              "      <td>0</td>\n",
              "      <td>0</td>\n",
              "      <td>0</td>\n",
              "      <td>11</td>\n",
              "      <td>16</td>\n",
              "      <td>9</td>\n",
              "      <td>0</td>\n",
              "      <td>0</td>\n",
              "      <td>0</td>\n",
              "      <td>0</td>\n",
              "      <td>3</td>\n",
              "      <td>15</td>\n",
              "      <td>16</td>\n",
              "      <td>6</td>\n",
              "      <td>0</td>\n",
              "      <td>0</td>\n",
              "      <td>0</td>\n",
              "      <td>7</td>\n",
              "      <td>15</td>\n",
              "      <td>16</td>\n",
              "      <td>16</td>\n",
              "      <td>2</td>\n",
              "      <td>0</td>\n",
              "      <td>0</td>\n",
              "      <td>0</td>\n",
              "      <td>0</td>\n",
              "      <td>1</td>\n",
              "      <td>16</td>\n",
              "      <td>16</td>\n",
              "      <td>3</td>\n",
              "      <td>0</td>\n",
              "      <td>0</td>\n",
              "      <td>0</td>\n",
              "      <td>0</td>\n",
              "      <td>1</td>\n",
              "      <td>16</td>\n",
              "      <td>16</td>\n",
              "      <td>6</td>\n",
              "      <td>0</td>\n",
              "      <td>0</td>\n",
              "      <td>0</td>\n",
              "      <td>0</td>\n",
              "      <td>1</td>\n",
              "      <td>16</td>\n",
              "      <td>16</td>\n",
              "      <td>6</td>\n",
              "      <td>0</td>\n",
              "      <td>0</td>\n",
              "      <td>0</td>\n",
              "      <td>0</td>\n",
              "      <td>0</td>\n",
              "      <td>11</td>\n",
              "      <td>16</td>\n",
              "      <td>10</td>\n",
              "      <td>0</td>\n",
              "      <td>0</td>\n",
              "      <td>1</td>\n",
              "    </tr>\n",
              "    <tr>\n",
              "      <th>2</th>\n",
              "      <td>0</td>\n",
              "      <td>0</td>\n",
              "      <td>0</td>\n",
              "      <td>4</td>\n",
              "      <td>15</td>\n",
              "      <td>12</td>\n",
              "      <td>0</td>\n",
              "      <td>0</td>\n",
              "      <td>0</td>\n",
              "      <td>0</td>\n",
              "      <td>3</td>\n",
              "      <td>16</td>\n",
              "      <td>15</td>\n",
              "      <td>14</td>\n",
              "      <td>0</td>\n",
              "      <td>0</td>\n",
              "      <td>0</td>\n",
              "      <td>0</td>\n",
              "      <td>8</td>\n",
              "      <td>13</td>\n",
              "      <td>8</td>\n",
              "      <td>16</td>\n",
              "      <td>0</td>\n",
              "      <td>0</td>\n",
              "      <td>0</td>\n",
              "      <td>0</td>\n",
              "      <td>1</td>\n",
              "      <td>6</td>\n",
              "      <td>15</td>\n",
              "      <td>11</td>\n",
              "      <td>0</td>\n",
              "      <td>0</td>\n",
              "      <td>0</td>\n",
              "      <td>1</td>\n",
              "      <td>8</td>\n",
              "      <td>13</td>\n",
              "      <td>15</td>\n",
              "      <td>1</td>\n",
              "      <td>0</td>\n",
              "      <td>0</td>\n",
              "      <td>0</td>\n",
              "      <td>9</td>\n",
              "      <td>16</td>\n",
              "      <td>16</td>\n",
              "      <td>5</td>\n",
              "      <td>0</td>\n",
              "      <td>0</td>\n",
              "      <td>0</td>\n",
              "      <td>0</td>\n",
              "      <td>3</td>\n",
              "      <td>13</td>\n",
              "      <td>16</td>\n",
              "      <td>16</td>\n",
              "      <td>11</td>\n",
              "      <td>5</td>\n",
              "      <td>0</td>\n",
              "      <td>0</td>\n",
              "      <td>0</td>\n",
              "      <td>0</td>\n",
              "      <td>3</td>\n",
              "      <td>11</td>\n",
              "      <td>16</td>\n",
              "      <td>9</td>\n",
              "      <td>0</td>\n",
              "      <td>2</td>\n",
              "    </tr>\n",
              "    <tr>\n",
              "      <th>3</th>\n",
              "      <td>0</td>\n",
              "      <td>0</td>\n",
              "      <td>7</td>\n",
              "      <td>15</td>\n",
              "      <td>13</td>\n",
              "      <td>1</td>\n",
              "      <td>0</td>\n",
              "      <td>0</td>\n",
              "      <td>0</td>\n",
              "      <td>8</td>\n",
              "      <td>13</td>\n",
              "      <td>6</td>\n",
              "      <td>15</td>\n",
              "      <td>4</td>\n",
              "      <td>0</td>\n",
              "      <td>0</td>\n",
              "      <td>0</td>\n",
              "      <td>2</td>\n",
              "      <td>1</td>\n",
              "      <td>13</td>\n",
              "      <td>13</td>\n",
              "      <td>0</td>\n",
              "      <td>0</td>\n",
              "      <td>0</td>\n",
              "      <td>0</td>\n",
              "      <td>0</td>\n",
              "      <td>2</td>\n",
              "      <td>15</td>\n",
              "      <td>11</td>\n",
              "      <td>1</td>\n",
              "      <td>0</td>\n",
              "      <td>0</td>\n",
              "      <td>0</td>\n",
              "      <td>0</td>\n",
              "      <td>0</td>\n",
              "      <td>1</td>\n",
              "      <td>12</td>\n",
              "      <td>12</td>\n",
              "      <td>1</td>\n",
              "      <td>0</td>\n",
              "      <td>0</td>\n",
              "      <td>0</td>\n",
              "      <td>0</td>\n",
              "      <td>0</td>\n",
              "      <td>1</td>\n",
              "      <td>10</td>\n",
              "      <td>8</td>\n",
              "      <td>0</td>\n",
              "      <td>0</td>\n",
              "      <td>0</td>\n",
              "      <td>8</td>\n",
              "      <td>4</td>\n",
              "      <td>5</td>\n",
              "      <td>14</td>\n",
              "      <td>9</td>\n",
              "      <td>0</td>\n",
              "      <td>0</td>\n",
              "      <td>0</td>\n",
              "      <td>7</td>\n",
              "      <td>13</td>\n",
              "      <td>13</td>\n",
              "      <td>9</td>\n",
              "      <td>0</td>\n",
              "      <td>0</td>\n",
              "      <td>3</td>\n",
              "    </tr>\n",
              "    <tr>\n",
              "      <th>4</th>\n",
              "      <td>0</td>\n",
              "      <td>0</td>\n",
              "      <td>0</td>\n",
              "      <td>1</td>\n",
              "      <td>11</td>\n",
              "      <td>0</td>\n",
              "      <td>0</td>\n",
              "      <td>0</td>\n",
              "      <td>0</td>\n",
              "      <td>0</td>\n",
              "      <td>0</td>\n",
              "      <td>7</td>\n",
              "      <td>8</td>\n",
              "      <td>0</td>\n",
              "      <td>0</td>\n",
              "      <td>0</td>\n",
              "      <td>0</td>\n",
              "      <td>0</td>\n",
              "      <td>1</td>\n",
              "      <td>13</td>\n",
              "      <td>6</td>\n",
              "      <td>2</td>\n",
              "      <td>2</td>\n",
              "      <td>0</td>\n",
              "      <td>0</td>\n",
              "      <td>0</td>\n",
              "      <td>7</td>\n",
              "      <td>15</td>\n",
              "      <td>0</td>\n",
              "      <td>9</td>\n",
              "      <td>8</td>\n",
              "      <td>0</td>\n",
              "      <td>0</td>\n",
              "      <td>5</td>\n",
              "      <td>16</td>\n",
              "      <td>10</td>\n",
              "      <td>0</td>\n",
              "      <td>16</td>\n",
              "      <td>6</td>\n",
              "      <td>0</td>\n",
              "      <td>0</td>\n",
              "      <td>4</td>\n",
              "      <td>15</td>\n",
              "      <td>16</td>\n",
              "      <td>13</td>\n",
              "      <td>16</td>\n",
              "      <td>1</td>\n",
              "      <td>0</td>\n",
              "      <td>0</td>\n",
              "      <td>0</td>\n",
              "      <td>0</td>\n",
              "      <td>3</td>\n",
              "      <td>15</td>\n",
              "      <td>10</td>\n",
              "      <td>0</td>\n",
              "      <td>0</td>\n",
              "      <td>0</td>\n",
              "      <td>0</td>\n",
              "      <td>0</td>\n",
              "      <td>2</td>\n",
              "      <td>16</td>\n",
              "      <td>4</td>\n",
              "      <td>0</td>\n",
              "      <td>0</td>\n",
              "      <td>4</td>\n",
              "    </tr>\n",
              "  </tbody>\n",
              "</table>\n",
              "</div>\n",
              "      <button class=\"colab-df-convert\" onclick=\"convertToInteractive('df-c408b831-78ed-419f-9e5b-218f4de55434')\"\n",
              "              title=\"Convert this dataframe to an interactive table.\"\n",
              "              style=\"display:none;\">\n",
              "        \n",
              "  <svg xmlns=\"http://www.w3.org/2000/svg\" height=\"24px\"viewBox=\"0 0 24 24\"\n",
              "       width=\"24px\">\n",
              "    <path d=\"M0 0h24v24H0V0z\" fill=\"none\"/>\n",
              "    <path d=\"M18.56 5.44l.94 2.06.94-2.06 2.06-.94-2.06-.94-.94-2.06-.94 2.06-2.06.94zm-11 1L8.5 8.5l.94-2.06 2.06-.94-2.06-.94L8.5 2.5l-.94 2.06-2.06.94zm10 10l.94 2.06.94-2.06 2.06-.94-2.06-.94-.94-2.06-.94 2.06-2.06.94z\"/><path d=\"M17.41 7.96l-1.37-1.37c-.4-.4-.92-.59-1.43-.59-.52 0-1.04.2-1.43.59L10.3 9.45l-7.72 7.72c-.78.78-.78 2.05 0 2.83L4 21.41c.39.39.9.59 1.41.59.51 0 1.02-.2 1.41-.59l7.78-7.78 2.81-2.81c.8-.78.8-2.07 0-2.86zM5.41 20L4 18.59l7.72-7.72 1.47 1.35L5.41 20z\"/>\n",
              "  </svg>\n",
              "      </button>\n",
              "      \n",
              "  <style>\n",
              "    .colab-df-container {\n",
              "      display:flex;\n",
              "      flex-wrap:wrap;\n",
              "      gap: 12px;\n",
              "    }\n",
              "\n",
              "    .colab-df-convert {\n",
              "      background-color: #E8F0FE;\n",
              "      border: none;\n",
              "      border-radius: 50%;\n",
              "      cursor: pointer;\n",
              "      display: none;\n",
              "      fill: #1967D2;\n",
              "      height: 32px;\n",
              "      padding: 0 0 0 0;\n",
              "      width: 32px;\n",
              "    }\n",
              "\n",
              "    .colab-df-convert:hover {\n",
              "      background-color: #E2EBFA;\n",
              "      box-shadow: 0px 1px 2px rgba(60, 64, 67, 0.3), 0px 1px 3px 1px rgba(60, 64, 67, 0.15);\n",
              "      fill: #174EA6;\n",
              "    }\n",
              "\n",
              "    [theme=dark] .colab-df-convert {\n",
              "      background-color: #3B4455;\n",
              "      fill: #D2E3FC;\n",
              "    }\n",
              "\n",
              "    [theme=dark] .colab-df-convert:hover {\n",
              "      background-color: #434B5C;\n",
              "      box-shadow: 0px 1px 3px 1px rgba(0, 0, 0, 0.15);\n",
              "      filter: drop-shadow(0px 1px 2px rgba(0, 0, 0, 0.3));\n",
              "      fill: #FFFFFF;\n",
              "    }\n",
              "  </style>\n",
              "\n",
              "      <script>\n",
              "        const buttonEl =\n",
              "          document.querySelector('#df-c408b831-78ed-419f-9e5b-218f4de55434 button.colab-df-convert');\n",
              "        buttonEl.style.display =\n",
              "          google.colab.kernel.accessAllowed ? 'block' : 'none';\n",
              "\n",
              "        async function convertToInteractive(key) {\n",
              "          const element = document.querySelector('#df-c408b831-78ed-419f-9e5b-218f4de55434');\n",
              "          const dataTable =\n",
              "            await google.colab.kernel.invokeFunction('convertToInteractive',\n",
              "                                                     [key], {});\n",
              "          if (!dataTable) return;\n",
              "\n",
              "          const docLinkHtml = 'Like what you see? Visit the ' +\n",
              "            '<a target=\"_blank\" href=https://colab.research.google.com/notebooks/data_table.ipynb>data table notebook</a>'\n",
              "            + ' to learn more about interactive tables.';\n",
              "          element.innerHTML = '';\n",
              "          dataTable['output_type'] = 'display_data';\n",
              "          await google.colab.output.renderOutput(dataTable, element);\n",
              "          const docLink = document.createElement('div');\n",
              "          docLink.innerHTML = docLinkHtml;\n",
              "          element.appendChild(docLink);\n",
              "        }\n",
              "      </script>\n",
              "    </div>\n",
              "  </div>\n",
              "  "
            ],
            "text/plain": [
              "       0  1  2   3   4   5  6  7  8  ...  56  57  58  59  60  61  62  63  label\n",
              "index                                ...                                       \n",
              "0      0  0  5  13   9   1  0  0  0  ...   0   0   6  13  10   0   0   0      0\n",
              "1      0  0  0  12  13   5  0  0  0  ...   0   0   0  11  16  10   0   0      1\n",
              "2      0  0  0   4  15  12  0  0  0  ...   0   0   0   3  11  16   9   0      2\n",
              "3      0  0  7  15  13   1  0  0  0  ...   0   0   7  13  13   9   0   0      3\n",
              "4      0  0  0   1  11   0  0  0  0  ...   0   0   0   2  16   4   0   0      4\n",
              "\n",
              "[5 rows x 65 columns]"
            ]
          },
          "metadata": {},
          "execution_count": 7
        }
      ],
      "source": [
        "train.head()"
      ]
    },
    {
      "cell_type": "code",
      "execution_count": 8,
      "metadata": {
        "colab": {
          "base_uri": "https://localhost:8080/"
        },
        "id": "rzqgjmzExF_C",
        "outputId": "d785a870-9793-4132-b9bd-53e31c232f15"
      },
      "outputs": [
        {
          "output_type": "stream",
          "name": "stdout",
          "text": [
            "<class 'pandas.core.frame.DataFrame'>\n",
            "Int64Index: 1437 entries, 0 to 1796\n",
            "Data columns (total 65 columns):\n",
            " #   Column  Non-Null Count  Dtype\n",
            "---  ------  --------------  -----\n",
            " 0   0       1437 non-null   int64\n",
            " 1   1       1437 non-null   int64\n",
            " 2   2       1437 non-null   int64\n",
            " 3   3       1437 non-null   int64\n",
            " 4   4       1437 non-null   int64\n",
            " 5   5       1437 non-null   int64\n",
            " 6   6       1437 non-null   int64\n",
            " 7   7       1437 non-null   int64\n",
            " 8   8       1437 non-null   int64\n",
            " 9   9       1437 non-null   int64\n",
            " 10  10      1437 non-null   int64\n",
            " 11  11      1437 non-null   int64\n",
            " 12  12      1437 non-null   int64\n",
            " 13  13      1437 non-null   int64\n",
            " 14  14      1437 non-null   int64\n",
            " 15  15      1437 non-null   int64\n",
            " 16  16      1437 non-null   int64\n",
            " 17  17      1437 non-null   int64\n",
            " 18  18      1437 non-null   int64\n",
            " 19  19      1437 non-null   int64\n",
            " 20  20      1437 non-null   int64\n",
            " 21  21      1437 non-null   int64\n",
            " 22  22      1437 non-null   int64\n",
            " 23  23      1437 non-null   int64\n",
            " 24  24      1437 non-null   int64\n",
            " 25  25      1437 non-null   int64\n",
            " 26  26      1437 non-null   int64\n",
            " 27  27      1437 non-null   int64\n",
            " 28  28      1437 non-null   int64\n",
            " 29  29      1437 non-null   int64\n",
            " 30  30      1437 non-null   int64\n",
            " 31  31      1437 non-null   int64\n",
            " 32  32      1437 non-null   int64\n",
            " 33  33      1437 non-null   int64\n",
            " 34  34      1437 non-null   int64\n",
            " 35  35      1437 non-null   int64\n",
            " 36  36      1437 non-null   int64\n",
            " 37  37      1437 non-null   int64\n",
            " 38  38      1437 non-null   int64\n",
            " 39  39      1437 non-null   int64\n",
            " 40  40      1437 non-null   int64\n",
            " 41  41      1437 non-null   int64\n",
            " 42  42      1437 non-null   int64\n",
            " 43  43      1437 non-null   int64\n",
            " 44  44      1437 non-null   int64\n",
            " 45  45      1437 non-null   int64\n",
            " 46  46      1437 non-null   int64\n",
            " 47  47      1437 non-null   int64\n",
            " 48  48      1437 non-null   int64\n",
            " 49  49      1437 non-null   int64\n",
            " 50  50      1437 non-null   int64\n",
            " 51  51      1437 non-null   int64\n",
            " 52  52      1437 non-null   int64\n",
            " 53  53      1437 non-null   int64\n",
            " 54  54      1437 non-null   int64\n",
            " 55  55      1437 non-null   int64\n",
            " 56  56      1437 non-null   int64\n",
            " 57  57      1437 non-null   int64\n",
            " 58  58      1437 non-null   int64\n",
            " 59  59      1437 non-null   int64\n",
            " 60  60      1437 non-null   int64\n",
            " 61  61      1437 non-null   int64\n",
            " 62  62      1437 non-null   int64\n",
            " 63  63      1437 non-null   int64\n",
            " 64  label   1437 non-null   int64\n",
            "dtypes: int64(65)\n",
            "memory usage: 741.0 KB\n"
          ]
        }
      ],
      "source": [
        "train.info()"
      ]
    },
    {
      "cell_type": "code",
      "execution_count": 9,
      "metadata": {
        "colab": {
          "base_uri": "https://localhost:8080/"
        },
        "id": "kf5sGeG0x919",
        "outputId": "dbf91a3a-b249-4967-9c9b-8b760c1c6405"
      },
      "outputs": [
        {
          "output_type": "stream",
          "name": "stdout",
          "text": [
            "<class 'pandas.core.frame.DataFrame'>\n",
            "Int64Index: 360 entries, 23 to 1790\n",
            "Data columns (total 64 columns):\n",
            " #   Column  Non-Null Count  Dtype  \n",
            "---  ------  --------------  -----  \n",
            " 0   0       360 non-null    float64\n",
            " 1   1       360 non-null    float64\n",
            " 2   2       360 non-null    float64\n",
            " 3   3       360 non-null    float64\n",
            " 4   4       360 non-null    float64\n",
            " 5   5       360 non-null    float64\n",
            " 6   6       360 non-null    float64\n",
            " 7   7       360 non-null    float64\n",
            " 8   8       360 non-null    float64\n",
            " 9   9       360 non-null    float64\n",
            " 10  10      360 non-null    float64\n",
            " 11  11      360 non-null    float64\n",
            " 12  12      360 non-null    float64\n",
            " 13  13      360 non-null    float64\n",
            " 14  14      360 non-null    float64\n",
            " 15  15      360 non-null    float64\n",
            " 16  16      360 non-null    float64\n",
            " 17  17      360 non-null    float64\n",
            " 18  18      360 non-null    float64\n",
            " 19  19      360 non-null    float64\n",
            " 20  20      360 non-null    float64\n",
            " 21  21      360 non-null    float64\n",
            " 22  22      360 non-null    float64\n",
            " 23  23      360 non-null    float64\n",
            " 24  24      360 non-null    float64\n",
            " 25  25      360 non-null    float64\n",
            " 26  26      360 non-null    float64\n",
            " 27  27      360 non-null    float64\n",
            " 28  28      360 non-null    float64\n",
            " 29  29      360 non-null    float64\n",
            " 30  30      360 non-null    float64\n",
            " 31  31      360 non-null    float64\n",
            " 32  32      360 non-null    float64\n",
            " 33  33      360 non-null    float64\n",
            " 34  34      360 non-null    float64\n",
            " 35  35      360 non-null    float64\n",
            " 36  36      360 non-null    float64\n",
            " 37  37      360 non-null    float64\n",
            " 38  38      360 non-null    float64\n",
            " 39  39      360 non-null    float64\n",
            " 40  40      360 non-null    float64\n",
            " 41  41      360 non-null    float64\n",
            " 42  42      360 non-null    float64\n",
            " 43  43      360 non-null    float64\n",
            " 44  44      360 non-null    float64\n",
            " 45  45      360 non-null    float64\n",
            " 46  46      360 non-null    float64\n",
            " 47  47      360 non-null    float64\n",
            " 48  48      360 non-null    float64\n",
            " 49  49      360 non-null    float64\n",
            " 50  50      360 non-null    float64\n",
            " 51  51      360 non-null    float64\n",
            " 52  52      360 non-null    float64\n",
            " 53  53      360 non-null    float64\n",
            " 54  54      360 non-null    float64\n",
            " 55  55      360 non-null    float64\n",
            " 56  56      360 non-null    float64\n",
            " 57  57      360 non-null    float64\n",
            " 58  58      360 non-null    float64\n",
            " 59  59      360 non-null    float64\n",
            " 60  60      360 non-null    float64\n",
            " 61  61      360 non-null    float64\n",
            " 62  62      360 non-null    float64\n",
            " 63  63      360 non-null    float64\n",
            "dtypes: float64(64)\n",
            "memory usage: 182.8 KB\n"
          ]
        }
      ],
      "source": [
        "test.info()"
      ]
    },
    {
      "cell_type": "code",
      "execution_count": 10,
      "metadata": {
        "colab": {
          "base_uri": "https://localhost:8080/"
        },
        "id": "_11qLuX2ysFf",
        "outputId": "1e03258d-6310-46f1-8b29-a149c8998bc9"
      },
      "outputs": [
        {
          "output_type": "execute_result",
          "data": {
            "text/plain": [
              "Index(['0', '1', '2', '3', '4', '5', '6', '7', '8', '9', '10', '11', '12',\n",
              "       '13', '14', '15', '16', '17', '18', '19', '20', '21', '22', '23', '24',\n",
              "       '25', '26', '27', '28', '29', '30', '31', '32', '33', '34', '35', '36',\n",
              "       '37', '38', '39', '40', '41', '42', '43', '44', '45', '46', '47', '48',\n",
              "       '49', '50', '51', '52', '53', '54', '55', '56', '57', '58', '59', '60',\n",
              "       '61', '62', '63', 'label'],\n",
              "      dtype='object')"
            ]
          },
          "metadata": {},
          "execution_count": 10
        }
      ],
      "source": [
        "train.columns"
      ]
    },
    {
      "cell_type": "markdown",
      "metadata": {
        "id": "hGwaB4igzSY9"
      },
      "source": [
        "느낌이 뭔가 knn이 잘 될거 같은 느낌임..\n",
        "전처리를 할 수 있나..?"
      ]
    },
    {
      "cell_type": "code",
      "execution_count": null,
      "metadata": {
        "colab": {
          "background_save": true
        },
        "id": "FQSL5JzkzZN-",
        "outputId": "793d8efe-e47b-4531-8217-327657c84bd8"
      },
      "outputs": [
        {
          "data": {
            "text/plain": [
              "<matplotlib.axes._subplots.AxesSubplot at 0x7f149897e290>"
            ]
          },
          "execution_count": null,
          "metadata": {},
          "output_type": "execute_result"
        },
        {
          "data": {
            "image/png": "[encoded data removed]",
            "text/plain": [
              "<Figure size 432x288 with 1 Axes>"
            ]
          },
          "metadata": {},
          "output_type": "display_data"
        }
      ],
      "source": [
        "sns.histplot(train,x='1')"
      ]
    },
    {
      "cell_type": "code",
      "source": [
        "sns.histplot(train,x='3')"
      ],
      "metadata": {
        "colab": {
          "base_uri": "https://localhost:8080/",
          "height": 297
        },
        "id": "axqr3Rz3_UwU",
        "outputId": "f5f7c524-76f9-4eb5-df76-2f2af2c7a4d3"
      },
      "execution_count": 12,
      "outputs": [
        {
          "output_type": "execute_result",
          "data": {
            "text/plain": [
              "<matplotlib.axes._subplots.AxesSubplot at 0x7fcbf6a8ca90>"
            ]
          },
          "metadata": {},
          "execution_count": 12
        },
        {
          "output_type": "display_data",
          "data": {
            "image/png": "[encoded data removed]",
            "text/plain": [
              "<Figure size 432x288 with 1 Axes>"
            ]
          },
          "metadata": {
            "needs_background": "light"
          }
        }
      ]
    },
    {
      "cell_type": "code",
      "source": [
        "sns.histplot(train,x='4')"
      ],
      "metadata": {
        "colab": {
          "base_uri": "https://localhost:8080/",
          "height": 299
        },
        "id": "ANdP81kr_Uy7",
        "outputId": "638811b4-df58-416a-8947-d17d9154e9fa"
      },
      "execution_count": 13,
      "outputs": [
        {
          "output_type": "execute_result",
          "data": {
            "text/plain": [
              "<matplotlib.axes._subplots.AxesSubplot at 0x7fcbf5ebd810>"
            ]
          },
          "metadata": {},
          "execution_count": 13
        },
        {
          "output_type": "display_data",
          "data": {
            "image/png": "[encoded data removed]",
            "text/plain": [
              "<Figure size 432x288 with 1 Axes>"
            ]
          },
          "metadata": {
            "needs_background": "light"
          }
        }
      ]
    },
    {
      "cell_type": "markdown",
      "source": [
        "스케일링을 진행해야겠다. "
      ],
      "metadata": {
        "id": "cyg3etHH-tcX"
      }
    },
    {
      "cell_type": "code",
      "execution_count": 11,
      "metadata": {
        "id": "BfKGEse-zolC"
      },
      "outputs": [],
      "source": [
        "X_train=train.drop('label',axis=1)\n",
        "y_train=train['label']\n",
        "X_test=test"
      ]
    },
    {
      "cell_type": "code",
      "source": [
        "from sklearn.preprocessing import StandardScaler\n",
        "\n",
        "sc=StandardScaler()\n",
        "scaled_X_train=sc.fit_transform(X_train)\n",
        "scaled_X_test=sc.transform(X_test)\n"
      ],
      "metadata": {
        "id": "sObitQkC-5zE"
      },
      "execution_count": 15,
      "outputs": []
    },
    {
      "cell_type": "markdown",
      "source": [
        "## KNN"
      ],
      "metadata": {
        "id": "JykvzE_xAwsN"
      }
    },
    {
      "cell_type": "code",
      "source": [
        "from sklearn.neighbors import KNeighborsClassifier\n",
        "\n",
        "knn=KNeighborsClassifier()\n",
        "knn.fit(scaled_X_train,y_train)\n",
        "\n",
        "y_train_pred=knn.predict(scaled_X_train)\n",
        "y_test_pred=knn.predict(scaled_X_test)"
      ],
      "metadata": {
        "id": "vVr3OwuPAuQQ"
      },
      "execution_count": 26,
      "outputs": []
    },
    {
      "cell_type": "code",
      "source": [
        "from sklearn.metrics import accuracy_score\n",
        "\n",
        "print(accuracy_score(y_train,y_train_pred))"
      ],
      "metadata": {
        "colab": {
          "base_uri": "https://localhost:8080/"
        },
        "id": "FpX8A0oGA_25",
        "outputId": "70034c0f-f1d7-4fc3-f2c9-05aa360996f7"
      },
      "execution_count": 27,
      "outputs": [
        {
          "output_type": "stream",
          "name": "stdout",
          "text": [
            "0.9867780097425192\n"
          ]
        }
      ]
    },
    {
      "cell_type": "code",
      "source": [
        "knn_sample=sample.copy()\n",
        "knn_sample['label']=y_test_pred\n",
        "knn_sample.to_csv('knn.csv')"
      ],
      "metadata": {
        "id": "m7mRfnFECjAT"
      },
      "execution_count": 28,
      "outputs": []
    },
    {
      "cell_type": "markdown",
      "source": [
        "## 랜덤포레스트"
      ],
      "metadata": {
        "id": "7mp1jYWiBaPV"
      }
    },
    {
      "cell_type": "code",
      "source": [
        "from sklearn.ensemble import RandomForestClassifier\n",
        "\n",
        "rf_clf=RandomForestClassifier()\n",
        "rf_clf.fit(X_train,y_train)\n",
        "\n",
        "y_train_pred=rf_clf.predict(X_train)\n",
        "y_test_pred=rf_clf.predict(X_test)"
      ],
      "metadata": {
        "id": "j9GYfGnDBFeb"
      },
      "execution_count": 42,
      "outputs": []
    },
    {
      "cell_type": "code",
      "source": [
        "print(accuracy_score(y_train,y_train_pred))"
      ],
      "metadata": {
        "colab": {
          "base_uri": "https://localhost:8080/"
        },
        "id": "3kwuQ0kVCRVb",
        "outputId": "8a01f566-a4b8-4c38-e401-5be20a965a16"
      },
      "execution_count": 43,
      "outputs": [
        {
          "output_type": "stream",
          "name": "stdout",
          "text": [
            "1.0\n"
          ]
        }
      ]
    },
    {
      "cell_type": "code",
      "source": [
        "rf_sample=sample.copy()\n",
        "rf_sample['label']=y_test_pred\n",
        "rf_sample.to_csv('rf2.csv')"
      ],
      "metadata": {
        "id": "RPRV0kfrCtgt"
      },
      "execution_count": 44,
      "outputs": []
    },
    {
      "cell_type": "code",
      "source": [
        "rf_clf1=RandomForestClassifier(n_estimators=300,max_depth=10,min_samples_leaf=8,\n",
        "                               min_samples_split=8,random_state=0)\n",
        "rf_clf1.fit(scaled_X_train,y_train)\n",
        "\n",
        "y_train_pred=rf_clf1.predict(scaled_X_train)\n",
        "y_test_pred=rf_clf1.predict(scaled_X_test)"
      ],
      "metadata": {
        "id": "RIzAi1RuFqkJ"
      },
      "execution_count": 35,
      "outputs": []
    },
    {
      "cell_type": "code",
      "source": [
        "rf1_sample=sample.copy()\n",
        "rf1_sample['label']=y_test_pred\n",
        "rf1_sample.to_csv('rf1.csv')"
      ],
      "metadata": {
        "id": "HonRmht2Fxj9"
      },
      "execution_count": 37,
      "outputs": []
    },
    {
      "cell_type": "markdown",
      "source": [
        "## XGBoost"
      ],
      "metadata": {
        "id": "1JH-XCgzCZCZ"
      }
    },
    {
      "cell_type": "code",
      "source": [
        "from xgboost import XGBClassifier\n",
        "\n",
        "xgb_clf=XGBClassifier()\n",
        "xgb_clf.fit(scaled_X_train,y_train)\n",
        "\n",
        "y_train_pred=xgb_clf.predict(scaled_X_train)\n",
        "y_test_pred=xgb_clf.predict(scaled_X_test)"
      ],
      "metadata": {
        "id": "uto4kQ_0CYmJ"
      },
      "execution_count": 32,
      "outputs": []
    },
    {
      "cell_type": "code",
      "source": [
        "print(accuracy_score(y_train,y_train_pred))"
      ],
      "metadata": {
        "colab": {
          "base_uri": "https://localhost:8080/"
        },
        "id": "fT_cjlSwCTiM",
        "outputId": "d0406eeb-1a1b-46d7-805e-bdfd4330eee6"
      },
      "execution_count": 33,
      "outputs": [
        {
          "output_type": "stream",
          "name": "stdout",
          "text": [
            "1.0\n"
          ]
        }
      ]
    },
    {
      "cell_type": "code",
      "source": [
        "xgb_sample=sample.copy()\n",
        "xgb_sample['label']=y_test_pred\n",
        "xgb_sample.to_csv('xgb.csv')"
      ],
      "metadata": {
        "id": "0KxOM3fnDWS8"
      },
      "execution_count": 34,
      "outputs": []
    },
    {
      "cell_type": "code",
      "source": [
        "xgb_clf=XGBClassifier(n_estimators=400,learning_rate=0.1,max_depth=3)\n",
        "xgb_clf.fit(scaled_X_train,y_train)\n",
        "\n",
        "y_test_pred=xgb_clf.predict(scaled_X_test)"
      ],
      "metadata": {
        "id": "ZZBKl-iHGEtn"
      },
      "execution_count": 38,
      "outputs": []
    },
    {
      "cell_type": "code",
      "source": [
        "xgb1_sample=sample.copy()\n",
        "xgb1_sample['label']=y_test_pred\n",
        "xgb1_sample.to_csv('xgb1.csv')"
      ],
      "metadata": {
        "id": "nJLbnkowDi39"
      },
      "execution_count": 39,
      "outputs": []
    },
    {
      "cell_type": "code",
      "source": [
        "from xgboost import plot_importance\n",
        "import matplotlib.pyplot as plt\n",
        "%matplotlib inline\n",
        "\n",
        "fig,ax=plt.subplots(figsize=(10,12))\n",
        "#사이킷런 Wrapper 클래스를 입력해도 무방\n",
        "plot_importance(xgb_clf,ax=ax)"
      ],
      "metadata": {
        "colab": {
          "base_uri": "https://localhost:8080/",
          "height": 748
        },
        "id": "HIZfMPkAGhbM",
        "outputId": "33180f9d-f0a2-4eaa-ca00-c9449ed1b777"
      },
      "execution_count": 40,
      "outputs": [
        {
          "output_type": "execute_result",
          "data": {
            "text/plain": [
              "<matplotlib.axes._subplots.AxesSubplot at 0x7fcbe32e6dd0>"
            ]
          },
          "metadata": {},
          "execution_count": 40
        },
        {
          "output_type": "display_data",
          "data": {
            "image/png": "[encoded data removed]",
            "text/plain": [
              "<Figure size 720x864 with 1 Axes>"
            ]
          },
          "metadata": {
            "needs_background": "light"
          }
        }
      ]
    },
    {
      "cell_type": "code",
      "source": [
        "\n",
        "xgb_clf=XGBClassifier()\n",
        "xgb_clf.fit(X_train,y_train)\n",
        "\n",
        "y_train_pred=xgb_clf.predict(X_train)\n",
        "y_test_pred=xgb_clf.predict(X_test)"
      ],
      "metadata": {
        "id": "zX6u48sQGqq7"
      },
      "execution_count": 45,
      "outputs": []
    },
    {
      "cell_type": "code",
      "source": [
        "xgb_sample=sample.copy()\n",
        "xgb_sample['label']=y_test_pred\n",
        "xgb_sample.to_csv('xgb2.csv')"
      ],
      "metadata": {
        "id": "PulFgZBTHy4B"
      },
      "execution_count": 46,
      "outputs": []
    },
    {
      "cell_type": "markdown",
      "source": [
        "## 로지스틱 회귀"
      ],
      "metadata": {
        "id": "QWg0sS9lIq3g"
      }
    },
    {
      "cell_type": "code",
      "source": [
        "from sklearn.linear_model import LogisticRegression\n",
        "\n",
        "lr_clf=LogisticRegression()\n",
        "lr_clf.fit(scaled_X_train,y_train)\n",
        "\n",
        "train_pred=lr_clf.predict(scaled_X_train)\n",
        "test_pred=lr_clf.predict(scaled_X_test)\n",
        "\n",
        "print(accuracy_score(y_train,train_pred))"
      ],
      "metadata": {
        "colab": {
          "base_uri": "https://localhost:8080/"
        },
        "id": "NTCe2AvoH1vS",
        "outputId": "eeac3830-8c4d-46e8-91cc-71a78f8a9f95"
      },
      "execution_count": 53,
      "outputs": [
        {
          "output_type": "stream",
          "name": "stdout",
          "text": [
            "0.9986082115518441\n"
          ]
        }
      ]
    },
    {
      "cell_type": "code",
      "source": [
        "lr1_sample=sample.copy()\n",
        "lr1_sample['label']=test_pred\n",
        "lr1_sample.to_csv('lr1.csv')"
      ],
      "metadata": {
        "id": "b1rNeZX6K52p"
      },
      "execution_count": 54,
      "outputs": []
    },
    {
      "cell_type": "code",
      "source": [
        "from sklearn.model_selection import GridSearchCV\n",
        "\n",
        "params={\n",
        "    'penalty':['l1','l2'],\n",
        "    'C':[0.01,0.1,0.5,1]\n",
        "}\n",
        "\n",
        "grid_clf=GridSearchCV(lr_clf,param_grid=params,scoring='accuracy',cv=3)\n",
        "grid_clf.fit(scaled_X_train,y_train)\n",
        "print('최적의 하이퍼 파라미터:{0}, 최적 평균 정확도:{1:.3f}'.format(grid_clf.best_params_,grid_clf.best_score_))"
      ],
      "metadata": {
        "colab": {
          "base_uri": "https://localhost:8080/"
        },
        "id": "1tShLGdqJKF7",
        "outputId": "4e1df426-e04d-402a-fa27-0a3c68da47a5"
      },
      "execution_count": 50,
      "outputs": [
        {
          "output_type": "stream",
          "name": "stdout",
          "text": [
            "최적의 하이퍼 파라미터:{'C': 1, 'penalty': 'l2'}, 최적 평균 정확도:0.931\n"
          ]
        },
        {
          "output_type": "stream",
          "name": "stderr",
          "text": [
            "/usr/local/lib/python3.7/dist-packages/sklearn/model_selection/_validation.py:372: FitFailedWarning: \n",
            "12 fits failed out of a total of 24.\n",
            "The score on these train-test partitions for these parameters will be set to nan.\n",
            "If these failures are not expected, you can try to debug them by setting error_score='raise'.\n",
            "\n",
            "Below are more details about the failures:\n",
            "--------------------------------------------------------------------------------\n",
            "12 fits failed with the following error:\n",
            "Traceback (most recent call last):\n",
            "  File \"/usr/local/lib/python3.7/dist-packages/sklearn/model_selection/_validation.py\", line 680, in _fit_and_score\n",
            "    estimator.fit(X_train, y_train, **fit_params)\n",
            "  File \"/usr/local/lib/python3.7/dist-packages/sklearn/linear_model/_logistic.py\", line 1461, in fit\n",
            "    solver = _check_solver(self.solver, self.penalty, self.dual)\n",
            "  File \"/usr/local/lib/python3.7/dist-packages/sklearn/linear_model/_logistic.py\", line 449, in _check_solver\n",
            "    % (solver, penalty)\n",
            "ValueError: Solver lbfgs supports only 'l2' or 'none' penalties, got l1 penalty.\n",
            "\n",
            "  warnings.warn(some_fits_failed_message, FitFailedWarning)\n",
            "/usr/local/lib/python3.7/dist-packages/sklearn/model_selection/_search.py:972: UserWarning: One or more of the test scores are non-finite: [       nan 0.91092554        nan 0.927627          nan 0.92901879\n",
            "        nan 0.93110647]\n",
            "  category=UserWarning,\n"
          ]
        }
      ]
    },
    {
      "cell_type": "code",
      "source": [
        "lr_clf=LogisticRegression(C=1,penalty='l2')\n",
        "lr_clf.fit(scaled_X_train,y_train)\n",
        "\n",
        "train_pred=lr_clf.predict(scaled_X_train)\n",
        "test_pred=lr_clf.predict(scaled_X_test)\n",
        "\n",
        "print(accuracy_score(y_train,train_pred))"
      ],
      "metadata": {
        "colab": {
          "base_uri": "https://localhost:8080/"
        },
        "id": "vsinjrUXKaFU",
        "outputId": "8a3a0ddc-7791-4449-fb3a-3212fc4be79b"
      },
      "execution_count": 51,
      "outputs": [
        {
          "output_type": "stream",
          "name": "stdout",
          "text": [
            "0.9986082115518441\n"
          ]
        }
      ]
    },
    {
      "cell_type": "code",
      "source": [
        "lr_sample=sample.copy()\n",
        "lr_sample['label']=test_pred\n",
        "lr_sample.to_csv('lr.csv')"
      ],
      "metadata": {
        "id": "F5_WwCrVKh_b"
      },
      "execution_count": 52,
      "outputs": []
    },
    {
      "cell_type": "markdown",
      "source": [
        "![image.png](data:image/png;base64,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)"
      ],
      "metadata": {
        "id": "-eObOpDHLhhw"
      }
    },
    {
      "cell_type": "code",
      "source": [
        ""
      ],
      "metadata": {
        "id": "XCMWWbyjKqlY"
      },
      "execution_count": null,
      "outputs": []
    }
  ],
  "metadata": {
    "colab": {
      "name": "손글씨 숫자 인식",
      "provenance": [],
      "authorship_tag": "ABX9TyOS/rsYDSFHyZq5aGtM8Wts"
    },
    "kernelspec": {
      "display_name": "Python 3",
      "name": "python3"
    },
    "language_info": {
      "name": "python"
    }
  },
  "nbformat": 4,
  "nbformat_minor": 0
}