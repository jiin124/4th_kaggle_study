{
  "nbformat": 4,
  "nbformat_minor": 0,
  "metadata": {
    "colab": {
      "name": "기상데이터 이용 태양광 발전량 예측",
      "provenance": [],
      "authorship_tag": "ABX9TyOp/gUHjjU8G/fmA9lbQgUP",
      "include_colab_link": true
    },
    "kernelspec": {
      "name": "python3",
      "display_name": "Python 3"
    },
    "language_info": {
      "name": "python"
    }
  },
  "cells": [
    {
      "cell_type": "markdown",
      "metadata": {
        "id": "view-in-github",
        "colab_type": "text"
      },
      "source": [
        "<a href=\"https://colab.research.google.com/github/jiin124/4th_kaggle_study/blob/main/3%EC%A3%BC%EC%B0%A8/%EA%B8%B0%EC%83%81%EB%8D%B0%EC%9D%B4%ED%84%B0_%EC%9D%B4%EC%9A%A9_%ED%83%9C%EC%96%91%EA%B4%91_%EB%B0%9C%EC%A0%84%EB%9F%89_%EC%98%88%EC%B8%A1.ipynb\" target=\"_parent\"><img src=\"https://colab.research.google.com/assets/colab-badge.svg\" alt=\"Open In Colab\"/></a>"
      ]
    },
    {
      "cell_type": "markdown",
      "source": [
        "해당 데이터셋은 기상데이터를 이용하여 태양광 발전량을 예측하기 위한 데이터셋입니다. 날짜, 시간, 날씨 정보로 구성되어있으며, 이를 이용하여 태양광 발전량을 예측 할 수 있습니다.\n",
        "- Hour - 시간\n",
        "- Minute - 분\n",
        "- DHI - 수평면 산란일사량(Diffuse Horizontal Irradiance (W/m2))\n",
        "- DNI - 직달일사량(Direct Normal Irradiance (W/m2))\n",
        "- WS - 풍속(Wind Speed (m/s))\n",
        "- RH - 상대습도(Relative Humidity (%))\n",
        "- T - 기온(Temperature (Degree C))\n",
        "- Target - 태양광 발전량 (kW)"
      ],
      "metadata": {
        "id": "ciPwyPHrGRH6"
      }
    },
    {
      "cell_type": "code",
      "execution_count": 1,
      "metadata": {
        "id": "O46IPu1vF3y1"
      },
      "outputs": [],
      "source": [
        "import pandas as pd\n",
        "import numpy as np\n",
        "import matplotlib.pyplot as plt\n",
        "import seaborn as sns\n",
        "import os"
      ]
    },
    {
      "cell_type": "code",
      "source": [
        "os.environ['KAGGLE_USERNAME']='jiinpp'\n",
        "os.environ['KAGGLE_KEY']=\"b06d525a9f66198051ccb648b091778a\""
      ],
      "metadata": {
        "id": "m2jTJgBdF54M"
      },
      "execution_count": 2,
      "outputs": []
    },
    {
      "cell_type": "code",
      "source": [
        "!kaggle competitions download -c 2021-ml-p1"
      ],
      "metadata": {
        "colab": {
          "base_uri": "https://localhost:8080/"
        },
        "id": "Go3yKUmbF-vj",
        "outputId": "c2482262-c733-40cc-a8b8-6edf05b26558"
      },
      "execution_count": 3,
      "outputs": [
        {
          "output_type": "stream",
          "name": "stdout",
          "text": [
            "Warning: Looks like you're using an outdated API Version, please consider updating (server 1.5.12 / client 1.5.4)\n",
            "Downloading sample_submission.csv to /content\n",
            "  0% 0.00/6.74k [00:00<?, ?B/s]\n",
            "100% 6.74k/6.74k [00:00<00:00, 11.6MB/s]\n",
            "Downloading X_test.csv to /content\n",
            "  0% 0.00/26.1k [00:00<?, ?B/s]\n",
            "100% 26.1k/26.1k [00:00<00:00, 26.5MB/s]\n",
            "Downloading data.csv to /content\n",
            "  0% 0.00/302k [00:00<?, ?B/s]\n",
            "100% 302k/302k [00:00<00:00, 87.7MB/s]\n"
          ]
        }
      ]
    },
    {
      "cell_type": "code",
      "source": [
        "train=pd.read_csv('data.csv')\n",
        "test=pd.read_csv('X_test.csv')\n",
        "sample=pd.read_csv('sample_submission.csv')\n"
      ],
      "metadata": {
        "id": "OaL6u2POF_pn"
      },
      "execution_count": 6,
      "outputs": []
    },
    {
      "cell_type": "code",
      "source": [
        "train.info()"
      ],
      "metadata": {
        "colab": {
          "base_uri": "https://localhost:8080/"
        },
        "id": "c04NEGxgGFS3",
        "outputId": "23f2dbfe-d8ab-41a1-aa49-9bea9cffec18"
      },
      "execution_count": 7,
      "outputs": [
        {
          "output_type": "stream",
          "name": "stdout",
          "text": [
            "<class 'pandas.core.frame.DataFrame'>\n",
            "RangeIndex: 9000 entries, 0 to 8999\n",
            "Data columns (total 9 columns):\n",
            " #   Column  Non-Null Count  Dtype  \n",
            "---  ------  --------------  -----  \n",
            " 0   Day     9000 non-null   int64  \n",
            " 1   Hour    9000 non-null   int64  \n",
            " 2   Minute  9000 non-null   int64  \n",
            " 3   DHI     9000 non-null   int64  \n",
            " 4   DNI     9000 non-null   int64  \n",
            " 5   WS      9000 non-null   float64\n",
            " 6   RH      9000 non-null   float64\n",
            " 7   T       9000 non-null   int64  \n",
            " 8   TARGET  9000 non-null   float64\n",
            "dtypes: float64(3), int64(6)\n",
            "memory usage: 632.9 KB\n"
          ]
        }
      ]
    },
    {
      "cell_type": "code",
      "source": [
        "train.head()"
      ],
      "metadata": {
        "colab": {
          "base_uri": "https://localhost:8080/",
          "height": 206
        },
        "id": "JC1wv7d_G1bl",
        "outputId": "51c61bc9-61b7-4d60-eff0-14a0805d57aa"
      },
      "execution_count": 8,
      "outputs": [
        {
          "output_type": "execute_result",
          "data": {
            "text/html": [
              "\n",
              "  <div id=\"df-5490e504-f7b6-4c17-b59f-887cf772ed37\">\n",
              "    <div class=\"colab-df-container\">\n",
              "      <div>\n",
              "<style scoped>\n",
              "    .dataframe tbody tr th:only-of-type {\n",
              "        vertical-align: middle;\n",
              "    }\n",
              "\n",
              "    .dataframe tbody tr th {\n",
              "        vertical-align: top;\n",
              "    }\n",
              "\n",
              "    .dataframe thead th {\n",
              "        text-align: right;\n",
              "    }\n",
              "</style>\n",
              "<table border=\"1\" class=\"dataframe\">\n",
              "  <thead>\n",
              "    <tr style=\"text-align: right;\">\n",
              "      <th></th>\n",
              "      <th>Day</th>\n",
              "      <th>Hour</th>\n",
              "      <th>Minute</th>\n",
              "      <th>DHI</th>\n",
              "      <th>DNI</th>\n",
              "      <th>WS</th>\n",
              "      <th>RH</th>\n",
              "      <th>T</th>\n",
              "      <th>TARGET</th>\n",
              "    </tr>\n",
              "  </thead>\n",
              "  <tbody>\n",
              "    <tr>\n",
              "      <th>0</th>\n",
              "      <td>102</td>\n",
              "      <td>0</td>\n",
              "      <td>0</td>\n",
              "      <td>0</td>\n",
              "      <td>0</td>\n",
              "      <td>1.4</td>\n",
              "      <td>57.76</td>\n",
              "      <td>0</td>\n",
              "      <td>0.000000</td>\n",
              "    </tr>\n",
              "    <tr>\n",
              "      <th>1</th>\n",
              "      <td>99</td>\n",
              "      <td>15</td>\n",
              "      <td>0</td>\n",
              "      <td>222</td>\n",
              "      <td>18</td>\n",
              "      <td>1.3</td>\n",
              "      <td>26.82</td>\n",
              "      <td>13</td>\n",
              "      <td>21.957266</td>\n",
              "    </tr>\n",
              "    <tr>\n",
              "      <th>2</th>\n",
              "      <td>31</td>\n",
              "      <td>4</td>\n",
              "      <td>0</td>\n",
              "      <td>0</td>\n",
              "      <td>0</td>\n",
              "      <td>2.6</td>\n",
              "      <td>84.94</td>\n",
              "      <td>-6</td>\n",
              "      <td>0.000000</td>\n",
              "    </tr>\n",
              "    <tr>\n",
              "      <th>3</th>\n",
              "      <td>40</td>\n",
              "      <td>18</td>\n",
              "      <td>30</td>\n",
              "      <td>0</td>\n",
              "      <td>0</td>\n",
              "      <td>1.5</td>\n",
              "      <td>89.18</td>\n",
              "      <td>2</td>\n",
              "      <td>0.000000</td>\n",
              "    </tr>\n",
              "    <tr>\n",
              "      <th>4</th>\n",
              "      <td>191</td>\n",
              "      <td>1</td>\n",
              "      <td>30</td>\n",
              "      <td>0</td>\n",
              "      <td>0</td>\n",
              "      <td>2.4</td>\n",
              "      <td>84.35</td>\n",
              "      <td>12</td>\n",
              "      <td>0.000000</td>\n",
              "    </tr>\n",
              "  </tbody>\n",
              "</table>\n",
              "</div>\n",
              "      <button class=\"colab-df-convert\" onclick=\"convertToInteractive('df-5490e504-f7b6-4c17-b59f-887cf772ed37')\"\n",
              "              title=\"Convert this dataframe to an interactive table.\"\n",
              "              style=\"display:none;\">\n",
              "        \n",
              "  <svg xmlns=\"http://www.w3.org/2000/svg\" height=\"24px\"viewBox=\"0 0 24 24\"\n",
              "       width=\"24px\">\n",
              "    <path d=\"M0 0h24v24H0V0z\" fill=\"none\"/>\n",
              "    <path d=\"M18.56 5.44l.94 2.06.94-2.06 2.06-.94-2.06-.94-.94-2.06-.94 2.06-2.06.94zm-11 1L8.5 8.5l.94-2.06 2.06-.94-2.06-.94L8.5 2.5l-.94 2.06-2.06.94zm10 10l.94 2.06.94-2.06 2.06-.94-2.06-.94-.94-2.06-.94 2.06-2.06.94z\"/><path d=\"M17.41 7.96l-1.37-1.37c-.4-.4-.92-.59-1.43-.59-.52 0-1.04.2-1.43.59L10.3 9.45l-7.72 7.72c-.78.78-.78 2.05 0 2.83L4 21.41c.39.39.9.59 1.41.59.51 0 1.02-.2 1.41-.59l7.78-7.78 2.81-2.81c.8-.78.8-2.07 0-2.86zM5.41 20L4 18.59l7.72-7.72 1.47 1.35L5.41 20z\"/>\n",
              "  </svg>\n",
              "      </button>\n",
              "      \n",
              "  <style>\n",
              "    .colab-df-container {\n",
              "      display:flex;\n",
              "      flex-wrap:wrap;\n",
              "      gap: 12px;\n",
              "    }\n",
              "\n",
              "    .colab-df-convert {\n",
              "      background-color: #E8F0FE;\n",
              "      border: none;\n",
              "      border-radius: 50%;\n",
              "      cursor: pointer;\n",
              "      display: none;\n",
              "      fill: #1967D2;\n",
              "      height: 32px;\n",
              "      padding: 0 0 0 0;\n",
              "      width: 32px;\n",
              "    }\n",
              "\n",
              "    .colab-df-convert:hover {\n",
              "      background-color: #E2EBFA;\n",
              "      box-shadow: 0px 1px 2px rgba(60, 64, 67, 0.3), 0px 1px 3px 1px rgba(60, 64, 67, 0.15);\n",
              "      fill: #174EA6;\n",
              "    }\n",
              "\n",
              "    [theme=dark] .colab-df-convert {\n",
              "      background-color: #3B4455;\n",
              "      fill: #D2E3FC;\n",
              "    }\n",
              "\n",
              "    [theme=dark] .colab-df-convert:hover {\n",
              "      background-color: #434B5C;\n",
              "      box-shadow: 0px 1px 3px 1px rgba(0, 0, 0, 0.15);\n",
              "      filter: drop-shadow(0px 1px 2px rgba(0, 0, 0, 0.3));\n",
              "      fill: #FFFFFF;\n",
              "    }\n",
              "  </style>\n",
              "\n",
              "      <script>\n",
              "        const buttonEl =\n",
              "          document.querySelector('#df-5490e504-f7b6-4c17-b59f-887cf772ed37 button.colab-df-convert');\n",
              "        buttonEl.style.display =\n",
              "          google.colab.kernel.accessAllowed ? 'block' : 'none';\n",
              "\n",
              "        async function convertToInteractive(key) {\n",
              "          const element = document.querySelector('#df-5490e504-f7b6-4c17-b59f-887cf772ed37');\n",
              "          const dataTable =\n",
              "            await google.colab.kernel.invokeFunction('convertToInteractive',\n",
              "                                                     [key], {});\n",
              "          if (!dataTable) return;\n",
              "\n",
              "          const docLinkHtml = 'Like what you see? Visit the ' +\n",
              "            '<a target=\"_blank\" href=https://colab.research.google.com/notebooks/data_table.ipynb>data table notebook</a>'\n",
              "            + ' to learn more about interactive tables.';\n",
              "          element.innerHTML = '';\n",
              "          dataTable['output_type'] = 'display_data';\n",
              "          await google.colab.output.renderOutput(dataTable, element);\n",
              "          const docLink = document.createElement('div');\n",
              "          docLink.innerHTML = docLinkHtml;\n",
              "          element.appendChild(docLink);\n",
              "        }\n",
              "      </script>\n",
              "    </div>\n",
              "  </div>\n",
              "  "
            ],
            "text/plain": [
              "   Day  Hour  Minute  DHI  DNI   WS     RH   T     TARGET\n",
              "0  102     0       0    0    0  1.4  57.76   0   0.000000\n",
              "1   99    15       0  222   18  1.3  26.82  13  21.957266\n",
              "2   31     4       0    0    0  2.6  84.94  -6   0.000000\n",
              "3   40    18      30    0    0  1.5  89.18   2   0.000000\n",
              "4  191     1      30    0    0  2.4  84.35  12   0.000000"
            ]
          },
          "metadata": {},
          "execution_count": 8
        }
      ]
    },
    {
      "cell_type": "code",
      "source": [
        "train.columns"
      ],
      "metadata": {
        "colab": {
          "base_uri": "https://localhost:8080/"
        },
        "id": "h3xRkDwIG6_A",
        "outputId": "f70af662-afa7-4dc8-fb4b-fd4fe8a94072"
      },
      "execution_count": 9,
      "outputs": [
        {
          "output_type": "execute_result",
          "data": {
            "text/plain": [
              "Index(['Day', 'Hour', 'Minute', 'DHI', 'DNI', 'WS', 'RH', 'T', 'TARGET'], dtype='object')"
            ]
          },
          "metadata": {},
          "execution_count": 9
        }
      ]
    },
    {
      "cell_type": "code",
      "source": [
        "sns.histplot(train,x='Day')"
      ],
      "metadata": {
        "colab": {
          "base_uri": "https://localhost:8080/",
          "height": 297
        },
        "id": "FbnmPLCOG9xm",
        "outputId": "653dd156-86cd-45be-ce51-dd113e21c157"
      },
      "execution_count": 18,
      "outputs": [
        {
          "output_type": "execute_result",
          "data": {
            "text/plain": [
              "<matplotlib.axes._subplots.AxesSubplot at 0x7ff70fb6e490>"
            ]
          },
          "metadata": {},
          "execution_count": 18
        },
        {
          "output_type": "display_data",
          "data": {
            "image/png": "[encoded data removed]",
            "text/plain": [
              "<Figure size 432x288 with 1 Axes>"
            ]
          },
          "metadata": {
            "needs_background": "light"
          }
        }
      ]
    },
    {
      "cell_type": "code",
      "source": [
        "sns.histplot(train,x='Hour')"
      ],
      "metadata": {
        "colab": {
          "base_uri": "https://localhost:8080/",
          "height": 297
        },
        "id": "a9jOfLAfHBTK",
        "outputId": "e7230e4d-dc06-4344-9c6b-cd26699f9608"
      },
      "execution_count": 11,
      "outputs": [
        {
          "output_type": "execute_result",
          "data": {
            "text/plain": [
              "<matplotlib.axes._subplots.AxesSubplot at 0x7ff7149685d0>"
            ]
          },
          "metadata": {},
          "execution_count": 11
        },
        {
          "output_type": "display_data",
          "data": {
            "image/png": "[encoded data removed]",
            "text/plain": [
              "<Figure size 432x288 with 1 Axes>"
            ]
          },
          "metadata": {
            "needs_background": "light"
          }
        }
      ]
    },
    {
      "cell_type": "code",
      "source": [
        "train['Minute'].value_counts()"
      ],
      "metadata": {
        "colab": {
          "base_uri": "https://localhost:8080/"
        },
        "id": "ILDOseBqHJbd",
        "outputId": "96161bac-2217-4a89-b527-dfc4515e0669"
      },
      "execution_count": 13,
      "outputs": [
        {
          "output_type": "execute_result",
          "data": {
            "text/plain": [
              "0     4505\n",
              "30    4495\n",
              "Name: Minute, dtype: int64"
            ]
          },
          "metadata": {},
          "execution_count": 13
        }
      ]
    },
    {
      "cell_type": "code",
      "source": [
        "sns.histplot(train,x='DHI')"
      ],
      "metadata": {
        "colab": {
          "base_uri": "https://localhost:8080/",
          "height": 297
        },
        "id": "JJ52xkzaHabx",
        "outputId": "b139f65c-c287-4941-ef15-05ed6cc75586"
      },
      "execution_count": 14,
      "outputs": [
        {
          "output_type": "execute_result",
          "data": {
            "text/plain": [
              "<matplotlib.axes._subplots.AxesSubplot at 0x7ff70ff04fd0>"
            ]
          },
          "metadata": {},
          "execution_count": 14
        },
        {
          "output_type": "display_data",
          "data": {
            "image/png": "[encoded data removed]",
            "text/plain": [
              "<Figure size 432x288 with 1 Axes>"
            ]
          },
          "metadata": {
            "needs_background": "light"
          }
        }
      ]
    },
    {
      "cell_type": "code",
      "source": [
        "sns.histplot(train,x='DNI')"
      ],
      "metadata": {
        "colab": {
          "base_uri": "https://localhost:8080/",
          "height": 297
        },
        "id": "f-oPXsJfHkAy",
        "outputId": "51f6f600-4064-4ad1-f4c3-70783cc5de20"
      },
      "execution_count": 15,
      "outputs": [
        {
          "output_type": "execute_result",
          "data": {
            "text/plain": [
              "<matplotlib.axes._subplots.AxesSubplot at 0x7ff70fde6a10>"
            ]
          },
          "metadata": {},
          "execution_count": 15
        },
        {
          "output_type": "display_data",
          "data": {
            "image/png": "[encoded data removed]",
            "text/plain": [
              "<Figure size 432x288 with 1 Axes>"
            ]
          },
          "metadata": {
            "needs_background": "light"
          }
        }
      ]
    },
    {
      "cell_type": "code",
      "source": [
        "sns.histplot(train,x='WS')"
      ],
      "metadata": {
        "colab": {
          "base_uri": "https://localhost:8080/",
          "height": 297
        },
        "id": "QyZn3_xZHmfv",
        "outputId": "943fa748-2eb8-43f4-beef-9ebf02bc6d02"
      },
      "execution_count": 16,
      "outputs": [
        {
          "output_type": "execute_result",
          "data": {
            "text/plain": [
              "<matplotlib.axes._subplots.AxesSubplot at 0x7ff70fce4e90>"
            ]
          },
          "metadata": {},
          "execution_count": 16
        },
        {
          "output_type": "display_data",
          "data": {
            "image/png": "[encoded data removed]",
            "text/plain": [
              "<Figure size 432x288 with 1 Axes>"
            ]
          },
          "metadata": {
            "needs_background": "light"
          }
        }
      ]
    },
    {
      "cell_type": "code",
      "source": [
        "sns.histplot(train,x='RH')"
      ],
      "metadata": {
        "colab": {
          "base_uri": "https://localhost:8080/",
          "height": 297
        },
        "id": "FroNYwM1HpjP",
        "outputId": "cbc76127-312e-458b-a152-ac4a3c41cd58"
      },
      "execution_count": 19,
      "outputs": [
        {
          "output_type": "execute_result",
          "data": {
            "text/plain": [
              "<matplotlib.axes._subplots.AxesSubplot at 0x7ff70fac8050>"
            ]
          },
          "metadata": {},
          "execution_count": 19
        },
        {
          "output_type": "display_data",
          "data": {
            "image/png": "[encoded data removed]",
            "text/plain": [
              "<Figure size 432x288 with 1 Axes>"
            ]
          },
          "metadata": {
            "needs_background": "light"
          }
        }
      ]
    },
    {
      "cell_type": "code",
      "source": [
        "sns.histplot(train,x='T')"
      ],
      "metadata": {
        "colab": {
          "base_uri": "https://localhost:8080/",
          "height": 297
        },
        "id": "LDt6MZGoH1aY",
        "outputId": "344ba4d1-801f-417d-a23c-8d9469ed00fa"
      },
      "execution_count": 20,
      "outputs": [
        {
          "output_type": "execute_result",
          "data": {
            "text/plain": [
              "<matplotlib.axes._subplots.AxesSubplot at 0x7ff70e2241d0>"
            ]
          },
          "metadata": {},
          "execution_count": 20
        },
        {
          "output_type": "display_data",
          "data": {
            "image/png": "[encoded data removed]",
            "text/plain": [
              "<Figure size 432x288 with 1 Axes>"
            ]
          },
          "metadata": {
            "needs_background": "light"
          }
        }
      ]
    },
    {
      "cell_type": "code",
      "source": [
        "plt.figure(figsize=(8,8))\n",
        "sns.heatmap(train.corr(),annot=True)"
      ],
      "metadata": {
        "colab": {
          "base_uri": "https://localhost:8080/",
          "height": 505
        },
        "id": "EQ7VWS81H61X",
        "outputId": "c1398fac-b297-4227-f4a1-856583578ccf"
      },
      "execution_count": 25,
      "outputs": [
        {
          "output_type": "execute_result",
          "data": {
            "text/plain": [
              "<matplotlib.axes._subplots.AxesSubplot at 0x7ff70525e610>"
            ]
          },
          "metadata": {},
          "execution_count": 25
        },
        {
          "output_type": "display_data",
          "data": {
            "image/png": "[encoded data removed]",
            "text/plain": [
              "<Figure size 576x576 with 2 Axes>"
            ]
          },
          "metadata": {
            "needs_background": "light"
          }
        }
      ]
    },
    {
      "cell_type": "code",
      "source": [
        "X_train=train.drop('TARGET',axis=1)\n",
        "y_train=train['TARGET']\n",
        "X_test=test"
      ],
      "metadata": {
        "id": "8tAfIvg8KqY6"
      },
      "execution_count": 26,
      "outputs": []
    },
    {
      "cell_type": "code",
      "source": [
        "from sklearn.preprocessing import StandardScaler\n",
        "\n",
        "sc=StandardScaler()\n",
        "X_train=sc.fit_transform(X_train)\n",
        "X_test=sc.transform(X_test)"
      ],
      "metadata": {
        "id": "cz1HvoVzH_vh"
      },
      "execution_count": 27,
      "outputs": []
    },
    {
      "cell_type": "code",
      "source": [
        "from sklearn.ensemble import RandomForestRegressor\n",
        "from sklearn.model_selection import cross_val_score\n",
        "\n",
        "rf=RandomForestRegressor(random_state=0,n_estimators=1000)\n",
        "neg_mse_scores=cross_val_score(rf,X_train,y_train,scoring='neg_mean_squared_error',cv=5)\n",
        "rmse_scores=np.sqrt(-1*neg_mse_scores)\n",
        "avg_rmse=np.mean(rmse_scores)\n",
        "\n",
        "print('5개의 교차 검증의 개별 Negative MSE scores :',np.round(neg_mse_scores,2))\n",
        "print('5 교차 검증의 개별 RMSE scores:',np.round(rmse_scores,2))\n",
        "print('5 교차 검증의 평균 RMSE :{0:.3f}'.format(avg_rmse))"
      ],
      "metadata": {
        "colab": {
          "base_uri": "https://localhost:8080/"
        },
        "id": "dffpA0x1K5iO",
        "outputId": "28151816-0e07-401d-d0ac-e893dbe9f7a5"
      },
      "execution_count": 32,
      "outputs": [
        {
          "output_type": "stream",
          "name": "stdout",
          "text": [
            "5개의 교차 검증의 개별 Negative MSE scores : [-1.43 -1.03 -0.97 -1.04 -0.95]\n",
            "5 교차 검증의 개별 RMSE scores: [1.2  1.01 0.98 1.02 0.97]\n",
            "5 교차 검증의 평균 RMSE :1.038\n"
          ]
        }
      ]
    },
    {
      "cell_type": "code",
      "source": [
        "rf=RandomForestRegressor(random_state=0,n_estimators=1000)\n",
        "rf.fit(X_train,y_train)\n"
      ],
      "metadata": {
        "colab": {
          "base_uri": "https://localhost:8080/"
        },
        "id": "jxKBeRybTm5i",
        "outputId": "250fc4a5-59c7-4a14-e74e-fe1885bd79de"
      },
      "execution_count": 44,
      "outputs": [
        {
          "output_type": "execute_result",
          "data": {
            "text/plain": [
              "RandomForestRegressor(n_estimators=1000, random_state=0)"
            ]
          },
          "metadata": {},
          "execution_count": 44
        }
      ]
    },
    {
      "cell_type": "code",
      "source": [
        "y_pred=rf.predict(X_test)\n",
        "sample['TARGET']=y_pred\n",
        "sample.to_csv('rf.csv',mode='w',header=True,index=False)"
      ],
      "metadata": {
        "id": "24qZwchzSx4q"
      },
      "execution_count": 45,
      "outputs": []
    },
    {
      "cell_type": "code",
      "source": [
        "col=['Day', 'Hour', 'Minute', 'DHI', 'DNI', 'WS', 'RH', 'T']"
      ],
      "metadata": {
        "id": "aZ6Rt_QzRCjN"
      },
      "execution_count": 40,
      "outputs": []
    },
    {
      "cell_type": "code",
      "source": [
        "import seaborn as sns\n",
        "%matplotlib inline\n",
        "\n",
        "rf_reg=RandomForestRegressor(n_estimators=1000)\n",
        "\n",
        "#앞 예제에서 만들어진 X_data,y_target 데이터 세트를 적용해 학습\n",
        "rf_reg.fit(X_train,y_train)\n",
        "\n",
        "feature_series=pd.Series(data=rf_reg.feature_importances_,index=col)\n",
        "feature_series=feature_series.sort_values(ascending=False)\n",
        "sns.barplot(x=feature_series,y=feature_series.index)"
      ],
      "metadata": {
        "colab": {
          "base_uri": "https://localhost:8080/",
          "height": 283
        },
        "id": "RDO0fRdcK6pR",
        "outputId": "d95f4ff6-eebb-45de-8532-d4c9716c10df"
      },
      "execution_count": 41,
      "outputs": [
        {
          "output_type": "execute_result",
          "data": {
            "text/plain": [
              "<matplotlib.axes._subplots.AxesSubplot at 0x7ff7030ff2d0>"
            ]
          },
          "metadata": {},
          "execution_count": 41
        },
        {
          "output_type": "display_data",
          "data": {
            "image/png": "[encoded data removed]",
            "text/plain": [
              "<Figure size 432x288 with 1 Axes>"
            ]
          },
          "metadata": {
            "needs_background": "light"
          }
        }
      ]
    },
    {
      "cell_type": "markdown",
      "source": [
        "![image.png](data:image/png;base64,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)"
      ],
      "metadata": {
        "id": "9PAYQc3bVUzu"
      }
    },
    {
      "cell_type": "code",
      "source": [
        ""
      ],
      "metadata": {
        "id": "c6VrYTUMQRkE"
      },
      "execution_count": null,
      "outputs": []
    }
  ]
}