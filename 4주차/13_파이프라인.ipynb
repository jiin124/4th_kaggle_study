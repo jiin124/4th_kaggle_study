{
  "nbformat": 4,
  "nbformat_minor": 0,
  "metadata": {
    "colab": {
      "name": "13_파이프라인.ipynb",
      "provenance": [],
      "authorship_tag": "ABX9TyMAFzCtpM9miV9siBKGHR7J",
      "include_colab_link": true
    },
    "kernelspec": {
      "name": "python3",
      "display_name": "Python 3"
    },
    "language_info": {
      "name": "python"
    }
  },
  "cells": [
    {
      "cell_type": "markdown",
      "metadata": {
        "id": "view-in-github",
        "colab_type": "text"
      },
      "source": [
        "<a href=\"https://colab.research.google.com/github/jiin124/4th_kaggle_study/blob/main/4%EC%A3%BC%EC%B0%A8/13_%ED%8C%8C%EC%9D%B4%ED%94%84%EB%9D%BC%EC%9D%B8.ipynb\" target=\"_parent\"><img src=\"https://colab.research.google.com/assets/colab-badge.svg\" alt=\"Open In Colab\"/></a>"
      ]
    },
    {
      "cell_type": "markdown",
      "source": [
        "# 1. 파이프라인"
      ],
      "metadata": {
        "id": "niwfmqAvSg10"
      }
    },
    {
      "cell_type": "code",
      "execution_count": 1,
      "metadata": {
        "id": "OAwGPW7T06Xw"
      },
      "outputs": [],
      "source": [
        "from sklearn.datasets import load_breast_cancer\n",
        "\n",
        "cancer=load_breast_cancer()\n",
        "X=cancer.data\n",
        "y=cancer.target"
      ]
    },
    {
      "cell_type": "code",
      "source": [
        "from sklearn.model_selection import train_test_split\n",
        "\n",
        "X_train,X_test,y_train,y_test=train_test_split(X,y,test_size=0.2,stratify=y,random_state=1)"
      ],
      "metadata": {
        "id": "JnvnBzOwLQfo"
      },
      "execution_count": 2,
      "outputs": []
    },
    {
      "cell_type": "code",
      "source": [
        "from sklearn.preprocessing import StandardScaler\n",
        "from sklearn.decomposition import PCA\n",
        "from sklearn.linear_model import LogisticRegression\n",
        "from sklearn.pipeline import make_pipeline\n",
        "\n",
        "pipeline=make_pipeline(StandardScaler(),PCA(n_components=4),LogisticRegression())"
      ],
      "metadata": {
        "id": "wxjqM-W1Py2f"
      },
      "execution_count": 3,
      "outputs": []
    },
    {
      "cell_type": "code",
      "source": [
        "pipeline.fit(X_train,y_train)\n",
        "y_pred=pipeline.predict(X_test)"
      ],
      "metadata": {
        "id": "Vcbb40IBQG4h"
      },
      "execution_count": 4,
      "outputs": []
    },
    {
      "cell_type": "code",
      "source": [
        "#모델평가\n",
        "from sklearn.metrics import accuracy_score\n",
        "\n",
        "accuracy_score(y_test,y_pred)"
      ],
      "metadata": {
        "colab": {
          "base_uri": "https://localhost:8080/"
        },
        "id": "mkUOuPKAQ-lR",
        "outputId": "747d1639-4460-46cb-9e60-d86afff4660a"
      },
      "execution_count": 5,
      "outputs": [
        {
          "output_type": "execute_result",
          "data": {
            "text/plain": [
              "0.9736842105263158"
            ]
          },
          "metadata": {},
          "execution_count": 5
        }
      ]
    },
    {
      "cell_type": "markdown",
      "source": [
        "# 2. 교차검증을 통한 과적합 분석"
      ],
      "metadata": {
        "id": "6YZSf-0aSlRj"
      }
    },
    {
      "cell_type": "code",
      "source": [
        "from sklearn.datasets import load_breast_cancer\n",
        "\n",
        "cancer=load_breast_cancer()"
      ],
      "metadata": {
        "id": "7XEa15XMRDRT"
      },
      "execution_count": 6,
      "outputs": []
    },
    {
      "cell_type": "code",
      "source": [
        "X=cancer.data\n",
        "y=cancer.target"
      ],
      "metadata": {
        "id": "0LZO91tDTCqS"
      },
      "execution_count": 7,
      "outputs": []
    },
    {
      "cell_type": "code",
      "source": [
        "from sklearn.model_selection import train_test_split\n",
        "\n",
        "X_train,X_test,y_train,y_test=train_test_split(X,y,test_size=0.2,stratify=y,random_state=1)"
      ],
      "metadata": {
        "id": "F4byi4-uTEpb"
      },
      "execution_count": 8,
      "outputs": []
    },
    {
      "cell_type": "code",
      "source": [
        "# 파이파라인 기능을 이용한 모듈 설계\n",
        "\n",
        "from sklearn.preprocessing import StandardScaler\n",
        "from sklearn.decomposition import PCA\n",
        "from sklearn.linear_model import LogisticRegression\n",
        "from sklearn.pipeline import make_pipeline\n",
        "\n",
        "pipeline = make_pipeline(StandardScaler(), PCA(n_components=4), LogisticRegression() )\n"
      ],
      "metadata": {
        "id": "eMo-Vu1Qakn5"
      },
      "execution_count": 11,
      "outputs": []
    },
    {
      "cell_type": "code",
      "source": [
        "from sklearn.model_selection import cross_validate\n",
        "\n",
        "scores=cross_validate(pipeline,X_train,y_train,cv=10,return_train_score=True)"
      ],
      "metadata": {
        "id": "_7m3X7PmdqsG"
      },
      "execution_count": 12,
      "outputs": []
    },
    {
      "cell_type": "code",
      "source": [
        "sorted(scores.keys())"
      ],
      "metadata": {
        "colab": {
          "base_uri": "https://localhost:8080/"
        },
        "id": "YGN9Gskvf585",
        "outputId": "6c1adb3c-d90c-40c2-d408-a1b6e86abee2"
      },
      "execution_count": 13,
      "outputs": [
        {
          "output_type": "execute_result",
          "data": {
            "text/plain": [
              "['fit_time', 'score_time', 'test_score', 'train_score']"
            ]
          },
          "metadata": {},
          "execution_count": 13
        }
      ]
    },
    {
      "cell_type": "code",
      "source": [
        "import numpy as np\n",
        "\n",
        "print('CV Validation Accuracy scores: ',scores['train_score'])\n",
        "print('CV Validation Accuracy : %.3f +/- %.3f'%(np.mean(scores['train_score']),np.std(scores['train_score'])))"
      ],
      "metadata": {
        "colab": {
          "base_uri": "https://localhost:8080/"
        },
        "id": "tTzVTIVKhfvf",
        "outputId": "21a44450-52ed-47e0-822b-9a16507e6cc2"
      },
      "execution_count": 14,
      "outputs": [
        {
          "output_type": "stream",
          "name": "stdout",
          "text": [
            "CV Validation Accuracy scores:  [0.96577017 0.96577017 0.96577017 0.96577017 0.96821516 0.96585366\n",
            " 0.97073171 0.96829268 0.97560976 0.96585366]\n",
            "CV Validation Accuracy : 0.968 +/- 0.003\n"
          ]
        }
      ]
    },
    {
      "cell_type": "code",
      "source": [
        "import numpy as np\n",
        "\n",
        "print('CV Validation Accuracy scores: ', scores['test_score'])\n",
        "print('CV Validation Accuracy: %.3f +/- %.3f' %(np.mean(scores['test_score']), np.std(scores['test_score'])))"
      ],
      "metadata": {
        "colab": {
          "base_uri": "https://localhost:8080/"
        },
        "id": "_kbWrNLQhyd_",
        "outputId": "f274d774-babe-4550-d0a5-4aec939a57a4"
      },
      "execution_count": 15,
      "outputs": [
        {
          "output_type": "stream",
          "name": "stdout",
          "text": [
            "CV Validation Accuracy scores:  [0.97826087 0.97826087 0.95652174 1.         0.95652174 0.97777778\n",
            " 0.93333333 0.95555556 0.91111111 1.        ]\n",
            "CV Validation Accuracy: 0.965 +/- 0.027\n"
          ]
        }
      ]
    },
    {
      "cell_type": "markdown",
      "source": [
        "## 교차검증 결과\n",
        "\n",
        "- 과대적합도 과소적합도 발생하지 않는다."
      ],
      "metadata": {
        "id": "Nv0YTi0SnZTh"
      }
    },
    {
      "cell_type": "code",
      "source": [
        "from sklearn.model_selection import GridSearchCV\n",
        "\n",
        "parameters={}\n",
        "\n",
        "gs=GridSearchCV(pipeline,parameters,scoring='accuracy',cv=10)\n",
        "gs.fit(X_train,y_train)"
      ],
      "metadata": {
        "colab": {
          "base_uri": "https://localhost:8080/"
        },
        "id": "BHw-cMnclK-O",
        "outputId": "069c59ac-ec4c-45fd-bd12-d568148270e6"
      },
      "execution_count": 16,
      "outputs": [
        {
          "output_type": "execute_result",
          "data": {
            "text/plain": [
              "GridSearchCV(cv=10,\n",
              "             estimator=Pipeline(steps=[('standardscaler', StandardScaler()),\n",
              "                                       ('pca', PCA(n_components=4)),\n",
              "                                       ('logisticregression',\n",
              "                                        LogisticRegression())]),\n",
              "             param_grid={}, scoring='accuracy')"
            ]
          },
          "metadata": {},
          "execution_count": 16
        }
      ]
    },
    {
      "cell_type": "code",
      "source": [
        "best=gs.best_estimator_"
      ],
      "metadata": {
        "id": "Z1Nm8Ve8ttpj"
      },
      "execution_count": 17,
      "outputs": []
    },
    {
      "cell_type": "code",
      "source": [
        "gs.cv_results_"
      ],
      "metadata": {
        "colab": {
          "base_uri": "https://localhost:8080/"
        },
        "id": "nfGaDL8ouPEu",
        "outputId": "bcdd12ad-b51c-4a43-986e-cc95c360ca66"
      },
      "execution_count": 18,
      "outputs": [
        {
          "output_type": "execute_result",
          "data": {
            "text/plain": [
              "{'mean_fit_time': array([0.01834941]),\n",
              " 'mean_score_time': array([0.00200155]),\n",
              " 'mean_test_score': array([0.9647343]),\n",
              " 'params': [{}],\n",
              " 'rank_test_score': array([1], dtype=int32),\n",
              " 'split0_test_score': array([0.97826087]),\n",
              " 'split1_test_score': array([0.97826087]),\n",
              " 'split2_test_score': array([0.95652174]),\n",
              " 'split3_test_score': array([1.]),\n",
              " 'split4_test_score': array([0.95652174]),\n",
              " 'split5_test_score': array([0.97777778]),\n",
              " 'split6_test_score': array([0.93333333]),\n",
              " 'split7_test_score': array([0.95555556]),\n",
              " 'split8_test_score': array([0.91111111]),\n",
              " 'split9_test_score': array([1.]),\n",
              " 'std_fit_time': array([0.00651192]),\n",
              " 'std_score_time': array([0.00201972]),\n",
              " 'std_test_score': array([0.02665336])}"
            ]
          },
          "metadata": {},
          "execution_count": 18
        }
      ]
    },
    {
      "cell_type": "code",
      "source": [
        "from sklearn.metrics import accuracy_score\n",
        "\n",
        "y_train_pred=best.predict(X_train)\n",
        "accuracy_score(y_train,y_train_pred)"
      ],
      "metadata": {
        "colab": {
          "base_uri": "https://localhost:8080/"
        },
        "id": "_-V4ExsyuQpf",
        "outputId": "3f05f35a-89e1-4bb7-f651-c7245ce5a9ae"
      },
      "execution_count": 19,
      "outputs": [
        {
          "output_type": "execute_result",
          "data": {
            "text/plain": [
              "0.967032967032967"
            ]
          },
          "metadata": {},
          "execution_count": 19
        }
      ]
    },
    {
      "cell_type": "code",
      "source": [
        "from sklearn.metrics import accuracy_score\n",
        "\n",
        "y_test_pred=best.predict(X_test)\n",
        "accuracy_score(y_test,y_test_pred)"
      ],
      "metadata": {
        "colab": {
          "base_uri": "https://localhost:8080/"
        },
        "id": "gZXgYZmAudt5",
        "outputId": "d7206141-9b81-4915-dfda-30d41d9efbb1"
      },
      "execution_count": 20,
      "outputs": [
        {
          "output_type": "execute_result",
          "data": {
            "text/plain": [
              "0.9736842105263158"
            ]
          },
          "metadata": {},
          "execution_count": 20
        }
      ]
    },
    {
      "cell_type": "markdown",
      "source": [
        "과적합이 일어나지 않았군요!"
      ],
      "metadata": {
        "id": "H6xpgFbzAnVQ"
      }
    },
    {
      "cell_type": "markdown",
      "source": [
        "# 3. 최적 모델 선정하기"
      ],
      "metadata": {
        "id": "Tga4v_c0Apzv"
      }
    },
    {
      "cell_type": "code",
      "source": [
        "from sklearn.datasets import load_breast_cancer\n",
        "\n",
        "cancer=load_breast_cancer()"
      ],
      "metadata": {
        "id": "2yfXd3vYumPo"
      },
      "execution_count": 22,
      "outputs": []
    },
    {
      "cell_type": "code",
      "source": [
        "X=cancer.data\n",
        "Y=cancer.target"
      ],
      "metadata": {
        "id": "nzPZa2rLAxNP"
      },
      "execution_count": 25,
      "outputs": []
    },
    {
      "cell_type": "code",
      "source": [
        "\n",
        "# 학습 데이터 분할\n",
        "from sklearn.model_selection import train_test_split\n",
        "X_train,X_test,Y_train,Y_test = train_test_split(X,Y,test_size=0.2, stratify=Y, random_state=1)"
      ],
      "metadata": {
        "id": "sKF9SA8HEiLs"
      },
      "execution_count": 26,
      "outputs": []
    },
    {
      "cell_type": "code",
      "source": [
        "from sklearn.pipeline import Pipeline\n",
        "from sklearn.svm import SVC\n",
        "from sklearn.decomposition import PCA"
      ],
      "metadata": {
        "id": "jpoPBtelEj8n"
      },
      "execution_count": 27,
      "outputs": []
    },
    {
      "cell_type": "code",
      "source": [
        "from sklearn.preprocessing import StandardScaler\n",
        "from sklearn.svm import SVC\n",
        "from sklearn.pipeline import Pipeline\n",
        "from sklearn.model_selection import GridSearchCV\n",
        "\n",
        "#파라미터 parsing\n",
        "estimators=[('normalization',StandardScaler()),('clf',SVC())]\n",
        "pipe=Pipeline(estimators)"
      ],
      "metadata": {
        "id": "Cm6YwNuZEniY"
      },
      "execution_count": 28,
      "outputs": []
    },
    {
      "cell_type": "code",
      "source": [
        "\n",
        "from sklearn.model_selection import ParameterGrid\n",
        "grid = [{'clf__kernel': [['linear']], 'clf__C': [[0.001], [0.01],[0.1],[1],[10], [100], [1000]]}, \n",
        "        {'clf__kernel': [['rbf']], 'clf__gamma': [[0.001], [0.01],[0.1],[1],[10], [100], [1000]], 'clf__C': [[0.001], [0.01],[0.1],[1],[10], [100], [1000]]}]\n",
        "\n",
        "grid_param = ParameterGrid(grid)\n",
        "list(grid_param)"
      ],
      "metadata": {
        "colab": {
          "base_uri": "https://localhost:8080/"
        },
        "id": "6c4L7CSGE6-L",
        "outputId": "7e691eb5-385a-4e42-e527-911ec66e39d3"
      },
      "execution_count": 29,
      "outputs": [
        {
          "output_type": "execute_result",
          "data": {
            "text/plain": [
              "[{'clf__C': [0.001], 'clf__kernel': ['linear']},\n",
              " {'clf__C': [0.01], 'clf__kernel': ['linear']},\n",
              " {'clf__C': [0.1], 'clf__kernel': ['linear']},\n",
              " {'clf__C': [1], 'clf__kernel': ['linear']},\n",
              " {'clf__C': [10], 'clf__kernel': ['linear']},\n",
              " {'clf__C': [100], 'clf__kernel': ['linear']},\n",
              " {'clf__C': [1000], 'clf__kernel': ['linear']},\n",
              " {'clf__C': [0.001], 'clf__gamma': [0.001], 'clf__kernel': ['rbf']},\n",
              " {'clf__C': [0.001], 'clf__gamma': [0.01], 'clf__kernel': ['rbf']},\n",
              " {'clf__C': [0.001], 'clf__gamma': [0.1], 'clf__kernel': ['rbf']},\n",
              " {'clf__C': [0.001], 'clf__gamma': [1], 'clf__kernel': ['rbf']},\n",
              " {'clf__C': [0.001], 'clf__gamma': [10], 'clf__kernel': ['rbf']},\n",
              " {'clf__C': [0.001], 'clf__gamma': [100], 'clf__kernel': ['rbf']},\n",
              " {'clf__C': [0.001], 'clf__gamma': [1000], 'clf__kernel': ['rbf']},\n",
              " {'clf__C': [0.01], 'clf__gamma': [0.001], 'clf__kernel': ['rbf']},\n",
              " {'clf__C': [0.01], 'clf__gamma': [0.01], 'clf__kernel': ['rbf']},\n",
              " {'clf__C': [0.01], 'clf__gamma': [0.1], 'clf__kernel': ['rbf']},\n",
              " {'clf__C': [0.01], 'clf__gamma': [1], 'clf__kernel': ['rbf']},\n",
              " {'clf__C': [0.01], 'clf__gamma': [10], 'clf__kernel': ['rbf']},\n",
              " {'clf__C': [0.01], 'clf__gamma': [100], 'clf__kernel': ['rbf']},\n",
              " {'clf__C': [0.01], 'clf__gamma': [1000], 'clf__kernel': ['rbf']},\n",
              " {'clf__C': [0.1], 'clf__gamma': [0.001], 'clf__kernel': ['rbf']},\n",
              " {'clf__C': [0.1], 'clf__gamma': [0.01], 'clf__kernel': ['rbf']},\n",
              " {'clf__C': [0.1], 'clf__gamma': [0.1], 'clf__kernel': ['rbf']},\n",
              " {'clf__C': [0.1], 'clf__gamma': [1], 'clf__kernel': ['rbf']},\n",
              " {'clf__C': [0.1], 'clf__gamma': [10], 'clf__kernel': ['rbf']},\n",
              " {'clf__C': [0.1], 'clf__gamma': [100], 'clf__kernel': ['rbf']},\n",
              " {'clf__C': [0.1], 'clf__gamma': [1000], 'clf__kernel': ['rbf']},\n",
              " {'clf__C': [1], 'clf__gamma': [0.001], 'clf__kernel': ['rbf']},\n",
              " {'clf__C': [1], 'clf__gamma': [0.01], 'clf__kernel': ['rbf']},\n",
              " {'clf__C': [1], 'clf__gamma': [0.1], 'clf__kernel': ['rbf']},\n",
              " {'clf__C': [1], 'clf__gamma': [1], 'clf__kernel': ['rbf']},\n",
              " {'clf__C': [1], 'clf__gamma': [10], 'clf__kernel': ['rbf']},\n",
              " {'clf__C': [1], 'clf__gamma': [100], 'clf__kernel': ['rbf']},\n",
              " {'clf__C': [1], 'clf__gamma': [1000], 'clf__kernel': ['rbf']},\n",
              " {'clf__C': [10], 'clf__gamma': [0.001], 'clf__kernel': ['rbf']},\n",
              " {'clf__C': [10], 'clf__gamma': [0.01], 'clf__kernel': ['rbf']},\n",
              " {'clf__C': [10], 'clf__gamma': [0.1], 'clf__kernel': ['rbf']},\n",
              " {'clf__C': [10], 'clf__gamma': [1], 'clf__kernel': ['rbf']},\n",
              " {'clf__C': [10], 'clf__gamma': [10], 'clf__kernel': ['rbf']},\n",
              " {'clf__C': [10], 'clf__gamma': [100], 'clf__kernel': ['rbf']},\n",
              " {'clf__C': [10], 'clf__gamma': [1000], 'clf__kernel': ['rbf']},\n",
              " {'clf__C': [100], 'clf__gamma': [0.001], 'clf__kernel': ['rbf']},\n",
              " {'clf__C': [100], 'clf__gamma': [0.01], 'clf__kernel': ['rbf']},\n",
              " {'clf__C': [100], 'clf__gamma': [0.1], 'clf__kernel': ['rbf']},\n",
              " {'clf__C': [100], 'clf__gamma': [1], 'clf__kernel': ['rbf']},\n",
              " {'clf__C': [100], 'clf__gamma': [10], 'clf__kernel': ['rbf']},\n",
              " {'clf__C': [100], 'clf__gamma': [100], 'clf__kernel': ['rbf']},\n",
              " {'clf__C': [100], 'clf__gamma': [1000], 'clf__kernel': ['rbf']},\n",
              " {'clf__C': [1000], 'clf__gamma': [0.001], 'clf__kernel': ['rbf']},\n",
              " {'clf__C': [1000], 'clf__gamma': [0.01], 'clf__kernel': ['rbf']},\n",
              " {'clf__C': [1000], 'clf__gamma': [0.1], 'clf__kernel': ['rbf']},\n",
              " {'clf__C': [1000], 'clf__gamma': [1], 'clf__kernel': ['rbf']},\n",
              " {'clf__C': [1000], 'clf__gamma': [10], 'clf__kernel': ['rbf']},\n",
              " {'clf__C': [1000], 'clf__gamma': [100], 'clf__kernel': ['rbf']},\n",
              " {'clf__C': [1000], 'clf__gamma': [1000], 'clf__kernel': ['rbf']}]"
            ]
          },
          "metadata": {},
          "execution_count": 29
        }
      ]
    },
    {
      "cell_type": "code",
      "source": [
        "gs = GridSearchCV(pipe, grid_param, scoring='accuracy', cv=10, n_jobs=1)"
      ],
      "metadata": {
        "id": "Hy5-QDhvFAB_"
      },
      "execution_count": 30,
      "outputs": []
    },
    {
      "cell_type": "code",
      "source": [
        "gs.fit(X_train,Y_train)"
      ],
      "metadata": {
        "colab": {
          "base_uri": "https://localhost:8080/"
        },
        "id": "8IXdZT3rFBkW",
        "outputId": "de5e57c1-985f-40c6-8bec-0fc01feccbaa"
      },
      "execution_count": 31,
      "outputs": [
        {
          "output_type": "execute_result",
          "data": {
            "text/plain": [
              "GridSearchCV(cv=10,\n",
              "             estimator=Pipeline(steps=[('normalization', StandardScaler()),\n",
              "                                       ('clf', SVC())]),\n",
              "             n_jobs=1,\n",
              "             param_grid=<sklearn.model_selection._search.ParameterGrid object at 0x7f1288e90d90>,\n",
              "             scoring='accuracy')"
            ]
          },
          "metadata": {},
          "execution_count": 31
        }
      ]
    },
    {
      "cell_type": "code",
      "source": [
        "print(gs.best_score_)"
      ],
      "metadata": {
        "colab": {
          "base_uri": "https://localhost:8080/"
        },
        "id": "GqV4kHwCFCc4",
        "outputId": "c856a842-59ef-4ea4-f8ce-2975f52cfdd6"
      },
      "execution_count": 32,
      "outputs": [
        {
          "output_type": "stream",
          "name": "stdout",
          "text": [
            "0.9758454106280192\n"
          ]
        }
      ]
    },
    {
      "cell_type": "code",
      "source": [
        "print(gs.best_params_)"
      ],
      "metadata": {
        "colab": {
          "base_uri": "https://localhost:8080/"
        },
        "id": "PpwVUxCyFEn-",
        "outputId": "761ea252-aab9-41df-f0f8-76500f753382"
      },
      "execution_count": 33,
      "outputs": [
        {
          "output_type": "stream",
          "name": "stdout",
          "text": [
            "{'clf__C': 10, 'clf__gamma': 0.001, 'clf__kernel': 'rbf'}\n"
          ]
        }
      ]
    },
    {
      "cell_type": "code",
      "source": [
        "best_model = gs.best_estimator_\n",
        "Y_test_pred = best_model.predict(X_test)"
      ],
      "metadata": {
        "id": "g7_exWEFFEqX"
      },
      "execution_count": 34,
      "outputs": []
    },
    {
      "cell_type": "code",
      "source": [
        "from sklearn.metrics import accuracy_score\n",
        "\n",
        "Y_test_Pred = best_model.predict(X_test)\n",
        "accuracy_score(Y_test, Y_test_Pred)"
      ],
      "metadata": {
        "colab": {
          "base_uri": "https://localhost:8080/"
        },
        "id": "s7HU_9nbFHAk",
        "outputId": "49f30c4b-cee6-417d-9a52-c7bf02cdb14f"
      },
      "execution_count": 35,
      "outputs": [
        {
          "output_type": "execute_result",
          "data": {
            "text/plain": [
              "0.9824561403508771"
            ]
          },
          "metadata": {},
          "execution_count": 35
        }
      ]
    },
    {
      "cell_type": "code",
      "source": [
        ""
      ],
      "metadata": {
        "id": "c4v7AhNvFJI7"
      },
      "execution_count": null,
      "outputs": []
    }
  ]
}