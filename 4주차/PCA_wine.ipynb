{
  "nbformat": 4,
  "nbformat_minor": 0,
  "metadata": {
    "colab": {
      "name": "PCA_wine.ipynb",
      "provenance": [],
      "authorship_tag": "ABX9TyPjPsKqe29J8lW+i4RTMkHk",
      "include_colab_link": true
    },
    "kernelspec": {
      "name": "python3",
      "display_name": "Python 3"
    },
    "language_info": {
      "name": "python"
    }
  },
  "cells": [
    {
      "cell_type": "markdown",
      "metadata": {
        "id": "view-in-github",
        "colab_type": "text"
      },
      "source": [
        "<a href=\"https://colab.research.google.com/github/jiin124/4th_kaggle_study/blob/main/4%EC%A3%BC%EC%B0%A8/PCA_wine.ipynb\" target=\"_parent\"><img src=\"https://colab.research.google.com/assets/colab-badge.svg\" alt=\"Open In Colab\"/></a>"
      ]
    },
    {
      "cell_type": "code",
      "execution_count": 2,
      "metadata": {
        "id": "M9uHJZYV6QsM"
      },
      "outputs": [],
      "source": [
        "from sklearn.datasets import load_wine\n",
        "\n",
        "data=load_wine()\n",
        "X=data.data\n",
        "y=data.target"
      ]
    },
    {
      "cell_type": "code",
      "source": [
        "from sklearn.model_selection import train_test_split\n",
        "\n",
        "X_train,X_test,y_train,y_test=train_test_split(X,y,test_size=0.3,random_state=1,stratify=y)\n"
      ],
      "metadata": {
        "id": "iljcaqlWFZ6X"
      },
      "execution_count": 3,
      "outputs": []
    },
    {
      "cell_type": "code",
      "source": [
        "#데이터 정규화\n",
        "from sklearn.preprocessing import StandardScaler\n",
        "\n",
        "std=StandardScaler()\n",
        "X_train_std=std.fit_transform(X_train)\n",
        "X_test_std=std.transform(X_test)"
      ],
      "metadata": {
        "id": "R5CUDTQJG7j0"
      },
      "execution_count": 4,
      "outputs": []
    },
    {
      "cell_type": "code",
      "source": [
        "#pca를 통해 데이터 차원 축소\n",
        "from sklearn.decomposition import PCA\n",
        "\n",
        "lpca=PCA(n_components=4)\n",
        "X_train_pca=lpca.fit_transform(X_train_std)\n",
        "X_test_pca=lpca.transform(X_test_std)"
      ],
      "metadata": {
        "id": "jARqw6fqHEoY"
      },
      "execution_count": 10,
      "outputs": []
    },
    {
      "cell_type": "code",
      "source": [
        "#분류기 학습 및 테스트\n",
        "from sklearn.linear_model import LogisticRegression\n",
        "\n",
        "lr=LogisticRegression()\n",
        "lr.fit(X_train_pca,y_train)\n",
        "y_train_pred=lr.predict(X_train_pca)\n",
        "y_test_pred=lr.predict(X_test_pca)\n",
        "\n",
        "from sklearn import metrics\n",
        "print(metrics.accuracy_score(y_train,y_train_pred))\n",
        "print(metrics.accuracy_score(y_test,y_test_pred))\n",
        "print(metrics.confusion_matrix(y_test,y_test_pred))"
      ],
      "metadata": {
        "colab": {
          "base_uri": "https://localhost:8080/"
        },
        "id": "fg56W3jKHkEQ",
        "outputId": "516087e6-7872-4dcf-d9a4-c55738902eaa"
      },
      "execution_count": 11,
      "outputs": [
        {
          "output_type": "stream",
          "name": "stdout",
          "text": [
            "0.9758064516129032\n",
            "0.9629629629629629\n",
            "[[18  0  0]\n",
            " [ 2 19  0]\n",
            " [ 0  0 15]]\n"
          ]
        }
      ]
    },
    {
      "cell_type": "code",
      "source": [
        ""
      ],
      "metadata": {
        "id": "4UHJmdCyIsG1"
      },
      "execution_count": null,
      "outputs": []
    }
  ]
}