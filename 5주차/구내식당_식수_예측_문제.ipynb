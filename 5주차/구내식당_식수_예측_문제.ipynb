{
  "nbformat": 4,
  "nbformat_minor": 0,
  "metadata": {
    "colab": {
      "name": "구내식당 식수 예측 문제.ipynb",
      "provenance": [],
      "authorship_tag": "ABX9TyPElocDLuiGw5/kKxRVSOrr",
      "include_colab_link": true
    },
    "kernelspec": {
      "name": "python3",
      "display_name": "Python 3"
    },
    "language_info": {
      "name": "python"
    },
    "widgets": {
      "application/vnd.jupyter.widget-state+json": {
        "ee59699d154945a9a89404cb86111984": {
          "model_module": "@jupyter-widgets/controls",
          "model_name": "HBoxModel",
          "model_module_version": "1.5.0",
          "state": {
            "_view_name": "HBoxView",
            "_dom_classes": [],
            "_model_name": "HBoxModel",
            "_view_module": "@jupyter-widgets/controls",
            "_model_module_version": "1.5.0",
            "_view_count": null,
            "_view_module_version": "1.5.0",
            "box_style": "",
            "layout": "IPY_MODEL_a70bfa6e478f4440887eeaa3a24e7fca",
            "_model_module": "@jupyter-widgets/controls",
            "children": [
              "IPY_MODEL_b4d2363c3f544d33aa26209b7c5d9721",
              "IPY_MODEL_07e80a39ad6f4feb827b78b9877fd326",
              "IPY_MODEL_bc5fc9bc02914329955c691690e15527"
            ]
          }
        },
        "a70bfa6e478f4440887eeaa3a24e7fca": {
          "model_module": "@jupyter-widgets/base",
          "model_name": "LayoutModel",
          "model_module_version": "1.2.0",
          "state": {
            "_view_name": "LayoutView",
            "grid_template_rows": null,
            "right": null,
            "justify_content": null,
            "_view_module": "@jupyter-widgets/base",
            "overflow": null,
            "_model_module_version": "1.2.0",
            "_view_count": null,
            "flex_flow": null,
            "width": null,
            "min_width": null,
            "border": null,
            "align_items": null,
            "bottom": null,
            "_model_module": "@jupyter-widgets/base",
            "top": null,
            "grid_column": null,
            "overflow_y": null,
            "overflow_x": null,
            "grid_auto_flow": null,
            "grid_area": null,
            "grid_template_columns": null,
            "flex": null,
            "_model_name": "LayoutModel",
            "justify_items": null,
            "grid_row": null,
            "max_height": null,
            "align_content": null,
            "visibility": null,
            "align_self": null,
            "height": null,
            "min_height": null,
            "padding": null,
            "grid_auto_rows": null,
            "grid_gap": null,
            "max_width": null,
            "order": null,
            "_view_module_version": "1.2.0",
            "grid_template_areas": null,
            "object_position": null,
            "object_fit": null,
            "grid_auto_columns": null,
            "margin": null,
            "display": null,
            "left": null
          }
        },
        "b4d2363c3f544d33aa26209b7c5d9721": {
          "model_module": "@jupyter-widgets/controls",
          "model_name": "HTMLModel",
          "model_module_version": "1.5.0",
          "state": {
            "_view_name": "HTMLView",
            "style": "IPY_MODEL_d1e924cf5aef4b85adb0038c38a21200",
            "_dom_classes": [],
            "description": "",
            "_model_name": "HTMLModel",
            "placeholder": "​",
            "_view_module": "@jupyter-widgets/controls",
            "_model_module_version": "1.5.0",
            "value": "100%",
            "_view_count": null,
            "_view_module_version": "1.5.0",
            "description_tooltip": null,
            "_model_module": "@jupyter-widgets/controls",
            "layout": "IPY_MODEL_ee422bb998554142920ce3ffc8e2d735"
          }
        },
        "07e80a39ad6f4feb827b78b9877fd326": {
          "model_module": "@jupyter-widgets/controls",
          "model_name": "FloatProgressModel",
          "model_module_version": "1.5.0",
          "state": {
            "_view_name": "ProgressView",
            "style": "IPY_MODEL_4580fda950434094b37a82652bd23e19",
            "_dom_classes": [],
            "description": "",
            "_model_name": "FloatProgressModel",
            "bar_style": "success",
            "max": 3,
            "_view_module": "@jupyter-widgets/controls",
            "_model_module_version": "1.5.0",
            "value": 3,
            "_view_count": null,
            "_view_module_version": "1.5.0",
            "orientation": "horizontal",
            "min": 0,
            "description_tooltip": null,
            "_model_module": "@jupyter-widgets/controls",
            "layout": "IPY_MODEL_35241e7688d740fc9785f863595d3691"
          }
        },
        "bc5fc9bc02914329955c691690e15527": {
          "model_module": "@jupyter-widgets/controls",
          "model_name": "HTMLModel",
          "model_module_version": "1.5.0",
          "state": {
            "_view_name": "HTMLView",
            "style": "IPY_MODEL_4235f8484c0c46d0b32b93e93c2e52a6",
            "_dom_classes": [],
            "description": "",
            "_model_name": "HTMLModel",
            "placeholder": "​",
            "_view_module": "@jupyter-widgets/controls",
            "_model_module_version": "1.5.0",
            "value": " 3/3 [00:54&lt;00:00, 15.91s/it]",
            "_view_count": null,
            "_view_module_version": "1.5.0",
            "description_tooltip": null,
            "_model_module": "@jupyter-widgets/controls",
            "layout": "IPY_MODEL_fcd39d9ce45c45358f4911ee3c3bda05"
          }
        },
        "d1e924cf5aef4b85adb0038c38a21200": {
          "model_module": "@jupyter-widgets/controls",
          "model_name": "DescriptionStyleModel",
          "model_module_version": "1.5.0",
          "state": {
            "_view_name": "StyleView",
            "_model_name": "DescriptionStyleModel",
            "description_width": "",
            "_view_module": "@jupyter-widgets/base",
            "_model_module_version": "1.5.0",
            "_view_count": null,
            "_view_module_version": "1.2.0",
            "_model_module": "@jupyter-widgets/controls"
          }
        },
        "ee422bb998554142920ce3ffc8e2d735": {
          "model_module": "@jupyter-widgets/base",
          "model_name": "LayoutModel",
          "model_module_version": "1.2.0",
          "state": {
            "_view_name": "LayoutView",
            "grid_template_rows": null,
            "right": null,
            "justify_content": null,
            "_view_module": "@jupyter-widgets/base",
            "overflow": null,
            "_model_module_version": "1.2.0",
            "_view_count": null,
            "flex_flow": null,
            "width": null,
            "min_width": null,
            "border": null,
            "align_items": null,
            "bottom": null,
            "_model_module": "@jupyter-widgets/base",
            "top": null,
            "grid_column": null,
            "overflow_y": null,
            "overflow_x": null,
            "grid_auto_flow": null,
            "grid_area": null,
            "grid_template_columns": null,
            "flex": null,
            "_model_name": "LayoutModel",
            "justify_items": null,
            "grid_row": null,
            "max_height": null,
            "align_content": null,
            "visibility": null,
            "align_self": null,
            "height": null,
            "min_height": null,
            "padding": null,
            "grid_auto_rows": null,
            "grid_gap": null,
            "max_width": null,
            "order": null,
            "_view_module_version": "1.2.0",
            "grid_template_areas": null,
            "object_position": null,
            "object_fit": null,
            "grid_auto_columns": null,
            "margin": null,
            "display": null,
            "left": null
          }
        },
        "4580fda950434094b37a82652bd23e19": {
          "model_module": "@jupyter-widgets/controls",
          "model_name": "ProgressStyleModel",
          "model_module_version": "1.5.0",
          "state": {
            "_view_name": "StyleView",
            "_model_name": "ProgressStyleModel",
            "description_width": "",
            "_view_module": "@jupyter-widgets/base",
            "_model_module_version": "1.5.0",
            "_view_count": null,
            "_view_module_version": "1.2.0",
            "bar_color": null,
            "_model_module": "@jupyter-widgets/controls"
          }
        },
        "35241e7688d740fc9785f863595d3691": {
          "model_module": "@jupyter-widgets/base",
          "model_name": "LayoutModel",
          "model_module_version": "1.2.0",
          "state": {
            "_view_name": "LayoutView",
            "grid_template_rows": null,
            "right": null,
            "justify_content": null,
            "_view_module": "@jupyter-widgets/base",
            "overflow": null,
            "_model_module_version": "1.2.0",
            "_view_count": null,
            "flex_flow": null,
            "width": null,
            "min_width": null,
            "border": null,
            "align_items": null,
            "bottom": null,
            "_model_module": "@jupyter-widgets/base",
            "top": null,
            "grid_column": null,
            "overflow_y": null,
            "overflow_x": null,
            "grid_auto_flow": null,
            "grid_area": null,
            "grid_template_columns": null,
            "flex": null,
            "_model_name": "LayoutModel",
            "justify_items": null,
            "grid_row": null,
            "max_height": null,
            "align_content": null,
            "visibility": null,
            "align_self": null,
            "height": null,
            "min_height": null,
            "padding": null,
            "grid_auto_rows": null,
            "grid_gap": null,
            "max_width": null,
            "order": null,
            "_view_module_version": "1.2.0",
            "grid_template_areas": null,
            "object_position": null,
            "object_fit": null,
            "grid_auto_columns": null,
            "margin": null,
            "display": null,
            "left": null
          }
        },
        "4235f8484c0c46d0b32b93e93c2e52a6": {
          "model_module": "@jupyter-widgets/controls",
          "model_name": "DescriptionStyleModel",
          "model_module_version": "1.5.0",
          "state": {
            "_view_name": "StyleView",
            "_model_name": "DescriptionStyleModel",
            "description_width": "",
            "_view_module": "@jupyter-widgets/base",
            "_model_module_version": "1.5.0",
            "_view_count": null,
            "_view_module_version": "1.2.0",
            "_model_module": "@jupyter-widgets/controls"
          }
        },
        "fcd39d9ce45c45358f4911ee3c3bda05": {
          "model_module": "@jupyter-widgets/base",
          "model_name": "LayoutModel",
          "model_module_version": "1.2.0",
          "state": {
            "_view_name": "LayoutView",
            "grid_template_rows": null,
            "right": null,
            "justify_content": null,
            "_view_module": "@jupyter-widgets/base",
            "overflow": null,
            "_model_module_version": "1.2.0",
            "_view_count": null,
            "flex_flow": null,
            "width": null,
            "min_width": null,
            "border": null,
            "align_items": null,
            "bottom": null,
            "_model_module": "@jupyter-widgets/base",
            "top": null,
            "grid_column": null,
            "overflow_y": null,
            "overflow_x": null,
            "grid_auto_flow": null,
            "grid_area": null,
            "grid_template_columns": null,
            "flex": null,
            "_model_name": "LayoutModel",
            "justify_items": null,
            "grid_row": null,
            "max_height": null,
            "align_content": null,
            "visibility": null,
            "align_self": null,
            "height": null,
            "min_height": null,
            "padding": null,
            "grid_auto_rows": null,
            "grid_gap": null,
            "max_width": null,
            "order": null,
            "_view_module_version": "1.2.0",
            "grid_template_areas": null,
            "object_position": null,
            "object_fit": null,
            "grid_auto_columns": null,
            "margin": null,
            "display": null,
            "left": null
          }
        }
      }
    }
  },
  "cells": [
    {
      "cell_type": "markdown",
      "metadata": {
        "id": "view-in-github",
        "colab_type": "text"
      },
      "source": [
        "<a href=\"https://colab.research.google.com/github/jiin124/4th_kaggle_study/blob/main/5%EC%A3%BC%EC%B0%A8/%EA%B5%AC%EB%82%B4%EC%8B%9D%EB%8B%B9_%EC%8B%9D%EC%88%98_%EC%98%88%EC%B8%A1_%EB%AC%B8%EC%A0%9C.ipynb\" target=\"_parent\"><img src=\"https://colab.research.google.com/assets/colab-badge.svg\" alt=\"Open In Colab\"/></a>"
      ]
    },
    {
      "cell_type": "code",
      "execution_count": 1,
      "metadata": {
        "id": "JumvtznxzDkK"
      },
      "outputs": [],
      "source": [
        "import pandas as pd\n",
        "import numpy as np\n",
        "import matplotlib.pyplot as plt\n",
        "import seaborn as sns\n",
        "import os\n",
        "plt.style.use('ggplot')\n",
        "import warnings\n",
        "warnings.filterwarnings('ignore')"
      ]
    },
    {
      "cell_type": "code",
      "source": [
        "os.environ['KAGGLE_USERNAME']='jiinpp'\n",
        "os.environ['KAGGLE_KEY']='b06d525a9f66198051ccb648b091778a'"
      ],
      "metadata": {
        "id": "pU5I9DfwzHzC"
      },
      "execution_count": 2,
      "outputs": []
    },
    {
      "cell_type": "code",
      "source": [
        "!kaggle competitions download -c 2021mlfinalexamp3"
      ],
      "metadata": {
        "colab": {
          "base_uri": "https://localhost:8080/"
        },
        "id": "mzYpqaNEzJDF",
        "outputId": "47ebdb0c-6ec9-4967-d10f-93666ce7de3f"
      },
      "execution_count": 3,
      "outputs": [
        {
          "output_type": "stream",
          "name": "stdout",
          "text": [
            "Warning: Looks like you're using an outdated API Version, please consider updating (server 1.5.12 / client 1.5.4)\n",
            "Downloading train.csv to /content\n",
            "  0% 0.00/393k [00:00<?, ?B/s]\n",
            "100% 393k/393k [00:00<00:00, 54.5MB/s]\n",
            "Downloading sample_submit.csv to /content\n",
            "  0% 0.00/2.69k [00:00<?, ?B/s]\n",
            "100% 2.69k/2.69k [00:00<00:00, 2.37MB/s]\n",
            "Downloading test.csv to /content\n",
            "  0% 0.00/175k [00:00<?, ?B/s]\n",
            "100% 175k/175k [00:00<00:00, 54.5MB/s]\n"
          ]
        }
      ]
    },
    {
      "cell_type": "code",
      "source": [
        "train=pd.read_csv('train.csv')\n",
        "test=pd.read_csv('test.csv')\n",
        "sample=pd.read_csv('sample_submit.csv')"
      ],
      "metadata": {
        "id": "vOnyssczzKB3"
      },
      "execution_count": 4,
      "outputs": []
    },
    {
      "cell_type": "code",
      "source": [
        "train.head()"
      ],
      "metadata": {
        "colab": {
          "base_uri": "https://localhost:8080/",
          "height": 718
        },
        "id": "piE30vx2zbFJ",
        "outputId": "10f10056-d8b9-4a59-acf6-c2d6be5cbbf9"
      },
      "execution_count": null,
      "outputs": [
        {
          "output_type": "execute_result",
          "data": {
            "text/html": [
              "\n",
              "  <div id=\"df-82e455ff-0a90-4537-a817-03d8798a0a84\">\n",
              "    <div class=\"colab-df-container\">\n",
              "      <div>\n",
              "<style scoped>\n",
              "    .dataframe tbody tr th:only-of-type {\n",
              "        vertical-align: middle;\n",
              "    }\n",
              "\n",
              "    .dataframe tbody tr th {\n",
              "        vertical-align: top;\n",
              "    }\n",
              "\n",
              "    .dataframe thead th {\n",
              "        text-align: right;\n",
              "    }\n",
              "</style>\n",
              "<table border=\"1\" class=\"dataframe\">\n",
              "  <thead>\n",
              "    <tr style=\"text-align: right;\">\n",
              "      <th></th>\n",
              "      <th>Unnamed: 0</th>\n",
              "      <th>일자</th>\n",
              "      <th>요일</th>\n",
              "      <th>본사정원수</th>\n",
              "      <th>본사휴가자수</th>\n",
              "      <th>본사출장자수</th>\n",
              "      <th>본사시간외근무명령서승인건수</th>\n",
              "      <th>현본사소속재택근무자수</th>\n",
              "      <th>조식메뉴</th>\n",
              "      <th>중식메뉴</th>\n",
              "      <th>석식메뉴</th>\n",
              "      <th>중식계</th>\n",
              "    </tr>\n",
              "  </thead>\n",
              "  <tbody>\n",
              "    <tr>\n",
              "      <th>0</th>\n",
              "      <td>0</td>\n",
              "      <td>2016-02-01</td>\n",
              "      <td>월</td>\n",
              "      <td>2601</td>\n",
              "      <td>50</td>\n",
              "      <td>150</td>\n",
              "      <td>238</td>\n",
              "      <td>0.0</td>\n",
              "      <td>모닝롤/찐빵  우유/두유/주스 계란후라이  호두죽/쌀밥 (쌀:국내산) 된장찌개  쥐...</td>\n",
              "      <td>쌀밥/잡곡밥 (쌀,현미흑미:국내산) 오징어찌개  쇠불고기 (쇠고기:호주산) 계란찜 ...</td>\n",
              "      <td>쌀밥/잡곡밥 (쌀,현미흑미:국내산) 육개장  자반고등어구이  두부조림  건파래무침 ...</td>\n",
              "      <td>1039.0</td>\n",
              "    </tr>\n",
              "    <tr>\n",
              "      <th>1</th>\n",
              "      <td>1</td>\n",
              "      <td>2016-02-02</td>\n",
              "      <td>화</td>\n",
              "      <td>2601</td>\n",
              "      <td>50</td>\n",
              "      <td>173</td>\n",
              "      <td>319</td>\n",
              "      <td>0.0</td>\n",
              "      <td>모닝롤/단호박샌드  우유/두유/주스 계란후라이  팥죽/쌀밥 (쌀:국내산) 호박젓국찌...</td>\n",
              "      <td>쌀밥/잡곡밥 (쌀,현미흑미:국내산) 김치찌개  가자미튀김  모둠소세지구이  마늘쫑무...</td>\n",
              "      <td>콩나물밥*양념장 (쌀,현미흑미:국내산) 어묵국  유산슬 (쇠고기:호주산) 아삭고추무...</td>\n",
              "      <td>867.0</td>\n",
              "    </tr>\n",
              "    <tr>\n",
              "      <th>2</th>\n",
              "      <td>2</td>\n",
              "      <td>2016-02-03</td>\n",
              "      <td>수</td>\n",
              "      <td>2601</td>\n",
              "      <td>56</td>\n",
              "      <td>180</td>\n",
              "      <td>111</td>\n",
              "      <td>0.0</td>\n",
              "      <td>모닝롤/베이글  우유/두유/주스 계란후라이  표고버섯죽/쌀밥 (쌀:국내산) 콩나물국...</td>\n",
              "      <td>카레덮밥 (쌀,현미흑미:국내산) 팽이장국  치킨핑거 (닭고기:국내산) 쫄면야채무침 ...</td>\n",
              "      <td>쌀밥/잡곡밥 (쌀,현미흑미:국내산) 청국장찌개  황태양념구이 (황태:러시아산) 고기...</td>\n",
              "      <td>1017.0</td>\n",
              "    </tr>\n",
              "    <tr>\n",
              "      <th>3</th>\n",
              "      <td>3</td>\n",
              "      <td>2016-02-04</td>\n",
              "      <td>목</td>\n",
              "      <td>2601</td>\n",
              "      <td>104</td>\n",
              "      <td>220</td>\n",
              "      <td>355</td>\n",
              "      <td>0.0</td>\n",
              "      <td>모닝롤/토마토샌드  우유/두유/주스 계란후라이  닭죽/쌀밥 (쌀,닭:국내산) 근대국...</td>\n",
              "      <td>쌀밥/잡곡밥 (쌀,현미흑미:국내산) 쇠고기무국  주꾸미볶음  부추전  시금치나물  ...</td>\n",
              "      <td>미니김밥*겨자장 (쌀,현미흑미:국내산) 우동  멕시칸샐러드  군고구마  무피클  포...</td>\n",
              "      <td>978.0</td>\n",
              "    </tr>\n",
              "    <tr>\n",
              "      <th>4</th>\n",
              "      <td>4</td>\n",
              "      <td>2016-02-05</td>\n",
              "      <td>금</td>\n",
              "      <td>2601</td>\n",
              "      <td>278</td>\n",
              "      <td>181</td>\n",
              "      <td>34</td>\n",
              "      <td>0.0</td>\n",
              "      <td>모닝롤/와플  우유/두유/주스 계란후라이  쇠고기죽/쌀밥 (쌀:국내산) 재첩국  방...</td>\n",
              "      <td>쌀밥/잡곡밥 (쌀,현미흑미:국내산) 떡국  돈육씨앗강정 (돼지고기:국내산) 우엉잡채...</td>\n",
              "      <td>쌀밥/잡곡밥 (쌀,현미흑미:국내산) 차돌박이찌개 (쇠고기:호주산) 닭갈비 (닭고기:...</td>\n",
              "      <td>925.0</td>\n",
              "    </tr>\n",
              "  </tbody>\n",
              "</table>\n",
              "</div>\n",
              "      <button class=\"colab-df-convert\" onclick=\"convertToInteractive('df-82e455ff-0a90-4537-a817-03d8798a0a84')\"\n",
              "              title=\"Convert this dataframe to an interactive table.\"\n",
              "              style=\"display:none;\">\n",
              "        \n",
              "  <svg xmlns=\"http://www.w3.org/2000/svg\" height=\"24px\"viewBox=\"0 0 24 24\"\n",
              "       width=\"24px\">\n",
              "    <path d=\"M0 0h24v24H0V0z\" fill=\"none\"/>\n",
              "    <path d=\"M18.56 5.44l.94 2.06.94-2.06 2.06-.94-2.06-.94-.94-2.06-.94 2.06-2.06.94zm-11 1L8.5 8.5l.94-2.06 2.06-.94-2.06-.94L8.5 2.5l-.94 2.06-2.06.94zm10 10l.94 2.06.94-2.06 2.06-.94-2.06-.94-.94-2.06-.94 2.06-2.06.94z\"/><path d=\"M17.41 7.96l-1.37-1.37c-.4-.4-.92-.59-1.43-.59-.52 0-1.04.2-1.43.59L10.3 9.45l-7.72 7.72c-.78.78-.78 2.05 0 2.83L4 21.41c.39.39.9.59 1.41.59.51 0 1.02-.2 1.41-.59l7.78-7.78 2.81-2.81c.8-.78.8-2.07 0-2.86zM5.41 20L4 18.59l7.72-7.72 1.47 1.35L5.41 20z\"/>\n",
              "  </svg>\n",
              "      </button>\n",
              "      \n",
              "  <style>\n",
              "    .colab-df-container {\n",
              "      display:flex;\n",
              "      flex-wrap:wrap;\n",
              "      gap: 12px;\n",
              "    }\n",
              "\n",
              "    .colab-df-convert {\n",
              "      background-color: #E8F0FE;\n",
              "      border: none;\n",
              "      border-radius: 50%;\n",
              "      cursor: pointer;\n",
              "      display: none;\n",
              "      fill: #1967D2;\n",
              "      height: 32px;\n",
              "      padding: 0 0 0 0;\n",
              "      width: 32px;\n",
              "    }\n",
              "\n",
              "    .colab-df-convert:hover {\n",
              "      background-color: #E2EBFA;\n",
              "      box-shadow: 0px 1px 2px rgba(60, 64, 67, 0.3), 0px 1px 3px 1px rgba(60, 64, 67, 0.15);\n",
              "      fill: #174EA6;\n",
              "    }\n",
              "\n",
              "    [theme=dark] .colab-df-convert {\n",
              "      background-color: #3B4455;\n",
              "      fill: #D2E3FC;\n",
              "    }\n",
              "\n",
              "    [theme=dark] .colab-df-convert:hover {\n",
              "      background-color: #434B5C;\n",
              "      box-shadow: 0px 1px 3px 1px rgba(0, 0, 0, 0.15);\n",
              "      filter: drop-shadow(0px 1px 2px rgba(0, 0, 0, 0.3));\n",
              "      fill: #FFFFFF;\n",
              "    }\n",
              "  </style>\n",
              "\n",
              "      <script>\n",
              "        const buttonEl =\n",
              "          document.querySelector('#df-82e455ff-0a90-4537-a817-03d8798a0a84 button.colab-df-convert');\n",
              "        buttonEl.style.display =\n",
              "          google.colab.kernel.accessAllowed ? 'block' : 'none';\n",
              "\n",
              "        async function convertToInteractive(key) {\n",
              "          const element = document.querySelector('#df-82e455ff-0a90-4537-a817-03d8798a0a84');\n",
              "          const dataTable =\n",
              "            await google.colab.kernel.invokeFunction('convertToInteractive',\n",
              "                                                     [key], {});\n",
              "          if (!dataTable) return;\n",
              "\n",
              "          const docLinkHtml = 'Like what you see? Visit the ' +\n",
              "            '<a target=\"_blank\" href=https://colab.research.google.com/notebooks/data_table.ipynb>data table notebook</a>'\n",
              "            + ' to learn more about interactive tables.';\n",
              "          element.innerHTML = '';\n",
              "          dataTable['output_type'] = 'display_data';\n",
              "          await google.colab.output.renderOutput(dataTable, element);\n",
              "          const docLink = document.createElement('div');\n",
              "          docLink.innerHTML = docLinkHtml;\n",
              "          element.appendChild(docLink);\n",
              "        }\n",
              "      </script>\n",
              "    </div>\n",
              "  </div>\n",
              "  "
            ],
            "text/plain": [
              "   Unnamed: 0  ...     중식계\n",
              "0           0  ...  1039.0\n",
              "1           1  ...   867.0\n",
              "2           2  ...  1017.0\n",
              "3           3  ...   978.0\n",
              "4           4  ...   925.0\n",
              "\n",
              "[5 rows x 12 columns]"
            ]
          },
          "metadata": {},
          "execution_count": 6
        }
      ]
    },
    {
      "cell_type": "code",
      "source": [
        "test.head()"
      ],
      "metadata": {
        "colab": {
          "base_uri": "https://localhost:8080/",
          "height": 649
        },
        "id": "c4zi-pI6zrn_",
        "outputId": "fd73300f-d0de-4f2c-d5b9-9e3d24fc9f2f"
      },
      "execution_count": null,
      "outputs": [
        {
          "output_type": "execute_result",
          "data": {
            "text/html": [
              "\n",
              "  <div id=\"df-8aff56a8-0e40-48e3-9ca8-bca59c6386bf\">\n",
              "    <div class=\"colab-df-container\">\n",
              "      <div>\n",
              "<style scoped>\n",
              "    .dataframe tbody tr th:only-of-type {\n",
              "        vertical-align: middle;\n",
              "    }\n",
              "\n",
              "    .dataframe tbody tr th {\n",
              "        vertical-align: top;\n",
              "    }\n",
              "\n",
              "    .dataframe thead th {\n",
              "        text-align: right;\n",
              "    }\n",
              "</style>\n",
              "<table border=\"1\" class=\"dataframe\">\n",
              "  <thead>\n",
              "    <tr style=\"text-align: right;\">\n",
              "      <th></th>\n",
              "      <th>Unnamed: 0</th>\n",
              "      <th>일자</th>\n",
              "      <th>요일</th>\n",
              "      <th>본사정원수</th>\n",
              "      <th>본사휴가자수</th>\n",
              "      <th>본사출장자수</th>\n",
              "      <th>본사시간외근무명령서승인건수</th>\n",
              "      <th>현본사소속재택근무자수</th>\n",
              "      <th>조식메뉴</th>\n",
              "      <th>중식메뉴</th>\n",
              "      <th>석식메뉴</th>\n",
              "    </tr>\n",
              "  </thead>\n",
              "  <tbody>\n",
              "    <tr>\n",
              "      <th>0</th>\n",
              "      <td>843</td>\n",
              "      <td>2019-07-17</td>\n",
              "      <td>수</td>\n",
              "      <td>2760</td>\n",
              "      <td>96</td>\n",
              "      <td>259</td>\n",
              "      <td>0</td>\n",
              "      <td>0.0</td>\n",
              "      <td>모닝롤/꿀호떡  우유/주스 계란후라이 누룽지탕/쌀밥 (쌀:국내산) 연두부탕  명엽채...</td>\n",
              "      <td>산채비빔밥  미소장국  야채튀김  아삭고추무침  요플레  포기김치 (김치:국내산)</td>\n",
              "      <td>쌀밥/잡곡밥 (쌀:국내산) 두부김치국  돼지고기장조림  야채계란찜  꽃상추무침  열...</td>\n",
              "    </tr>\n",
              "    <tr>\n",
              "      <th>1</th>\n",
              "      <td>844</td>\n",
              "      <td>2019-07-18</td>\n",
              "      <td>목</td>\n",
              "      <td>2760</td>\n",
              "      <td>113</td>\n",
              "      <td>274</td>\n",
              "      <td>310</td>\n",
              "      <td>0.0</td>\n",
              "      <td>모닝롤/인절미샌드  우유/주스 계란후라이 녹두죽/쌀밥 (쌀:국내산) 열무된장국  영...</td>\n",
              "      <td>쌀밥/잡곡밥 (쌀:국내산) 돈육김치찌개  미니채소떡갈비  모듬묵양념장  참나물생채 ...</td>\n",
              "      <td>쌀밥/잡곡밥 (쌀:국내산) 브로컬리크림스프  옛날왕돈가스  키위드레싱샐러드  찐옥수...</td>\n",
              "    </tr>\n",
              "    <tr>\n",
              "      <th>2</th>\n",
              "      <td>845</td>\n",
              "      <td>2019-07-19</td>\n",
              "      <td>금</td>\n",
              "      <td>2760</td>\n",
              "      <td>236</td>\n",
              "      <td>291</td>\n",
              "      <td>0</td>\n",
              "      <td>0.0</td>\n",
              "      <td>모닝롤/찐빵  우유/주스 계란후라이 흑임자죽/쌀밥 (쌀:국내산) 콩나물국  연근조림...</td>\n",
              "      <td>쌀밥/잡곡밥 (쌀:국내산) 소고기무국  갈치구이  비엔나감자볶음  무생채  포기김치...</td>\n",
              "      <td>쌀밥/잡곡밥 (쌀:국내산) 꽃게탕  안동찜닭  해물겨자냉채  간장깻잎지  포기김치 ...</td>\n",
              "    </tr>\n",
              "    <tr>\n",
              "      <th>3</th>\n",
              "      <td>846</td>\n",
              "      <td>2019-07-22</td>\n",
              "      <td>월</td>\n",
              "      <td>2760</td>\n",
              "      <td>223</td>\n",
              "      <td>218</td>\n",
              "      <td>438</td>\n",
              "      <td>0.0</td>\n",
              "      <td>모닝롤/마늘빵  우유/주스 계란후라이 누룽지탕/쌀밥 (쌀:국내산) 호박젓국찌개  김...</td>\n",
              "      <td>쌀밥/잡곡밥 (쌀:국내산) 매운어묵국  소고기숙주볶음  치킨샐러드  양파짱아찌  포...</td>\n",
              "      <td>쌀밥/잡곡밥 (쌀:국내산) 얼갈이국  오리불고기  두부구이  부추생채/상추쌈  포기...</td>\n",
              "    </tr>\n",
              "    <tr>\n",
              "      <th>4</th>\n",
              "      <td>847</td>\n",
              "      <td>2019-07-23</td>\n",
              "      <td>화</td>\n",
              "      <td>2760</td>\n",
              "      <td>206</td>\n",
              "      <td>246</td>\n",
              "      <td>449</td>\n",
              "      <td>0.0</td>\n",
              "      <td>모닝롤/홍루이젠  우유/주스 스크램블에그 닭죽/쌀밥 (쌀:국내산) 감자국  동전문어...</td>\n",
              "      <td>쌀밥/잡곡밥 (쌀:국내산) 시금치된장국  등갈비김치찜  파프리카잡채  콩나물무침  ...</td>\n",
              "      <td>김밥  맑은국  해물볶음우동  나초콥샐러드  음료  포기김치 (김치:국내산)</td>\n",
              "    </tr>\n",
              "  </tbody>\n",
              "</table>\n",
              "</div>\n",
              "      <button class=\"colab-df-convert\" onclick=\"convertToInteractive('df-8aff56a8-0e40-48e3-9ca8-bca59c6386bf')\"\n",
              "              title=\"Convert this dataframe to an interactive table.\"\n",
              "              style=\"display:none;\">\n",
              "        \n",
              "  <svg xmlns=\"http://www.w3.org/2000/svg\" height=\"24px\"viewBox=\"0 0 24 24\"\n",
              "       width=\"24px\">\n",
              "    <path d=\"M0 0h24v24H0V0z\" fill=\"none\"/>\n",
              "    <path d=\"M18.56 5.44l.94 2.06.94-2.06 2.06-.94-2.06-.94-.94-2.06-.94 2.06-2.06.94zm-11 1L8.5 8.5l.94-2.06 2.06-.94-2.06-.94L8.5 2.5l-.94 2.06-2.06.94zm10 10l.94 2.06.94-2.06 2.06-.94-2.06-.94-.94-2.06-.94 2.06-2.06.94z\"/><path d=\"M17.41 7.96l-1.37-1.37c-.4-.4-.92-.59-1.43-.59-.52 0-1.04.2-1.43.59L10.3 9.45l-7.72 7.72c-.78.78-.78 2.05 0 2.83L4 21.41c.39.39.9.59 1.41.59.51 0 1.02-.2 1.41-.59l7.78-7.78 2.81-2.81c.8-.78.8-2.07 0-2.86zM5.41 20L4 18.59l7.72-7.72 1.47 1.35L5.41 20z\"/>\n",
              "  </svg>\n",
              "      </button>\n",
              "      \n",
              "  <style>\n",
              "    .colab-df-container {\n",
              "      display:flex;\n",
              "      flex-wrap:wrap;\n",
              "      gap: 12px;\n",
              "    }\n",
              "\n",
              "    .colab-df-convert {\n",
              "      background-color: #E8F0FE;\n",
              "      border: none;\n",
              "      border-radius: 50%;\n",
              "      cursor: pointer;\n",
              "      display: none;\n",
              "      fill: #1967D2;\n",
              "      height: 32px;\n",
              "      padding: 0 0 0 0;\n",
              "      width: 32px;\n",
              "    }\n",
              "\n",
              "    .colab-df-convert:hover {\n",
              "      background-color: #E2EBFA;\n",
              "      box-shadow: 0px 1px 2px rgba(60, 64, 67, 0.3), 0px 1px 3px 1px rgba(60, 64, 67, 0.15);\n",
              "      fill: #174EA6;\n",
              "    }\n",
              "\n",
              "    [theme=dark] .colab-df-convert {\n",
              "      background-color: #3B4455;\n",
              "      fill: #D2E3FC;\n",
              "    }\n",
              "\n",
              "    [theme=dark] .colab-df-convert:hover {\n",
              "      background-color: #434B5C;\n",
              "      box-shadow: 0px 1px 3px 1px rgba(0, 0, 0, 0.15);\n",
              "      filter: drop-shadow(0px 1px 2px rgba(0, 0, 0, 0.3));\n",
              "      fill: #FFFFFF;\n",
              "    }\n",
              "  </style>\n",
              "\n",
              "      <script>\n",
              "        const buttonEl =\n",
              "          document.querySelector('#df-8aff56a8-0e40-48e3-9ca8-bca59c6386bf button.colab-df-convert');\n",
              "        buttonEl.style.display =\n",
              "          google.colab.kernel.accessAllowed ? 'block' : 'none';\n",
              "\n",
              "        async function convertToInteractive(key) {\n",
              "          const element = document.querySelector('#df-8aff56a8-0e40-48e3-9ca8-bca59c6386bf');\n",
              "          const dataTable =\n",
              "            await google.colab.kernel.invokeFunction('convertToInteractive',\n",
              "                                                     [key], {});\n",
              "          if (!dataTable) return;\n",
              "\n",
              "          const docLinkHtml = 'Like what you see? Visit the ' +\n",
              "            '<a target=\"_blank\" href=https://colab.research.google.com/notebooks/data_table.ipynb>data table notebook</a>'\n",
              "            + ' to learn more about interactive tables.';\n",
              "          element.innerHTML = '';\n",
              "          dataTable['output_type'] = 'display_data';\n",
              "          await google.colab.output.renderOutput(dataTable, element);\n",
              "          const docLink = document.createElement('div');\n",
              "          docLink.innerHTML = docLinkHtml;\n",
              "          element.appendChild(docLink);\n",
              "        }\n",
              "      </script>\n",
              "    </div>\n",
              "  </div>\n",
              "  "
            ],
            "text/plain": [
              "   Unnamed: 0  ...                                               석식메뉴\n",
              "0         843  ...  쌀밥/잡곡밥 (쌀:국내산) 두부김치국  돼지고기장조림  야채계란찜  꽃상추무침  열...\n",
              "1         844  ...  쌀밥/잡곡밥 (쌀:국내산) 브로컬리크림스프  옛날왕돈가스  키위드레싱샐러드  찐옥수...\n",
              "2         845  ...  쌀밥/잡곡밥 (쌀:국내산) 꽃게탕  안동찜닭  해물겨자냉채  간장깻잎지  포기김치 ...\n",
              "3         846  ...  쌀밥/잡곡밥 (쌀:국내산) 얼갈이국  오리불고기  두부구이  부추생채/상추쌈  포기...\n",
              "4         847  ...        김밥  맑은국  해물볶음우동  나초콥샐러드  음료  포기김치 (김치:국내산) \n",
              "\n",
              "[5 rows x 11 columns]"
            ]
          },
          "metadata": {},
          "execution_count": 7
        }
      ]
    },
    {
      "cell_type": "code",
      "source": [
        "train.info()"
      ],
      "metadata": {
        "colab": {
          "base_uri": "https://localhost:8080/"
        },
        "id": "p_kqj2U6z4fw",
        "outputId": "2c60e63d-8803-4c48-fe6a-d3f6203bd786"
      },
      "execution_count": null,
      "outputs": [
        {
          "output_type": "stream",
          "name": "stdout",
          "text": [
            "<class 'pandas.core.frame.DataFrame'>\n",
            "RangeIndex: 843 entries, 0 to 842\n",
            "Data columns (total 12 columns):\n",
            " #   Column          Non-Null Count  Dtype  \n",
            "---  ------          --------------  -----  \n",
            " 0   Unnamed: 0      843 non-null    int64  \n",
            " 1   일자              843 non-null    object \n",
            " 2   요일              843 non-null    object \n",
            " 3   본사정원수           843 non-null    int64  \n",
            " 4   본사휴가자수          843 non-null    int64  \n",
            " 5   본사출장자수          843 non-null    int64  \n",
            " 6   본사시간외근무명령서승인건수  843 non-null    int64  \n",
            " 7   현본사소속재택근무자수     843 non-null    float64\n",
            " 8   조식메뉴            843 non-null    object \n",
            " 9   중식메뉴            843 non-null    object \n",
            " 10  석식메뉴            843 non-null    object \n",
            " 11  중식계             843 non-null    float64\n",
            "dtypes: float64(2), int64(5), object(5)\n",
            "memory usage: 79.2+ KB\n"
          ]
        }
      ]
    },
    {
      "cell_type": "code",
      "source": [
        "#안쓸 컬럼 없애기\n",
        "train=train.drop('Unnamed: 0',axis=1)\n",
        "test=test.drop('Unnamed: 0',axis=1)"
      ],
      "metadata": {
        "id": "8VNac1lgz5p1"
      },
      "execution_count": 5,
      "outputs": []
    },
    {
      "cell_type": "code",
      "source": [
        "#일자 나누기\n",
        "train['일자']=pd.to_datetime(train['일자'])\n",
        "test['일자']=pd.to_datetime(test['일자'])"
      ],
      "metadata": {
        "id": "nvD2pmcjFv3P"
      },
      "execution_count": 6,
      "outputs": []
    },
    {
      "cell_type": "code",
      "source": [
        "#메뉴 없애기, 사실 이용하면 좋겠지만 그럴 자신이 없음\n",
        "train=train.drop(['조식메뉴','중식메뉴','석식메뉴'],axis=1)\n",
        "test=test.drop(['조식메뉴','중식메뉴','석식메뉴'],axis=1)"
      ],
      "metadata": {
        "id": "Z4UPYKhcGEb4"
      },
      "execution_count": 7,
      "outputs": []
    },
    {
      "cell_type": "code",
      "source": [
        "train.info()"
      ],
      "metadata": {
        "colab": {
          "base_uri": "https://localhost:8080/"
        },
        "id": "xtKRC4Q0JMbe",
        "outputId": "8ca25a11-489f-4161-aee8-1af9a8f521bf"
      },
      "execution_count": 9,
      "outputs": [
        {
          "output_type": "stream",
          "name": "stdout",
          "text": [
            "<class 'pandas.core.frame.DataFrame'>\n",
            "RangeIndex: 843 entries, 0 to 842\n",
            "Data columns (total 8 columns):\n",
            " #   Column          Non-Null Count  Dtype         \n",
            "---  ------          --------------  -----         \n",
            " 0   일자              843 non-null    datetime64[ns]\n",
            " 1   요일              843 non-null    object        \n",
            " 2   본사정원수           843 non-null    int64         \n",
            " 3   본사휴가자수          843 non-null    int64         \n",
            " 4   본사출장자수          843 non-null    int64         \n",
            " 5   본사시간외근무명령서승인건수  843 non-null    int64         \n",
            " 6   현본사소속재택근무자수     843 non-null    float64       \n",
            " 7   중식계             843 non-null    float64       \n",
            "dtypes: datetime64[ns](1), float64(2), int64(4), object(1)\n",
            "memory usage: 52.8+ KB\n"
          ]
        }
      ]
    },
    {
      "cell_type": "markdown",
      "source": [
        "# EDA"
      ],
      "metadata": {
        "id": "ex3w3nI-JROB"
      }
    },
    {
      "cell_type": "code",
      "source": [
        "sns.histplot(data=train,x='중식계')"
      ],
      "metadata": {
        "colab": {
          "base_uri": "https://localhost:8080/",
          "height": 300
        },
        "id": "XNAiRaQJL9IF",
        "outputId": "0d68971e-18ec-427d-cccd-e8057f930ab6"
      },
      "execution_count": null,
      "outputs": [
        {
          "output_type": "execute_result",
          "data": {
            "text/plain": [
              "<matplotlib.axes._subplots.AxesSubplot at 0x7fd7e61d3290>"
            ]
          },
          "metadata": {},
          "execution_count": 21
        },
        {
          "output_type": "display_data",
          "data": {
            "image/png": "[encoded data removed]",
            "text/plain": [
              "<Figure size 432x288 with 1 Axes>"
            ]
          },
          "metadata": {
            "needs_background": "light"
          }
        }
      ]
    },
    {
      "cell_type": "code",
      "source": [
        "plt.figure(figsize=(15,5))\n",
        "sns.lineplot(data=train,\n",
        "             x='일자',\n",
        "             y='본사정원수')"
      ],
      "metadata": {
        "colab": {
          "base_uri": "https://localhost:8080/",
          "height": 375
        },
        "id": "DODbxQ5HLP1-",
        "outputId": "9991c7c2-e05e-40bf-fed3-e12ff6206c4b"
      },
      "execution_count": null,
      "outputs": [
        {
          "output_type": "execute_result",
          "data": {
            "text/plain": [
              "<matplotlib.axes._subplots.AxesSubplot at 0x7fd7e63120d0>"
            ]
          },
          "metadata": {},
          "execution_count": 20
        },
        {
          "output_type": "display_data",
          "data": {
            "image/png": "[encoded data removed]",
            "text/plain": [
              "<Figure size 1080x360 with 1 Axes>"
            ]
          },
          "metadata": {
            "needs_background": "light"
          }
        }
      ]
    },
    {
      "cell_type": "markdown",
      "source": [
        "해가 바뀔수록 본사정원수가 늘어나고 있다. "
      ],
      "metadata": {
        "id": "drG8wYwKkn3t"
      }
    },
    {
      "cell_type": "code",
      "source": [
        "plt.figure(figsize=(15,5))\n",
        "sns.lineplot(data=train,\n",
        "             x='일자',\n",
        "             y='중식계')"
      ],
      "metadata": {
        "colab": {
          "base_uri": "https://localhost:8080/",
          "height": 375
        },
        "id": "tjxMaSMhkrLW",
        "outputId": "cd73c557-0ad2-495c-c3ff-7baf01a11cd0"
      },
      "execution_count": 10,
      "outputs": [
        {
          "output_type": "execute_result",
          "data": {
            "text/plain": [
              "<matplotlib.axes._subplots.AxesSubplot at 0x7f31835b4fd0>"
            ]
          },
          "metadata": {},
          "execution_count": 10
        },
        {
          "output_type": "display_data",
          "data": {
            "image/png": "[encoded data removed]",
            "text/plain": [
              "<Figure size 1080x360 with 1 Axes>"
            ]
          },
          "metadata": {
            "needs_background": "light"
          }
        }
      ]
    },
    {
      "cell_type": "markdown",
      "source": [
        "그만 알아보도록 하자"
      ],
      "metadata": {
        "id": "zyxS28Xck16a"
      }
    },
    {
      "cell_type": "code",
      "source": [
        "train.columns"
      ],
      "metadata": {
        "colab": {
          "base_uri": "https://localhost:8080/"
        },
        "id": "FTHt0KA-MnfU",
        "outputId": "3d283a33-8aaf-46f9-c3da-432486016456"
      },
      "execution_count": null,
      "outputs": [
        {
          "output_type": "execute_result",
          "data": {
            "text/plain": [
              "Index(['일자', '요일', '본사정원수', '본사휴가자수', '본사출장자수', '본사시간외근무명령서승인건수',\n",
              "       '현본사소속재택근무자수', '중식계'],\n",
              "      dtype='object')"
            ]
          },
          "metadata": {},
          "execution_count": 27
        }
      ]
    },
    {
      "cell_type": "code",
      "source": [
        "col=['요일', '본사정원수', '본사휴가자수', '본사출장자수', '본사시간외근무명령서승인건수',\n",
        "       '현본사소속재택근무자수', '중식계']"
      ],
      "metadata": {
        "id": "SI-EcV0TMpus"
      },
      "execution_count": null,
      "outputs": []
    },
    {
      "cell_type": "code",
      "source": [
        "plt.figure(figsize=(9,9))\n",
        "for i,colName in enumerate(col):\n",
        "  plt.subplot(4,2,i+1)\n",
        "  sns.histplot(train.loc[:,colName])\n",
        "plt.tight_layout()\n",
        "plt.show()"
      ],
      "metadata": {
        "colab": {
          "base_uri": "https://localhost:8080/",
          "height": 657
        },
        "id": "y_cDbKGJMFgE",
        "outputId": "80d9a827-72fc-47b6-99e5-a86b98681d03"
      },
      "execution_count": null,
      "outputs": [
        {
          "output_type": "display_data",
          "data": {
            "image/png": "[encoded data removed]",
            "text/plain": [
              "<Figure size 648x648 with 7 Axes>"
            ]
          },
          "metadata": {
            "needs_background": "light"
          }
        }
      ]
    },
    {
      "cell_type": "code",
      "source": [
        "sns.boxplot(train['본사휴가자수'])"
      ],
      "metadata": {
        "colab": {
          "base_uri": "https://localhost:8080/",
          "height": 300
        },
        "id": "tQrGw588a9r7",
        "outputId": "b291986c-56ef-4162-babd-91276015d044"
      },
      "execution_count": null,
      "outputs": [
        {
          "output_type": "execute_result",
          "data": {
            "text/plain": [
              "<matplotlib.axes._subplots.AxesSubplot at 0x7fd7dd1f2dd0>"
            ]
          },
          "metadata": {},
          "execution_count": 44
        },
        {
          "output_type": "display_data",
          "data": {
            "image/png": "[encoded data removed]",
            "text/plain": [
              "<Figure size 432x288 with 1 Axes>"
            ]
          },
          "metadata": {
            "needs_background": "light"
          }
        }
      ]
    },
    {
      "cell_type": "code",
      "source": [
        "train['현본사소속재택근무자수'].value_counts()"
      ],
      "metadata": {
        "colab": {
          "base_uri": "https://localhost:8080/"
        },
        "id": "MCG0QcQXQoTy",
        "outputId": "e0086218-edf7-4b70-df73-2ebf4b5cd09c"
      },
      "execution_count": null,
      "outputs": [
        {
          "output_type": "execute_result",
          "data": {
            "text/plain": [
              "0.0    843\n",
              "Name: 현본사소속재택근무자수, dtype: int64"
            ]
          },
          "metadata": {},
          "execution_count": 31
        }
      ]
    },
    {
      "cell_type": "markdown",
      "source": [
        "삭제한다"
      ],
      "metadata": {
        "id": "awznfxlTlaCm"
      }
    },
    {
      "cell_type": "code",
      "source": [
        "train=train.drop('현본사소속재택근무자수',axis=1)\n",
        "test=test.drop('현본사소속재택근무자수',axis=1)"
      ],
      "metadata": {
        "id": "_RxE6K_IRV_h"
      },
      "execution_count": 8,
      "outputs": []
    },
    {
      "cell_type": "code",
      "source": [
        "#일자 분리\n",
        "import datetime\n",
        "\n",
        "train['year']=train['일자'].dt.year\n",
        "test['year']=test['일자'].dt.year\n",
        "\n",
        "train['month']=train['일자'].dt.month\n",
        "test['month']=test['일자'].dt.month\n",
        "\n",
        "train['day']=train['일자'].dt.day\n",
        "test['day']=test['일자'].dt.day"
      ],
      "metadata": {
        "id": "J04mtvPsTa5-"
      },
      "execution_count": 9,
      "outputs": []
    },
    {
      "cell_type": "code",
      "source": [
        "train.head()"
      ],
      "metadata": {
        "colab": {
          "base_uri": "https://localhost:8080/",
          "height": 354
        },
        "id": "HavcyqTBX3E8",
        "outputId": "8f63c142-6fc7-411c-8eb3-06bb39a3c0d1"
      },
      "execution_count": 13,
      "outputs": [
        {
          "output_type": "execute_result",
          "data": {
            "text/html": [
              "\n",
              "  <div id=\"df-6b47b96a-4b31-4df0-8334-f2eb4dd092e5\">\n",
              "    <div class=\"colab-df-container\">\n",
              "      <div>\n",
              "<style scoped>\n",
              "    .dataframe tbody tr th:only-of-type {\n",
              "        vertical-align: middle;\n",
              "    }\n",
              "\n",
              "    .dataframe tbody tr th {\n",
              "        vertical-align: top;\n",
              "    }\n",
              "\n",
              "    .dataframe thead th {\n",
              "        text-align: right;\n",
              "    }\n",
              "</style>\n",
              "<table border=\"1\" class=\"dataframe\">\n",
              "  <thead>\n",
              "    <tr style=\"text-align: right;\">\n",
              "      <th></th>\n",
              "      <th>일자</th>\n",
              "      <th>요일</th>\n",
              "      <th>본사정원수</th>\n",
              "      <th>본사휴가자수</th>\n",
              "      <th>본사출장자수</th>\n",
              "      <th>본사시간외근무명령서승인건수</th>\n",
              "      <th>중식계</th>\n",
              "      <th>year</th>\n",
              "      <th>month</th>\n",
              "      <th>day</th>\n",
              "    </tr>\n",
              "  </thead>\n",
              "  <tbody>\n",
              "    <tr>\n",
              "      <th>0</th>\n",
              "      <td>2016-02-01</td>\n",
              "      <td>월</td>\n",
              "      <td>2601</td>\n",
              "      <td>50</td>\n",
              "      <td>150</td>\n",
              "      <td>238</td>\n",
              "      <td>1039.0</td>\n",
              "      <td>2016</td>\n",
              "      <td>2</td>\n",
              "      <td>1</td>\n",
              "    </tr>\n",
              "    <tr>\n",
              "      <th>1</th>\n",
              "      <td>2016-02-02</td>\n",
              "      <td>화</td>\n",
              "      <td>2601</td>\n",
              "      <td>50</td>\n",
              "      <td>173</td>\n",
              "      <td>319</td>\n",
              "      <td>867.0</td>\n",
              "      <td>2016</td>\n",
              "      <td>2</td>\n",
              "      <td>2</td>\n",
              "    </tr>\n",
              "    <tr>\n",
              "      <th>2</th>\n",
              "      <td>2016-02-03</td>\n",
              "      <td>수</td>\n",
              "      <td>2601</td>\n",
              "      <td>56</td>\n",
              "      <td>180</td>\n",
              "      <td>111</td>\n",
              "      <td>1017.0</td>\n",
              "      <td>2016</td>\n",
              "      <td>2</td>\n",
              "      <td>3</td>\n",
              "    </tr>\n",
              "    <tr>\n",
              "      <th>3</th>\n",
              "      <td>2016-02-04</td>\n",
              "      <td>목</td>\n",
              "      <td>2601</td>\n",
              "      <td>104</td>\n",
              "      <td>220</td>\n",
              "      <td>355</td>\n",
              "      <td>978.0</td>\n",
              "      <td>2016</td>\n",
              "      <td>2</td>\n",
              "      <td>4</td>\n",
              "    </tr>\n",
              "    <tr>\n",
              "      <th>4</th>\n",
              "      <td>2016-02-05</td>\n",
              "      <td>금</td>\n",
              "      <td>2601</td>\n",
              "      <td>278</td>\n",
              "      <td>181</td>\n",
              "      <td>34</td>\n",
              "      <td>925.0</td>\n",
              "      <td>2016</td>\n",
              "      <td>2</td>\n",
              "      <td>5</td>\n",
              "    </tr>\n",
              "  </tbody>\n",
              "</table>\n",
              "</div>\n",
              "      <button class=\"colab-df-convert\" onclick=\"convertToInteractive('df-6b47b96a-4b31-4df0-8334-f2eb4dd092e5')\"\n",
              "              title=\"Convert this dataframe to an interactive table.\"\n",
              "              style=\"display:none;\">\n",
              "        \n",
              "  <svg xmlns=\"http://www.w3.org/2000/svg\" height=\"24px\"viewBox=\"0 0 24 24\"\n",
              "       width=\"24px\">\n",
              "    <path d=\"M0 0h24v24H0V0z\" fill=\"none\"/>\n",
              "    <path d=\"M18.56 5.44l.94 2.06.94-2.06 2.06-.94-2.06-.94-.94-2.06-.94 2.06-2.06.94zm-11 1L8.5 8.5l.94-2.06 2.06-.94-2.06-.94L8.5 2.5l-.94 2.06-2.06.94zm10 10l.94 2.06.94-2.06 2.06-.94-2.06-.94-.94-2.06-.94 2.06-2.06.94z\"/><path d=\"M17.41 7.96l-1.37-1.37c-.4-.4-.92-.59-1.43-.59-.52 0-1.04.2-1.43.59L10.3 9.45l-7.72 7.72c-.78.78-.78 2.05 0 2.83L4 21.41c.39.39.9.59 1.41.59.51 0 1.02-.2 1.41-.59l7.78-7.78 2.81-2.81c.8-.78.8-2.07 0-2.86zM5.41 20L4 18.59l7.72-7.72 1.47 1.35L5.41 20z\"/>\n",
              "  </svg>\n",
              "      </button>\n",
              "      \n",
              "  <style>\n",
              "    .colab-df-container {\n",
              "      display:flex;\n",
              "      flex-wrap:wrap;\n",
              "      gap: 12px;\n",
              "    }\n",
              "\n",
              "    .colab-df-convert {\n",
              "      background-color: #E8F0FE;\n",
              "      border: none;\n",
              "      border-radius: 50%;\n",
              "      cursor: pointer;\n",
              "      display: none;\n",
              "      fill: #1967D2;\n",
              "      height: 32px;\n",
              "      padding: 0 0 0 0;\n",
              "      width: 32px;\n",
              "    }\n",
              "\n",
              "    .colab-df-convert:hover {\n",
              "      background-color: #E2EBFA;\n",
              "      box-shadow: 0px 1px 2px rgba(60, 64, 67, 0.3), 0px 1px 3px 1px rgba(60, 64, 67, 0.15);\n",
              "      fill: #174EA6;\n",
              "    }\n",
              "\n",
              "    [theme=dark] .colab-df-convert {\n",
              "      background-color: #3B4455;\n",
              "      fill: #D2E3FC;\n",
              "    }\n",
              "\n",
              "    [theme=dark] .colab-df-convert:hover {\n",
              "      background-color: #434B5C;\n",
              "      box-shadow: 0px 1px 3px 1px rgba(0, 0, 0, 0.15);\n",
              "      filter: drop-shadow(0px 1px 2px rgba(0, 0, 0, 0.3));\n",
              "      fill: #FFFFFF;\n",
              "    }\n",
              "  </style>\n",
              "\n",
              "      <script>\n",
              "        const buttonEl =\n",
              "          document.querySelector('#df-6b47b96a-4b31-4df0-8334-f2eb4dd092e5 button.colab-df-convert');\n",
              "        buttonEl.style.display =\n",
              "          google.colab.kernel.accessAllowed ? 'block' : 'none';\n",
              "\n",
              "        async function convertToInteractive(key) {\n",
              "          const element = document.querySelector('#df-6b47b96a-4b31-4df0-8334-f2eb4dd092e5');\n",
              "          const dataTable =\n",
              "            await google.colab.kernel.invokeFunction('convertToInteractive',\n",
              "                                                     [key], {});\n",
              "          if (!dataTable) return;\n",
              "\n",
              "          const docLinkHtml = 'Like what you see? Visit the ' +\n",
              "            '<a target=\"_blank\" href=https://colab.research.google.com/notebooks/data_table.ipynb>data table notebook</a>'\n",
              "            + ' to learn more about interactive tables.';\n",
              "          element.innerHTML = '';\n",
              "          dataTable['output_type'] = 'display_data';\n",
              "          await google.colab.output.renderOutput(dataTable, element);\n",
              "          const docLink = document.createElement('div');\n",
              "          docLink.innerHTML = docLinkHtml;\n",
              "          element.appendChild(docLink);\n",
              "        }\n",
              "      </script>\n",
              "    </div>\n",
              "  </div>\n",
              "  "
            ],
            "text/plain": [
              "          일자 요일  본사정원수  본사휴가자수  ...     중식계  year  month  day\n",
              "0 2016-02-01  월   2601      50  ...  1039.0  2016      2    1\n",
              "1 2016-02-02  화   2601      50  ...   867.0  2016      2    2\n",
              "2 2016-02-03  수   2601      56  ...  1017.0  2016      2    3\n",
              "3 2016-02-04  목   2601     104  ...   978.0  2016      2    4\n",
              "4 2016-02-05  금   2601     278  ...   925.0  2016      2    5\n",
              "\n",
              "[5 rows x 10 columns]"
            ]
          },
          "metadata": {},
          "execution_count": 13
        }
      ]
    },
    {
      "cell_type": "code",
      "source": [
        "sns.lineplot(data=train,x='year',y='중식계')"
      ],
      "metadata": {
        "colab": {
          "base_uri": "https://localhost:8080/",
          "height": 300
        },
        "id": "DVKFWGGdX4te",
        "outputId": "fcceb26f-9102-4f0c-c23c-2d1117095d73"
      },
      "execution_count": null,
      "outputs": [
        {
          "output_type": "execute_result",
          "data": {
            "text/plain": [
              "<matplotlib.axes._subplots.AxesSubplot at 0x7fd7dd330e50>"
            ]
          },
          "metadata": {},
          "execution_count": 39
        },
        {
          "output_type": "display_data",
          "data": {
            "image/png": "[encoded data removed]",
            "text/plain": [
              "<Figure size 432x288 with 1 Axes>"
            ]
          },
          "metadata": {
            "needs_background": "light"
          }
        }
      ]
    },
    {
      "cell_type": "code",
      "source": [
        "sns.lineplot(data=train,x='month',y='중식계')"
      ],
      "metadata": {
        "colab": {
          "base_uri": "https://localhost:8080/",
          "height": 300
        },
        "id": "p7UwVfJ2YSze",
        "outputId": "33163115-f58a-4e01-d1d6-8f0e8d909f86"
      },
      "execution_count": null,
      "outputs": [
        {
          "output_type": "execute_result",
          "data": {
            "text/plain": [
              "<matplotlib.axes._subplots.AxesSubplot at 0x7fd7dd2d4b10>"
            ]
          },
          "metadata": {},
          "execution_count": 40
        },
        {
          "output_type": "display_data",
          "data": {
            "image/png": "[encoded data removed]",
            "text/plain": [
              "<Figure size 432x288 with 1 Axes>"
            ]
          },
          "metadata": {
            "needs_background": "light"
          }
        }
      ]
    },
    {
      "cell_type": "code",
      "source": [
        "sns.lineplot(data=train,x='day',y='중식계')"
      ],
      "metadata": {
        "colab": {
          "base_uri": "https://localhost:8080/",
          "height": 300
        },
        "id": "gJRf-_GkYVIk",
        "outputId": "e06c19f5-71a4-4536-bf9c-31ae950e9889"
      },
      "execution_count": null,
      "outputs": [
        {
          "output_type": "execute_result",
          "data": {
            "text/plain": [
              "<matplotlib.axes._subplots.AxesSubplot at 0x7fd7e5fa7810>"
            ]
          },
          "metadata": {},
          "execution_count": 41
        },
        {
          "output_type": "display_data",
          "data": {
            "image/png": "[encoded data removed]",
            "text/plain": [
              "<Figure size 432x288 with 1 Axes>"
            ]
          },
          "metadata": {
            "needs_background": "light"
          }
        }
      ]
    },
    {
      "cell_type": "code",
      "source": [
        "\n",
        "sns.heatmap(train.corr(),annot=True)"
      ],
      "metadata": {
        "colab": {
          "base_uri": "https://localhost:8080/",
          "height": 361
        },
        "id": "i55nyIv0YXNj",
        "outputId": "eebabc50-ba8e-45d7-df86-18ff039027ed"
      },
      "execution_count": null,
      "outputs": [
        {
          "output_type": "execute_result",
          "data": {
            "text/plain": [
              "<matplotlib.axes._subplots.AxesSubplot at 0x7fd7dd37eb50>"
            ]
          },
          "metadata": {},
          "execution_count": 42
        },
        {
          "output_type": "display_data",
          "data": {
            "image/png": "[encoded data removed]",
            "text/plain": [
              "<Figure size 432x288 with 2 Axes>"
            ]
          },
          "metadata": {
            "needs_background": "light"
          }
        }
      ]
    },
    {
      "cell_type": "code",
      "source": [
        "from sklearn.preprocessing import LabelEncoder\n",
        "\n",
        "en=LabelEncoder()\n",
        "train['요일']=en.fit_transform(train['요일'])\n",
        "test['요일']=en.transform(test['요일'])\n",
        "\n",
        "display(train)\n",
        "print()\n",
        "display(test)"
      ],
      "metadata": {
        "colab": {
          "base_uri": "https://localhost:8080/",
          "height": 1000
        },
        "id": "wxEECULCaLxw",
        "outputId": "1f67205f-159c-4d4a-fd52-cd410f7baf67"
      },
      "execution_count": 10,
      "outputs": [
        {
          "output_type": "display_data",
          "data": {
            "text/html": [
              "\n",
              "  <div id=\"df-548365be-eee8-4214-becd-7410d0f6c4ea\">\n",
              "    <div class=\"colab-df-container\">\n",
              "      <div>\n",
              "<style scoped>\n",
              "    .dataframe tbody tr th:only-of-type {\n",
              "        vertical-align: middle;\n",
              "    }\n",
              "\n",
              "    .dataframe tbody tr th {\n",
              "        vertical-align: top;\n",
              "    }\n",
              "\n",
              "    .dataframe thead th {\n",
              "        text-align: right;\n",
              "    }\n",
              "</style>\n",
              "<table border=\"1\" class=\"dataframe\">\n",
              "  <thead>\n",
              "    <tr style=\"text-align: right;\">\n",
              "      <th></th>\n",
              "      <th>일자</th>\n",
              "      <th>요일</th>\n",
              "      <th>본사정원수</th>\n",
              "      <th>본사휴가자수</th>\n",
              "      <th>본사출장자수</th>\n",
              "      <th>본사시간외근무명령서승인건수</th>\n",
              "      <th>중식계</th>\n",
              "      <th>year</th>\n",
              "      <th>month</th>\n",
              "      <th>day</th>\n",
              "    </tr>\n",
              "  </thead>\n",
              "  <tbody>\n",
              "    <tr>\n",
              "      <th>0</th>\n",
              "      <td>2016-02-01</td>\n",
              "      <td>3</td>\n",
              "      <td>2601</td>\n",
              "      <td>50</td>\n",
              "      <td>150</td>\n",
              "      <td>238</td>\n",
              "      <td>1039.0</td>\n",
              "      <td>2016</td>\n",
              "      <td>2</td>\n",
              "      <td>1</td>\n",
              "    </tr>\n",
              "    <tr>\n",
              "      <th>1</th>\n",
              "      <td>2016-02-02</td>\n",
              "      <td>4</td>\n",
              "      <td>2601</td>\n",
              "      <td>50</td>\n",
              "      <td>173</td>\n",
              "      <td>319</td>\n",
              "      <td>867.0</td>\n",
              "      <td>2016</td>\n",
              "      <td>2</td>\n",
              "      <td>2</td>\n",
              "    </tr>\n",
              "    <tr>\n",
              "      <th>2</th>\n",
              "      <td>2016-02-03</td>\n",
              "      <td>2</td>\n",
              "      <td>2601</td>\n",
              "      <td>56</td>\n",
              "      <td>180</td>\n",
              "      <td>111</td>\n",
              "      <td>1017.0</td>\n",
              "      <td>2016</td>\n",
              "      <td>2</td>\n",
              "      <td>3</td>\n",
              "    </tr>\n",
              "    <tr>\n",
              "      <th>3</th>\n",
              "      <td>2016-02-04</td>\n",
              "      <td>1</td>\n",
              "      <td>2601</td>\n",
              "      <td>104</td>\n",
              "      <td>220</td>\n",
              "      <td>355</td>\n",
              "      <td>978.0</td>\n",
              "      <td>2016</td>\n",
              "      <td>2</td>\n",
              "      <td>4</td>\n",
              "    </tr>\n",
              "    <tr>\n",
              "      <th>4</th>\n",
              "      <td>2016-02-05</td>\n",
              "      <td>0</td>\n",
              "      <td>2601</td>\n",
              "      <td>278</td>\n",
              "      <td>181</td>\n",
              "      <td>34</td>\n",
              "      <td>925.0</td>\n",
              "      <td>2016</td>\n",
              "      <td>2</td>\n",
              "      <td>5</td>\n",
              "    </tr>\n",
              "    <tr>\n",
              "      <th>...</th>\n",
              "      <td>...</td>\n",
              "      <td>...</td>\n",
              "      <td>...</td>\n",
              "      <td>...</td>\n",
              "      <td>...</td>\n",
              "      <td>...</td>\n",
              "      <td>...</td>\n",
              "      <td>...</td>\n",
              "      <td>...</td>\n",
              "      <td>...</td>\n",
              "    </tr>\n",
              "    <tr>\n",
              "      <th>838</th>\n",
              "      <td>2019-07-10</td>\n",
              "      <td>2</td>\n",
              "      <td>2760</td>\n",
              "      <td>123</td>\n",
              "      <td>286</td>\n",
              "      <td>0</td>\n",
              "      <td>862.0</td>\n",
              "      <td>2019</td>\n",
              "      <td>7</td>\n",
              "      <td>10</td>\n",
              "    </tr>\n",
              "    <tr>\n",
              "      <th>839</th>\n",
              "      <td>2019-07-11</td>\n",
              "      <td>1</td>\n",
              "      <td>2760</td>\n",
              "      <td>102</td>\n",
              "      <td>301</td>\n",
              "      <td>371</td>\n",
              "      <td>730.0</td>\n",
              "      <td>2019</td>\n",
              "      <td>7</td>\n",
              "      <td>11</td>\n",
              "    </tr>\n",
              "    <tr>\n",
              "      <th>840</th>\n",
              "      <td>2019-07-12</td>\n",
              "      <td>0</td>\n",
              "      <td>2760</td>\n",
              "      <td>244</td>\n",
              "      <td>306</td>\n",
              "      <td>0</td>\n",
              "      <td>856.0</td>\n",
              "      <td>2019</td>\n",
              "      <td>7</td>\n",
              "      <td>12</td>\n",
              "    </tr>\n",
              "    <tr>\n",
              "      <th>841</th>\n",
              "      <td>2019-07-15</td>\n",
              "      <td>3</td>\n",
              "      <td>2760</td>\n",
              "      <td>144</td>\n",
              "      <td>232</td>\n",
              "      <td>396</td>\n",
              "      <td>1127.0</td>\n",
              "      <td>2019</td>\n",
              "      <td>7</td>\n",
              "      <td>15</td>\n",
              "    </tr>\n",
              "    <tr>\n",
              "      <th>842</th>\n",
              "      <td>2019-07-16</td>\n",
              "      <td>4</td>\n",
              "      <td>2760</td>\n",
              "      <td>100</td>\n",
              "      <td>227</td>\n",
              "      <td>426</td>\n",
              "      <td>952.0</td>\n",
              "      <td>2019</td>\n",
              "      <td>7</td>\n",
              "      <td>16</td>\n",
              "    </tr>\n",
              "  </tbody>\n",
              "</table>\n",
              "<p>843 rows × 10 columns</p>\n",
              "</div>\n",
              "      <button class=\"colab-df-convert\" onclick=\"convertToInteractive('df-548365be-eee8-4214-becd-7410d0f6c4ea')\"\n",
              "              title=\"Convert this dataframe to an interactive table.\"\n",
              "              style=\"display:none;\">\n",
              "        \n",
              "  <svg xmlns=\"http://www.w3.org/2000/svg\" height=\"24px\"viewBox=\"0 0 24 24\"\n",
              "       width=\"24px\">\n",
              "    <path d=\"M0 0h24v24H0V0z\" fill=\"none\"/>\n",
              "    <path d=\"M18.56 5.44l.94 2.06.94-2.06 2.06-.94-2.06-.94-.94-2.06-.94 2.06-2.06.94zm-11 1L8.5 8.5l.94-2.06 2.06-.94-2.06-.94L8.5 2.5l-.94 2.06-2.06.94zm10 10l.94 2.06.94-2.06 2.06-.94-2.06-.94-.94-2.06-.94 2.06-2.06.94z\"/><path d=\"M17.41 7.96l-1.37-1.37c-.4-.4-.92-.59-1.43-.59-.52 0-1.04.2-1.43.59L10.3 9.45l-7.72 7.72c-.78.78-.78 2.05 0 2.83L4 21.41c.39.39.9.59 1.41.59.51 0 1.02-.2 1.41-.59l7.78-7.78 2.81-2.81c.8-.78.8-2.07 0-2.86zM5.41 20L4 18.59l7.72-7.72 1.47 1.35L5.41 20z\"/>\n",
              "  </svg>\n",
              "      </button>\n",
              "      \n",
              "  <style>\n",
              "    .colab-df-container {\n",
              "      display:flex;\n",
              "      flex-wrap:wrap;\n",
              "      gap: 12px;\n",
              "    }\n",
              "\n",
              "    .colab-df-convert {\n",
              "      background-color: #E8F0FE;\n",
              "      border: none;\n",
              "      border-radius: 50%;\n",
              "      cursor: pointer;\n",
              "      display: none;\n",
              "      fill: #1967D2;\n",
              "      height: 32px;\n",
              "      padding: 0 0 0 0;\n",
              "      width: 32px;\n",
              "    }\n",
              "\n",
              "    .colab-df-convert:hover {\n",
              "      background-color: #E2EBFA;\n",
              "      box-shadow: 0px 1px 2px rgba(60, 64, 67, 0.3), 0px 1px 3px 1px rgba(60, 64, 67, 0.15);\n",
              "      fill: #174EA6;\n",
              "    }\n",
              "\n",
              "    [theme=dark] .colab-df-convert {\n",
              "      background-color: #3B4455;\n",
              "      fill: #D2E3FC;\n",
              "    }\n",
              "\n",
              "    [theme=dark] .colab-df-convert:hover {\n",
              "      background-color: #434B5C;\n",
              "      box-shadow: 0px 1px 3px 1px rgba(0, 0, 0, 0.15);\n",
              "      filter: drop-shadow(0px 1px 2px rgba(0, 0, 0, 0.3));\n",
              "      fill: #FFFFFF;\n",
              "    }\n",
              "  </style>\n",
              "\n",
              "      <script>\n",
              "        const buttonEl =\n",
              "          document.querySelector('#df-548365be-eee8-4214-becd-7410d0f6c4ea button.colab-df-convert');\n",
              "        buttonEl.style.display =\n",
              "          google.colab.kernel.accessAllowed ? 'block' : 'none';\n",
              "\n",
              "        async function convertToInteractive(key) {\n",
              "          const element = document.querySelector('#df-548365be-eee8-4214-becd-7410d0f6c4ea');\n",
              "          const dataTable =\n",
              "            await google.colab.kernel.invokeFunction('convertToInteractive',\n",
              "                                                     [key], {});\n",
              "          if (!dataTable) return;\n",
              "\n",
              "          const docLinkHtml = 'Like what you see? Visit the ' +\n",
              "            '<a target=\"_blank\" href=https://colab.research.google.com/notebooks/data_table.ipynb>data table notebook</a>'\n",
              "            + ' to learn more about interactive tables.';\n",
              "          element.innerHTML = '';\n",
              "          dataTable['output_type'] = 'display_data';\n",
              "          await google.colab.output.renderOutput(dataTable, element);\n",
              "          const docLink = document.createElement('div');\n",
              "          docLink.innerHTML = docLinkHtml;\n",
              "          element.appendChild(docLink);\n",
              "        }\n",
              "      </script>\n",
              "    </div>\n",
              "  </div>\n",
              "  "
            ],
            "text/plain": [
              "            일자  요일  본사정원수  본사휴가자수  ...     중식계  year  month  day\n",
              "0   2016-02-01   3   2601      50  ...  1039.0  2016      2    1\n",
              "1   2016-02-02   4   2601      50  ...   867.0  2016      2    2\n",
              "2   2016-02-03   2   2601      56  ...  1017.0  2016      2    3\n",
              "3   2016-02-04   1   2601     104  ...   978.0  2016      2    4\n",
              "4   2016-02-05   0   2601     278  ...   925.0  2016      2    5\n",
              "..         ...  ..    ...     ...  ...     ...   ...    ...  ...\n",
              "838 2019-07-10   2   2760     123  ...   862.0  2019      7   10\n",
              "839 2019-07-11   1   2760     102  ...   730.0  2019      7   11\n",
              "840 2019-07-12   0   2760     244  ...   856.0  2019      7   12\n",
              "841 2019-07-15   3   2760     144  ...  1127.0  2019      7   15\n",
              "842 2019-07-16   4   2760     100  ...   952.0  2019      7   16\n",
              "\n",
              "[843 rows x 10 columns]"
            ]
          },
          "metadata": {}
        },
        {
          "output_type": "stream",
          "name": "stdout",
          "text": [
            "\n"
          ]
        },
        {
          "output_type": "display_data",
          "data": {
            "text/html": [
              "\n",
              "  <div id=\"df-0908d729-7679-4a56-836a-c4ec5159aa96\">\n",
              "    <div class=\"colab-df-container\">\n",
              "      <div>\n",
              "<style scoped>\n",
              "    .dataframe tbody tr th:only-of-type {\n",
              "        vertical-align: middle;\n",
              "    }\n",
              "\n",
              "    .dataframe tbody tr th {\n",
              "        vertical-align: top;\n",
              "    }\n",
              "\n",
              "    .dataframe thead th {\n",
              "        text-align: right;\n",
              "    }\n",
              "</style>\n",
              "<table border=\"1\" class=\"dataframe\">\n",
              "  <thead>\n",
              "    <tr style=\"text-align: right;\">\n",
              "      <th></th>\n",
              "      <th>일자</th>\n",
              "      <th>요일</th>\n",
              "      <th>본사정원수</th>\n",
              "      <th>본사휴가자수</th>\n",
              "      <th>본사출장자수</th>\n",
              "      <th>본사시간외근무명령서승인건수</th>\n",
              "      <th>year</th>\n",
              "      <th>month</th>\n",
              "      <th>day</th>\n",
              "    </tr>\n",
              "  </thead>\n",
              "  <tbody>\n",
              "    <tr>\n",
              "      <th>0</th>\n",
              "      <td>2019-07-17</td>\n",
              "      <td>2</td>\n",
              "      <td>2760</td>\n",
              "      <td>96</td>\n",
              "      <td>259</td>\n",
              "      <td>0</td>\n",
              "      <td>2019</td>\n",
              "      <td>7</td>\n",
              "      <td>17</td>\n",
              "    </tr>\n",
              "    <tr>\n",
              "      <th>1</th>\n",
              "      <td>2019-07-18</td>\n",
              "      <td>1</td>\n",
              "      <td>2760</td>\n",
              "      <td>113</td>\n",
              "      <td>274</td>\n",
              "      <td>310</td>\n",
              "      <td>2019</td>\n",
              "      <td>7</td>\n",
              "      <td>18</td>\n",
              "    </tr>\n",
              "    <tr>\n",
              "      <th>2</th>\n",
              "      <td>2019-07-19</td>\n",
              "      <td>0</td>\n",
              "      <td>2760</td>\n",
              "      <td>236</td>\n",
              "      <td>291</td>\n",
              "      <td>0</td>\n",
              "      <td>2019</td>\n",
              "      <td>7</td>\n",
              "      <td>19</td>\n",
              "    </tr>\n",
              "    <tr>\n",
              "      <th>3</th>\n",
              "      <td>2019-07-22</td>\n",
              "      <td>3</td>\n",
              "      <td>2760</td>\n",
              "      <td>223</td>\n",
              "      <td>218</td>\n",
              "      <td>438</td>\n",
              "      <td>2019</td>\n",
              "      <td>7</td>\n",
              "      <td>22</td>\n",
              "    </tr>\n",
              "    <tr>\n",
              "      <th>4</th>\n",
              "      <td>2019-07-23</td>\n",
              "      <td>4</td>\n",
              "      <td>2760</td>\n",
              "      <td>206</td>\n",
              "      <td>246</td>\n",
              "      <td>449</td>\n",
              "      <td>2019</td>\n",
              "      <td>7</td>\n",
              "      <td>23</td>\n",
              "    </tr>\n",
              "    <tr>\n",
              "      <th>...</th>\n",
              "      <td>...</td>\n",
              "      <td>...</td>\n",
              "      <td>...</td>\n",
              "      <td>...</td>\n",
              "      <td>...</td>\n",
              "      <td>...</td>\n",
              "      <td>...</td>\n",
              "      <td>...</td>\n",
              "      <td>...</td>\n",
              "    </tr>\n",
              "    <tr>\n",
              "      <th>357</th>\n",
              "      <td>2021-01-20</td>\n",
              "      <td>2</td>\n",
              "      <td>2983</td>\n",
              "      <td>75</td>\n",
              "      <td>198</td>\n",
              "      <td>4</td>\n",
              "      <td>2021</td>\n",
              "      <td>1</td>\n",
              "      <td>20</td>\n",
              "    </tr>\n",
              "    <tr>\n",
              "      <th>358</th>\n",
              "      <td>2021-01-21</td>\n",
              "      <td>1</td>\n",
              "      <td>2983</td>\n",
              "      <td>92</td>\n",
              "      <td>231</td>\n",
              "      <td>462</td>\n",
              "      <td>2021</td>\n",
              "      <td>1</td>\n",
              "      <td>21</td>\n",
              "    </tr>\n",
              "    <tr>\n",
              "      <th>359</th>\n",
              "      <td>2021-01-22</td>\n",
              "      <td>0</td>\n",
              "      <td>2983</td>\n",
              "      <td>255</td>\n",
              "      <td>248</td>\n",
              "      <td>1</td>\n",
              "      <td>2021</td>\n",
              "      <td>1</td>\n",
              "      <td>22</td>\n",
              "    </tr>\n",
              "    <tr>\n",
              "      <th>360</th>\n",
              "      <td>2021-01-25</td>\n",
              "      <td>3</td>\n",
              "      <td>2983</td>\n",
              "      <td>107</td>\n",
              "      <td>153</td>\n",
              "      <td>616</td>\n",
              "      <td>2021</td>\n",
              "      <td>1</td>\n",
              "      <td>25</td>\n",
              "    </tr>\n",
              "    <tr>\n",
              "      <th>361</th>\n",
              "      <td>2021-01-26</td>\n",
              "      <td>4</td>\n",
              "      <td>2983</td>\n",
              "      <td>69</td>\n",
              "      <td>183</td>\n",
              "      <td>551</td>\n",
              "      <td>2021</td>\n",
              "      <td>1</td>\n",
              "      <td>26</td>\n",
              "    </tr>\n",
              "  </tbody>\n",
              "</table>\n",
              "<p>362 rows × 9 columns</p>\n",
              "</div>\n",
              "      <button class=\"colab-df-convert\" onclick=\"convertToInteractive('df-0908d729-7679-4a56-836a-c4ec5159aa96')\"\n",
              "              title=\"Convert this dataframe to an interactive table.\"\n",
              "              style=\"display:none;\">\n",
              "        \n",
              "  <svg xmlns=\"http://www.w3.org/2000/svg\" height=\"24px\"viewBox=\"0 0 24 24\"\n",
              "       width=\"24px\">\n",
              "    <path d=\"M0 0h24v24H0V0z\" fill=\"none\"/>\n",
              "    <path d=\"M18.56 5.44l.94 2.06.94-2.06 2.06-.94-2.06-.94-.94-2.06-.94 2.06-2.06.94zm-11 1L8.5 8.5l.94-2.06 2.06-.94-2.06-.94L8.5 2.5l-.94 2.06-2.06.94zm10 10l.94 2.06.94-2.06 2.06-.94-2.06-.94-.94-2.06-.94 2.06-2.06.94z\"/><path d=\"M17.41 7.96l-1.37-1.37c-.4-.4-.92-.59-1.43-.59-.52 0-1.04.2-1.43.59L10.3 9.45l-7.72 7.72c-.78.78-.78 2.05 0 2.83L4 21.41c.39.39.9.59 1.41.59.51 0 1.02-.2 1.41-.59l7.78-7.78 2.81-2.81c.8-.78.8-2.07 0-2.86zM5.41 20L4 18.59l7.72-7.72 1.47 1.35L5.41 20z\"/>\n",
              "  </svg>\n",
              "      </button>\n",
              "      \n",
              "  <style>\n",
              "    .colab-df-container {\n",
              "      display:flex;\n",
              "      flex-wrap:wrap;\n",
              "      gap: 12px;\n",
              "    }\n",
              "\n",
              "    .colab-df-convert {\n",
              "      background-color: #E8F0FE;\n",
              "      border: none;\n",
              "      border-radius: 50%;\n",
              "      cursor: pointer;\n",
              "      display: none;\n",
              "      fill: #1967D2;\n",
              "      height: 32px;\n",
              "      padding: 0 0 0 0;\n",
              "      width: 32px;\n",
              "    }\n",
              "\n",
              "    .colab-df-convert:hover {\n",
              "      background-color: #E2EBFA;\n",
              "      box-shadow: 0px 1px 2px rgba(60, 64, 67, 0.3), 0px 1px 3px 1px rgba(60, 64, 67, 0.15);\n",
              "      fill: #174EA6;\n",
              "    }\n",
              "\n",
              "    [theme=dark] .colab-df-convert {\n",
              "      background-color: #3B4455;\n",
              "      fill: #D2E3FC;\n",
              "    }\n",
              "\n",
              "    [theme=dark] .colab-df-convert:hover {\n",
              "      background-color: #434B5C;\n",
              "      box-shadow: 0px 1px 3px 1px rgba(0, 0, 0, 0.15);\n",
              "      filter: drop-shadow(0px 1px 2px rgba(0, 0, 0, 0.3));\n",
              "      fill: #FFFFFF;\n",
              "    }\n",
              "  </style>\n",
              "\n",
              "      <script>\n",
              "        const buttonEl =\n",
              "          document.querySelector('#df-0908d729-7679-4a56-836a-c4ec5159aa96 button.colab-df-convert');\n",
              "        buttonEl.style.display =\n",
              "          google.colab.kernel.accessAllowed ? 'block' : 'none';\n",
              "\n",
              "        async function convertToInteractive(key) {\n",
              "          const element = document.querySelector('#df-0908d729-7679-4a56-836a-c4ec5159aa96');\n",
              "          const dataTable =\n",
              "            await google.colab.kernel.invokeFunction('convertToInteractive',\n",
              "                                                     [key], {});\n",
              "          if (!dataTable) return;\n",
              "\n",
              "          const docLinkHtml = 'Like what you see? Visit the ' +\n",
              "            '<a target=\"_blank\" href=https://colab.research.google.com/notebooks/data_table.ipynb>data table notebook</a>'\n",
              "            + ' to learn more about interactive tables.';\n",
              "          element.innerHTML = '';\n",
              "          dataTable['output_type'] = 'display_data';\n",
              "          await google.colab.output.renderOutput(dataTable, element);\n",
              "          const docLink = document.createElement('div');\n",
              "          docLink.innerHTML = docLinkHtml;\n",
              "          element.appendChild(docLink);\n",
              "        }\n",
              "      </script>\n",
              "    </div>\n",
              "  </div>\n",
              "  "
            ],
            "text/plain": [
              "            일자  요일  본사정원수  본사휴가자수  본사출장자수  본사시간외근무명령서승인건수  year  month  day\n",
              "0   2019-07-17   2   2760      96     259               0  2019      7   17\n",
              "1   2019-07-18   1   2760     113     274             310  2019      7   18\n",
              "2   2019-07-19   0   2760     236     291               0  2019      7   19\n",
              "3   2019-07-22   3   2760     223     218             438  2019      7   22\n",
              "4   2019-07-23   4   2760     206     246             449  2019      7   23\n",
              "..         ...  ..    ...     ...     ...             ...   ...    ...  ...\n",
              "357 2021-01-20   2   2983      75     198               4  2021      1   20\n",
              "358 2021-01-21   1   2983      92     231             462  2021      1   21\n",
              "359 2021-01-22   0   2983     255     248               1  2021      1   22\n",
              "360 2021-01-25   3   2983     107     153             616  2021      1   25\n",
              "361 2021-01-26   4   2983      69     183             551  2021      1   26\n",
              "\n",
              "[362 rows x 9 columns]"
            ]
          },
          "metadata": {}
        }
      ]
    },
    {
      "cell_type": "code",
      "source": [
        "train=train.drop('일자',axis=1)\n",
        "test=test.drop('일자',axis=1)"
      ],
      "metadata": {
        "id": "PfRBvO41apvv"
      },
      "execution_count": 11,
      "outputs": []
    },
    {
      "cell_type": "markdown",
      "source": [
        "- 년도 : 라벨인코딩\n",
        "- 본사정원수, 본사출장자수, 본사시간외근무명령서승인건수, 본사휴가자수 : minmax"
      ],
      "metadata": {
        "id": "QjjuNlIdlrII"
      }
    },
    {
      "cell_type": "code",
      "source": [
        "train['year'].value_counts()"
      ],
      "metadata": {
        "colab": {
          "base_uri": "https://localhost:8080/"
        },
        "id": "St7LgTZopMkA",
        "outputId": "d9c5e9a0-a91c-4e3a-bf6b-5c283fee1e66"
      },
      "execution_count": 16,
      "outputs": [
        {
          "output_type": "execute_result",
          "data": {
            "text/plain": [
              "3    244\n",
              "2    239\n",
              "1    227\n",
              "0    133\n",
              "Name: year, dtype: int64"
            ]
          },
          "metadata": {},
          "execution_count": 16
        }
      ]
    },
    {
      "cell_type": "code",
      "source": [
        "test['year'].value_counts()"
      ],
      "metadata": {
        "colab": {
          "base_uri": "https://localhost:8080/"
        },
        "id": "53E7-my6rxHr",
        "outputId": "c12ae3cd-d0dc-4d7b-87f7-ecf0955833eb"
      },
      "execution_count": 48,
      "outputs": [
        {
          "output_type": "execute_result",
          "data": {
            "text/plain": [
              "2020    232\n",
              "2019    113\n",
              "2021     17\n",
              "Name: year, dtype: int64"
            ]
          },
          "metadata": {},
          "execution_count": 48
        }
      ]
    },
    {
      "cell_type": "code",
      "source": [
        "mapping={2017:3,2018:2,2016:1,2019:0}\n",
        "\n",
        "train['year']=train['year'].map(mapping)\n"
      ],
      "metadata": {
        "id": "WaoITBRrpeYi"
      },
      "execution_count": 12,
      "outputs": []
    },
    {
      "cell_type": "code",
      "source": [
        "mapping={2020:3,2019:2,2021:1}\n",
        "\n",
        "test['year']=test['year'].map(mapping)"
      ],
      "metadata": {
        "id": "38cF2x__rZ5a"
      },
      "execution_count": 13,
      "outputs": []
    },
    {
      "cell_type": "code",
      "source": [
        "train.head()"
      ],
      "metadata": {
        "colab": {
          "base_uri": "https://localhost:8080/",
          "height": 267
        },
        "id": "m6WRuRs8oGP4",
        "outputId": "fd0655e8-bdc6-44ed-e5b6-679ced93d50f"
      },
      "execution_count": 51,
      "outputs": [
        {
          "output_type": "execute_result",
          "data": {
            "text/html": [
              "\n",
              "  <div id=\"df-1f76125e-780b-48bc-a02d-ce2843049062\">\n",
              "    <div class=\"colab-df-container\">\n",
              "      <div>\n",
              "<style scoped>\n",
              "    .dataframe tbody tr th:only-of-type {\n",
              "        vertical-align: middle;\n",
              "    }\n",
              "\n",
              "    .dataframe tbody tr th {\n",
              "        vertical-align: top;\n",
              "    }\n",
              "\n",
              "    .dataframe thead th {\n",
              "        text-align: right;\n",
              "    }\n",
              "</style>\n",
              "<table border=\"1\" class=\"dataframe\">\n",
              "  <thead>\n",
              "    <tr style=\"text-align: right;\">\n",
              "      <th></th>\n",
              "      <th>요일</th>\n",
              "      <th>본사정원수</th>\n",
              "      <th>본사휴가자수</th>\n",
              "      <th>본사출장자수</th>\n",
              "      <th>본사시간외근무명령서승인건수</th>\n",
              "      <th>중식계</th>\n",
              "      <th>year</th>\n",
              "      <th>month</th>\n",
              "      <th>day</th>\n",
              "    </tr>\n",
              "  </thead>\n",
              "  <tbody>\n",
              "    <tr>\n",
              "      <th>0</th>\n",
              "      <td>3</td>\n",
              "      <td>2601</td>\n",
              "      <td>50</td>\n",
              "      <td>150</td>\n",
              "      <td>238</td>\n",
              "      <td>1039.0</td>\n",
              "      <td>1</td>\n",
              "      <td>2</td>\n",
              "      <td>1</td>\n",
              "    </tr>\n",
              "    <tr>\n",
              "      <th>1</th>\n",
              "      <td>4</td>\n",
              "      <td>2601</td>\n",
              "      <td>50</td>\n",
              "      <td>173</td>\n",
              "      <td>319</td>\n",
              "      <td>867.0</td>\n",
              "      <td>1</td>\n",
              "      <td>2</td>\n",
              "      <td>2</td>\n",
              "    </tr>\n",
              "    <tr>\n",
              "      <th>2</th>\n",
              "      <td>2</td>\n",
              "      <td>2601</td>\n",
              "      <td>56</td>\n",
              "      <td>180</td>\n",
              "      <td>111</td>\n",
              "      <td>1017.0</td>\n",
              "      <td>1</td>\n",
              "      <td>2</td>\n",
              "      <td>3</td>\n",
              "    </tr>\n",
              "    <tr>\n",
              "      <th>3</th>\n",
              "      <td>1</td>\n",
              "      <td>2601</td>\n",
              "      <td>104</td>\n",
              "      <td>220</td>\n",
              "      <td>355</td>\n",
              "      <td>978.0</td>\n",
              "      <td>1</td>\n",
              "      <td>2</td>\n",
              "      <td>4</td>\n",
              "    </tr>\n",
              "    <tr>\n",
              "      <th>4</th>\n",
              "      <td>0</td>\n",
              "      <td>2601</td>\n",
              "      <td>278</td>\n",
              "      <td>181</td>\n",
              "      <td>34</td>\n",
              "      <td>925.0</td>\n",
              "      <td>1</td>\n",
              "      <td>2</td>\n",
              "      <td>5</td>\n",
              "    </tr>\n",
              "  </tbody>\n",
              "</table>\n",
              "</div>\n",
              "      <button class=\"colab-df-convert\" onclick=\"convertToInteractive('df-1f76125e-780b-48bc-a02d-ce2843049062')\"\n",
              "              title=\"Convert this dataframe to an interactive table.\"\n",
              "              style=\"display:none;\">\n",
              "        \n",
              "  <svg xmlns=\"http://www.w3.org/2000/svg\" height=\"24px\"viewBox=\"0 0 24 24\"\n",
              "       width=\"24px\">\n",
              "    <path d=\"M0 0h24v24H0V0z\" fill=\"none\"/>\n",
              "    <path d=\"M18.56 5.44l.94 2.06.94-2.06 2.06-.94-2.06-.94-.94-2.06-.94 2.06-2.06.94zm-11 1L8.5 8.5l.94-2.06 2.06-.94-2.06-.94L8.5 2.5l-.94 2.06-2.06.94zm10 10l.94 2.06.94-2.06 2.06-.94-2.06-.94-.94-2.06-.94 2.06-2.06.94z\"/><path d=\"M17.41 7.96l-1.37-1.37c-.4-.4-.92-.59-1.43-.59-.52 0-1.04.2-1.43.59L10.3 9.45l-7.72 7.72c-.78.78-.78 2.05 0 2.83L4 21.41c.39.39.9.59 1.41.59.51 0 1.02-.2 1.41-.59l7.78-7.78 2.81-2.81c.8-.78.8-2.07 0-2.86zM5.41 20L4 18.59l7.72-7.72 1.47 1.35L5.41 20z\"/>\n",
              "  </svg>\n",
              "      </button>\n",
              "      \n",
              "  <style>\n",
              "    .colab-df-container {\n",
              "      display:flex;\n",
              "      flex-wrap:wrap;\n",
              "      gap: 12px;\n",
              "    }\n",
              "\n",
              "    .colab-df-convert {\n",
              "      background-color: #E8F0FE;\n",
              "      border: none;\n",
              "      border-radius: 50%;\n",
              "      cursor: pointer;\n",
              "      display: none;\n",
              "      fill: #1967D2;\n",
              "      height: 32px;\n",
              "      padding: 0 0 0 0;\n",
              "      width: 32px;\n",
              "    }\n",
              "\n",
              "    .colab-df-convert:hover {\n",
              "      background-color: #E2EBFA;\n",
              "      box-shadow: 0px 1px 2px rgba(60, 64, 67, 0.3), 0px 1px 3px 1px rgba(60, 64, 67, 0.15);\n",
              "      fill: #174EA6;\n",
              "    }\n",
              "\n",
              "    [theme=dark] .colab-df-convert {\n",
              "      background-color: #3B4455;\n",
              "      fill: #D2E3FC;\n",
              "    }\n",
              "\n",
              "    [theme=dark] .colab-df-convert:hover {\n",
              "      background-color: #434B5C;\n",
              "      box-shadow: 0px 1px 3px 1px rgba(0, 0, 0, 0.15);\n",
              "      filter: drop-shadow(0px 1px 2px rgba(0, 0, 0, 0.3));\n",
              "      fill: #FFFFFF;\n",
              "    }\n",
              "  </style>\n",
              "\n",
              "      <script>\n",
              "        const buttonEl =\n",
              "          document.querySelector('#df-1f76125e-780b-48bc-a02d-ce2843049062 button.colab-df-convert');\n",
              "        buttonEl.style.display =\n",
              "          google.colab.kernel.accessAllowed ? 'block' : 'none';\n",
              "\n",
              "        async function convertToInteractive(key) {\n",
              "          const element = document.querySelector('#df-1f76125e-780b-48bc-a02d-ce2843049062');\n",
              "          const dataTable =\n",
              "            await google.colab.kernel.invokeFunction('convertToInteractive',\n",
              "                                                     [key], {});\n",
              "          if (!dataTable) return;\n",
              "\n",
              "          const docLinkHtml = 'Like what you see? Visit the ' +\n",
              "            '<a target=\"_blank\" href=https://colab.research.google.com/notebooks/data_table.ipynb>data table notebook</a>'\n",
              "            + ' to learn more about interactive tables.';\n",
              "          element.innerHTML = '';\n",
              "          dataTable['output_type'] = 'display_data';\n",
              "          await google.colab.output.renderOutput(dataTable, element);\n",
              "          const docLink = document.createElement('div');\n",
              "          docLink.innerHTML = docLinkHtml;\n",
              "          element.appendChild(docLink);\n",
              "        }\n",
              "      </script>\n",
              "    </div>\n",
              "  </div>\n",
              "  "
            ],
            "text/plain": [
              "   요일  본사정원수  본사휴가자수  본사출장자수  본사시간외근무명령서승인건수     중식계  year  month  day\n",
              "0   3   2601      50     150             238  1039.0     1      2    1\n",
              "1   4   2601      50     173             319   867.0     1      2    2\n",
              "2   2   2601      56     180             111  1017.0     1      2    3\n",
              "3   1   2601     104     220             355   978.0     1      2    4\n",
              "4   0   2601     278     181              34   925.0     1      2    5"
            ]
          },
          "metadata": {},
          "execution_count": 51
        }
      ]
    },
    {
      "cell_type": "code",
      "source": [
        "test.head()"
      ],
      "metadata": {
        "colab": {
          "base_uri": "https://localhost:8080/",
          "height": 267
        },
        "id": "q08jcaAnsKDU",
        "outputId": "c4f3184a-2dbf-45ad-bc11-189468036afb"
      },
      "execution_count": 52,
      "outputs": [
        {
          "output_type": "execute_result",
          "data": {
            "text/html": [
              "\n",
              "  <div id=\"df-a8a8c7c4-bf4d-4539-b62e-27806c50fc54\">\n",
              "    <div class=\"colab-df-container\">\n",
              "      <div>\n",
              "<style scoped>\n",
              "    .dataframe tbody tr th:only-of-type {\n",
              "        vertical-align: middle;\n",
              "    }\n",
              "\n",
              "    .dataframe tbody tr th {\n",
              "        vertical-align: top;\n",
              "    }\n",
              "\n",
              "    .dataframe thead th {\n",
              "        text-align: right;\n",
              "    }\n",
              "</style>\n",
              "<table border=\"1\" class=\"dataframe\">\n",
              "  <thead>\n",
              "    <tr style=\"text-align: right;\">\n",
              "      <th></th>\n",
              "      <th>요일</th>\n",
              "      <th>본사정원수</th>\n",
              "      <th>본사휴가자수</th>\n",
              "      <th>본사출장자수</th>\n",
              "      <th>본사시간외근무명령서승인건수</th>\n",
              "      <th>year</th>\n",
              "      <th>month</th>\n",
              "      <th>day</th>\n",
              "    </tr>\n",
              "  </thead>\n",
              "  <tbody>\n",
              "    <tr>\n",
              "      <th>0</th>\n",
              "      <td>2</td>\n",
              "      <td>2760</td>\n",
              "      <td>96</td>\n",
              "      <td>259</td>\n",
              "      <td>0</td>\n",
              "      <td>2</td>\n",
              "      <td>7</td>\n",
              "      <td>17</td>\n",
              "    </tr>\n",
              "    <tr>\n",
              "      <th>1</th>\n",
              "      <td>1</td>\n",
              "      <td>2760</td>\n",
              "      <td>113</td>\n",
              "      <td>274</td>\n",
              "      <td>310</td>\n",
              "      <td>2</td>\n",
              "      <td>7</td>\n",
              "      <td>18</td>\n",
              "    </tr>\n",
              "    <tr>\n",
              "      <th>2</th>\n",
              "      <td>0</td>\n",
              "      <td>2760</td>\n",
              "      <td>236</td>\n",
              "      <td>291</td>\n",
              "      <td>0</td>\n",
              "      <td>2</td>\n",
              "      <td>7</td>\n",
              "      <td>19</td>\n",
              "    </tr>\n",
              "    <tr>\n",
              "      <th>3</th>\n",
              "      <td>3</td>\n",
              "      <td>2760</td>\n",
              "      <td>223</td>\n",
              "      <td>218</td>\n",
              "      <td>438</td>\n",
              "      <td>2</td>\n",
              "      <td>7</td>\n",
              "      <td>22</td>\n",
              "    </tr>\n",
              "    <tr>\n",
              "      <th>4</th>\n",
              "      <td>4</td>\n",
              "      <td>2760</td>\n",
              "      <td>206</td>\n",
              "      <td>246</td>\n",
              "      <td>449</td>\n",
              "      <td>2</td>\n",
              "      <td>7</td>\n",
              "      <td>23</td>\n",
              "    </tr>\n",
              "  </tbody>\n",
              "</table>\n",
              "</div>\n",
              "      <button class=\"colab-df-convert\" onclick=\"convertToInteractive('df-a8a8c7c4-bf4d-4539-b62e-27806c50fc54')\"\n",
              "              title=\"Convert this dataframe to an interactive table.\"\n",
              "              style=\"display:none;\">\n",
              "        \n",
              "  <svg xmlns=\"http://www.w3.org/2000/svg\" height=\"24px\"viewBox=\"0 0 24 24\"\n",
              "       width=\"24px\">\n",
              "    <path d=\"M0 0h24v24H0V0z\" fill=\"none\"/>\n",
              "    <path d=\"M18.56 5.44l.94 2.06.94-2.06 2.06-.94-2.06-.94-.94-2.06-.94 2.06-2.06.94zm-11 1L8.5 8.5l.94-2.06 2.06-.94-2.06-.94L8.5 2.5l-.94 2.06-2.06.94zm10 10l.94 2.06.94-2.06 2.06-.94-2.06-.94-.94-2.06-.94 2.06-2.06.94z\"/><path d=\"M17.41 7.96l-1.37-1.37c-.4-.4-.92-.59-1.43-.59-.52 0-1.04.2-1.43.59L10.3 9.45l-7.72 7.72c-.78.78-.78 2.05 0 2.83L4 21.41c.39.39.9.59 1.41.59.51 0 1.02-.2 1.41-.59l7.78-7.78 2.81-2.81c.8-.78.8-2.07 0-2.86zM5.41 20L4 18.59l7.72-7.72 1.47 1.35L5.41 20z\"/>\n",
              "  </svg>\n",
              "      </button>\n",
              "      \n",
              "  <style>\n",
              "    .colab-df-container {\n",
              "      display:flex;\n",
              "      flex-wrap:wrap;\n",
              "      gap: 12px;\n",
              "    }\n",
              "\n",
              "    .colab-df-convert {\n",
              "      background-color: #E8F0FE;\n",
              "      border: none;\n",
              "      border-radius: 50%;\n",
              "      cursor: pointer;\n",
              "      display: none;\n",
              "      fill: #1967D2;\n",
              "      height: 32px;\n",
              "      padding: 0 0 0 0;\n",
              "      width: 32px;\n",
              "    }\n",
              "\n",
              "    .colab-df-convert:hover {\n",
              "      background-color: #E2EBFA;\n",
              "      box-shadow: 0px 1px 2px rgba(60, 64, 67, 0.3), 0px 1px 3px 1px rgba(60, 64, 67, 0.15);\n",
              "      fill: #174EA6;\n",
              "    }\n",
              "\n",
              "    [theme=dark] .colab-df-convert {\n",
              "      background-color: #3B4455;\n",
              "      fill: #D2E3FC;\n",
              "    }\n",
              "\n",
              "    [theme=dark] .colab-df-convert:hover {\n",
              "      background-color: #434B5C;\n",
              "      box-shadow: 0px 1px 3px 1px rgba(0, 0, 0, 0.15);\n",
              "      filter: drop-shadow(0px 1px 2px rgba(0, 0, 0, 0.3));\n",
              "      fill: #FFFFFF;\n",
              "    }\n",
              "  </style>\n",
              "\n",
              "      <script>\n",
              "        const buttonEl =\n",
              "          document.querySelector('#df-a8a8c7c4-bf4d-4539-b62e-27806c50fc54 button.colab-df-convert');\n",
              "        buttonEl.style.display =\n",
              "          google.colab.kernel.accessAllowed ? 'block' : 'none';\n",
              "\n",
              "        async function convertToInteractive(key) {\n",
              "          const element = document.querySelector('#df-a8a8c7c4-bf4d-4539-b62e-27806c50fc54');\n",
              "          const dataTable =\n",
              "            await google.colab.kernel.invokeFunction('convertToInteractive',\n",
              "                                                     [key], {});\n",
              "          if (!dataTable) return;\n",
              "\n",
              "          const docLinkHtml = 'Like what you see? Visit the ' +\n",
              "            '<a target=\"_blank\" href=https://colab.research.google.com/notebooks/data_table.ipynb>data table notebook</a>'\n",
              "            + ' to learn more about interactive tables.';\n",
              "          element.innerHTML = '';\n",
              "          dataTable['output_type'] = 'display_data';\n",
              "          await google.colab.output.renderOutput(dataTable, element);\n",
              "          const docLink = document.createElement('div');\n",
              "          docLink.innerHTML = docLinkHtml;\n",
              "          element.appendChild(docLink);\n",
              "        }\n",
              "      </script>\n",
              "    </div>\n",
              "  </div>\n",
              "  "
            ],
            "text/plain": [
              "   요일  본사정원수  본사휴가자수  본사출장자수  본사시간외근무명령서승인건수  year  month  day\n",
              "0   2   2760      96     259               0     2      7   17\n",
              "1   1   2760     113     274             310     2      7   18\n",
              "2   0   2760     236     291               0     2      7   19\n",
              "3   3   2760     223     218             438     2      7   22\n",
              "4   4   2760     206     246             449     2      7   23"
            ]
          },
          "metadata": {},
          "execution_count": 52
        }
      ]
    },
    {
      "cell_type": "markdown",
      "source": [
        "스케일링"
      ],
      "metadata": {
        "id": "ZBm9KK0IshFr"
      }
    },
    {
      "cell_type": "code",
      "source": [
        "train.columns"
      ],
      "metadata": {
        "colab": {
          "base_uri": "https://localhost:8080/"
        },
        "id": "T8BIb9sHTVhB",
        "outputId": "243810b5-dc09-440a-ed39-5df94567f860"
      },
      "execution_count": 17,
      "outputs": [
        {
          "output_type": "execute_result",
          "data": {
            "text/plain": [
              "Index(['요일', '본사정원수', '본사휴가자수', '본사출장자수', '본사시간외근무명령서승인건수', '중식계', 'year',\n",
              "       'month', 'day'],\n",
              "      dtype='object')"
            ]
          },
          "metadata": {},
          "execution_count": 17
        }
      ]
    },
    {
      "cell_type": "code",
      "source": [
        "col=['본사정원수', '본사휴가자수', '본사출장자수', '본사시간외근무명령서승인건수']"
      ],
      "metadata": {
        "id": "4KQ43v5nTvWl"
      },
      "execution_count": 14,
      "outputs": []
    },
    {
      "cell_type": "code",
      "source": [
        "from sklearn.preprocessing import StandardScaler\n",
        "\n",
        "st=StandardScaler()\n",
        "for i in col:\n",
        "  train[i]=st.fit_transform(train[i].values.reshape(-1,1))\n",
        "  test[i]=st.transform(test[i].values.reshape(-1,1))\n",
        "\n",
        "display(train.head())\n",
        "print()\n",
        "display(test.head())"
      ],
      "metadata": {
        "colab": {
          "base_uri": "https://localhost:8080/",
          "height": 492
        },
        "id": "3jCL68XbsKl2",
        "outputId": "cf9a8ffd-4b8a-4ef7-92be-b5d2fd1106bb"
      },
      "execution_count": 15,
      "outputs": [
        {
          "output_type": "display_data",
          "data": {
            "text/html": [
              "\n",
              "  <div id=\"df-945d7241-a10a-44f7-b104-e7dcdfa3e45d\">\n",
              "    <div class=\"colab-df-container\">\n",
              "      <div>\n",
              "<style scoped>\n",
              "    .dataframe tbody tr th:only-of-type {\n",
              "        vertical-align: middle;\n",
              "    }\n",
              "\n",
              "    .dataframe tbody tr th {\n",
              "        vertical-align: top;\n",
              "    }\n",
              "\n",
              "    .dataframe thead th {\n",
              "        text-align: right;\n",
              "    }\n",
              "</style>\n",
              "<table border=\"1\" class=\"dataframe\">\n",
              "  <thead>\n",
              "    <tr style=\"text-align: right;\">\n",
              "      <th></th>\n",
              "      <th>요일</th>\n",
              "      <th>본사정원수</th>\n",
              "      <th>본사휴가자수</th>\n",
              "      <th>본사출장자수</th>\n",
              "      <th>본사시간외근무명령서승인건수</th>\n",
              "      <th>중식계</th>\n",
              "      <th>year</th>\n",
              "      <th>month</th>\n",
              "      <th>day</th>\n",
              "    </tr>\n",
              "  </thead>\n",
              "  <tbody>\n",
              "    <tr>\n",
              "      <th>0</th>\n",
              "      <td>3</td>\n",
              "      <td>-1.222273</td>\n",
              "      <td>-0.657485</td>\n",
              "      <td>-2.479003</td>\n",
              "      <td>-0.047843</td>\n",
              "      <td>1039.0</td>\n",
              "      <td>1</td>\n",
              "      <td>2</td>\n",
              "      <td>1</td>\n",
              "    </tr>\n",
              "    <tr>\n",
              "      <th>1</th>\n",
              "      <td>4</td>\n",
              "      <td>-1.222273</td>\n",
              "      <td>-0.657485</td>\n",
              "      <td>-1.885889</td>\n",
              "      <td>0.326880</td>\n",
              "      <td>867.0</td>\n",
              "      <td>1</td>\n",
              "      <td>2</td>\n",
              "      <td>2</td>\n",
              "    </tr>\n",
              "    <tr>\n",
              "      <th>2</th>\n",
              "      <td>2</td>\n",
              "      <td>-1.222273</td>\n",
              "      <td>-0.613350</td>\n",
              "      <td>-1.705376</td>\n",
              "      <td>-0.635371</td>\n",
              "      <td>1017.0</td>\n",
              "      <td>1</td>\n",
              "      <td>2</td>\n",
              "      <td>3</td>\n",
              "    </tr>\n",
              "    <tr>\n",
              "      <th>3</th>\n",
              "      <td>1</td>\n",
              "      <td>-1.222273</td>\n",
              "      <td>-0.260266</td>\n",
              "      <td>-0.673873</td>\n",
              "      <td>0.493424</td>\n",
              "      <td>978.0</td>\n",
              "      <td>1</td>\n",
              "      <td>2</td>\n",
              "      <td>4</td>\n",
              "    </tr>\n",
              "    <tr>\n",
              "      <th>4</th>\n",
              "      <td>0</td>\n",
              "      <td>-1.222273</td>\n",
              "      <td>1.019661</td>\n",
              "      <td>-1.679588</td>\n",
              "      <td>-0.991588</td>\n",
              "      <td>925.0</td>\n",
              "      <td>1</td>\n",
              "      <td>2</td>\n",
              "      <td>5</td>\n",
              "    </tr>\n",
              "  </tbody>\n",
              "</table>\n",
              "</div>\n",
              "      <button class=\"colab-df-convert\" onclick=\"convertToInteractive('df-945d7241-a10a-44f7-b104-e7dcdfa3e45d')\"\n",
              "              title=\"Convert this dataframe to an interactive table.\"\n",
              "              style=\"display:none;\">\n",
              "        \n",
              "  <svg xmlns=\"http://www.w3.org/2000/svg\" height=\"24px\"viewBox=\"0 0 24 24\"\n",
              "       width=\"24px\">\n",
              "    <path d=\"M0 0h24v24H0V0z\" fill=\"none\"/>\n",
              "    <path d=\"M18.56 5.44l.94 2.06.94-2.06 2.06-.94-2.06-.94-.94-2.06-.94 2.06-2.06.94zm-11 1L8.5 8.5l.94-2.06 2.06-.94-2.06-.94L8.5 2.5l-.94 2.06-2.06.94zm10 10l.94 2.06.94-2.06 2.06-.94-2.06-.94-.94-2.06-.94 2.06-2.06.94z\"/><path d=\"M17.41 7.96l-1.37-1.37c-.4-.4-.92-.59-1.43-.59-.52 0-1.04.2-1.43.59L10.3 9.45l-7.72 7.72c-.78.78-.78 2.05 0 2.83L4 21.41c.39.39.9.59 1.41.59.51 0 1.02-.2 1.41-.59l7.78-7.78 2.81-2.81c.8-.78.8-2.07 0-2.86zM5.41 20L4 18.59l7.72-7.72 1.47 1.35L5.41 20z\"/>\n",
              "  </svg>\n",
              "      </button>\n",
              "      \n",
              "  <style>\n",
              "    .colab-df-container {\n",
              "      display:flex;\n",
              "      flex-wrap:wrap;\n",
              "      gap: 12px;\n",
              "    }\n",
              "\n",
              "    .colab-df-convert {\n",
              "      background-color: #E8F0FE;\n",
              "      border: none;\n",
              "      border-radius: 50%;\n",
              "      cursor: pointer;\n",
              "      display: none;\n",
              "      fill: #1967D2;\n",
              "      height: 32px;\n",
              "      padding: 0 0 0 0;\n",
              "      width: 32px;\n",
              "    }\n",
              "\n",
              "    .colab-df-convert:hover {\n",
              "      background-color: #E2EBFA;\n",
              "      box-shadow: 0px 1px 2px rgba(60, 64, 67, 0.3), 0px 1px 3px 1px rgba(60, 64, 67, 0.15);\n",
              "      fill: #174EA6;\n",
              "    }\n",
              "\n",
              "    [theme=dark] .colab-df-convert {\n",
              "      background-color: #3B4455;\n",
              "      fill: #D2E3FC;\n",
              "    }\n",
              "\n",
              "    [theme=dark] .colab-df-convert:hover {\n",
              "      background-color: #434B5C;\n",
              "      box-shadow: 0px 1px 3px 1px rgba(0, 0, 0, 0.15);\n",
              "      filter: drop-shadow(0px 1px 2px rgba(0, 0, 0, 0.3));\n",
              "      fill: #FFFFFF;\n",
              "    }\n",
              "  </style>\n",
              "\n",
              "      <script>\n",
              "        const buttonEl =\n",
              "          document.querySelector('#df-945d7241-a10a-44f7-b104-e7dcdfa3e45d button.colab-df-convert');\n",
              "        buttonEl.style.display =\n",
              "          google.colab.kernel.accessAllowed ? 'block' : 'none';\n",
              "\n",
              "        async function convertToInteractive(key) {\n",
              "          const element = document.querySelector('#df-945d7241-a10a-44f7-b104-e7dcdfa3e45d');\n",
              "          const dataTable =\n",
              "            await google.colab.kernel.invokeFunction('convertToInteractive',\n",
              "                                                     [key], {});\n",
              "          if (!dataTable) return;\n",
              "\n",
              "          const docLinkHtml = 'Like what you see? Visit the ' +\n",
              "            '<a target=\"_blank\" href=https://colab.research.google.com/notebooks/data_table.ipynb>data table notebook</a>'\n",
              "            + ' to learn more about interactive tables.';\n",
              "          element.innerHTML = '';\n",
              "          dataTable['output_type'] = 'display_data';\n",
              "          await google.colab.output.renderOutput(dataTable, element);\n",
              "          const docLink = document.createElement('div');\n",
              "          docLink.innerHTML = docLinkHtml;\n",
              "          element.appendChild(docLink);\n",
              "        }\n",
              "      </script>\n",
              "    </div>\n",
              "  </div>\n",
              "  "
            ],
            "text/plain": [
              "   요일     본사정원수    본사휴가자수    본사출장자수  본사시간외근무명령서승인건수     중식계  year  month  day\n",
              "0   3 -1.222273 -0.657485 -2.479003       -0.047843  1039.0     1      2    1\n",
              "1   4 -1.222273 -0.657485 -1.885889        0.326880   867.0     1      2    2\n",
              "2   2 -1.222273 -0.613350 -1.705376       -0.635371  1017.0     1      2    3\n",
              "3   1 -1.222273 -0.260266 -0.673873        0.493424   978.0     1      2    4\n",
              "4   0 -1.222273  1.019661 -1.679588       -0.991588   925.0     1      2    5"
            ]
          },
          "metadata": {}
        },
        {
          "output_type": "stream",
          "name": "stdout",
          "text": [
            "\n"
          ]
        },
        {
          "output_type": "display_data",
          "data": {
            "text/html": [
              "\n",
              "  <div id=\"df-1fc90ce9-4015-4306-8110-b113d818b940\">\n",
              "    <div class=\"colab-df-container\">\n",
              "      <div>\n",
              "<style scoped>\n",
              "    .dataframe tbody tr th:only-of-type {\n",
              "        vertical-align: middle;\n",
              "    }\n",
              "\n",
              "    .dataframe tbody tr th {\n",
              "        vertical-align: top;\n",
              "    }\n",
              "\n",
              "    .dataframe thead th {\n",
              "        text-align: right;\n",
              "    }\n",
              "</style>\n",
              "<table border=\"1\" class=\"dataframe\">\n",
              "  <thead>\n",
              "    <tr style=\"text-align: right;\">\n",
              "      <th></th>\n",
              "      <th>요일</th>\n",
              "      <th>본사정원수</th>\n",
              "      <th>본사휴가자수</th>\n",
              "      <th>본사출장자수</th>\n",
              "      <th>본사시간외근무명령서승인건수</th>\n",
              "      <th>year</th>\n",
              "      <th>month</th>\n",
              "      <th>day</th>\n",
              "    </tr>\n",
              "  </thead>\n",
              "  <tbody>\n",
              "    <tr>\n",
              "      <th>0</th>\n",
              "      <td>2</td>\n",
              "      <td>0.438394</td>\n",
              "      <td>-0.319114</td>\n",
              "      <td>0.331843</td>\n",
              "      <td>-1.148879</td>\n",
              "      <td>2</td>\n",
              "      <td>7</td>\n",
              "      <td>17</td>\n",
              "    </tr>\n",
              "    <tr>\n",
              "      <th>1</th>\n",
              "      <td>1</td>\n",
              "      <td>0.438394</td>\n",
              "      <td>-0.194063</td>\n",
              "      <td>0.718657</td>\n",
              "      <td>0.285244</td>\n",
              "      <td>2</td>\n",
              "      <td>7</td>\n",
              "      <td>18</td>\n",
              "    </tr>\n",
              "    <tr>\n",
              "      <th>2</th>\n",
              "      <td>0</td>\n",
              "      <td>0.438394</td>\n",
              "      <td>0.710713</td>\n",
              "      <td>1.157046</td>\n",
              "      <td>-1.148879</td>\n",
              "      <td>2</td>\n",
              "      <td>7</td>\n",
              "      <td>19</td>\n",
              "    </tr>\n",
              "    <tr>\n",
              "      <th>3</th>\n",
              "      <td>3</td>\n",
              "      <td>0.438394</td>\n",
              "      <td>0.615086</td>\n",
              "      <td>-0.725448</td>\n",
              "      <td>0.877399</td>\n",
              "      <td>2</td>\n",
              "      <td>7</td>\n",
              "      <td>22</td>\n",
              "    </tr>\n",
              "    <tr>\n",
              "      <th>4</th>\n",
              "      <td>4</td>\n",
              "      <td>0.438394</td>\n",
              "      <td>0.490036</td>\n",
              "      <td>-0.003396</td>\n",
              "      <td>0.928287</td>\n",
              "      <td>2</td>\n",
              "      <td>7</td>\n",
              "      <td>23</td>\n",
              "    </tr>\n",
              "  </tbody>\n",
              "</table>\n",
              "</div>\n",
              "      <button class=\"colab-df-convert\" onclick=\"convertToInteractive('df-1fc90ce9-4015-4306-8110-b113d818b940')\"\n",
              "              title=\"Convert this dataframe to an interactive table.\"\n",
              "              style=\"display:none;\">\n",
              "        \n",
              "  <svg xmlns=\"http://www.w3.org/2000/svg\" height=\"24px\"viewBox=\"0 0 24 24\"\n",
              "       width=\"24px\">\n",
              "    <path d=\"M0 0h24v24H0V0z\" fill=\"none\"/>\n",
              "    <path d=\"M18.56 5.44l.94 2.06.94-2.06 2.06-.94-2.06-.94-.94-2.06-.94 2.06-2.06.94zm-11 1L8.5 8.5l.94-2.06 2.06-.94-2.06-.94L8.5 2.5l-.94 2.06-2.06.94zm10 10l.94 2.06.94-2.06 2.06-.94-2.06-.94-.94-2.06-.94 2.06-2.06.94z\"/><path d=\"M17.41 7.96l-1.37-1.37c-.4-.4-.92-.59-1.43-.59-.52 0-1.04.2-1.43.59L10.3 9.45l-7.72 7.72c-.78.78-.78 2.05 0 2.83L4 21.41c.39.39.9.59 1.41.59.51 0 1.02-.2 1.41-.59l7.78-7.78 2.81-2.81c.8-.78.8-2.07 0-2.86zM5.41 20L4 18.59l7.72-7.72 1.47 1.35L5.41 20z\"/>\n",
              "  </svg>\n",
              "      </button>\n",
              "      \n",
              "  <style>\n",
              "    .colab-df-container {\n",
              "      display:flex;\n",
              "      flex-wrap:wrap;\n",
              "      gap: 12px;\n",
              "    }\n",
              "\n",
              "    .colab-df-convert {\n",
              "      background-color: #E8F0FE;\n",
              "      border: none;\n",
              "      border-radius: 50%;\n",
              "      cursor: pointer;\n",
              "      display: none;\n",
              "      fill: #1967D2;\n",
              "      height: 32px;\n",
              "      padding: 0 0 0 0;\n",
              "      width: 32px;\n",
              "    }\n",
              "\n",
              "    .colab-df-convert:hover {\n",
              "      background-color: #E2EBFA;\n",
              "      box-shadow: 0px 1px 2px rgba(60, 64, 67, 0.3), 0px 1px 3px 1px rgba(60, 64, 67, 0.15);\n",
              "      fill: #174EA6;\n",
              "    }\n",
              "\n",
              "    [theme=dark] .colab-df-convert {\n",
              "      background-color: #3B4455;\n",
              "      fill: #D2E3FC;\n",
              "    }\n",
              "\n",
              "    [theme=dark] .colab-df-convert:hover {\n",
              "      background-color: #434B5C;\n",
              "      box-shadow: 0px 1px 3px 1px rgba(0, 0, 0, 0.15);\n",
              "      filter: drop-shadow(0px 1px 2px rgba(0, 0, 0, 0.3));\n",
              "      fill: #FFFFFF;\n",
              "    }\n",
              "  </style>\n",
              "\n",
              "      <script>\n",
              "        const buttonEl =\n",
              "          document.querySelector('#df-1fc90ce9-4015-4306-8110-b113d818b940 button.colab-df-convert');\n",
              "        buttonEl.style.display =\n",
              "          google.colab.kernel.accessAllowed ? 'block' : 'none';\n",
              "\n",
              "        async function convertToInteractive(key) {\n",
              "          const element = document.querySelector('#df-1fc90ce9-4015-4306-8110-b113d818b940');\n",
              "          const dataTable =\n",
              "            await google.colab.kernel.invokeFunction('convertToInteractive',\n",
              "                                                     [key], {});\n",
              "          if (!dataTable) return;\n",
              "\n",
              "          const docLinkHtml = 'Like what you see? Visit the ' +\n",
              "            '<a target=\"_blank\" href=https://colab.research.google.com/notebooks/data_table.ipynb>data table notebook</a>'\n",
              "            + ' to learn more about interactive tables.';\n",
              "          element.innerHTML = '';\n",
              "          dataTable['output_type'] = 'display_data';\n",
              "          await google.colab.output.renderOutput(dataTable, element);\n",
              "          const docLink = document.createElement('div');\n",
              "          docLink.innerHTML = docLinkHtml;\n",
              "          element.appendChild(docLink);\n",
              "        }\n",
              "      </script>\n",
              "    </div>\n",
              "  </div>\n",
              "  "
            ],
            "text/plain": [
              "   요일     본사정원수    본사휴가자수    본사출장자수  본사시간외근무명령서승인건수  year  month  day\n",
              "0   2  0.438394 -0.319114  0.331843       -1.148879     2      7   17\n",
              "1   1  0.438394 -0.194063  0.718657        0.285244     2      7   18\n",
              "2   0  0.438394  0.710713  1.157046       -1.148879     2      7   19\n",
              "3   3  0.438394  0.615086 -0.725448        0.877399     2      7   22\n",
              "4   4  0.438394  0.490036 -0.003396        0.928287     2      7   23"
            ]
          },
          "metadata": {}
        }
      ]
    },
    {
      "cell_type": "code",
      "source": [
        "X_train=train.drop('중식계',axis=1)\n",
        "y_train=train['중식계']\n",
        "X_test=test"
      ],
      "metadata": {
        "id": "qF9p56pTVNzU"
      },
      "execution_count": 16,
      "outputs": []
    },
    {
      "cell_type": "code",
      "source": [
        "from xgboost import XGBRegressor\n",
        "from sklearn.ensemble import RandomForestRegressor\n",
        "from sklearn.ensemble import ExtraTreesRegressor\n",
        "\n",
        "from sklearn.model_selection import GridSearchCV\n",
        "\n",
        "estimators=[]\n",
        "\n",
        "rf=RandomForestRegressor()\n",
        "estimators.append(rf)\n",
        "\n",
        "xgb=XGBRegressor()\n",
        "estimators.append(xgb)\n",
        "\n",
        "etr=ExtraTreesRegressor()\n",
        "estimators.append(etr)\n",
        "\n",
        "#모듈의 파라미터들을 할당할 리스트 만들어주기\n",
        "params=[]\n",
        "\n",
        "params_rf={'n_estimators':[90,100,110,120],\n",
        "           'min_samples_split':[1,2,3,4]}\n",
        "params.append(params_rf)\n",
        "\n",
        "params_xgb={'n_estimatros':[100,300,500],\n",
        "            'learning_rate':[0.05,0.1,0.3],\n",
        "            'max_depth':[3,5,7],\n",
        "            'subsample':[0.1,0.3]}\n",
        "\n",
        "params.append(params_xgb)\n",
        "\n",
        "params_etr={\n",
        "    'n_estimators':[50,60,70,80,90,100,110,120,130,140,150]\n",
        "}\n",
        "params.append(params_etr)"
      ],
      "metadata": {
        "id": "RcdVrro0Vlr7"
      },
      "execution_count": 37,
      "outputs": []
    },
    {
      "cell_type": "code",
      "source": [
        "from tqdm.auto import tqdm#진행도를 확인하는 것\n",
        "\n",
        "def gridSearchCV(models,params):\n",
        "  best_models=[]\n",
        "\n",
        "  for i in tqdm(range(0,len(models))):\n",
        "    model_grid=GridSearchCV(models[i],params[i],n_jobs=-1,verbose=1,cv=5)\n",
        "    model_grid.fit(X_train,y_train)\n",
        "    best_models.append(model_grid.best_estimator_)\n",
        "  return best_models\n",
        "\n",
        "\n",
        "best_model_list=gridSearchCV(estimators,params)"
      ],
      "metadata": {
        "colab": {
          "base_uri": "https://localhost:8080/",
          "height": 142,
          "referenced_widgets": [
            "ee59699d154945a9a89404cb86111984",
            "a70bfa6e478f4440887eeaa3a24e7fca",
            "b4d2363c3f544d33aa26209b7c5d9721",
            "07e80a39ad6f4feb827b78b9877fd326",
            "bc5fc9bc02914329955c691690e15527",
            "d1e924cf5aef4b85adb0038c38a21200",
            "ee422bb998554142920ce3ffc8e2d735",
            "4580fda950434094b37a82652bd23e19",
            "35241e7688d740fc9785f863595d3691",
            "4235f8484c0c46d0b32b93e93c2e52a6",
            "fcd39d9ce45c45358f4911ee3c3bda05"
          ]
        },
        "id": "cDcybf-i343K",
        "outputId": "ab2f48b2-2201-451e-c509-bda26f7de23b"
      },
      "execution_count": 38,
      "outputs": [
        {
          "output_type": "display_data",
          "data": {
            "application/vnd.jupyter.widget-view+json": {
              "model_id": "ee59699d154945a9a89404cb86111984",
              "version_minor": 0,
              "version_major": 2
            },
            "text/plain": [
              "  0%|          | 0/3 [00:00<?, ?it/s]"
            ]
          },
          "metadata": {}
        },
        {
          "output_type": "stream",
          "name": "stdout",
          "text": [
            "Fitting 5 folds for each of 16 candidates, totalling 80 fits\n",
            "Fitting 5 folds for each of 54 candidates, totalling 270 fits\n",
            "[11:10:01] WARNING: /workspace/src/objective/regression_obj.cu:152: reg:linear is now deprecated in favor of reg:squarederror.\n",
            "Fitting 5 folds for each of 11 candidates, totalling 55 fits\n"
          ]
        }
      ]
    },
    {
      "cell_type": "code",
      "source": [
        "best_model_list"
      ],
      "metadata": {
        "colab": {
          "base_uri": "https://localhost:8080/"
        },
        "id": "vmy6bY2U37C3",
        "outputId": "199862f1-dd4a-435e-c3a9-58e70429f283"
      },
      "execution_count": 39,
      "outputs": [
        {
          "output_type": "execute_result",
          "data": {
            "text/plain": [
              "[RandomForestRegressor(n_estimators=120),\n",
              " XGBRegressor(learning_rate=0.05, max_depth=7, n_estimatros=100, subsample=0.3),\n",
              " ExtraTreesRegressor(n_estimators=140)]"
            ]
          },
          "metadata": {},
          "execution_count": 39
        }
      ]
    },
    {
      "cell_type": "markdown",
      "source": [
        ""
      ],
      "metadata": {
        "id": "RfaNzeYobKfW"
      }
    },
    {
      "cell_type": "code",
      "source": [
        "from xgboost import XGBRegressor\n",
        "from sklearn.ensemble import RandomForestRegressor\n",
        "from sklearn.ensemble import ExtraTreesRegressor\n"
      ],
      "metadata": {
        "id": "ZCxJoNbhdEO2"
      },
      "execution_count": 18,
      "outputs": []
    },
    {
      "cell_type": "code",
      "source": [
        "best_models=[\n",
        "             ('rf',RandomForestRegressor(n_estimators=120)),\n",
        "             ('xgb',XGBRegressor(learning_rate=0.05, max_depth=7, n_estimatros=100, subsample=0.3)),\n",
        "             ('ex',ExtraTreesRegressor(n_estimators=140))\n",
        "]\n",
        "\n",
        "from sklearn.ensemble import VotingRegressor\n",
        "\n",
        "voting_rg=VotingRegressor(estimators=best_models)\n",
        "voting_rg.fit(X_train,y_train)"
      ],
      "metadata": {
        "colab": {
          "base_uri": "https://localhost:8080/"
        },
        "id": "q5jpjbWb8ttL",
        "outputId": "6446cb57-4c73-4de2-f79e-ccf0bbd5b064"
      },
      "execution_count": 20,
      "outputs": [
        {
          "output_type": "stream",
          "name": "stdout",
          "text": [
            "[13:51:46] WARNING: /workspace/src/objective/regression_obj.cu:152: reg:linear is now deprecated in favor of reg:squarederror.\n"
          ]
        },
        {
          "output_type": "execute_result",
          "data": {
            "text/plain": [
              "VotingRegressor(estimators=[('rf', RandomForestRegressor(n_estimators=120)),\n",
              "                            ('xgb',\n",
              "                             XGBRegressor(learning_rate=0.05, max_depth=7,\n",
              "                                          n_estimatros=100, subsample=0.3)),\n",
              "                            ('ex', ExtraTreesRegressor(n_estimators=140))])"
            ]
          },
          "metadata": {},
          "execution_count": 20
        }
      ]
    },
    {
      "cell_type": "code",
      "source": [
        "pred=voting_rg.predict(X_test)"
      ],
      "metadata": {
        "id": "0VgepCIZdBUx"
      },
      "execution_count": 21,
      "outputs": []
    },
    {
      "cell_type": "code",
      "source": [
        "sample"
      ],
      "metadata": {
        "colab": {
          "base_uri": "https://localhost:8080/",
          "height": 423
        },
        "id": "HIrRgwRNecbe",
        "outputId": "998bce83-a997-44f3-97c3-e0ff8de2a3ef"
      },
      "execution_count": 22,
      "outputs": [
        {
          "output_type": "execute_result",
          "data": {
            "text/html": [
              "\n",
              "  <div id=\"df-ea95bed8-197a-4fd4-92c1-b3f8be2333f8\">\n",
              "    <div class=\"colab-df-container\">\n",
              "      <div>\n",
              "<style scoped>\n",
              "    .dataframe tbody tr th:only-of-type {\n",
              "        vertical-align: middle;\n",
              "    }\n",
              "\n",
              "    .dataframe tbody tr th {\n",
              "        vertical-align: top;\n",
              "    }\n",
              "\n",
              "    .dataframe thead th {\n",
              "        text-align: right;\n",
              "    }\n",
              "</style>\n",
              "<table border=\"1\" class=\"dataframe\">\n",
              "  <thead>\n",
              "    <tr style=\"text-align: right;\">\n",
              "      <th></th>\n",
              "      <th>Id</th>\n",
              "      <th>중식계</th>\n",
              "    </tr>\n",
              "  </thead>\n",
              "  <tbody>\n",
              "    <tr>\n",
              "      <th>0</th>\n",
              "      <td>843</td>\n",
              "      <td>0</td>\n",
              "    </tr>\n",
              "    <tr>\n",
              "      <th>1</th>\n",
              "      <td>844</td>\n",
              "      <td>0</td>\n",
              "    </tr>\n",
              "    <tr>\n",
              "      <th>2</th>\n",
              "      <td>845</td>\n",
              "      <td>0</td>\n",
              "    </tr>\n",
              "    <tr>\n",
              "      <th>3</th>\n",
              "      <td>846</td>\n",
              "      <td>0</td>\n",
              "    </tr>\n",
              "    <tr>\n",
              "      <th>4</th>\n",
              "      <td>847</td>\n",
              "      <td>0</td>\n",
              "    </tr>\n",
              "    <tr>\n",
              "      <th>...</th>\n",
              "      <td>...</td>\n",
              "      <td>...</td>\n",
              "    </tr>\n",
              "    <tr>\n",
              "      <th>357</th>\n",
              "      <td>1200</td>\n",
              "      <td>0</td>\n",
              "    </tr>\n",
              "    <tr>\n",
              "      <th>358</th>\n",
              "      <td>1201</td>\n",
              "      <td>0</td>\n",
              "    </tr>\n",
              "    <tr>\n",
              "      <th>359</th>\n",
              "      <td>1202</td>\n",
              "      <td>0</td>\n",
              "    </tr>\n",
              "    <tr>\n",
              "      <th>360</th>\n",
              "      <td>1203</td>\n",
              "      <td>0</td>\n",
              "    </tr>\n",
              "    <tr>\n",
              "      <th>361</th>\n",
              "      <td>1204</td>\n",
              "      <td>0</td>\n",
              "    </tr>\n",
              "  </tbody>\n",
              "</table>\n",
              "<p>362 rows × 2 columns</p>\n",
              "</div>\n",
              "      <button class=\"colab-df-convert\" onclick=\"convertToInteractive('df-ea95bed8-197a-4fd4-92c1-b3f8be2333f8')\"\n",
              "              title=\"Convert this dataframe to an interactive table.\"\n",
              "              style=\"display:none;\">\n",
              "        \n",
              "  <svg xmlns=\"http://www.w3.org/2000/svg\" height=\"24px\"viewBox=\"0 0 24 24\"\n",
              "       width=\"24px\">\n",
              "    <path d=\"M0 0h24v24H0V0z\" fill=\"none\"/>\n",
              "    <path d=\"M18.56 5.44l.94 2.06.94-2.06 2.06-.94-2.06-.94-.94-2.06-.94 2.06-2.06.94zm-11 1L8.5 8.5l.94-2.06 2.06-.94-2.06-.94L8.5 2.5l-.94 2.06-2.06.94zm10 10l.94 2.06.94-2.06 2.06-.94-2.06-.94-.94-2.06-.94 2.06-2.06.94z\"/><path d=\"M17.41 7.96l-1.37-1.37c-.4-.4-.92-.59-1.43-.59-.52 0-1.04.2-1.43.59L10.3 9.45l-7.72 7.72c-.78.78-.78 2.05 0 2.83L4 21.41c.39.39.9.59 1.41.59.51 0 1.02-.2 1.41-.59l7.78-7.78 2.81-2.81c.8-.78.8-2.07 0-2.86zM5.41 20L4 18.59l7.72-7.72 1.47 1.35L5.41 20z\"/>\n",
              "  </svg>\n",
              "      </button>\n",
              "      \n",
              "  <style>\n",
              "    .colab-df-container {\n",
              "      display:flex;\n",
              "      flex-wrap:wrap;\n",
              "      gap: 12px;\n",
              "    }\n",
              "\n",
              "    .colab-df-convert {\n",
              "      background-color: #E8F0FE;\n",
              "      border: none;\n",
              "      border-radius: 50%;\n",
              "      cursor: pointer;\n",
              "      display: none;\n",
              "      fill: #1967D2;\n",
              "      height: 32px;\n",
              "      padding: 0 0 0 0;\n",
              "      width: 32px;\n",
              "    }\n",
              "\n",
              "    .colab-df-convert:hover {\n",
              "      background-color: #E2EBFA;\n",
              "      box-shadow: 0px 1px 2px rgba(60, 64, 67, 0.3), 0px 1px 3px 1px rgba(60, 64, 67, 0.15);\n",
              "      fill: #174EA6;\n",
              "    }\n",
              "\n",
              "    [theme=dark] .colab-df-convert {\n",
              "      background-color: #3B4455;\n",
              "      fill: #D2E3FC;\n",
              "    }\n",
              "\n",
              "    [theme=dark] .colab-df-convert:hover {\n",
              "      background-color: #434B5C;\n",
              "      box-shadow: 0px 1px 3px 1px rgba(0, 0, 0, 0.15);\n",
              "      filter: drop-shadow(0px 1px 2px rgba(0, 0, 0, 0.3));\n",
              "      fill: #FFFFFF;\n",
              "    }\n",
              "  </style>\n",
              "\n",
              "      <script>\n",
              "        const buttonEl =\n",
              "          document.querySelector('#df-ea95bed8-197a-4fd4-92c1-b3f8be2333f8 button.colab-df-convert');\n",
              "        buttonEl.style.display =\n",
              "          google.colab.kernel.accessAllowed ? 'block' : 'none';\n",
              "\n",
              "        async function convertToInteractive(key) {\n",
              "          const element = document.querySelector('#df-ea95bed8-197a-4fd4-92c1-b3f8be2333f8');\n",
              "          const dataTable =\n",
              "            await google.colab.kernel.invokeFunction('convertToInteractive',\n",
              "                                                     [key], {});\n",
              "          if (!dataTable) return;\n",
              "\n",
              "          const docLinkHtml = 'Like what you see? Visit the ' +\n",
              "            '<a target=\"_blank\" href=https://colab.research.google.com/notebooks/data_table.ipynb>data table notebook</a>'\n",
              "            + ' to learn more about interactive tables.';\n",
              "          element.innerHTML = '';\n",
              "          dataTable['output_type'] = 'display_data';\n",
              "          await google.colab.output.renderOutput(dataTable, element);\n",
              "          const docLink = document.createElement('div');\n",
              "          docLink.innerHTML = docLinkHtml;\n",
              "          element.appendChild(docLink);\n",
              "        }\n",
              "      </script>\n",
              "    </div>\n",
              "  </div>\n",
              "  "
            ],
            "text/plain": [
              "       Id  중식계\n",
              "0     843    0\n",
              "1     844    0\n",
              "2     845    0\n",
              "3     846    0\n",
              "4     847    0\n",
              "..    ...  ...\n",
              "357  1200    0\n",
              "358  1201    0\n",
              "359  1202    0\n",
              "360  1203    0\n",
              "361  1204    0\n",
              "\n",
              "[362 rows x 2 columns]"
            ]
          },
          "metadata": {},
          "execution_count": 22
        }
      ]
    },
    {
      "cell_type": "code",
      "source": [
        "submit=sample.copy()\n",
        "submit['중식계']=pred\n",
        "submit"
      ],
      "metadata": {
        "colab": {
          "base_uri": "https://localhost:8080/",
          "height": 423
        },
        "id": "_aq7-hSuedAO",
        "outputId": "e53eda92-2dd0-46e7-86cf-4aa264aeb96f"
      },
      "execution_count": 23,
      "outputs": [
        {
          "output_type": "execute_result",
          "data": {
            "text/html": [
              "\n",
              "  <div id=\"df-cd85aaaa-dfe3-4caa-aa1e-23b0d6c68c8c\">\n",
              "    <div class=\"colab-df-container\">\n",
              "      <div>\n",
              "<style scoped>\n",
              "    .dataframe tbody tr th:only-of-type {\n",
              "        vertical-align: middle;\n",
              "    }\n",
              "\n",
              "    .dataframe tbody tr th {\n",
              "        vertical-align: top;\n",
              "    }\n",
              "\n",
              "    .dataframe thead th {\n",
              "        text-align: right;\n",
              "    }\n",
              "</style>\n",
              "<table border=\"1\" class=\"dataframe\">\n",
              "  <thead>\n",
              "    <tr style=\"text-align: right;\">\n",
              "      <th></th>\n",
              "      <th>Id</th>\n",
              "      <th>중식계</th>\n",
              "    </tr>\n",
              "  </thead>\n",
              "  <tbody>\n",
              "    <tr>\n",
              "      <th>0</th>\n",
              "      <td>843</td>\n",
              "      <td>871.502431</td>\n",
              "    </tr>\n",
              "    <tr>\n",
              "      <th>1</th>\n",
              "      <td>844</td>\n",
              "      <td>806.112316</td>\n",
              "    </tr>\n",
              "    <tr>\n",
              "      <th>2</th>\n",
              "      <td>845</td>\n",
              "      <td>579.435161</td>\n",
              "    </tr>\n",
              "    <tr>\n",
              "      <th>3</th>\n",
              "      <td>846</td>\n",
              "      <td>1085.053870</td>\n",
              "    </tr>\n",
              "    <tr>\n",
              "      <th>4</th>\n",
              "      <td>847</td>\n",
              "      <td>927.033815</td>\n",
              "    </tr>\n",
              "    <tr>\n",
              "      <th>...</th>\n",
              "      <td>...</td>\n",
              "      <td>...</td>\n",
              "    </tr>\n",
              "    <tr>\n",
              "      <th>357</th>\n",
              "      <td>1200</td>\n",
              "      <td>893.689378</td>\n",
              "    </tr>\n",
              "    <tr>\n",
              "      <th>358</th>\n",
              "      <td>1201</td>\n",
              "      <td>884.749184</td>\n",
              "    </tr>\n",
              "    <tr>\n",
              "      <th>359</th>\n",
              "      <td>1202</td>\n",
              "      <td>644.051664</td>\n",
              "    </tr>\n",
              "    <tr>\n",
              "      <th>360</th>\n",
              "      <td>1203</td>\n",
              "      <td>1233.567736</td>\n",
              "    </tr>\n",
              "    <tr>\n",
              "      <th>361</th>\n",
              "      <td>1204</td>\n",
              "      <td>1048.419467</td>\n",
              "    </tr>\n",
              "  </tbody>\n",
              "</table>\n",
              "<p>362 rows × 2 columns</p>\n",
              "</div>\n",
              "      <button class=\"colab-df-convert\" onclick=\"convertToInteractive('df-cd85aaaa-dfe3-4caa-aa1e-23b0d6c68c8c')\"\n",
              "              title=\"Convert this dataframe to an interactive table.\"\n",
              "              style=\"display:none;\">\n",
              "        \n",
              "  <svg xmlns=\"http://www.w3.org/2000/svg\" height=\"24px\"viewBox=\"0 0 24 24\"\n",
              "       width=\"24px\">\n",
              "    <path d=\"M0 0h24v24H0V0z\" fill=\"none\"/>\n",
              "    <path d=\"M18.56 5.44l.94 2.06.94-2.06 2.06-.94-2.06-.94-.94-2.06-.94 2.06-2.06.94zm-11 1L8.5 8.5l.94-2.06 2.06-.94-2.06-.94L8.5 2.5l-.94 2.06-2.06.94zm10 10l.94 2.06.94-2.06 2.06-.94-2.06-.94-.94-2.06-.94 2.06-2.06.94z\"/><path d=\"M17.41 7.96l-1.37-1.37c-.4-.4-.92-.59-1.43-.59-.52 0-1.04.2-1.43.59L10.3 9.45l-7.72 7.72c-.78.78-.78 2.05 0 2.83L4 21.41c.39.39.9.59 1.41.59.51 0 1.02-.2 1.41-.59l7.78-7.78 2.81-2.81c.8-.78.8-2.07 0-2.86zM5.41 20L4 18.59l7.72-7.72 1.47 1.35L5.41 20z\"/>\n",
              "  </svg>\n",
              "      </button>\n",
              "      \n",
              "  <style>\n",
              "    .colab-df-container {\n",
              "      display:flex;\n",
              "      flex-wrap:wrap;\n",
              "      gap: 12px;\n",
              "    }\n",
              "\n",
              "    .colab-df-convert {\n",
              "      background-color: #E8F0FE;\n",
              "      border: none;\n",
              "      border-radius: 50%;\n",
              "      cursor: pointer;\n",
              "      display: none;\n",
              "      fill: #1967D2;\n",
              "      height: 32px;\n",
              "      padding: 0 0 0 0;\n",
              "      width: 32px;\n",
              "    }\n",
              "\n",
              "    .colab-df-convert:hover {\n",
              "      background-color: #E2EBFA;\n",
              "      box-shadow: 0px 1px 2px rgba(60, 64, 67, 0.3), 0px 1px 3px 1px rgba(60, 64, 67, 0.15);\n",
              "      fill: #174EA6;\n",
              "    }\n",
              "\n",
              "    [theme=dark] .colab-df-convert {\n",
              "      background-color: #3B4455;\n",
              "      fill: #D2E3FC;\n",
              "    }\n",
              "\n",
              "    [theme=dark] .colab-df-convert:hover {\n",
              "      background-color: #434B5C;\n",
              "      box-shadow: 0px 1px 3px 1px rgba(0, 0, 0, 0.15);\n",
              "      filter: drop-shadow(0px 1px 2px rgba(0, 0, 0, 0.3));\n",
              "      fill: #FFFFFF;\n",
              "    }\n",
              "  </style>\n",
              "\n",
              "      <script>\n",
              "        const buttonEl =\n",
              "          document.querySelector('#df-cd85aaaa-dfe3-4caa-aa1e-23b0d6c68c8c button.colab-df-convert');\n",
              "        buttonEl.style.display =\n",
              "          google.colab.kernel.accessAllowed ? 'block' : 'none';\n",
              "\n",
              "        async function convertToInteractive(key) {\n",
              "          const element = document.querySelector('#df-cd85aaaa-dfe3-4caa-aa1e-23b0d6c68c8c');\n",
              "          const dataTable =\n",
              "            await google.colab.kernel.invokeFunction('convertToInteractive',\n",
              "                                                     [key], {});\n",
              "          if (!dataTable) return;\n",
              "\n",
              "          const docLinkHtml = 'Like what you see? Visit the ' +\n",
              "            '<a target=\"_blank\" href=https://colab.research.google.com/notebooks/data_table.ipynb>data table notebook</a>'\n",
              "            + ' to learn more about interactive tables.';\n",
              "          element.innerHTML = '';\n",
              "          dataTable['output_type'] = 'display_data';\n",
              "          await google.colab.output.renderOutput(dataTable, element);\n",
              "          const docLink = document.createElement('div');\n",
              "          docLink.innerHTML = docLinkHtml;\n",
              "          element.appendChild(docLink);\n",
              "        }\n",
              "      </script>\n",
              "    </div>\n",
              "  </div>\n",
              "  "
            ],
            "text/plain": [
              "       Id          중식계\n",
              "0     843   871.502431\n",
              "1     844   806.112316\n",
              "2     845   579.435161\n",
              "3     846  1085.053870\n",
              "4     847   927.033815\n",
              "..    ...          ...\n",
              "357  1200   893.689378\n",
              "358  1201   884.749184\n",
              "359  1202   644.051664\n",
              "360  1203  1233.567736\n",
              "361  1204  1048.419467\n",
              "\n",
              "[362 rows x 2 columns]"
            ]
          },
          "metadata": {},
          "execution_count": 23
        }
      ]
    },
    {
      "cell_type": "code",
      "source": [
        "submit.to_csv('sample.csv',index=False)"
      ],
      "metadata": {
        "id": "jWxCLI_oekIo"
      },
      "execution_count": 24,
      "outputs": []
    },
    {
      "cell_type": "markdown",
      "source": [
        "![image.png](data:image/png;base64,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)"
      ],
      "metadata": {
        "id": "SkEnH-TahQ4Y"
      }
    },
    {
      "cell_type": "code",
      "source": [
        ""
      ],
      "metadata": {
        "id": "ylHVp_OBguhW"
      },
      "execution_count": null,
      "outputs": []
    }
  ]
}