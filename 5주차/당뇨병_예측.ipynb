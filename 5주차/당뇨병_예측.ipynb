{
  "nbformat": 4,
  "nbformat_minor": 0,
  "metadata": {
    "colab": {
      "name": "당뇨병 예측.ipynb",
      "provenance": [],
      "authorship_tag": "ABX9TyOgLhFzqlW8CEgETbYJHSoy",
      "include_colab_link": true
    },
    "kernelspec": {
      "name": "python3",
      "display_name": "Python 3"
    },
    "language_info": {
      "name": "python"
    }
  },
  "cells": [
    {
      "cell_type": "markdown",
      "metadata": {
        "id": "view-in-github",
        "colab_type": "text"
      },
      "source": [
        "<a href=\"https://colab.research.google.com/github/jiin124/4th_kaggle_study/blob/main/5%EC%A3%BC%EC%B0%A8/%EB%8B%B9%EB%87%A8%EB%B3%91_%EC%98%88%EC%B8%A1.ipynb\" target=\"_parent\"><img src=\"https://colab.research.google.com/assets/colab-badge.svg\" alt=\"Open In Colab\"/></a>"
      ]
    },
    {
      "cell_type": "markdown",
      "source": [
        "- Pregnancies : 임신 횟수\n",
        "- Glucose : 글루코오스(탄수화물 화합물)\n",
        "- BloodPressure : 혈압\n",
        "- SkinThickness : 피부 두께\n",
        "- Insulin : 인슐린 수치\n",
        "- BMI : BMI 지수\n",
        "- DiabetesPedigreeFunction : 가족력\n",
        "- Age : 나이\n",
        "- Diabetes : 당뇨병일 경우 1 / 당뇨병이 아닐 경우 0"
      ],
      "metadata": {
        "id": "NuhcRF7BlcfB"
      }
    },
    {
      "cell_type": "code",
      "source": [
        "import pandas as pd\n",
        "import numpy as np\n",
        "import matplotlib.pyplot as plt\n",
        "import seaborn as sns\n",
        "import os\n",
        "plt.style.use('ggplot')\n",
        "import warnings\n",
        "warnings.filterwarnings('ignore')"
      ],
      "metadata": {
        "id": "K4Yd9VU-lm5n"
      },
      "execution_count": 1,
      "outputs": []
    },
    {
      "cell_type": "code",
      "execution_count": 2,
      "metadata": {
        "id": "OGCg5GmwlLsr"
      },
      "outputs": [],
      "source": [
        "os.environ['KAGGLE_USERNAME']='jiinpp'\n",
        "os.environ['KAGGLE_KEY']=\"b06d525a9f66198051ccb648b091778a\""
      ]
    },
    {
      "cell_type": "code",
      "source": [
        "!kaggle competitions download -c 2021-ai-w4-p1"
      ],
      "metadata": {
        "colab": {
          "base_uri": "https://localhost:8080/"
        },
        "id": "Csu82WoplndG",
        "outputId": "1b119704-dc87-406a-d949-68f012e2d13e"
      },
      "execution_count": 3,
      "outputs": [
        {
          "output_type": "stream",
          "name": "stdout",
          "text": [
            "Warning: Looks like you're using an outdated API Version, please consider updating (server 1.5.12 / client 1.5.4)\n",
            "Downloading train.csv to /content\n",
            "  0% 0.00/16.3k [00:00<?, ?B/s]\n",
            "100% 16.3k/16.3k [00:00<00:00, 26.5MB/s]\n",
            "Downloading test.csv to /content\n",
            "  0% 0.00/7.06k [00:00<?, ?B/s]\n",
            "100% 7.06k/7.06k [00:00<00:00, 6.01MB/s]\n",
            "Downloading submit.csv to /content\n",
            "  0% 0.00/1.48k [00:00<?, ?B/s]\n",
            "100% 1.48k/1.48k [00:00<00:00, 3.95MB/s]\n"
          ]
        }
      ]
    },
    {
      "cell_type": "code",
      "source": [
        "train=pd.read_csv('train.csv')\n",
        "test=pd.read_csv('test.csv')\n",
        "sample=pd.read_csv('submit.csv')"
      ],
      "metadata": {
        "id": "O9z8l1PPl7RM"
      },
      "execution_count": 108,
      "outputs": []
    },
    {
      "cell_type": "code",
      "source": [
        "train.head()"
      ],
      "metadata": {
        "colab": {
          "base_uri": "https://localhost:8080/",
          "height": 270
        },
        "id": "bGI2d0DRl82I",
        "outputId": "c70fa36a-0ee2-422d-8c47-8ddbd45c3a1f"
      },
      "execution_count": 7,
      "outputs": [
        {
          "output_type": "execute_result",
          "data": {
            "text/html": [
              "\n",
              "  <div id=\"df-a0e06e59-2739-4af4-b161-10728f436c27\">\n",
              "    <div class=\"colab-df-container\">\n",
              "      <div>\n",
              "<style scoped>\n",
              "    .dataframe tbody tr th:only-of-type {\n",
              "        vertical-align: middle;\n",
              "    }\n",
              "\n",
              "    .dataframe tbody tr th {\n",
              "        vertical-align: top;\n",
              "    }\n",
              "\n",
              "    .dataframe thead th {\n",
              "        text-align: right;\n",
              "    }\n",
              "</style>\n",
              "<table border=\"1\" class=\"dataframe\">\n",
              "  <thead>\n",
              "    <tr style=\"text-align: right;\">\n",
              "      <th></th>\n",
              "      <th>Pregnancies</th>\n",
              "      <th>Glucose</th>\n",
              "      <th>BloodPressure</th>\n",
              "      <th>SkinThickness</th>\n",
              "      <th>Insulin</th>\n",
              "      <th>BMI</th>\n",
              "      <th>DiabetesPedigreeFunction</th>\n",
              "      <th>Age</th>\n",
              "      <th>Diabetes</th>\n",
              "    </tr>\n",
              "  </thead>\n",
              "  <tbody>\n",
              "    <tr>\n",
              "      <th>0</th>\n",
              "      <td>1</td>\n",
              "      <td>95</td>\n",
              "      <td>60</td>\n",
              "      <td>18</td>\n",
              "      <td>58</td>\n",
              "      <td>23.9</td>\n",
              "      <td>0.260</td>\n",
              "      <td>22</td>\n",
              "      <td>0</td>\n",
              "    </tr>\n",
              "    <tr>\n",
              "      <th>1</th>\n",
              "      <td>5</td>\n",
              "      <td>105</td>\n",
              "      <td>72</td>\n",
              "      <td>29</td>\n",
              "      <td>325</td>\n",
              "      <td>36.9</td>\n",
              "      <td>0.159</td>\n",
              "      <td>28</td>\n",
              "      <td>0</td>\n",
              "    </tr>\n",
              "    <tr>\n",
              "      <th>2</th>\n",
              "      <td>0</td>\n",
              "      <td>135</td>\n",
              "      <td>68</td>\n",
              "      <td>42</td>\n",
              "      <td>250</td>\n",
              "      <td>42.3</td>\n",
              "      <td>0.365</td>\n",
              "      <td>24</td>\n",
              "      <td>1</td>\n",
              "    </tr>\n",
              "    <tr>\n",
              "      <th>3</th>\n",
              "      <td>4</td>\n",
              "      <td>131</td>\n",
              "      <td>68</td>\n",
              "      <td>21</td>\n",
              "      <td>166</td>\n",
              "      <td>33.1</td>\n",
              "      <td>0.160</td>\n",
              "      <td>28</td>\n",
              "      <td>0</td>\n",
              "    </tr>\n",
              "    <tr>\n",
              "      <th>4</th>\n",
              "      <td>1</td>\n",
              "      <td>103</td>\n",
              "      <td>30</td>\n",
              "      <td>38</td>\n",
              "      <td>83</td>\n",
              "      <td>43.3</td>\n",
              "      <td>0.183</td>\n",
              "      <td>33</td>\n",
              "      <td>0</td>\n",
              "    </tr>\n",
              "  </tbody>\n",
              "</table>\n",
              "</div>\n",
              "      <button class=\"colab-df-convert\" onclick=\"convertToInteractive('df-a0e06e59-2739-4af4-b161-10728f436c27')\"\n",
              "              title=\"Convert this dataframe to an interactive table.\"\n",
              "              style=\"display:none;\">\n",
              "        \n",
              "  <svg xmlns=\"http://www.w3.org/2000/svg\" height=\"24px\"viewBox=\"0 0 24 24\"\n",
              "       width=\"24px\">\n",
              "    <path d=\"M0 0h24v24H0V0z\" fill=\"none\"/>\n",
              "    <path d=\"M18.56 5.44l.94 2.06.94-2.06 2.06-.94-2.06-.94-.94-2.06-.94 2.06-2.06.94zm-11 1L8.5 8.5l.94-2.06 2.06-.94-2.06-.94L8.5 2.5l-.94 2.06-2.06.94zm10 10l.94 2.06.94-2.06 2.06-.94-2.06-.94-.94-2.06-.94 2.06-2.06.94z\"/><path d=\"M17.41 7.96l-1.37-1.37c-.4-.4-.92-.59-1.43-.59-.52 0-1.04.2-1.43.59L10.3 9.45l-7.72 7.72c-.78.78-.78 2.05 0 2.83L4 21.41c.39.39.9.59 1.41.59.51 0 1.02-.2 1.41-.59l7.78-7.78 2.81-2.81c.8-.78.8-2.07 0-2.86zM5.41 20L4 18.59l7.72-7.72 1.47 1.35L5.41 20z\"/>\n",
              "  </svg>\n",
              "      </button>\n",
              "      \n",
              "  <style>\n",
              "    .colab-df-container {\n",
              "      display:flex;\n",
              "      flex-wrap:wrap;\n",
              "      gap: 12px;\n",
              "    }\n",
              "\n",
              "    .colab-df-convert {\n",
              "      background-color: #E8F0FE;\n",
              "      border: none;\n",
              "      border-radius: 50%;\n",
              "      cursor: pointer;\n",
              "      display: none;\n",
              "      fill: #1967D2;\n",
              "      height: 32px;\n",
              "      padding: 0 0 0 0;\n",
              "      width: 32px;\n",
              "    }\n",
              "\n",
              "    .colab-df-convert:hover {\n",
              "      background-color: #E2EBFA;\n",
              "      box-shadow: 0px 1px 2px rgba(60, 64, 67, 0.3), 0px 1px 3px 1px rgba(60, 64, 67, 0.15);\n",
              "      fill: #174EA6;\n",
              "    }\n",
              "\n",
              "    [theme=dark] .colab-df-convert {\n",
              "      background-color: #3B4455;\n",
              "      fill: #D2E3FC;\n",
              "    }\n",
              "\n",
              "    [theme=dark] .colab-df-convert:hover {\n",
              "      background-color: #434B5C;\n",
              "      box-shadow: 0px 1px 3px 1px rgba(0, 0, 0, 0.15);\n",
              "      filter: drop-shadow(0px 1px 2px rgba(0, 0, 0, 0.3));\n",
              "      fill: #FFFFFF;\n",
              "    }\n",
              "  </style>\n",
              "\n",
              "      <script>\n",
              "        const buttonEl =\n",
              "          document.querySelector('#df-a0e06e59-2739-4af4-b161-10728f436c27 button.colab-df-convert');\n",
              "        buttonEl.style.display =\n",
              "          google.colab.kernel.accessAllowed ? 'block' : 'none';\n",
              "\n",
              "        async function convertToInteractive(key) {\n",
              "          const element = document.querySelector('#df-a0e06e59-2739-4af4-b161-10728f436c27');\n",
              "          const dataTable =\n",
              "            await google.colab.kernel.invokeFunction('convertToInteractive',\n",
              "                                                     [key], {});\n",
              "          if (!dataTable) return;\n",
              "\n",
              "          const docLinkHtml = 'Like what you see? Visit the ' +\n",
              "            '<a target=\"_blank\" href=https://colab.research.google.com/notebooks/data_table.ipynb>data table notebook</a>'\n",
              "            + ' to learn more about interactive tables.';\n",
              "          element.innerHTML = '';\n",
              "          dataTable['output_type'] = 'display_data';\n",
              "          await google.colab.output.renderOutput(dataTable, element);\n",
              "          const docLink = document.createElement('div');\n",
              "          docLink.innerHTML = docLinkHtml;\n",
              "          element.appendChild(docLink);\n",
              "        }\n",
              "      </script>\n",
              "    </div>\n",
              "  </div>\n",
              "  "
            ],
            "text/plain": [
              "   Pregnancies  Glucose  BloodPressure  ...  DiabetesPedigreeFunction  Age  Diabetes\n",
              "0            1       95             60  ...                     0.260   22         0\n",
              "1            5      105             72  ...                     0.159   28         0\n",
              "2            0      135             68  ...                     0.365   24         1\n",
              "3            4      131             68  ...                     0.160   28         0\n",
              "4            1      103             30  ...                     0.183   33         0\n",
              "\n",
              "[5 rows x 9 columns]"
            ]
          },
          "metadata": {},
          "execution_count": 7
        }
      ]
    },
    {
      "cell_type": "code",
      "source": [
        "test.head()"
      ],
      "metadata": {
        "colab": {
          "base_uri": "https://localhost:8080/",
          "height": 270
        },
        "id": "ElOrI8qvmVka",
        "outputId": "ad4ffff6-ecaa-4d2c-ca65-2564d97a7d62"
      },
      "execution_count": 8,
      "outputs": [
        {
          "output_type": "execute_result",
          "data": {
            "text/html": [
              "\n",
              "  <div id=\"df-7c2b630a-ca58-46dd-bf5e-9776ae38662f\">\n",
              "    <div class=\"colab-df-container\">\n",
              "      <div>\n",
              "<style scoped>\n",
              "    .dataframe tbody tr th:only-of-type {\n",
              "        vertical-align: middle;\n",
              "    }\n",
              "\n",
              "    .dataframe tbody tr th {\n",
              "        vertical-align: top;\n",
              "    }\n",
              "\n",
              "    .dataframe thead th {\n",
              "        text-align: right;\n",
              "    }\n",
              "</style>\n",
              "<table border=\"1\" class=\"dataframe\">\n",
              "  <thead>\n",
              "    <tr style=\"text-align: right;\">\n",
              "      <th></th>\n",
              "      <th>Pregnancies</th>\n",
              "      <th>Glucose</th>\n",
              "      <th>BloodPressure</th>\n",
              "      <th>SkinThickness</th>\n",
              "      <th>Insulin</th>\n",
              "      <th>BMI</th>\n",
              "      <th>DiabetesPedigreeFunction</th>\n",
              "      <th>Age</th>\n",
              "    </tr>\n",
              "  </thead>\n",
              "  <tbody>\n",
              "    <tr>\n",
              "      <th>0</th>\n",
              "      <td>6</td>\n",
              "      <td>98</td>\n",
              "      <td>58</td>\n",
              "      <td>33</td>\n",
              "      <td>190</td>\n",
              "      <td>34.0</td>\n",
              "      <td>0.430</td>\n",
              "      <td>43</td>\n",
              "    </tr>\n",
              "    <tr>\n",
              "      <th>1</th>\n",
              "      <td>2</td>\n",
              "      <td>112</td>\n",
              "      <td>75</td>\n",
              "      <td>32</td>\n",
              "      <td>0</td>\n",
              "      <td>35.7</td>\n",
              "      <td>0.148</td>\n",
              "      <td>21</td>\n",
              "    </tr>\n",
              "    <tr>\n",
              "      <th>2</th>\n",
              "      <td>2</td>\n",
              "      <td>108</td>\n",
              "      <td>64</td>\n",
              "      <td>0</td>\n",
              "      <td>0</td>\n",
              "      <td>30.8</td>\n",
              "      <td>0.158</td>\n",
              "      <td>21</td>\n",
              "    </tr>\n",
              "    <tr>\n",
              "      <th>3</th>\n",
              "      <td>8</td>\n",
              "      <td>107</td>\n",
              "      <td>80</td>\n",
              "      <td>0</td>\n",
              "      <td>0</td>\n",
              "      <td>24.6</td>\n",
              "      <td>0.856</td>\n",
              "      <td>34</td>\n",
              "    </tr>\n",
              "    <tr>\n",
              "      <th>4</th>\n",
              "      <td>7</td>\n",
              "      <td>136</td>\n",
              "      <td>90</td>\n",
              "      <td>0</td>\n",
              "      <td>0</td>\n",
              "      <td>29.9</td>\n",
              "      <td>0.210</td>\n",
              "      <td>50</td>\n",
              "    </tr>\n",
              "  </tbody>\n",
              "</table>\n",
              "</div>\n",
              "      <button class=\"colab-df-convert\" onclick=\"convertToInteractive('df-7c2b630a-ca58-46dd-bf5e-9776ae38662f')\"\n",
              "              title=\"Convert this dataframe to an interactive table.\"\n",
              "              style=\"display:none;\">\n",
              "        \n",
              "  <svg xmlns=\"http://www.w3.org/2000/svg\" height=\"24px\"viewBox=\"0 0 24 24\"\n",
              "       width=\"24px\">\n",
              "    <path d=\"M0 0h24v24H0V0z\" fill=\"none\"/>\n",
              "    <path d=\"M18.56 5.44l.94 2.06.94-2.06 2.06-.94-2.06-.94-.94-2.06-.94 2.06-2.06.94zm-11 1L8.5 8.5l.94-2.06 2.06-.94-2.06-.94L8.5 2.5l-.94 2.06-2.06.94zm10 10l.94 2.06.94-2.06 2.06-.94-2.06-.94-.94-2.06-.94 2.06-2.06.94z\"/><path d=\"M17.41 7.96l-1.37-1.37c-.4-.4-.92-.59-1.43-.59-.52 0-1.04.2-1.43.59L10.3 9.45l-7.72 7.72c-.78.78-.78 2.05 0 2.83L4 21.41c.39.39.9.59 1.41.59.51 0 1.02-.2 1.41-.59l7.78-7.78 2.81-2.81c.8-.78.8-2.07 0-2.86zM5.41 20L4 18.59l7.72-7.72 1.47 1.35L5.41 20z\"/>\n",
              "  </svg>\n",
              "      </button>\n",
              "      \n",
              "  <style>\n",
              "    .colab-df-container {\n",
              "      display:flex;\n",
              "      flex-wrap:wrap;\n",
              "      gap: 12px;\n",
              "    }\n",
              "\n",
              "    .colab-df-convert {\n",
              "      background-color: #E8F0FE;\n",
              "      border: none;\n",
              "      border-radius: 50%;\n",
              "      cursor: pointer;\n",
              "      display: none;\n",
              "      fill: #1967D2;\n",
              "      height: 32px;\n",
              "      padding: 0 0 0 0;\n",
              "      width: 32px;\n",
              "    }\n",
              "\n",
              "    .colab-df-convert:hover {\n",
              "      background-color: #E2EBFA;\n",
              "      box-shadow: 0px 1px 2px rgba(60, 64, 67, 0.3), 0px 1px 3px 1px rgba(60, 64, 67, 0.15);\n",
              "      fill: #174EA6;\n",
              "    }\n",
              "\n",
              "    [theme=dark] .colab-df-convert {\n",
              "      background-color: #3B4455;\n",
              "      fill: #D2E3FC;\n",
              "    }\n",
              "\n",
              "    [theme=dark] .colab-df-convert:hover {\n",
              "      background-color: #434B5C;\n",
              "      box-shadow: 0px 1px 3px 1px rgba(0, 0, 0, 0.15);\n",
              "      filter: drop-shadow(0px 1px 2px rgba(0, 0, 0, 0.3));\n",
              "      fill: #FFFFFF;\n",
              "    }\n",
              "  </style>\n",
              "\n",
              "      <script>\n",
              "        const buttonEl =\n",
              "          document.querySelector('#df-7c2b630a-ca58-46dd-bf5e-9776ae38662f button.colab-df-convert');\n",
              "        buttonEl.style.display =\n",
              "          google.colab.kernel.accessAllowed ? 'block' : 'none';\n",
              "\n",
              "        async function convertToInteractive(key) {\n",
              "          const element = document.querySelector('#df-7c2b630a-ca58-46dd-bf5e-9776ae38662f');\n",
              "          const dataTable =\n",
              "            await google.colab.kernel.invokeFunction('convertToInteractive',\n",
              "                                                     [key], {});\n",
              "          if (!dataTable) return;\n",
              "\n",
              "          const docLinkHtml = 'Like what you see? Visit the ' +\n",
              "            '<a target=\"_blank\" href=https://colab.research.google.com/notebooks/data_table.ipynb>data table notebook</a>'\n",
              "            + ' to learn more about interactive tables.';\n",
              "          element.innerHTML = '';\n",
              "          dataTable['output_type'] = 'display_data';\n",
              "          await google.colab.output.renderOutput(dataTable, element);\n",
              "          const docLink = document.createElement('div');\n",
              "          docLink.innerHTML = docLinkHtml;\n",
              "          element.appendChild(docLink);\n",
              "        }\n",
              "      </script>\n",
              "    </div>\n",
              "  </div>\n",
              "  "
            ],
            "text/plain": [
              "   Pregnancies  Glucose  BloodPressure  ...   BMI  DiabetesPedigreeFunction  Age\n",
              "0            6       98             58  ...  34.0                     0.430   43\n",
              "1            2      112             75  ...  35.7                     0.148   21\n",
              "2            2      108             64  ...  30.8                     0.158   21\n",
              "3            8      107             80  ...  24.6                     0.856   34\n",
              "4            7      136             90  ...  29.9                     0.210   50\n",
              "\n",
              "[5 rows x 8 columns]"
            ]
          },
          "metadata": {},
          "execution_count": 8
        }
      ]
    },
    {
      "cell_type": "code",
      "source": [
        "train.info()"
      ],
      "metadata": {
        "colab": {
          "base_uri": "https://localhost:8080/"
        },
        "id": "vOYZoqwhmtH1",
        "outputId": "b0a0a8ae-d0a2-4550-ed3b-da97ec5b2a70"
      },
      "execution_count": 9,
      "outputs": [
        {
          "output_type": "stream",
          "name": "stdout",
          "text": [
            "<class 'pandas.core.frame.DataFrame'>\n",
            "RangeIndex: 537 entries, 0 to 536\n",
            "Data columns (total 9 columns):\n",
            " #   Column                    Non-Null Count  Dtype  \n",
            "---  ------                    --------------  -----  \n",
            " 0   Pregnancies               537 non-null    int64  \n",
            " 1   Glucose                   537 non-null    int64  \n",
            " 2   BloodPressure             537 non-null    int64  \n",
            " 3   SkinThickness             537 non-null    int64  \n",
            " 4   Insulin                   537 non-null    int64  \n",
            " 5   BMI                       537 non-null    float64\n",
            " 6   DiabetesPedigreeFunction  537 non-null    float64\n",
            " 7   Age                       537 non-null    int64  \n",
            " 8   Diabetes                  537 non-null    int64  \n",
            "dtypes: float64(2), int64(7)\n",
            "memory usage: 37.9 KB\n"
          ]
        }
      ]
    },
    {
      "cell_type": "code",
      "source": [
        "test.info()"
      ],
      "metadata": {
        "colab": {
          "base_uri": "https://localhost:8080/"
        },
        "id": "JETQ6aXEmt9E",
        "outputId": "a4e2e5dd-2406-4b9d-e71c-b5f70cc7e657"
      },
      "execution_count": 10,
      "outputs": [
        {
          "output_type": "stream",
          "name": "stdout",
          "text": [
            "<class 'pandas.core.frame.DataFrame'>\n",
            "RangeIndex: 231 entries, 0 to 230\n",
            "Data columns (total 8 columns):\n",
            " #   Column                    Non-Null Count  Dtype  \n",
            "---  ------                    --------------  -----  \n",
            " 0   Pregnancies               231 non-null    int64  \n",
            " 1   Glucose                   231 non-null    int64  \n",
            " 2   BloodPressure             231 non-null    int64  \n",
            " 3   SkinThickness             231 non-null    int64  \n",
            " 4   Insulin                   231 non-null    int64  \n",
            " 5   BMI                       231 non-null    float64\n",
            " 6   DiabetesPedigreeFunction  231 non-null    float64\n",
            " 7   Age                       231 non-null    int64  \n",
            "dtypes: float64(2), int64(6)\n",
            "memory usage: 14.6 KB\n"
          ]
        }
      ]
    },
    {
      "cell_type": "markdown",
      "source": [
        "데이터양이 작수"
      ],
      "metadata": {
        "id": "W5iS98KbmwVD"
      }
    },
    {
      "cell_type": "markdown",
      "source": [
        "## EDA"
      ],
      "metadata": {
        "id": "7cZAY-cumxzm"
      }
    },
    {
      "cell_type": "code",
      "source": [
        "train.columns"
      ],
      "metadata": {
        "colab": {
          "base_uri": "https://localhost:8080/"
        },
        "id": "SkTUk9Nym8bE",
        "outputId": "ab2fe408-e28b-46f0-9cb4-1fbf13cd9f48"
      },
      "execution_count": 12,
      "outputs": [
        {
          "output_type": "execute_result",
          "data": {
            "text/plain": [
              "Index(['Pregnancies', 'Glucose', 'BloodPressure', 'SkinThickness', 'Insulin',\n",
              "       'BMI', 'DiabetesPedigreeFunction', 'Age', 'Diabetes'],\n",
              "      dtype='object')"
            ]
          },
          "metadata": {},
          "execution_count": 12
        }
      ]
    },
    {
      "cell_type": "code",
      "source": [
        "#Diabetes\n",
        "train['Diabetes'].value_counts()"
      ],
      "metadata": {
        "colab": {
          "base_uri": "https://localhost:8080/"
        },
        "id": "YvSl3my7mumc",
        "outputId": "0412831e-8d5b-4178-a5fb-ed49649c9eb8"
      },
      "execution_count": 11,
      "outputs": [
        {
          "output_type": "execute_result",
          "data": {
            "text/plain": [
              "0    349\n",
              "1    188\n",
              "Name: Diabetes, dtype: int64"
            ]
          },
          "metadata": {},
          "execution_count": 11
        }
      ]
    },
    {
      "cell_type": "markdown",
      "source": [
        "분류"
      ],
      "metadata": {
        "id": "zkVSoJiom6SE"
      }
    },
    {
      "cell_type": "code",
      "source": [
        "sns.histplot(data=train,x='Pregnancies',hue='Diabetes')"
      ],
      "metadata": {
        "colab": {
          "base_uri": "https://localhost:8080/",
          "height": 300
        },
        "id": "0uR8hoUNm3HD",
        "outputId": "a9473adf-cc8e-4bd6-8fff-4510a376c0a0"
      },
      "execution_count": 15,
      "outputs": [
        {
          "output_type": "execute_result",
          "data": {
            "text/plain": [
              "<matplotlib.axes._subplots.AxesSubplot at 0x7f1d84f1c9d0>"
            ]
          },
          "metadata": {},
          "execution_count": 15
        },
        {
          "output_type": "display_data",
          "data": {
            "image/png": "[encoded data removed]",
            "text/plain": [
              "<Figure size 432x288 with 1 Axes>"
            ]
          },
          "metadata": {
            "needs_background": "light"
          }
        }
      ]
    },
    {
      "cell_type": "code",
      "source": [
        "sns.histplot(data=train,x='Glucose',hue='Diabetes')"
      ],
      "metadata": {
        "colab": {
          "base_uri": "https://localhost:8080/",
          "height": 300
        },
        "id": "MUoiJN84nh-j",
        "outputId": "69b2ee57-0ee4-4aab-9abc-7ccb9124949f"
      },
      "execution_count": 16,
      "outputs": [
        {
          "output_type": "execute_result",
          "data": {
            "text/plain": [
              "<matplotlib.axes._subplots.AxesSubplot at 0x7f1d84e47a10>"
            ]
          },
          "metadata": {},
          "execution_count": 16
        },
        {
          "output_type": "display_data",
          "data": {
            "image/png": "[encoded data removed]",
            "text/plain": [
              "<Figure size 432x288 with 1 Axes>"
            ]
          },
          "metadata": {
            "needs_background": "light"
          }
        }
      ]
    },
    {
      "cell_type": "code",
      "source": [
        "sns.boxplot(data=train,x='Diabetes',y='Glucose')"
      ],
      "metadata": {
        "colab": {
          "base_uri": "https://localhost:8080/",
          "height": 300
        },
        "id": "1pxh8j_PrBUy",
        "outputId": "6dffd92c-5f17-41bf-8d68-de33ac5c2e97"
      },
      "execution_count": 36,
      "outputs": [
        {
          "output_type": "execute_result",
          "data": {
            "text/plain": [
              "<matplotlib.axes._subplots.AxesSubplot at 0x7f1d830d7310>"
            ]
          },
          "metadata": {},
          "execution_count": 36
        },
        {
          "output_type": "display_data",
          "data": {
            "image/png": "[encoded data removed]",
            "text/plain": [
              "<Figure size 432x288 with 1 Axes>"
            ]
          },
          "metadata": {
            "needs_background": "light"
          }
        }
      ]
    },
    {
      "cell_type": "markdown",
      "source": [
        "클루코스 양은 어느정도 연관성이 있어보임"
      ],
      "metadata": {
        "id": "1_K0xB-VoiuA"
      }
    },
    {
      "cell_type": "code",
      "source": [
        "sns.histplot(data=train,x='BloodPressure',hue='Diabetes')"
      ],
      "metadata": {
        "colab": {
          "base_uri": "https://localhost:8080/",
          "height": 300
        },
        "id": "kfUzS0Kxn-nY",
        "outputId": "1232ec24-98d4-453e-c0d8-cd4f1123a101"
      },
      "execution_count": 17,
      "outputs": [
        {
          "output_type": "execute_result",
          "data": {
            "text/plain": [
              "<matplotlib.axes._subplots.AxesSubplot at 0x7f1d84e6e8d0>"
            ]
          },
          "metadata": {},
          "execution_count": 17
        },
        {
          "output_type": "display_data",
          "data": {
            "image/png": "[encoded data removed]",
            "text/plain": [
              "<Figure size 432x288 with 1 Axes>"
            ]
          },
          "metadata": {
            "needs_background": "light"
          }
        }
      ]
    },
    {
      "cell_type": "markdown",
      "source": [
        "혈압은 잘 모르겠음"
      ],
      "metadata": {
        "id": "Nk3yGzbzogBD"
      }
    },
    {
      "cell_type": "code",
      "source": [
        "sns.histplot(data=train,x='SkinThickness',hue='Diabetes')"
      ],
      "metadata": {
        "colab": {
          "base_uri": "https://localhost:8080/",
          "height": 300
        },
        "id": "f7X5EYwRoSkR",
        "outputId": "7acb624d-22f6-4b51-819e-456206384a52"
      },
      "execution_count": 18,
      "outputs": [
        {
          "output_type": "execute_result",
          "data": {
            "text/plain": [
              "<matplotlib.axes._subplots.AxesSubplot at 0x7f1d84bbd310>"
            ]
          },
          "metadata": {},
          "execution_count": 18
        },
        {
          "output_type": "display_data",
          "data": {
            "image/png": "[encoded data removed]",
            "text/plain": [
              "<Figure size 432x288 with 1 Axes>"
            ]
          },
          "metadata": {
            "needs_background": "light"
          }
        }
      ]
    },
    {
      "cell_type": "markdown",
      "source": [
        "피부두께는 잘 모르겠음"
      ],
      "metadata": {
        "id": "FSuFq_ChodcN"
      }
    },
    {
      "cell_type": "code",
      "source": [
        "sns.histplot(data=train,x='Insulin',hue='Diabetes')\n"
      ],
      "metadata": {
        "colab": {
          "base_uri": "https://localhost:8080/",
          "height": 300
        },
        "id": "QOtzWbdKoX9m",
        "outputId": "d32850f8-2b52-4c49-d536-b509e618156a"
      },
      "execution_count": 19,
      "outputs": [
        {
          "output_type": "execute_result",
          "data": {
            "text/plain": [
              "<matplotlib.axes._subplots.AxesSubplot at 0x7f1d84b6bb10>"
            ]
          },
          "metadata": {},
          "execution_count": 19
        },
        {
          "output_type": "display_data",
          "data": {
            "image/png": "[encoded data removed]",
            "text/plain": [
              "<Figure size 432x288 with 1 Axes>"
            ]
          },
          "metadata": {
            "needs_background": "light"
          }
        }
      ]
    },
    {
      "cell_type": "code",
      "source": [
        "sns.boxplot(data=train,y='Insulin',x='Diabetes')"
      ],
      "metadata": {
        "colab": {
          "base_uri": "https://localhost:8080/",
          "height": 300
        },
        "id": "ho1DxEy-obls",
        "outputId": "1e29681a-d8a2-4be1-df8c-450dd71e8272"
      },
      "execution_count": 22,
      "outputs": [
        {
          "output_type": "execute_result",
          "data": {
            "text/plain": [
              "<matplotlib.axes._subplots.AxesSubplot at 0x7f1d83a44e10>"
            ]
          },
          "metadata": {},
          "execution_count": 22
        },
        {
          "output_type": "display_data",
          "data": {
            "image/png": "[encoded data removed]",
            "text/plain": [
              "<Figure size 432x288 with 1 Axes>"
            ]
          },
          "metadata": {
            "needs_background": "light"
          }
        }
      ]
    },
    {
      "cell_type": "code",
      "source": [
        "sns.histplot(data=train,x='BMI',hue='Diabetes')"
      ],
      "metadata": {
        "colab": {
          "base_uri": "https://localhost:8080/",
          "height": 300
        },
        "id": "nniEDOGmoqef",
        "outputId": "837edce3-85ca-4dc4-c7d1-113d66032df3"
      },
      "execution_count": 23,
      "outputs": [
        {
          "output_type": "execute_result",
          "data": {
            "text/plain": [
              "<matplotlib.axes._subplots.AxesSubplot at 0x7f1d83aacc10>"
            ]
          },
          "metadata": {},
          "execution_count": 23
        },
        {
          "output_type": "display_data",
          "data": {
            "image/png": "[encoded data removed]",
            "text/plain": [
              "<Figure size 432x288 with 1 Axes>"
            ]
          },
          "metadata": {
            "needs_background": "light"
          }
        }
      ]
    },
    {
      "cell_type": "code",
      "source": [
        "sns.boxplot(data=train,y='BMI',x='Diabetes')"
      ],
      "metadata": {
        "colab": {
          "base_uri": "https://localhost:8080/",
          "height": 303
        },
        "id": "BzUO2Fw8ppVm",
        "outputId": "f7a7d28c-f446-4472-8f4a-4a0331f9be9c"
      },
      "execution_count": 24,
      "outputs": [
        {
          "output_type": "execute_result",
          "data": {
            "text/plain": [
              "<matplotlib.axes._subplots.AxesSubplot at 0x7f1d83909050>"
            ]
          },
          "metadata": {},
          "execution_count": 24
        },
        {
          "output_type": "display_data",
          "data": {
            "image/png": "[encoded data removed]",
            "text/plain": [
              "<Figure size 432x288 with 1 Axes>"
            ]
          },
          "metadata": {
            "needs_background": "light"
          }
        }
      ]
    },
    {
      "cell_type": "code",
      "source": [
        "sns.boxplot(data=train,y='DiabetesPedigreeFunction',x='Diabetes')"
      ],
      "metadata": {
        "colab": {
          "base_uri": "https://localhost:8080/",
          "height": 301
        },
        "id": "waeQufR8psRj",
        "outputId": "a260797a-b810-471a-be27-aaea26400239"
      },
      "execution_count": 28,
      "outputs": [
        {
          "output_type": "execute_result",
          "data": {
            "text/plain": [
              "<matplotlib.axes._subplots.AxesSubplot at 0x7f1d838a0950>"
            ]
          },
          "metadata": {},
          "execution_count": 28
        },
        {
          "output_type": "display_data",
          "data": {
            "image/png": "[encoded data removed]",
            "text/plain": [
              "<Figure size 432x288 with 1 Axes>"
            ]
          },
          "metadata": {
            "needs_background": "light"
          }
        }
      ]
    },
    {
      "cell_type": "code",
      "source": [
        "sns.histplot(data=train,x='DiabetesPedigreeFunction')"
      ],
      "metadata": {
        "colab": {
          "base_uri": "https://localhost:8080/",
          "height": 300
        },
        "id": "Poj6Fzrvp5Nt",
        "outputId": "2c7edeca-2945-4c92-ffc0-3a393e512662"
      },
      "execution_count": 29,
      "outputs": [
        {
          "output_type": "execute_result",
          "data": {
            "text/plain": [
              "<matplotlib.axes._subplots.AxesSubplot at 0x7f1d8389d8d0>"
            ]
          },
          "metadata": {},
          "execution_count": 29
        },
        {
          "output_type": "display_data",
          "data": {
            "image/png": "[encoded data removed]",
            "text/plain": [
              "<Figure size 432x288 with 1 Axes>"
            ]
          },
          "metadata": {
            "needs_background": "light"
          }
        }
      ]
    },
    {
      "cell_type": "code",
      "source": [
        "sns.histplot(data=train,x='DiabetesPedigreeFunction',hue='Diabetes')"
      ],
      "metadata": {
        "colab": {
          "base_uri": "https://localhost:8080/",
          "height": 300
        },
        "id": "7m3TXloip9cT",
        "outputId": "7e2ca12c-1709-48e7-cd03-4c9846c86d20"
      },
      "execution_count": 30,
      "outputs": [
        {
          "output_type": "execute_result",
          "data": {
            "text/plain": [
              "<matplotlib.axes._subplots.AxesSubplot at 0x7f1d8374c0d0>"
            ]
          },
          "metadata": {},
          "execution_count": 30
        },
        {
          "output_type": "display_data",
          "data": {
            "image/png": "[encoded data removed]",
            "text/plain": [
              "<Figure size 432x288 with 1 Axes>"
            ]
          },
          "metadata": {
            "needs_background": "light"
          }
        }
      ]
    },
    {
      "cell_type": "code",
      "source": [
        "sns.histplot(data=train,x='Age',hue='Diabetes')"
      ],
      "metadata": {
        "colab": {
          "base_uri": "https://localhost:8080/",
          "height": 300
        },
        "id": "Bf0qHfENqKMG",
        "outputId": "915d0727-eaea-4245-ba24-83cc4faa57b5"
      },
      "execution_count": 32,
      "outputs": [
        {
          "output_type": "execute_result",
          "data": {
            "text/plain": [
              "<matplotlib.axes._subplots.AxesSubplot at 0x7f1d83591290>"
            ]
          },
          "metadata": {},
          "execution_count": 32
        },
        {
          "output_type": "display_data",
          "data": {
            "image/png": "[encoded data removed]",
            "text/plain": [
              "<Figure size 432x288 with 1 Axes>"
            ]
          },
          "metadata": {
            "needs_background": "light"
          }
        }
      ]
    },
    {
      "cell_type": "code",
      "source": [
        "sns.boxplot(data=train,y='Age',x='Diabetes')"
      ],
      "metadata": {
        "colab": {
          "base_uri": "https://localhost:8080/",
          "height": 300
        },
        "id": "xzfrt9qAqoCx",
        "outputId": "7de8a43a-ebe3-42ac-a800-6fcc9626137d"
      },
      "execution_count": 33,
      "outputs": [
        {
          "output_type": "execute_result",
          "data": {
            "text/plain": [
              "<matplotlib.axes._subplots.AxesSubplot at 0x7f1d83707cd0>"
            ]
          },
          "metadata": {},
          "execution_count": 33
        },
        {
          "output_type": "display_data",
          "data": {
            "image/png": "[encoded data removed]",
            "text/plain": [
              "<Figure size 432x288 with 1 Axes>"
            ]
          },
          "metadata": {
            "needs_background": "light"
          }
        }
      ]
    },
    {
      "cell_type": "markdown",
      "source": [
        "확실히 연령대가 더 높군"
      ],
      "metadata": {
        "id": "0qbfdoIWqvM9"
      }
    },
    {
      "cell_type": "code",
      "source": [
        "plt.figure(figsize=(7,7))\n",
        "sns.heatmap(train.corr(),annot=True)"
      ],
      "metadata": {
        "colab": {
          "base_uri": "https://localhost:8080/",
          "height": 571
        },
        "id": "l0QNmLs6qt3e",
        "outputId": "57b8535c-59b3-4a50-bf71-bc849d4fcf4a"
      },
      "execution_count": 37,
      "outputs": [
        {
          "output_type": "execute_result",
          "data": {
            "text/plain": [
              "<matplotlib.axes._subplots.AxesSubplot at 0x7f1d79e16310>"
            ]
          },
          "metadata": {},
          "execution_count": 37
        },
        {
          "output_type": "display_data",
          "data": {
            "image/png": "[encoded data removed]",
            "text/plain": [
              "<Figure size 504x504 with 2 Axes>"
            ]
          },
          "metadata": {
            "needs_background": "light"
          }
        }
      ]
    },
    {
      "cell_type": "markdown",
      "source": [
        "## 전처리"
      ],
      "metadata": {
        "id": "gwjtw46ArZ5u"
      }
    },
    {
      "cell_type": "code",
      "source": [
        "def outlier(df=None,column=None,weight=1.5):\n",
        "\n",
        "  #column 데이터만 추출, 1/4분위와 3/4분위 지점을 np.percentile로 구함. \n",
        "  data=df[column]\n",
        "  quantile_25=np.percentile(data.values,25)\n",
        "  quantile_75=np.percentile(data.values,75)\n",
        "\n",
        "  #IQR 구하고 IQR에 1.5를 곲해 최댓값과 최솟값 지점 구하기\n",
        "  iqr=quantile_75-quantile_25\n",
        "  iqr_weight=iqr*weight\n",
        "  lowest_val=quantile_25-iqr_weight#이상치 최소 기준\n",
        "  highest_val=quantile_75+iqr_weight#이상치 최대 기준\n",
        "\n",
        "  #최댓값보다 크거나 최솟값보다 작은 값을 아웃라이어로 설정하고  DataFrame index 반환. \n",
        "  outlier_index=data[(data < lowest_val) | (data > highest_val)].index\n",
        "\n",
        "  return outlier_index"
      ],
      "metadata": {
        "id": "nDhjISpZw4Nk"
      },
      "execution_count": 109,
      "outputs": []
    },
    {
      "cell_type": "code",
      "source": [
        "outlier_index={}\n",
        "\n",
        "for i,colName in enumerate(col):\n",
        "  outlier_index[i]=outlier(df=train,column=f'{colName}',weight=1.5)\n",
        "  \n",
        "outlier_index"
      ],
      "metadata": {
        "colab": {
          "base_uri": "https://localhost:8080/"
        },
        "id": "RQQ_uEBOw4QC",
        "outputId": "a8eafc92-024a-431e-a0cb-5f61ef864bcc"
      },
      "execution_count": 110,
      "outputs": [
        {
          "output_type": "execute_result",
          "data": {
            "text/plain": [
              "{0: Int64Index([106, 196, 394, 457], dtype='int64'),\n",
              " 1: Int64Index([20, 75, 98, 139, 422], dtype='int64'),\n",
              " 2: Int64Index([  4,   8,  16,  39,  52,  61,  67,  74,  76,  77,  91,  92, 109,\n",
              "             116, 124, 142, 180, 206, 215, 306, 351, 352, 383, 388, 459, 491,\n",
              "             533, 535],\n",
              "            dtype='int64'),\n",
              " 3: Int64Index([], dtype='int64'),\n",
              " 4: Int64Index([  1,  35,  49,  71,  97, 102, 121, 145, 184, 238, 241, 252, 273,\n",
              "             277, 293, 307, 332, 346, 375, 386, 405, 410, 483],\n",
              "            dtype='int64'),\n",
              " 5: Int64Index([61, 77, 78, 92, 109, 140, 151, 312, 321], dtype='int64'),\n",
              " 6: Int64Index([  5, 121, 140, 150, 151, 185, 187, 195, 222, 239, 248, 273, 289,\n",
              "             324, 359, 414, 450, 492, 494, 503, 517, 518, 525],\n",
              "            dtype='int64'),\n",
              " 7: Int64Index([56, 76, 165, 234, 321, 333, 430, 509], dtype='int64')}"
            ]
          },
          "metadata": {},
          "execution_count": 110
        }
      ]
    },
    {
      "cell_type": "code",
      "source": [
        "#각각의 숫자들 리스트 안에 넣기\n",
        "outlier_list=[]\n",
        "\n",
        "for i in range(len(outlier_index)):\n",
        "  if list(outlier_index[i].values)==[]:\n",
        "    continue\n",
        "  outlier_list.append(list(outlier_index[i].values))\n",
        "print(outlier_list)"
      ],
      "metadata": {
        "colab": {
          "base_uri": "https://localhost:8080/"
        },
        "id": "8SIpzoiZw4Sc",
        "outputId": "a833075a-9da1-4d28-d960-07216825b514"
      },
      "execution_count": 111,
      "outputs": [
        {
          "output_type": "stream",
          "name": "stdout",
          "text": [
            "[[106, 196, 394, 457], [20, 75, 98, 139, 422], [4, 8, 16, 39, 52, 61, 67, 74, 76, 77, 91, 92, 109, 116, 124, 142, 180, 206, 215, 306, 351, 352, 383, 388, 459, 491, 533, 535], [1, 35, 49, 71, 97, 102, 121, 145, 184, 238, 241, 252, 273, 277, 293, 307, 332, 346, 375, 386, 405, 410, 483], [61, 77, 78, 92, 109, 140, 151, 312, 321], [5, 121, 140, 150, 151, 185, 187, 195, 222, 239, 248, 273, 289, 324, 359, 414, 450, 492, 494, 503, 517, 518, 525], [56, 76, 165, 234, 321, 333, 430, 509]]\n"
          ]
        }
      ]
    },
    {
      "cell_type": "code",
      "source": [
        "outlier_list=sum(outlier_list,[])\n",
        "print(outlier_list)\n",
        "print('개수 :',len(outlier_list))\n",
        "\n",
        "#중복숫자제거\n",
        "outlier_list=set(outlier_list)\n",
        "print(outlier_list)\n",
        "print('개수:',len(outlier_list))\n",
        "\n",
        "#다시 리스트로 변환\n",
        "outlier_list=list(outlier_list)\n",
        "print(type(outlier_list))\n",
        "print(outlier_list)\n",
        "\n",
        "# 리스트 숫자 정렬\n",
        "outlier_list.sort()\n",
        "print(outlier_list)\n",
        "\n",
        "#ㅈㅔ거\n",
        "for i in outlier_list:\n",
        "  train.drop(i,axis=0,inplace=True)\n",
        "\n",
        "train"
      ],
      "metadata": {
        "colab": {
          "base_uri": "https://localhost:8080/",
          "height": 614
        },
        "id": "Wm7QvQUqxIFc",
        "outputId": "8a15c7cc-92db-4391-bd39-b5961ce1a6e6"
      },
      "execution_count": 112,
      "outputs": [
        {
          "output_type": "stream",
          "name": "stdout",
          "text": [
            "[106, 196, 394, 457, 20, 75, 98, 139, 422, 4, 8, 16, 39, 52, 61, 67, 74, 76, 77, 91, 92, 109, 116, 124, 142, 180, 206, 215, 306, 351, 352, 383, 388, 459, 491, 533, 535, 1, 35, 49, 71, 97, 102, 121, 145, 184, 238, 241, 252, 273, 277, 293, 307, 332, 346, 375, 386, 405, 410, 483, 61, 77, 78, 92, 109, 140, 151, 312, 321, 5, 121, 140, 150, 151, 185, 187, 195, 222, 239, 248, 273, 289, 324, 359, 414, 450, 492, 494, 503, 517, 518, 525, 56, 76, 165, 234, 321, 333, 430, 509]\n",
            "개수 : 100\n",
            "{1, 4, 5, 517, 518, 8, 525, 16, 20, 533, 535, 35, 39, 49, 52, 56, 61, 67, 71, 74, 75, 76, 77, 78, 91, 92, 97, 98, 102, 106, 109, 116, 121, 124, 139, 140, 142, 145, 150, 151, 165, 180, 184, 185, 187, 195, 196, 206, 215, 222, 234, 238, 239, 241, 248, 252, 273, 277, 289, 293, 306, 307, 312, 321, 324, 332, 333, 346, 351, 352, 359, 375, 383, 386, 388, 394, 405, 410, 414, 422, 430, 450, 457, 459, 483, 491, 492, 494, 503, 509}\n",
            "개수: 90\n",
            "<class 'list'>\n",
            "[1, 4, 5, 517, 518, 8, 525, 16, 20, 533, 535, 35, 39, 49, 52, 56, 61, 67, 71, 74, 75, 76, 77, 78, 91, 92, 97, 98, 102, 106, 109, 116, 121, 124, 139, 140, 142, 145, 150, 151, 165, 180, 184, 185, 187, 195, 196, 206, 215, 222, 234, 238, 239, 241, 248, 252, 273, 277, 289, 293, 306, 307, 312, 321, 324, 332, 333, 346, 351, 352, 359, 375, 383, 386, 388, 394, 405, 410, 414, 422, 430, 450, 457, 459, 483, 491, 492, 494, 503, 509]\n",
            "[1, 4, 5, 8, 16, 20, 35, 39, 49, 52, 56, 61, 67, 71, 74, 75, 76, 77, 78, 91, 92, 97, 98, 102, 106, 109, 116, 121, 124, 139, 140, 142, 145, 150, 151, 165, 180, 184, 185, 187, 195, 196, 206, 215, 222, 234, 238, 239, 241, 248, 252, 273, 277, 289, 293, 306, 307, 312, 321, 324, 332, 333, 346, 351, 352, 359, 375, 383, 386, 388, 394, 405, 410, 414, 422, 430, 450, 457, 459, 483, 491, 492, 494, 503, 509, 517, 518, 525, 533, 535]\n"
          ]
        },
        {
          "output_type": "execute_result",
          "data": {
            "text/html": [
              "\n",
              "  <div id=\"df-32f88216-e2f4-4e90-aa7c-0804f0c55ad2\">\n",
              "    <div class=\"colab-df-container\">\n",
              "      <div>\n",
              "<style scoped>\n",
              "    .dataframe tbody tr th:only-of-type {\n",
              "        vertical-align: middle;\n",
              "    }\n",
              "\n",
              "    .dataframe tbody tr th {\n",
              "        vertical-align: top;\n",
              "    }\n",
              "\n",
              "    .dataframe thead th {\n",
              "        text-align: right;\n",
              "    }\n",
              "</style>\n",
              "<table border=\"1\" class=\"dataframe\">\n",
              "  <thead>\n",
              "    <tr style=\"text-align: right;\">\n",
              "      <th></th>\n",
              "      <th>Pregnancies</th>\n",
              "      <th>Glucose</th>\n",
              "      <th>BloodPressure</th>\n",
              "      <th>SkinThickness</th>\n",
              "      <th>Insulin</th>\n",
              "      <th>BMI</th>\n",
              "      <th>DiabetesPedigreeFunction</th>\n",
              "      <th>Age</th>\n",
              "      <th>Diabetes</th>\n",
              "    </tr>\n",
              "  </thead>\n",
              "  <tbody>\n",
              "    <tr>\n",
              "      <th>0</th>\n",
              "      <td>1</td>\n",
              "      <td>95</td>\n",
              "      <td>60</td>\n",
              "      <td>18</td>\n",
              "      <td>58</td>\n",
              "      <td>23.9</td>\n",
              "      <td>0.260</td>\n",
              "      <td>22</td>\n",
              "      <td>0</td>\n",
              "    </tr>\n",
              "    <tr>\n",
              "      <th>2</th>\n",
              "      <td>0</td>\n",
              "      <td>135</td>\n",
              "      <td>68</td>\n",
              "      <td>42</td>\n",
              "      <td>250</td>\n",
              "      <td>42.3</td>\n",
              "      <td>0.365</td>\n",
              "      <td>24</td>\n",
              "      <td>1</td>\n",
              "    </tr>\n",
              "    <tr>\n",
              "      <th>3</th>\n",
              "      <td>4</td>\n",
              "      <td>131</td>\n",
              "      <td>68</td>\n",
              "      <td>21</td>\n",
              "      <td>166</td>\n",
              "      <td>33.1</td>\n",
              "      <td>0.160</td>\n",
              "      <td>28</td>\n",
              "      <td>0</td>\n",
              "    </tr>\n",
              "    <tr>\n",
              "      <th>6</th>\n",
              "      <td>3</td>\n",
              "      <td>128</td>\n",
              "      <td>78</td>\n",
              "      <td>0</td>\n",
              "      <td>0</td>\n",
              "      <td>21.1</td>\n",
              "      <td>0.268</td>\n",
              "      <td>55</td>\n",
              "      <td>0</td>\n",
              "    </tr>\n",
              "    <tr>\n",
              "      <th>7</th>\n",
              "      <td>1</td>\n",
              "      <td>122</td>\n",
              "      <td>64</td>\n",
              "      <td>32</td>\n",
              "      <td>156</td>\n",
              "      <td>35.1</td>\n",
              "      <td>0.692</td>\n",
              "      <td>30</td>\n",
              "      <td>1</td>\n",
              "    </tr>\n",
              "    <tr>\n",
              "      <th>...</th>\n",
              "      <td>...</td>\n",
              "      <td>...</td>\n",
              "      <td>...</td>\n",
              "      <td>...</td>\n",
              "      <td>...</td>\n",
              "      <td>...</td>\n",
              "      <td>...</td>\n",
              "      <td>...</td>\n",
              "      <td>...</td>\n",
              "    </tr>\n",
              "    <tr>\n",
              "      <th>530</th>\n",
              "      <td>3</td>\n",
              "      <td>126</td>\n",
              "      <td>88</td>\n",
              "      <td>41</td>\n",
              "      <td>235</td>\n",
              "      <td>39.3</td>\n",
              "      <td>0.704</td>\n",
              "      <td>27</td>\n",
              "      <td>0</td>\n",
              "    </tr>\n",
              "    <tr>\n",
              "      <th>531</th>\n",
              "      <td>2</td>\n",
              "      <td>122</td>\n",
              "      <td>76</td>\n",
              "      <td>27</td>\n",
              "      <td>200</td>\n",
              "      <td>35.9</td>\n",
              "      <td>0.483</td>\n",
              "      <td>26</td>\n",
              "      <td>0</td>\n",
              "    </tr>\n",
              "    <tr>\n",
              "      <th>532</th>\n",
              "      <td>5</td>\n",
              "      <td>139</td>\n",
              "      <td>64</td>\n",
              "      <td>35</td>\n",
              "      <td>140</td>\n",
              "      <td>28.6</td>\n",
              "      <td>0.411</td>\n",
              "      <td>26</td>\n",
              "      <td>0</td>\n",
              "    </tr>\n",
              "    <tr>\n",
              "      <th>534</th>\n",
              "      <td>10</td>\n",
              "      <td>101</td>\n",
              "      <td>86</td>\n",
              "      <td>37</td>\n",
              "      <td>0</td>\n",
              "      <td>45.6</td>\n",
              "      <td>1.136</td>\n",
              "      <td>38</td>\n",
              "      <td>1</td>\n",
              "    </tr>\n",
              "    <tr>\n",
              "      <th>536</th>\n",
              "      <td>0</td>\n",
              "      <td>125</td>\n",
              "      <td>96</td>\n",
              "      <td>0</td>\n",
              "      <td>0</td>\n",
              "      <td>22.5</td>\n",
              "      <td>0.262</td>\n",
              "      <td>21</td>\n",
              "      <td>0</td>\n",
              "    </tr>\n",
              "  </tbody>\n",
              "</table>\n",
              "<p>447 rows × 9 columns</p>\n",
              "</div>\n",
              "      <button class=\"colab-df-convert\" onclick=\"convertToInteractive('df-32f88216-e2f4-4e90-aa7c-0804f0c55ad2')\"\n",
              "              title=\"Convert this dataframe to an interactive table.\"\n",
              "              style=\"display:none;\">\n",
              "        \n",
              "  <svg xmlns=\"http://www.w3.org/2000/svg\" height=\"24px\"viewBox=\"0 0 24 24\"\n",
              "       width=\"24px\">\n",
              "    <path d=\"M0 0h24v24H0V0z\" fill=\"none\"/>\n",
              "    <path d=\"M18.56 5.44l.94 2.06.94-2.06 2.06-.94-2.06-.94-.94-2.06-.94 2.06-2.06.94zm-11 1L8.5 8.5l.94-2.06 2.06-.94-2.06-.94L8.5 2.5l-.94 2.06-2.06.94zm10 10l.94 2.06.94-2.06 2.06-.94-2.06-.94-.94-2.06-.94 2.06-2.06.94z\"/><path d=\"M17.41 7.96l-1.37-1.37c-.4-.4-.92-.59-1.43-.59-.52 0-1.04.2-1.43.59L10.3 9.45l-7.72 7.72c-.78.78-.78 2.05 0 2.83L4 21.41c.39.39.9.59 1.41.59.51 0 1.02-.2 1.41-.59l7.78-7.78 2.81-2.81c.8-.78.8-2.07 0-2.86zM5.41 20L4 18.59l7.72-7.72 1.47 1.35L5.41 20z\"/>\n",
              "  </svg>\n",
              "      </button>\n",
              "      \n",
              "  <style>\n",
              "    .colab-df-container {\n",
              "      display:flex;\n",
              "      flex-wrap:wrap;\n",
              "      gap: 12px;\n",
              "    }\n",
              "\n",
              "    .colab-df-convert {\n",
              "      background-color: #E8F0FE;\n",
              "      border: none;\n",
              "      border-radius: 50%;\n",
              "      cursor: pointer;\n",
              "      display: none;\n",
              "      fill: #1967D2;\n",
              "      height: 32px;\n",
              "      padding: 0 0 0 0;\n",
              "      width: 32px;\n",
              "    }\n",
              "\n",
              "    .colab-df-convert:hover {\n",
              "      background-color: #E2EBFA;\n",
              "      box-shadow: 0px 1px 2px rgba(60, 64, 67, 0.3), 0px 1px 3px 1px rgba(60, 64, 67, 0.15);\n",
              "      fill: #174EA6;\n",
              "    }\n",
              "\n",
              "    [theme=dark] .colab-df-convert {\n",
              "      background-color: #3B4455;\n",
              "      fill: #D2E3FC;\n",
              "    }\n",
              "\n",
              "    [theme=dark] .colab-df-convert:hover {\n",
              "      background-color: #434B5C;\n",
              "      box-shadow: 0px 1px 3px 1px rgba(0, 0, 0, 0.15);\n",
              "      filter: drop-shadow(0px 1px 2px rgba(0, 0, 0, 0.3));\n",
              "      fill: #FFFFFF;\n",
              "    }\n",
              "  </style>\n",
              "\n",
              "      <script>\n",
              "        const buttonEl =\n",
              "          document.querySelector('#df-32f88216-e2f4-4e90-aa7c-0804f0c55ad2 button.colab-df-convert');\n",
              "        buttonEl.style.display =\n",
              "          google.colab.kernel.accessAllowed ? 'block' : 'none';\n",
              "\n",
              "        async function convertToInteractive(key) {\n",
              "          const element = document.querySelector('#df-32f88216-e2f4-4e90-aa7c-0804f0c55ad2');\n",
              "          const dataTable =\n",
              "            await google.colab.kernel.invokeFunction('convertToInteractive',\n",
              "                                                     [key], {});\n",
              "          if (!dataTable) return;\n",
              "\n",
              "          const docLinkHtml = 'Like what you see? Visit the ' +\n",
              "            '<a target=\"_blank\" href=https://colab.research.google.com/notebooks/data_table.ipynb>data table notebook</a>'\n",
              "            + ' to learn more about interactive tables.';\n",
              "          element.innerHTML = '';\n",
              "          dataTable['output_type'] = 'display_data';\n",
              "          await google.colab.output.renderOutput(dataTable, element);\n",
              "          const docLink = document.createElement('div');\n",
              "          docLink.innerHTML = docLinkHtml;\n",
              "          element.appendChild(docLink);\n",
              "        }\n",
              "      </script>\n",
              "    </div>\n",
              "  </div>\n",
              "  "
            ],
            "text/plain": [
              "     Pregnancies  Glucose  ...  Age  Diabetes\n",
              "0              1       95  ...   22         0\n",
              "2              0      135  ...   24         1\n",
              "3              4      131  ...   28         0\n",
              "6              3      128  ...   55         0\n",
              "7              1      122  ...   30         1\n",
              "..           ...      ...  ...  ...       ...\n",
              "530            3      126  ...   27         0\n",
              "531            2      122  ...   26         0\n",
              "532            5      139  ...   26         0\n",
              "534           10      101  ...   38         1\n",
              "536            0      125  ...   21         0\n",
              "\n",
              "[447 rows x 9 columns]"
            ]
          },
          "metadata": {},
          "execution_count": 112
        }
      ]
    },
    {
      "cell_type": "code",
      "source": [
        "train.info()"
      ],
      "metadata": {
        "colab": {
          "base_uri": "https://localhost:8080/"
        },
        "id": "LIzdzN1OxNsx",
        "outputId": "17ec2759-5e8f-41e6-8fe0-3d9bcd86ffda"
      },
      "execution_count": 113,
      "outputs": [
        {
          "output_type": "stream",
          "name": "stdout",
          "text": [
            "<class 'pandas.core.frame.DataFrame'>\n",
            "Int64Index: 447 entries, 0 to 536\n",
            "Data columns (total 9 columns):\n",
            " #   Column                    Non-Null Count  Dtype  \n",
            "---  ------                    --------------  -----  \n",
            " 0   Pregnancies               447 non-null    int64  \n",
            " 1   Glucose                   447 non-null    int64  \n",
            " 2   BloodPressure             447 non-null    int64  \n",
            " 3   SkinThickness             447 non-null    int64  \n",
            " 4   Insulin                   447 non-null    int64  \n",
            " 5   BMI                       447 non-null    float64\n",
            " 6   DiabetesPedigreeFunction  447 non-null    float64\n",
            " 7   Age                       447 non-null    int64  \n",
            " 8   Diabetes                  447 non-null    int64  \n",
            "dtypes: float64(2), int64(7)\n",
            "memory usage: 34.9 KB\n"
          ]
        }
      ]
    },
    {
      "cell_type": "code",
      "source": [
        "x_train=train.drop('Diabetes',axis=1)\n",
        "y_train=train['Diabetes']\n",
        "x_test=test"
      ],
      "metadata": {
        "id": "83Jh9Sthx6la"
      },
      "execution_count": 114,
      "outputs": []
    },
    {
      "cell_type": "code",
      "source": [
        "print(x_train.shape)\n",
        "print(x_test.shape)\n",
        "print(y_train.shape)"
      ],
      "metadata": {
        "colab": {
          "base_uri": "https://localhost:8080/"
        },
        "id": "bWF7e2UkyP2g",
        "outputId": "a9073893-3895-4fcb-cf08-49ed2b545094"
      },
      "execution_count": 115,
      "outputs": [
        {
          "output_type": "stream",
          "name": "stdout",
          "text": [
            "(447, 8)\n",
            "(231, 8)\n",
            "(447,)\n"
          ]
        }
      ]
    },
    {
      "cell_type": "code",
      "source": [
        "col=x_train.columns"
      ],
      "metadata": {
        "id": "9lmbYAfCyTrY"
      },
      "execution_count": 116,
      "outputs": []
    },
    {
      "cell_type": "code",
      "source": [
        "from sklearn.preprocessing import StandardScaler\n",
        "\n",
        "sc=StandardScaler()\n",
        "\n",
        "for i in col:\n",
        "  x_train[i]=sc.fit_transform(x_train[i].values.reshape(-1,1))\n",
        "  x_test[i]=sc.transform(x_test[i].values.reshape(-1,1))\n",
        "\n",
        "display(x_train.head())\n",
        "print()\n",
        "display(x_test.head())"
      ],
      "metadata": {
        "colab": {
          "base_uri": "https://localhost:8080/",
          "height": 478
        },
        "id": "hjbiadJbq4Kj",
        "outputId": "48f78fe7-8a55-4376-aab1-a66444b2acb0"
      },
      "execution_count": 117,
      "outputs": [
        {
          "output_type": "display_data",
          "data": {
            "text/html": [
              "\n",
              "  <div id=\"df-f603db85-3df5-4345-8c1b-c499dc83805a\">\n",
              "    <div class=\"colab-df-container\">\n",
              "      <div>\n",
              "<style scoped>\n",
              "    .dataframe tbody tr th:only-of-type {\n",
              "        vertical-align: middle;\n",
              "    }\n",
              "\n",
              "    .dataframe tbody tr th {\n",
              "        vertical-align: top;\n",
              "    }\n",
              "\n",
              "    .dataframe thead th {\n",
              "        text-align: right;\n",
              "    }\n",
              "</style>\n",
              "<table border=\"1\" class=\"dataframe\">\n",
              "  <thead>\n",
              "    <tr style=\"text-align: right;\">\n",
              "      <th></th>\n",
              "      <th>Pregnancies</th>\n",
              "      <th>Glucose</th>\n",
              "      <th>BloodPressure</th>\n",
              "      <th>SkinThickness</th>\n",
              "      <th>Insulin</th>\n",
              "      <th>BMI</th>\n",
              "      <th>DiabetesPedigreeFunction</th>\n",
              "      <th>Age</th>\n",
              "    </tr>\n",
              "  </thead>\n",
              "  <tbody>\n",
              "    <tr>\n",
              "      <th>0</th>\n",
              "      <td>-0.853715</td>\n",
              "      <td>-0.853083</td>\n",
              "      <td>-1.099906</td>\n",
              "      <td>-0.177400</td>\n",
              "      <td>-0.105754</td>\n",
              "      <td>-1.229106</td>\n",
              "      <td>-0.670147</td>\n",
              "      <td>-0.959494</td>\n",
              "    </tr>\n",
              "    <tr>\n",
              "      <th>2</th>\n",
              "      <td>-1.178767</td>\n",
              "      <td>0.556112</td>\n",
              "      <td>-0.377145</td>\n",
              "      <td>1.399358</td>\n",
              "      <td>2.305580</td>\n",
              "      <td>1.558318</td>\n",
              "      <td>-0.235859</td>\n",
              "      <td>-0.775261</td>\n",
              "    </tr>\n",
              "    <tr>\n",
              "      <th>3</th>\n",
              "      <td>0.121440</td>\n",
              "      <td>0.415192</td>\n",
              "      <td>-0.377145</td>\n",
              "      <td>0.019695</td>\n",
              "      <td>1.250621</td>\n",
              "      <td>0.164606</td>\n",
              "      <td>-1.083756</td>\n",
              "      <td>-0.406796</td>\n",
              "    </tr>\n",
              "    <tr>\n",
              "      <th>6</th>\n",
              "      <td>-0.203612</td>\n",
              "      <td>0.309503</td>\n",
              "      <td>0.526306</td>\n",
              "      <td>-1.359969</td>\n",
              "      <td>-0.834178</td>\n",
              "      <td>-1.653279</td>\n",
              "      <td>-0.637059</td>\n",
              "      <td>2.080345</td>\n",
              "    </tr>\n",
              "    <tr>\n",
              "      <th>7</th>\n",
              "      <td>-0.853715</td>\n",
              "      <td>0.098124</td>\n",
              "      <td>-0.738526</td>\n",
              "      <td>0.742376</td>\n",
              "      <td>1.125031</td>\n",
              "      <td>0.467587</td>\n",
              "      <td>1.116641</td>\n",
              "      <td>-0.222563</td>\n",
              "    </tr>\n",
              "  </tbody>\n",
              "</table>\n",
              "</div>\n",
              "      <button class=\"colab-df-convert\" onclick=\"convertToInteractive('df-f603db85-3df5-4345-8c1b-c499dc83805a')\"\n",
              "              title=\"Convert this dataframe to an interactive table.\"\n",
              "              style=\"display:none;\">\n",
              "        \n",
              "  <svg xmlns=\"http://www.w3.org/2000/svg\" height=\"24px\"viewBox=\"0 0 24 24\"\n",
              "       width=\"24px\">\n",
              "    <path d=\"M0 0h24v24H0V0z\" fill=\"none\"/>\n",
              "    <path d=\"M18.56 5.44l.94 2.06.94-2.06 2.06-.94-2.06-.94-.94-2.06-.94 2.06-2.06.94zm-11 1L8.5 8.5l.94-2.06 2.06-.94-2.06-.94L8.5 2.5l-.94 2.06-2.06.94zm10 10l.94 2.06.94-2.06 2.06-.94-2.06-.94-.94-2.06-.94 2.06-2.06.94z\"/><path d=\"M17.41 7.96l-1.37-1.37c-.4-.4-.92-.59-1.43-.59-.52 0-1.04.2-1.43.59L10.3 9.45l-7.72 7.72c-.78.78-.78 2.05 0 2.83L4 21.41c.39.39.9.59 1.41.59.51 0 1.02-.2 1.41-.59l7.78-7.78 2.81-2.81c.8-.78.8-2.07 0-2.86zM5.41 20L4 18.59l7.72-7.72 1.47 1.35L5.41 20z\"/>\n",
              "  </svg>\n",
              "      </button>\n",
              "      \n",
              "  <style>\n",
              "    .colab-df-container {\n",
              "      display:flex;\n",
              "      flex-wrap:wrap;\n",
              "      gap: 12px;\n",
              "    }\n",
              "\n",
              "    .colab-df-convert {\n",
              "      background-color: #E8F0FE;\n",
              "      border: none;\n",
              "      border-radius: 50%;\n",
              "      cursor: pointer;\n",
              "      display: none;\n",
              "      fill: #1967D2;\n",
              "      height: 32px;\n",
              "      padding: 0 0 0 0;\n",
              "      width: 32px;\n",
              "    }\n",
              "\n",
              "    .colab-df-convert:hover {\n",
              "      background-color: #E2EBFA;\n",
              "      box-shadow: 0px 1px 2px rgba(60, 64, 67, 0.3), 0px 1px 3px 1px rgba(60, 64, 67, 0.15);\n",
              "      fill: #174EA6;\n",
              "    }\n",
              "\n",
              "    [theme=dark] .colab-df-convert {\n",
              "      background-color: #3B4455;\n",
              "      fill: #D2E3FC;\n",
              "    }\n",
              "\n",
              "    [theme=dark] .colab-df-convert:hover {\n",
              "      background-color: #434B5C;\n",
              "      box-shadow: 0px 1px 3px 1px rgba(0, 0, 0, 0.15);\n",
              "      filter: drop-shadow(0px 1px 2px rgba(0, 0, 0, 0.3));\n",
              "      fill: #FFFFFF;\n",
              "    }\n",
              "  </style>\n",
              "\n",
              "      <script>\n",
              "        const buttonEl =\n",
              "          document.querySelector('#df-f603db85-3df5-4345-8c1b-c499dc83805a button.colab-df-convert');\n",
              "        buttonEl.style.display =\n",
              "          google.colab.kernel.accessAllowed ? 'block' : 'none';\n",
              "\n",
              "        async function convertToInteractive(key) {\n",
              "          const element = document.querySelector('#df-f603db85-3df5-4345-8c1b-c499dc83805a');\n",
              "          const dataTable =\n",
              "            await google.colab.kernel.invokeFunction('convertToInteractive',\n",
              "                                                     [key], {});\n",
              "          if (!dataTable) return;\n",
              "\n",
              "          const docLinkHtml = 'Like what you see? Visit the ' +\n",
              "            '<a target=\"_blank\" href=https://colab.research.google.com/notebooks/data_table.ipynb>data table notebook</a>'\n",
              "            + ' to learn more about interactive tables.';\n",
              "          element.innerHTML = '';\n",
              "          dataTable['output_type'] = 'display_data';\n",
              "          await google.colab.output.renderOutput(dataTable, element);\n",
              "          const docLink = document.createElement('div');\n",
              "          docLink.innerHTML = docLinkHtml;\n",
              "          element.appendChild(docLink);\n",
              "        }\n",
              "      </script>\n",
              "    </div>\n",
              "  </div>\n",
              "  "
            ],
            "text/plain": [
              "   Pregnancies   Glucose  ...  DiabetesPedigreeFunction       Age\n",
              "0    -0.853715 -0.853083  ...                 -0.670147 -0.959494\n",
              "2    -1.178767  0.556112  ...                 -0.235859 -0.775261\n",
              "3     0.121440  0.415192  ...                 -1.083756 -0.406796\n",
              "6    -0.203612  0.309503  ...                 -0.637059  2.080345\n",
              "7    -0.853715  0.098124  ...                  1.116641 -0.222563\n",
              "\n",
              "[5 rows x 8 columns]"
            ]
          },
          "metadata": {}
        },
        {
          "output_type": "stream",
          "name": "stdout",
          "text": [
            "\n"
          ]
        },
        {
          "output_type": "display_data",
          "data": {
            "text/html": [
              "\n",
              "  <div id=\"df-d0fbafb6-5eab-4678-8969-ab148d738744\">\n",
              "    <div class=\"colab-df-container\">\n",
              "      <div>\n",
              "<style scoped>\n",
              "    .dataframe tbody tr th:only-of-type {\n",
              "        vertical-align: middle;\n",
              "    }\n",
              "\n",
              "    .dataframe tbody tr th {\n",
              "        vertical-align: top;\n",
              "    }\n",
              "\n",
              "    .dataframe thead th {\n",
              "        text-align: right;\n",
              "    }\n",
              "</style>\n",
              "<table border=\"1\" class=\"dataframe\">\n",
              "  <thead>\n",
              "    <tr style=\"text-align: right;\">\n",
              "      <th></th>\n",
              "      <th>Pregnancies</th>\n",
              "      <th>Glucose</th>\n",
              "      <th>BloodPressure</th>\n",
              "      <th>SkinThickness</th>\n",
              "      <th>Insulin</th>\n",
              "      <th>BMI</th>\n",
              "      <th>DiabetesPedigreeFunction</th>\n",
              "      <th>Age</th>\n",
              "    </tr>\n",
              "  </thead>\n",
              "  <tbody>\n",
              "    <tr>\n",
              "      <th>0</th>\n",
              "      <td>0.771543</td>\n",
              "      <td>-0.747394</td>\n",
              "      <td>-1.280596</td>\n",
              "      <td>0.808074</td>\n",
              "      <td>1.552038</td>\n",
              "      <td>0.300947</td>\n",
              "      <td>0.032987</td>\n",
              "      <td>0.974949</td>\n",
              "    </tr>\n",
              "    <tr>\n",
              "      <th>1</th>\n",
              "      <td>-0.528663</td>\n",
              "      <td>-0.254175</td>\n",
              "      <td>0.255270</td>\n",
              "      <td>0.742376</td>\n",
              "      <td>-0.834178</td>\n",
              "      <td>0.558481</td>\n",
              "      <td>-1.133389</td>\n",
              "      <td>-1.051610</td>\n",
              "    </tr>\n",
              "    <tr>\n",
              "      <th>2</th>\n",
              "      <td>-0.528663</td>\n",
              "      <td>-0.395095</td>\n",
              "      <td>-0.738526</td>\n",
              "      <td>-1.359969</td>\n",
              "      <td>-0.834178</td>\n",
              "      <td>-0.183822</td>\n",
              "      <td>-1.092028</td>\n",
              "      <td>-1.051610</td>\n",
              "    </tr>\n",
              "    <tr>\n",
              "      <th>3</th>\n",
              "      <td>1.421646</td>\n",
              "      <td>-0.430325</td>\n",
              "      <td>0.706996</td>\n",
              "      <td>-1.359969</td>\n",
              "      <td>-0.834178</td>\n",
              "      <td>-1.123062</td>\n",
              "      <td>1.794959</td>\n",
              "      <td>0.145902</td>\n",
              "    </tr>\n",
              "    <tr>\n",
              "      <th>4</th>\n",
              "      <td>1.096595</td>\n",
              "      <td>0.591342</td>\n",
              "      <td>1.610447</td>\n",
              "      <td>-1.359969</td>\n",
              "      <td>-0.834178</td>\n",
              "      <td>-0.320163</td>\n",
              "      <td>-0.876952</td>\n",
              "      <td>1.619764</td>\n",
              "    </tr>\n",
              "  </tbody>\n",
              "</table>\n",
              "</div>\n",
              "      <button class=\"colab-df-convert\" onclick=\"convertToInteractive('df-d0fbafb6-5eab-4678-8969-ab148d738744')\"\n",
              "              title=\"Convert this dataframe to an interactive table.\"\n",
              "              style=\"display:none;\">\n",
              "        \n",
              "  <svg xmlns=\"http://www.w3.org/2000/svg\" height=\"24px\"viewBox=\"0 0 24 24\"\n",
              "       width=\"24px\">\n",
              "    <path d=\"M0 0h24v24H0V0z\" fill=\"none\"/>\n",
              "    <path d=\"M18.56 5.44l.94 2.06.94-2.06 2.06-.94-2.06-.94-.94-2.06-.94 2.06-2.06.94zm-11 1L8.5 8.5l.94-2.06 2.06-.94-2.06-.94L8.5 2.5l-.94 2.06-2.06.94zm10 10l.94 2.06.94-2.06 2.06-.94-2.06-.94-.94-2.06-.94 2.06-2.06.94z\"/><path d=\"M17.41 7.96l-1.37-1.37c-.4-.4-.92-.59-1.43-.59-.52 0-1.04.2-1.43.59L10.3 9.45l-7.72 7.72c-.78.78-.78 2.05 0 2.83L4 21.41c.39.39.9.59 1.41.59.51 0 1.02-.2 1.41-.59l7.78-7.78 2.81-2.81c.8-.78.8-2.07 0-2.86zM5.41 20L4 18.59l7.72-7.72 1.47 1.35L5.41 20z\"/>\n",
              "  </svg>\n",
              "      </button>\n",
              "      \n",
              "  <style>\n",
              "    .colab-df-container {\n",
              "      display:flex;\n",
              "      flex-wrap:wrap;\n",
              "      gap: 12px;\n",
              "    }\n",
              "\n",
              "    .colab-df-convert {\n",
              "      background-color: #E8F0FE;\n",
              "      border: none;\n",
              "      border-radius: 50%;\n",
              "      cursor: pointer;\n",
              "      display: none;\n",
              "      fill: #1967D2;\n",
              "      height: 32px;\n",
              "      padding: 0 0 0 0;\n",
              "      width: 32px;\n",
              "    }\n",
              "\n",
              "    .colab-df-convert:hover {\n",
              "      background-color: #E2EBFA;\n",
              "      box-shadow: 0px 1px 2px rgba(60, 64, 67, 0.3), 0px 1px 3px 1px rgba(60, 64, 67, 0.15);\n",
              "      fill: #174EA6;\n",
              "    }\n",
              "\n",
              "    [theme=dark] .colab-df-convert {\n",
              "      background-color: #3B4455;\n",
              "      fill: #D2E3FC;\n",
              "    }\n",
              "\n",
              "    [theme=dark] .colab-df-convert:hover {\n",
              "      background-color: #434B5C;\n",
              "      box-shadow: 0px 1px 3px 1px rgba(0, 0, 0, 0.15);\n",
              "      filter: drop-shadow(0px 1px 2px rgba(0, 0, 0, 0.3));\n",
              "      fill: #FFFFFF;\n",
              "    }\n",
              "  </style>\n",
              "\n",
              "      <script>\n",
              "        const buttonEl =\n",
              "          document.querySelector('#df-d0fbafb6-5eab-4678-8969-ab148d738744 button.colab-df-convert');\n",
              "        buttonEl.style.display =\n",
              "          google.colab.kernel.accessAllowed ? 'block' : 'none';\n",
              "\n",
              "        async function convertToInteractive(key) {\n",
              "          const element = document.querySelector('#df-d0fbafb6-5eab-4678-8969-ab148d738744');\n",
              "          const dataTable =\n",
              "            await google.colab.kernel.invokeFunction('convertToInteractive',\n",
              "                                                     [key], {});\n",
              "          if (!dataTable) return;\n",
              "\n",
              "          const docLinkHtml = 'Like what you see? Visit the ' +\n",
              "            '<a target=\"_blank\" href=https://colab.research.google.com/notebooks/data_table.ipynb>data table notebook</a>'\n",
              "            + ' to learn more about interactive tables.';\n",
              "          element.innerHTML = '';\n",
              "          dataTable['output_type'] = 'display_data';\n",
              "          await google.colab.output.renderOutput(dataTable, element);\n",
              "          const docLink = document.createElement('div');\n",
              "          docLink.innerHTML = docLinkHtml;\n",
              "          element.appendChild(docLink);\n",
              "        }\n",
              "      </script>\n",
              "    </div>\n",
              "  </div>\n",
              "  "
            ],
            "text/plain": [
              "   Pregnancies   Glucose  ...  DiabetesPedigreeFunction       Age\n",
              "0     0.771543 -0.747394  ...                  0.032987  0.974949\n",
              "1    -0.528663 -0.254175  ...                 -1.133389 -1.051610\n",
              "2    -0.528663 -0.395095  ...                 -1.092028 -1.051610\n",
              "3     1.421646 -0.430325  ...                  1.794959  0.145902\n",
              "4     1.096595  0.591342  ...                 -0.876952  1.619764\n",
              "\n",
              "[5 rows x 8 columns]"
            ]
          },
          "metadata": {}
        }
      ]
    },
    {
      "cell_type": "code",
      "source": [
        "print(x_train.shape)\n",
        "print(x_test.shape)\n",
        "print(y_train.shape)"
      ],
      "metadata": {
        "colab": {
          "base_uri": "https://localhost:8080/"
        },
        "id": "KPCvthkwtOJc",
        "outputId": "f240e8f0-7db0-4c90-a85e-f5cecd4dcbe4"
      },
      "execution_count": 118,
      "outputs": [
        {
          "output_type": "stream",
          "name": "stdout",
          "text": [
            "(447, 8)\n",
            "(231, 8)\n",
            "(447,)\n"
          ]
        }
      ]
    },
    {
      "cell_type": "code",
      "source": [
        "import torch\n",
        "import torch.optim as optim\n",
        "import torch.nn.functional as F"
      ],
      "metadata": {
        "id": "-sXLaLdXteuW"
      },
      "execution_count": 124,
      "outputs": []
    },
    {
      "cell_type": "code",
      "source": [
        "x_train = torch.FloatTensor(np.array(x_train))\n",
        "y_train = torch.FloatTensor(np.array(y_train))\n",
        "x_test = torch.FloatTensor(np.array(x_test))"
      ],
      "metadata": {
        "id": "q-Rcy7LRtSFS"
      },
      "execution_count": 125,
      "outputs": []
    },
    {
      "cell_type": "code",
      "source": [
        "learning_rate = 1e-3\n",
        "epochs = 100000"
      ],
      "metadata": {
        "id": "iDMZu_Ectbxl"
      },
      "execution_count": 132,
      "outputs": []
    },
    {
      "cell_type": "code",
      "source": [
        "feature = 8\n",
        "\n",
        "W = torch.zeros((feature, 1), requires_grad=True)\n",
        "b = torch.zeros(1, requires_grad=True)\n",
        "\n",
        "# 클래스가 2개인 경우 Binary Cross Entropy Loss \n",
        "loss = torch.nn.BCELoss() \n",
        "\n",
        "# Simoid 포함된 Loss\n",
        "loss = torch.nn.BCEWithLogitsLoss()\n",
        "\n",
        "optimizer = optim.SGD([W, b], lr = learning_rate)\n",
        "\n",
        "for epoch in range(epochs + 1):\n",
        "    \n",
        "    hypothesis = torch.sigmoid(x_train.matmul(W) + b)\n",
        "    # 표현법 (1)\n",
        "#     cost = -(y_train * torch.log(hypothesis) + (1-y_train) * torch.log(1 - hypothesis)).mean()\n",
        "    \n",
        "    # 표현법 (2)\n",
        "    cost = loss(x_train.matmul(W) + b, y_train.unsqueeze(1))\n",
        "    \n",
        "    \n",
        "    optimizer.zero_grad()\n",
        "    cost.backward()\n",
        "    optimizer.step()\n",
        "\n",
        "    # 100번마다 로그 출력\n",
        "    if epoch % 500 == 0:\n",
        "        print('Epoch {:4d}/{} Cost: {:.6f}'.format(\n",
        "            epoch, epochs, cost.item()))"
      ],
      "metadata": {
        "colab": {
          "base_uri": "https://localhost:8080/"
        },
        "id": "7-t9mZzm0ubw",
        "outputId": "2c9975b3-3153-439b-946c-a1aed36c61f1"
      },
      "execution_count": 133,
      "outputs": [
        {
          "output_type": "stream",
          "name": "stdout",
          "text": [
            "Epoch    0/100000 Cost: 0.693147\n",
            "Epoch  500/100000 Cost: 0.627420\n",
            "Epoch 1000/100000 Cost: 0.583300\n",
            "Epoch 1500/100000 Cost: 0.552460\n",
            "Epoch 2000/100000 Cost: 0.530012\n",
            "Epoch 2500/100000 Cost: 0.513081\n",
            "Epoch 3000/100000 Cost: 0.499927\n",
            "Epoch 3500/100000 Cost: 0.489455\n",
            "Epoch 4000/100000 Cost: 0.480950\n",
            "Epoch 4500/100000 Cost: 0.473929\n",
            "Epoch 5000/100000 Cost: 0.468054\n",
            "Epoch 5500/100000 Cost: 0.463081\n",
            "Epoch 6000/100000 Cost: 0.458831\n",
            "Epoch 6500/100000 Cost: 0.455170\n",
            "Epoch 7000/100000 Cost: 0.451993\n",
            "Epoch 7500/100000 Cost: 0.449218\n",
            "Epoch 8000/100000 Cost: 0.446782\n",
            "Epoch 8500/100000 Cost: 0.444633\n",
            "Epoch 9000/100000 Cost: 0.442728\n",
            "Epoch 9500/100000 Cost: 0.441033\n",
            "Epoch 10000/100000 Cost: 0.439520\n",
            "Epoch 10500/100000 Cost: 0.438164\n",
            "Epoch 11000/100000 Cost: 0.436946\n",
            "Epoch 11500/100000 Cost: 0.435848\n",
            "Epoch 12000/100000 Cost: 0.434856\n",
            "Epoch 12500/100000 Cost: 0.433957\n",
            "Epoch 13000/100000 Cost: 0.433142\n",
            "Epoch 13500/100000 Cost: 0.432400\n",
            "Epoch 14000/100000 Cost: 0.431724\n",
            "Epoch 14500/100000 Cost: 0.431106\n",
            "Epoch 15000/100000 Cost: 0.430542\n",
            "Epoch 15500/100000 Cost: 0.430024\n",
            "Epoch 16000/100000 Cost: 0.429549\n",
            "Epoch 16500/100000 Cost: 0.429113\n",
            "Epoch 17000/100000 Cost: 0.428711\n",
            "Epoch 17500/100000 Cost: 0.428341\n",
            "Epoch 18000/100000 Cost: 0.428000\n",
            "Epoch 18500/100000 Cost: 0.427685\n",
            "Epoch 19000/100000 Cost: 0.427393\n",
            "Epoch 19500/100000 Cost: 0.427123\n",
            "Epoch 20000/100000 Cost: 0.426873\n",
            "Epoch 20500/100000 Cost: 0.426641\n",
            "Epoch 21000/100000 Cost: 0.426426\n",
            "Epoch 21500/100000 Cost: 0.426226\n",
            "Epoch 22000/100000 Cost: 0.426040\n",
            "Epoch 22500/100000 Cost: 0.425867\n",
            "Epoch 23000/100000 Cost: 0.425705\n",
            "Epoch 23500/100000 Cost: 0.425555\n",
            "Epoch 24000/100000 Cost: 0.425415\n",
            "Epoch 24500/100000 Cost: 0.425284\n",
            "Epoch 25000/100000 Cost: 0.425162\n",
            "Epoch 25500/100000 Cost: 0.425048\n",
            "Epoch 26000/100000 Cost: 0.424941\n",
            "Epoch 26500/100000 Cost: 0.424842\n",
            "Epoch 27000/100000 Cost: 0.424748\n",
            "Epoch 27500/100000 Cost: 0.424661\n",
            "Epoch 28000/100000 Cost: 0.424579\n",
            "Epoch 28500/100000 Cost: 0.424502\n",
            "Epoch 29000/100000 Cost: 0.424430\n",
            "Epoch 29500/100000 Cost: 0.424363\n",
            "Epoch 30000/100000 Cost: 0.424299\n",
            "Epoch 30500/100000 Cost: 0.424240\n",
            "Epoch 31000/100000 Cost: 0.424184\n",
            "Epoch 31500/100000 Cost: 0.424131\n",
            "Epoch 32000/100000 Cost: 0.424082\n",
            "Epoch 32500/100000 Cost: 0.424036\n",
            "Epoch 33000/100000 Cost: 0.423992\n",
            "Epoch 33500/100000 Cost: 0.423951\n",
            "Epoch 34000/100000 Cost: 0.423913\n",
            "Epoch 34500/100000 Cost: 0.423876\n",
            "Epoch 35000/100000 Cost: 0.423842\n",
            "Epoch 35500/100000 Cost: 0.423810\n",
            "Epoch 36000/100000 Cost: 0.423780\n",
            "Epoch 36500/100000 Cost: 0.423751\n",
            "Epoch 37000/100000 Cost: 0.423724\n",
            "Epoch 37500/100000 Cost: 0.423699\n",
            "Epoch 38000/100000 Cost: 0.423675\n",
            "Epoch 38500/100000 Cost: 0.423652\n",
            "Epoch 39000/100000 Cost: 0.423631\n",
            "Epoch 39500/100000 Cost: 0.423611\n",
            "Epoch 40000/100000 Cost: 0.423592\n",
            "Epoch 40500/100000 Cost: 0.423574\n",
            "Epoch 41000/100000 Cost: 0.423557\n",
            "Epoch 41500/100000 Cost: 0.423541\n",
            "Epoch 42000/100000 Cost: 0.423526\n",
            "Epoch 42500/100000 Cost: 0.423512\n",
            "Epoch 43000/100000 Cost: 0.423498\n",
            "Epoch 43500/100000 Cost: 0.423485\n",
            "Epoch 44000/100000 Cost: 0.423473\n",
            "Epoch 44500/100000 Cost: 0.423462\n",
            "Epoch 45000/100000 Cost: 0.423451\n",
            "Epoch 45500/100000 Cost: 0.423441\n",
            "Epoch 46000/100000 Cost: 0.423431\n",
            "Epoch 46500/100000 Cost: 0.423423\n",
            "Epoch 47000/100000 Cost: 0.423414\n",
            "Epoch 47500/100000 Cost: 0.423406\n",
            "Epoch 48000/100000 Cost: 0.423398\n",
            "Epoch 48500/100000 Cost: 0.423391\n",
            "Epoch 49000/100000 Cost: 0.423384\n",
            "Epoch 49500/100000 Cost: 0.423377\n",
            "Epoch 50000/100000 Cost: 0.423371\n",
            "Epoch 50500/100000 Cost: 0.423365\n",
            "Epoch 51000/100000 Cost: 0.423360\n",
            "Epoch 51500/100000 Cost: 0.423355\n",
            "Epoch 52000/100000 Cost: 0.423350\n",
            "Epoch 52500/100000 Cost: 0.423345\n",
            "Epoch 53000/100000 Cost: 0.423341\n",
            "Epoch 53500/100000 Cost: 0.423336\n",
            "Epoch 54000/100000 Cost: 0.423332\n",
            "Epoch 54500/100000 Cost: 0.423329\n",
            "Epoch 55000/100000 Cost: 0.423325\n",
            "Epoch 55500/100000 Cost: 0.423322\n",
            "Epoch 56000/100000 Cost: 0.423318\n",
            "Epoch 56500/100000 Cost: 0.423315\n",
            "Epoch 57000/100000 Cost: 0.423312\n",
            "Epoch 57500/100000 Cost: 0.423310\n",
            "Epoch 58000/100000 Cost: 0.423307\n",
            "Epoch 58500/100000 Cost: 0.423305\n",
            "Epoch 59000/100000 Cost: 0.423302\n",
            "Epoch 59500/100000 Cost: 0.423300\n",
            "Epoch 60000/100000 Cost: 0.423298\n",
            "Epoch 60500/100000 Cost: 0.423296\n",
            "Epoch 61000/100000 Cost: 0.423294\n",
            "Epoch 61500/100000 Cost: 0.423292\n",
            "Epoch 62000/100000 Cost: 0.423291\n",
            "Epoch 62500/100000 Cost: 0.423289\n",
            "Epoch 63000/100000 Cost: 0.423288\n",
            "Epoch 63500/100000 Cost: 0.423286\n",
            "Epoch 64000/100000 Cost: 0.423285\n",
            "Epoch 64500/100000 Cost: 0.423283\n",
            "Epoch 65000/100000 Cost: 0.423282\n",
            "Epoch 65500/100000 Cost: 0.423281\n",
            "Epoch 66000/100000 Cost: 0.423280\n",
            "Epoch 66500/100000 Cost: 0.423279\n",
            "Epoch 67000/100000 Cost: 0.423278\n",
            "Epoch 67500/100000 Cost: 0.423277\n",
            "Epoch 68000/100000 Cost: 0.423276\n",
            "Epoch 68500/100000 Cost: 0.423275\n",
            "Epoch 69000/100000 Cost: 0.423274\n",
            "Epoch 69500/100000 Cost: 0.423274\n",
            "Epoch 70000/100000 Cost: 0.423273\n",
            "Epoch 70500/100000 Cost: 0.423272\n",
            "Epoch 71000/100000 Cost: 0.423272\n",
            "Epoch 71500/100000 Cost: 0.423271\n",
            "Epoch 72000/100000 Cost: 0.423270\n",
            "Epoch 72500/100000 Cost: 0.423270\n",
            "Epoch 73000/100000 Cost: 0.423269\n",
            "Epoch 73500/100000 Cost: 0.423269\n",
            "Epoch 74000/100000 Cost: 0.423268\n",
            "Epoch 74500/100000 Cost: 0.423268\n",
            "Epoch 75000/100000 Cost: 0.423267\n",
            "Epoch 75500/100000 Cost: 0.423267\n",
            "Epoch 76000/100000 Cost: 0.423267\n",
            "Epoch 76500/100000 Cost: 0.423266\n",
            "Epoch 77000/100000 Cost: 0.423266\n",
            "Epoch 77500/100000 Cost: 0.423265\n",
            "Epoch 78000/100000 Cost: 0.423265\n",
            "Epoch 78500/100000 Cost: 0.423265\n",
            "Epoch 79000/100000 Cost: 0.423265\n",
            "Epoch 79500/100000 Cost: 0.423264\n",
            "Epoch 80000/100000 Cost: 0.423264\n",
            "Epoch 80500/100000 Cost: 0.423264\n",
            "Epoch 81000/100000 Cost: 0.423264\n",
            "Epoch 81500/100000 Cost: 0.423263\n",
            "Epoch 82000/100000 Cost: 0.423263\n",
            "Epoch 82500/100000 Cost: 0.423263\n",
            "Epoch 83000/100000 Cost: 0.423263\n",
            "Epoch 83500/100000 Cost: 0.423262\n",
            "Epoch 84000/100000 Cost: 0.423262\n",
            "Epoch 84500/100000 Cost: 0.423262\n",
            "Epoch 85000/100000 Cost: 0.423262\n",
            "Epoch 85500/100000 Cost: 0.423262\n",
            "Epoch 86000/100000 Cost: 0.423262\n",
            "Epoch 86500/100000 Cost: 0.423262\n",
            "Epoch 87000/100000 Cost: 0.423261\n",
            "Epoch 87500/100000 Cost: 0.423261\n",
            "Epoch 88000/100000 Cost: 0.423261\n",
            "Epoch 88500/100000 Cost: 0.423261\n",
            "Epoch 89000/100000 Cost: 0.423261\n",
            "Epoch 89500/100000 Cost: 0.423261\n",
            "Epoch 90000/100000 Cost: 0.423261\n",
            "Epoch 90500/100000 Cost: 0.423261\n",
            "Epoch 91000/100000 Cost: 0.423261\n",
            "Epoch 91500/100000 Cost: 0.423261\n",
            "Epoch 92000/100000 Cost: 0.423260\n",
            "Epoch 92500/100000 Cost: 0.423260\n",
            "Epoch 93000/100000 Cost: 0.423260\n",
            "Epoch 93500/100000 Cost: 0.423260\n",
            "Epoch 94000/100000 Cost: 0.423260\n",
            "Epoch 94500/100000 Cost: 0.423260\n",
            "Epoch 95000/100000 Cost: 0.423260\n",
            "Epoch 95500/100000 Cost: 0.423260\n",
            "Epoch 96000/100000 Cost: 0.423260\n",
            "Epoch 96500/100000 Cost: 0.423260\n",
            "Epoch 97000/100000 Cost: 0.423260\n",
            "Epoch 97500/100000 Cost: 0.423260\n",
            "Epoch 98000/100000 Cost: 0.423260\n",
            "Epoch 98500/100000 Cost: 0.423260\n",
            "Epoch 99000/100000 Cost: 0.423260\n",
            "Epoch 99500/100000 Cost: 0.423260\n",
            "Epoch 100000/100000 Cost: 0.423260\n"
          ]
        }
      ]
    },
    {
      "cell_type": "code",
      "source": [
        "hypothesis = torch.sigmoid(x_test.matmul(W) + b)\n",
        "prediction = (hypothesis >= torch.FloatTensor([0.5])).type(torch.uint8) "
      ],
      "metadata": {
        "id": "8oDTLgWLuwmv"
      },
      "execution_count": 134,
      "outputs": []
    },
    {
      "cell_type": "code",
      "source": [
        "submit=pd.read_csv('submit.csv')\n",
        "for i, value in enumerate(prediction):\n",
        "    submit[\"Diabetes\"][i] = value.item()\n",
        "\n",
        "submit.to_csv(\"output.csv\", index = False)"
      ],
      "metadata": {
        "id": "zt7wGz8Bu4vA"
      },
      "execution_count": 135,
      "outputs": []
    },
    {
      "cell_type": "markdown",
      "source": [
        "- standardscaler\n",
        "- 이상치 제거\n",
        "![image.png](data:image/png;base64,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)\n"
      ],
      "metadata": {
        "id": "rnlDWh9Z1tt4"
      }
    },
    {
      "cell_type": "markdown",
      "source": [
        "## 교수님"
      ],
      "metadata": {
        "id": "pMmiJs0UzZ_g"
      }
    },
    {
      "cell_type": "code",
      "source": [
        "train=pd.read_csv('train.csv')\n",
        "test=pd.read_csv('test.csv')\n",
        "sample=pd.read_csv('submit.csv')"
      ],
      "metadata": {
        "id": "A1cDEVEDvCCJ"
      },
      "execution_count": 96,
      "outputs": []
    },
    {
      "cell_type": "code",
      "source": [
        "from sklearn.preprocessing import RobustScaler\n",
        "sc_X = RobustScaler()\n",
        "\n",
        "X_train = pd.DataFrame(sc_X.fit_transform(train.drop([\"Diabetes\"], axis = 1)), \n",
        "                      columns=['Pregnancies', 'Glucose', 'BloodPressure', \n",
        "                               'SkinThickness', 'Insulin','BMI', 'DiabetesPedigreeFunction', 'Age'])\n",
        "X_test = pd.DataFrame(sc_X.transform(test), \n",
        "                      columns=['Pregnancies', 'Glucose', 'BloodPressure', \n",
        "                               'SkinThickness', 'Insulin','BMI', 'DiabetesPedigreeFunction', 'Age'])\n",
        "y_train = train.Diabetes"
      ],
      "metadata": {
        "id": "U8cThxrazd4V"
      },
      "execution_count": 97,
      "outputs": []
    },
    {
      "cell_type": "code",
      "source": [
        "X_train = sc_X.fit_transform(train.drop([\"Diabetes\"], axis = 1))\n",
        "X_test = sc_X.transform(test)\n",
        "                             \n",
        "X_train = pd.DataFrame(X_train, \n",
        "                       columns=['Pregnancies', 'Glucose', 'BloodPressure', \n",
        "                               'SkinThickness', 'Insulin','BMI', 'DiabetesPedigreeFunction', 'Age'])\n",
        "X_test = pd.DataFrame(X_test, \n",
        "                       columns=['Pregnancies', 'Glucose', 'BloodPressure', \n",
        "                               'SkinThickness', 'Insulin','BMI', 'DiabetesPedigreeFunction', 'Age'])"
      ],
      "metadata": {
        "id": "1uA56KTgzhQ9"
      },
      "execution_count": 98,
      "outputs": []
    },
    {
      "cell_type": "code",
      "source": [
        "print(X_train.shape)\n",
        "print(X_test.shape)\n",
        "print(y_train.shape)"
      ],
      "metadata": {
        "colab": {
          "base_uri": "https://localhost:8080/"
        },
        "id": "aTB6erVazlxl",
        "outputId": "d1c59e94-9e84-413c-fe52-990b8e3f667d"
      },
      "execution_count": 99,
      "outputs": [
        {
          "output_type": "stream",
          "name": "stdout",
          "text": [
            "(537, 8)\n",
            "(231, 8)\n",
            "(537,)\n"
          ]
        }
      ]
    },
    {
      "cell_type": "code",
      "source": [
        "X_train = torch.FloatTensor(np.array(X_train))\n",
        "y_train = torch.FloatTensor(np.array(y_train))\n",
        "X_test = torch.FloatTensor(np.array(X_test))"
      ],
      "metadata": {
        "id": "b0scpyX4zm1c"
      },
      "execution_count": 100,
      "outputs": []
    },
    {
      "cell_type": "code",
      "source": [
        "learning_rate = 1e-2\n",
        "epochs = 3000"
      ],
      "metadata": {
        "id": "XXlP2S4HzpQX"
      },
      "execution_count": 101,
      "outputs": []
    },
    {
      "cell_type": "code",
      "source": [
        "feature = 8\n",
        "\n",
        "W = torch.zeros((feature, 1), requires_grad=True)\n",
        "b = torch.zeros(1, requires_grad=True)\n",
        "\n",
        "# 클래스가 2개인 경우 Binary Cross Entropy Loss \n",
        "loss = torch.nn.BCELoss() \n",
        "\n",
        "# Simoid 포함된 Loss\n",
        "loss = torch.nn.BCEWithLogitsLoss()\n",
        "\n",
        "optimizer = optim.SGD([W, b], lr = learning_rate)\n",
        "\n",
        "for epoch in range(epochs + 1):\n",
        "    \n",
        "    hypothesis = torch.sigmoid(X_train.matmul(W) + b)\n",
        "    # 표현법 (1)\n",
        "#     cost = -(y_train * torch.log(hypothesis) + (1-y_train) * torch.log(1 - hypothesis)).mean()\n",
        "    \n",
        "    # 표현법 (2)\n",
        "    cost = loss(X_train.matmul(W) + b, y_train.unsqueeze(1))\n",
        "    \n",
        "    \n",
        "    optimizer.zero_grad()\n",
        "    cost.backward()\n",
        "    optimizer.step()\n",
        "\n",
        "    # 100번마다 로그 출력\n",
        "    if epoch % 500 == 0:\n",
        "        print('Epoch {:4d}/{} Cost: {:.6f}'.format(\n",
        "            epoch, epochs, cost.item()))"
      ],
      "metadata": {
        "colab": {
          "base_uri": "https://localhost:8080/"
        },
        "id": "ScRWZaLCzqPG",
        "outputId": "4d626ef8-ea08-46f8-fe02-f1c711cb07d2"
      },
      "execution_count": 102,
      "outputs": [
        {
          "output_type": "stream",
          "name": "stdout",
          "text": [
            "Epoch    0/3000 Cost: 0.693147\n",
            "Epoch  500/3000 Cost: 0.527966\n",
            "Epoch 1000/3000 Cost: 0.489346\n",
            "Epoch 1500/3000 Cost: 0.474461\n",
            "Epoch 2000/3000 Cost: 0.467575\n",
            "Epoch 2500/3000 Cost: 0.464061\n",
            "Epoch 3000/3000 Cost: 0.462151\n"
          ]
        }
      ]
    },
    {
      "cell_type": "code",
      "source": [
        "hypothesis = torch.sigmoid(X_test.matmul(W) + b)\n",
        "prediction = (hypothesis >= torch.FloatTensor([0.5])).type(torch.uint8) "
      ],
      "metadata": {
        "id": "rD6NebvBzr0V"
      },
      "execution_count": 103,
      "outputs": []
    },
    {
      "cell_type": "code",
      "source": [
        "\n",
        "\n",
        "for i, value in enumerate(prediction):\n",
        "    sample[\"Diabetes\"][i] = value.item()\n",
        "\n",
        "sample.to_csv(\"output.csv\", index = False)"
      ],
      "metadata": {
        "id": "Ev2rmnjwzuHO"
      },
      "execution_count": 107,
      "outputs": []
    },
    {
      "cell_type": "code",
      "source": [
        ""
      ],
      "metadata": {
        "id": "vTNVUtD6zu_e"
      },
      "execution_count": null,
      "outputs": []
    }
  ]
}