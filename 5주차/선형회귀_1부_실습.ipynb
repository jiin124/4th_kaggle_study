{
  "nbformat": 4,
  "nbformat_minor": 0,
  "metadata": {
    "colab": {
      "name": "선형회귀 1부 실습.ipynb",
      "provenance": [],
      "authorship_tag": "ABX9TyOFEo8rRELte4892OOyzT84",
      "include_colab_link": true
    },
    "kernelspec": {
      "name": "python3",
      "display_name": "Python 3"
    },
    "language_info": {
      "name": "python"
    }
  },
  "cells": [
    {
      "cell_type": "markdown",
      "metadata": {
        "id": "view-in-github",
        "colab_type": "text"
      },
      "source": [
        "<a href=\"https://colab.research.google.com/github/jiin124/4th_kaggle_study/blob/main/5%EC%A3%BC%EC%B0%A8/%EC%84%A0%ED%98%95%ED%9A%8C%EA%B7%80_1%EB%B6%80_%EC%8B%A4%EC%8A%B5.ipynb\" target=\"_parent\"><img src=\"https://colab.research.google.com/assets/colab-badge.svg\" alt=\"Open In Colab\"/></a>"
      ]
    },
    {
      "cell_type": "markdown",
      "source": [
        "# Imports"
      ],
      "metadata": {
        "id": "Y6RAo-2D7RF4"
      }
    },
    {
      "cell_type": "code",
      "execution_count": 1,
      "metadata": {
        "id": "98bLk6ls6z-B"
      },
      "outputs": [],
      "source": [
        "import torch\n",
        "import torch.optim as optim\n",
        "\n"
      ]
    },
    {
      "cell_type": "code",
      "source": [
        "#for reproducibility\n",
        "torch.manual_seed(1)"
      ],
      "metadata": {
        "colab": {
          "base_uri": "https://localhost:8080/"
        },
        "id": "QZlQmyp_7WAT",
        "outputId": "eea5890d-f321-47e6-c57b-fdcce1b69a1b"
      },
      "execution_count": 2,
      "outputs": [
        {
          "output_type": "execute_result",
          "data": {
            "text/plain": [
              "<torch._C.Generator at 0x7f11858bf3d0>"
            ]
          },
          "metadata": {},
          "execution_count": 2
        }
      ]
    },
    {
      "cell_type": "markdown",
      "source": [
        "## data"
      ],
      "metadata": {
        "id": "pS_9n0ys7csJ"
      }
    },
    {
      "cell_type": "code",
      "source": [
        "x_train=torch.FloatTensor([[1],[2],[3]])\n",
        "y_train=torch.FloatTensor([[1],[2],[3]])"
      ],
      "metadata": {
        "id": "zuM6FQ6B7bhr"
      },
      "execution_count": 3,
      "outputs": []
    },
    {
      "cell_type": "code",
      "source": [
        "print(x_train)\n",
        "print(y_train.shape)"
      ],
      "metadata": {
        "colab": {
          "base_uri": "https://localhost:8080/"
        },
        "id": "qmcqc8iv7kbn",
        "outputId": "e2c10137-90e9-4fc5-f5dd-07f620a8f18a"
      },
      "execution_count": 4,
      "outputs": [
        {
          "output_type": "stream",
          "name": "stdout",
          "text": [
            "tensor([[1.],\n",
            "        [2.],\n",
            "        [3.]])\n",
            "torch.Size([3, 1])\n"
          ]
        }
      ]
    },
    {
      "cell_type": "code",
      "source": [
        "print(y_train)\n",
        "print(y_train.shape)"
      ],
      "metadata": {
        "colab": {
          "base_uri": "https://localhost:8080/"
        },
        "id": "f3sUVgzU7oAA",
        "outputId": "50b4a355-4d1c-4a99-c24e-70b5a3df0d92"
      },
      "execution_count": 5,
      "outputs": [
        {
          "output_type": "stream",
          "name": "stdout",
          "text": [
            "tensor([[1.],\n",
            "        [2.],\n",
            "        [3.]])\n",
            "torch.Size([3, 1])\n"
          ]
        }
      ]
    },
    {
      "cell_type": "markdown",
      "source": [
        "## Weight Initialization"
      ],
      "metadata": {
        "id": "vm7_4xO38VI7"
      }
    },
    {
      "cell_type": "code",
      "source": [
        "#학습용 변수라는 것을 명시\n",
        "W=torch.zeros(1,requires_grad=True)\n",
        "print(W)"
      ],
      "metadata": {
        "colab": {
          "base_uri": "https://localhost:8080/"
        },
        "id": "5yBRJj6O8RTZ",
        "outputId": "f08517ad-8adf-4ea1-9eb0-cc19e151d706"
      },
      "execution_count": 6,
      "outputs": [
        {
          "output_type": "stream",
          "name": "stdout",
          "text": [
            "tensor([0.], requires_grad=True)\n"
          ]
        }
      ]
    },
    {
      "cell_type": "code",
      "source": [
        "#학습용 변수라는 것을 명시\n",
        "b=torch.zeros(1,requires_grad=True)\n",
        "print(b)"
      ],
      "metadata": {
        "colab": {
          "base_uri": "https://localhost:8080/"
        },
        "id": "fNmD_Nxy8Zi8",
        "outputId": "bda0e236-d6e1-45b6-96ed-db7932f427db"
      },
      "execution_count": 7,
      "outputs": [
        {
          "output_type": "stream",
          "name": "stdout",
          "text": [
            "tensor([0.], requires_grad=True)\n"
          ]
        }
      ]
    },
    {
      "cell_type": "markdown",
      "source": [
        "## Weight Initialization"
      ],
      "metadata": {
        "id": "YpqF9hMd9kjb"
      }
    },
    {
      "cell_type": "code",
      "source": [
        "W=torch.zeros(1,requires_grad=True)\n",
        "print(W)"
      ],
      "metadata": {
        "colab": {
          "base_uri": "https://localhost:8080/"
        },
        "id": "tLhLZlll8dS5",
        "outputId": "18b95c55-e38f-4bfc-8725-2852ae9c36b2"
      },
      "execution_count": 8,
      "outputs": [
        {
          "output_type": "stream",
          "name": "stdout",
          "text": [
            "tensor([0.], requires_grad=True)\n"
          ]
        }
      ]
    },
    {
      "cell_type": "code",
      "source": [
        "b=torch.zeros(1,requires_grad=True)\n",
        "print(b)"
      ],
      "metadata": {
        "colab": {
          "base_uri": "https://localhost:8080/"
        },
        "id": "yD5jxa_I9rHb",
        "outputId": "dd18586f-771b-4b02-f588-f7c34dda8ffb"
      },
      "execution_count": 9,
      "outputs": [
        {
          "output_type": "stream",
          "name": "stdout",
          "text": [
            "tensor([0.], requires_grad=True)\n"
          ]
        }
      ]
    },
    {
      "cell_type": "markdown",
      "source": [
        "## Hypothesis\n",
        "\n",
        "$$ H(x)=Wx+b $$"
      ],
      "metadata": {
        "id": "OZh3gNqh94Lg"
      }
    },
    {
      "cell_type": "code",
      "source": [
        "hypothesis=x_train*W+b\n",
        "print(hypothesis)"
      ],
      "metadata": {
        "colab": {
          "base_uri": "https://localhost:8080/"
        },
        "id": "i4qa3Gx89uBu",
        "outputId": "0b469e88-275e-49b9-d171-41d620d9ae9d"
      },
      "execution_count": 10,
      "outputs": [
        {
          "output_type": "stream",
          "name": "stdout",
          "text": [
            "tensor([[0.],\n",
            "        [0.],\n",
            "        [0.]], grad_fn=<AddBackward0>)\n"
          ]
        }
      ]
    },
    {
      "cell_type": "markdown",
      "source": [
        "## Cost\n",
        "\n",
        "$$ cost(W,b)=1m∑i=1m(H(x(i))−y(i))2 $$"
      ],
      "metadata": {
        "id": "0Sq_UH4Q_NtI"
      }
    },
    {
      "cell_type": "code",
      "source": [
        "print(hypothesis)"
      ],
      "metadata": {
        "colab": {
          "base_uri": "https://localhost:8080/"
        },
        "id": "0Ms2lw5o9_Vu",
        "outputId": "c1525cb6-8fec-474f-9ad4-e78a0f191552"
      },
      "execution_count": 12,
      "outputs": [
        {
          "output_type": "stream",
          "name": "stdout",
          "text": [
            "tensor([[0.],\n",
            "        [0.],\n",
            "        [0.]], grad_fn=<AddBackward0>)\n"
          ]
        }
      ]
    },
    {
      "cell_type": "code",
      "source": [
        "print(y_train)"
      ],
      "metadata": {
        "colab": {
          "base_uri": "https://localhost:8080/"
        },
        "id": "ZgcJEhuH_XH6",
        "outputId": "9a7aca34-405a-40b8-eb16-c89f4003ad84"
      },
      "execution_count": 13,
      "outputs": [
        {
          "output_type": "stream",
          "name": "stdout",
          "text": [
            "tensor([[1.],\n",
            "        [2.],\n",
            "        [3.]])\n"
          ]
        }
      ]
    },
    {
      "cell_type": "code",
      "source": [
        "print(hypothesis-y_train)"
      ],
      "metadata": {
        "colab": {
          "base_uri": "https://localhost:8080/"
        },
        "id": "INDK5D0U_aC1",
        "outputId": "7aa23c13-9989-4935-ec8e-8b090a88d958"
      },
      "execution_count": 14,
      "outputs": [
        {
          "output_type": "stream",
          "name": "stdout",
          "text": [
            "tensor([[-1.],\n",
            "        [-2.],\n",
            "        [-3.]], grad_fn=<SubBackward0>)\n"
          ]
        }
      ]
    },
    {
      "cell_type": "code",
      "source": [
        "print((hypothesis-y_train**2))"
      ],
      "metadata": {
        "colab": {
          "base_uri": "https://localhost:8080/"
        },
        "id": "MKrH7hrh_tSx",
        "outputId": "872b2dfd-3458-4912-df4b-3156a7c9abd7"
      },
      "execution_count": 15,
      "outputs": [
        {
          "output_type": "stream",
          "name": "stdout",
          "text": [
            "tensor([[-1.],\n",
            "        [-4.],\n",
            "        [-9.]], grad_fn=<SubBackward0>)\n"
          ]
        }
      ]
    },
    {
      "cell_type": "code",
      "source": [
        "cost=torch.mean((hypothesis-y_train)**2)\n",
        "print(cost)"
      ],
      "metadata": {
        "colab": {
          "base_uri": "https://localhost:8080/"
        },
        "id": "ZgCFAvsI_ysy",
        "outputId": "78715f14-172f-4142-92db-fb0912cd833a"
      },
      "execution_count": 16,
      "outputs": [
        {
          "output_type": "stream",
          "name": "stdout",
          "text": [
            "tensor(4.6667, grad_fn=<MeanBackward0>)\n"
          ]
        }
      ]
    },
    {
      "cell_type": "markdown",
      "source": [
        "## Gradient Descent"
      ],
      "metadata": {
        "id": "Cvpmf8sPBFMU"
      }
    },
    {
      "cell_type": "code",
      "source": [
        "# learning rate => lr = 0.01\n",
        "# W := W - alpha*d/dw*cost(w)\n",
        "\n",
        "optimizer=optim.SGD([W,b],lr=0.01)#경사하강법 방식 SGD(직접 구현도 가능하지만 파이토치에 저장되어있음)"
      ],
      "metadata": {
        "id": "ZAyl1uJu_1sc"
      },
      "execution_count": 17,
      "outputs": []
    },
    {
      "cell_type": "code",
      "source": [
        "#옵티마이저 초기화\n",
        "optimizer.zero_grad()\n",
        "\n",
        "#cost 계산 !!! 미분값 계산해서\n",
        "cost.backward()\n",
        "#옵티마이저 갱신\n",
        "optimizer.step()"
      ],
      "metadata": {
        "id": "tpQ_mHRrBTxe"
      },
      "execution_count": 18,
      "outputs": []
    },
    {
      "cell_type": "code",
      "source": [
        "print(W)\n",
        "print(b)"
      ],
      "metadata": {
        "colab": {
          "base_uri": "https://localhost:8080/"
        },
        "id": "jTgTOB_nBdSC",
        "outputId": "d8175c07-3d9d-426b-d9d5-701f4b303f46"
      },
      "execution_count": 19,
      "outputs": [
        {
          "output_type": "stream",
          "name": "stdout",
          "text": [
            "tensor([0.0933], requires_grad=True)\n",
            "tensor([0.0400], requires_grad=True)\n"
          ]
        }
      ]
    },
    {
      "cell_type": "code",
      "source": [
        "hypothesis=x_train*W+b\n",
        "print(hypothesis)"
      ],
      "metadata": {
        "colab": {
          "base_uri": "https://localhost:8080/"
        },
        "id": "YxQwJGK_Beo5",
        "outputId": "8b6c70de-6aee-4dbb-eeae-51b501a50d48"
      },
      "execution_count": 20,
      "outputs": [
        {
          "output_type": "stream",
          "name": "stdout",
          "text": [
            "tensor([[0.1333],\n",
            "        [0.2267],\n",
            "        [0.3200]], grad_fn=<AddBackward0>)\n"
          ]
        }
      ]
    },
    {
      "cell_type": "code",
      "source": [
        "cost=torch.mean((hypothesis-y_train)**2)\n",
        "print(cost)"
      ],
      "metadata": {
        "colab": {
          "base_uri": "https://localhost:8080/"
        },
        "id": "SoNerwWVDLbm",
        "outputId": "77a68732-23eb-4dfb-b805-c07202d9fd8f"
      },
      "execution_count": 21,
      "outputs": [
        {
          "output_type": "stream",
          "name": "stdout",
          "text": [
            "tensor(3.6927, grad_fn=<MeanBackward0>)\n"
          ]
        }
      ]
    },
    {
      "cell_type": "markdown",
      "source": [
        "## Training with full code\n"
      ],
      "metadata": {
        "id": "UmhypmMCDZ9Q"
      }
    },
    {
      "cell_type": "code",
      "source": [
        "# 데이터\n",
        "X_train=torch.FloatTensor([[1],[2],[3]])\n",
        "y_train=torch.FloatTensor([[1],[2],[3]])\n",
        "\n",
        "#모델 초기화\n",
        "W=torch.zeros(1,requires_grad=True)\n",
        "b=torch.zeros(1,requires_grad=True)\n",
        "\n",
        "#optimizer 설정\n",
        "optimizer=optim.SGD([W,b],lr=0.01)\n",
        "\n",
        "nb_epochs=1000\n",
        "for epoch in range(nb_epochs+1):\n",
        "\n",
        "  #H(x)계산\n",
        "  hypothesis=x_train*W+b\n",
        "\n",
        "  #cost 계산\n",
        "  cost=torch.mean((hypothesis-y_train)**2)\n",
        "\n",
        "  #cost로 H(x) 개선\n",
        "  optimizer.zero_grad()\n",
        "  cost.backward()\n",
        "  optimizer.step()\n",
        "\n",
        "  #100번마다 로그 출력\n",
        "  if epoch%100==0:\n",
        "    print('Epoch {:4d}/{} W:{:.3f}, b: {:.3f} Cost:{:.6f}'.format(\n",
        "        epoch,nb_epochs,W.item(),b.item(),cost.item()\n",
        "    ))"
      ],
      "metadata": {
        "colab": {
          "base_uri": "https://localhost:8080/"
        },
        "id": "uqXzsnf5DPnp",
        "outputId": "70ae2cca-d134-44da-96f1-532ca7ecabe4"
      },
      "execution_count": 24,
      "outputs": [
        {
          "output_type": "stream",
          "name": "stdout",
          "text": [
            "Epoch    0/1000 W:0.093, b: 0.040 Cost:4.666667\n",
            "Epoch  100/1000 W:0.873, b: 0.289 Cost:0.012043\n",
            "Epoch  200/1000 W:0.900, b: 0.227 Cost:0.007442\n",
            "Epoch  300/1000 W:0.921, b: 0.179 Cost:0.004598\n",
            "Epoch  400/1000 W:0.938, b: 0.140 Cost:0.002842\n",
            "Epoch  500/1000 W:0.951, b: 0.110 Cost:0.001756\n",
            "Epoch  600/1000 W:0.962, b: 0.087 Cost:0.001085\n",
            "Epoch  700/1000 W:0.970, b: 0.068 Cost:0.000670\n",
            "Epoch  800/1000 W:0.976, b: 0.054 Cost:0.000414\n",
            "Epoch  900/1000 W:0.981, b: 0.042 Cost:0.000256\n",
            "Epoch 1000/1000 W:0.985, b: 0.033 Cost:0.000158\n"
          ]
        }
      ]
    },
    {
      "cell_type": "code",
      "source": [
        "# H(x) = Wx + b\n",
        "# 가설설정 => 예측하고자 하는 값 => 시험성적 => 1 * 7 + 0.033 = "
      ],
      "metadata": {
        "id": "26-jMyWLGPv7"
      },
      "execution_count": 26,
      "outputs": []
    },
    {
      "cell_type": "code",
      "source": [
        "0.985*9+0.033"
      ],
      "metadata": {
        "colab": {
          "base_uri": "https://localhost:8080/"
        },
        "id": "iZbQs3HMF9cm",
        "outputId": "c60da0f0-c871-4bf0-df1c-9ae5b647643b"
      },
      "execution_count": 25,
      "outputs": [
        {
          "output_type": "execute_result",
          "data": {
            "text/plain": [
              "8.898"
            ]
          },
          "metadata": {},
          "execution_count": 25
        }
      ]
    },
    {
      "cell_type": "code",
      "source": [
        ""
      ],
      "metadata": {
        "id": "q2JdnFTZGLI_"
      },
      "execution_count": null,
      "outputs": []
    }
  ]
}