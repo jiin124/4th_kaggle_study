{
  "nbformat": 4,
  "nbformat_minor": 0,
  "metadata": {
    "colab": {
      "name": "선형회귀 실습_배추가격 예측.ipynb",
      "provenance": [],
      "authorship_tag": "ABX9TyNocRDjZPXuCLDOrkaRdEOx",
      "include_colab_link": true
    },
    "kernelspec": {
      "name": "python3",
      "display_name": "Python 3"
    },
    "language_info": {
      "name": "python"
    }
  },
  "cells": [
    {
      "cell_type": "markdown",
      "metadata": {
        "id": "view-in-github",
        "colab_type": "text"
      },
      "source": [
        "<a href=\"https://colab.research.google.com/github/jiin124/4th_kaggle_study/blob/main/5%EC%A3%BC%EC%B0%A8/%EC%84%A0%ED%98%95%ED%9A%8C%EA%B7%80_%EC%8B%A4%EC%8A%B5_%EB%B0%B0%EC%B6%94%EA%B0%80%EA%B2%A9_%EC%98%88%EC%B8%A1.ipynb\" target=\"_parent\"><img src=\"https://colab.research.google.com/assets/colab-badge.svg\" alt=\"Open In Colab\"/></a>"
      ]
    },
    {
      "cell_type": "markdown",
      "source": [
        "# 배추가격 예측을 위한 데이터\n",
        "\n",
        "▶ year - 년,월,일 정보\n",
        "\n",
        "▶ avgTemp - 평균기온\n",
        "\n",
        "▶ minTemp - 최저기온\n",
        "\n",
        "▶ maxTemp - 최고기온\n",
        "\n",
        "▶ rainFall - 강수량\n",
        "\n",
        "▶ avgPrice - 배추가격\n"
      ],
      "metadata": {
        "id": "EUuWIPi-Jcch"
      }
    },
    {
      "cell_type": "code",
      "execution_count": 1,
      "metadata": {
        "id": "77Q38888Ijh6"
      },
      "outputs": [],
      "source": [
        "import pandas as pd\n",
        "import numpy as np\n",
        "import matplotlib.pyplot as plt\n",
        "import seaborn as sns\n",
        "import os\n",
        "plt.style.use('ggplot')\n",
        "import warnings\n",
        "warnings.filterwarnings('ignore')"
      ]
    },
    {
      "cell_type": "code",
      "source": [
        "os.environ['KAGGLE_USERNAME']='jiinpp'\n",
        "os.environ['KAGGLE_KEY']=\"b06d525a9f66198051ccb648b091778a\""
      ],
      "metadata": {
        "id": "CpfiSxlIIkRS"
      },
      "execution_count": 3,
      "outputs": []
    },
    {
      "cell_type": "code",
      "source": [
        "!kaggle competitions download -c 2021-ai-w3-p1"
      ],
      "metadata": {
        "colab": {
          "base_uri": "https://localhost:8080/"
        },
        "id": "MfUubT7aJPHY",
        "outputId": "42fb54c7-b7bb-4bd0-92f7-35ff9511157f"
      },
      "execution_count": 4,
      "outputs": [
        {
          "output_type": "stream",
          "name": "stdout",
          "text": [
            "Warning: Looks like you're using an outdated API Version, please consider updating (server 1.5.12 / client 1.5.4)\n",
            "Downloading train.csv to /content\n",
            "  0% 0.00/79.6k [00:00<?, ?B/s]\n",
            "100% 79.6k/79.6k [00:00<00:00, 28.8MB/s]\n",
            "Downloading test.csv to /content\n",
            "  0% 0.00/681 [00:00<?, ?B/s]\n",
            "100% 681/681 [00:00<00:00, 1.75MB/s]\n",
            "Downloading submit_sample.csv to /content\n",
            "  0% 0.00/219 [00:00<?, ?B/s]\n",
            "100% 219/219 [00:00<00:00, 570kB/s]\n"
          ]
        }
      ]
    },
    {
      "cell_type": "code",
      "source": [
        "train=pd.read_csv('train.csv')\n",
        "test=pd.read_csv('test.csv')\n",
        "sample=pd.read_csv('submit_sample.csv')"
      ],
      "metadata": {
        "id": "RChBL2cfJRA9"
      },
      "execution_count": 5,
      "outputs": []
    },
    {
      "cell_type": "code",
      "source": [
        "train.head()"
      ],
      "metadata": {
        "colab": {
          "base_uri": "https://localhost:8080/",
          "height": 206
        },
        "id": "-Mif-jaNJZjd",
        "outputId": "4bdd902c-0fda-4265-a5f2-da3f3bee946f"
      },
      "execution_count": 6,
      "outputs": [
        {
          "output_type": "execute_result",
          "data": {
            "text/html": [
              "\n",
              "  <div id=\"df-88edfa83-84a4-4784-9a82-f61786b114e2\">\n",
              "    <div class=\"colab-df-container\">\n",
              "      <div>\n",
              "<style scoped>\n",
              "    .dataframe tbody tr th:only-of-type {\n",
              "        vertical-align: middle;\n",
              "    }\n",
              "\n",
              "    .dataframe tbody tr th {\n",
              "        vertical-align: top;\n",
              "    }\n",
              "\n",
              "    .dataframe thead th {\n",
              "        text-align: right;\n",
              "    }\n",
              "</style>\n",
              "<table border=\"1\" class=\"dataframe\">\n",
              "  <thead>\n",
              "    <tr style=\"text-align: right;\">\n",
              "      <th></th>\n",
              "      <th>year</th>\n",
              "      <th>avgTemp</th>\n",
              "      <th>minTemp</th>\n",
              "      <th>maxTemp</th>\n",
              "      <th>rainFall</th>\n",
              "      <th>avgPrice</th>\n",
              "    </tr>\n",
              "  </thead>\n",
              "  <tbody>\n",
              "    <tr>\n",
              "      <th>0</th>\n",
              "      <td>20100101</td>\n",
              "      <td>-4.9</td>\n",
              "      <td>-11.0</td>\n",
              "      <td>0.9</td>\n",
              "      <td>0.0</td>\n",
              "      <td>2123</td>\n",
              "    </tr>\n",
              "    <tr>\n",
              "      <th>1</th>\n",
              "      <td>20100102</td>\n",
              "      <td>-3.1</td>\n",
              "      <td>-5.5</td>\n",
              "      <td>5.5</td>\n",
              "      <td>0.8</td>\n",
              "      <td>2123</td>\n",
              "    </tr>\n",
              "    <tr>\n",
              "      <th>2</th>\n",
              "      <td>20100103</td>\n",
              "      <td>-2.9</td>\n",
              "      <td>-6.9</td>\n",
              "      <td>1.4</td>\n",
              "      <td>0.0</td>\n",
              "      <td>2123</td>\n",
              "    </tr>\n",
              "    <tr>\n",
              "      <th>3</th>\n",
              "      <td>20100104</td>\n",
              "      <td>-1.8</td>\n",
              "      <td>-5.1</td>\n",
              "      <td>2.2</td>\n",
              "      <td>5.9</td>\n",
              "      <td>2020</td>\n",
              "    </tr>\n",
              "    <tr>\n",
              "      <th>4</th>\n",
              "      <td>20100105</td>\n",
              "      <td>-5.2</td>\n",
              "      <td>-8.7</td>\n",
              "      <td>-1.8</td>\n",
              "      <td>0.7</td>\n",
              "      <td>2060</td>\n",
              "    </tr>\n",
              "  </tbody>\n",
              "</table>\n",
              "</div>\n",
              "      <button class=\"colab-df-convert\" onclick=\"convertToInteractive('df-88edfa83-84a4-4784-9a82-f61786b114e2')\"\n",
              "              title=\"Convert this dataframe to an interactive table.\"\n",
              "              style=\"display:none;\">\n",
              "        \n",
              "  <svg xmlns=\"http://www.w3.org/2000/svg\" height=\"24px\"viewBox=\"0 0 24 24\"\n",
              "       width=\"24px\">\n",
              "    <path d=\"M0 0h24v24H0V0z\" fill=\"none\"/>\n",
              "    <path d=\"M18.56 5.44l.94 2.06.94-2.06 2.06-.94-2.06-.94-.94-2.06-.94 2.06-2.06.94zm-11 1L8.5 8.5l.94-2.06 2.06-.94-2.06-.94L8.5 2.5l-.94 2.06-2.06.94zm10 10l.94 2.06.94-2.06 2.06-.94-2.06-.94-.94-2.06-.94 2.06-2.06.94z\"/><path d=\"M17.41 7.96l-1.37-1.37c-.4-.4-.92-.59-1.43-.59-.52 0-1.04.2-1.43.59L10.3 9.45l-7.72 7.72c-.78.78-.78 2.05 0 2.83L4 21.41c.39.39.9.59 1.41.59.51 0 1.02-.2 1.41-.59l7.78-7.78 2.81-2.81c.8-.78.8-2.07 0-2.86zM5.41 20L4 18.59l7.72-7.72 1.47 1.35L5.41 20z\"/>\n",
              "  </svg>\n",
              "      </button>\n",
              "      \n",
              "  <style>\n",
              "    .colab-df-container {\n",
              "      display:flex;\n",
              "      flex-wrap:wrap;\n",
              "      gap: 12px;\n",
              "    }\n",
              "\n",
              "    .colab-df-convert {\n",
              "      background-color: #E8F0FE;\n",
              "      border: none;\n",
              "      border-radius: 50%;\n",
              "      cursor: pointer;\n",
              "      display: none;\n",
              "      fill: #1967D2;\n",
              "      height: 32px;\n",
              "      padding: 0 0 0 0;\n",
              "      width: 32px;\n",
              "    }\n",
              "\n",
              "    .colab-df-convert:hover {\n",
              "      background-color: #E2EBFA;\n",
              "      box-shadow: 0px 1px 2px rgba(60, 64, 67, 0.3), 0px 1px 3px 1px rgba(60, 64, 67, 0.15);\n",
              "      fill: #174EA6;\n",
              "    }\n",
              "\n",
              "    [theme=dark] .colab-df-convert {\n",
              "      background-color: #3B4455;\n",
              "      fill: #D2E3FC;\n",
              "    }\n",
              "\n",
              "    [theme=dark] .colab-df-convert:hover {\n",
              "      background-color: #434B5C;\n",
              "      box-shadow: 0px 1px 3px 1px rgba(0, 0, 0, 0.15);\n",
              "      filter: drop-shadow(0px 1px 2px rgba(0, 0, 0, 0.3));\n",
              "      fill: #FFFFFF;\n",
              "    }\n",
              "  </style>\n",
              "\n",
              "      <script>\n",
              "        const buttonEl =\n",
              "          document.querySelector('#df-88edfa83-84a4-4784-9a82-f61786b114e2 button.colab-df-convert');\n",
              "        buttonEl.style.display =\n",
              "          google.colab.kernel.accessAllowed ? 'block' : 'none';\n",
              "\n",
              "        async function convertToInteractive(key) {\n",
              "          const element = document.querySelector('#df-88edfa83-84a4-4784-9a82-f61786b114e2');\n",
              "          const dataTable =\n",
              "            await google.colab.kernel.invokeFunction('convertToInteractive',\n",
              "                                                     [key], {});\n",
              "          if (!dataTable) return;\n",
              "\n",
              "          const docLinkHtml = 'Like what you see? Visit the ' +\n",
              "            '<a target=\"_blank\" href=https://colab.research.google.com/notebooks/data_table.ipynb>data table notebook</a>'\n",
              "            + ' to learn more about interactive tables.';\n",
              "          element.innerHTML = '';\n",
              "          dataTable['output_type'] = 'display_data';\n",
              "          await google.colab.output.renderOutput(dataTable, element);\n",
              "          const docLink = document.createElement('div');\n",
              "          docLink.innerHTML = docLinkHtml;\n",
              "          element.appendChild(docLink);\n",
              "        }\n",
              "      </script>\n",
              "    </div>\n",
              "  </div>\n",
              "  "
            ],
            "text/plain": [
              "       year  avgTemp  minTemp  maxTemp  rainFall  avgPrice\n",
              "0  20100101     -4.9    -11.0      0.9       0.0      2123\n",
              "1  20100102     -3.1     -5.5      5.5       0.8      2123\n",
              "2  20100103     -2.9     -6.9      1.4       0.0      2123\n",
              "3  20100104     -1.8     -5.1      2.2       5.9      2020\n",
              "4  20100105     -5.2     -8.7     -1.8       0.7      2060"
            ]
          },
          "metadata": {},
          "execution_count": 6
        }
      ]
    },
    {
      "cell_type": "code",
      "source": [
        "train.info()"
      ],
      "metadata": {
        "colab": {
          "base_uri": "https://localhost:8080/"
        },
        "id": "8obcSZayJasy",
        "outputId": "a6abbcb7-d7fc-4cea-c4d2-bd81bb98bbe4"
      },
      "execution_count": 7,
      "outputs": [
        {
          "output_type": "stream",
          "name": "stdout",
          "text": [
            "<class 'pandas.core.frame.DataFrame'>\n",
            "RangeIndex: 2557 entries, 0 to 2556\n",
            "Data columns (total 6 columns):\n",
            " #   Column    Non-Null Count  Dtype  \n",
            "---  ------    --------------  -----  \n",
            " 0   year      2557 non-null   int64  \n",
            " 1   avgTemp   2557 non-null   float64\n",
            " 2   minTemp   2557 non-null   float64\n",
            " 3   maxTemp   2557 non-null   float64\n",
            " 4   rainFall  2557 non-null   float64\n",
            " 5   avgPrice  2557 non-null   int64  \n",
            "dtypes: float64(4), int64(2)\n",
            "memory usage: 120.0 KB\n"
          ]
        }
      ]
    },
    {
      "cell_type": "code",
      "source": [
        "test.info()"
      ],
      "metadata": {
        "colab": {
          "base_uri": "https://localhost:8080/"
        },
        "id": "b3cFhHFPKPQD",
        "outputId": "890293fe-a41b-450a-e8ca-c3e07a9e269a"
      },
      "execution_count": 8,
      "outputs": [
        {
          "output_type": "stream",
          "name": "stdout",
          "text": [
            "<class 'pandas.core.frame.DataFrame'>\n",
            "RangeIndex: 24 entries, 0 to 23\n",
            "Data columns (total 5 columns):\n",
            " #   Column    Non-Null Count  Dtype  \n",
            "---  ------    --------------  -----  \n",
            " 0   year      24 non-null     int64  \n",
            " 1   avgTemp   24 non-null     float64\n",
            " 2   minTemp   24 non-null     float64\n",
            " 3   maxTemp   24 non-null     float64\n",
            " 4   rainFall  24 non-null     float64\n",
            "dtypes: float64(4), int64(1)\n",
            "memory usage: 1.1 KB\n"
          ]
        }
      ]
    },
    {
      "cell_type": "code",
      "source": [
        "train['year']=train['year'].astype('str')\n",
        "test['year']=test['year'].astype('str')"
      ],
      "metadata": {
        "id": "po11r9QiKTeC"
      },
      "execution_count": 9,
      "outputs": []
    },
    {
      "cell_type": "code",
      "source": [
        "train[\"month\"]=train[\"year\"].str[4:6]\n",
        "train[\"day\"]=train[\"year\"].str[7]\n",
        "train[\"year1\"]=train[\"year\"].str[0:4]\n"
      ],
      "metadata": {
        "id": "LY1cJtMpZeDU"
      },
      "execution_count": 10,
      "outputs": []
    },
    {
      "cell_type": "code",
      "source": [
        "test[\"month\"]=test[\"year\"].str[4:6]\n",
        "test[\"day\"]=test[\"year\"].str[7]\n",
        "test[\"year1\"]=test[\"year\"].str[0:4]"
      ],
      "metadata": {
        "id": "7GvNpPbrLUxY"
      },
      "execution_count": 11,
      "outputs": []
    },
    {
      "cell_type": "code",
      "source": [
        "train.info()"
      ],
      "metadata": {
        "colab": {
          "base_uri": "https://localhost:8080/"
        },
        "id": "q2BnmnEXM9Hy",
        "outputId": "b20a98e1-9664-4109-b120-5da7e2be26a3"
      },
      "execution_count": null,
      "outputs": [
        {
          "output_type": "stream",
          "name": "stdout",
          "text": [
            "<class 'pandas.core.frame.DataFrame'>\n",
            "RangeIndex: 2557 entries, 0 to 2556\n",
            "Data columns (total 9 columns):\n",
            " #   Column    Non-Null Count  Dtype  \n",
            "---  ------    --------------  -----  \n",
            " 0   year      2557 non-null   object \n",
            " 1   avgTemp   2557 non-null   float64\n",
            " 2   minTemp   2557 non-null   float64\n",
            " 3   maxTemp   2557 non-null   float64\n",
            " 4   rainFall  2557 non-null   float64\n",
            " 5   avgPrice  2557 non-null   int64  \n",
            " 6   month     2557 non-null   object \n",
            " 7   day       2557 non-null   object \n",
            " 8   year1     2557 non-null   object \n",
            "dtypes: float64(4), int64(1), object(4)\n",
            "memory usage: 179.9+ KB\n"
          ]
        }
      ]
    },
    {
      "cell_type": "code",
      "source": [
        "test.info()"
      ],
      "metadata": {
        "colab": {
          "base_uri": "https://localhost:8080/"
        },
        "id": "4ruizEvONHvo",
        "outputId": "71bae199-2bf8-4ed8-e9cc-e125c75898f9"
      },
      "execution_count": null,
      "outputs": [
        {
          "output_type": "stream",
          "name": "stdout",
          "text": [
            "<class 'pandas.core.frame.DataFrame'>\n",
            "RangeIndex: 24 entries, 0 to 23\n",
            "Data columns (total 8 columns):\n",
            " #   Column    Non-Null Count  Dtype  \n",
            "---  ------    --------------  -----  \n",
            " 0   year      24 non-null     object \n",
            " 1   avgTemp   24 non-null     float64\n",
            " 2   minTemp   24 non-null     float64\n",
            " 3   maxTemp   24 non-null     float64\n",
            " 4   rainFall  24 non-null     float64\n",
            " 5   month     24 non-null     object \n",
            " 6   day       24 non-null     object \n",
            " 7   year1     24 non-null     object \n",
            "dtypes: float64(4), object(4)\n",
            "memory usage: 1.6+ KB\n"
          ]
        }
      ]
    },
    {
      "cell_type": "code",
      "source": [
        "train.drop('year',axis=1,inplace=True)\n",
        "test.drop('year',axis=1,inplace=True)"
      ],
      "metadata": {
        "id": "YENSvBl2NIMo"
      },
      "execution_count": 12,
      "outputs": []
    },
    {
      "cell_type": "code",
      "source": [
        "train['year1']=train['year1'].astype('int')\n",
        "train['month']=train['month'].astype('int')\n",
        "train['day']=train['day'].astype('int')\n",
        "\n",
        "test['year1']=test['year1'].astype('int')\n",
        "test['month']=test['month'].astype('int')\n",
        "test['day']=test['day'].astype('int')"
      ],
      "metadata": {
        "id": "NaM_ye8DNPGp"
      },
      "execution_count": 13,
      "outputs": []
    },
    {
      "cell_type": "code",
      "source": [
        "train.head()"
      ],
      "metadata": {
        "colab": {
          "base_uri": "https://localhost:8080/",
          "height": 206
        },
        "id": "Nxwd5SnUPiGo",
        "outputId": "bca44c86-813b-4dfc-af92-27588c54ac64"
      },
      "execution_count": 14,
      "outputs": [
        {
          "output_type": "execute_result",
          "data": {
            "text/html": [
              "\n",
              "  <div id=\"df-7a568d55-a4cf-41ff-bec0-01f974fa3bdb\">\n",
              "    <div class=\"colab-df-container\">\n",
              "      <div>\n",
              "<style scoped>\n",
              "    .dataframe tbody tr th:only-of-type {\n",
              "        vertical-align: middle;\n",
              "    }\n",
              "\n",
              "    .dataframe tbody tr th {\n",
              "        vertical-align: top;\n",
              "    }\n",
              "\n",
              "    .dataframe thead th {\n",
              "        text-align: right;\n",
              "    }\n",
              "</style>\n",
              "<table border=\"1\" class=\"dataframe\">\n",
              "  <thead>\n",
              "    <tr style=\"text-align: right;\">\n",
              "      <th></th>\n",
              "      <th>avgTemp</th>\n",
              "      <th>minTemp</th>\n",
              "      <th>maxTemp</th>\n",
              "      <th>rainFall</th>\n",
              "      <th>avgPrice</th>\n",
              "      <th>month</th>\n",
              "      <th>day</th>\n",
              "      <th>year1</th>\n",
              "    </tr>\n",
              "  </thead>\n",
              "  <tbody>\n",
              "    <tr>\n",
              "      <th>0</th>\n",
              "      <td>-4.9</td>\n",
              "      <td>-11.0</td>\n",
              "      <td>0.9</td>\n",
              "      <td>0.0</td>\n",
              "      <td>2123</td>\n",
              "      <td>1</td>\n",
              "      <td>1</td>\n",
              "      <td>2010</td>\n",
              "    </tr>\n",
              "    <tr>\n",
              "      <th>1</th>\n",
              "      <td>-3.1</td>\n",
              "      <td>-5.5</td>\n",
              "      <td>5.5</td>\n",
              "      <td>0.8</td>\n",
              "      <td>2123</td>\n",
              "      <td>1</td>\n",
              "      <td>2</td>\n",
              "      <td>2010</td>\n",
              "    </tr>\n",
              "    <tr>\n",
              "      <th>2</th>\n",
              "      <td>-2.9</td>\n",
              "      <td>-6.9</td>\n",
              "      <td>1.4</td>\n",
              "      <td>0.0</td>\n",
              "      <td>2123</td>\n",
              "      <td>1</td>\n",
              "      <td>3</td>\n",
              "      <td>2010</td>\n",
              "    </tr>\n",
              "    <tr>\n",
              "      <th>3</th>\n",
              "      <td>-1.8</td>\n",
              "      <td>-5.1</td>\n",
              "      <td>2.2</td>\n",
              "      <td>5.9</td>\n",
              "      <td>2020</td>\n",
              "      <td>1</td>\n",
              "      <td>4</td>\n",
              "      <td>2010</td>\n",
              "    </tr>\n",
              "    <tr>\n",
              "      <th>4</th>\n",
              "      <td>-5.2</td>\n",
              "      <td>-8.7</td>\n",
              "      <td>-1.8</td>\n",
              "      <td>0.7</td>\n",
              "      <td>2060</td>\n",
              "      <td>1</td>\n",
              "      <td>5</td>\n",
              "      <td>2010</td>\n",
              "    </tr>\n",
              "  </tbody>\n",
              "</table>\n",
              "</div>\n",
              "      <button class=\"colab-df-convert\" onclick=\"convertToInteractive('df-7a568d55-a4cf-41ff-bec0-01f974fa3bdb')\"\n",
              "              title=\"Convert this dataframe to an interactive table.\"\n",
              "              style=\"display:none;\">\n",
              "        \n",
              "  <svg xmlns=\"http://www.w3.org/2000/svg\" height=\"24px\"viewBox=\"0 0 24 24\"\n",
              "       width=\"24px\">\n",
              "    <path d=\"M0 0h24v24H0V0z\" fill=\"none\"/>\n",
              "    <path d=\"M18.56 5.44l.94 2.06.94-2.06 2.06-.94-2.06-.94-.94-2.06-.94 2.06-2.06.94zm-11 1L8.5 8.5l.94-2.06 2.06-.94-2.06-.94L8.5 2.5l-.94 2.06-2.06.94zm10 10l.94 2.06.94-2.06 2.06-.94-2.06-.94-.94-2.06-.94 2.06-2.06.94z\"/><path d=\"M17.41 7.96l-1.37-1.37c-.4-.4-.92-.59-1.43-.59-.52 0-1.04.2-1.43.59L10.3 9.45l-7.72 7.72c-.78.78-.78 2.05 0 2.83L4 21.41c.39.39.9.59 1.41.59.51 0 1.02-.2 1.41-.59l7.78-7.78 2.81-2.81c.8-.78.8-2.07 0-2.86zM5.41 20L4 18.59l7.72-7.72 1.47 1.35L5.41 20z\"/>\n",
              "  </svg>\n",
              "      </button>\n",
              "      \n",
              "  <style>\n",
              "    .colab-df-container {\n",
              "      display:flex;\n",
              "      flex-wrap:wrap;\n",
              "      gap: 12px;\n",
              "    }\n",
              "\n",
              "    .colab-df-convert {\n",
              "      background-color: #E8F0FE;\n",
              "      border: none;\n",
              "      border-radius: 50%;\n",
              "      cursor: pointer;\n",
              "      display: none;\n",
              "      fill: #1967D2;\n",
              "      height: 32px;\n",
              "      padding: 0 0 0 0;\n",
              "      width: 32px;\n",
              "    }\n",
              "\n",
              "    .colab-df-convert:hover {\n",
              "      background-color: #E2EBFA;\n",
              "      box-shadow: 0px 1px 2px rgba(60, 64, 67, 0.3), 0px 1px 3px 1px rgba(60, 64, 67, 0.15);\n",
              "      fill: #174EA6;\n",
              "    }\n",
              "\n",
              "    [theme=dark] .colab-df-convert {\n",
              "      background-color: #3B4455;\n",
              "      fill: #D2E3FC;\n",
              "    }\n",
              "\n",
              "    [theme=dark] .colab-df-convert:hover {\n",
              "      background-color: #434B5C;\n",
              "      box-shadow: 0px 1px 3px 1px rgba(0, 0, 0, 0.15);\n",
              "      filter: drop-shadow(0px 1px 2px rgba(0, 0, 0, 0.3));\n",
              "      fill: #FFFFFF;\n",
              "    }\n",
              "  </style>\n",
              "\n",
              "      <script>\n",
              "        const buttonEl =\n",
              "          document.querySelector('#df-7a568d55-a4cf-41ff-bec0-01f974fa3bdb button.colab-df-convert');\n",
              "        buttonEl.style.display =\n",
              "          google.colab.kernel.accessAllowed ? 'block' : 'none';\n",
              "\n",
              "        async function convertToInteractive(key) {\n",
              "          const element = document.querySelector('#df-7a568d55-a4cf-41ff-bec0-01f974fa3bdb');\n",
              "          const dataTable =\n",
              "            await google.colab.kernel.invokeFunction('convertToInteractive',\n",
              "                                                     [key], {});\n",
              "          if (!dataTable) return;\n",
              "\n",
              "          const docLinkHtml = 'Like what you see? Visit the ' +\n",
              "            '<a target=\"_blank\" href=https://colab.research.google.com/notebooks/data_table.ipynb>data table notebook</a>'\n",
              "            + ' to learn more about interactive tables.';\n",
              "          element.innerHTML = '';\n",
              "          dataTable['output_type'] = 'display_data';\n",
              "          await google.colab.output.renderOutput(dataTable, element);\n",
              "          const docLink = document.createElement('div');\n",
              "          docLink.innerHTML = docLinkHtml;\n",
              "          element.appendChild(docLink);\n",
              "        }\n",
              "      </script>\n",
              "    </div>\n",
              "  </div>\n",
              "  "
            ],
            "text/plain": [
              "   avgTemp  minTemp  maxTemp  rainFall  avgPrice  month  day  year1\n",
              "0     -4.9    -11.0      0.9       0.0      2123      1    1   2010\n",
              "1     -3.1     -5.5      5.5       0.8      2123      1    2   2010\n",
              "2     -2.9     -6.9      1.4       0.0      2123      1    3   2010\n",
              "3     -1.8     -5.1      2.2       5.9      2020      1    4   2010\n",
              "4     -5.2     -8.7     -1.8       0.7      2060      1    5   2010"
            ]
          },
          "metadata": {},
          "execution_count": 14
        }
      ]
    },
    {
      "cell_type": "code",
      "source": [
        "test.head()"
      ],
      "metadata": {
        "colab": {
          "base_uri": "https://localhost:8080/",
          "height": 206
        },
        "id": "Vg6PKondjPph",
        "outputId": "87a35cbb-bb25-4341-bbdb-d8724c46ca97"
      },
      "execution_count": 27,
      "outputs": [
        {
          "output_type": "execute_result",
          "data": {
            "text/html": [
              "\n",
              "  <div id=\"df-2d74a398-698b-45a5-8765-adc7b478cef0\">\n",
              "    <div class=\"colab-df-container\">\n",
              "      <div>\n",
              "<style scoped>\n",
              "    .dataframe tbody tr th:only-of-type {\n",
              "        vertical-align: middle;\n",
              "    }\n",
              "\n",
              "    .dataframe tbody tr th {\n",
              "        vertical-align: top;\n",
              "    }\n",
              "\n",
              "    .dataframe thead th {\n",
              "        text-align: right;\n",
              "    }\n",
              "</style>\n",
              "<table border=\"1\" class=\"dataframe\">\n",
              "  <thead>\n",
              "    <tr style=\"text-align: right;\">\n",
              "      <th></th>\n",
              "      <th>avgTemp</th>\n",
              "      <th>minTemp</th>\n",
              "      <th>maxTemp</th>\n",
              "      <th>rainFall</th>\n",
              "      <th>month</th>\n",
              "      <th>day</th>\n",
              "      <th>year1</th>\n",
              "    </tr>\n",
              "  </thead>\n",
              "  <tbody>\n",
              "    <tr>\n",
              "      <th>0</th>\n",
              "      <td>4.0</td>\n",
              "      <td>-1.4</td>\n",
              "      <td>9.5</td>\n",
              "      <td>0.1</td>\n",
              "      <td>1</td>\n",
              "      <td>7</td>\n",
              "      <td>2017</td>\n",
              "    </tr>\n",
              "    <tr>\n",
              "      <th>1</th>\n",
              "      <td>-1.7</td>\n",
              "      <td>-5.4</td>\n",
              "      <td>1.4</td>\n",
              "      <td>3.3</td>\n",
              "      <td>1</td>\n",
              "      <td>0</td>\n",
              "      <td>2017</td>\n",
              "    </tr>\n",
              "    <tr>\n",
              "      <th>2</th>\n",
              "      <td>1.4</td>\n",
              "      <td>-2.0</td>\n",
              "      <td>5.0</td>\n",
              "      <td>0.0</td>\n",
              "      <td>2</td>\n",
              "      <td>3</td>\n",
              "      <td>2017</td>\n",
              "    </tr>\n",
              "    <tr>\n",
              "      <th>3</th>\n",
              "      <td>3.6</td>\n",
              "      <td>-2.5</td>\n",
              "      <td>11.1</td>\n",
              "      <td>0.1</td>\n",
              "      <td>2</td>\n",
              "      <td>7</td>\n",
              "      <td>2017</td>\n",
              "    </tr>\n",
              "    <tr>\n",
              "      <th>4</th>\n",
              "      <td>5.0</td>\n",
              "      <td>-1.6</td>\n",
              "      <td>11.3</td>\n",
              "      <td>0.0</td>\n",
              "      <td>3</td>\n",
              "      <td>9</td>\n",
              "      <td>2017</td>\n",
              "    </tr>\n",
              "  </tbody>\n",
              "</table>\n",
              "</div>\n",
              "      <button class=\"colab-df-convert\" onclick=\"convertToInteractive('df-2d74a398-698b-45a5-8765-adc7b478cef0')\"\n",
              "              title=\"Convert this dataframe to an interactive table.\"\n",
              "              style=\"display:none;\">\n",
              "        \n",
              "  <svg xmlns=\"http://www.w3.org/2000/svg\" height=\"24px\"viewBox=\"0 0 24 24\"\n",
              "       width=\"24px\">\n",
              "    <path d=\"M0 0h24v24H0V0z\" fill=\"none\"/>\n",
              "    <path d=\"M18.56 5.44l.94 2.06.94-2.06 2.06-.94-2.06-.94-.94-2.06-.94 2.06-2.06.94zm-11 1L8.5 8.5l.94-2.06 2.06-.94-2.06-.94L8.5 2.5l-.94 2.06-2.06.94zm10 10l.94 2.06.94-2.06 2.06-.94-2.06-.94-.94-2.06-.94 2.06-2.06.94z\"/><path d=\"M17.41 7.96l-1.37-1.37c-.4-.4-.92-.59-1.43-.59-.52 0-1.04.2-1.43.59L10.3 9.45l-7.72 7.72c-.78.78-.78 2.05 0 2.83L4 21.41c.39.39.9.59 1.41.59.51 0 1.02-.2 1.41-.59l7.78-7.78 2.81-2.81c.8-.78.8-2.07 0-2.86zM5.41 20L4 18.59l7.72-7.72 1.47 1.35L5.41 20z\"/>\n",
              "  </svg>\n",
              "      </button>\n",
              "      \n",
              "  <style>\n",
              "    .colab-df-container {\n",
              "      display:flex;\n",
              "      flex-wrap:wrap;\n",
              "      gap: 12px;\n",
              "    }\n",
              "\n",
              "    .colab-df-convert {\n",
              "      background-color: #E8F0FE;\n",
              "      border: none;\n",
              "      border-radius: 50%;\n",
              "      cursor: pointer;\n",
              "      display: none;\n",
              "      fill: #1967D2;\n",
              "      height: 32px;\n",
              "      padding: 0 0 0 0;\n",
              "      width: 32px;\n",
              "    }\n",
              "\n",
              "    .colab-df-convert:hover {\n",
              "      background-color: #E2EBFA;\n",
              "      box-shadow: 0px 1px 2px rgba(60, 64, 67, 0.3), 0px 1px 3px 1px rgba(60, 64, 67, 0.15);\n",
              "      fill: #174EA6;\n",
              "    }\n",
              "\n",
              "    [theme=dark] .colab-df-convert {\n",
              "      background-color: #3B4455;\n",
              "      fill: #D2E3FC;\n",
              "    }\n",
              "\n",
              "    [theme=dark] .colab-df-convert:hover {\n",
              "      background-color: #434B5C;\n",
              "      box-shadow: 0px 1px 3px 1px rgba(0, 0, 0, 0.15);\n",
              "      filter: drop-shadow(0px 1px 2px rgba(0, 0, 0, 0.3));\n",
              "      fill: #FFFFFF;\n",
              "    }\n",
              "  </style>\n",
              "\n",
              "      <script>\n",
              "        const buttonEl =\n",
              "          document.querySelector('#df-2d74a398-698b-45a5-8765-adc7b478cef0 button.colab-df-convert');\n",
              "        buttonEl.style.display =\n",
              "          google.colab.kernel.accessAllowed ? 'block' : 'none';\n",
              "\n",
              "        async function convertToInteractive(key) {\n",
              "          const element = document.querySelector('#df-2d74a398-698b-45a5-8765-adc7b478cef0');\n",
              "          const dataTable =\n",
              "            await google.colab.kernel.invokeFunction('convertToInteractive',\n",
              "                                                     [key], {});\n",
              "          if (!dataTable) return;\n",
              "\n",
              "          const docLinkHtml = 'Like what you see? Visit the ' +\n",
              "            '<a target=\"_blank\" href=https://colab.research.google.com/notebooks/data_table.ipynb>data table notebook</a>'\n",
              "            + ' to learn more about interactive tables.';\n",
              "          element.innerHTML = '';\n",
              "          dataTable['output_type'] = 'display_data';\n",
              "          await google.colab.output.renderOutput(dataTable, element);\n",
              "          const docLink = document.createElement('div');\n",
              "          docLink.innerHTML = docLinkHtml;\n",
              "          element.appendChild(docLink);\n",
              "        }\n",
              "      </script>\n",
              "    </div>\n",
              "  </div>\n",
              "  "
            ],
            "text/plain": [
              "   avgTemp  minTemp  maxTemp  rainFall  month  day  year1\n",
              "0      4.0     -1.4      9.5       0.1      1    7   2017\n",
              "1     -1.7     -5.4      1.4       3.3      1    0   2017\n",
              "2      1.4     -2.0      5.0       0.0      2    3   2017\n",
              "3      3.6     -2.5     11.1       0.1      2    7   2017\n",
              "4      5.0     -1.6     11.3       0.0      3    9   2017"
            ]
          },
          "metadata": {},
          "execution_count": 27
        }
      ]
    },
    {
      "cell_type": "code",
      "source": [
        "sns.lineplot(data=train,x='year1',y='avgPrice')"
      ],
      "metadata": {
        "colab": {
          "base_uri": "https://localhost:8080/",
          "height": 301
        },
        "id": "wKEUojMfP7Kd",
        "outputId": "9c3e857b-3236-490f-f4ab-c1a22d6f7a58"
      },
      "execution_count": null,
      "outputs": [
        {
          "output_type": "execute_result",
          "data": {
            "text/plain": [
              "<matplotlib.axes._subplots.AxesSubplot at 0x7feeb469e890>"
            ]
          },
          "metadata": {},
          "execution_count": 71
        },
        {
          "output_type": "display_data",
          "data": {
            "image/png": "[encoded data removed]",
            "text/plain": [
              "<Figure size 432x288 with 1 Axes>"
            ]
          },
          "metadata": {
            "needs_background": "light"
          }
        }
      ]
    },
    {
      "cell_type": "markdown",
      "source": [
        "2010년과 2016년에 무슨일이..! 배춧값이 엄청나다!"
      ],
      "metadata": {
        "id": "7BFaaeuVeFpK"
      }
    },
    {
      "cell_type": "code",
      "source": [
        "sns.lineplot(data=train,x='month',y='avgPrice')"
      ],
      "metadata": {
        "colab": {
          "base_uri": "https://localhost:8080/",
          "height": 300
        },
        "id": "TbSUbF_PbO3w",
        "outputId": "b27a8e64-0bd8-41df-fc58-5dfe831bba62"
      },
      "execution_count": null,
      "outputs": [
        {
          "output_type": "execute_result",
          "data": {
            "text/plain": [
              "<matplotlib.axes._subplots.AxesSubplot at 0x7feeb4630590>"
            ]
          },
          "metadata": {},
          "execution_count": 72
        },
        {
          "output_type": "display_data",
          "data": {
            "image/png": "[encoded data removed]",
            "text/plain": [
              "<Figure size 432x288 with 1 Axes>"
            ]
          },
          "metadata": {
            "needs_background": "light"
          }
        }
      ]
    },
    {
      "cell_type": "markdown",
      "source": [
        "왜 9월에 배춧값이 보통 높은거지"
      ],
      "metadata": {
        "id": "PC3P3_LeeAYn"
      }
    },
    {
      "cell_type": "code",
      "source": [
        "train.columns"
      ],
      "metadata": {
        "colab": {
          "base_uri": "https://localhost:8080/"
        },
        "id": "B2By0FhjeQGp",
        "outputId": "f9b7e6b6-1163-458b-bb32-0ca0d30381bf"
      },
      "execution_count": null,
      "outputs": [
        {
          "output_type": "execute_result",
          "data": {
            "text/plain": [
              "Index(['avgTemp', 'minTemp', 'maxTemp', 'rainFall', 'avgPrice', 'month', 'day',\n",
              "       'year1'],\n",
              "      dtype='object')"
            ]
          },
          "metadata": {},
          "execution_count": 73
        }
      ]
    },
    {
      "cell_type": "code",
      "source": [
        "sns.histplot(data=train,x='avgTemp')"
      ],
      "metadata": {
        "colab": {
          "base_uri": "https://localhost:8080/",
          "height": 303
        },
        "id": "Ky6PVViKd-wg",
        "outputId": "8cff9ef9-94e3-4849-eac6-a3d04d91ec64"
      },
      "execution_count": null,
      "outputs": [
        {
          "output_type": "execute_result",
          "data": {
            "text/plain": [
              "<matplotlib.axes._subplots.AxesSubplot at 0x7feeb45c1350>"
            ]
          },
          "metadata": {},
          "execution_count": 74
        },
        {
          "output_type": "display_data",
          "data": {
            "image/png": "[encoded data removed]",
            "text/plain": [
              "<Figure size 432x288 with 1 Axes>"
            ]
          },
          "metadata": {
            "needs_background": "light"
          }
        }
      ]
    },
    {
      "cell_type": "code",
      "source": [
        "sns.histplot(data=train,x='minTemp')"
      ],
      "metadata": {
        "colab": {
          "base_uri": "https://localhost:8080/",
          "height": 300
        },
        "id": "NuzFOAmMeUoC",
        "outputId": "a30d07a3-62ea-42b9-ad55-fc7714858836"
      },
      "execution_count": null,
      "outputs": [
        {
          "output_type": "execute_result",
          "data": {
            "text/plain": [
              "<matplotlib.axes._subplots.AxesSubplot at 0x7feeb4529990>"
            ]
          },
          "metadata": {},
          "execution_count": 75
        },
        {
          "output_type": "display_data",
          "data": {
            "image/png": "[encoded data removed]",
            "text/plain": [
              "<Figure size 432x288 with 1 Axes>"
            ]
          },
          "metadata": {
            "needs_background": "light"
          }
        }
      ]
    },
    {
      "cell_type": "code",
      "source": [
        "sns.histplot(data=train,x='maxTemp')\n"
      ],
      "metadata": {
        "colab": {
          "base_uri": "https://localhost:8080/",
          "height": 300
        },
        "id": "d55RrxGDeYIQ",
        "outputId": "9a2bd01c-323d-4dd0-cdb2-971f39621533"
      },
      "execution_count": null,
      "outputs": [
        {
          "output_type": "execute_result",
          "data": {
            "text/plain": [
              "<matplotlib.axes._subplots.AxesSubplot at 0x7feeb447ff50>"
            ]
          },
          "metadata": {},
          "execution_count": 76
        },
        {
          "output_type": "display_data",
          "data": {
            "image/png": "[encoded data removed]",
            "text/plain": [
              "<Figure size 432x288 with 1 Axes>"
            ]
          },
          "metadata": {
            "needs_background": "light"
          }
        }
      ]
    },
    {
      "cell_type": "code",
      "source": [
        "sns.histplot(data=train,x='rainFall')"
      ],
      "metadata": {
        "colab": {
          "base_uri": "https://localhost:8080/",
          "height": 300
        },
        "id": "LShxM3M-ecnM",
        "outputId": "c0447527-99c9-4949-ea3d-0ff84a9b4533"
      },
      "execution_count": null,
      "outputs": [
        {
          "output_type": "execute_result",
          "data": {
            "text/plain": [
              "<matplotlib.axes._subplots.AxesSubplot at 0x7feeb43a3d10>"
            ]
          },
          "metadata": {},
          "execution_count": 77
        },
        {
          "output_type": "display_data",
          "data": {
            "image/png": "[encoded data removed]",
            "text/plain": [
              "<Figure size 432x288 with 1 Axes>"
            ]
          },
          "metadata": {
            "needs_background": "light"
          }
        }
      ]
    },
    {
      "cell_type": "code",
      "source": [
        "sns.boxplot(data=train,x='rainFall')"
      ],
      "metadata": {
        "colab": {
          "base_uri": "https://localhost:8080/",
          "height": 300
        },
        "id": "-rlwNFagfVSF",
        "outputId": "8a938a66-af29-4baf-e7fb-5f2a0d70c1c0"
      },
      "execution_count": null,
      "outputs": [
        {
          "output_type": "execute_result",
          "data": {
            "text/plain": [
              "<matplotlib.axes._subplots.AxesSubplot at 0x7feeb3f80dd0>"
            ]
          },
          "metadata": {},
          "execution_count": 81
        },
        {
          "output_type": "display_data",
          "data": {
            "image/png": "[encoded data removed]",
            "text/plain": [
              "<Figure size 432x288 with 1 Axes>"
            ]
          },
          "metadata": {
            "needs_background": "light"
          }
        }
      ]
    },
    {
      "cell_type": "markdown",
      "source": [
        "이상치를 없애야 할까..?"
      ],
      "metadata": {
        "id": "amBaklm3fbHJ"
      }
    },
    {
      "cell_type": "code",
      "source": [
        "sns.lineplot(data=train,\n",
        "             x='year1',\n",
        "             y='rainFall')"
      ],
      "metadata": {
        "colab": {
          "base_uri": "https://localhost:8080/",
          "height": 300
        },
        "id": "40R0-eVPe1yb",
        "outputId": "324cec7a-023d-4cb1-f4f7-2159b1abf33d"
      },
      "execution_count": null,
      "outputs": [
        {
          "output_type": "execute_result",
          "data": {
            "text/plain": [
              "<matplotlib.axes._subplots.AxesSubplot at 0x7feeb4708690>"
            ]
          },
          "metadata": {},
          "execution_count": 79
        },
        {
          "output_type": "display_data",
          "data": {
            "image/png": "[encoded data removed]",
            "text/plain": [
              "<Figure size 432x288 with 1 Axes>"
            ]
          },
          "metadata": {
            "needs_background": "light"
          }
        }
      ]
    },
    {
      "cell_type": "code",
      "source": [
        "sns.lineplot(data=train,\n",
        "             x='month',\n",
        "             y='rainFall')"
      ],
      "metadata": {
        "colab": {
          "base_uri": "https://localhost:8080/",
          "height": 300
        },
        "id": "VDMjfIe1e7mz",
        "outputId": "e57faa91-0af4-4154-a7b0-34563813e9e5"
      },
      "execution_count": null,
      "outputs": [
        {
          "output_type": "execute_result",
          "data": {
            "text/plain": [
              "<matplotlib.axes._subplots.AxesSubplot at 0x7feeb3fe6490>"
            ]
          },
          "metadata": {},
          "execution_count": 80
        },
        {
          "output_type": "display_data",
          "data": {
            "image/png": "[encoded data removed]",
            "text/plain": [
              "<Figure size 432x288 with 1 Axes>"
            ]
          },
          "metadata": {
            "needs_background": "light"
          }
        }
      ]
    },
    {
      "cell_type": "markdown",
      "source": [
        "강수량과, 배춧값은 어느정도 연관성이 있어보인다. 강수량이 6월에서 8월 사이에 장마로 많은데 배춧값은 9월쯤에 가장 비싸다"
      ],
      "metadata": {
        "id": "hwWFHEcmfMrf"
      }
    },
    {
      "cell_type": "code",
      "source": [
        "plt.figure()\n",
        "sns.heatmap(train.corr(),annot=True)"
      ],
      "metadata": {
        "colab": {
          "base_uri": "https://localhost:8080/",
          "height": 325
        },
        "id": "NQ1bvHqOfeUh",
        "outputId": "b45b12aa-d819-442f-d8fa-2de2ff201728"
      },
      "execution_count": null,
      "outputs": [
        {
          "output_type": "execute_result",
          "data": {
            "text/plain": [
              "<matplotlib.axes._subplots.AxesSubplot at 0x7feeb3f34f90>"
            ]
          },
          "metadata": {},
          "execution_count": 85
        },
        {
          "output_type": "display_data",
          "data": {
            "image/png": "[encoded data removed]",
            "text/plain": [
              "<Figure size 432x288 with 2 Axes>"
            ]
          },
          "metadata": {
            "needs_background": "light"
          }
        }
      ]
    },
    {
      "cell_type": "markdown",
      "source": [
        "## Matrix Data Representation"
      ],
      "metadata": {
        "id": "MnNdcw8CZQEJ"
      }
    },
    {
      "cell_type": "code",
      "source": [
        "import torch\n",
        "import torch.optim as optim\n",
        "\n",
        "torch.manual_seed(1)"
      ],
      "metadata": {
        "id": "N30eal_qfejv",
        "colab": {
          "base_uri": "https://localhost:8080/"
        },
        "outputId": "489e5696-1fe1-462c-b7cf-bf1123d6a432"
      },
      "execution_count": 15,
      "outputs": [
        {
          "output_type": "execute_result",
          "data": {
            "text/plain": [
              "<torch._C.Generator at 0x7f72802df650>"
            ]
          },
          "metadata": {},
          "execution_count": 15
        }
      ]
    },
    {
      "cell_type": "code",
      "source": [
        "xt=train.drop('avgPrice',axis=1)\n",
        "yt=train['avgPrice']\n",
        "xt=test"
      ],
      "metadata": {
        "id": "wQORuZj3jmGk"
      },
      "execution_count": 28,
      "outputs": []
    },
    {
      "cell_type": "code",
      "source": [
        "x_train = torch.Tensor(np.array(xt))\n",
        "y_train = torch.Tensor(np.array(yt))\n",
        "x_test = torch.Tensor(np.array(xt))"
      ],
      "metadata": {
        "id": "fivDZYvDfKB3"
      },
      "execution_count": 29,
      "outputs": []
    },
    {
      "cell_type": "code",
      "source": [
        "# 모델 초기화\n",
        "W = torch.zeros((7,1), requires_grad=True)\n",
        "b = torch.zeros(1, requires_grad=True)\n",
        "\n",
        "# optimizer 설정\n",
        "optimizer = optim.SGD([W, b], lr=0.0000001)\n",
        "\n",
        "\n",
        "nb_epochs = 10000\n",
        "\n",
        "for epoch in range(nb_epochs + 1):\n",
        "\n",
        "    # H(x) 계산\n",
        "    # Matrix 연산!!\n",
        "    hypothesis = x_train.matmul(W) + b # or .mm or @\n",
        "    \n",
        "    # cost 계산\n",
        "    cost = torch.mean((hypothesis - y_train) ** 2)\n",
        "\n",
        "    # cost로 H(x) 개선\n",
        "    optimizer.zero_grad()\n",
        "    cost.backward()\n",
        "    optimizer.step()\n",
        "    \n",
        "    if epoch % 100 == 0:\n",
        "        print('Epoch {:4d}/{} Cost: {:.6f}'.format(\n",
        "            epoch, nb_epochs, cost.item()\n",
        "        ))"
      ],
      "metadata": {
        "colab": {
          "base_uri": "https://localhost:8080/"
        },
        "id": "J3Txseb6bfc-",
        "outputId": "5dc407ca-f20c-4ff5-a655-9a2b66f081fe"
      },
      "execution_count": 45,
      "outputs": [
        {
          "output_type": "stream",
          "name": "stdout",
          "text": [
            "Epoch    0/10000 Cost: 12013343.000000\n",
            "Epoch  100/10000 Cost: 1810349.750000\n",
            "Epoch  200/10000 Cost: 1810349.875000\n",
            "Epoch  300/10000 Cost: 1810349.750000\n",
            "Epoch  400/10000 Cost: 1810349.875000\n",
            "Epoch  500/10000 Cost: 1810349.875000\n",
            "Epoch  600/10000 Cost: 1810349.875000\n",
            "Epoch  700/10000 Cost: 1810349.750000\n",
            "Epoch  800/10000 Cost: 1810349.750000\n",
            "Epoch  900/10000 Cost: 1810349.750000\n",
            "Epoch 1000/10000 Cost: 1810349.750000\n",
            "Epoch 1100/10000 Cost: 1810349.875000\n",
            "Epoch 1200/10000 Cost: 1810349.750000\n",
            "Epoch 1300/10000 Cost: 1810349.750000\n",
            "Epoch 1400/10000 Cost: 1810349.750000\n",
            "Epoch 1500/10000 Cost: 1810349.750000\n",
            "Epoch 1600/10000 Cost: 1810349.750000\n",
            "Epoch 1700/10000 Cost: 1810349.750000\n",
            "Epoch 1800/10000 Cost: 1810349.875000\n",
            "Epoch 1900/10000 Cost: 1810349.750000\n",
            "Epoch 2000/10000 Cost: 1810349.750000\n",
            "Epoch 2100/10000 Cost: 1810349.750000\n",
            "Epoch 2200/10000 Cost: 1810349.750000\n",
            "Epoch 2300/10000 Cost: 1810349.750000\n",
            "Epoch 2400/10000 Cost: 1810349.750000\n",
            "Epoch 2500/10000 Cost: 1810349.750000\n",
            "Epoch 2600/10000 Cost: 1810349.750000\n",
            "Epoch 2700/10000 Cost: 1810349.750000\n",
            "Epoch 2800/10000 Cost: 1810349.750000\n",
            "Epoch 2900/10000 Cost: 1810349.750000\n",
            "Epoch 3000/10000 Cost: 1810349.750000\n",
            "Epoch 3100/10000 Cost: 1810349.750000\n",
            "Epoch 3200/10000 Cost: 1810349.750000\n",
            "Epoch 3300/10000 Cost: 1810349.750000\n",
            "Epoch 3400/10000 Cost: 1810349.875000\n",
            "Epoch 3500/10000 Cost: 1810349.750000\n",
            "Epoch 3600/10000 Cost: 1810349.750000\n",
            "Epoch 3700/10000 Cost: 1810349.750000\n",
            "Epoch 3800/10000 Cost: 1810349.750000\n",
            "Epoch 3900/10000 Cost: 1810349.750000\n",
            "Epoch 4000/10000 Cost: 1810349.875000\n",
            "Epoch 4100/10000 Cost: 1810349.750000\n",
            "Epoch 4200/10000 Cost: 1810349.750000\n",
            "Epoch 4300/10000 Cost: 1810349.750000\n",
            "Epoch 4400/10000 Cost: 1810349.750000\n",
            "Epoch 4500/10000 Cost: 1810349.750000\n",
            "Epoch 4600/10000 Cost: 1810349.750000\n",
            "Epoch 4700/10000 Cost: 1810349.750000\n",
            "Epoch 4800/10000 Cost: 1810349.875000\n",
            "Epoch 4900/10000 Cost: 1810349.750000\n",
            "Epoch 5000/10000 Cost: 1810349.750000\n",
            "Epoch 5100/10000 Cost: 1810349.750000\n",
            "Epoch 5200/10000 Cost: 1810349.750000\n",
            "Epoch 5300/10000 Cost: 1810349.750000\n",
            "Epoch 5400/10000 Cost: 1810349.750000\n",
            "Epoch 5500/10000 Cost: 1810349.750000\n",
            "Epoch 5600/10000 Cost: 1810349.750000\n",
            "Epoch 5700/10000 Cost: 1810349.750000\n",
            "Epoch 5800/10000 Cost: 1810349.750000\n",
            "Epoch 5900/10000 Cost: 1810349.750000\n",
            "Epoch 6000/10000 Cost: 1810349.750000\n",
            "Epoch 6100/10000 Cost: 1810349.750000\n",
            "Epoch 6200/10000 Cost: 1810349.750000\n",
            "Epoch 6300/10000 Cost: 1810349.750000\n",
            "Epoch 6400/10000 Cost: 1810349.750000\n",
            "Epoch 6500/10000 Cost: 1810349.750000\n",
            "Epoch 6600/10000 Cost: 1810349.750000\n",
            "Epoch 6700/10000 Cost: 1810349.750000\n",
            "Epoch 6800/10000 Cost: 1810349.750000\n",
            "Epoch 6900/10000 Cost: 1810349.750000\n",
            "Epoch 7000/10000 Cost: 1810349.750000\n",
            "Epoch 7100/10000 Cost: 1810349.750000\n",
            "Epoch 7200/10000 Cost: 1810349.750000\n",
            "Epoch 7300/10000 Cost: 1810349.750000\n",
            "Epoch 7400/10000 Cost: 1810349.750000\n",
            "Epoch 7500/10000 Cost: 1810349.750000\n",
            "Epoch 7600/10000 Cost: 1810349.750000\n",
            "Epoch 7700/10000 Cost: 1810349.750000\n",
            "Epoch 7800/10000 Cost: 1810349.750000\n",
            "Epoch 7900/10000 Cost: 1810349.750000\n",
            "Epoch 8000/10000 Cost: 1810349.750000\n",
            "Epoch 8100/10000 Cost: 1810349.750000\n",
            "Epoch 8200/10000 Cost: 1810349.750000\n",
            "Epoch 8300/10000 Cost: 1810349.750000\n",
            "Epoch 8400/10000 Cost: 1810349.750000\n",
            "Epoch 8500/10000 Cost: 1810349.750000\n",
            "Epoch 8600/10000 Cost: 1810349.750000\n",
            "Epoch 8700/10000 Cost: 1810349.750000\n",
            "Epoch 8800/10000 Cost: 1810349.750000\n",
            "Epoch 8900/10000 Cost: 1810349.750000\n",
            "Epoch 9000/10000 Cost: 1810349.750000\n",
            "Epoch 9100/10000 Cost: 1810349.750000\n",
            "Epoch 9200/10000 Cost: 1810349.750000\n",
            "Epoch 9300/10000 Cost: 1810349.750000\n",
            "Epoch 9400/10000 Cost: 1810349.750000\n",
            "Epoch 9500/10000 Cost: 1810349.750000\n",
            "Epoch 9600/10000 Cost: 1810349.750000\n",
            "Epoch 9700/10000 Cost: 1810349.750000\n",
            "Epoch 9800/10000 Cost: 1810349.750000\n",
            "Epoch 9900/10000 Cost: 1810349.750000\n",
            "Epoch 10000/10000 Cost: 1810349.750000\n"
          ]
        }
      ]
    },
    {
      "cell_type": "code",
      "source": [
        "predict = x_test.matmul(W) + b"
      ],
      "metadata": {
        "id": "nsTp0-AMcW1I"
      },
      "execution_count": 46,
      "outputs": []
    },
    {
      "cell_type": "code",
      "source": [
        "sample['Expected']=predict.detach().numpy()"
      ],
      "metadata": {
        "id": "V1uuXdGzkqy9"
      },
      "execution_count": 47,
      "outputs": []
    },
    {
      "cell_type": "code",
      "source": [
        "sample"
      ],
      "metadata": {
        "colab": {
          "base_uri": "https://localhost:8080/",
          "height": 802
        },
        "id": "EdTvArlskzxj",
        "outputId": "80f40bdc-8bd7-4b60-c548-20fec5c2cd33"
      },
      "execution_count": 48,
      "outputs": [
        {
          "output_type": "execute_result",
          "data": {
            "text/html": [
              "\n",
              "  <div id=\"df-a0f558cb-c97a-4334-9a1d-2d773c4ce51d\">\n",
              "    <div class=\"colab-df-container\">\n",
              "      <div>\n",
              "<style scoped>\n",
              "    .dataframe tbody tr th:only-of-type {\n",
              "        vertical-align: middle;\n",
              "    }\n",
              "\n",
              "    .dataframe tbody tr th {\n",
              "        vertical-align: top;\n",
              "    }\n",
              "\n",
              "    .dataframe thead th {\n",
              "        text-align: right;\n",
              "    }\n",
              "</style>\n",
              "<table border=\"1\" class=\"dataframe\">\n",
              "  <thead>\n",
              "    <tr style=\"text-align: right;\">\n",
              "      <th></th>\n",
              "      <th>Id</th>\n",
              "      <th>Expected</th>\n",
              "    </tr>\n",
              "  </thead>\n",
              "  <tbody>\n",
              "    <tr>\n",
              "      <th>0</th>\n",
              "      <td>0</td>\n",
              "      <td>3194.025635</td>\n",
              "    </tr>\n",
              "    <tr>\n",
              "      <th>1</th>\n",
              "      <td>1</td>\n",
              "      <td>3193.877930</td>\n",
              "    </tr>\n",
              "    <tr>\n",
              "      <th>2</th>\n",
              "      <td>2</td>\n",
              "      <td>3193.952881</td>\n",
              "    </tr>\n",
              "    <tr>\n",
              "      <th>3</th>\n",
              "      <td>3</td>\n",
              "      <td>3194.042236</td>\n",
              "    </tr>\n",
              "    <tr>\n",
              "      <th>4</th>\n",
              "      <td>4</td>\n",
              "      <td>3194.066650</td>\n",
              "    </tr>\n",
              "    <tr>\n",
              "      <th>5</th>\n",
              "      <td>5</td>\n",
              "      <td>3194.104980</td>\n",
              "    </tr>\n",
              "    <tr>\n",
              "      <th>6</th>\n",
              "      <td>6</td>\n",
              "      <td>3194.170410</td>\n",
              "    </tr>\n",
              "    <tr>\n",
              "      <th>7</th>\n",
              "      <td>7</td>\n",
              "      <td>3194.318604</td>\n",
              "    </tr>\n",
              "    <tr>\n",
              "      <th>8</th>\n",
              "      <td>8</td>\n",
              "      <td>3194.291504</td>\n",
              "    </tr>\n",
              "    <tr>\n",
              "      <th>9</th>\n",
              "      <td>9</td>\n",
              "      <td>3194.364014</td>\n",
              "    </tr>\n",
              "    <tr>\n",
              "      <th>10</th>\n",
              "      <td>10</td>\n",
              "      <td>3194.291992</td>\n",
              "    </tr>\n",
              "    <tr>\n",
              "      <th>11</th>\n",
              "      <td>11</td>\n",
              "      <td>3194.419922</td>\n",
              "    </tr>\n",
              "    <tr>\n",
              "      <th>12</th>\n",
              "      <td>12</td>\n",
              "      <td>3194.424316</td>\n",
              "    </tr>\n",
              "    <tr>\n",
              "      <th>13</th>\n",
              "      <td>13</td>\n",
              "      <td>3194.454346</td>\n",
              "    </tr>\n",
              "    <tr>\n",
              "      <th>14</th>\n",
              "      <td>14</td>\n",
              "      <td>3194.444824</td>\n",
              "    </tr>\n",
              "    <tr>\n",
              "      <th>15</th>\n",
              "      <td>15</td>\n",
              "      <td>3194.411133</td>\n",
              "    </tr>\n",
              "    <tr>\n",
              "      <th>16</th>\n",
              "      <td>16</td>\n",
              "      <td>3194.361572</td>\n",
              "    </tr>\n",
              "    <tr>\n",
              "      <th>17</th>\n",
              "      <td>17</td>\n",
              "      <td>3194.305176</td>\n",
              "    </tr>\n",
              "    <tr>\n",
              "      <th>18</th>\n",
              "      <td>18</td>\n",
              "      <td>3194.376709</td>\n",
              "    </tr>\n",
              "    <tr>\n",
              "      <th>19</th>\n",
              "      <td>19</td>\n",
              "      <td>3194.234131</td>\n",
              "    </tr>\n",
              "    <tr>\n",
              "      <th>20</th>\n",
              "      <td>20</td>\n",
              "      <td>3194.087402</td>\n",
              "    </tr>\n",
              "    <tr>\n",
              "      <th>21</th>\n",
              "      <td>21</td>\n",
              "      <td>3194.077393</td>\n",
              "    </tr>\n",
              "    <tr>\n",
              "      <th>22</th>\n",
              "      <td>22</td>\n",
              "      <td>3194.006592</td>\n",
              "    </tr>\n",
              "    <tr>\n",
              "      <th>23</th>\n",
              "      <td>23</td>\n",
              "      <td>3193.983887</td>\n",
              "    </tr>\n",
              "  </tbody>\n",
              "</table>\n",
              "</div>\n",
              "      <button class=\"colab-df-convert\" onclick=\"convertToInteractive('df-a0f558cb-c97a-4334-9a1d-2d773c4ce51d')\"\n",
              "              title=\"Convert this dataframe to an interactive table.\"\n",
              "              style=\"display:none;\">\n",
              "        \n",
              "  <svg xmlns=\"http://www.w3.org/2000/svg\" height=\"24px\"viewBox=\"0 0 24 24\"\n",
              "       width=\"24px\">\n",
              "    <path d=\"M0 0h24v24H0V0z\" fill=\"none\"/>\n",
              "    <path d=\"M18.56 5.44l.94 2.06.94-2.06 2.06-.94-2.06-.94-.94-2.06-.94 2.06-2.06.94zm-11 1L8.5 8.5l.94-2.06 2.06-.94-2.06-.94L8.5 2.5l-.94 2.06-2.06.94zm10 10l.94 2.06.94-2.06 2.06-.94-2.06-.94-.94-2.06-.94 2.06-2.06.94z\"/><path d=\"M17.41 7.96l-1.37-1.37c-.4-.4-.92-.59-1.43-.59-.52 0-1.04.2-1.43.59L10.3 9.45l-7.72 7.72c-.78.78-.78 2.05 0 2.83L4 21.41c.39.39.9.59 1.41.59.51 0 1.02-.2 1.41-.59l7.78-7.78 2.81-2.81c.8-.78.8-2.07 0-2.86zM5.41 20L4 18.59l7.72-7.72 1.47 1.35L5.41 20z\"/>\n",
              "  </svg>\n",
              "      </button>\n",
              "      \n",
              "  <style>\n",
              "    .colab-df-container {\n",
              "      display:flex;\n",
              "      flex-wrap:wrap;\n",
              "      gap: 12px;\n",
              "    }\n",
              "\n",
              "    .colab-df-convert {\n",
              "      background-color: #E8F0FE;\n",
              "      border: none;\n",
              "      border-radius: 50%;\n",
              "      cursor: pointer;\n",
              "      display: none;\n",
              "      fill: #1967D2;\n",
              "      height: 32px;\n",
              "      padding: 0 0 0 0;\n",
              "      width: 32px;\n",
              "    }\n",
              "\n",
              "    .colab-df-convert:hover {\n",
              "      background-color: #E2EBFA;\n",
              "      box-shadow: 0px 1px 2px rgba(60, 64, 67, 0.3), 0px 1px 3px 1px rgba(60, 64, 67, 0.15);\n",
              "      fill: #174EA6;\n",
              "    }\n",
              "\n",
              "    [theme=dark] .colab-df-convert {\n",
              "      background-color: #3B4455;\n",
              "      fill: #D2E3FC;\n",
              "    }\n",
              "\n",
              "    [theme=dark] .colab-df-convert:hover {\n",
              "      background-color: #434B5C;\n",
              "      box-shadow: 0px 1px 3px 1px rgba(0, 0, 0, 0.15);\n",
              "      filter: drop-shadow(0px 1px 2px rgba(0, 0, 0, 0.3));\n",
              "      fill: #FFFFFF;\n",
              "    }\n",
              "  </style>\n",
              "\n",
              "      <script>\n",
              "        const buttonEl =\n",
              "          document.querySelector('#df-a0f558cb-c97a-4334-9a1d-2d773c4ce51d button.colab-df-convert');\n",
              "        buttonEl.style.display =\n",
              "          google.colab.kernel.accessAllowed ? 'block' : 'none';\n",
              "\n",
              "        async function convertToInteractive(key) {\n",
              "          const element = document.querySelector('#df-a0f558cb-c97a-4334-9a1d-2d773c4ce51d');\n",
              "          const dataTable =\n",
              "            await google.colab.kernel.invokeFunction('convertToInteractive',\n",
              "                                                     [key], {});\n",
              "          if (!dataTable) return;\n",
              "\n",
              "          const docLinkHtml = 'Like what you see? Visit the ' +\n",
              "            '<a target=\"_blank\" href=https://colab.research.google.com/notebooks/data_table.ipynb>data table notebook</a>'\n",
              "            + ' to learn more about interactive tables.';\n",
              "          element.innerHTML = '';\n",
              "          dataTable['output_type'] = 'display_data';\n",
              "          await google.colab.output.renderOutput(dataTable, element);\n",
              "          const docLink = document.createElement('div');\n",
              "          docLink.innerHTML = docLinkHtml;\n",
              "          element.appendChild(docLink);\n",
              "        }\n",
              "      </script>\n",
              "    </div>\n",
              "  </div>\n",
              "  "
            ],
            "text/plain": [
              "    Id     Expected\n",
              "0    0  3194.025635\n",
              "1    1  3193.877930\n",
              "2    2  3193.952881\n",
              "3    3  3194.042236\n",
              "4    4  3194.066650\n",
              "5    5  3194.104980\n",
              "6    6  3194.170410\n",
              "7    7  3194.318604\n",
              "8    8  3194.291504\n",
              "9    9  3194.364014\n",
              "10  10  3194.291992\n",
              "11  11  3194.419922\n",
              "12  12  3194.424316\n",
              "13  13  3194.454346\n",
              "14  14  3194.444824\n",
              "15  15  3194.411133\n",
              "16  16  3194.361572\n",
              "17  17  3194.305176\n",
              "18  18  3194.376709\n",
              "19  19  3194.234131\n",
              "20  20  3194.087402\n",
              "21  21  3194.077393\n",
              "22  22  3194.006592\n",
              "23  23  3193.983887"
            ]
          },
          "metadata": {},
          "execution_count": 48
        }
      ]
    },
    {
      "cell_type": "code",
      "source": [
        "sample.to_csv('sample.csv',index=False)"
      ],
      "metadata": {
        "id": "b7B-sCOuk0lU"
      },
      "execution_count": 38,
      "outputs": []
    },
    {
      "cell_type": "code",
      "source": [
        ""
      ],
      "metadata": {
        "id": "YqoduM-mlMv4"
      },
      "execution_count": null,
      "outputs": []
    }
  ]
}