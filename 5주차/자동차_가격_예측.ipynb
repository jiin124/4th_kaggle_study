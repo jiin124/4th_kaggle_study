{
  "nbformat": 4,
  "nbformat_minor": 0,
  "metadata": {
    "colab": {
      "name": "자동차 가격 예측.ipynb",
      "provenance": [],
      "authorship_tag": "ABX9TyOBXtF4HUqrzittJdnkaJYy",
      "include_colab_link": true
    },
    "kernelspec": {
      "name": "python3",
      "display_name": "Python 3"
    },
    "language_info": {
      "name": "python"
    }
  },
  "cells": [
    {
      "cell_type": "markdown",
      "metadata": {
        "id": "view-in-github",
        "colab_type": "text"
      },
      "source": [
        "<a href=\"https://colab.research.google.com/github/jiin124/4th_kaggle_study/blob/main/5%EC%A3%BC%EC%B0%A8/%EC%9E%90%EB%8F%99%EC%B0%A8_%EA%B0%80%EA%B2%A9_%EC%98%88%EC%B8%A1.ipynb\" target=\"_parent\"><img src=\"https://colab.research.google.com/assets/colab-badge.svg\" alt=\"Open In Colab\"/></a>"
      ]
    },
    {
      "cell_type": "code",
      "execution_count": 168,
      "metadata": {
        "id": "Jl6i9CfLhkLJ"
      },
      "outputs": [],
      "source": [
        "import pandas as pd\n",
        "import numpy as np\n",
        "import matplotlib.pyplot as plt\n",
        "import seaborn as sns\n",
        "import os\n",
        "plt.style.use('ggplot')\n",
        "import warnings\n",
        "warnings.filterwarnings('ignore')"
      ]
    },
    {
      "cell_type": "code",
      "source": [
        "os.environ['KAGGLE_USERNAME']='jiinpp'\n",
        "os.environ['KAGGLE_KEY']=\"b06d525a9f66198051ccb648b091778a\""
      ],
      "metadata": {
        "id": "0Cr1fSnIh6Np"
      },
      "execution_count": 169,
      "outputs": []
    },
    {
      "cell_type": "code",
      "source": [
        "!kaggle competitions download -c 2021-ai-w3-p2"
      ],
      "metadata": {
        "colab": {
          "base_uri": "https://localhost:8080/"
        },
        "id": "EyKnWMWCh8mC",
        "outputId": "877abd58-73dd-479f-8f33-f6730aebe762"
      },
      "execution_count": 170,
      "outputs": [
        {
          "output_type": "stream",
          "name": "stdout",
          "text": [
            "Warning: Looks like you're using an outdated API Version, please consider updating (server 1.5.12 / client 1.5.4)\n",
            "train_data.csv: Skipping, found more recently modified local copy (use --force to force download)\n",
            "sample_submit.csv: Skipping, found more recently modified local copy (use --force to force download)\n",
            "test_data.csv: Skipping, found more recently modified local copy (use --force to force download)\n"
          ]
        }
      ]
    },
    {
      "cell_type": "code",
      "source": [
        "train=pd.read_csv('train_data.csv')\n",
        "test=pd.read_csv('test_data.csv')\n",
        "sample=pd.read_csv('sample_submit.csv')"
      ],
      "metadata": {
        "id": "N2XPd3lth_zu"
      },
      "execution_count": 256,
      "outputs": []
    },
    {
      "cell_type": "code",
      "source": [
        "train.head()"
      ],
      "metadata": {
        "colab": {
          "base_uri": "https://localhost:8080/",
          "height": 250
        },
        "id": "ShEiSgaLiIB4",
        "outputId": "3cba4031-a261-4010-aa5f-08bbb68c41f8"
      },
      "execution_count": 184,
      "outputs": [
        {
          "output_type": "execute_result",
          "data": {
            "text/html": [
              "\n",
              "  <div id=\"df-61c263e7-6c99-4a60-8531-06418db804aa\">\n",
              "    <div class=\"colab-df-container\">\n",
              "      <div>\n",
              "<style scoped>\n",
              "    .dataframe tbody tr th:only-of-type {\n",
              "        vertical-align: middle;\n",
              "    }\n",
              "\n",
              "    .dataframe tbody tr th {\n",
              "        vertical-align: top;\n",
              "    }\n",
              "\n",
              "    .dataframe thead th {\n",
              "        text-align: right;\n",
              "    }\n",
              "</style>\n",
              "<table border=\"1\" class=\"dataframe\">\n",
              "  <thead>\n",
              "    <tr style=\"text-align: right;\">\n",
              "      <th></th>\n",
              "      <th>ID</th>\n",
              "      <th>company</th>\n",
              "      <th>model</th>\n",
              "      <th>year</th>\n",
              "      <th>transmission</th>\n",
              "      <th>mileage</th>\n",
              "      <th>fueltype</th>\n",
              "      <th>tax</th>\n",
              "      <th>mpg</th>\n",
              "      <th>engineSize</th>\n",
              "      <th>price</th>\n",
              "    </tr>\n",
              "  </thead>\n",
              "  <tbody>\n",
              "    <tr>\n",
              "      <th>0</th>\n",
              "      <td>0</td>\n",
              "      <td>2</td>\n",
              "      <td>Focus</td>\n",
              "      <td>2019</td>\n",
              "      <td>1</td>\n",
              "      <td>3764</td>\n",
              "      <td>4</td>\n",
              "      <td>145</td>\n",
              "      <td>34.5</td>\n",
              "      <td>2.3</td>\n",
              "      <td>26299</td>\n",
              "    </tr>\n",
              "    <tr>\n",
              "      <th>1</th>\n",
              "      <td>1</td>\n",
              "      <td>1</td>\n",
              "      <td>I10</td>\n",
              "      <td>2015</td>\n",
              "      <td>1</td>\n",
              "      <td>27056</td>\n",
              "      <td>4</td>\n",
              "      <td>20</td>\n",
              "      <td>60.1</td>\n",
              "      <td>1.0</td>\n",
              "      <td>5495</td>\n",
              "    </tr>\n",
              "    <tr>\n",
              "      <th>2</th>\n",
              "      <td>2</td>\n",
              "      <td>3</td>\n",
              "      <td>A3</td>\n",
              "      <td>2019</td>\n",
              "      <td>3</td>\n",
              "      <td>3375</td>\n",
              "      <td>4</td>\n",
              "      <td>145</td>\n",
              "      <td>34.5</td>\n",
              "      <td>2.0</td>\n",
              "      <td>32400</td>\n",
              "    </tr>\n",
              "    <tr>\n",
              "      <th>3</th>\n",
              "      <td>3</td>\n",
              "      <td>3</td>\n",
              "      <td>A6</td>\n",
              "      <td>2019</td>\n",
              "      <td>0</td>\n",
              "      <td>5743</td>\n",
              "      <td>0</td>\n",
              "      <td>145</td>\n",
              "      <td>47.9</td>\n",
              "      <td>2.0</td>\n",
              "      <td>29990</td>\n",
              "    </tr>\n",
              "    <tr>\n",
              "      <th>4</th>\n",
              "      <td>4</td>\n",
              "      <td>2</td>\n",
              "      <td>Fiesta</td>\n",
              "      <td>2015</td>\n",
              "      <td>1</td>\n",
              "      <td>32782</td>\n",
              "      <td>4</td>\n",
              "      <td>0</td>\n",
              "      <td>65.7</td>\n",
              "      <td>1.0</td>\n",
              "      <td>7250</td>\n",
              "    </tr>\n",
              "  </tbody>\n",
              "</table>\n",
              "</div>\n",
              "      <button class=\"colab-df-convert\" onclick=\"convertToInteractive('df-61c263e7-6c99-4a60-8531-06418db804aa')\"\n",
              "              title=\"Convert this dataframe to an interactive table.\"\n",
              "              style=\"display:none;\">\n",
              "        \n",
              "  <svg xmlns=\"http://www.w3.org/2000/svg\" height=\"24px\"viewBox=\"0 0 24 24\"\n",
              "       width=\"24px\">\n",
              "    <path d=\"M0 0h24v24H0V0z\" fill=\"none\"/>\n",
              "    <path d=\"M18.56 5.44l.94 2.06.94-2.06 2.06-.94-2.06-.94-.94-2.06-.94 2.06-2.06.94zm-11 1L8.5 8.5l.94-2.06 2.06-.94-2.06-.94L8.5 2.5l-.94 2.06-2.06.94zm10 10l.94 2.06.94-2.06 2.06-.94-2.06-.94-.94-2.06-.94 2.06-2.06.94z\"/><path d=\"M17.41 7.96l-1.37-1.37c-.4-.4-.92-.59-1.43-.59-.52 0-1.04.2-1.43.59L10.3 9.45l-7.72 7.72c-.78.78-.78 2.05 0 2.83L4 21.41c.39.39.9.59 1.41.59.51 0 1.02-.2 1.41-.59l7.78-7.78 2.81-2.81c.8-.78.8-2.07 0-2.86zM5.41 20L4 18.59l7.72-7.72 1.47 1.35L5.41 20z\"/>\n",
              "  </svg>\n",
              "      </button>\n",
              "      \n",
              "  <style>\n",
              "    .colab-df-container {\n",
              "      display:flex;\n",
              "      flex-wrap:wrap;\n",
              "      gap: 12px;\n",
              "    }\n",
              "\n",
              "    .colab-df-convert {\n",
              "      background-color: #E8F0FE;\n",
              "      border: none;\n",
              "      border-radius: 50%;\n",
              "      cursor: pointer;\n",
              "      display: none;\n",
              "      fill: #1967D2;\n",
              "      height: 32px;\n",
              "      padding: 0 0 0 0;\n",
              "      width: 32px;\n",
              "    }\n",
              "\n",
              "    .colab-df-convert:hover {\n",
              "      background-color: #E2EBFA;\n",
              "      box-shadow: 0px 1px 2px rgba(60, 64, 67, 0.3), 0px 1px 3px 1px rgba(60, 64, 67, 0.15);\n",
              "      fill: #174EA6;\n",
              "    }\n",
              "\n",
              "    [theme=dark] .colab-df-convert {\n",
              "      background-color: #3B4455;\n",
              "      fill: #D2E3FC;\n",
              "    }\n",
              "\n",
              "    [theme=dark] .colab-df-convert:hover {\n",
              "      background-color: #434B5C;\n",
              "      box-shadow: 0px 1px 3px 1px rgba(0, 0, 0, 0.15);\n",
              "      filter: drop-shadow(0px 1px 2px rgba(0, 0, 0, 0.3));\n",
              "      fill: #FFFFFF;\n",
              "    }\n",
              "  </style>\n",
              "\n",
              "      <script>\n",
              "        const buttonEl =\n",
              "          document.querySelector('#df-61c263e7-6c99-4a60-8531-06418db804aa button.colab-df-convert');\n",
              "        buttonEl.style.display =\n",
              "          google.colab.kernel.accessAllowed ? 'block' : 'none';\n",
              "\n",
              "        async function convertToInteractive(key) {\n",
              "          const element = document.querySelector('#df-61c263e7-6c99-4a60-8531-06418db804aa');\n",
              "          const dataTable =\n",
              "            await google.colab.kernel.invokeFunction('convertToInteractive',\n",
              "                                                     [key], {});\n",
              "          if (!dataTable) return;\n",
              "\n",
              "          const docLinkHtml = 'Like what you see? Visit the ' +\n",
              "            '<a target=\"_blank\" href=https://colab.research.google.com/notebooks/data_table.ipynb>data table notebook</a>'\n",
              "            + ' to learn more about interactive tables.';\n",
              "          element.innerHTML = '';\n",
              "          dataTable['output_type'] = 'display_data';\n",
              "          await google.colab.output.renderOutput(dataTable, element);\n",
              "          const docLink = document.createElement('div');\n",
              "          docLink.innerHTML = docLinkHtml;\n",
              "          element.appendChild(docLink);\n",
              "        }\n",
              "      </script>\n",
              "    </div>\n",
              "  </div>\n",
              "  "
            ],
            "text/plain": [
              "   ID  company    model  year  ...  tax   mpg  engineSize  price\n",
              "0   0        2    Focus  2019  ...  145  34.5         2.3  26299\n",
              "1   1        1      I10  2015  ...   20  60.1         1.0   5495\n",
              "2   2        3       A3  2019  ...  145  34.5         2.0  32400\n",
              "3   3        3       A6  2019  ...  145  47.9         2.0  29990\n",
              "4   4        2   Fiesta  2015  ...    0  65.7         1.0   7250\n",
              "\n",
              "[5 rows x 11 columns]"
            ]
          },
          "metadata": {},
          "execution_count": 184
        }
      ]
    },
    {
      "cell_type": "code",
      "source": [
        "train.info()"
      ],
      "metadata": {
        "colab": {
          "base_uri": "https://localhost:8080/"
        },
        "id": "PIP5n1-VkOwe",
        "outputId": "4e9dc74d-4919-43a7-d5c4-6217cd0d840e"
      },
      "execution_count": 173,
      "outputs": [
        {
          "output_type": "stream",
          "name": "stdout",
          "text": [
            "<class 'pandas.core.frame.DataFrame'>\n",
            "RangeIndex: 17085 entries, 0 to 17084\n",
            "Data columns (total 11 columns):\n",
            " #   Column        Non-Null Count  Dtype  \n",
            "---  ------        --------------  -----  \n",
            " 0   ID            17085 non-null  int64  \n",
            " 1   company       17085 non-null  int64  \n",
            " 2   model         17085 non-null  object \n",
            " 3   year          17085 non-null  int64  \n",
            " 4   transmission  17085 non-null  int64  \n",
            " 5   mileage       17085 non-null  int64  \n",
            " 6   fueltype      17085 non-null  int64  \n",
            " 7   tax           17085 non-null  int64  \n",
            " 8   mpg           17085 non-null  float64\n",
            " 9   engineSize    17085 non-null  float64\n",
            " 10  price         17085 non-null  int64  \n",
            "dtypes: float64(2), int64(8), object(1)\n",
            "memory usage: 1.4+ MB\n"
          ]
        }
      ]
    },
    {
      "cell_type": "code",
      "source": [
        "train.isna().sum()"
      ],
      "metadata": {
        "colab": {
          "base_uri": "https://localhost:8080/"
        },
        "id": "w2y2A1K1kTnd",
        "outputId": "02589094-1531-4f23-868e-aaa1be267a98"
      },
      "execution_count": 120,
      "outputs": [
        {
          "output_type": "execute_result",
          "data": {
            "text/plain": [
              "ID              0\n",
              "company         0\n",
              "model           0\n",
              "year            0\n",
              "transmission    0\n",
              "mileage         0\n",
              "fueltype        0\n",
              "tax             0\n",
              "mpg             0\n",
              "engineSize      0\n",
              "price           0\n",
              "dtype: int64"
            ]
          },
          "metadata": {},
          "execution_count": 120
        }
      ]
    },
    {
      "cell_type": "markdown",
      "source": [
        "##EDA"
      ],
      "metadata": {
        "id": "c-0O6JE6keeJ"
      }
    },
    {
      "cell_type": "code",
      "source": [
        "train.columns"
      ],
      "metadata": {
        "colab": {
          "base_uri": "https://localhost:8080/"
        },
        "id": "kf0XWmbPkZLZ",
        "outputId": "17dcd148-4e16-4b50-b886-a19529167f1a"
      },
      "execution_count": 8,
      "outputs": [
        {
          "output_type": "execute_result",
          "data": {
            "text/plain": [
              "Index(['ID', 'company', 'model', 'year', 'transmission', 'mileage', 'fueltype',\n",
              "       'tax', 'mpg', 'engineSize', 'price'],\n",
              "      dtype='object')"
            ]
          },
          "metadata": {},
          "execution_count": 8
        }
      ]
    },
    {
      "cell_type": "code",
      "source": [
        "sns.countplot(data=train,x='company')"
      ],
      "metadata": {
        "colab": {
          "base_uri": "https://localhost:8080/",
          "height": 300
        },
        "id": "-mFETFmIkgfA",
        "outputId": "cff4d52b-d7bd-47fc-e393-a6192f9c49c8"
      },
      "execution_count": 185,
      "outputs": [
        {
          "output_type": "execute_result",
          "data": {
            "text/plain": [
              "<matplotlib.axes._subplots.AxesSubplot at 0x7fea48613d50>"
            ]
          },
          "metadata": {},
          "execution_count": 185
        },
        {
          "output_type": "display_data",
          "data": {
            "image/png": "[encoded data removed]",
            "text/plain": [
              "<Figure size 432x288 with 1 Axes>"
            ]
          },
          "metadata": {}
        }
      ]
    },
    {
      "cell_type": "markdown",
      "source": [
        "다행이 전처리가 되어있음 bmw, ford, hyundai, audi, toyota"
      ],
      "metadata": {
        "id": "Q92Vmvr0knmL"
      }
    },
    {
      "cell_type": "code",
      "source": [
        "sns.countplot(data=train,x='model')"
      ],
      "metadata": {
        "colab": {
          "base_uri": "https://localhost:8080/",
          "height": 300
        },
        "id": "JdWMwZZGkkf7",
        "outputId": "0e31c653-7d60-4f47-874e-eb0721b4df5a"
      },
      "execution_count": 186,
      "outputs": [
        {
          "output_type": "execute_result",
          "data": {
            "text/plain": [
              "<matplotlib.axes._subplots.AxesSubplot at 0x7fea485c6910>"
            ]
          },
          "metadata": {},
          "execution_count": 186
        },
        {
          "output_type": "display_data",
          "data": {
            "image/png": "[encoded data removed]",
            "text/plain": [
              "<Figure size 432x288 with 1 Axes>"
            ]
          },
          "metadata": {}
        }
      ]
    },
    {
      "cell_type": "code",
      "source": [
        "train['model'].value_counts()"
      ],
      "metadata": {
        "colab": {
          "base_uri": "https://localhost:8080/"
        },
        "id": "SaH6WHecktiw",
        "outputId": "15638b34-341c-4c32-ef8a-c98121ef78da"
      },
      "execution_count": 187,
      "outputs": [
        {
          "output_type": "execute_result",
          "data": {
            "text/plain": [
              " Fiesta      2197\n",
              " Focus       1537\n",
              " 3 Series     819\n",
              " Kuga         746\n",
              " Yaris        711\n",
              "             ... \n",
              " Getz           2\n",
              " S8             1\n",
              " Verso-S        1\n",
              " S5             1\n",
              " Veloster       1\n",
              "Name: model, Length: 98, dtype: int64"
            ]
          },
          "metadata": {},
          "execution_count": 187
        }
      ]
    },
    {
      "cell_type": "markdown",
      "source": [
        "라벨링이 필요해 보임"
      ],
      "metadata": {
        "id": "GupLR7upk8aQ"
      }
    },
    {
      "cell_type": "code",
      "source": [
        "sns.lineplot(data=train,\n",
        "             x='company',\n",
        "             y='price')"
      ],
      "metadata": {
        "colab": {
          "base_uri": "https://localhost:8080/",
          "height": 300
        },
        "id": "-JtMqHmxmpiz",
        "outputId": "683e11d6-c976-4319-d8a5-ec41b346d0d7"
      },
      "execution_count": 188,
      "outputs": [
        {
          "output_type": "execute_result",
          "data": {
            "text/plain": [
              "<matplotlib.axes._subplots.AxesSubplot at 0x7fea482d41d0>"
            ]
          },
          "metadata": {},
          "execution_count": 188
        },
        {
          "output_type": "display_data",
          "data": {
            "image/png": "[encoded data removed]",
            "text/plain": [
              "<Figure size 432x288 with 1 Axes>"
            ]
          },
          "metadata": {}
        }
      ]
    },
    {
      "cell_type": "code",
      "source": [
        "plt.figure(figsize=(13,5))\n",
        "sns.countplot(data=train,x='year')"
      ],
      "metadata": {
        "colab": {
          "base_uri": "https://localhost:8080/",
          "height": 329
        },
        "id": "X5qPE5JXkw37",
        "outputId": "88c628bd-cb97-49e2-87a2-b5c883db4b32"
      },
      "execution_count": 189,
      "outputs": [
        {
          "output_type": "execute_result",
          "data": {
            "text/plain": [
              "<matplotlib.axes._subplots.AxesSubplot at 0x7fea4825a650>"
            ]
          },
          "metadata": {},
          "execution_count": 189
        },
        {
          "output_type": "display_data",
          "data": {
            "image/png": "[encoded data removed]",
            "text/plain": [
              "<Figure size 936x360 with 1 Axes>"
            ]
          },
          "metadata": {}
        }
      ]
    },
    {
      "cell_type": "markdown",
      "source": [
        "이상치 발견. 2060은 뭐람"
      ],
      "metadata": {
        "id": "BBvAW77Bmk9U"
      }
    },
    {
      "cell_type": "code",
      "source": [
        "train['year'].value_counts()"
      ],
      "metadata": {
        "colab": {
          "base_uri": "https://localhost:8080/"
        },
        "id": "KrnNOoo4nXgd",
        "outputId": "f152e830-3668-4dc6-bc7e-0bf4621f56bc"
      },
      "execution_count": 145,
      "outputs": [
        {
          "output_type": "execute_result",
          "data": {
            "text/plain": [
              "2019    4113\n",
              "2017    3961\n",
              "2018    2625\n",
              "2016    2599\n",
              "2015    1393\n",
              "2014     784\n",
              "2020     658\n",
              "2013     505\n",
              "2012     115\n",
              "2011      75\n",
              "2009      63\n",
              "2010      56\n",
              "2008      46\n",
              "2007      37\n",
              "2005      13\n",
              "2006      12\n",
              "2004      12\n",
              "2002       7\n",
              "2001       3\n",
              "2003       3\n",
              "2000       2\n",
              "1999       2\n",
              "1998       1\n",
              "Name: year, dtype: int64"
            ]
          },
          "metadata": {},
          "execution_count": 145
        }
      ]
    },
    {
      "cell_type": "code",
      "source": [
        "#2060은 2006으로 바꾸어주기\n",
        "train.loc[train['year']==2060,'year']=2006"
      ],
      "metadata": {
        "id": "jfirYdiHnb6s"
      },
      "execution_count": 257,
      "outputs": []
    },
    {
      "cell_type": "code",
      "source": [
        "plt.figure(figsize=(10,8))\n",
        "sns.lineplot(data=train,\n",
        "             x='year',\n",
        "             y='price',\n",
        "             hue='company')"
      ],
      "metadata": {
        "colab": {
          "base_uri": "https://localhost:8080/",
          "height": 518
        },
        "id": "vNPxHhpumZwI",
        "outputId": "700dbeb9-8a9f-48c9-b53b-8b7f63a66856"
      },
      "execution_count": 100,
      "outputs": [
        {
          "output_type": "execute_result",
          "data": {
            "text/plain": [
              "<matplotlib.axes._subplots.AxesSubplot at 0x7fea490c20d0>"
            ]
          },
          "metadata": {},
          "execution_count": 100
        },
        {
          "output_type": "display_data",
          "data": {
            "image/png": "[encoded data removed]",
            "text/plain": [
              "<Figure size 720x576 with 1 Axes>"
            ]
          },
          "metadata": {}
        }
      ]
    },
    {
      "cell_type": "code",
      "source": [
        "sns.countplot(data=train,x='transmission')"
      ],
      "metadata": {
        "colab": {
          "base_uri": "https://localhost:8080/",
          "height": 300
        },
        "id": "UKtqXXKem8g5",
        "outputId": "8728e126-4e2c-4c1f-a2ea-1248e0c87225"
      },
      "execution_count": 17,
      "outputs": [
        {
          "output_type": "execute_result",
          "data": {
            "text/plain": [
              "<matplotlib.axes._subplots.AxesSubplot at 0x7f45410bfc90>"
            ]
          },
          "metadata": {},
          "execution_count": 17
        },
        {
          "output_type": "display_data",
          "data": {
            "image/png": "[encoded data removed]",
            "text/plain": [
              "<Figure size 432x288 with 1 Axes>"
            ]
          },
          "metadata": {
            "needs_background": "light"
          }
        }
      ]
    },
    {
      "cell_type": "code",
      "source": [
        "train['transmission'].value_counts()"
      ],
      "metadata": {
        "colab": {
          "base_uri": "https://localhost:8080/"
        },
        "id": "QE_dZ7Y7oByN",
        "outputId": "22d0a225-16af-414e-aa91-3190a4f59c19"
      },
      "execution_count": 18,
      "outputs": [
        {
          "output_type": "execute_result",
          "data": {
            "text/plain": [
              "1    9972\n",
              "0    3678\n",
              "3    3434\n",
              "2       1\n",
              "Name: transmission, dtype: int64"
            ]
          },
          "metadata": {},
          "execution_count": 18
        }
      ]
    },
    {
      "cell_type": "code",
      "source": [
        "sns.histplot(data=train,x='mileage')"
      ],
      "metadata": {
        "colab": {
          "base_uri": "https://localhost:8080/",
          "height": 300
        },
        "id": "kKijbF4HoU6l",
        "outputId": "7e765ba8-c0d1-480b-b021-b567c719a9f1"
      },
      "execution_count": 19,
      "outputs": [
        {
          "output_type": "execute_result",
          "data": {
            "text/plain": [
              "<matplotlib.axes._subplots.AxesSubplot at 0x7f4540090f90>"
            ]
          },
          "metadata": {},
          "execution_count": 19
        },
        {
          "output_type": "display_data",
          "data": {
            "image/png": "[encoded data removed]",
            "text/plain": [
              "<Figure size 432x288 with 1 Axes>"
            ]
          },
          "metadata": {
            "needs_background": "light"
          }
        }
      ]
    },
    {
      "cell_type": "code",
      "source": [
        "sns.jointplot(data=train,\n",
        "              x='mileage',\n",
        "              y='price')"
      ],
      "metadata": {
        "colab": {
          "base_uri": "https://localhost:8080/",
          "height": 459
        },
        "id": "cSXkFHMroyXB",
        "outputId": "bdc9202a-e295-4281-c854-ea9ecc61587d"
      },
      "execution_count": 22,
      "outputs": [
        {
          "output_type": "execute_result",
          "data": {
            "text/plain": [
              "<seaborn.axisgrid.JointGrid at 0x7f4541b39e90>"
            ]
          },
          "metadata": {},
          "execution_count": 22
        },
        {
          "output_type": "display_data",
          "data": {
            "image/png": "[encoded data removed]",
            "text/plain": [
              "<Figure size 432x432 with 3 Axes>"
            ]
          },
          "metadata": {
            "needs_background": "light"
          }
        }
      ]
    },
    {
      "cell_type": "code",
      "source": [
        "sns.countplot(data=train,x='fueltype')"
      ],
      "metadata": {
        "colab": {
          "base_uri": "https://localhost:8080/",
          "height": 300
        },
        "id": "02yOYsw9oa8S",
        "outputId": "7e74be32-64d2-4205-f2d9-05affaecbf2e"
      },
      "execution_count": 20,
      "outputs": [
        {
          "output_type": "execute_result",
          "data": {
            "text/plain": [
              "<matplotlib.axes._subplots.AxesSubplot at 0x7f45413d2b10>"
            ]
          },
          "metadata": {},
          "execution_count": 20
        },
        {
          "output_type": "display_data",
          "data": {
            "image/png": "[encoded data removed]",
            "text/plain": [
              "<Figure size 432x288 with 1 Axes>"
            ]
          },
          "metadata": {
            "needs_background": "light"
          }
        }
      ]
    },
    {
      "cell_type": "code",
      "source": [
        "train['fueltype'].value_counts()"
      ],
      "metadata": {
        "colab": {
          "base_uri": "https://localhost:8080/"
        },
        "id": "7EXAuuMZosMl",
        "outputId": "f723248b-779a-4fe7-e98a-bc8a5eb4466d"
      },
      "execution_count": 21,
      "outputs": [
        {
          "output_type": "execute_result",
          "data": {
            "text/plain": [
              "4    9270\n",
              "0    6855\n",
              "2     910\n",
              "3      48\n",
              "1       2\n",
              "Name: fueltype, dtype: int64"
            ]
          },
          "metadata": {},
          "execution_count": 21
        }
      ]
    },
    {
      "cell_type": "code",
      "source": [
        "train.groupby('fueltype').sum()['price'].plot()"
      ],
      "metadata": {
        "colab": {
          "base_uri": "https://localhost:8080/",
          "height": 311
        },
        "id": "QWRjretMou6y",
        "outputId": "980b0989-0447-4c2c-8d09-5fa3d620b6ec"
      },
      "execution_count": 124,
      "outputs": [
        {
          "output_type": "execute_result",
          "data": {
            "text/plain": [
              "<matplotlib.axes._subplots.AxesSubplot at 0x7fea48792150>"
            ]
          },
          "metadata": {},
          "execution_count": 124
        },
        {
          "output_type": "display_data",
          "data": {
            "image/png": "[encoded data removed]",
            "text/plain": [
              "<Figure size 432x288 with 1 Axes>"
            ]
          },
          "metadata": {}
        }
      ]
    },
    {
      "cell_type": "markdown",
      "source": [
        "0,4일때 가격이높군"
      ],
      "metadata": {
        "id": "qRNuPod7pmdu"
      }
    },
    {
      "cell_type": "code",
      "source": [
        "sns.histplot(data=train,x='tax')"
      ],
      "metadata": {
        "colab": {
          "base_uri": "https://localhost:8080/",
          "height": 300
        },
        "id": "ktfLVb-MpUjg",
        "outputId": "0265e015-d621-4fc5-b70f-92d22cdb4928"
      },
      "execution_count": 26,
      "outputs": [
        {
          "output_type": "execute_result",
          "data": {
            "text/plain": [
              "<matplotlib.axes._subplots.AxesSubplot at 0x7f4534f59a50>"
            ]
          },
          "metadata": {},
          "execution_count": 26
        },
        {
          "output_type": "display_data",
          "data": {
            "image/png": "[encoded data removed]",
            "text/plain": [
              "<Figure size 432x288 with 1 Axes>"
            ]
          },
          "metadata": {
            "needs_background": "light"
          }
        }
      ]
    },
    {
      "cell_type": "code",
      "source": [
        "sns.boxplot(data=train,x='tax')"
      ],
      "metadata": {
        "colab": {
          "base_uri": "https://localhost:8080/",
          "height": 300
        },
        "id": "H4SuZrnEqF_c",
        "outputId": "84a69ae7-8d64-4c66-b27c-5fa4022529eb"
      },
      "execution_count": 30,
      "outputs": [
        {
          "output_type": "execute_result",
          "data": {
            "text/plain": [
              "<matplotlib.axes._subplots.AxesSubplot at 0x7f45343d3c10>"
            ]
          },
          "metadata": {},
          "execution_count": 30
        },
        {
          "output_type": "display_data",
          "data": {
            "image/png": "[encoded data removed]",
            "text/plain": [
              "<Figure size 432x288 with 1 Axes>"
            ]
          },
          "metadata": {
            "needs_background": "light"
          }
        }
      ]
    },
    {
      "cell_type": "code",
      "source": [
        "out1=train.loc[train['tax']>500].index\n",
        "out1"
      ],
      "metadata": {
        "colab": {
          "base_uri": "https://localhost:8080/"
        },
        "id": "fW5-ruierE_A",
        "outputId": "f1006b2d-1252-4b89-b65b-8db2f8c9a45e"
      },
      "execution_count": 244,
      "outputs": [
        {
          "output_type": "execute_result",
          "data": {
            "text/plain": [
              "Int64Index([  273,   542,  1538,  1757,  1794,  2184,  2361,  2368,  2732,\n",
              "             2968,  3335,  3818,  4199,  4442,  5427,  6289,  6575,  7276,\n",
              "             7640,  8560,  8818,  9702, 10501, 10910, 11221, 11756, 12984,\n",
              "            13940, 14082, 14650, 15171, 16636],\n",
              "           dtype='int64')"
            ]
          },
          "metadata": {},
          "execution_count": 244
        }
      ]
    },
    {
      "cell_type": "code",
      "source": [
        "sns.histplot(data=train,x='mpg')"
      ],
      "metadata": {
        "colab": {
          "base_uri": "https://localhost:8080/",
          "height": 300
        },
        "id": "UWchSaoIqAR-",
        "outputId": "29494ca8-17bf-4f33-d67a-b1decc89bb1e"
      },
      "execution_count": 52,
      "outputs": [
        {
          "output_type": "execute_result",
          "data": {
            "text/plain": [
              "<matplotlib.axes._subplots.AxesSubplot at 0x7f4533988110>"
            ]
          },
          "metadata": {},
          "execution_count": 52
        },
        {
          "output_type": "display_data",
          "data": {
            "image/png": "[encoded data removed]",
            "text/plain": [
              "<Figure size 432x288 with 1 Axes>"
            ]
          },
          "metadata": {
            "needs_background": "light"
          }
        }
      ]
    },
    {
      "cell_type": "code",
      "source": [
        "sns.boxplot(data=train,x='mpg')"
      ],
      "metadata": {
        "colab": {
          "base_uri": "https://localhost:8080/",
          "height": 300
        },
        "id": "aF7u2E26qPUb",
        "outputId": "4865379f-3937-4a3a-f77d-56aefc6b537e"
      },
      "execution_count": 51,
      "outputs": [
        {
          "output_type": "execute_result",
          "data": {
            "text/plain": [
              "<matplotlib.axes._subplots.AxesSubplot at 0x7f45339f1990>"
            ]
          },
          "metadata": {},
          "execution_count": 51
        },
        {
          "output_type": "display_data",
          "data": {
            "image/png": "[encoded data removed]",
            "text/plain": [
              "<Figure size 432x288 with 1 Axes>"
            ]
          },
          "metadata": {
            "needs_background": "light"
          }
        }
      ]
    },
    {
      "cell_type": "code",
      "source": [
        "out2=train.loc[train['tax']>400].index\n",
        "out2"
      ],
      "metadata": {
        "colab": {
          "base_uri": "https://localhost:8080/"
        },
        "id": "_BRr7oYNhXeZ",
        "outputId": "c07616c0-bfae-44df-d0bd-5f35ae660776"
      },
      "execution_count": 245,
      "outputs": [
        {
          "output_type": "execute_result",
          "data": {
            "text/plain": [
              "Int64Index([  273,   542,  1538,  1757,  1794,  2184,  2361,  2368,  2732,\n",
              "             2968,  3335,  3818,  4199,  4442,  5427,  6289,  6575,  7276,\n",
              "             7640,  8560,  8818,  9702, 10501, 10910, 11221, 11756, 12984,\n",
              "            13940, 14082, 14650, 15171, 16636],\n",
              "           dtype='int64')"
            ]
          },
          "metadata": {},
          "execution_count": 245
        }
      ]
    },
    {
      "cell_type": "markdown",
      "source": [
        "이상치 발견"
      ],
      "metadata": {
        "id": "qiMpvztAqTim"
      }
    },
    {
      "cell_type": "code",
      "source": [
        "sns.histplot(data=train,x='mpg')"
      ],
      "metadata": {
        "colab": {
          "base_uri": "https://localhost:8080/",
          "height": 300
        },
        "id": "krGFEFFisRsM",
        "outputId": "54ef76b3-87c8-4d0d-f246-ef061df9b310"
      },
      "execution_count": 101,
      "outputs": [
        {
          "output_type": "execute_result",
          "data": {
            "text/plain": [
              "<matplotlib.axes._subplots.AxesSubplot at 0x7fea48fdfb50>"
            ]
          },
          "metadata": {},
          "execution_count": 101
        },
        {
          "output_type": "display_data",
          "data": {
            "image/png": "[encoded data removed]",
            "text/plain": [
              "<Figure size 432x288 with 1 Axes>"
            ]
          },
          "metadata": {}
        }
      ]
    },
    {
      "cell_type": "code",
      "source": [
        "sns.boxplot(data=train,x='mpg')"
      ],
      "metadata": {
        "colab": {
          "base_uri": "https://localhost:8080/",
          "height": 300
        },
        "id": "tse5KkbisV0B",
        "outputId": "5dc9dbdd-d573-4706-9b36-c90d94a2cc3f"
      },
      "execution_count": 102,
      "outputs": [
        {
          "output_type": "execute_result",
          "data": {
            "text/plain": [
              "<matplotlib.axes._subplots.AxesSubplot at 0x7fea48bc3350>"
            ]
          },
          "metadata": {},
          "execution_count": 102
        },
        {
          "output_type": "display_data",
          "data": {
            "image/png": "[encoded data removed]",
            "text/plain": [
              "<Figure size 432x288 with 1 Axes>"
            ]
          },
          "metadata": {}
        }
      ]
    },
    {
      "cell_type": "code",
      "source": [
        "sns.histplot(data=train,x='engineSize')"
      ],
      "metadata": {
        "colab": {
          "base_uri": "https://localhost:8080/",
          "height": 300
        },
        "id": "X1QexAyCqSRk",
        "outputId": "9c14eba7-0393-4079-c9c9-613bc09af1ca"
      },
      "execution_count": 103,
      "outputs": [
        {
          "output_type": "execute_result",
          "data": {
            "text/plain": [
              "<matplotlib.axes._subplots.AxesSubplot at 0x7fea48b4ca50>"
            ]
          },
          "metadata": {},
          "execution_count": 103
        },
        {
          "output_type": "display_data",
          "data": {
            "image/png": "[encoded data removed]",
            "text/plain": [
              "<Figure size 432x288 with 1 Axes>"
            ]
          },
          "metadata": {}
        }
      ]
    },
    {
      "cell_type": "code",
      "source": [
        "sns.boxplot(data=train,x='engineSize')"
      ],
      "metadata": {
        "colab": {
          "base_uri": "https://localhost:8080/",
          "height": 300
        },
        "id": "JuGcdV06qZta",
        "outputId": "67b2dd44-3447-482d-f637-cf173d8ba000"
      },
      "execution_count": 246,
      "outputs": [
        {
          "output_type": "execute_result",
          "data": {
            "text/plain": [
              "<matplotlib.axes._subplots.AxesSubplot at 0x7fea51a91050>"
            ]
          },
          "metadata": {},
          "execution_count": 246
        },
        {
          "output_type": "display_data",
          "data": {
            "image/png": "[encoded data removed]",
            "text/plain": [
              "<Figure size 432x288 with 1 Axes>"
            ]
          },
          "metadata": {}
        }
      ]
    },
    {
      "cell_type": "code",
      "source": [
        "out=train.loc[train['engineSize']>5].index\n",
        "out"
      ],
      "metadata": {
        "colab": {
          "base_uri": "https://localhost:8080/"
        },
        "id": "hAinaey1qeA3",
        "outputId": "cf556669-aaa5-488c-e31b-3b5046122eab"
      },
      "execution_count": 247,
      "outputs": [
        {
          "output_type": "execute_result",
          "data": {
            "text/plain": [
              "Int64Index([2184, 3342, 7792, 11221, 11765, 12487, 13771, 13940], dtype='int64')"
            ]
          },
          "metadata": {},
          "execution_count": 247
        }
      ]
    },
    {
      "cell_type": "code",
      "source": [
        "outlier=[2184, 3342, 7792, 11221, 11765, 12487, 13771, 13940,\n",
        "         273,   542,  1538,  1757,  1794,  2184,  2361,  2368,  2732,\n",
        "             2968,  3335,  3818,  4199,  4442,  5427,  6289,  6575,  7276,\n",
        "             7640,  8560,  8818,  9702, 10501, 10910, 11221, 11756, 12984,\n",
        "            13940, 14082, 14650, 15171, 16636,273,   542,  1538,  1757,  1794,  2184,  2361,  2368,  2732,\n",
        "             2968,  3335,  3818,  4199,  4442,  5427,  6289,  6575,  7276,\n",
        "             7640,  8560,  8818,  9702, 10501, 10910, 11221, 11756, 12984,\n",
        "            13940, 14082, 14650, 15171, 16636]\n",
        "\n",
        "outlier=set(outlier)\n",
        "outlier"
      ],
      "metadata": {
        "colab": {
          "base_uri": "https://localhost:8080/"
        },
        "id": "_N2FDin4hmKL",
        "outputId": "92e8eded-d584-4838-a543-69b201c6b25f"
      },
      "execution_count": 251,
      "outputs": [
        {
          "output_type": "execute_result",
          "data": {
            "text/plain": [
              "{273,\n",
              " 542,\n",
              " 1538,\n",
              " 1757,\n",
              " 1794,\n",
              " 2184,\n",
              " 2361,\n",
              " 2368,\n",
              " 2732,\n",
              " 2968,\n",
              " 3335,\n",
              " 3342,\n",
              " 3818,\n",
              " 4199,\n",
              " 4442,\n",
              " 5427,\n",
              " 6289,\n",
              " 6575,\n",
              " 7276,\n",
              " 7640,\n",
              " 7792,\n",
              " 8560,\n",
              " 8818,\n",
              " 9702,\n",
              " 10501,\n",
              " 10910,\n",
              " 11221,\n",
              " 11756,\n",
              " 11765,\n",
              " 12487,\n",
              " 12984,\n",
              " 13771,\n",
              " 13940,\n",
              " 14082,\n",
              " 14650,\n",
              " 15171,\n",
              " 16636}"
            ]
          },
          "metadata": {},
          "execution_count": 251
        }
      ]
    },
    {
      "cell_type": "code",
      "source": [
        "outlier=list(outlier)\n",
        "outlier"
      ],
      "metadata": {
        "colab": {
          "base_uri": "https://localhost:8080/"
        },
        "id": "AuNVDXY-jmwD",
        "outputId": "baa06cb3-6c6b-46db-ca31-70367804e123"
      },
      "execution_count": 253,
      "outputs": [
        {
          "output_type": "execute_result",
          "data": {
            "text/plain": [
              "[1538,\n",
              " 1794,\n",
              " 14082,\n",
              " 10501,\n",
              " 3335,\n",
              " 2184,\n",
              " 3342,\n",
              " 273,\n",
              " 6289,\n",
              " 2968,\n",
              " 542,\n",
              " 10910,\n",
              " 2732,\n",
              " 6575,\n",
              " 5427,\n",
              " 12984,\n",
              " 2361,\n",
              " 14650,\n",
              " 2368,\n",
              " 15171,\n",
              " 12487,\n",
              " 13771,\n",
              " 11221,\n",
              " 7640,\n",
              " 4442,\n",
              " 1757,\n",
              " 9702,\n",
              " 4199,\n",
              " 3818,\n",
              " 7276,\n",
              " 11756,\n",
              " 7792,\n",
              " 8560,\n",
              " 8818,\n",
              " 13940,\n",
              " 11765,\n",
              " 16636]"
            ]
          },
          "metadata": {},
          "execution_count": 253
        }
      ]
    },
    {
      "cell_type": "code",
      "source": [
        "train=train.drop(outlier)"
      ],
      "metadata": {
        "id": "-q9TFe0Xjvgb"
      },
      "execution_count": 254,
      "outputs": []
    },
    {
      "cell_type": "code",
      "source": [
        "plt.figure(figsize=(10,10))\n",
        "sns.heatmap(train.corr(),annot=True)"
      ],
      "metadata": {
        "colab": {
          "base_uri": "https://localhost:8080/",
          "height": 667
        },
        "id": "P4vGPigSuXyx",
        "outputId": "658c56b4-d715-4953-81d4-fbe7f9ee0c92"
      },
      "execution_count": 80,
      "outputs": [
        {
          "output_type": "execute_result",
          "data": {
            "text/plain": [
              "<matplotlib.axes._subplots.AxesSubplot at 0x7fea51a5e990>"
            ]
          },
          "metadata": {},
          "execution_count": 80
        },
        {
          "output_type": "display_data",
          "data": {
            "image/png": "[encoded data removed]",
            "text/plain": [
              "<Figure size 720x720 with 2 Axes>"
            ]
          },
          "metadata": {}
        }
      ]
    },
    {
      "cell_type": "code",
      "source": [
        "train.columns"
      ],
      "metadata": {
        "colab": {
          "base_uri": "https://localhost:8080/"
        },
        "id": "VHT7VHcGt9lG",
        "outputId": "93b9bd0f-bb12-4b0e-8eda-97c9440b2fbf"
      },
      "execution_count": 94,
      "outputs": [
        {
          "output_type": "execute_result",
          "data": {
            "text/plain": [
              "Index(['ID', 'company', 'model', 'year', 'transmission', 'mileage', 'fueltype',\n",
              "       'tax', 'mpg', 'engineSize', 'price'],\n",
              "      dtype='object')"
            ]
          },
          "metadata": {},
          "execution_count": 94
        }
      ]
    },
    {
      "cell_type": "code",
      "source": [
        "from sklearn.preprocessing import LabelEncoder\n",
        "\n",
        "la=LabelEncoder()\n",
        "\n",
        "train['model']=la.fit_transform(train['model'])\n",
        "test['model']=la.transform(test['model'])\n",
        "\n",
        "\n",
        "display(train.head())\n",
        "print()\n",
        "display(test.head())"
      ],
      "metadata": {
        "colab": {
          "base_uri": "https://localhost:8080/",
          "height": 458
        },
        "id": "dYrWSX9Vu492",
        "outputId": "e1614792-9300-4b8f-ba66-e563845f96ea"
      },
      "execution_count": 258,
      "outputs": [
        {
          "output_type": "display_data",
          "data": {
            "text/html": [
              "\n",
              "  <div id=\"df-941b85b6-0b94-4f66-ab53-be912761b792\">\n",
              "    <div class=\"colab-df-container\">\n",
              "      <div>\n",
              "<style scoped>\n",
              "    .dataframe tbody tr th:only-of-type {\n",
              "        vertical-align: middle;\n",
              "    }\n",
              "\n",
              "    .dataframe tbody tr th {\n",
              "        vertical-align: top;\n",
              "    }\n",
              "\n",
              "    .dataframe thead th {\n",
              "        text-align: right;\n",
              "    }\n",
              "</style>\n",
              "<table border=\"1\" class=\"dataframe\">\n",
              "  <thead>\n",
              "    <tr style=\"text-align: right;\">\n",
              "      <th></th>\n",
              "      <th>ID</th>\n",
              "      <th>company</th>\n",
              "      <th>model</th>\n",
              "      <th>year</th>\n",
              "      <th>transmission</th>\n",
              "      <th>mileage</th>\n",
              "      <th>fueltype</th>\n",
              "      <th>tax</th>\n",
              "      <th>mpg</th>\n",
              "      <th>engineSize</th>\n",
              "      <th>price</th>\n",
              "    </tr>\n",
              "  </thead>\n",
              "  <tbody>\n",
              "    <tr>\n",
              "      <th>0</th>\n",
              "      <td>0</td>\n",
              "      <td>2</td>\n",
              "      <td>26</td>\n",
              "      <td>2019</td>\n",
              "      <td>1</td>\n",
              "      <td>3764</td>\n",
              "      <td>4</td>\n",
              "      <td>145</td>\n",
              "      <td>34.5</td>\n",
              "      <td>2.3</td>\n",
              "      <td>26299</td>\n",
              "    </tr>\n",
              "    <tr>\n",
              "      <th>1</th>\n",
              "      <td>1</td>\n",
              "      <td>1</td>\n",
              "      <td>34</td>\n",
              "      <td>2015</td>\n",
              "      <td>1</td>\n",
              "      <td>27056</td>\n",
              "      <td>4</td>\n",
              "      <td>20</td>\n",
              "      <td>60.1</td>\n",
              "      <td>1.0</td>\n",
              "      <td>5495</td>\n",
              "    </tr>\n",
              "    <tr>\n",
              "      <th>2</th>\n",
              "      <td>2</td>\n",
              "      <td>3</td>\n",
              "      <td>9</td>\n",
              "      <td>2019</td>\n",
              "      <td>3</td>\n",
              "      <td>3375</td>\n",
              "      <td>4</td>\n",
              "      <td>145</td>\n",
              "      <td>34.5</td>\n",
              "      <td>2.0</td>\n",
              "      <td>32400</td>\n",
              "    </tr>\n",
              "    <tr>\n",
              "      <th>3</th>\n",
              "      <td>3</td>\n",
              "      <td>3</td>\n",
              "      <td>12</td>\n",
              "      <td>2019</td>\n",
              "      <td>0</td>\n",
              "      <td>5743</td>\n",
              "      <td>0</td>\n",
              "      <td>145</td>\n",
              "      <td>47.9</td>\n",
              "      <td>2.0</td>\n",
              "      <td>29990</td>\n",
              "    </tr>\n",
              "    <tr>\n",
              "      <th>4</th>\n",
              "      <td>4</td>\n",
              "      <td>2</td>\n",
              "      <td>25</td>\n",
              "      <td>2015</td>\n",
              "      <td>1</td>\n",
              "      <td>32782</td>\n",
              "      <td>4</td>\n",
              "      <td>0</td>\n",
              "      <td>65.7</td>\n",
              "      <td>1.0</td>\n",
              "      <td>7250</td>\n",
              "    </tr>\n",
              "  </tbody>\n",
              "</table>\n",
              "</div>\n",
              "      <button class=\"colab-df-convert\" onclick=\"convertToInteractive('df-941b85b6-0b94-4f66-ab53-be912761b792')\"\n",
              "              title=\"Convert this dataframe to an interactive table.\"\n",
              "              style=\"display:none;\">\n",
              "        \n",
              "  <svg xmlns=\"http://www.w3.org/2000/svg\" height=\"24px\"viewBox=\"0 0 24 24\"\n",
              "       width=\"24px\">\n",
              "    <path d=\"M0 0h24v24H0V0z\" fill=\"none\"/>\n",
              "    <path d=\"M18.56 5.44l.94 2.06.94-2.06 2.06-.94-2.06-.94-.94-2.06-.94 2.06-2.06.94zm-11 1L8.5 8.5l.94-2.06 2.06-.94-2.06-.94L8.5 2.5l-.94 2.06-2.06.94zm10 10l.94 2.06.94-2.06 2.06-.94-2.06-.94-.94-2.06-.94 2.06-2.06.94z\"/><path d=\"M17.41 7.96l-1.37-1.37c-.4-.4-.92-.59-1.43-.59-.52 0-1.04.2-1.43.59L10.3 9.45l-7.72 7.72c-.78.78-.78 2.05 0 2.83L4 21.41c.39.39.9.59 1.41.59.51 0 1.02-.2 1.41-.59l7.78-7.78 2.81-2.81c.8-.78.8-2.07 0-2.86zM5.41 20L4 18.59l7.72-7.72 1.47 1.35L5.41 20z\"/>\n",
              "  </svg>\n",
              "      </button>\n",
              "      \n",
              "  <style>\n",
              "    .colab-df-container {\n",
              "      display:flex;\n",
              "      flex-wrap:wrap;\n",
              "      gap: 12px;\n",
              "    }\n",
              "\n",
              "    .colab-df-convert {\n",
              "      background-color: #E8F0FE;\n",
              "      border: none;\n",
              "      border-radius: 50%;\n",
              "      cursor: pointer;\n",
              "      display: none;\n",
              "      fill: #1967D2;\n",
              "      height: 32px;\n",
              "      padding: 0 0 0 0;\n",
              "      width: 32px;\n",
              "    }\n",
              "\n",
              "    .colab-df-convert:hover {\n",
              "      background-color: #E2EBFA;\n",
              "      box-shadow: 0px 1px 2px rgba(60, 64, 67, 0.3), 0px 1px 3px 1px rgba(60, 64, 67, 0.15);\n",
              "      fill: #174EA6;\n",
              "    }\n",
              "\n",
              "    [theme=dark] .colab-df-convert {\n",
              "      background-color: #3B4455;\n",
              "      fill: #D2E3FC;\n",
              "    }\n",
              "\n",
              "    [theme=dark] .colab-df-convert:hover {\n",
              "      background-color: #434B5C;\n",
              "      box-shadow: 0px 1px 3px 1px rgba(0, 0, 0, 0.15);\n",
              "      filter: drop-shadow(0px 1px 2px rgba(0, 0, 0, 0.3));\n",
              "      fill: #FFFFFF;\n",
              "    }\n",
              "  </style>\n",
              "\n",
              "      <script>\n",
              "        const buttonEl =\n",
              "          document.querySelector('#df-941b85b6-0b94-4f66-ab53-be912761b792 button.colab-df-convert');\n",
              "        buttonEl.style.display =\n",
              "          google.colab.kernel.accessAllowed ? 'block' : 'none';\n",
              "\n",
              "        async function convertToInteractive(key) {\n",
              "          const element = document.querySelector('#df-941b85b6-0b94-4f66-ab53-be912761b792');\n",
              "          const dataTable =\n",
              "            await google.colab.kernel.invokeFunction('convertToInteractive',\n",
              "                                                     [key], {});\n",
              "          if (!dataTable) return;\n",
              "\n",
              "          const docLinkHtml = 'Like what you see? Visit the ' +\n",
              "            '<a target=\"_blank\" href=https://colab.research.google.com/notebooks/data_table.ipynb>data table notebook</a>'\n",
              "            + ' to learn more about interactive tables.';\n",
              "          element.innerHTML = '';\n",
              "          dataTable['output_type'] = 'display_data';\n",
              "          await google.colab.output.renderOutput(dataTable, element);\n",
              "          const docLink = document.createElement('div');\n",
              "          docLink.innerHTML = docLinkHtml;\n",
              "          element.appendChild(docLink);\n",
              "        }\n",
              "      </script>\n",
              "    </div>\n",
              "  </div>\n",
              "  "
            ],
            "text/plain": [
              "   ID  company  model  year  ...  tax   mpg  engineSize  price\n",
              "0   0        2     26  2019  ...  145  34.5         2.3  26299\n",
              "1   1        1     34  2015  ...   20  60.1         1.0   5495\n",
              "2   2        3      9  2019  ...  145  34.5         2.0  32400\n",
              "3   3        3     12  2019  ...  145  47.9         2.0  29990\n",
              "4   4        2     25  2015  ...    0  65.7         1.0   7250\n",
              "\n",
              "[5 rows x 11 columns]"
            ]
          },
          "metadata": {}
        },
        {
          "output_type": "stream",
          "name": "stdout",
          "text": [
            "\n"
          ]
        },
        {
          "output_type": "display_data",
          "data": {
            "text/html": [
              "\n",
              "  <div id=\"df-edbcd2db-99a8-4e44-916c-bbd0ef51fefa\">\n",
              "    <div class=\"colab-df-container\">\n",
              "      <div>\n",
              "<style scoped>\n",
              "    .dataframe tbody tr th:only-of-type {\n",
              "        vertical-align: middle;\n",
              "    }\n",
              "\n",
              "    .dataframe tbody tr th {\n",
              "        vertical-align: top;\n",
              "    }\n",
              "\n",
              "    .dataframe thead th {\n",
              "        text-align: right;\n",
              "    }\n",
              "</style>\n",
              "<table border=\"1\" class=\"dataframe\">\n",
              "  <thead>\n",
              "    <tr style=\"text-align: right;\">\n",
              "      <th></th>\n",
              "      <th>ID</th>\n",
              "      <th>company</th>\n",
              "      <th>model</th>\n",
              "      <th>year</th>\n",
              "      <th>transmission</th>\n",
              "      <th>mileage</th>\n",
              "      <th>fueltype</th>\n",
              "      <th>tax</th>\n",
              "      <th>mpg</th>\n",
              "      <th>engineSize</th>\n",
              "    </tr>\n",
              "  </thead>\n",
              "  <tbody>\n",
              "    <tr>\n",
              "      <th>0</th>\n",
              "      <td>0</td>\n",
              "      <td>2</td>\n",
              "      <td>44</td>\n",
              "      <td>2017</td>\n",
              "      <td>1</td>\n",
              "      <td>10150</td>\n",
              "      <td>4</td>\n",
              "      <td>145</td>\n",
              "      <td>57.7</td>\n",
              "      <td>1.2</td>\n",
              "    </tr>\n",
              "    <tr>\n",
              "      <th>1</th>\n",
              "      <td>1</td>\n",
              "      <td>2</td>\n",
              "      <td>46</td>\n",
              "      <td>2013</td>\n",
              "      <td>1</td>\n",
              "      <td>50216</td>\n",
              "      <td>0</td>\n",
              "      <td>145</td>\n",
              "      <td>53.3</td>\n",
              "      <td>2.0</td>\n",
              "    </tr>\n",
              "    <tr>\n",
              "      <th>2</th>\n",
              "      <td>2</td>\n",
              "      <td>3</td>\n",
              "      <td>60</td>\n",
              "      <td>2016</td>\n",
              "      <td>1</td>\n",
              "      <td>34189</td>\n",
              "      <td>0</td>\n",
              "      <td>200</td>\n",
              "      <td>47.9</td>\n",
              "      <td>2.0</td>\n",
              "    </tr>\n",
              "    <tr>\n",
              "      <th>3</th>\n",
              "      <td>3</td>\n",
              "      <td>1</td>\n",
              "      <td>34</td>\n",
              "      <td>2020</td>\n",
              "      <td>1</td>\n",
              "      <td>1900</td>\n",
              "      <td>4</td>\n",
              "      <td>145</td>\n",
              "      <td>56.5</td>\n",
              "      <td>1.0</td>\n",
              "    </tr>\n",
              "    <tr>\n",
              "      <th>4</th>\n",
              "      <td>4</td>\n",
              "      <td>0</td>\n",
              "      <td>2</td>\n",
              "      <td>2014</td>\n",
              "      <td>0</td>\n",
              "      <td>79809</td>\n",
              "      <td>0</td>\n",
              "      <td>20</td>\n",
              "      <td>68.9</td>\n",
              "      <td>2.0</td>\n",
              "    </tr>\n",
              "  </tbody>\n",
              "</table>\n",
              "</div>\n",
              "      <button class=\"colab-df-convert\" onclick=\"convertToInteractive('df-edbcd2db-99a8-4e44-916c-bbd0ef51fefa')\"\n",
              "              title=\"Convert this dataframe to an interactive table.\"\n",
              "              style=\"display:none;\">\n",
              "        \n",
              "  <svg xmlns=\"http://www.w3.org/2000/svg\" height=\"24px\"viewBox=\"0 0 24 24\"\n",
              "       width=\"24px\">\n",
              "    <path d=\"M0 0h24v24H0V0z\" fill=\"none\"/>\n",
              "    <path d=\"M18.56 5.44l.94 2.06.94-2.06 2.06-.94-2.06-.94-.94-2.06-.94 2.06-2.06.94zm-11 1L8.5 8.5l.94-2.06 2.06-.94-2.06-.94L8.5 2.5l-.94 2.06-2.06.94zm10 10l.94 2.06.94-2.06 2.06-.94-2.06-.94-.94-2.06-.94 2.06-2.06.94z\"/><path d=\"M17.41 7.96l-1.37-1.37c-.4-.4-.92-.59-1.43-.59-.52 0-1.04.2-1.43.59L10.3 9.45l-7.72 7.72c-.78.78-.78 2.05 0 2.83L4 21.41c.39.39.9.59 1.41.59.51 0 1.02-.2 1.41-.59l7.78-7.78 2.81-2.81c.8-.78.8-2.07 0-2.86zM5.41 20L4 18.59l7.72-7.72 1.47 1.35L5.41 20z\"/>\n",
              "  </svg>\n",
              "      </button>\n",
              "      \n",
              "  <style>\n",
              "    .colab-df-container {\n",
              "      display:flex;\n",
              "      flex-wrap:wrap;\n",
              "      gap: 12px;\n",
              "    }\n",
              "\n",
              "    .colab-df-convert {\n",
              "      background-color: #E8F0FE;\n",
              "      border: none;\n",
              "      border-radius: 50%;\n",
              "      cursor: pointer;\n",
              "      display: none;\n",
              "      fill: #1967D2;\n",
              "      height: 32px;\n",
              "      padding: 0 0 0 0;\n",
              "      width: 32px;\n",
              "    }\n",
              "\n",
              "    .colab-df-convert:hover {\n",
              "      background-color: #E2EBFA;\n",
              "      box-shadow: 0px 1px 2px rgba(60, 64, 67, 0.3), 0px 1px 3px 1px rgba(60, 64, 67, 0.15);\n",
              "      fill: #174EA6;\n",
              "    }\n",
              "\n",
              "    [theme=dark] .colab-df-convert {\n",
              "      background-color: #3B4455;\n",
              "      fill: #D2E3FC;\n",
              "    }\n",
              "\n",
              "    [theme=dark] .colab-df-convert:hover {\n",
              "      background-color: #434B5C;\n",
              "      box-shadow: 0px 1px 3px 1px rgba(0, 0, 0, 0.15);\n",
              "      filter: drop-shadow(0px 1px 2px rgba(0, 0, 0, 0.3));\n",
              "      fill: #FFFFFF;\n",
              "    }\n",
              "  </style>\n",
              "\n",
              "      <script>\n",
              "        const buttonEl =\n",
              "          document.querySelector('#df-edbcd2db-99a8-4e44-916c-bbd0ef51fefa button.colab-df-convert');\n",
              "        buttonEl.style.display =\n",
              "          google.colab.kernel.accessAllowed ? 'block' : 'none';\n",
              "\n",
              "        async function convertToInteractive(key) {\n",
              "          const element = document.querySelector('#df-edbcd2db-99a8-4e44-916c-bbd0ef51fefa');\n",
              "          const dataTable =\n",
              "            await google.colab.kernel.invokeFunction('convertToInteractive',\n",
              "                                                     [key], {});\n",
              "          if (!dataTable) return;\n",
              "\n",
              "          const docLinkHtml = 'Like what you see? Visit the ' +\n",
              "            '<a target=\"_blank\" href=https://colab.research.google.com/notebooks/data_table.ipynb>data table notebook</a>'\n",
              "            + ' to learn more about interactive tables.';\n",
              "          element.innerHTML = '';\n",
              "          dataTable['output_type'] = 'display_data';\n",
              "          await google.colab.output.renderOutput(dataTable, element);\n",
              "          const docLink = document.createElement('div');\n",
              "          docLink.innerHTML = docLinkHtml;\n",
              "          element.appendChild(docLink);\n",
              "        }\n",
              "      </script>\n",
              "    </div>\n",
              "  </div>\n",
              "  "
            ],
            "text/plain": [
              "   ID  company  model  year  ...  fueltype  tax   mpg  engineSize\n",
              "0   0        2     44  2017  ...         4  145  57.7         1.2\n",
              "1   1        2     46  2013  ...         0  145  53.3         2.0\n",
              "2   2        3     60  2016  ...         0  200  47.9         2.0\n",
              "3   3        1     34  2020  ...         4  145  56.5         1.0\n",
              "4   4        0      2  2014  ...         0   20  68.9         2.0\n",
              "\n",
              "[5 rows x 10 columns]"
            ]
          },
          "metadata": {}
        }
      ]
    },
    {
      "cell_type": "code",
      "source": [
        "x_train=train.drop('price',axis=1)\n",
        "y_train=train['price']\n",
        "x_test=test"
      ],
      "metadata": {
        "id": "JNEFa1XO0b-M"
      },
      "execution_count": 230,
      "outputs": []
    },
    {
      "cell_type": "code",
      "source": [
        "print(x_train.shape)\n",
        "print(y_train.shape)\n",
        "print(x_test.shape)"
      ],
      "metadata": {
        "colab": {
          "base_uri": "https://localhost:8080/"
        },
        "id": "zF10bJV3Zk0B",
        "outputId": "29194c1a-5985-4082-87b7-c402e94c4336"
      },
      "execution_count": 231,
      "outputs": [
        {
          "output_type": "stream",
          "name": "stdout",
          "text": [
            "(17085, 10)\n",
            "(17085,)\n",
            "(16831, 10)\n"
          ]
        }
      ]
    },
    {
      "cell_type": "code",
      "source": [
        "x_train.drop('ID',axis=1,inplace=True)\n"
      ],
      "metadata": {
        "id": "vgq5w99qZrDn"
      },
      "execution_count": 232,
      "outputs": []
    },
    {
      "cell_type": "code",
      "source": [
        "x_test.drop('ID',axis=1,inplace=True)"
      ],
      "metadata": {
        "id": "MwWE77rTZ-RE"
      },
      "execution_count": 233,
      "outputs": []
    },
    {
      "cell_type": "code",
      "source": [
        "x_train"
      ],
      "metadata": {
        "colab": {
          "base_uri": "https://localhost:8080/",
          "height": 423
        },
        "id": "x8dd_b7yfaMk",
        "outputId": "30291075-6915-4867-b9c5-9e1e2a62c5c7"
      },
      "execution_count": 234,
      "outputs": [
        {
          "output_type": "execute_result",
          "data": {
            "text/html": [
              "\n",
              "  <div id=\"df-fa7bfe36-9c1d-46ce-98b5-1ed9fefc961c\">\n",
              "    <div class=\"colab-df-container\">\n",
              "      <div>\n",
              "<style scoped>\n",
              "    .dataframe tbody tr th:only-of-type {\n",
              "        vertical-align: middle;\n",
              "    }\n",
              "\n",
              "    .dataframe tbody tr th {\n",
              "        vertical-align: top;\n",
              "    }\n",
              "\n",
              "    .dataframe thead th {\n",
              "        text-align: right;\n",
              "    }\n",
              "</style>\n",
              "<table border=\"1\" class=\"dataframe\">\n",
              "  <thead>\n",
              "    <tr style=\"text-align: right;\">\n",
              "      <th></th>\n",
              "      <th>company</th>\n",
              "      <th>model</th>\n",
              "      <th>year</th>\n",
              "      <th>transmission</th>\n",
              "      <th>mileage</th>\n",
              "      <th>fueltype</th>\n",
              "      <th>tax</th>\n",
              "      <th>mpg</th>\n",
              "      <th>engineSize</th>\n",
              "    </tr>\n",
              "  </thead>\n",
              "  <tbody>\n",
              "    <tr>\n",
              "      <th>0</th>\n",
              "      <td>2</td>\n",
              "      <td>26</td>\n",
              "      <td>2019</td>\n",
              "      <td>1</td>\n",
              "      <td>3764</td>\n",
              "      <td>4</td>\n",
              "      <td>145</td>\n",
              "      <td>34.5</td>\n",
              "      <td>2.3</td>\n",
              "    </tr>\n",
              "    <tr>\n",
              "      <th>1</th>\n",
              "      <td>1</td>\n",
              "      <td>34</td>\n",
              "      <td>2015</td>\n",
              "      <td>1</td>\n",
              "      <td>27056</td>\n",
              "      <td>4</td>\n",
              "      <td>20</td>\n",
              "      <td>60.1</td>\n",
              "      <td>1.0</td>\n",
              "    </tr>\n",
              "    <tr>\n",
              "      <th>2</th>\n",
              "      <td>3</td>\n",
              "      <td>9</td>\n",
              "      <td>2019</td>\n",
              "      <td>3</td>\n",
              "      <td>3375</td>\n",
              "      <td>4</td>\n",
              "      <td>145</td>\n",
              "      <td>34.5</td>\n",
              "      <td>2.0</td>\n",
              "    </tr>\n",
              "    <tr>\n",
              "      <th>3</th>\n",
              "      <td>3</td>\n",
              "      <td>12</td>\n",
              "      <td>2019</td>\n",
              "      <td>0</td>\n",
              "      <td>5743</td>\n",
              "      <td>0</td>\n",
              "      <td>145</td>\n",
              "      <td>47.9</td>\n",
              "      <td>2.0</td>\n",
              "    </tr>\n",
              "    <tr>\n",
              "      <th>4</th>\n",
              "      <td>2</td>\n",
              "      <td>25</td>\n",
              "      <td>2015</td>\n",
              "      <td>1</td>\n",
              "      <td>32782</td>\n",
              "      <td>4</td>\n",
              "      <td>0</td>\n",
              "      <td>65.7</td>\n",
              "      <td>1.0</td>\n",
              "    </tr>\n",
              "    <tr>\n",
              "      <th>...</th>\n",
              "      <td>...</td>\n",
              "      <td>...</td>\n",
              "      <td>...</td>\n",
              "      <td>...</td>\n",
              "      <td>...</td>\n",
              "      <td>...</td>\n",
              "      <td>...</td>\n",
              "      <td>...</td>\n",
              "      <td>...</td>\n",
              "    </tr>\n",
              "    <tr>\n",
              "      <th>17080</th>\n",
              "      <td>0</td>\n",
              "      <td>0</td>\n",
              "      <td>2018</td>\n",
              "      <td>0</td>\n",
              "      <td>4666</td>\n",
              "      <td>4</td>\n",
              "      <td>145</td>\n",
              "      <td>32.5</td>\n",
              "      <td>3.0</td>\n",
              "    </tr>\n",
              "    <tr>\n",
              "      <th>17081</th>\n",
              "      <td>3</td>\n",
              "      <td>10</td>\n",
              "      <td>2020</td>\n",
              "      <td>3</td>\n",
              "      <td>22601</td>\n",
              "      <td>4</td>\n",
              "      <td>145</td>\n",
              "      <td>39.2</td>\n",
              "      <td>2.0</td>\n",
              "    </tr>\n",
              "    <tr>\n",
              "      <th>17082</th>\n",
              "      <td>4</td>\n",
              "      <td>93</td>\n",
              "      <td>2018</td>\n",
              "      <td>1</td>\n",
              "      <td>20312</td>\n",
              "      <td>4</td>\n",
              "      <td>145</td>\n",
              "      <td>47.1</td>\n",
              "      <td>1.5</td>\n",
              "    </tr>\n",
              "    <tr>\n",
              "      <th>17083</th>\n",
              "      <td>2</td>\n",
              "      <td>26</td>\n",
              "      <td>2018</td>\n",
              "      <td>1</td>\n",
              "      <td>18695</td>\n",
              "      <td>4</td>\n",
              "      <td>145</td>\n",
              "      <td>58.9</td>\n",
              "      <td>1.0</td>\n",
              "    </tr>\n",
              "    <tr>\n",
              "      <th>17084</th>\n",
              "      <td>2</td>\n",
              "      <td>25</td>\n",
              "      <td>2014</td>\n",
              "      <td>1</td>\n",
              "      <td>37812</td>\n",
              "      <td>0</td>\n",
              "      <td>0</td>\n",
              "      <td>76.4</td>\n",
              "      <td>1.5</td>\n",
              "    </tr>\n",
              "  </tbody>\n",
              "</table>\n",
              "<p>17085 rows × 9 columns</p>\n",
              "</div>\n",
              "      <button class=\"colab-df-convert\" onclick=\"convertToInteractive('df-fa7bfe36-9c1d-46ce-98b5-1ed9fefc961c')\"\n",
              "              title=\"Convert this dataframe to an interactive table.\"\n",
              "              style=\"display:none;\">\n",
              "        \n",
              "  <svg xmlns=\"http://www.w3.org/2000/svg\" height=\"24px\"viewBox=\"0 0 24 24\"\n",
              "       width=\"24px\">\n",
              "    <path d=\"M0 0h24v24H0V0z\" fill=\"none\"/>\n",
              "    <path d=\"M18.56 5.44l.94 2.06.94-2.06 2.06-.94-2.06-.94-.94-2.06-.94 2.06-2.06.94zm-11 1L8.5 8.5l.94-2.06 2.06-.94-2.06-.94L8.5 2.5l-.94 2.06-2.06.94zm10 10l.94 2.06.94-2.06 2.06-.94-2.06-.94-.94-2.06-.94 2.06-2.06.94z\"/><path d=\"M17.41 7.96l-1.37-1.37c-.4-.4-.92-.59-1.43-.59-.52 0-1.04.2-1.43.59L10.3 9.45l-7.72 7.72c-.78.78-.78 2.05 0 2.83L4 21.41c.39.39.9.59 1.41.59.51 0 1.02-.2 1.41-.59l7.78-7.78 2.81-2.81c.8-.78.8-2.07 0-2.86zM5.41 20L4 18.59l7.72-7.72 1.47 1.35L5.41 20z\"/>\n",
              "  </svg>\n",
              "      </button>\n",
              "      \n",
              "  <style>\n",
              "    .colab-df-container {\n",
              "      display:flex;\n",
              "      flex-wrap:wrap;\n",
              "      gap: 12px;\n",
              "    }\n",
              "\n",
              "    .colab-df-convert {\n",
              "      background-color: #E8F0FE;\n",
              "      border: none;\n",
              "      border-radius: 50%;\n",
              "      cursor: pointer;\n",
              "      display: none;\n",
              "      fill: #1967D2;\n",
              "      height: 32px;\n",
              "      padding: 0 0 0 0;\n",
              "      width: 32px;\n",
              "    }\n",
              "\n",
              "    .colab-df-convert:hover {\n",
              "      background-color: #E2EBFA;\n",
              "      box-shadow: 0px 1px 2px rgba(60, 64, 67, 0.3), 0px 1px 3px 1px rgba(60, 64, 67, 0.15);\n",
              "      fill: #174EA6;\n",
              "    }\n",
              "\n",
              "    [theme=dark] .colab-df-convert {\n",
              "      background-color: #3B4455;\n",
              "      fill: #D2E3FC;\n",
              "    }\n",
              "\n",
              "    [theme=dark] .colab-df-convert:hover {\n",
              "      background-color: #434B5C;\n",
              "      box-shadow: 0px 1px 3px 1px rgba(0, 0, 0, 0.15);\n",
              "      filter: drop-shadow(0px 1px 2px rgba(0, 0, 0, 0.3));\n",
              "      fill: #FFFFFF;\n",
              "    }\n",
              "  </style>\n",
              "\n",
              "      <script>\n",
              "        const buttonEl =\n",
              "          document.querySelector('#df-fa7bfe36-9c1d-46ce-98b5-1ed9fefc961c button.colab-df-convert');\n",
              "        buttonEl.style.display =\n",
              "          google.colab.kernel.accessAllowed ? 'block' : 'none';\n",
              "\n",
              "        async function convertToInteractive(key) {\n",
              "          const element = document.querySelector('#df-fa7bfe36-9c1d-46ce-98b5-1ed9fefc961c');\n",
              "          const dataTable =\n",
              "            await google.colab.kernel.invokeFunction('convertToInteractive',\n",
              "                                                     [key], {});\n",
              "          if (!dataTable) return;\n",
              "\n",
              "          const docLinkHtml = 'Like what you see? Visit the ' +\n",
              "            '<a target=\"_blank\" href=https://colab.research.google.com/notebooks/data_table.ipynb>data table notebook</a>'\n",
              "            + ' to learn more about interactive tables.';\n",
              "          element.innerHTML = '';\n",
              "          dataTable['output_type'] = 'display_data';\n",
              "          await google.colab.output.renderOutput(dataTable, element);\n",
              "          const docLink = document.createElement('div');\n",
              "          docLink.innerHTML = docLinkHtml;\n",
              "          element.appendChild(docLink);\n",
              "        }\n",
              "      </script>\n",
              "    </div>\n",
              "  </div>\n",
              "  "
            ],
            "text/plain": [
              "       company  model  year  transmission  ...  fueltype  tax   mpg  engineSize\n",
              "0            2     26  2019             1  ...         4  145  34.5         2.3\n",
              "1            1     34  2015             1  ...         4   20  60.1         1.0\n",
              "2            3      9  2019             3  ...         4  145  34.5         2.0\n",
              "3            3     12  2019             0  ...         0  145  47.9         2.0\n",
              "4            2     25  2015             1  ...         4    0  65.7         1.0\n",
              "...        ...    ...   ...           ...  ...       ...  ...   ...         ...\n",
              "17080        0      0  2018             0  ...         4  145  32.5         3.0\n",
              "17081        3     10  2020             3  ...         4  145  39.2         2.0\n",
              "17082        4     93  2018             1  ...         4  145  47.1         1.5\n",
              "17083        2     26  2018             1  ...         4  145  58.9         1.0\n",
              "17084        2     25  2014             1  ...         0    0  76.4         1.5\n",
              "\n",
              "[17085 rows x 9 columns]"
            ]
          },
          "metadata": {},
          "execution_count": 234
        }
      ]
    },
    {
      "cell_type": "code",
      "source": [
        "x_train.columns"
      ],
      "metadata": {
        "colab": {
          "base_uri": "https://localhost:8080/"
        },
        "id": "cvL6MDt4fn3l",
        "outputId": "0aa695f9-cbc3-4200-8f1a-d0a04c908bf5"
      },
      "execution_count": 235,
      "outputs": [
        {
          "output_type": "execute_result",
          "data": {
            "text/plain": [
              "Index(['company', 'model', 'year', 'transmission', 'mileage', 'fueltype',\n",
              "       'tax', 'mpg', 'engineSize'],\n",
              "      dtype='object')"
            ]
          },
          "metadata": {},
          "execution_count": 235
        }
      ]
    },
    {
      "cell_type": "code",
      "source": [
        "x_train=np.array(x_train)\n",
        "y_train=np.array(y_train)\n",
        "x_test=np.array(x_test)"
      ],
      "metadata": {
        "id": "1UbpdRaIadNx"
      },
      "execution_count": 239,
      "outputs": []
    },
    {
      "cell_type": "markdown",
      "source": [
        "## 모델링"
      ],
      "metadata": {
        "id": "suRi8cr-E3MC"
      }
    },
    {
      "cell_type": "code",
      "source": [
        "import torch\n",
        "import torch.optim as optim\n",
        "\n",
        "torch.manual_seed(1)\n",
        "\n",
        "epochs = 100000\n",
        "\n",
        "device = 'cuda' if torch.cuda.is_available() else 'cpu'\n",
        "\n",
        "x_train = torch.FloatTensor(x_train).to(device)\n",
        "y_train = torch.FloatTensor(y_train).reshape(-1,1).to(device)\n",
        "\n",
        "W = torch.zeros((9,1), requires_grad=True, device=device)\n",
        "b = torch.zeros(1, requires_grad=True, device=device)\n",
        "\n",
        "optimizer = optim.SGD([W,b], lr=1e-5)"
      ],
      "metadata": {
        "id": "etu9W9TZE09E"
      },
      "execution_count": 240,
      "outputs": []
    },
    {
      "cell_type": "code",
      "source": [
        "pip install livelossplot"
      ],
      "metadata": {
        "colab": {
          "base_uri": "https://localhost:8080/"
        },
        "id": "xl5UhsqGFaUi",
        "outputId": "c2c064b2-b88c-41d3-b0e8-f9eb29639a9e"
      },
      "execution_count": 210,
      "outputs": [
        {
          "output_type": "stream",
          "name": "stdout",
          "text": [
            "Requirement already satisfied: livelossplot in /usr/local/lib/python3.7/dist-packages (0.5.4)\n",
            "Requirement already satisfied: matplotlib in /usr/local/lib/python3.7/dist-packages (from livelossplot) (3.2.2)\n",
            "Requirement already satisfied: ipython in /usr/local/lib/python3.7/dist-packages (from livelossplot) (5.5.0)\n",
            "Requirement already satisfied: bokeh in /usr/local/lib/python3.7/dist-packages (from livelossplot) (2.3.3)\n",
            "Requirement already satisfied: python-dateutil>=2.1 in /usr/local/lib/python3.7/dist-packages (from bokeh->livelossplot) (2.8.2)\n",
            "Requirement already satisfied: PyYAML>=3.10 in /usr/local/lib/python3.7/dist-packages (from bokeh->livelossplot) (3.13)\n",
            "Requirement already satisfied: tornado>=5.1 in /usr/local/lib/python3.7/dist-packages (from bokeh->livelossplot) (5.1.1)\n",
            "Requirement already satisfied: pillow>=7.1.0 in /usr/local/lib/python3.7/dist-packages (from bokeh->livelossplot) (7.1.2)\n",
            "Requirement already satisfied: typing-extensions>=3.7.4 in /usr/local/lib/python3.7/dist-packages (from bokeh->livelossplot) (3.10.0.2)\n",
            "Requirement already satisfied: packaging>=16.8 in /usr/local/lib/python3.7/dist-packages (from bokeh->livelossplot) (21.3)\n",
            "Requirement already satisfied: Jinja2>=2.9 in /usr/local/lib/python3.7/dist-packages (from bokeh->livelossplot) (2.11.3)\n",
            "Requirement already satisfied: numpy>=1.11.3 in /usr/local/lib/python3.7/dist-packages (from bokeh->livelossplot) (1.19.5)\n",
            "Requirement already satisfied: MarkupSafe>=0.23 in /usr/local/lib/python3.7/dist-packages (from Jinja2>=2.9->bokeh->livelossplot) (2.0.1)\n",
            "Requirement already satisfied: pyparsing!=3.0.5,>=2.0.2 in /usr/local/lib/python3.7/dist-packages (from packaging>=16.8->bokeh->livelossplot) (3.0.7)\n",
            "Requirement already satisfied: six>=1.5 in /usr/local/lib/python3.7/dist-packages (from python-dateutil>=2.1->bokeh->livelossplot) (1.15.0)\n",
            "Requirement already satisfied: pygments in /usr/local/lib/python3.7/dist-packages (from ipython->livelossplot) (2.6.1)\n",
            "Requirement already satisfied: setuptools>=18.5 in /usr/local/lib/python3.7/dist-packages (from ipython->livelossplot) (57.4.0)\n",
            "Requirement already satisfied: pickleshare in /usr/local/lib/python3.7/dist-packages (from ipython->livelossplot) (0.7.5)\n",
            "Requirement already satisfied: prompt-toolkit<2.0.0,>=1.0.4 in /usr/local/lib/python3.7/dist-packages (from ipython->livelossplot) (1.0.18)\n",
            "Requirement already satisfied: traitlets>=4.2 in /usr/local/lib/python3.7/dist-packages (from ipython->livelossplot) (5.1.1)\n",
            "Requirement already satisfied: decorator in /usr/local/lib/python3.7/dist-packages (from ipython->livelossplot) (4.4.2)\n",
            "Requirement already satisfied: pexpect in /usr/local/lib/python3.7/dist-packages (from ipython->livelossplot) (4.8.0)\n",
            "Requirement already satisfied: simplegeneric>0.8 in /usr/local/lib/python3.7/dist-packages (from ipython->livelossplot) (0.8.1)\n",
            "Requirement already satisfied: wcwidth in /usr/local/lib/python3.7/dist-packages (from prompt-toolkit<2.0.0,>=1.0.4->ipython->livelossplot) (0.2.5)\n",
            "Requirement already satisfied: kiwisolver>=1.0.1 in /usr/local/lib/python3.7/dist-packages (from matplotlib->livelossplot) (1.3.2)\n",
            "Requirement already satisfied: cycler>=0.10 in /usr/local/lib/python3.7/dist-packages (from matplotlib->livelossplot) (0.11.0)\n",
            "Requirement already satisfied: ptyprocess>=0.5 in /usr/local/lib/python3.7/dist-packages (from pexpect->ipython->livelossplot) (0.7.0)\n"
          ]
        }
      ]
    },
    {
      "cell_type": "code",
      "source": [
        "from tqdm import tqdm\n",
        "from livelossplot import PlotLosses\n",
        "liveloss = PlotLosses()\n",
        "\n",
        "disp_freq = 400\n",
        "batch_size = 16000\n",
        "\n",
        "visualizer = {}\n",
        "\n",
        "for epoch in tqdm(range(epochs)):\n",
        "\n",
        "    H = x_train.matmul(W) + b\n",
        "    #Mean Square Error\n",
        "#     loss =((H - train_y)**2).mean()\n",
        "    #Mean Absolute Error\n",
        "    loss = torch.mean(torch.abs(H - y_train))\n",
        "    optimizer.zero_grad()\n",
        "    loss.backward()\n",
        "    optimizer.step()\n",
        "    \n",
        "    if epoch%disp_freq==0:\n",
        "#         visualizer['MAE'] = loss\n",
        "        print(loss)   \n",
        "#         liveloss.update(visualizer)\n",
        "#         liveloss.draw()"
      ],
      "metadata": {
        "colab": {
          "base_uri": "https://localhost:8080/"
        },
        "id": "iokvpocqF2xD",
        "outputId": "953d86dc-8103-4675-d16f-b8abebedd18e"
      },
      "execution_count": 241,
      "outputs": [
        {
          "output_type": "stream",
          "name": "stderr",
          "text": [
            "  0%|          | 257/100000 [00:00<00:38, 2569.37it/s]"
          ]
        },
        {
          "output_type": "stream",
          "name": "stdout",
          "text": [
            "tensor(16819.7637, grad_fn=<MeanBackward0>)\n",
            "tensor(7220.8271, grad_fn=<MeanBackward0>)\n"
          ]
        },
        {
          "output_type": "stream",
          "name": "stderr",
          "text": [
            "  1%|          | 1245/100000 [00:00<00:40, 2419.43it/s]"
          ]
        },
        {
          "output_type": "stream",
          "name": "stdout",
          "text": [
            "tensor(6881.5239, grad_fn=<MeanBackward0>)\n",
            "tensor(6871.5366, grad_fn=<MeanBackward0>)\n"
          ]
        },
        {
          "output_type": "stream",
          "name": "stderr",
          "text": [
            "  2%|▏         | 1974/100000 [00:00<00:41, 2388.81it/s]"
          ]
        },
        {
          "output_type": "stream",
          "name": "stdout",
          "text": [
            "tensor(6870.2471, grad_fn=<MeanBackward0>)\n",
            "tensor(6869.9116, grad_fn=<MeanBackward0>)\n"
          ]
        },
        {
          "output_type": "stream",
          "name": "stderr",
          "text": [
            "  3%|▎         | 2689/100000 [00:01<00:42, 2269.29it/s]"
          ]
        },
        {
          "output_type": "stream",
          "name": "stdout",
          "text": [
            "tensor(6869.8916, grad_fn=<MeanBackward0>)\n",
            "tensor(6869.8794, grad_fn=<MeanBackward0>)\n"
          ]
        },
        {
          "output_type": "stream",
          "name": "stderr",
          "text": [
            "  4%|▎         | 3641/100000 [00:01<00:40, 2351.96it/s]"
          ]
        },
        {
          "output_type": "stream",
          "name": "stdout",
          "text": [
            "tensor(6869.8662, grad_fn=<MeanBackward0>)\n",
            "tensor(6869.8530, grad_fn=<MeanBackward0>)\n"
          ]
        },
        {
          "output_type": "stream",
          "name": "stderr",
          "text": [
            "  4%|▍         | 4363/100000 [00:01<00:40, 2367.03it/s]"
          ]
        },
        {
          "output_type": "stream",
          "name": "stdout",
          "text": [
            "tensor(6869.8413, grad_fn=<MeanBackward0>)\n",
            "tensor(6869.8276, grad_fn=<MeanBackward0>)\n"
          ]
        },
        {
          "output_type": "stream",
          "name": "stderr",
          "text": [
            "  5%|▌         | 5076/100000 [00:02<00:40, 2343.67it/s]"
          ]
        },
        {
          "output_type": "stream",
          "name": "stdout",
          "text": [
            "tensor(6869.8154, grad_fn=<MeanBackward0>)\n",
            "tensor(6869.8032, grad_fn=<MeanBackward0>)\n"
          ]
        },
        {
          "output_type": "stream",
          "name": "stderr",
          "text": [
            "  6%|▌         | 6006/100000 [00:02<00:42, 2215.98it/s]"
          ]
        },
        {
          "output_type": "stream",
          "name": "stdout",
          "text": [
            "tensor(6869.7900, grad_fn=<MeanBackward0>)\n",
            "tensor(6869.7778, grad_fn=<MeanBackward0>)\n"
          ]
        },
        {
          "output_type": "stream",
          "name": "stderr",
          "text": [
            "  7%|▋         | 6723/100000 [00:02<00:40, 2326.39it/s]"
          ]
        },
        {
          "output_type": "stream",
          "name": "stdout",
          "text": [
            "tensor(6869.7646, grad_fn=<MeanBackward0>)\n",
            "tensor(6869.7520, grad_fn=<MeanBackward0>)\n"
          ]
        },
        {
          "output_type": "stream",
          "name": "stderr",
          "text": [
            "  8%|▊         | 7658/100000 [00:03<00:40, 2263.55it/s]"
          ]
        },
        {
          "output_type": "stream",
          "name": "stdout",
          "text": [
            "tensor(6869.7397, grad_fn=<MeanBackward0>)\n",
            "tensor(6869.7285, grad_fn=<MeanBackward0>)\n"
          ]
        },
        {
          "output_type": "stream",
          "name": "stderr",
          "text": [
            "  8%|▊         | 8374/100000 [00:03<00:38, 2357.73it/s]"
          ]
        },
        {
          "output_type": "stream",
          "name": "stdout",
          "text": [
            "tensor(6869.7153, grad_fn=<MeanBackward0>)\n",
            "tensor(6869.7026, grad_fn=<MeanBackward0>)\n"
          ]
        },
        {
          "output_type": "stream",
          "name": "stderr",
          "text": [
            "  9%|▉         | 9091/100000 [00:03<00:38, 2356.57it/s]"
          ]
        },
        {
          "output_type": "stream",
          "name": "stdout",
          "text": [
            "tensor(6869.6904, grad_fn=<MeanBackward0>)\n",
            "tensor(6869.6782, grad_fn=<MeanBackward0>)\n"
          ]
        },
        {
          "output_type": "stream",
          "name": "stderr",
          "text": [
            " 10%|█         | 10027/100000 [00:04<00:39, 2262.35it/s]"
          ]
        },
        {
          "output_type": "stream",
          "name": "stdout",
          "text": [
            "tensor(6869.6665, grad_fn=<MeanBackward0>)\n",
            "tensor(6869.6543, grad_fn=<MeanBackward0>)\n"
          ]
        },
        {
          "output_type": "stream",
          "name": "stderr",
          "text": [
            " 11%|█         | 10744/100000 [00:04<00:38, 2346.13it/s]"
          ]
        },
        {
          "output_type": "stream",
          "name": "stdout",
          "text": [
            "tensor(6869.6431, grad_fn=<MeanBackward0>)\n",
            "tensor(6869.6309, grad_fn=<MeanBackward0>)\n"
          ]
        },
        {
          "output_type": "stream",
          "name": "stderr",
          "text": [
            " 11%|█▏        | 11477/100000 [00:04<00:36, 2418.07it/s]"
          ]
        },
        {
          "output_type": "stream",
          "name": "stdout",
          "text": [
            "tensor(6869.6187, grad_fn=<MeanBackward0>)\n",
            "tensor(6869.6069, grad_fn=<MeanBackward0>)\n"
          ]
        },
        {
          "output_type": "stream",
          "name": "stderr",
          "text": [
            " 12%|█▏        | 12434/100000 [00:05<00:37, 2336.44it/s]"
          ]
        },
        {
          "output_type": "stream",
          "name": "stdout",
          "text": [
            "tensor(6869.5942, grad_fn=<MeanBackward0>)\n",
            "tensor(6869.5825, grad_fn=<MeanBackward0>)\n"
          ]
        },
        {
          "output_type": "stream",
          "name": "stderr",
          "text": [
            " 13%|█▎        | 13146/100000 [00:05<00:37, 2345.81it/s]"
          ]
        },
        {
          "output_type": "stream",
          "name": "stdout",
          "text": [
            "tensor(6869.5708, grad_fn=<MeanBackward0>)\n",
            "tensor(6869.5586, grad_fn=<MeanBackward0>)\n"
          ]
        },
        {
          "output_type": "stream",
          "name": "stderr",
          "text": [
            " 14%|█▍        | 13858/100000 [00:05<00:37, 2325.17it/s]"
          ]
        },
        {
          "output_type": "stream",
          "name": "stdout",
          "text": [
            "tensor(6869.5469, grad_fn=<MeanBackward0>)\n",
            "tensor(6869.5347, grad_fn=<MeanBackward0>)\n"
          ]
        },
        {
          "output_type": "stream",
          "name": "stderr",
          "text": [
            " 15%|█▍        | 14786/100000 [00:06<00:37, 2255.45it/s]"
          ]
        },
        {
          "output_type": "stream",
          "name": "stdout",
          "text": [
            "tensor(6869.5229, grad_fn=<MeanBackward0>)\n",
            "tensor(6869.5107, grad_fn=<MeanBackward0>)\n"
          ]
        },
        {
          "output_type": "stream",
          "name": "stderr",
          "text": [
            " 15%|█▌        | 15487/100000 [00:06<00:36, 2292.29it/s]"
          ]
        },
        {
          "output_type": "stream",
          "name": "stdout",
          "text": [
            "tensor(6869.4990, grad_fn=<MeanBackward0>)\n",
            "tensor(6869.4868, grad_fn=<MeanBackward0>)\n"
          ]
        },
        {
          "output_type": "stream",
          "name": "stderr",
          "text": [
            " 16%|█▋        | 16438/100000 [00:07<00:37, 2249.36it/s]"
          ]
        },
        {
          "output_type": "stream",
          "name": "stdout",
          "text": [
            "tensor(6869.4736, grad_fn=<MeanBackward0>)\n",
            "tensor(6869.4624, grad_fn=<MeanBackward0>)\n"
          ]
        },
        {
          "output_type": "stream",
          "name": "stderr",
          "text": [
            " 17%|█▋        | 17145/100000 [00:07<00:35, 2308.76it/s]"
          ]
        },
        {
          "output_type": "stream",
          "name": "stdout",
          "text": [
            "tensor(6869.4502, grad_fn=<MeanBackward0>)\n",
            "tensor(6869.4385, grad_fn=<MeanBackward0>)\n"
          ]
        },
        {
          "output_type": "stream",
          "name": "stderr",
          "text": [
            " 18%|█▊        | 17854/100000 [00:07<00:35, 2321.14it/s]"
          ]
        },
        {
          "output_type": "stream",
          "name": "stdout",
          "text": [
            "tensor(6869.4268, grad_fn=<MeanBackward0>)\n",
            "tensor(6869.4150, grad_fn=<MeanBackward0>)\n"
          ]
        },
        {
          "output_type": "stream",
          "name": "stderr",
          "text": [
            " 19%|█▉        | 18792/100000 [00:08<00:35, 2292.67it/s]"
          ]
        },
        {
          "output_type": "stream",
          "name": "stdout",
          "text": [
            "tensor(6869.4038, grad_fn=<MeanBackward0>)\n",
            "tensor(6869.3921, grad_fn=<MeanBackward0>)\n"
          ]
        },
        {
          "output_type": "stream",
          "name": "stderr",
          "text": [
            " 19%|█▉        | 19498/100000 [00:08<00:34, 2315.53it/s]"
          ]
        },
        {
          "output_type": "stream",
          "name": "stdout",
          "text": [
            "tensor(6869.3799, grad_fn=<MeanBackward0>)\n",
            "tensor(6869.3677, grad_fn=<MeanBackward0>)\n"
          ]
        },
        {
          "output_type": "stream",
          "name": "stderr",
          "text": [
            " 20%|██        | 20469/100000 [00:08<00:33, 2385.84it/s]"
          ]
        },
        {
          "output_type": "stream",
          "name": "stdout",
          "text": [
            "tensor(6869.3560, grad_fn=<MeanBackward0>)\n",
            "tensor(6869.3442, grad_fn=<MeanBackward0>)\n"
          ]
        },
        {
          "output_type": "stream",
          "name": "stderr",
          "text": [
            " 21%|██        | 21173/100000 [00:09<00:34, 2279.22it/s]"
          ]
        },
        {
          "output_type": "stream",
          "name": "stdout",
          "text": [
            "tensor(6869.3320, grad_fn=<MeanBackward0>)\n",
            "tensor(6869.3203, grad_fn=<MeanBackward0>)\n"
          ]
        },
        {
          "output_type": "stream",
          "name": "stderr",
          "text": [
            " 22%|██▏       | 21900/100000 [00:09<00:32, 2370.03it/s]"
          ]
        },
        {
          "output_type": "stream",
          "name": "stdout",
          "text": [
            "tensor(6869.3091, grad_fn=<MeanBackward0>)\n",
            "tensor(6869.2969, grad_fn=<MeanBackward0>)\n"
          ]
        },
        {
          "output_type": "stream",
          "name": "stderr",
          "text": [
            " 23%|██▎       | 22629/100000 [00:09<00:32, 2398.61it/s]"
          ]
        },
        {
          "output_type": "stream",
          "name": "stdout",
          "text": [
            "tensor(6869.2847, grad_fn=<MeanBackward0>)\n",
            "tensor(6869.2729, grad_fn=<MeanBackward0>)\n"
          ]
        },
        {
          "output_type": "stream",
          "name": "stderr",
          "text": [
            " 24%|██▎       | 23572/100000 [00:10<00:33, 2276.16it/s]"
          ]
        },
        {
          "output_type": "stream",
          "name": "stdout",
          "text": [
            "tensor(6869.2612, grad_fn=<MeanBackward0>)\n",
            "tensor(6869.2500, grad_fn=<MeanBackward0>)\n"
          ]
        },
        {
          "output_type": "stream",
          "name": "stderr",
          "text": [
            " 24%|██▍       | 24285/100000 [00:10<00:32, 2322.64it/s]"
          ]
        },
        {
          "output_type": "stream",
          "name": "stdout",
          "text": [
            "tensor(6869.2378, grad_fn=<MeanBackward0>)\n",
            "tensor(6869.2261, grad_fn=<MeanBackward0>)\n"
          ]
        },
        {
          "output_type": "stream",
          "name": "stderr",
          "text": [
            " 25%|██▌       | 25233/100000 [00:10<00:32, 2324.18it/s]"
          ]
        },
        {
          "output_type": "stream",
          "name": "stdout",
          "text": [
            "tensor(6869.2144, grad_fn=<MeanBackward0>)\n",
            "tensor(6869.2031, grad_fn=<MeanBackward0>)\n"
          ]
        },
        {
          "output_type": "stream",
          "name": "stderr",
          "text": [
            " 26%|██▌       | 25938/100000 [00:11<00:32, 2256.33it/s]"
          ]
        },
        {
          "output_type": "stream",
          "name": "stdout",
          "text": [
            "tensor(6869.1909, grad_fn=<MeanBackward0>)\n",
            "tensor(6869.1797, grad_fn=<MeanBackward0>)\n"
          ]
        },
        {
          "output_type": "stream",
          "name": "stderr",
          "text": [
            " 27%|██▋       | 26641/100000 [00:11<00:32, 2269.76it/s]"
          ]
        },
        {
          "output_type": "stream",
          "name": "stdout",
          "text": [
            "tensor(6869.1670, grad_fn=<MeanBackward0>)\n",
            "tensor(6869.1558, grad_fn=<MeanBackward0>)\n"
          ]
        },
        {
          "output_type": "stream",
          "name": "stderr",
          "text": [
            " 28%|██▊       | 27569/100000 [00:11<00:31, 2286.88it/s]"
          ]
        },
        {
          "output_type": "stream",
          "name": "stdout",
          "text": [
            "tensor(6869.1440, grad_fn=<MeanBackward0>)\n",
            "tensor(6869.1328, grad_fn=<MeanBackward0>)\n"
          ]
        },
        {
          "output_type": "stream",
          "name": "stderr",
          "text": [
            " 28%|██▊       | 28259/100000 [00:12<00:31, 2252.13it/s]"
          ]
        },
        {
          "output_type": "stream",
          "name": "stdout",
          "text": [
            "tensor(6869.1211, grad_fn=<MeanBackward0>)\n",
            "tensor(6869.1094, grad_fn=<MeanBackward0>)\n"
          ]
        },
        {
          "output_type": "stream",
          "name": "stderr",
          "text": [
            " 29%|██▉       | 29227/100000 [00:12<00:29, 2359.67it/s]"
          ]
        },
        {
          "output_type": "stream",
          "name": "stdout",
          "text": [
            "tensor(6869.0977, grad_fn=<MeanBackward0>)\n",
            "tensor(6869.0864, grad_fn=<MeanBackward0>)\n"
          ]
        },
        {
          "output_type": "stream",
          "name": "stderr",
          "text": [
            " 30%|██▉       | 29959/100000 [00:12<00:30, 2323.31it/s]"
          ]
        },
        {
          "output_type": "stream",
          "name": "stdout",
          "text": [
            "tensor(6869.0757, grad_fn=<MeanBackward0>)\n",
            "tensor(6869.0640, grad_fn=<MeanBackward0>)\n"
          ]
        },
        {
          "output_type": "stream",
          "name": "stderr",
          "text": [
            " 31%|███       | 30669/100000 [00:13<00:29, 2311.40it/s]"
          ]
        },
        {
          "output_type": "stream",
          "name": "stdout",
          "text": [
            "tensor(6869.0522, grad_fn=<MeanBackward0>)\n",
            "tensor(6869.0400, grad_fn=<MeanBackward0>)\n"
          ]
        },
        {
          "output_type": "stream",
          "name": "stderr",
          "text": [
            " 32%|███▏      | 31634/100000 [00:13<00:28, 2380.06it/s]"
          ]
        },
        {
          "output_type": "stream",
          "name": "stdout",
          "text": [
            "tensor(6869.0288, grad_fn=<MeanBackward0>)\n",
            "tensor(6869.0171, grad_fn=<MeanBackward0>)\n"
          ]
        },
        {
          "output_type": "stream",
          "name": "stderr",
          "text": [
            " 32%|███▏      | 32374/100000 [00:14<00:27, 2441.28it/s]"
          ]
        },
        {
          "output_type": "stream",
          "name": "stdout",
          "text": [
            "tensor(6869.0059, grad_fn=<MeanBackward0>)\n",
            "tensor(6868.9946, grad_fn=<MeanBackward0>)\n"
          ]
        },
        {
          "output_type": "stream",
          "name": "stderr",
          "text": [
            " 33%|███▎      | 33086/100000 [00:14<00:29, 2294.02it/s]"
          ]
        },
        {
          "output_type": "stream",
          "name": "stdout",
          "text": [
            "tensor(6868.9829, grad_fn=<MeanBackward0>)\n",
            "tensor(6868.9717, grad_fn=<MeanBackward0>)\n"
          ]
        },
        {
          "output_type": "stream",
          "name": "stderr",
          "text": [
            " 34%|███▍      | 34056/100000 [00:14<00:27, 2389.35it/s]"
          ]
        },
        {
          "output_type": "stream",
          "name": "stdout",
          "text": [
            "tensor(6868.9595, grad_fn=<MeanBackward0>)\n",
            "tensor(6868.9487, grad_fn=<MeanBackward0>)\n"
          ]
        },
        {
          "output_type": "stream",
          "name": "stderr",
          "text": [
            " 35%|███▍      | 34795/100000 [00:15<00:27, 2400.02it/s]"
          ]
        },
        {
          "output_type": "stream",
          "name": "stdout",
          "text": [
            "tensor(6868.9365, grad_fn=<MeanBackward0>)\n",
            "tensor(6868.9253, grad_fn=<MeanBackward0>)\n"
          ]
        },
        {
          "output_type": "stream",
          "name": "stderr",
          "text": [
            " 36%|███▌      | 35506/100000 [00:15<00:28, 2295.63it/s]"
          ]
        },
        {
          "output_type": "stream",
          "name": "stdout",
          "text": [
            "tensor(6868.9146, grad_fn=<MeanBackward0>)\n",
            "tensor(6868.9028, grad_fn=<MeanBackward0>)\n"
          ]
        },
        {
          "output_type": "stream",
          "name": "stderr",
          "text": [
            " 36%|███▋      | 36440/100000 [00:15<00:27, 2278.19it/s]"
          ]
        },
        {
          "output_type": "stream",
          "name": "stdout",
          "text": [
            "tensor(6868.8911, grad_fn=<MeanBackward0>)\n",
            "tensor(6868.8799, grad_fn=<MeanBackward0>)\n"
          ]
        },
        {
          "output_type": "stream",
          "name": "stderr",
          "text": [
            " 37%|███▋      | 37132/100000 [00:16<00:27, 2285.04it/s]"
          ]
        },
        {
          "output_type": "stream",
          "name": "stdout",
          "text": [
            "tensor(6868.8682, grad_fn=<MeanBackward0>)\n",
            "tensor(6868.8564, grad_fn=<MeanBackward0>)\n"
          ]
        },
        {
          "output_type": "stream",
          "name": "stderr",
          "text": [
            " 38%|███▊      | 37832/100000 [00:16<00:27, 2261.55it/s]"
          ]
        },
        {
          "output_type": "stream",
          "name": "stdout",
          "text": [
            "tensor(6868.8452, grad_fn=<MeanBackward0>)\n",
            "tensor(6868.8350, grad_fn=<MeanBackward0>)\n"
          ]
        },
        {
          "output_type": "stream",
          "name": "stderr",
          "text": [
            " 39%|███▉      | 38794/100000 [00:16<00:25, 2388.30it/s]"
          ]
        },
        {
          "output_type": "stream",
          "name": "stdout",
          "text": [
            "tensor(6868.8223, grad_fn=<MeanBackward0>)\n",
            "tensor(6868.8110, grad_fn=<MeanBackward0>)\n"
          ]
        },
        {
          "output_type": "stream",
          "name": "stderr",
          "text": [
            " 40%|███▉      | 39511/100000 [00:17<00:25, 2367.72it/s]"
          ]
        },
        {
          "output_type": "stream",
          "name": "stdout",
          "text": [
            "tensor(6868.7998, grad_fn=<MeanBackward0>)\n",
            "tensor(6868.7881, grad_fn=<MeanBackward0>)\n"
          ]
        },
        {
          "output_type": "stream",
          "name": "stderr",
          "text": [
            " 40%|████      | 40447/100000 [00:17<00:26, 2289.70it/s]"
          ]
        },
        {
          "output_type": "stream",
          "name": "stdout",
          "text": [
            "tensor(6868.7769, grad_fn=<MeanBackward0>)\n",
            "tensor(6868.7656, grad_fn=<MeanBackward0>)\n"
          ]
        },
        {
          "output_type": "stream",
          "name": "stderr",
          "text": [
            " 41%|████      | 41186/100000 [00:17<00:24, 2414.50it/s]"
          ]
        },
        {
          "output_type": "stream",
          "name": "stdout",
          "text": [
            "tensor(6868.7544, grad_fn=<MeanBackward0>)\n",
            "tensor(6868.7432, grad_fn=<MeanBackward0>)\n"
          ]
        },
        {
          "output_type": "stream",
          "name": "stderr",
          "text": [
            " 42%|████▏     | 41905/100000 [00:18<00:25, 2311.24it/s]"
          ]
        },
        {
          "output_type": "stream",
          "name": "stdout",
          "text": [
            "tensor(6868.7314, grad_fn=<MeanBackward0>)\n",
            "tensor(6868.7202, grad_fn=<MeanBackward0>)\n"
          ]
        },
        {
          "output_type": "stream",
          "name": "stderr",
          "text": [
            " 43%|████▎     | 42820/100000 [00:18<00:25, 2238.01it/s]"
          ]
        },
        {
          "output_type": "stream",
          "name": "stdout",
          "text": [
            "tensor(6868.7090, grad_fn=<MeanBackward0>)\n",
            "tensor(6868.6978, grad_fn=<MeanBackward0>)\n"
          ]
        },
        {
          "output_type": "stream",
          "name": "stderr",
          "text": [
            " 44%|████▎     | 43527/100000 [00:18<00:24, 2327.59it/s]"
          ]
        },
        {
          "output_type": "stream",
          "name": "stdout",
          "text": [
            "tensor(6868.6860, grad_fn=<MeanBackward0>)\n",
            "tensor(6868.6748, grad_fn=<MeanBackward0>)\n"
          ]
        },
        {
          "output_type": "stream",
          "name": "stderr",
          "text": [
            " 44%|████▍     | 44458/100000 [00:19<00:24, 2296.21it/s]"
          ]
        },
        {
          "output_type": "stream",
          "name": "stdout",
          "text": [
            "tensor(6868.6636, grad_fn=<MeanBackward0>)\n",
            "tensor(6868.6523, grad_fn=<MeanBackward0>)\n"
          ]
        },
        {
          "output_type": "stream",
          "name": "stderr",
          "text": [
            " 45%|████▌     | 45164/100000 [00:19<00:24, 2282.81it/s]"
          ]
        },
        {
          "output_type": "stream",
          "name": "stdout",
          "text": [
            "tensor(6868.6406, grad_fn=<MeanBackward0>)\n",
            "tensor(6868.6289, grad_fn=<MeanBackward0>)\n"
          ]
        },
        {
          "output_type": "stream",
          "name": "stderr",
          "text": [
            " 46%|████▌     | 45885/100000 [00:19<00:23, 2351.33it/s]"
          ]
        },
        {
          "output_type": "stream",
          "name": "stdout",
          "text": [
            "tensor(6868.6172, grad_fn=<MeanBackward0>)\n",
            "tensor(6868.6064, grad_fn=<MeanBackward0>)\n"
          ]
        },
        {
          "output_type": "stream",
          "name": "stderr",
          "text": [
            " 47%|████▋     | 46817/100000 [00:20<00:23, 2299.42it/s]"
          ]
        },
        {
          "output_type": "stream",
          "name": "stdout",
          "text": [
            "tensor(6868.5952, grad_fn=<MeanBackward0>)\n",
            "tensor(6868.5840, grad_fn=<MeanBackward0>)\n"
          ]
        },
        {
          "output_type": "stream",
          "name": "stderr",
          "text": [
            " 48%|████▊     | 47504/100000 [00:20<00:23, 2265.48it/s]"
          ]
        },
        {
          "output_type": "stream",
          "name": "stdout",
          "text": [
            "tensor(6868.5718, grad_fn=<MeanBackward0>)\n",
            "tensor(6868.5605, grad_fn=<MeanBackward0>)\n"
          ]
        },
        {
          "output_type": "stream",
          "name": "stderr",
          "text": [
            " 48%|████▊     | 48434/100000 [00:20<00:22, 2309.16it/s]"
          ]
        },
        {
          "output_type": "stream",
          "name": "stdout",
          "text": [
            "tensor(6868.5493, grad_fn=<MeanBackward0>)\n",
            "tensor(6868.5386, grad_fn=<MeanBackward0>)\n"
          ]
        },
        {
          "output_type": "stream",
          "name": "stderr",
          "text": [
            " 49%|████▉     | 49153/100000 [00:21<00:21, 2354.16it/s]"
          ]
        },
        {
          "output_type": "stream",
          "name": "stdout",
          "text": [
            "tensor(6868.5264, grad_fn=<MeanBackward0>)\n",
            "tensor(6868.5151, grad_fn=<MeanBackward0>)\n"
          ]
        },
        {
          "output_type": "stream",
          "name": "stderr",
          "text": [
            " 50%|████▉     | 49860/100000 [00:21<00:21, 2308.01it/s]"
          ]
        },
        {
          "output_type": "stream",
          "name": "stdout",
          "text": [
            "tensor(6868.5044, grad_fn=<MeanBackward0>)\n",
            "tensor(6868.4927, grad_fn=<MeanBackward0>)\n"
          ]
        },
        {
          "output_type": "stream",
          "name": "stderr",
          "text": [
            " 51%|█████     | 50826/100000 [00:22<00:20, 2378.54it/s]"
          ]
        },
        {
          "output_type": "stream",
          "name": "stdout",
          "text": [
            "tensor(6868.4819, grad_fn=<MeanBackward0>)\n",
            "tensor(6868.4702, grad_fn=<MeanBackward0>)\n"
          ]
        },
        {
          "output_type": "stream",
          "name": "stderr",
          "text": [
            " 52%|█████▏    | 51546/100000 [00:22<00:20, 2363.58it/s]"
          ]
        },
        {
          "output_type": "stream",
          "name": "stdout",
          "text": [
            "tensor(6868.4585, grad_fn=<MeanBackward0>)\n",
            "tensor(6868.4468, grad_fn=<MeanBackward0>)\n"
          ]
        },
        {
          "output_type": "stream",
          "name": "stderr",
          "text": [
            " 52%|█████▏    | 52251/100000 [00:22<00:21, 2268.10it/s]"
          ]
        },
        {
          "output_type": "stream",
          "name": "stdout",
          "text": [
            "tensor(6868.4360, grad_fn=<MeanBackward0>)\n",
            "tensor(6868.4243, grad_fn=<MeanBackward0>)\n"
          ]
        },
        {
          "output_type": "stream",
          "name": "stderr",
          "text": [
            " 53%|█████▎    | 53220/100000 [00:23<00:19, 2387.22it/s]"
          ]
        },
        {
          "output_type": "stream",
          "name": "stdout",
          "text": [
            "tensor(6868.4136, grad_fn=<MeanBackward0>)\n",
            "tensor(6868.4014, grad_fn=<MeanBackward0>)\n"
          ]
        },
        {
          "output_type": "stream",
          "name": "stderr",
          "text": [
            " 54%|█████▍    | 53935/100000 [00:23<00:19, 2348.41it/s]"
          ]
        },
        {
          "output_type": "stream",
          "name": "stdout",
          "text": [
            "tensor(6868.3911, grad_fn=<MeanBackward0>)\n",
            "tensor(6868.3789, grad_fn=<MeanBackward0>)\n"
          ]
        },
        {
          "output_type": "stream",
          "name": "stderr",
          "text": [
            " 55%|█████▍    | 54874/100000 [00:23<00:19, 2312.80it/s]"
          ]
        },
        {
          "output_type": "stream",
          "name": "stdout",
          "text": [
            "tensor(6868.3687, grad_fn=<MeanBackward0>)\n",
            "tensor(6868.3574, grad_fn=<MeanBackward0>)\n"
          ]
        },
        {
          "output_type": "stream",
          "name": "stderr",
          "text": [
            " 56%|█████▌    | 55589/100000 [00:24<00:19, 2328.49it/s]"
          ]
        },
        {
          "output_type": "stream",
          "name": "stdout",
          "text": [
            "tensor(6868.3452, grad_fn=<MeanBackward0>)\n",
            "tensor(6868.3350, grad_fn=<MeanBackward0>)\n"
          ]
        },
        {
          "output_type": "stream",
          "name": "stderr",
          "text": [
            " 56%|█████▋    | 56284/100000 [00:24<00:21, 2070.11it/s]"
          ]
        },
        {
          "output_type": "stream",
          "name": "stdout",
          "text": [
            "tensor(6868.3232, grad_fn=<MeanBackward0>)\n"
          ]
        },
        {
          "output_type": "stream",
          "name": "stderr",
          "text": [
            "\r 56%|█████▋    | 56495/100000 [00:24<00:27, 1583.38it/s]"
          ]
        },
        {
          "output_type": "stream",
          "name": "stdout",
          "text": [
            "tensor(6868.3125, grad_fn=<MeanBackward0>)\n"
          ]
        },
        {
          "output_type": "stream",
          "name": "stderr",
          "text": [
            " 57%|█████▋    | 56968/100000 [00:25<00:34, 1242.57it/s]"
          ]
        },
        {
          "output_type": "stream",
          "name": "stdout",
          "text": [
            "tensor(6868.3013, grad_fn=<MeanBackward0>)\n"
          ]
        },
        {
          "output_type": "stream",
          "name": "stderr",
          "text": [
            " 57%|█████▋    | 57413/100000 [00:25<00:30, 1377.40it/s]"
          ]
        },
        {
          "output_type": "stream",
          "name": "stdout",
          "text": [
            "tensor(6868.2900, grad_fn=<MeanBackward0>)\n"
          ]
        },
        {
          "output_type": "stream",
          "name": "stderr",
          "text": [
            " 58%|█████▊    | 57831/100000 [00:25<00:32, 1283.78it/s]"
          ]
        },
        {
          "output_type": "stream",
          "name": "stdout",
          "text": [
            "tensor(6868.2788, grad_fn=<MeanBackward0>)\n"
          ]
        },
        {
          "output_type": "stream",
          "name": "stderr",
          "text": [
            " 58%|█████▊    | 58101/100000 [00:26<00:38, 1076.81it/s]"
          ]
        },
        {
          "output_type": "stream",
          "name": "stdout",
          "text": [
            "tensor(6868.2676, grad_fn=<MeanBackward0>)\n"
          ]
        },
        {
          "output_type": "stream",
          "name": "stderr",
          "text": [
            " 59%|█████▊    | 58646/100000 [00:26<00:33, 1237.24it/s]"
          ]
        },
        {
          "output_type": "stream",
          "name": "stdout",
          "text": [
            "tensor(6868.2568, grad_fn=<MeanBackward0>)\n"
          ]
        },
        {
          "output_type": "stream",
          "name": "stderr",
          "text": [
            " 59%|█████▉    | 59044/100000 [00:26<00:25, 1575.38it/s]"
          ]
        },
        {
          "output_type": "stream",
          "name": "stdout",
          "text": [
            "tensor(6868.2446, grad_fn=<MeanBackward0>)\n"
          ]
        },
        {
          "output_type": "stream",
          "name": "stderr",
          "text": [
            " 59%|█████▉    | 59361/100000 [00:26<00:27, 1495.32it/s]"
          ]
        },
        {
          "output_type": "stream",
          "name": "stdout",
          "text": [
            "tensor(6868.2339, grad_fn=<MeanBackward0>)\n"
          ]
        },
        {
          "output_type": "stream",
          "name": "stderr",
          "text": [
            " 60%|█████▉    | 59998/100000 [00:27<00:21, 1883.95it/s]"
          ]
        },
        {
          "output_type": "stream",
          "name": "stdout",
          "text": [
            "tensor(6868.2231, grad_fn=<MeanBackward0>)\n",
            "tensor(6868.2119, grad_fn=<MeanBackward0>)\n"
          ]
        },
        {
          "output_type": "stream",
          "name": "stderr",
          "text": [
            " 61%|██████    | 60528/100000 [00:27<00:25, 1526.68it/s]"
          ]
        },
        {
          "output_type": "stream",
          "name": "stdout",
          "text": [
            "tensor(6868.2002, grad_fn=<MeanBackward0>)\n"
          ]
        },
        {
          "output_type": "stream",
          "name": "stderr",
          "text": [
            " 61%|██████    | 60965/100000 [00:27<00:28, 1357.39it/s]"
          ]
        },
        {
          "output_type": "stream",
          "name": "stdout",
          "text": [
            "tensor(6868.1890, grad_fn=<MeanBackward0>)\n"
          ]
        },
        {
          "output_type": "stream",
          "name": "stderr",
          "text": [
            " 61%|██████▏   | 61369/100000 [00:28<00:30, 1250.60it/s]"
          ]
        },
        {
          "output_type": "stream",
          "name": "stdout",
          "text": [
            "tensor(6868.1777, grad_fn=<MeanBackward0>)\n"
          ]
        },
        {
          "output_type": "stream",
          "name": "stderr",
          "text": [
            " 62%|██████▏   | 61777/100000 [00:28<00:28, 1324.25it/s]"
          ]
        },
        {
          "output_type": "stream",
          "name": "stdout",
          "text": [
            "tensor(6868.1670, grad_fn=<MeanBackward0>)\n"
          ]
        },
        {
          "output_type": "stream",
          "name": "stderr",
          "text": [
            " 62%|██████▏   | 62156/100000 [00:28<00:36, 1042.50it/s]"
          ]
        },
        {
          "output_type": "stream",
          "name": "stdout",
          "text": [
            "tensor(6868.1562, grad_fn=<MeanBackward0>)\n"
          ]
        },
        {
          "output_type": "stream",
          "name": "stderr",
          "text": [
            " 63%|██████▎   | 62569/100000 [00:29<00:30, 1241.47it/s]"
          ]
        },
        {
          "output_type": "stream",
          "name": "stdout",
          "text": [
            "tensor(6868.1445, grad_fn=<MeanBackward0>)\n"
          ]
        },
        {
          "output_type": "stream",
          "name": "stderr",
          "text": [
            " 63%|██████▎   | 63014/100000 [00:29<00:26, 1408.48it/s]"
          ]
        },
        {
          "output_type": "stream",
          "name": "stdout",
          "text": [
            "tensor(6868.1338, grad_fn=<MeanBackward0>)\n"
          ]
        },
        {
          "output_type": "stream",
          "name": "stderr",
          "text": [
            " 63%|██████▎   | 63447/100000 [00:29<00:26, 1399.67it/s]"
          ]
        },
        {
          "output_type": "stream",
          "name": "stdout",
          "text": [
            "tensor(6868.1216, grad_fn=<MeanBackward0>)\n"
          ]
        },
        {
          "output_type": "stream",
          "name": "stderr",
          "text": [
            " 64%|██████▎   | 63736/100000 [00:30<00:27, 1295.94it/s]"
          ]
        },
        {
          "output_type": "stream",
          "name": "stdout",
          "text": [
            "tensor(6868.1108, grad_fn=<MeanBackward0>)\n"
          ]
        },
        {
          "output_type": "stream",
          "name": "stderr",
          "text": [
            " 64%|██████▍   | 64140/100000 [00:30<00:28, 1240.88it/s]"
          ]
        },
        {
          "output_type": "stream",
          "name": "stdout",
          "text": [
            "tensor(6868.1001, grad_fn=<MeanBackward0>)\n"
          ]
        },
        {
          "output_type": "stream",
          "name": "stderr",
          "text": [
            " 65%|██████▍   | 64640/100000 [00:30<00:30, 1175.19it/s]"
          ]
        },
        {
          "output_type": "stream",
          "name": "stdout",
          "text": [
            "tensor(6868.0889, grad_fn=<MeanBackward0>)\n"
          ]
        },
        {
          "output_type": "stream",
          "name": "stderr",
          "text": [
            " 65%|██████▌   | 65039/100000 [00:31<00:21, 1605.90it/s]"
          ]
        },
        {
          "output_type": "stream",
          "name": "stdout",
          "text": [
            "tensor(6868.0776, grad_fn=<MeanBackward0>)\n",
            "tensor(6868.0669, grad_fn=<MeanBackward0>)\n"
          ]
        },
        {
          "output_type": "stream",
          "name": "stderr",
          "text": [
            " 66%|██████▌   | 65961/100000 [00:31<00:15, 2128.29it/s]"
          ]
        },
        {
          "output_type": "stream",
          "name": "stdout",
          "text": [
            "tensor(6868.0552, grad_fn=<MeanBackward0>)\n",
            "tensor(6868.0439, grad_fn=<MeanBackward0>)\n"
          ]
        },
        {
          "output_type": "stream",
          "name": "stderr",
          "text": [
            " 67%|██████▋   | 66645/100000 [00:31<00:15, 2185.30it/s]"
          ]
        },
        {
          "output_type": "stream",
          "name": "stdout",
          "text": [
            "tensor(6868.0332, grad_fn=<MeanBackward0>)\n",
            "tensor(6868.0220, grad_fn=<MeanBackward0>)\n"
          ]
        },
        {
          "output_type": "stream",
          "name": "stderr",
          "text": [
            " 68%|██████▊   | 67605/100000 [00:32<00:13, 2361.79it/s]"
          ]
        },
        {
          "output_type": "stream",
          "name": "stdout",
          "text": [
            "tensor(6868.0098, grad_fn=<MeanBackward0>)\n",
            "tensor(6868., grad_fn=<MeanBackward0>)\n"
          ]
        },
        {
          "output_type": "stream",
          "name": "stderr",
          "text": [
            " 68%|██████▊   | 68303/100000 [00:32<00:14, 2252.35it/s]"
          ]
        },
        {
          "output_type": "stream",
          "name": "stdout",
          "text": [
            "tensor(6867.9888, grad_fn=<MeanBackward0>)\n",
            "tensor(6867.9771, grad_fn=<MeanBackward0>)\n"
          ]
        },
        {
          "output_type": "stream",
          "name": "stderr",
          "text": [
            " 69%|██████▉   | 69229/100000 [00:32<00:13, 2278.81it/s]"
          ]
        },
        {
          "output_type": "stream",
          "name": "stdout",
          "text": [
            "tensor(6867.9658, grad_fn=<MeanBackward0>)\n",
            "tensor(6867.9546, grad_fn=<MeanBackward0>)\n"
          ]
        },
        {
          "output_type": "stream",
          "name": "stderr",
          "text": [
            " 70%|██████▉   | 69936/100000 [00:33<00:12, 2326.38it/s]"
          ]
        },
        {
          "output_type": "stream",
          "name": "stdout",
          "text": [
            "tensor(6867.9429, grad_fn=<MeanBackward0>)\n",
            "tensor(6867.9321, grad_fn=<MeanBackward0>)\n"
          ]
        },
        {
          "output_type": "stream",
          "name": "stderr",
          "text": [
            " 71%|███████   | 70658/100000 [00:33<00:12, 2377.22it/s]"
          ]
        },
        {
          "output_type": "stream",
          "name": "stdout",
          "text": [
            "tensor(6867.9209, grad_fn=<MeanBackward0>)\n",
            "tensor(6867.9106, grad_fn=<MeanBackward0>)\n"
          ]
        },
        {
          "output_type": "stream",
          "name": "stderr",
          "text": [
            " 72%|███████▏  | 71617/100000 [00:33<00:12, 2352.28it/s]"
          ]
        },
        {
          "output_type": "stream",
          "name": "stdout",
          "text": [
            "tensor(6867.8984, grad_fn=<MeanBackward0>)\n",
            "tensor(6867.8872, grad_fn=<MeanBackward0>)\n"
          ]
        },
        {
          "output_type": "stream",
          "name": "stderr",
          "text": [
            " 72%|███████▏  | 72326/100000 [00:34<00:11, 2342.89it/s]"
          ]
        },
        {
          "output_type": "stream",
          "name": "stdout",
          "text": [
            "tensor(6867.8765, grad_fn=<MeanBackward0>)\n",
            "tensor(6867.8652, grad_fn=<MeanBackward0>)\n"
          ]
        },
        {
          "output_type": "stream",
          "name": "stderr",
          "text": [
            " 73%|███████▎  | 73264/100000 [00:34<00:11, 2321.04it/s]"
          ]
        },
        {
          "output_type": "stream",
          "name": "stdout",
          "text": [
            "tensor(6867.8550, grad_fn=<MeanBackward0>)\n",
            "tensor(6867.8423, grad_fn=<MeanBackward0>)\n"
          ]
        },
        {
          "output_type": "stream",
          "name": "stderr",
          "text": [
            " 74%|███████▍  | 73973/100000 [00:34<00:11, 2314.51it/s]"
          ]
        },
        {
          "output_type": "stream",
          "name": "stdout",
          "text": [
            "tensor(6867.8315, grad_fn=<MeanBackward0>)\n",
            "tensor(6867.8208, grad_fn=<MeanBackward0>)\n"
          ]
        },
        {
          "output_type": "stream",
          "name": "stderr",
          "text": [
            " 75%|███████▍  | 74658/100000 [00:35<00:11, 2233.11it/s]"
          ]
        },
        {
          "output_type": "stream",
          "name": "stdout",
          "text": [
            "tensor(6867.8096, grad_fn=<MeanBackward0>)\n",
            "tensor(6867.7979, grad_fn=<MeanBackward0>)\n"
          ]
        },
        {
          "output_type": "stream",
          "name": "stderr",
          "text": [
            " 76%|███████▌  | 75593/100000 [00:35<00:10, 2323.25it/s]"
          ]
        },
        {
          "output_type": "stream",
          "name": "stdout",
          "text": [
            "tensor(6867.7876, grad_fn=<MeanBackward0>)\n",
            "tensor(6867.7759, grad_fn=<MeanBackward0>)\n"
          ]
        },
        {
          "output_type": "stream",
          "name": "stderr",
          "text": [
            " 76%|███████▋  | 76282/100000 [00:35<00:10, 2230.07it/s]"
          ]
        },
        {
          "output_type": "stream",
          "name": "stdout",
          "text": [
            "tensor(6867.7646, grad_fn=<MeanBackward0>)\n",
            "tensor(6867.7539, grad_fn=<MeanBackward0>)\n"
          ]
        },
        {
          "output_type": "stream",
          "name": "stderr",
          "text": [
            " 77%|███████▋  | 77202/100000 [00:36<00:10, 2249.02it/s]"
          ]
        },
        {
          "output_type": "stream",
          "name": "stdout",
          "text": [
            "tensor(6867.7432, grad_fn=<MeanBackward0>)\n",
            "tensor(6867.7314, grad_fn=<MeanBackward0>)\n"
          ]
        },
        {
          "output_type": "stream",
          "name": "stderr",
          "text": [
            " 78%|███████▊  | 77897/100000 [00:36<00:09, 2294.01it/s]"
          ]
        },
        {
          "output_type": "stream",
          "name": "stdout",
          "text": [
            "tensor(6867.7207, grad_fn=<MeanBackward0>)\n",
            "tensor(6867.7095, grad_fn=<MeanBackward0>)\n"
          ]
        },
        {
          "output_type": "stream",
          "name": "stderr",
          "text": [
            " 79%|███████▉  | 78829/100000 [00:37<00:09, 2305.17it/s]"
          ]
        },
        {
          "output_type": "stream",
          "name": "stdout",
          "text": [
            "tensor(6867.6982, grad_fn=<MeanBackward0>)\n",
            "tensor(6867.6875, grad_fn=<MeanBackward0>)\n"
          ]
        },
        {
          "output_type": "stream",
          "name": "stderr",
          "text": [
            " 79%|███████▉  | 79296/100000 [00:37<00:09, 2298.22it/s]"
          ]
        },
        {
          "output_type": "stream",
          "name": "stdout",
          "text": [
            "tensor(6867.6763, grad_fn=<MeanBackward0>)\n"
          ]
        },
        {
          "output_type": "stream",
          "name": "stderr",
          "text": [
            " 80%|███████▉  | 79706/100000 [00:38<00:20, 969.35it/s] "
          ]
        },
        {
          "output_type": "stream",
          "name": "stdout",
          "text": [
            "tensor(6867.6650, grad_fn=<MeanBackward0>)\n"
          ]
        },
        {
          "output_type": "stream",
          "name": "stderr",
          "text": [
            " 80%|████████  | 80336/100000 [00:38<00:13, 1438.12it/s]"
          ]
        },
        {
          "output_type": "stream",
          "name": "stdout",
          "text": [
            "tensor(6867.6533, grad_fn=<MeanBackward0>)\n",
            "tensor(6867.6421, grad_fn=<MeanBackward0>)\n"
          ]
        },
        {
          "output_type": "stream",
          "name": "stderr",
          "text": [
            " 81%|████████  | 81054/100000 [00:38<00:09, 1982.60it/s]"
          ]
        },
        {
          "output_type": "stream",
          "name": "stdout",
          "text": [
            "tensor(6867.6318, grad_fn=<MeanBackward0>)\n",
            "tensor(6867.6206, grad_fn=<MeanBackward0>)\n"
          ]
        },
        {
          "output_type": "stream",
          "name": "stderr",
          "text": [
            " 82%|████████▏ | 82001/100000 [00:39<00:08, 2214.94it/s]"
          ]
        },
        {
          "output_type": "stream",
          "name": "stdout",
          "text": [
            "tensor(6867.6099, grad_fn=<MeanBackward0>)\n",
            "tensor(6867.5986, grad_fn=<MeanBackward0>)\n"
          ]
        },
        {
          "output_type": "stream",
          "name": "stderr",
          "text": [
            " 83%|████████▎ | 82682/100000 [00:39<00:07, 2197.37it/s]"
          ]
        },
        {
          "output_type": "stream",
          "name": "stdout",
          "text": [
            "tensor(6867.5869, grad_fn=<MeanBackward0>)\n",
            "tensor(6867.5757, grad_fn=<MeanBackward0>)\n"
          ]
        },
        {
          "output_type": "stream",
          "name": "stderr",
          "text": [
            " 84%|████████▎ | 83588/100000 [00:39<00:07, 2242.48it/s]"
          ]
        },
        {
          "output_type": "stream",
          "name": "stdout",
          "text": [
            "tensor(6867.5645, grad_fn=<MeanBackward0>)\n",
            "tensor(6867.5537, grad_fn=<MeanBackward0>)\n"
          ]
        },
        {
          "output_type": "stream",
          "name": "stderr",
          "text": [
            " 84%|████████▍ | 84257/100000 [00:40<00:07, 2168.74it/s]"
          ]
        },
        {
          "output_type": "stream",
          "name": "stdout",
          "text": [
            "tensor(6867.5430, grad_fn=<MeanBackward0>)\n",
            "tensor(6867.5317, grad_fn=<MeanBackward0>)\n"
          ]
        },
        {
          "output_type": "stream",
          "name": "stderr",
          "text": [
            " 85%|████████▌ | 85160/100000 [00:40<00:06, 2248.99it/s]"
          ]
        },
        {
          "output_type": "stream",
          "name": "stdout",
          "text": [
            "tensor(6867.5205, grad_fn=<MeanBackward0>)\n",
            "tensor(6867.5093, grad_fn=<MeanBackward0>)\n"
          ]
        },
        {
          "output_type": "stream",
          "name": "stderr",
          "text": [
            " 86%|████████▌ | 85862/100000 [00:40<00:06, 2310.67it/s]"
          ]
        },
        {
          "output_type": "stream",
          "name": "stdout",
          "text": [
            "tensor(6867.4980, grad_fn=<MeanBackward0>)\n",
            "tensor(6867.4868, grad_fn=<MeanBackward0>)\n"
          ]
        },
        {
          "output_type": "stream",
          "name": "stderr",
          "text": [
            " 87%|████████▋ | 86799/100000 [00:41<00:05, 2321.94it/s]"
          ]
        },
        {
          "output_type": "stream",
          "name": "stdout",
          "text": [
            "tensor(6867.4761, grad_fn=<MeanBackward0>)\n",
            "tensor(6867.4648, grad_fn=<MeanBackward0>)\n"
          ]
        },
        {
          "output_type": "stream",
          "name": "stderr",
          "text": [
            " 88%|████████▊ | 87514/100000 [00:41<00:05, 2327.53it/s]"
          ]
        },
        {
          "output_type": "stream",
          "name": "stdout",
          "text": [
            "tensor(6867.4541, grad_fn=<MeanBackward0>)\n",
            "tensor(6867.4429, grad_fn=<MeanBackward0>)\n"
          ]
        },
        {
          "output_type": "stream",
          "name": "stderr",
          "text": [
            " 88%|████████▊ | 88457/100000 [00:41<00:04, 2337.83it/s]"
          ]
        },
        {
          "output_type": "stream",
          "name": "stdout",
          "text": [
            "tensor(6867.4316, grad_fn=<MeanBackward0>)\n",
            "tensor(6867.4204, grad_fn=<MeanBackward0>)\n"
          ]
        },
        {
          "output_type": "stream",
          "name": "stderr",
          "text": [
            " 89%|████████▉ | 89165/100000 [00:42<00:04, 2297.87it/s]"
          ]
        },
        {
          "output_type": "stream",
          "name": "stdout",
          "text": [
            "tensor(6867.4092, grad_fn=<MeanBackward0>)\n",
            "tensor(6867.3979, grad_fn=<MeanBackward0>)\n"
          ]
        },
        {
          "output_type": "stream",
          "name": "stderr",
          "text": [
            " 90%|████████▉ | 89849/100000 [00:42<00:04, 2227.79it/s]"
          ]
        },
        {
          "output_type": "stream",
          "name": "stdout",
          "text": [
            "tensor(6867.3872, grad_fn=<MeanBackward0>)\n",
            "tensor(6867.3765, grad_fn=<MeanBackward0>)\n"
          ]
        },
        {
          "output_type": "stream",
          "name": "stderr",
          "text": [
            " 91%|█████████ | 90762/100000 [00:42<00:04, 2268.66it/s]"
          ]
        },
        {
          "output_type": "stream",
          "name": "stdout",
          "text": [
            "tensor(6867.3652, grad_fn=<MeanBackward0>)\n",
            "tensor(6867.3545, grad_fn=<MeanBackward0>)\n"
          ]
        },
        {
          "output_type": "stream",
          "name": "stderr",
          "text": [
            " 91%|█████████▏| 91444/100000 [00:43<00:03, 2188.71it/s]"
          ]
        },
        {
          "output_type": "stream",
          "name": "stdout",
          "text": [
            "tensor(6867.3428, grad_fn=<MeanBackward0>)\n",
            "tensor(6867.3315, grad_fn=<MeanBackward0>)\n"
          ]
        },
        {
          "output_type": "stream",
          "name": "stderr",
          "text": [
            " 92%|█████████▏| 92362/100000 [00:43<00:03, 2250.44it/s]"
          ]
        },
        {
          "output_type": "stream",
          "name": "stdout",
          "text": [
            "tensor(6867.3208, grad_fn=<MeanBackward0>)\n",
            "tensor(6867.3096, grad_fn=<MeanBackward0>)\n"
          ]
        },
        {
          "output_type": "stream",
          "name": "stderr",
          "text": [
            " 93%|█████████▎| 93056/100000 [00:44<00:03, 2281.68it/s]"
          ]
        },
        {
          "output_type": "stream",
          "name": "stdout",
          "text": [
            "tensor(6867.2988, grad_fn=<MeanBackward0>)\n",
            "tensor(6867.2871, grad_fn=<MeanBackward0>)\n"
          ]
        },
        {
          "output_type": "stream",
          "name": "stderr",
          "text": [
            " 94%|█████████▍| 94012/100000 [00:44<00:02, 2323.80it/s]"
          ]
        },
        {
          "output_type": "stream",
          "name": "stdout",
          "text": [
            "tensor(6867.2769, grad_fn=<MeanBackward0>)\n",
            "tensor(6867.2656, grad_fn=<MeanBackward0>)\n"
          ]
        },
        {
          "output_type": "stream",
          "name": "stderr",
          "text": [
            " 95%|█████████▍| 94746/100000 [00:44<00:02, 2413.64it/s]"
          ]
        },
        {
          "output_type": "stream",
          "name": "stdout",
          "text": [
            "tensor(6867.2544, grad_fn=<MeanBackward0>)\n",
            "tensor(6867.2437, grad_fn=<MeanBackward0>)\n"
          ]
        },
        {
          "output_type": "stream",
          "name": "stderr",
          "text": [
            " 95%|█████████▌| 95481/100000 [00:45<00:01, 2396.75it/s]"
          ]
        },
        {
          "output_type": "stream",
          "name": "stdout",
          "text": [
            "tensor(6867.2319, grad_fn=<MeanBackward0>)\n",
            "tensor(6867.2212, grad_fn=<MeanBackward0>)\n"
          ]
        },
        {
          "output_type": "stream",
          "name": "stderr",
          "text": [
            " 96%|█████████▋| 96441/100000 [00:45<00:01, 2355.62it/s]"
          ]
        },
        {
          "output_type": "stream",
          "name": "stdout",
          "text": [
            "tensor(6867.2100, grad_fn=<MeanBackward0>)\n",
            "tensor(6867.1992, grad_fn=<MeanBackward0>)\n"
          ]
        },
        {
          "output_type": "stream",
          "name": "stderr",
          "text": [
            " 97%|█████████▋| 97154/100000 [00:45<00:01, 2315.47it/s]"
          ]
        },
        {
          "output_type": "stream",
          "name": "stdout",
          "text": [
            "tensor(6867.1880, grad_fn=<MeanBackward0>)\n",
            "tensor(6867.1768, grad_fn=<MeanBackward0>)\n"
          ]
        },
        {
          "output_type": "stream",
          "name": "stderr",
          "text": [
            " 98%|█████████▊| 97871/100000 [00:46<00:00, 2334.03it/s]"
          ]
        },
        {
          "output_type": "stream",
          "name": "stdout",
          "text": [
            "tensor(6867.1655, grad_fn=<MeanBackward0>)\n",
            "tensor(6867.1548, grad_fn=<MeanBackward0>)\n"
          ]
        },
        {
          "output_type": "stream",
          "name": "stderr",
          "text": [
            " 99%|█████████▉| 98801/100000 [00:46<00:00, 2296.23it/s]"
          ]
        },
        {
          "output_type": "stream",
          "name": "stdout",
          "text": [
            "tensor(6867.1431, grad_fn=<MeanBackward0>)\n",
            "tensor(6867.1318, grad_fn=<MeanBackward0>)\n"
          ]
        },
        {
          "output_type": "stream",
          "name": "stderr",
          "text": [
            "100%|█████████▉| 99520/100000 [00:46<00:00, 2362.13it/s]"
          ]
        },
        {
          "output_type": "stream",
          "name": "stdout",
          "text": [
            "tensor(6867.1211, grad_fn=<MeanBackward0>)\n",
            "tensor(6867.1104, grad_fn=<MeanBackward0>)\n"
          ]
        },
        {
          "output_type": "stream",
          "name": "stderr",
          "text": [
            "100%|██████████| 100000/100000 [00:47<00:00, 2127.30it/s]\n"
          ]
        }
      ]
    },
    {
      "cell_type": "code",
      "source": [
        "with torch.no_grad():\n",
        "  test_x=torch.FloatTensor(x_test).to(device)\n",
        "  predict=test_x.matmul(W)+b\n",
        "\n",
        "sample['price']=predict.cpu().numpy().astype('int64')\n",
        "sample['price']"
      ],
      "metadata": {
        "colab": {
          "base_uri": "https://localhost:8080/"
        },
        "id": "ss0TUo07H-Qn",
        "outputId": "43e7227c-63fa-48ff-9b8b-a3fc2a06b8bc"
      },
      "execution_count": 212,
      "outputs": [
        {
          "output_type": "execute_result",
          "data": {
            "text/plain": [
              "0        17252\n",
              "1        12030\n",
              "2        14979\n",
              "3        18348\n",
              "4         6266\n",
              "         ...  \n",
              "16826    14497\n",
              "16827    18270\n",
              "16828    12579\n",
              "16829    16684\n",
              "16830     8561\n",
              "Name: price, Length: 16831, dtype: int64"
            ]
          },
          "metadata": {},
          "execution_count": 212
        }
      ]
    },
    {
      "cell_type": "code",
      "source": [
        ""
      ],
      "metadata": {
        "id": "Ohc7oTyCYDE4"
      },
      "execution_count": 212,
      "outputs": []
    },
    {
      "cell_type": "code",
      "source": [
        "sample.to_csv('sample.csv',index=False)"
      ],
      "metadata": {
        "id": "cGCgmCC5Il3k"
      },
      "execution_count": 213,
      "outputs": []
    },
    {
      "cell_type": "markdown",
      "source": [
        "![image.png](data:image/png;base64,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)"
      ],
      "metadata": {
        "id": "sQMl3WCfNPcx"
      }
    },
    {
      "cell_type": "markdown",
      "source": [
        "50에서 60등 사이인데 1등 도대체 어케 한겨 진짜 대단."
      ],
      "metadata": {
        "id": "O3kvcQ4KNVvT"
      }
    },
    {
      "cell_type": "markdown",
      "source": [
        "스케일링하면 개망하는 문제\n",
        "![image.png](data:image/png;base64,iVBORw0KGgoAAAANSUhEUgAAAjIAAADdCAYAAAChQZgnAAAAAXNSR0IArs4c6QAAAARnQU1BAACxjwv8YQUAAAAJcEhZcwAAEnQAABJ0Ad5mH3gAAFjaSURBVHhe7d0JXBXl/j/wT1mcQsO08GKBS2AL2AJ6NfhrQbiWdorELMh+ouSWmZqJtKClSK7l1oLileBmkF5Jr2sElRdaFG4JZAK5QMqVREVED+k9/+eZeeacORsckOWc7vfd6+ScYc7MM9sz33meZ565Rs+AEEIIIcQJXSv+JYQQQghxOhTIEEIIIcRpUSBDCCGEEKdFgQwhhBBCnBYFMoQQQghxWhTIEEIIIcRpUSBDCCGEEKdFgQwhhBBCnBYFMoQQQghxWhTIEEIIIcRpUSBDCCGEEKdFgQwhhBBCnBYFMoQQQghxWhTIEEIIIcRpUSBDCCGEEKdFgQwhhBBCnBYFMoQQQghxWtfoGTHcPKpLkfPTKaCLH4LudBMjOR3K9ueh7FJH9PqrL9w1YvQVNr5oD7K+KEFle08Ehg5FkLf6d4yuHHk/lAE9AhDgqfyQOcOWVXgKN6jGVx/ORQFbvFFHeAX4wstVfLWqGiX7CmH6My/08fWEpp34zljOW9bFLxA+ncQXofJgNr7MzUf5BXf4DArGMLN5Ket0SXw1aM+W68+mZYO68nwcOKpBr0C2vVS/lccDXn/1hxebUP5uMSehC3oP8IbZFjVRXZqLnZnfymkdGIgQfza9xXqbz4ftt3y2Py+oxltbJ4vtqGzrGwzpNyH2qXo7KPO12P9X2LxydyPrh3JUd/FByIMPI8D82GHqXz+RHovjlWnEsam5KxB+7mIcZyvNhBBCmhcPZJrXKf2mcT76Hn7z9F9eEKO4wjX6QT199AMX5ekviVH6C3n6pY/56Xuw8erPoNm79ccvi2m4k2n6cWz8uPRTYoTwwyJpevX4A4tM5yV/huoX/mBYqhV5+oUWv2GfQYv0B1TrYH3ePmzeYgLucpl+69QAi2nuCl+jL1BvD7FO5tP1GJfGtqDsVPoEadyg5aptxsjjJ+g3nVR/tzIv6cPWQZ7Mikv6A8sf19/FpwsYqn9skJzuu8LX6QtUC5TX23w+Yj+rx9tYJ9P5Gbf1pM/PiXFGBSuD5d+ptoPV/a86du4b9Lh+UACfp58+7MNC1bayZ/1EethxaaKRx2aPQcv1B9Q7ydYxSwghpFm1QNWSO55+ZQZ8alMQv7FIjKvEp0tXoMQ1EvNf8pfvstm4jOnPYfVRX8xKO4AjvxbjSPEBbI8LRtlnU/FySqk0VdOMx2Y+P/75dzKivUuROHM9Cq+IP9vyQpr8G/b5MXU8fErX4+X1yjooVPMWn9i+4k/QIW/lBLy8Q4eQ+F04VCz//fvESHjtX4HJK/PZFKZCFueYzOtIUjjbgqZKVs3Fsv3mvzRyH5Vo+P33i4PZmGAk5CjzjEGAPJmlY+lYuKoIXaKScejALmzfewA/Jo9Hl/0JSMysFhM1nnqdvn47GDo2v7Rcy/Tv2v0VTJaiy0Xah+XiS/3K/rEIq4vcEZ1agB/3ZmDv9weQGuWOvIR1yFJm2uT1a8KxWboWc1ZY7l9CCCEtq2XayPiOxzsveKJkyQp8WsGuT/vXY002u8DNm4IQpYqndDe7mOjgN3MRXuwriuvbucHv+XjMZ9fivPW7USiPvTpugRgWyv4tz0dBpTzKHm6BQxHC/i3LL2SXNTuxC3HGKnaRG7Ua74/xNlSnuIfOQOzzvnDLy0OJPKoRPOHjXY7EuSuQVytGNZeqSmkbu3t1EcElX+8Z2H7gAN4KtayiaQqvO7zFkCk/fxbQ7vgYW4+JEUz1nhQk13rCy1OMqEflKR5gusOzi0g5O3aCZmfgxwPzENJeHtXk9WvCsenl7Y2yj+oPOAkhhDS/Fmrsq0HAxLnQumYjbs1aJC5ajzL/OMQ+aSxrqP4lT7oYBN1nfqFzR5+HfeXAgwVBV+1KOQoOs39dvdHLvKijPscKpaBDc6ePWQlJGQ7sy0WO4ZOPMuXaVVqELPZPSD8/w4VT5oaQuAxsTxsPPzFGcerQt6p5sc9h85ICH0xYtAghJ9fj5eW5zXvHf99QzPLVIG++Fv2i5yN5Wz5KqlhqO7nBzXQFGsWwTtvWY/KbKfAbswYTBprOsEv4c3jRMx/rPldKvMqx9W97oHl+PCb4iFH1CBg6A36u+YjTBiHqjRRk7C9lASdLN0u7oT1OE9evKcemz8RFeCeUBZwzVyCnuQNOQgghNrXcU0udhuC1ecHQpa7AsnxPRM8Nh4+qAamu9rwYstSxfRcx1FTpmKPVYsSIINzdKwRx2RqEzItEgGr5VqXPxQj+u6De6BkyH1muwZgf6S/+qNiD+LFjEWH4rEXOGfGn2moW5jROYdJM1bzYZ4uVagvPkXh38UicSopGfHYzhjLtfBGdkYXNiyPR5+RuxE8fjcH9+2BE7B6UNVQNV4+SHesQvyQB8evSkXOSBxbnoDNP9nUPQjvRH2Ufsmn43w5+jnXsOHkxLNgsCLTBdzy2f5GGBLZ/TmUm4OXRw9CvjxYxO1RVU01cv6Ydm57QLl4ObdV6RC3KpiomQghpJS36+LX7k1GI5gOBU/BcX9PLk/vt8t2ursYyyy8ryWX/vwkd633SqD7e8AsORsiD/vBi33xmpyFplB31FT18EcJ+F3Q/n9Ybsz5JxNMWPzNvI8Om8RB/8vBGEPvn1AUr7S9YkFN9xnJdLdrIxJgHTjK3Rxfh/Qgg+cW5+PSkGNkc2rkjYFQM3t+eg0M/52B7XCBKNk3Fy5vsa6tiTdDMddiekcE+u/DjrhnomBqLKIu2RoDXo89hWG0KPt5Tjpwta1HmPx7aextRFOThj6dj1mB7TgEOfZeB+YGl+PTFmUhWVVc1Zf2afGyy4P2d1ZFA6ouY849G1GMSQghpshYNZNDuBvlfdm0SQ0Z+AXiaXQySkz83vTuuzUZGCruAPBqCIKUZg5hPzo+FJne61Sfl8g+f283rjAIwdsYMzHp9EWaN1KBkzTrsUkpN6vPX5zCL/S42fia0rqVYvW6PaWPUhngGIJhdAwvXp5tWL1wpwuphfXD/hPRGl9gYaRAydzXGYhuWrcgW465O5Y5YjNDORIZSTaJxh9+YCDzNBvPKVBdiDQ8u8lCgLiy6UolKXvcW6G3RONmEpw94TZHVtkbswv/c8xrsWjkBcRt1CHlmqBR4NqwSu2K1GDFrm2GeGndfPB0RzobyUS5G2r1+5hpzbJrRBLOgiQWcGUtWSNWMhBBCWlbLBjL1cRuCqfOCoclmF5txCfg0k7epWIuIgdFIhi9ip4w09lni/jBGs4BEx+50n12Qjqx9ucj4aCaenbsH8J4BbT8xnQU3DHspBgG12xD/YSOeKGEX2Bdn+0O3bRFWWzTeNG8jk4u8cmUab4xdNB4+5esRNXomErexv2emI/6Z0VhW7i1Vr5lfqC3ayOwrtR08uQYjNnG8nRf7hrn38ITu4DbMeWkFMqRlZyP5jQS2/TV42t/YPiRg6BQWjOQjbtJU4zqNe46tkwbaCMvgw7hO25A4fR6bHws2HwywEvBoEBQ2BV6lpSjBEGhD7W3E5A4vLx0K/zEXk1Zsk5eVmYK4hSlsG4Uj4E4xlZ3rZ6Exx6YFHnAmItqOAkBCCCHNQDyG3UJEHx3qPkHMHP9ikX5coLG/jvvC5uk3/aLukEPg/bO8Hq6/T0zH+wz564Q1+n+Zzdiyz5NLbBzvmyRcv7FEjLJgpS+RS2zcQDYu7GN9seg3xFY/MuZ9hZzLW2eyTncFTtCvyjFLqK1+ZFRpN+8vRsbXZ6iV8TLrv7HtVM4ak7T2CAjXv5leouqLRWa+Tlans7ZOAUP1k1bm6E8Z+l6Rt7Vxm5XpN4axbTQvR8xL9E/TUD8yl0/p/7Vygv6vfsZlWTt2Gl4/G/3IMHYdmzb6i7n0wyKp3yTqR4YQQlpW8/fs21S11dBpVE+c1EN3pprdNds3bZvSVaOaP0nTiGYfbYa34bmsYZu1gcTyddLZMV0r4seDzrWB7Wzv+lnTiGOTEEJI63KcQIYQQgghpJHaro0MIYQQQshVokCGEEIIIU6LAhlCCCGEOC0KZAghhBDitCiQIYQQQojTokCGEEIIIU6LAhlCCCGEOC0KZAghhBDitCiQIYQQQojTokCGEEIIIU6LAhlCCCGEOC0KZAghhBDitCiQIYQQQojTokCGEEIIIU6LAhlCCCGEOC0KZAghhBDitCiQIYQQQojTokCGEEIIIU6LAhlCCCGEOC0KZAghhBDitCiQIYQQQojTokCGEEIIIU6LAhlCCCGEOC0KZAghhBDitCiQIYQQQojTokCGEEIIIU6LAhlCCCGEOC0KZAghhBDitCiQIYQQQojTukbPiGGH98eVP1BSdQx7f/0XDpwoxOHTR3Dpsg5VF89Jf293zbW4tX1nuF53A+73uAdBXv54qEc/eHS4Fdew/wghhBDy5+LwgQwPXr45vh9J+Z/hu/IfUce+N1anG9zw2J0h+L8HwuBzS3cKav6sytMR9VAsshCMhK8T8bSnGN8SanMRP2wsEss10K7OwbuPuok/EEIIaU0OG8hcqKvFxz9l4P0f/o6zl6rF2Kt39613IPahyRjQra9UgkNaybE9WLalkA24I2R8JAKa/bpfiU+jghCTDXjNyMDX03zFeKPKfSlI/qGSDdmZBl0RMtbuRon46hc2A8O6iy9M9Y6Z6PfiNuhcI5H0fRxCXMUfCCGNVl2aja2ff4Xc7DyUdfRG0IBABIcORZA33SSQ+jlcIHNF/19sKdqNBV+vbdYAxlzvLndi6dAY3HOrtxhDWtT+BPQcvZ4NBCMhJxFPe8ijm4tu33zcPzYFOvhjflYaxqoCDlTnI/HFCYjfpxxP9qRBh7wVWjy1qlR8B6LTihHbV3zhruQj/v7RSKwFAt7OwuaIliwCIuRPqrYIiZOeU52fpnxGrUHSoiHwaidGEGLGoYokjp09gbBNU/DKnoQWDWK4glOH8VjKBMRlvYeLly+JscQ5VSMrnQcxjP/jCDEEMTqU/CMWI4JG28wkbSpajzmqIMaqdv4YFqmRBvM+/ByFV6RBQojdKpExXTk/NXAPjUTs4kS8+/YUjB0gl8SUfDYVUSvz5fObECscIpDRs/92lXyNxz+ZiH9X/CzGWscb7kbc9zgSH1+I76I349eXs3BsxleGzy/T9iDz+WQsGvQKBt0RhBuvu0H80hIv/fnbv7dgTPrLUhBFnFT1t9i1TR70ezwQXvIgU40D29JRWKtBwLRkbH47WIxvwJVSJL+xQqpS8goOhp881qqAhyPlgfJ0ZP0iDxJC7FS6G4mZcogSEJeB7xPjED0qGNqIGZifnIPUKLmUs2TVx8hq2Xtb4sTaPJDhQczff9qGaTveslkKw4ORsfc/ga/HfYJvoz9DfOgsDPEeIAU15u1cbrhOA5/O3fHsvSOxXrsIB6dsx6fh7+FBzwdwrY02MTx4itgyE4d+/1WMcQC15chaNRUjgnqj5x29pM/9g6ciflsRqs3v/K9Uo3BbAiYP7mOY9u4gLSavykWlybS8HYn8954J7A7ncDrinhK/6R2EqI/y5XlX5mL15GG4X5pXb/SLXosc3rTEwHQ+0vTRQbhbPX2FmNQelfkscBiNfr3FPFlanpq13v55FOYhQwwG3WlaVXiDRzgStudg8wwW4MiFJw0qS09AHFstuEZifswQdJFHW+fjhxBpoBy7fmigBEftSiXyUufjKbP9u3qfyYaW2XMs6LIRJ/52N98nZqq3TRW/DcHqIjGSkLZ2phy85RzXx8+8ml+DoKnrkJqczD7Pwc/s/NUdy1blU+zD84032I2LtctII863vAQxv6h0lJXvMeSRUZ8Zp7VYdp9hmJywzcqydShMnYmIyeZ5KGlObRrI8CBmzfepeOPLFVafRuJByjP3jsAPL2zB24/MQPebb2v0E0fXt7teCmJ4MLMjcp3UNsaasnMn8ezmmcg/6QC5vC4fy7QhiFqxB4UVOrh5+8LPQ4Pq0j1InK7FUybFrDrkLRmNEdPXY1ep8SzSVRRh14qxGKhdb73K48LniA+LRXK++E1tJbISRuPl9D1Y/exYLNtdCvkvOlRmrkDEsyuQZ61sV8eCGD59ZqVIk5h+UDQ+LZdG1I8/aRQyGnGp+aisFeNYWvL+kWD3PMqOKfssGN49xaDEHdq34/G0byMaC1ZsQ9yCbDaggXbxDIQ09FN3T/iJRr6FJWWq/VKPK+X4dFIIy3RTkMf2r4Lv32VjgzCYB5linN3HgiYQQ5+Xc3rdjlyzfV6NnC/2yIP3jscwy3bQhLQNVzdDCWryhyxwMM+rOsmNfoMG+JvciOj2J2BESLQqn2J4vpHKq5LN8o3GnG8m8rFm3FRjHilYXfaZUuz6aCZGPJWAPCUf44rWY/Ib25Czm+WJC/YYpyfNqs0CGR7E/OPnvXjv279JVTzm+NNF/2SBR8Kg2bhJ016MvTq8Ye/nz36IBY/MtFrldLr2DF7etQC/njkuxrSN6syPsVq6uffHrM0H8OPeDGzPKcDX8cHs8sqLWddiq1JasX8Fnv2IT+wJ7bIsHPm1WPr8mDxeyiB0RQlI+8bKaZrKMo3ZGfj+AJt/ViLGipuhrFh2l9Ijji2PjT+QhaTnxR9K12JXnjxoYuMKefrvCnCkmKUxMRI+fHxtNmKmp6BMmsiGK0VYPS4WWezE1/Sdgc0H5LQf+XcG5oeyNbVnHkzl0Vwx5A0vdzGoaFQDwUpkvDFXTs/I5XjLrkeqPeHZTwz+VmlXRlX40QTESMXpbhj2dgZ+LGbrXHwAqS/I27rko7lIPiwNNuJY0KBPaLg0zqKaS1X1FjA6WN4/hDgC33DM4uc6o8uMxUP389LYFfg0swhl1dbDC5zZgzn/t16q+tX4jkfS1yzvYfnGob3x8pODLN+IW2kMGoznmzfGJmbhkDjfNs/2l8+hj57DnB1WztzsdGzVhGN+WhbLC3Mw/2GWH6iW7TNqOfb+LPKsHJGHlq7Hs0tyjYFRZy/4iBsdn7s92RlPWkKbBTK5Zfl4LXOZRUkMr/7R3hWKLU+vaZEningpz3P3a7H1mfdxRydjawrF0bO/YdqOtw2d7LUFXe15MeQOrx7GQ98rfLUUeBwqVj1x0zcGh37mQccuvPuk8akZtwFDMUwMl/1u5SS9Nwaxz/vCvZMb3LoHY8L4QPGHQMyPi2R3/Wx8J0+EjB+PIPGXEnahtuAaifffY9O7syyhnQZeoXF4P85f/ls+u6DWV9uS/7m4SA/BOx9OQUAnaSxLvC/GLl4kpz9/PTIaUUh2w1U82VC9YxHm8AzPNRjvzB3SMpnOlXxkrJE3iiZiGd6N8IUbT3M7NwTNXo7YAb7wu1eDwl/kbd2YY0ET+DjGSplmOdK+Mm40XV6uqHrzh3YAPVlFHIk7tB+wG6YX/OXzTSqNXYuYaC0eeqA37n9qPj4tMs2/KjPTkSGVevgj9r0YhHjKgZDGOxzvLmN50b2+8PmlBCW8dEd9vj0fh9hQT2jE+RYwmZ1vUlalQ8Znu9ltjDmWL30cj7F9WQDSiZ1/LI8zLNtzBt5dNBI+8qIBj2DMXz5DvnncyPI9JckeI5H0zS5szsjC9heoKLSltEkgc/zcCcz9Yilq/zB9WogHMRP7jsGyoXPR3qVlO+XgJT6bRr2LgK6WTTn5E00Lvl4jdcbXFtx9/cVd8x68PGgYJr+xXtyhsGs8CzykE1FNw4IOlgtUHytCzj520Updgfjp85As/mxVoJ/JnTlvWyRj/14nBjk2rPzFqtBA9DHbVT5/DRbFxUUoLbNxV8WUFIo7F/eOOMeGedoNn8JT0jT8opwnLuotit3FLXt1m5SekNfjoG3mx8MNjhYiRxQ9j31ULlUxaOeL6OQMbM/IwLsj5aKlRh0L7VigMlEOVMp25Yn+b3TIyUyRhhAcjuHqx9IJcQTt3BESk4YfC9jF/r04RD8ZCB9xU1Odn4KYEUGI+kypK9Kh4Ede9csEhiPE7F7XbWicdP5sz2A3RvzcUJ1vTz8cYJaXeSLocRFcZBehwDyrCgw23lxJVMvuoUNZrlmedbRa3PzsQaH6Bq6TNwLuFQEUaRGtHshc/u9lLM/dIJV8qPEg5rn7n8CswCipXUtr+EuHW7HmsTj4deklxhhlHMrEzpKvxbdW5jsFSavD5bYXvO41NUG+Q+nTG3cHRWN1rurCfqUSOaui0e9+dvcSokXE2LF4+Y21SMysryikGXV1tyy56OxuCJKslgYJ1Up7pMp0xLF087QbPwnYJf+VraP4t8Wwi/3y+UjmGZ4/u2sLb8FSC1XjRthzmDfmWGD8WLAiBZEHP0fOMfbvlSLk/oOPAIY9OZTd/xLioFw94TcyErHLkrH3QDF+zIjH01KgokPWq4uQcYYPV+OUculgUYntZ1IF1fmm6WB5S9axvdKUvxynpPmrWMxftex9azHZPM+avl4sSwddi+dZRK3VA5lvju3HPw9niW9GI+8MwRsPTWm1IEZx201/wfuPvQWvjl3FGBkPuN77diMqL1SJMa3L69F4bP+xAN/vTZP7VBjqLQUMuopsLIuYimR+kWLKNk1FxIpsVNa6IeiFeCSl7ZKrHH78GGPlSVrWhXPstDVzQQelPMXrVoswx0DTUQQMd/L2Mbx6zPpHKZ2wxb2HUi1WiuLGPC2lqNyDdUnyHZ/mZDpeDtNihFZ8JqxAjvQX4NO5fFwsdpnEDpWolIs+gNutBHXmVI0bYWeBn73HguTeYIyWNms+snkvxvm75QANQzBM9MtBiGNgF/wz1ajmHyvtYdzuDUeCqK4xlnJo0PEmaQT/ORrsAayB842/q092Ezo2WAmgWvaTy/G1lbxK+czyF9ORVtGqgUxN3QWs/j7Fol1Mj5tvxyv/b0KrBzEK/jTU7P8XDRez5fMXVP79oGgl2dp07OTWaeDu7S/3qfD+Lvy4PUb0aSIuUuwimpMpHrWNWo3UmHCE9PWW2r1oLlsJMFrCP77CAbMFlX37ubgz8YR7F8u7IIXPPaJfl8OFKGOXZl5Vov5o2mnkYduzkHTxUMqXc1F+Ugw2xhVjdsif9io8qPoUKU9jsfuxUj6uEufUd1vV5SgRpd5+Pl5mRddWePuKx7WBXfvNG/+UInmsHEC9/A/VYxd2HQsKXwwbLxeXZ+3IRkbubjn9I7UIMSkmJ6StaVD4tyDc36cP7g9KQI6VDEt3rtJwUyRzg0+AqA7KzUaeWSlKdeZ8cRMinrKs93yrRt4+8aDAvQHwaTDOVy37hzJUu5nlWTyj4tX8Ut4lT0ZaR6sGMl8e+daiwzsePMwZ8AK6dbxNjGlZvBffV/cuRsYvmWKM7LFeD+OJuweJb0ZbD+3FqQunxbfWoEPO/N7oeQ87uYexk1vU73L8pFYqapSSDkPjVnZHo84Hyj5Lrb+NTHOpTUFcQrahv5rqIvZ9kQiuvCPrfdRXEzhENE7dg9UrjfPgyjZF4/4HeJ8PDfd7ogkIhFYa0iHrpyZUqbk/jnet3FVJn+1xhsbOYxP5uGV4Ql1AdDhPVIFpEGTWD4Zu/1o81ac3RsTuMT5WqnpMumzFTMTnGqveyjYlIH4fD5aq4ePDi1UadywofILDEcAHsudjzodyQDT2yYcbLi0ipJX5/VU8acfykajnViDnmMjFruhQtp/lJfNFj90YAuX0MhzfLN+Y86rqke3qXKxOSJFvQLx85Ia4JufbPKxWPUpdtmkW5uyQh0OeG2rX03yGZZevxbIUVT9OV6qRs0SL+6W+sGZil7KYK+XImB6Eu/uMReJBK5EaaRatFsjwAOKTg9ulKhu14B79MfiO/ye+tSyehrlfLMOnBf/EK7sXmQQz1117HSb/9Vmp3Yzar2fKkHHoC/GtNbALYvgU+aQqX4+IfkHiDmMY+kWslx9F9p6B0QP5yemOoKGiVOOzaPQbPBVxC2YiYnAfPPS3MrtOzKs2ajxCMtmye8kdQ90/Yr70+DJ/1DF6kXgU2xaWycT+bbw0TclG3s5HrGtQbzwUmy1lYD4vLEd0PcGQxO1BhDwqDxZ+lWfl6YMGKCU/1j6dNYZSFk1HeZz6bqvwB1Hi4RqO4HulUUIltq5ld4VndCjcNBNpP4nRfP/O/hjRUqZcisSIPlLnhYP79DKss2bkXIyV5tWYY0GlezC0/nyABbd8X7hGYmig2TSEOADNgBj8XXQ7wAP/iBDRYV0vlgeMno9PRXVSyOK50Colit0j8e5iuaG89Mh2rz4YPIIFCw+wYEGa3huzpowUgbv6fMvHsqfYTcFg0zxGExqP+U/a2XrMsGx20zSfBS79hknn5OB+fRAhdYPB0zoTw5S7hvwUvLytErozuYhfuafxeROxS6sFMkfOlONnQ2MCmev1N2Cc/1OtUqWkBDH/+FnuGIxXb5kHMz07eUF7l2WpDC9JatX3MflOwfZd8Rjrz86G2kpRzcE7X3JDQEQ89mZMgZ+4mLo/uQybYwKlk5Z38JSctA0HNEPx/oY4Q5Fqi+o8FLPW8U7njBdKjUcwYjenIbZvwxdPTd8YbN5utq6806pO/hi7OMPQ10P93DBsVKQ8XXY2cswb7bWUK0XI+kQu8fCaGI4gk4SyIFM8laRh+zNEHYy5+rPtk4GECPmRU16dVcLT7OqOkBnJ+Ga56tHvRhwLRp4Y/ozxdQya8CHo0/BGJKQNaBAwOw3b32M3RB6WB6mbf6TUM3fSKNMG+F6jEvFN8gzxm2qUiCpgafpdGXixnvNNqiLmeYxyvn0Q3qgXUpos+0ypdE7y85fne7OSs0zT6jtUBFEsj3r8QWps30Ja7e3XvOHs8twk8U0W5BWApCcW1fs+pOZgHsSo8c72Pn5yKfy7ykd+EQu2nv1sBs6oXpcgTRPGpvFoqGigBfD2EaJKQeNWT93rFZ3cYI6XLjTUqOSq8VcUBCGGP4n4QhqOxEi3/1LDPd3VLL+WtwXhA7yEpJHz4O9HGj1MerVAQNwubFY68mtBhjduu47E+98sxzBrbVDYOuk0duw3pt79y9l7LBDirAx5gP3HuK6anWO8ioe3T2mowW5jzjc7GJZdX77Hl6ljf2+wMTFpqlYpkeEtw384YShbN3jynsFtGsTw9jkLQ2cZghjuzlt6oM9tvcU32XndBfz7ZP0vs2wxovGYeZWGBaV6pMWDGNs0V7t8V2VdmzCPdt54+nW5GiZvyRpktHQZLg+cVvD6ew1C5s20HsRwbJ3s2m8N7V/O3mOBEGdlyAPsP8Z5QCL9xp5AoTHnmx0My64v3+PLpCCmRbVKIFN18SxKTqufEQVuufFm3PeXu8W3ltFQELN06FypF2E13lZmQLe+4pvR97/9JL1WgTgujf8M7OXdhRcsh7aly3BZ4BS9mXdPXmBR7E0IIaT1tEogc+zsCZOqGo63R/F0+4v41vyaEsQoHuh6j8X7nY6d+w3nLindxRNCCCHEEbRKIFNZW6XqeEjGq3A6uDTPyyDNXU0Qw3Vz64ou7W8R32RVtWdR+8dF8e1/nTueThIvSxPtYwghhJC20CqBDH9iyZynW8u8zOZqgxjuhutvwK03mjZ6qPmjFv9p1f5kCCGEENKQVglkztfViCEja2+evlrNEcRw7a+/EV06mJbI/HHlMi79YVqqRAghhJC21SqBTEXN72LIPjwg4b3vpv70ud0NbJsriLGFV42dNWvnQwghhJC21SqBTGMoAQnvfXde9koWmOxtMJhp6SCGEEIIIY6pVQIZD7Nu/20xD0h477tz9i6uN5hprSDmhus0uPkGQ3+rhBBCCHEArRLI3OTSQQwZ8XcYmVt3IM3ivUZKMPP5L1+KMUYtFcRc+OMiTtWYNuy9vt11uOH6tutsjhBCCCGWWiWQ6dnJssOw8uoKMWQ0qe8zGOU7FNdeY5osa+9FasmSmEt/XMLvF01f2NPhelf8xeyRbEIIIYS0rVYJZNxdO0tVM2qHTx9FTd0F8U3GXx4ZHzpLenWBOalkZg8vmcls8eqk49UnccrsUevOrjfD9fobxTdCCCGEOIJWCWS633wbOpm1Lzlypgzl1f8R34x4MPPOoNl4yneoGGPEA5hXWTAz7OOoFm0Tw9+rxN+vpNa94+3oeMNN4hshhBBCHEGrBDKdb7wZPrd0F99kpy+exU//OSS+mWoomDl69jfxzai5gpjL/72Mfcf3i29G/W6/D9ew/4hwsQZ1/K2v/+uu1KFG1eFzXQ1tF2mb1NSJL4QQ0rKu0TNiuEW99+1GLM9NEt9kQV4BSHpikc03YP/Bq5O+WILNRbvFGOuaK4jhiipL8OxnM0zeDcXfu/Rx2FL4exjfkt3iKr9D8qJl+CS/Crw7QZeOvgib+BKih/vARZ6iYRUZePWZ4xibNQ2m7/O+SjVf4p2R8dgTtgSZ0+RXFEgXcJcO6KBOnHRBAzp0tDvFtu1fhYGzgfdtrUtLras5aTmZeOiTlRjhUYOv3nwCr3+nxfu72XJ/2YDISam47eU0LNZ2Fj9oCTU4tmUlEpL3oeAcDxhc0DsoHNEvj0NAI16WWfDuICR3S8HisObtZfvYhtGITPbAm2krMZinx8ZxYPWYaZIKbJ8aia9Dm39d7HFyZzzeWvUlCnhAe2M3hE2IxdQw0/O07pcMrIn/EFuOs/3F1jlwTDwWjPM1PZfP5WPTG/OReJBtF/aXzvdqEffGRNN9as80drAnza1OV468bbuRkfk5DlzwRtCAQAx7PBwB9e3SM6XI2pGOjN25KAH7zdAQaENHwq++36iXc8ITfR4LxtDQoQjytvZUajXyUtcj65T4ao1vOGYNtfPFsU1Ib3VpNrZ+/hVys/NQ7ROI4MChGDbSH171PXvSqHUUruhQlv85dmVkI+Oncnjd9ziChwZjeKA33Op7U3hFLpI/+RaVbNB94HiM7dsGT/fyQKY1FJ4q1t+/doS+2/KHDJ+7Vw3R/+v4ATGFdbV/XNRP37nA5Hfqj897ofqth74QU1+d/7L/Fny11mIZY9JfltLRak5n6ucPGa6ftPJb/Ymz5/Xn2efEv1bqJ7Fxs7eeFBPZ4eRW/ezglfqD4mtzOl34rf7wKfFFf1K/bUqofvZms7T9sFI/oLmW39C8WnBdTUjLmabfpqzqyUL9gUOn5eHL5/VH8/L0J87LX1vK4Q/C9QPC4/TbCk9Kx8Z5loZtb/BxbP1rxUR2OLjCyj5rDmeP6Q/mHdPrxFfr+87GMdMkzTmvxtFlLdQ/MmSafjPbF7paHTsvtuoTwofr5+8WxwTHj5kh4fqEzYX606ppTNJ7+Zh+87hQfUR8Jjt+dHrd+WP6Aysn6h8J/0B/+HIjprGDXWluZZd+WqMP8/PR9+hp/gnQT0op0V8S06kd/+dc/SCL6flnqH7OP8vEVKZsL8dPH7a20MpySvQbH7c2veqzKE9MW79Gp/dymX7n3Mf1d1n7jd/j+qU558SEphq/jsyFQv2qcD8rv/HR3xW+Rl9wQUyndvmc/sCHz+nvU007Lt1wUWhVrVK1xPEnl+5x9xHfZLV/XMKG/M1SyYstvLRm0SDeAHiIGGPUnCUxHG+3k/GL6ePf3CM9H7RZatQSqr7Zir3dxuHNaf3RtSO7Y2WfrkHTsOTVAfj93/moEtPVnbOsxrBZtVFXgxo2vboaRGGYjzKNqlaAz4+PM59nh25+6C4KHaTfs9/oLqqmleZ1ng2cx3k+T/Pl8rt0Pl4qUbDO1rIbZGNdrW0vztZ4u3Tuhju7iQ3Rju2nO3rhFqVNuKqKRVmXq69xyUf2liqMmTUPI3w9pGOjg4cvRsTNw9TO36GgREzGt4G1bW4jAXwbWN3WqvnI06h+r+xD83l28ECPXh7y3b2N48DqMaPS4PayteyGiOVZbBvGcO7YcWzKapC760v0nhCLMLYvXG50QWdfLcaGd8PeL/8tlaRyxVs24MDAlzAjzBedxTQzpg3AgQ+TkKek45ed2HRkOGa++gi6dnCBS4duCJgyDmGVO5H7SyOmaZB9aW5V5emY/MwK5NWy4U7+0EZNwYvTIhHiwYscqrHrDS3is01fD6PLX4GoF9MhHe6dAhG9OBFJi8cjSHpFXik+fXECluWbvVKmYptxOa6+0MYsR+p7MdD68uXokLdkNCb/g5crqFWj/KA8FPAkT5eVj3/DxWGNTy9Lz8oJmLypiA0BPkNj8G5ysjG9tUVYHTEByaXy1AZNWsdKZEwfjWX7+ZI08BvJl7UcsSN92Tf2q/0r8NT0bVKJi0JXug0x2iA8lZDLtpADEAFNq8g49IX+jncfMSnt4CUq/zycJaawrUZ3QT95+5smv2uukhiOBVP6V3YvMkkb/wxMGqMvO9e6d3qnt07TD4hI0h+t9y4rT79aXTIgke9MV/+gfJVLKXLYHXHEEK1+XES4fljwcP24d77RnzbMW57PJ5tX6sdpw9lnuH7AkAj9R98W67PZXf6wsAh9xPBQ/YDhr+j3GJalXk6h/pOICP3jQ0L1j2gj2DLi9NksKD+9I04/LozNiy0vgv19XGKh9EvuxG72tyHD9Y+Pkef9yJil+hx1IH++WL/5FZ4OkWa+7LSldpXI2F5XnT7n7VB9+BpjOiSFH+jDg2P12WfF94aYlcic3sz21Qrljsxsn/CSiClJ+m0rI/TD+LZRtu0PV1Nkk6f/iG3rhC/qn4dpugQpPVv1yn23VCKT9q1+27Th0n6W0se29eZDxnlL83knTb/nFS3bX3ybhuqHvbJVfzjvA/2k4Ww7j9HqH+HbeU2eaQmMWI7148D6MSM5z/42kaeDHYti3q99UmycN3M6ayk7flg6RJrHrdyq/6ShEpnLJ/XZ8yL0j6iPjXmZ+hOG80Ac02lb9a8N52k1rqtxGku68+f159WJY06kTdQPmJOpl7dioX6jNlS/PMtsosvfsmNluP4jZRdd1unPn7U2jVa/UTlk7ZnGDg2nuTVd0v9rnigJGLRIf0B953+5RP9RmLjbH5emN2YRp/SbxonxAxfp/6X+zYUc/cKB4m9hH+uPi9F8OQcWBcvje07Qb1IXgFwuM87Pb57+X+oii3O79dOl3/jpl9pX8GJFE9JrWK6PfuDbOaalKBfy9AsHyX+7a/ZuvbFcpmnreOmHRfqBYlnjPjEtGTr+yQQxPz/9m98Yf3QqXR5/V/hy/b9++Fg/Tvn9n71EhuMlGw943CO+yfhj1e/s+wjHz50QY6xr7+KKJYPn4LE7g5u9JIb7Z/FXYIGR+Gb01D3DWuxN3bZ0Dh2HMXWpmDR1GbbvP36Vd/E78danHliyYyuSUtKwc2sc+uyfh4QMdT8+RdhS0g8rN6chaesOpIxxQXLMKygYloSdm1OQsi0Fc3rmIzGjSEyv5osxKUsR7QP0GbuULWMeHmY3KJ2Hz0PS3OHs78MRk5KCpAmifVHRh5i9rAphiTuQ8Qmf91Ys6f8dXp2XIUqa6lCw7hWs0Y1DmpLmT0bhcPpO6a/1q29dXdDn4Udwes83KFbd/Rd/sxOnhwxHYEcxorkVpeNrj3iWFrYN2LZNG9cZyQtSUSz+3Hj+GDHRF3sWT8JbG77EsYqrOjhwYN0qHItg24rtZzl9OqyZs0FuO6HY+Q3OT9vK9hffprEY8tMqRK3rjDfZvkv6ZCt2JoSiJv0z5J4T06tYPw6sHzNgR8BXC17B9rvjsHMbOxbZvDM3jkPdhleQuF+sZ0UGEuZ/hz5vseWKNC/0yESitUPTgB1Ta1/CW6e1SFGOjW0rMeRUPGavM/3hpvTjCPuEnQPS8bMQI4pXITGzRvzVkksH83ZhRdjL5jH4kQcgdQN6hZdE+aBXL7PWJ+26o7tvHYqPi/LVdi4WbYhqMj/HFnd2bN4lRtgzjR0aTHNrqv4KaRvlkohhL01BgKs0KGvnjbHL05DKSyKiAqTSAUlFNnZny4MBEyMRpP6NayCemyi320P+58g6Jg/yddyVUi4Nap6PwhPqJi3tPPFEVKQ8/9p07P5BVTJSe06UOATCs6s00HhNSe/hPGRIA76Y8Eygcd05V388Nz5QGtR9tgs5SpFIE9ex8IsUSN3TukZiwpOmbX28nozCWCm9OnyamSeVDknauePpxRn4/pMZCPI0SV2baNVApoNLe7zYL1IKRNT4U0hL/7Wu3iomjgczCYNmY+uY95s1iDl29gSW/CtRCqrUfDp3x7P3jhTfWlEHf0xlF/mF/avwzwWTMHzoo9BGvYZNOZadCDbMBc+MC0dXpbFWx/54fkJ/5G7JhHLOsAVixIj+6CCm6X4vP7FC8XCQyNbaeSAo1BcnL6pO8CapY8tNx03jXsGIbmJUuw7s5H4JYUWZOMDLLi9+j70ZHTB1hlmax4mTvV71r6tL0HCEXdyJXOXaxU783J11GDGgX8s1cnQZLhXbK7oGhyLwXCGOmpfuKiq+xIpJs7GpyHaA0jVsJTJWRuCWgx9g0jOPYuCjo/H6sp0othJINKTOPwrP9zdevrqGT8LzLAvd+51q+f2fwBBlFTr6ohcLQAJDBxq2s0v/R/AwrzqyUl3TKEd2YmP+AMycaDwW0S0cUyM6YEtuofT12J505Ia+hGh1msNYmusLRPkxtaUOz0erjo0OPhgzKRx17NgoUAW2gRERCFDmxY6fh4OBr36xM+y8UoO8VfOw0WMiokNFdWNlBTv22NGlLNfcFRv7+Xg63lpWjLBXI9DL1m/tmaYh1tLcmgqVC3Ywhj3oxtJTjZL925C8YgWSt+WjzM1favQbNMAbShPS6rxcZElDngjxt2xk6+UfDC9pKB95heIq/0sudvHqFmbYX/1MAwNGc18ghklDOmQdVNXXlJcaltXFjaVtXzoSWdqWfZSOnFL7KlWalF6DLtC0F4Mqxn7Z9qBQSW6T1rEIOTtEvh4aiN4WP/Jj57o8qMvMl6vGGPfH45Ewyrf+RsCtqFUDGW5g97547M4Q8c1o2+EsvP312gaDGTdNB/h16SW+Xb0T5/+Dyf98E2XnTooxsuuuvQ7TH3we7u3b4OTmWPAQMG4h3md3nJnbPsDCIddjz/wovLqlscFMP/TqKQaFDr3Yxei3KnbpUXRD51ZZzSqcZpv5aHosoiIjjZ/olex0LMJhHm2cO42T8EcP47Vf0sHdbIRVDaxrO38M0QIb2QkpKfoG26HFiKAWC2NYNNwNt4lBNZ15WxTFuWM48Eshjp2sv6Slw13DMZXdre78YgcLaibhzuJVbDuuQoHtwgOrevn6mN2F+6BXX+BkldISi/Ho1Dp36qerUIzvsTpadWywz/wtVag7dFwqsTtfVYGAu8yermnXGZ1vF8PWSMfUQPQ2f+jQwwM96opNgsrut1ueCBbthqyqQcGqKEzPGYj34rWqYPoWdGUBPGzNo52VY++3DLwavQGYuBJT+9rY8vZM0yAbaW5Flb8pF1RvuOu2YXK/Phg8eibiVq1F3PTRGNynDyI+ktuJKHS1Ss7lA3dr+Za7F/uLrLpW/LK2Wi51YLp0sfJUjZs7vERJSdk549J0NcpwIVb/XxAGj41FPEvb6oRYRAxmaX11D8oaOD6alF5XNxHcZCP7B/Pgpho52aKIh20ZQ17SpHXUoVouxGF3BO6GYNHIDV16iOimvNq4HxwkgFG0eiDDA4SZgePQ42bTnOe/+v/i4x+3YlluUoPBTHP5T83vmPrP+Sg8ZXnHpb07FMN9HhLf2hZv1Nd7zDwkLRyOAx+mo0CMt88FqVGlCd7gUQy2hT7DJ+HFKdNUn1lYuHAhRtwhJuAnZ/3XcRsaXtdewcNxy8590l04r1bCkIFNv5ttCXeNQ0rWDswJtfPixC6EnX0ewdgPkjDHPQPJmaoAxA41bPuYquPtc9tOx4F4xuTYYJ9X4/DehP6GYOr8xaYcHE09puxzckusFBC8nzQNvdW77sbOuKVjCY4pFwuDkzhZ4oJeSkNxRU0+1sz4kAUoSbYfJbdnGjvYTHMrOlWp3ONnI27cTGR1HYkXpYawU0QDVXbRTjBtoFpWolzEvdHL2uq7exoCg6wSecNXHlUCpmB4WxaKMJ7w7CcGD5cYGrZW/67suHyUXBkipS31vTiMHSBf8ks+m4qolfnGC7wVTUkvfB/HBFEIvWvuBCzbVy4HLLpyZC14DnN2yH9Ta9I6VpQYSllCfKz+CF5ecjUWb5Rc3JRKgVbQ6oEM163jbVg06BW4Xm/6JBAPZj7cvwmzdi/ChTpRRtZCDv3+K8Z89jLyTspF1mq9u9yJ1x+aKnXM1/pqkLssEtNTlcPLjElmbJZBXjmJYxY/Y3f3x8WgUHWoECd9rZcUtKzOuM3TBSd4aVNQf+Onvz969+0vPwXF72Bdvkex2XpUHbeneN+OdfUdjjHuO7H3m33Yk9EBY4bX1zfQcXy1ahW+OiK+cuzC/ztuwk1t9baKknS8GrnMansUibqqolguxVBY24YnS46ZBrVXilGQ74Lu3Vq3XZikiwd6V55Hh/tUxwb/+Puzj/wU1C0e3VB8sNAszdaOexX3buhu5ZiqY8fGgY5+uOsqV/XklpcQuU6DmBXWAgJfBAS7YMuX+0xP3YPfYy8GoM/d4jvHA5So13Bg4EIsqC+IaWgaO9Sf5tajO6dkYKUo8YrH3ozlmDUqGCGjZuDdjAzEShdzHbJWpLOzW6bpqFxwdVAVnhjpzhkCC7+ucsChcVV6ZT8Fs07bhWrolLfS3G4smXAflYgjBQfwfVYWvkmT0xY0MhLzk3OQGiWno2TVx8iqp5apKenlQcfY9+IRwktQavOxemwI7u7VCz3vCUFUkg5jF8fAvF6jSevo2tGwrqcuWF+JcxeUTnQ80UV6ysrxtEkgwwV6+WNh6CyL9jI8mOEvhwz7dCp+/l2JMJvPFTb/tMKdGJX2otU3cPOSolWPvoHON7ZU68+GdMC993ZHQfJSJOZUGIq1a0p2YsXiDHQNG4A7pTG90Lt/HbYkp7IouQY1FUXYvuBD5FpcYOvwydJVyBMXvroj6Uj4sASDtQNZWNFc2F1nV+BoSQmq1I/S3tKZpbKYBf/K464uCNBqUbdpKZL3i0vslRoUp76C4aNXic65BmBEmAsS3zZN8/LkEjvasdizrt0QOMID2xfHY8vtWgSaVUWZO52fgcRNX6KKr9OVCuRuykCxbz/c21aHR08/9K7biTXLWDqUKKWuAgXr4rGixBeDg+SLW+e7/dC1KBUbM49LjxKfzFmF1emWt1MuhR8iIV1Ef1eqkLdqETZ11GKIPU2S7GVxHHBWjpluoRjT/3usWbwTx5SrPm8z9PyjhirVrkMiMfinVXjLJM2rsL2+UrV2/hgR0Vk+ppRtxua7ZtU+9BmnZWlrurr9qzB7VQ2i35mLwA5s/aTHtvnHGLb01kbgzj0rsSZTnM98nd5Oh0vYEwgwPKpfge2xr2GP3zQsHNvL8Di89FFmZc80drSxajjNdShOno3pC9hxL8a0FC+fYDEEREeHw0u9H9t54+nxoo1ieT4KxOHbxdCNRzlOmb7bV3am0ljF0l6+TLt16SL9y9uElFv7DbvIK49Zo31Hs8a1bnDv7mnWHkSDoGfGw08a3oa8w9KAVU1Jr8QzHElfJCP2yUD48ADC1R1+Q8fj3V0swPPViZIUX3iK4KJJ6+jmDuVXhSetBzLVJ5VGhRp0NG9D4yDaLJDh3f3zl0NOf/D/0M7sbdccLzF5LGUCYr5YYvHeo6bigdHjf5+I2XsSrM7zFtdOeHfY67ijkz3tMVpOhyFzkTSxG/IWRCJ00CAMDBmE4dGrcDR4IVZO8RcX9A54eFoshlSmIuqZJzD8+Xgce3gixli0FRiON+d0xsZn5PmERm2Ay7iViBnSfGEMD1ACx7E7u5x4aJ+IxCalT4ueWswMr0FiNEvf/C/lu2jfiVj5lj8OvDlaSs/AQU9g0s7OmPHOOPQWmXqvCSuxwO87zH5CrHtsBca8MxF95D/Xw7517RqsRZ+LdegzYiDqfxChG8LejkWfQ0uh5fthUCRe/8kXC2K1zRgENlI7X4xdsxBDzm7ApKfk9Rw4NBLTM9k2XBmPwcpNum8Eu9h1xp4FURj+xBOI+ocHnp8wUPzRqM+EOAwuikWotC9GY/Z3/bF4zcTmrW6zdhxYPWY64+HXV2JMO3ZMDxXr9sxS6biP0YoV6/wIYpaGQ7chShw/kdjSMx4LLbuZMtE9YiXeH16I15Rt9vxKnBy+FAuU+TZJBfZsyMAxHMeal0ZL29n4+dBYBdwzAkuWD8fRZeJ8Zut0uP88rFSe5OPy0/HOwTpUZS/DaJP5PIG3tosruD3TNNjGyp401+FESSHyfjqmakfXMtxuVUor2AW5ixhUcetkOdLdW+7fhFdHFR2yLOLQHSoSjWs18PMWfbx09zOUYOQYWseqlBYiRwyG3GW9isVCe40hCKhPk9Kr8AhE9LJk7D1QjCMFOdj+fgy0d2pQWZQvgp8AeCnJbdI6esJPeW4mt9BQzWRUioJcMRjqJ9rtOCDxGHab4b3ppvyYIfULY96Hi/K5a+UQ/euZy/VHz/wmTd8YdZfr9Lll+frRaS/pe6wItjp//vl/65/W/1xZKn7lOHSiZ19dfX3K6Mw6hbBG6oOigfk0A6tJYcu2tlypP4v6eqLV8XW3Y93MNbSup3foXwt+Rb+nMR2Z1jaQ1rYgbZ8G0mVj21vg62feuUhzs3Uc2DhmGjpepXOjsUm2Y74tiae5rZbtkKo+108SfZCEpVj2bluwUukXZZ7+S6Ubk0s5+jdFz7V3vZ5l1lPtJf2Xr4t+aUz6SynTb1T6pAn7WF9stg+K/xYulhOu33hUjNSf0m+dIH5j0o+N7FLWPNHr7uP6jSVipDVNSe/JNEPfLJM+N+vB93KJYV3umqfuY6Yp66jXH09RjTdfj5KP9WHS36zvH4kqrf8T/chYw0tmnr1vJFY9+iZuNntDtoK/KDL5x614aMMzeDBxFGIzl2FP6T5U1PwuVRWpXbqsQ0nVMfz94DaMz5iLe9eOwNPp0/Ft+b+laitreN82qWHLcfethtamDsNF9OzrUt8dskvDlS5yHxQNzKcZWE0KW7a15Ur9WdTX1oS/h6cp72myta5Sj60VyEvegNwhWjzcmGKVGxtIa1uQtk8D6bKx7S3w9bv6lx7Vz9ZxYOOYaeh4lc6NxibZjvm2JJ7mtlq2Q+o0BM89L5dX5C2aiWX7RDNb/t6fzPl4eYXchsbrhccRpFRraAIxeqq3NKhLfRGTNxahWqr6rUbhRvY9VS718JkabvwNPPHE+JFyyUj+fExekI1KUQVeyZYzeb78JKNm5AQ8YXi/sTsCgkUda/Z8zFGWw1QXpSNuYYrctsU/HCFycoDybXg5qDfuH7sehUozz6ak1yMQyqLVjX11FUX4dO5UxEnJ9caL4eo+ZpqyjmzbPjoBWulppnzETZqPLKUGuiJb+p7Hh11HIvpRO0uq2kCrvTTSHrw/l5d2voV/V/wsxrQsXqX13P1PIGbgxFZ9BQFpI/tXIXR2Bly6hWPJmolt2siRECLU5iNeOxqJtppEeo/H5owY087ymvKbK+X4dNIwxGRaVu9IXIORsCsRT6uv1438TV5CLzz1kTwcsiwHSU+KqqKmpLc8HVHDYpFl9bkXDUIW70LSKLPgoinryJR9Fo3Br2YbGh2bsrEsRQVLZxBLJxsMWczWeZRZ9VgraPMSGbXuN9+GLWPWYumQGJulM82FP5n0z8h1mB8ynYKY/xV9pyEz6wvs3EhBDCEOw9UfsRm78O4LwXBXX8hd3RHywnLsNb/Ac+I3CRH+Zn2fuCEggj/9ZOU37Tzx9AdZSJ1hthx2oXYPnYHULMsLfGN/4zdovPwodach0AaqLuhNSa9o7Dsr1F0uZRE0HsGYlZxlPbBoyjoyXqMS8U3qDPF+KyNpWak2luVAHKpERo0/fv3xTxl4/4e/4+ylep5tayRefRT70GQM6NbXaiNjQgghbeSKDtXVcrmAxs0NGnuq4XTVqFZKLVzd4GZ6LbZOtRy2ILiZBxE26M7IncLVmzaWHt119f+90elVftNOAze7fsBc5TqyH8Gtk53LamMOG8goeOd43xzfj6T8z/Bd+Y8wf42APTrd4Cb1Jvx/D4TB55buUrscQgghhDg/hw9k1HhQU1J1DHt//RcOnCjE4dNHpMa9VRfljkN4Ccut7TvD9bobcL/HPQjy8sdDPfrBo8OtFLwQQgghf0JOFcgQQgghhKhRIxFCCCGEOC0KZAghhBDitCiQIYQQQojTokCGEEIIIU6LAhlit6otLxneQkwIIYQ4Agpk/kcUvCve+qv+vCu/e4MQQghxVvT4taM6vhMr3liFLcf56/hd0Dt0ImJe1qJ7o7vWz8eakNnYpF2Cb14WbyETeHAzOUOL97OmobcYZ7B/FQbOzhBf6jdmyReY2ld8aVAVvoqJxOvf+WDOJysxwkOMtuJYciQiN5iXAPma/a4Gx7asRMK6L1FwkX29sRvCps3DjOHd5D9bc3EfVjw6D1vEVwPDNhLbTB5rxsb2IoQQ0iYokHFEVV/irWeW4uSIOLw51g83XTyO7LXzsOJsBFJWaNG1EW/PlYIVWAYxiob+3tzqsuMxfNE+NuCDGQ0EMjxtyzsswcrwXmKMjL81W3mDcFXGSwhP7YwZ8yZhSM/OqDmSjoQZqeg6Nw0zgm1EfRUZePWZfDz2ySvoo35zNH+btPhed64GPIRUO5+9CKM3dEPS1okwTREhhJC2QlVLDujY9iTsvW8alkzrj64d2cXVwxcj4ubh+eMfYlOO+eW1PhU4WgyMGWA7SOk9QAsUH0eV+G6Bl8yYV0mJz5r9Yhp71XyHxHf/jTFTItBHjLJNTvut7t3RgW8D1UcJYvg0OXuK0Dt8Ekb4esDlRhd09o3A1IjO2LLv3xaBiEH5ceS63IJbPEznqwQxnIt6PP90qEJuxnd4eGI4BTGEEOJAKJBxQOerKtC7jx9MyhPa+SIguA65RSVihD080INddTfts90WpmBfBtCrGzqL72q8ce/A2cD7WV/gG4vPEmD2oEY0/q1DwYZlyA2ei+f7WykpqdiJt56JQnK+En5Uoeo3oPvtLGVX6lDDq40sdMBNN4lBlbqaGhaItIeL/A0FH0YhKmanIVirYdsXPt1wGxvm09ZdkcfXp+6bFKypCsfzQ6xtKUIIIW2FAhkHpLmxAwpYwGJSonClBAX7gZMXxdtM7dT75SUYkzHbasNeQxuZ1qhWKtqAhMz+mDnBXwQYZs5V4SgLMM4rAcuV8zh/jm2H5CgMH/Qohj86CKHPzMP2X2rEBFwHBD4djvMb5iEx5zhqzlXg2M54zM/ohhlhyjrV4XwFG3+6RrzRlQWK506zaGYnEp54FKEjn0Aom//0td+hylZAc+U4tid/iUBeGtOIaj1CCCEtj9rIOKIjqZgclYEery7FjCHd2IW/CgXrYjF7C7tYD1/YpPYsctAiviisNAC2UE+jX7sb+V4pQvIzr+D0FNFuRWqjkomH6msjc/E4vkrNxPkHQjHEn22DuuPIWxeP2dtvwZufLMTDSsHIlQrkrp2HhC0losSlMwIjZiFmXH90thF01OxPxSe/dMWQ4QPQvSNQ9ctOJM5bhYOhK5Ey0VdMZVSz5zVo13bDB5snUiBDCCEOhgIZB1X13YeYPz8deVIJhQt6DY/FzJ5pmPzbuKtqmMurixIQi8Vh9bSybWbHkqMQVRSJjIRH5OoyewIZq45jS1QUvh2RItJfgb0vRWFj11ewZNYj6MqLes6VYMsbL2HLHQuRxLaT1dIfK+q+icfwBTfhvR3T0FsdrEhB2Es4PC4NC4ZTtRIhhDgaqlpyUJ37T8R723Zg59at2Ll7B5JeHYC6I0UI7NldTNFypLYxVhr31vex2VaGBS1rNlRhyAPtcTjnO+Txz/4S/I4qHNvPhktsNjO2ohvuvA/IPX5S/lrxHfYe9MPzE0UQw3X0QdiMCLhkfIbcc2KcHVx6+aFPXTGOVooRQk1mKjbWUdsYQghxVBTIOKCTGa8hatk+1LVzkZ+Y4Rfpmn34KrMbHvRv+Qtq57CVVhr3foGMab4InJZi9W82S3gqq/D77R3wy/ZVWL1WfFK/wTEWyOxJZcPZNgKggxsQFfkhCkzarVTh5G9AYLeu4jvnonqKSXBxwU04jzqrjy1V4av5kXhru9lyKytw1KUXeriL79yVImxZl4+Hp1DbGEIIcVQUyDigrv4PQLN9JdZkVshP1PDqkvnxyA2diBGin7e6olS8PikeX9mIA2yVqmhXFSF3VaTVv7XI6wfuHYeklBTTz4px6AMfRK9gwxNEm5SKL7Fi0mxsKhLRh88D6FOTgTUskKjh2+BKFYqT5yHhp/54LFgETe7+eLDnd0hcthPHlEbCVSz4eGcDCvo/gUApKKljv5uN6Qu+NLShuffeztib/AH2HpGXVfcbW/bb6XAJCzWpVpJKY6DFM6FUGkMIIY6K2sg4qJr8DXjttVRjG5ngV7Dw9UcMneHVZM6DdkERoj9Iw5i75HEtrdna11hrI/PLBkROSse9r6dhTqh4PJsHGLFLRe/GbCt4DMCMea9gxF2qx7fP5WPTG/OReFDpwM68F+QafPXmaLx+KBwpaeMgV8zVoHhDLF7ZVIQq6UcuCAiPQ9xEVQNh0UD56IQUvEnVSoQQ4rAokHFwUg+zN4rqpTbWFg2FJRdrWOjBtoG6F15zvK+ZmjqTXn8b1JTfEEIIcSgUyBBCCCHEaVEbGUIIIYQ4LQpkCCGEEOK0KJAhhBBCiNOiQIYQQgghTosCGUIIIYQ4LQpkCCGEEOK0KJAhhBBCiNOiQIYQQgghTosCGUIIIYQ4LQpkCCGEEOK0KJAhhBBCiNOiQIYQQgghTosCGUIIIYQ4LQpkCCGEEOK0KJAhhBBCiNOiQIYQQgghTosCGUIIIYQ4LQpkCCGEEOK0KJAhhBBCiNOiQIYQQgghTosCGUIIIYQ4LQpkCCGEEOK0KJAhhBBCiNOiQIYQQgghTosCGUIIIYQ4LQpkCCGEEOK0KJAhhBBCiNOiQIYQQgghTosCGUIIIYQ4LQpkCCGEEOK0KJAhhBBCiNOiQIYQQgghTosCGUIIIYQ4LQpkCCGEEOK0KJAhhBBCiNO6Rs+IYYdwvuYCzp6rxvnzF3Dh4kXodDpc/uMy/utYySSEEIdz7TXX4Lrrr4NGo0H7G2/ETTe1x80d3XBTh/ZiCkL+fBwikKllAcvJikqcqjyNa6+9Bjff3BFu7ARs7+qKG9gJyU9MfoISQgixjd/w8Ru/S+wG8EJtLarZDeHZs+fw3//q0cX9FnT1cIcrC3AI+TNp00Cm5kItjpedwOmqM+wE64K/dLmV7hwIIaSZ8ZLu/5z6nd0wnsItnTuhm9dt6NDeVfyVEOfWZoFM6ZHjKD9RgR7dboeX521U4kIIIS2Ml9iUlZ/A0eO/wfM2D3j37Cb+QojzavVAht8ZHCr+Fe1db4RPz+5wcble/IUQQkhrqKv7AyVHjuFC7UXc3esOKgknTq1VA5lTv59G0c/FuNOnJ27r+hcxlhBCSFs4cfI/OFxyBL739EKXW28RYwlxLq0WyJz8TyVKSo+it++d6HRzRzGWEEJIWzpz9hwKig7Dx7sHuv7FXYwlxHm0Sj8yvCSGBzH333sPBTGEEOJAeJ7M82aeR/O8mhBn0+KBDG8Tw6uTeEmM200dxFhCCCGOgufNPI/meTXPswlxJi0eyPCGvbxNDJXEEEKI4+J5NM+reZ5NiDNp0UCGP2LNn06ihr2EEOL4eF7N82yedxPiLFoskOGd3fF+Yvgj1oQQQpwDz7N53s3zcEKcQYsFMrzHXt7ZHfUTQwghzoPn2Tzv5nk4Ic6gRQIZ/u4k/toB3mMvIYQQ58Lzbp6H87ycEEfXIoEMfwEkf3dSq792oHIPYrRajNCuR54YRQghpHF43s3zcJ6XE+LoWiSQ4W+x5i+AbHVXzuHUwSIUHmytky8f8Xf0Qk/2ifrMGU/4Snwa5axpv1ryuvN91zMhX4xrHZWfRcvLvSOh2QLuvASxLlHpbM2cQEU6osS5E79fjHMoto8Paf+pt7PDr0vT8Dyc5+WEOLpmD2R4HwTXXnsNvbvD4fEgLAgx2eIrIaRBPGDs9+r/xknD83Cel1O/MsTRNXsgc/ZcNW6mPmMIIU7NHU8nFePIr+wT4y/G2eARjiQ+HfvE9hXj/iR4Xs7zdEIcWfOXyJy/ALeb/odLY2wWMxuroZSiatMqBtXf2Uep7jFOwz/R+LRCGs2YVmsZqhYsprNifwKbZjQSxdesV4Ok35mkV5qmEfOst5rN1t9UxffKx6wY31aViXG7KOlSLyNfNd+G0m3JdFtaWx9GtZ8NH2vVOmbTWZ2Xwnyb21xndryopzWvGrNzmebraataymI69lEfK+p9lKc6Xo3LNdvPNpZjweRcMj9WbFTLWdkvltU9Vo47i+PEvGpJPr6e+kj+K7Jj0U/5m0k6xd8VdqTH5Bg3n95837YynpfzPJ0QR9bsgcyFixfR3tVVfCP2WY+nVIEFx4OLqKhos2LsbMQEWWbgfFpDBivh01nLwO0jZayj14tvCnmeti/E/oheHCwNZe3INr1Q7d8t1i0YQweIl9JJGbaVqq2PRrMM/OrajmS9Oto43+AheMRDDDdIvniZbksR6KkvKDztQbHIEl8N+MVNfZHmwYbZdHxe1qompCDFfJtLF0tr24IdL6ppowepSgz4b6ws0/SCaHZRVkjLM72g82PBYjomcbSV44v9/inDuin7mi/LbD9bSWNDEkebHyv8nDFNq7QNrcyXp9W4/nwfW6tS5cd344Pe+tiXHhVr24WfD20YzPC8nOfphDiyZg9kdDodbtBoxLeWU5a5DYWN6a+pPBsZB3XiiwN6IU0uxs6JR4gYlZWdjeg0ucj6exEkAKUotpLZKtMd+TUN0WJc4lobd759Y0ymC1mcI/1WKhZnF1/lwqWM55/NL8jjsl6NtZnZuw8YIqc9ew++VF8MvxAXXUNQwS4msUqGPR6bxTKM684uUleVeQcjIUfMMykc9r7Pt/KzWHGBU/0+bbz0N3y01rDeeX8TaVf2GfsY9o9h3dk6rlWCDdU6KvNTY4HRHBEAGLe5sn/WY7W14FG1bIvqDNXflP3GL4hK4JGXoATNqvU0LI9d0GPFccPStVo6FqxNx46vLyz3kTH9iXia7evKz9YaAnRrx6j9VGkwHCcsrX8TaVBtQ6v7RVn/imzsFpNZpkc1Pwv+iGXTGrZncDy+57+1Ve1kb3rMWO5/5qPdVxXYXw2el/M8nRBH1uyBzOU/LuO6668T31qCDmWbojE4eiZGaNndqj3BTPk2TNZG42WtFvG5jljfyzLp/xMZoge7k1ViFpZZRouLlCFIYJltabk0YMQySuPFjGW4ysXSLKCwhzHoiMc7o4whQECMMbPfvc9qeKRKu3qafOxSAqNHg+WgwuRiEoMAeVBqa/COIaO/isz7hSnSRbRxKvHlDuXCo/p93/FIMFungBhxAZQuYnLphkUpi2odQxaPN64jCyINF0Ohct8eQ1D3omGb11PCpT5eLLCgSXVxNe43oOQon4tqfyyOV20nK8eNoe2HEpTwaiPTkkNT6vRzqm2qOpZNlmUnk7RaOU7U21C9/u6j4sX+swy8EkcrJTBykGLcp1evKemxtf/bEs/LeZ5OiCNr9kDmv3p9C/cfo4HX41Mw1psNlrI794aCGSmImYldZ9gvQ8fjuX5u4g+OxBu9rF147/SxqzQhxMdTDAme3raDnnpVoviwGLRYtie8Rb6aVWJrpu54hAUrnOHia6hWUmXS5aUikw+Gt1nS3XvwHctZL3myh8X2sEs5SpVYRKreEm0UVNUixvU2tsep/8Iu8+lhuiW9fEwvUGUlyoJ5dYkyX1VwlF2KMnlIsHG8cMHe8BKDMrP9VlGCEvmrRbqsHTfGdjl2PK1jsWwV8+PJsCz7mKfV/DgxbEOLNLij151i8HAJKlkQ9KIhkJSrS6X1a+bqG7vTIwYl9W2/NsLzcp6nE+LImj2QaZUD35XdQWWwO82GghmTICYeez8Ih1c78bdGMmmQJ8YRS+bVS4YSnheGGkslnBpvY6EKXkS1gbHq709kf4IqeFGqdlRVHk5KLlHLMZSMSETwWm9j7P9BLX9jSsjVa/ZAptWKIq0FM6pao0vl6Yga1jxBDGe4i1ZX1xhKG9qWRQlJPSUe9avnblFVYlFviYfhjpe3N0gwVGOYNEitp8So8mipGKqn1KFFGEsu1G0aTD5SFYFxO0htLOyoipCrdIyMJTAyYwmNqi2NyUdV/dYQi9Ibs/3m4QMf+atFusyPG8O+kNqDyNVLTWZ+PBmWZR/ztJofJ8bz03z9bZUyqh6vZh9jG7Dm6RW88elxTC3fVICQq9fsgYxGo8Gl1mocZh7MhM1HjvSHFBbExCKrtnmCGM5YlK0qjjY8OaJ6Gkd1oVA3tjU2sGwBJg0H8xGvpKtRT+zIAgYp7SRiMUd1d6puIGpYVxsM8/hovfjNeAxTN0hVtQNKHK16KsekgaRcgmO8IMQiUVlH9XTNxlgtpm7Yy5dl69FaYxuHfCSap0e1jiYNpFWNqRXG9k/qhr3yE1SNr/Zg54Fqesv95o9hhou2uuF2PceNKnhXN95tmGqbmhxPqmXZySStVo4T9TZUr7+xAbcIplWPrav3pzGYbHqVpprd6XFwPC/neTohjqzZA5n2N96IC7WNeZzoKqmDmVod5BCK/duMQYzE0OjTCpPGpao7e/44pcg0rT3C2pykRzqlZRkDpugp9T2xo2o7wR/PVTJ2VWNUZbw6/dFpdtyZ9x1qWv1gUa3E7objVU8oiWUYHlXlJQCipMMYQKrWsZGP7trLfdQUQ4NmQ7CqSpPcWNUYCBjb0lgLUtk6TlEatFoLflVU7TaM21xpm1Nfw14bVG18DMed6hhVN9w2pMuwDuOxWTzppW5grkzXYDsZM8Ztql43a9urIVb2iXrbmDQANq6/kl7+NJDUIF51HhvPGdV6NdBQXB1YG/qRscbe9Dg4npfzPJ0QR9bsgcxNN7VHdWt3oKQOZoRmDWIkvCjarF6dkR6XNKlesDYdb1+gXDyaH0+DaRsNuT1D/Rml+kIrU4rvpTYEFk+V2DNPhepiz1i982QZfZJ5OwWOV+uoH5nmj4qbp4VN0zJtUthxpKpmMDBLU0CMWbqlqhdjcGB4YounXfU4vcRG2q1vc17V1MgqHZ4Ws2VaHqM21lNaD9OnyJLM0sSr04yPENvzZBlflvl+Zutlvl0awJdrml7LbeM+KtFyezP8t0mGp4H4+Wm9TZPldrKkDswkFlWwRvalx7HxvJzn6YQ4smv0jBhuFvy9HEWHitG/7wNiTCuqzUe8djSSezR3EOOI+JMz8p0tz4AdLWM0dqTGLziNaONBiIJX64nSF37xd4YSjD+b7/b/G75396J35xGH1vwlMuyA/+9/9W3zojFeMrOrAD/+6YMYB8cuQHJHasyf5mklQv638Dyc5+UUxBBH1+yBDNfF/Rb859Tv4lsra6eBhoKYtqE0jLXWhoEQ4lR4Hs7zckIcXYsEMl093HGy4hR1pPQ/zq6GwYQQh8Pzbp6H87ycEEfX7G1kFEWHStC+/Y3o7nW7GEMIIcQZHCv7DRcuXITv3UpnEoQ4rhYpkeG6ed2Go8d/Q13dH2IMIYQQR8fzbJ538zycEGfQYoFMh/au8LzNAyVHjokxhBBCHB3Ps3nezfNwQpxBiwUynHfPbrhQexEnTv5HjCGEEOKoeF7N82yedxPiLFo0kOHu7nUHDpccwZmz58QYQgghjobn0Tyv5nk2Ic6kxQMZ3geB7z29UFB0GNXna8RYQgghjoLnzTyP5nk19RtDnE2LBzJcl1tvgY93D/x48GcqmSGEEAfC82SeN/M8mufVhDibFnv82ppTv59G0c/FuNOnJ27r+hcxlhBCSFvgbWJ4dRIviaEghjirVg1kON7t9aHiX9He9Ub49OwOF5frxV8IIYS0Bv6INX86iTfs5W1iqDqJOLNWD2QUpUeOo/xEBXp0ux1enrfh2muuEX8hhBDSEniPvWXlJ6R+Yvgj1vR0EvkzaLNAhqu5UIvjZSdwuuoMunp0wV+63Ep3BoQQ0sx4STh/dxJ/7cAtnTtJnd1RPzHkz6JNAxlF7cWL7ASrxKnK07j22mtw880d4XZTe7R3dcUNGg2uu/46KrEhhJAG8BKXy39cxiWdDhdqa1F9/gLOnj0nvcWavwCSvzvJ9cYbxdSE/Dk4RCCjxu8czp6rxnl2Al5gAY6OnZD8xKQXUBJCSP34DR+/8dOwG8D2LGC5id0Q3tzRjUq6yZ+awwUyhBBCCCH2apV+ZAghhBBCWgIFMoQQQghxWhTIEEIIIcRpUSBDCCGEEKdFgQwhhBBCnBYFMoQQQghxWhTIEEIIIcRpUSBDCCGEEKdFgQwhhBBCnBYFMoQQQghxWhTIEEIIIcRJAf8fsbDpFkY234cAAAAASUVORK5CYII=)"
      ],
      "metadata": {
        "id": "IsC2VAH_k-8D"
      }
    },
    {
      "cell_type": "code",
      "source": [
        ""
      ],
      "metadata": {
        "id": "bjDnUgq4IpCu"
      },
      "execution_count": null,
      "outputs": []
    }
  ]
}