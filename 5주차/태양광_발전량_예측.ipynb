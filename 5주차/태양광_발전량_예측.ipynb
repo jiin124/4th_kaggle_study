{
  "nbformat": 4,
  "nbformat_minor": 0,
  "metadata": {
    "colab": {
      "name": "태양광 발전량 예측.ipynb",
      "provenance": [],
      "authorship_tag": "ABX9TyOwJCao8GJ3nVKpGmxWVSjH",
      "include_colab_link": true
    },
    "kernelspec": {
      "name": "python3",
      "display_name": "Python 3"
    },
    "language_info": {
      "name": "python"
    }
  },
  "cells": [
    {
      "cell_type": "markdown",
      "metadata": {
        "id": "view-in-github",
        "colab_type": "text"
      },
      "source": [
        "<a href=\"https://colab.research.google.com/github/jiin124/4th_kaggle_study/blob/main/5%EC%A3%BC%EC%B0%A8/%ED%83%9C%EC%96%91%EA%B4%91_%EB%B0%9C%EC%A0%84%EB%9F%89_%EC%98%88%EC%B8%A1.ipynb\" target=\"_parent\"><img src=\"https://colab.research.google.com/assets/colab-badge.svg\" alt=\"Open In Colab\"/></a>"
      ]
    },
    {
      "cell_type": "code",
      "execution_count": null,
      "metadata": {
        "id": "qP4E80wplngW"
      },
      "outputs": [],
      "source": [
        "import pandas as pd\n",
        "import numpy as np\n",
        "import matplotlib.pyplot as plt\n",
        "import seaborn as sns\n",
        "import os\n",
        "plt.style.use('ggplot')"
      ]
    },
    {
      "cell_type": "code",
      "source": [
        "os.environ['KAGGLE_USERNAME']='jiinpp'\n",
        "os.environ['KAGGLE_KEY']=\"b06d525a9f66198051ccb648b091778a\""
      ],
      "metadata": {
        "id": "MzwGP5Okmldo"
      },
      "execution_count": null,
      "outputs": []
    },
    {
      "cell_type": "code",
      "source": [
        "!kaggle competitions download -c 2021mlfinalexamp1"
      ],
      "metadata": {
        "colab": {
          "base_uri": "https://localhost:8080/"
        },
        "id": "yZeAdboFlwNO",
        "outputId": "8e559653-4d99-4fea-8db9-37a2131e490b"
      },
      "execution_count": null,
      "outputs": [
        {
          "output_type": "stream",
          "name": "stdout",
          "text": [
            "Warning: Looks like you're using an outdated API Version, please consider updating (server 1.5.12 / client 1.5.4)\n",
            "Downloading train.csv to /content\n",
            "  0% 0.00/314k [00:00<?, ?B/s]\n",
            "100% 314k/314k [00:00<00:00, 9.69MB/s]\n",
            "Downloading sample_submit.csv to /content\n",
            "  0% 0.00/6.74k [00:00<?, ?B/s]\n",
            "100% 6.74k/6.74k [00:00<00:00, 6.82MB/s]\n",
            "Downloading test.csv to /content\n",
            "  0% 0.00/27.1k [00:00<?, ?B/s]\n",
            "100% 27.1k/27.1k [00:00<00:00, 37.0MB/s]\n"
          ]
        }
      ]
    },
    {
      "cell_type": "code",
      "source": [
        "train=pd.read_csv(\"train.csv\")\n",
        "sample=pd.read_csv('sample_submit.csv')"
      ],
      "metadata": {
        "id": "vCiNGl0TnmzU"
      },
      "execution_count": null,
      "outputs": []
    },
    {
      "cell_type": "code",
      "source": [
        "test=pd.read_csv(\"test.csv\")"
      ],
      "metadata": {
        "id": "6Liq4Xxb-DoW"
      },
      "execution_count": null,
      "outputs": []
    },
    {
      "cell_type": "code",
      "source": [
        "train.head()"
      ],
      "metadata": {
        "colab": {
          "base_uri": "https://localhost:8080/",
          "height": 206
        },
        "id": "6BUWK5gppVJL",
        "outputId": "2857de72-d5a6-4e0b-93a3-2b423bc733be"
      },
      "execution_count": null,
      "outputs": [
        {
          "output_type": "execute_result",
          "data": {
            "text/html": [
              "\n",
              "  <div id=\"df-85c229ba-5ca5-44d9-8324-b30155d74d78\">\n",
              "    <div class=\"colab-df-container\">\n",
              "      <div>\n",
              "<style scoped>\n",
              "    .dataframe tbody tr th:only-of-type {\n",
              "        vertical-align: middle;\n",
              "    }\n",
              "\n",
              "    .dataframe tbody tr th {\n",
              "        vertical-align: top;\n",
              "    }\n",
              "\n",
              "    .dataframe thead th {\n",
              "        text-align: right;\n",
              "    }\n",
              "</style>\n",
              "<table border=\"1\" class=\"dataframe\">\n",
              "  <thead>\n",
              "    <tr style=\"text-align: right;\">\n",
              "      <th></th>\n",
              "      <th>Unnamed: 0</th>\n",
              "      <th>Hour</th>\n",
              "      <th>Minute</th>\n",
              "      <th>DHI</th>\n",
              "      <th>DNI</th>\n",
              "      <th>WS</th>\n",
              "      <th>RH</th>\n",
              "      <th>T</th>\n",
              "      <th>TARGET</th>\n",
              "    </tr>\n",
              "  </thead>\n",
              "  <tbody>\n",
              "    <tr>\n",
              "      <th>0</th>\n",
              "      <td>0</td>\n",
              "      <td>0</td>\n",
              "      <td>0</td>\n",
              "      <td>0</td>\n",
              "      <td>0</td>\n",
              "      <td>1.4</td>\n",
              "      <td>57.76</td>\n",
              "      <td>0</td>\n",
              "      <td>0.000000</td>\n",
              "    </tr>\n",
              "    <tr>\n",
              "      <th>1</th>\n",
              "      <td>1</td>\n",
              "      <td>15</td>\n",
              "      <td>0</td>\n",
              "      <td>222</td>\n",
              "      <td>18</td>\n",
              "      <td>1.3</td>\n",
              "      <td>26.82</td>\n",
              "      <td>13</td>\n",
              "      <td>21.957266</td>\n",
              "    </tr>\n",
              "    <tr>\n",
              "      <th>2</th>\n",
              "      <td>2</td>\n",
              "      <td>4</td>\n",
              "      <td>0</td>\n",
              "      <td>0</td>\n",
              "      <td>0</td>\n",
              "      <td>2.6</td>\n",
              "      <td>84.94</td>\n",
              "      <td>-6</td>\n",
              "      <td>0.000000</td>\n",
              "    </tr>\n",
              "    <tr>\n",
              "      <th>3</th>\n",
              "      <td>3</td>\n",
              "      <td>18</td>\n",
              "      <td>30</td>\n",
              "      <td>0</td>\n",
              "      <td>0</td>\n",
              "      <td>1.5</td>\n",
              "      <td>89.18</td>\n",
              "      <td>2</td>\n",
              "      <td>0.000000</td>\n",
              "    </tr>\n",
              "    <tr>\n",
              "      <th>4</th>\n",
              "      <td>4</td>\n",
              "      <td>1</td>\n",
              "      <td>30</td>\n",
              "      <td>0</td>\n",
              "      <td>0</td>\n",
              "      <td>2.4</td>\n",
              "      <td>84.35</td>\n",
              "      <td>12</td>\n",
              "      <td>0.000000</td>\n",
              "    </tr>\n",
              "  </tbody>\n",
              "</table>\n",
              "</div>\n",
              "      <button class=\"colab-df-convert\" onclick=\"convertToInteractive('df-85c229ba-5ca5-44d9-8324-b30155d74d78')\"\n",
              "              title=\"Convert this dataframe to an interactive table.\"\n",
              "              style=\"display:none;\">\n",
              "        \n",
              "  <svg xmlns=\"http://www.w3.org/2000/svg\" height=\"24px\"viewBox=\"0 0 24 24\"\n",
              "       width=\"24px\">\n",
              "    <path d=\"M0 0h24v24H0V0z\" fill=\"none\"/>\n",
              "    <path d=\"M18.56 5.44l.94 2.06.94-2.06 2.06-.94-2.06-.94-.94-2.06-.94 2.06-2.06.94zm-11 1L8.5 8.5l.94-2.06 2.06-.94-2.06-.94L8.5 2.5l-.94 2.06-2.06.94zm10 10l.94 2.06.94-2.06 2.06-.94-2.06-.94-.94-2.06-.94 2.06-2.06.94z\"/><path d=\"M17.41 7.96l-1.37-1.37c-.4-.4-.92-.59-1.43-.59-.52 0-1.04.2-1.43.59L10.3 9.45l-7.72 7.72c-.78.78-.78 2.05 0 2.83L4 21.41c.39.39.9.59 1.41.59.51 0 1.02-.2 1.41-.59l7.78-7.78 2.81-2.81c.8-.78.8-2.07 0-2.86zM5.41 20L4 18.59l7.72-7.72 1.47 1.35L5.41 20z\"/>\n",
              "  </svg>\n",
              "      </button>\n",
              "      \n",
              "  <style>\n",
              "    .colab-df-container {\n",
              "      display:flex;\n",
              "      flex-wrap:wrap;\n",
              "      gap: 12px;\n",
              "    }\n",
              "\n",
              "    .colab-df-convert {\n",
              "      background-color: #E8F0FE;\n",
              "      border: none;\n",
              "      border-radius: 50%;\n",
              "      cursor: pointer;\n",
              "      display: none;\n",
              "      fill: #1967D2;\n",
              "      height: 32px;\n",
              "      padding: 0 0 0 0;\n",
              "      width: 32px;\n",
              "    }\n",
              "\n",
              "    .colab-df-convert:hover {\n",
              "      background-color: #E2EBFA;\n",
              "      box-shadow: 0px 1px 2px rgba(60, 64, 67, 0.3), 0px 1px 3px 1px rgba(60, 64, 67, 0.15);\n",
              "      fill: #174EA6;\n",
              "    }\n",
              "\n",
              "    [theme=dark] .colab-df-convert {\n",
              "      background-color: #3B4455;\n",
              "      fill: #D2E3FC;\n",
              "    }\n",
              "\n",
              "    [theme=dark] .colab-df-convert:hover {\n",
              "      background-color: #434B5C;\n",
              "      box-shadow: 0px 1px 3px 1px rgba(0, 0, 0, 0.15);\n",
              "      filter: drop-shadow(0px 1px 2px rgba(0, 0, 0, 0.3));\n",
              "      fill: #FFFFFF;\n",
              "    }\n",
              "  </style>\n",
              "\n",
              "      <script>\n",
              "        const buttonEl =\n",
              "          document.querySelector('#df-85c229ba-5ca5-44d9-8324-b30155d74d78 button.colab-df-convert');\n",
              "        buttonEl.style.display =\n",
              "          google.colab.kernel.accessAllowed ? 'block' : 'none';\n",
              "\n",
              "        async function convertToInteractive(key) {\n",
              "          const element = document.querySelector('#df-85c229ba-5ca5-44d9-8324-b30155d74d78');\n",
              "          const dataTable =\n",
              "            await google.colab.kernel.invokeFunction('convertToInteractive',\n",
              "                                                     [key], {});\n",
              "          if (!dataTable) return;\n",
              "\n",
              "          const docLinkHtml = 'Like what you see? Visit the ' +\n",
              "            '<a target=\"_blank\" href=https://colab.research.google.com/notebooks/data_table.ipynb>data table notebook</a>'\n",
              "            + ' to learn more about interactive tables.';\n",
              "          element.innerHTML = '';\n",
              "          dataTable['output_type'] = 'display_data';\n",
              "          await google.colab.output.renderOutput(dataTable, element);\n",
              "          const docLink = document.createElement('div');\n",
              "          docLink.innerHTML = docLinkHtml;\n",
              "          element.appendChild(docLink);\n",
              "        }\n",
              "      </script>\n",
              "    </div>\n",
              "  </div>\n",
              "  "
            ],
            "text/plain": [
              "   Unnamed: 0  Hour Minute  DHI DNI   WS     RH   T     TARGET\n",
              "0           0     0      0    0   0  1.4  57.76   0   0.000000\n",
              "1           1    15      0  222  18  1.3  26.82  13  21.957266\n",
              "2           2     4      0    0   0  2.6  84.94  -6   0.000000\n",
              "3           3    18     30    0   0  1.5  89.18   2   0.000000\n",
              "4           4     1     30    0   0  2.4  84.35  12   0.000000"
            ]
          },
          "metadata": {},
          "execution_count": 6
        }
      ]
    },
    {
      "cell_type": "code",
      "source": [
        "test.head()"
      ],
      "metadata": {
        "colab": {
          "base_uri": "https://localhost:8080/",
          "height": 206
        },
        "id": "tTxg5Q4hpV4r",
        "outputId": "dcc73466-7d72-45e6-b6a9-18ef711b9ece"
      },
      "execution_count": null,
      "outputs": [
        {
          "output_type": "execute_result",
          "data": {
            "text/html": [
              "\n",
              "  <div id=\"df-22f364e8-14b8-44e8-a78c-f57b9e691c05\">\n",
              "    <div class=\"colab-df-container\">\n",
              "      <div>\n",
              "<style scoped>\n",
              "    .dataframe tbody tr th:only-of-type {\n",
              "        vertical-align: middle;\n",
              "    }\n",
              "\n",
              "    .dataframe tbody tr th {\n",
              "        vertical-align: top;\n",
              "    }\n",
              "\n",
              "    .dataframe thead th {\n",
              "        text-align: right;\n",
              "    }\n",
              "</style>\n",
              "<table border=\"1\" class=\"dataframe\">\n",
              "  <thead>\n",
              "    <tr style=\"text-align: right;\">\n",
              "      <th></th>\n",
              "      <th>Unnamed: 0</th>\n",
              "      <th>Hour</th>\n",
              "      <th>Minute</th>\n",
              "      <th>DHI</th>\n",
              "      <th>DNI</th>\n",
              "      <th>WS</th>\n",
              "      <th>RH</th>\n",
              "      <th>T</th>\n",
              "    </tr>\n",
              "  </thead>\n",
              "  <tbody>\n",
              "    <tr>\n",
              "      <th>0</th>\n",
              "      <td>0</td>\n",
              "      <td>6</td>\n",
              "      <td>0</td>\n",
              "      <td>54</td>\n",
              "      <td>548</td>\n",
              "      <td>1.2</td>\n",
              "      <td>72.29</td>\n",
              "      <td>0</td>\n",
              "    </tr>\n",
              "    <tr>\n",
              "      <th>1</th>\n",
              "      <td>1</td>\n",
              "      <td>14</td>\n",
              "      <td>0</td>\n",
              "      <td>297</td>\n",
              "      <td>27</td>\n",
              "      <td>8.0</td>\n",
              "      <td>19.07</td>\n",
              "      <td>17</td>\n",
              "    </tr>\n",
              "    <tr>\n",
              "      <th>2</th>\n",
              "      <td>2</td>\n",
              "      <td>1</td>\n",
              "      <td>30</td>\n",
              "      <td>0</td>\n",
              "      <td>0</td>\n",
              "      <td>2.9</td>\n",
              "      <td>66.29</td>\n",
              "      <td>1</td>\n",
              "    </tr>\n",
              "    <tr>\n",
              "      <th>3</th>\n",
              "      <td>3</td>\n",
              "      <td>19</td>\n",
              "      <td>0</td>\n",
              "      <td>0</td>\n",
              "      <td>0</td>\n",
              "      <td>1.8</td>\n",
              "      <td>63.38</td>\n",
              "      <td>2</td>\n",
              "    </tr>\n",
              "    <tr>\n",
              "      <th>4</th>\n",
              "      <td>4</td>\n",
              "      <td>4</td>\n",
              "      <td>30</td>\n",
              "      <td>0</td>\n",
              "      <td>0</td>\n",
              "      <td>1.7</td>\n",
              "      <td>55.61</td>\n",
              "      <td>0</td>\n",
              "    </tr>\n",
              "  </tbody>\n",
              "</table>\n",
              "</div>\n",
              "      <button class=\"colab-df-convert\" onclick=\"convertToInteractive('df-22f364e8-14b8-44e8-a78c-f57b9e691c05')\"\n",
              "              title=\"Convert this dataframe to an interactive table.\"\n",
              "              style=\"display:none;\">\n",
              "        \n",
              "  <svg xmlns=\"http://www.w3.org/2000/svg\" height=\"24px\"viewBox=\"0 0 24 24\"\n",
              "       width=\"24px\">\n",
              "    <path d=\"M0 0h24v24H0V0z\" fill=\"none\"/>\n",
              "    <path d=\"M18.56 5.44l.94 2.06.94-2.06 2.06-.94-2.06-.94-.94-2.06-.94 2.06-2.06.94zm-11 1L8.5 8.5l.94-2.06 2.06-.94-2.06-.94L8.5 2.5l-.94 2.06-2.06.94zm10 10l.94 2.06.94-2.06 2.06-.94-2.06-.94-.94-2.06-.94 2.06-2.06.94z\"/><path d=\"M17.41 7.96l-1.37-1.37c-.4-.4-.92-.59-1.43-.59-.52 0-1.04.2-1.43.59L10.3 9.45l-7.72 7.72c-.78.78-.78 2.05 0 2.83L4 21.41c.39.39.9.59 1.41.59.51 0 1.02-.2 1.41-.59l7.78-7.78 2.81-2.81c.8-.78.8-2.07 0-2.86zM5.41 20L4 18.59l7.72-7.72 1.47 1.35L5.41 20z\"/>\n",
              "  </svg>\n",
              "      </button>\n",
              "      \n",
              "  <style>\n",
              "    .colab-df-container {\n",
              "      display:flex;\n",
              "      flex-wrap:wrap;\n",
              "      gap: 12px;\n",
              "    }\n",
              "\n",
              "    .colab-df-convert {\n",
              "      background-color: #E8F0FE;\n",
              "      border: none;\n",
              "      border-radius: 50%;\n",
              "      cursor: pointer;\n",
              "      display: none;\n",
              "      fill: #1967D2;\n",
              "      height: 32px;\n",
              "      padding: 0 0 0 0;\n",
              "      width: 32px;\n",
              "    }\n",
              "\n",
              "    .colab-df-convert:hover {\n",
              "      background-color: #E2EBFA;\n",
              "      box-shadow: 0px 1px 2px rgba(60, 64, 67, 0.3), 0px 1px 3px 1px rgba(60, 64, 67, 0.15);\n",
              "      fill: #174EA6;\n",
              "    }\n",
              "\n",
              "    [theme=dark] .colab-df-convert {\n",
              "      background-color: #3B4455;\n",
              "      fill: #D2E3FC;\n",
              "    }\n",
              "\n",
              "    [theme=dark] .colab-df-convert:hover {\n",
              "      background-color: #434B5C;\n",
              "      box-shadow: 0px 1px 3px 1px rgba(0, 0, 0, 0.15);\n",
              "      filter: drop-shadow(0px 1px 2px rgba(0, 0, 0, 0.3));\n",
              "      fill: #FFFFFF;\n",
              "    }\n",
              "  </style>\n",
              "\n",
              "      <script>\n",
              "        const buttonEl =\n",
              "          document.querySelector('#df-22f364e8-14b8-44e8-a78c-f57b9e691c05 button.colab-df-convert');\n",
              "        buttonEl.style.display =\n",
              "          google.colab.kernel.accessAllowed ? 'block' : 'none';\n",
              "\n",
              "        async function convertToInteractive(key) {\n",
              "          const element = document.querySelector('#df-22f364e8-14b8-44e8-a78c-f57b9e691c05');\n",
              "          const dataTable =\n",
              "            await google.colab.kernel.invokeFunction('convertToInteractive',\n",
              "                                                     [key], {});\n",
              "          if (!dataTable) return;\n",
              "\n",
              "          const docLinkHtml = 'Like what you see? Visit the ' +\n",
              "            '<a target=\"_blank\" href=https://colab.research.google.com/notebooks/data_table.ipynb>data table notebook</a>'\n",
              "            + ' to learn more about interactive tables.';\n",
              "          element.innerHTML = '';\n",
              "          dataTable['output_type'] = 'display_data';\n",
              "          await google.colab.output.renderOutput(dataTable, element);\n",
              "          const docLink = document.createElement('div');\n",
              "          docLink.innerHTML = docLinkHtml;\n",
              "          element.appendChild(docLink);\n",
              "        }\n",
              "      </script>\n",
              "    </div>\n",
              "  </div>\n",
              "  "
            ],
            "text/plain": [
              "   Unnamed: 0 Hour Minute  DHI  DNI   WS     RH   T\n",
              "0           0    6      0   54  548  1.2  72.29   0\n",
              "1           1   14      0  297   27  8.0  19.07  17\n",
              "2           2    1     30    0    0  2.9  66.29   1\n",
              "3           3   19      0    0    0  1.8  63.38   2\n",
              "4           4    4     30    0    0  1.7  55.61   0"
            ]
          },
          "metadata": {},
          "execution_count": 183
        }
      ]
    },
    {
      "cell_type": "code",
      "source": [
        "sample"
      ],
      "metadata": {
        "colab": {
          "base_uri": "https://localhost:8080/",
          "height": 423
        },
        "id": "KKOWAyKNpYqX",
        "outputId": "5387b00d-37b8-42cb-9857-8c53f27cbd2c"
      },
      "execution_count": null,
      "outputs": [
        {
          "output_type": "execute_result",
          "data": {
            "text/html": [
              "\n",
              "  <div id=\"df-ed23ccf9-6c98-487a-8b71-2be59d73206c\">\n",
              "    <div class=\"colab-df-container\">\n",
              "      <div>\n",
              "<style scoped>\n",
              "    .dataframe tbody tr th:only-of-type {\n",
              "        vertical-align: middle;\n",
              "    }\n",
              "\n",
              "    .dataframe tbody tr th {\n",
              "        vertical-align: top;\n",
              "    }\n",
              "\n",
              "    .dataframe thead th {\n",
              "        text-align: right;\n",
              "    }\n",
              "</style>\n",
              "<table border=\"1\" class=\"dataframe\">\n",
              "  <thead>\n",
              "    <tr style=\"text-align: right;\">\n",
              "      <th></th>\n",
              "      <th>INDEX</th>\n",
              "      <th>TARGET</th>\n",
              "    </tr>\n",
              "  </thead>\n",
              "  <tbody>\n",
              "    <tr>\n",
              "      <th>0</th>\n",
              "      <td>0</td>\n",
              "      <td>0</td>\n",
              "    </tr>\n",
              "    <tr>\n",
              "      <th>1</th>\n",
              "      <td>1</td>\n",
              "      <td>0</td>\n",
              "    </tr>\n",
              "    <tr>\n",
              "      <th>2</th>\n",
              "      <td>2</td>\n",
              "      <td>0</td>\n",
              "    </tr>\n",
              "    <tr>\n",
              "      <th>3</th>\n",
              "      <td>3</td>\n",
              "      <td>0</td>\n",
              "    </tr>\n",
              "    <tr>\n",
              "      <th>4</th>\n",
              "      <td>4</td>\n",
              "      <td>0</td>\n",
              "    </tr>\n",
              "    <tr>\n",
              "      <th>...</th>\n",
              "      <td>...</td>\n",
              "      <td>...</td>\n",
              "    </tr>\n",
              "    <tr>\n",
              "      <th>995</th>\n",
              "      <td>995</td>\n",
              "      <td>0</td>\n",
              "    </tr>\n",
              "    <tr>\n",
              "      <th>996</th>\n",
              "      <td>996</td>\n",
              "      <td>0</td>\n",
              "    </tr>\n",
              "    <tr>\n",
              "      <th>997</th>\n",
              "      <td>997</td>\n",
              "      <td>0</td>\n",
              "    </tr>\n",
              "    <tr>\n",
              "      <th>998</th>\n",
              "      <td>998</td>\n",
              "      <td>0</td>\n",
              "    </tr>\n",
              "    <tr>\n",
              "      <th>999</th>\n",
              "      <td>999</td>\n",
              "      <td>0</td>\n",
              "    </tr>\n",
              "  </tbody>\n",
              "</table>\n",
              "<p>1000 rows × 2 columns</p>\n",
              "</div>\n",
              "      <button class=\"colab-df-convert\" onclick=\"convertToInteractive('df-ed23ccf9-6c98-487a-8b71-2be59d73206c')\"\n",
              "              title=\"Convert this dataframe to an interactive table.\"\n",
              "              style=\"display:none;\">\n",
              "        \n",
              "  <svg xmlns=\"http://www.w3.org/2000/svg\" height=\"24px\"viewBox=\"0 0 24 24\"\n",
              "       width=\"24px\">\n",
              "    <path d=\"M0 0h24v24H0V0z\" fill=\"none\"/>\n",
              "    <path d=\"M18.56 5.44l.94 2.06.94-2.06 2.06-.94-2.06-.94-.94-2.06-.94 2.06-2.06.94zm-11 1L8.5 8.5l.94-2.06 2.06-.94-2.06-.94L8.5 2.5l-.94 2.06-2.06.94zm10 10l.94 2.06.94-2.06 2.06-.94-2.06-.94-.94-2.06-.94 2.06-2.06.94z\"/><path d=\"M17.41 7.96l-1.37-1.37c-.4-.4-.92-.59-1.43-.59-.52 0-1.04.2-1.43.59L10.3 9.45l-7.72 7.72c-.78.78-.78 2.05 0 2.83L4 21.41c.39.39.9.59 1.41.59.51 0 1.02-.2 1.41-.59l7.78-7.78 2.81-2.81c.8-.78.8-2.07 0-2.86zM5.41 20L4 18.59l7.72-7.72 1.47 1.35L5.41 20z\"/>\n",
              "  </svg>\n",
              "      </button>\n",
              "      \n",
              "  <style>\n",
              "    .colab-df-container {\n",
              "      display:flex;\n",
              "      flex-wrap:wrap;\n",
              "      gap: 12px;\n",
              "    }\n",
              "\n",
              "    .colab-df-convert {\n",
              "      background-color: #E8F0FE;\n",
              "      border: none;\n",
              "      border-radius: 50%;\n",
              "      cursor: pointer;\n",
              "      display: none;\n",
              "      fill: #1967D2;\n",
              "      height: 32px;\n",
              "      padding: 0 0 0 0;\n",
              "      width: 32px;\n",
              "    }\n",
              "\n",
              "    .colab-df-convert:hover {\n",
              "      background-color: #E2EBFA;\n",
              "      box-shadow: 0px 1px 2px rgba(60, 64, 67, 0.3), 0px 1px 3px 1px rgba(60, 64, 67, 0.15);\n",
              "      fill: #174EA6;\n",
              "    }\n",
              "\n",
              "    [theme=dark] .colab-df-convert {\n",
              "      background-color: #3B4455;\n",
              "      fill: #D2E3FC;\n",
              "    }\n",
              "\n",
              "    [theme=dark] .colab-df-convert:hover {\n",
              "      background-color: #434B5C;\n",
              "      box-shadow: 0px 1px 3px 1px rgba(0, 0, 0, 0.15);\n",
              "      filter: drop-shadow(0px 1px 2px rgba(0, 0, 0, 0.3));\n",
              "      fill: #FFFFFF;\n",
              "    }\n",
              "  </style>\n",
              "\n",
              "      <script>\n",
              "        const buttonEl =\n",
              "          document.querySelector('#df-ed23ccf9-6c98-487a-8b71-2be59d73206c button.colab-df-convert');\n",
              "        buttonEl.style.display =\n",
              "          google.colab.kernel.accessAllowed ? 'block' : 'none';\n",
              "\n",
              "        async function convertToInteractive(key) {\n",
              "          const element = document.querySelector('#df-ed23ccf9-6c98-487a-8b71-2be59d73206c');\n",
              "          const dataTable =\n",
              "            await google.colab.kernel.invokeFunction('convertToInteractive',\n",
              "                                                     [key], {});\n",
              "          if (!dataTable) return;\n",
              "\n",
              "          const docLinkHtml = 'Like what you see? Visit the ' +\n",
              "            '<a target=\"_blank\" href=https://colab.research.google.com/notebooks/data_table.ipynb>data table notebook</a>'\n",
              "            + ' to learn more about interactive tables.';\n",
              "          element.innerHTML = '';\n",
              "          dataTable['output_type'] = 'display_data';\n",
              "          await google.colab.output.renderOutput(dataTable, element);\n",
              "          const docLink = document.createElement('div');\n",
              "          docLink.innerHTML = docLinkHtml;\n",
              "          element.appendChild(docLink);\n",
              "        }\n",
              "      </script>\n",
              "    </div>\n",
              "  </div>\n",
              "  "
            ],
            "text/plain": [
              "     INDEX  TARGET\n",
              "0        0       0\n",
              "1        1       0\n",
              "2        2       0\n",
              "3        3       0\n",
              "4        4       0\n",
              "..     ...     ...\n",
              "995    995       0\n",
              "996    996       0\n",
              "997    997       0\n",
              "998    998       0\n",
              "999    999       0\n",
              "\n",
              "[1000 rows x 2 columns]"
            ]
          },
          "metadata": {},
          "execution_count": 184
        }
      ]
    },
    {
      "cell_type": "markdown",
      "source": [
        "회귀를 사용할 예정"
      ],
      "metadata": {
        "id": "No6vgDMCyilw"
      }
    },
    {
      "cell_type": "code",
      "source": [
        "train.columns"
      ],
      "metadata": {
        "colab": {
          "base_uri": "https://localhost:8080/"
        },
        "id": "S_MNEOpEqYGQ",
        "outputId": "162e34f9-475d-4af6-d838-ca29ed7802dd"
      },
      "execution_count": null,
      "outputs": [
        {
          "output_type": "execute_result",
          "data": {
            "text/plain": [
              "Index(['Unnamed: 0', 'Hour', 'Minute', 'DHI', 'DNI', 'WS', 'RH', 'T',\n",
              "       'TARGET'],\n",
              "      dtype='object')"
            ]
          },
          "metadata": {},
          "execution_count": 185
        }
      ]
    },
    {
      "cell_type": "code",
      "source": [
        "#unnamed 삭제\n",
        "\n",
        "train=train.drop('Unnamed: 0',axis=1)\n",
        "test=test.drop('Unnamed: 0',axis=1)"
      ],
      "metadata": {
        "id": "ydPFVeqApZ-s"
      },
      "execution_count": null,
      "outputs": []
    },
    {
      "cell_type": "code",
      "source": [
        "train.info()"
      ],
      "metadata": {
        "colab": {
          "base_uri": "https://localhost:8080/"
        },
        "id": "H-v4sxibqgcJ",
        "outputId": "aeb64567-a1a2-4817-9643-8ffb1350096c"
      },
      "execution_count": null,
      "outputs": [
        {
          "output_type": "stream",
          "name": "stdout",
          "text": [
            "<class 'pandas.core.frame.DataFrame'>\n",
            "RangeIndex: 9000 entries, 0 to 8999\n",
            "Data columns (total 8 columns):\n",
            " #   Column  Non-Null Count  Dtype  \n",
            "---  ------  --------------  -----  \n",
            " 0   Hour    9000 non-null   int64  \n",
            " 1   Minute  9000 non-null   object \n",
            " 2   DHI     9000 non-null   object \n",
            " 3   DNI     9000 non-null   object \n",
            " 4   WS      9000 non-null   object \n",
            " 5   RH      8995 non-null   float64\n",
            " 6   T       9000 non-null   int64  \n",
            " 7   TARGET  9000 non-null   float64\n",
            "dtypes: float64(2), int64(2), object(4)\n",
            "memory usage: 562.6+ KB\n"
          ]
        }
      ]
    },
    {
      "cell_type": "markdown",
      "source": [
        "RH에 NULL값이 보인다. 그리고 Minute,DHI,DNI,WS는 왜 object 형식..? "
      ],
      "metadata": {
        "id": "fbNBtamGq2K1"
      }
    },
    {
      "cell_type": "markdown",
      "source": [
        "## EDA"
      ],
      "metadata": {
        "id": "ty_iRYrWrAxC"
      }
    },
    {
      "cell_type": "code",
      "source": [
        "train['Hour'].value_counts()"
      ],
      "metadata": {
        "colab": {
          "base_uri": "https://localhost:8080/"
        },
        "id": "zruKdI31qm22",
        "outputId": "2e425d26-1551-4012-bf4e-e4d3bc62ebc4"
      },
      "execution_count": null,
      "outputs": [
        {
          "output_type": "execute_result",
          "data": {
            "text/plain": [
              "10    381\n",
              "18    380\n",
              "1     380\n",
              "22    380\n",
              "0     378\n",
              "4     378\n",
              "5     378\n",
              "21    377\n",
              "20    377\n",
              "12    377\n",
              "3     377\n",
              "6     376\n",
              "9     376\n",
              "19    376\n",
              "14    376\n",
              "8     375\n",
              "15    374\n",
              "7     374\n",
              "23    373\n",
              "17    373\n",
              "16    368\n",
              "13    368\n",
              "2     364\n",
              "11    364\n",
              "Name: Hour, dtype: int64"
            ]
          },
          "metadata": {},
          "execution_count": 188
        }
      ]
    },
    {
      "cell_type": "code",
      "source": [
        "sns.histplot(data=train,x='Hour')"
      ],
      "metadata": {
        "colab": {
          "base_uri": "https://localhost:8080/",
          "height": 300
        },
        "id": "DPZCV-ydrEjo",
        "outputId": "2ef45c62-10a9-498b-be3d-01ca47ea436e"
      },
      "execution_count": null,
      "outputs": [
        {
          "output_type": "execute_result",
          "data": {
            "text/plain": [
              "<matplotlib.axes._subplots.AxesSubplot at 0x7f4332b16b90>"
            ]
          },
          "metadata": {},
          "execution_count": 189
        },
        {
          "output_type": "display_data",
          "data": {
            "image/png": "[encoded data removed]",
            "text/plain": [
              "<Figure size 432x288 with 1 Axes>"
            ]
          },
          "metadata": {}
        }
      ]
    },
    {
      "cell_type": "code",
      "source": [
        "train['Minute'].value_counts()"
      ],
      "metadata": {
        "colab": {
          "base_uri": "https://localhost:8080/"
        },
        "id": "AqXh_WwYrJHb",
        "outputId": "bd9a0d1f-2dd5-409b-a5d2-b4e1091ec6bb"
      },
      "execution_count": null,
      "outputs": [
        {
          "output_type": "execute_result",
          "data": {
            "text/plain": [
              "0     4505\n",
              "30    4494\n",
              "?        1\n",
              "Name: Minute, dtype: int64"
            ]
          },
          "metadata": {},
          "execution_count": 190
        }
      ]
    },
    {
      "cell_type": "markdown",
      "source": [
        "?값은 뭐임. 0으로 바꿔주겠다. 그리고 object 값이기 때문에 int형으로 바꿔주겠음"
      ],
      "metadata": {
        "id": "81_YrLlrsxwg"
      }
    },
    {
      "cell_type": "code",
      "source": [
        "train.loc[train.Minute=='?','Minute']='30'"
      ],
      "metadata": {
        "id": "A4i4oEGFrNrV"
      },
      "execution_count": null,
      "outputs": []
    },
    {
      "cell_type": "code",
      "source": [
        "train['Minute']=train['Minute'].astype('int')"
      ],
      "metadata": {
        "id": "kDF-Iugzt7Yh"
      },
      "execution_count": null,
      "outputs": []
    },
    {
      "cell_type": "code",
      "source": [
        "train['DHI'].value_counts()"
      ],
      "metadata": {
        "colab": {
          "base_uri": "https://localhost:8080/"
        },
        "id": "PkkNGw1BuFKE",
        "outputId": "dd30e091-bb69-405a-9537-c2a23e873a59"
      },
      "execution_count": null,
      "outputs": [
        {
          "output_type": "execute_result",
          "data": {
            "text/plain": [
              "0      4349\n",
              "67       40\n",
              "77       39\n",
              "79       37\n",
              "96       36\n",
              "       ... \n",
              "379       1\n",
              "306       1\n",
              "341       1\n",
              "502       1\n",
              "287       1\n",
              "Name: DHI, Length: 509, dtype: int64"
            ]
          },
          "metadata": {},
          "execution_count": 193
        }
      ]
    },
    {
      "cell_type": "code",
      "source": [
        "train['DHI'].unique()"
      ],
      "metadata": {
        "colab": {
          "base_uri": "https://localhost:8080/"
        },
        "id": "9WHQxMsRwZWI",
        "outputId": "3f4c7f8b-9709-4fbd-8f8c-7711f15f9e09"
      },
      "execution_count": null,
      "outputs": [
        {
          "output_type": "execute_result",
          "data": {
            "text/plain": [
              "array(['0', '222', '55', '355', '437', '20', '44', '178', '81', '?',\n",
              "       '405', '103', '266', '108', '71', '59', '242', '182', '189', '16',\n",
              "       '52', '321', '170', '40', '275', '335', '21', '102', '158', '467',\n",
              "       '90', '57', '51', '12', '106', '27', '439', '391', '135', '285',\n",
              "       '475', '185', '72', '93', '84', '65', '445', '253', '32', '180',\n",
              "       '87', '117', '77', '111', '163', '96', '234', '37', '425', '66',\n",
              "       '395', '120', '316', '50', '3', '164', '466', '123', '373', '53',\n",
              "       '272', '76', '58', '371', '75', '9', '114', '151', '137', '98',\n",
              "       '418', '68', '109', '113', '125', '85', '61', '41', '122', '19',\n",
              "       '67', '441', '74', '427', '7', '154', '86', '269', '49', '18',\n",
              "       '28', '134', '95', '455', '297', '97', '36', '273', '259', '56',\n",
              "       '88', '145', '119', '112', '346', '262', '116', '126', '198',\n",
              "       '282', '60', '70', '141', '274', '104', '13', '89', '33', '357',\n",
              "       '286', '462', '80', '203', '305', '412', '91', '100', '302', '293',\n",
              "       '171', '22', '408', '78', '92', '127', '278', '128', '166', '410',\n",
              "       '177', '195', '131', '110', '398', '261', '168', '224', '386',\n",
              "       '417', '430', '10', '379', '480', '341', '207', '255', '83', '26',\n",
              "       '461', '99', '385', '169', '29', '310', '181', '258', '249', '73',\n",
              "       '152', '208', '63', '94', '311', '118', '82', '39', '147', '345',\n",
              "       '130', '4', '327', '387', '423', '79', '43', '42', '218', '291',\n",
              "       '388', '38', '382', '298', '54', '199', '294', '419', '348', '138',\n",
              "       '47', '142', '211', '484', '363', '400', '333', '246', '17', '411',\n",
              "       '226', '101', '239', '318', '1', '362', '361', '236', '48', '378',\n",
              "       '64', '479', '23', '296', '267', '6', '105', '115', '179', '498',\n",
              "       '149', '401', '237', '463', '315', '456', '146', '421', '300',\n",
              "       '292', '370', '209', '5', '486', '436', '191', '263', '206', '368',\n",
              "       '313', '299', '358', '186', '35', '507', '366', '187', '202', '24',\n",
              "       '354', '435', '162', '331', '133', '62', '508', '11', '326', '46',\n",
              "       '303', '469', '196', '132', '160', '409', '45', '129', '69', '107',\n",
              "       '233', '140', '350', '495', '276', '339', '283', '392', '514',\n",
              "       '227', '212', '252', '250', '15', '194', '251', '367', '268',\n",
              "       '499', '336', '433', '403', '431', '213', '14', '143', '307',\n",
              "       '323', '232', '174', '173', '172', '25', '240', '454', '121', '34',\n",
              "       '448', '216', '190', '155', '369', '506', '231', '452', '322',\n",
              "       '390', '205', '2', '184', '380', '244', '482', '215', '319', '30',\n",
              "       '139', '487', '192', '214', '150', '270', '245', '404', '277',\n",
              "       '356', '241', '238', '254', '511', '488', '148', '342', '328',\n",
              "       '304', '161', '230', '464', '415', '221', '165', '493', '457',\n",
              "       '225', '284', '365', '422', '402', '124', '347', '247', '489',\n",
              "       '364', '509', '444', '389', '338', '210', '424', '352', '314',\n",
              "       '501', '477', '317', '153', '473', '8', '383', '376', '503', '204',\n",
              "       '31', '295', '228', '396', '451', '201', '359', '471', '243',\n",
              "       '287', '351', '229', '447', '159', '280', '523', '443', '476',\n",
              "       '459', '183', '309', '438', '474', '167', '442', '264', '256',\n",
              "       '394', '324', '136', '219', '434', '429', '414', '144', '200',\n",
              "       '381', '372', '193', '156', '260', '470', '290', '312', '217',\n",
              "       '399', '472', '288', '458', '407', '360', '344', '257', '449',\n",
              "       '308', '235', '432', '497', '176', '197', '440', '301', '175',\n",
              "       '453', '265', '465', '420', '279', '353', '496', '406', '271',\n",
              "       '289', '528', '500', '450', '393', '483', '494', '492', '491',\n",
              "       '481', '281', '306', '349', '490', '502', '428', '504', '188',\n",
              "       '320', '485', '343', '426', '223', '248', '510', '515', '157',\n",
              "       '332', '446', '522', '220', '374', '377', '526', '413', '460',\n",
              "       '329', '478', '416'], dtype=object)"
            ]
          },
          "metadata": {},
          "execution_count": 194
        }
      ]
    },
    {
      "cell_type": "markdown",
      "source": [
        "왜 object 형인지 모르겠군. ?를 지워주고 int형으로 바꾼다. "
      ],
      "metadata": {
        "id": "gIRxkXLawRFW"
      }
    },
    {
      "cell_type": "code",
      "source": [
        "train.loc[train.DHI=='?','DHI']='0'"
      ],
      "metadata": {
        "id": "epSZ7CAuwl5e"
      },
      "execution_count": null,
      "outputs": []
    },
    {
      "cell_type": "code",
      "source": [
        "train['DHI']=train['DHI'].astype('int')"
      ],
      "metadata": {
        "id": "GBswHA-LwOa5"
      },
      "execution_count": null,
      "outputs": []
    },
    {
      "cell_type": "code",
      "source": [
        "train.columns"
      ],
      "metadata": {
        "colab": {
          "base_uri": "https://localhost:8080/"
        },
        "id": "yfNDosnmxBHs",
        "outputId": "8a1c79d0-9957-46ac-fcbb-47cabdd0a625"
      },
      "execution_count": null,
      "outputs": [
        {
          "output_type": "execute_result",
          "data": {
            "text/plain": [
              "Index(['Hour', 'Minute', 'DHI', 'DNI', 'WS', 'RH', 'T', 'TARGET'], dtype='object')"
            ]
          },
          "metadata": {},
          "execution_count": 197
        }
      ]
    },
    {
      "cell_type": "code",
      "source": [
        "train['DNI'].value_counts()"
      ],
      "metadata": {
        "colab": {
          "base_uri": "https://localhost:8080/"
        },
        "id": "Ll7H5sc8wWeF",
        "outputId": "646ebf76-78c5-4503-8ab8-3d18de735f69"
      },
      "execution_count": null,
      "outputs": [
        {
          "output_type": "execute_result",
          "data": {
            "text/plain": [
              "0       5086\n",
              "13        35\n",
              "18        29\n",
              "8         29\n",
              "16        26\n",
              "        ... \n",
              "1027       1\n",
              "764        1\n",
              "675        1\n",
              "259        1\n",
              "269        1\n",
              "Name: DNI, Length: 987, dtype: int64"
            ]
          },
          "metadata": {},
          "execution_count": 198
        }
      ]
    },
    {
      "cell_type": "code",
      "source": [
        "train.loc[train.DNI=='?','DNI']='0'"
      ],
      "metadata": {
        "id": "tB_ZiVfHxWdT"
      },
      "execution_count": null,
      "outputs": []
    },
    {
      "cell_type": "code",
      "source": [
        "train['DNI']=train['DNI'].astype('int')"
      ],
      "metadata": {
        "id": "HNtVCQK3xnnp"
      },
      "execution_count": null,
      "outputs": []
    },
    {
      "cell_type": "code",
      "source": [
        "train['WS'].value_counts()"
      ],
      "metadata": {
        "colab": {
          "base_uri": "https://localhost:8080/"
        },
        "id": "WFH7sXGBxtTT",
        "outputId": "6116fcbd-94f6-4078-d4be-63c1444c3f08"
      },
      "execution_count": null,
      "outputs": [
        {
          "output_type": "execute_result",
          "data": {
            "text/plain": [
              "1.6    338\n",
              "1.5    328\n",
              "1.7    328\n",
              "2      326\n",
              "1.8    315\n",
              "      ... \n",
              "6.9      2\n",
              "8        1\n",
              "7.5      1\n",
              "7        1\n",
              "?        1\n",
              "Name: WS, Length: 79, dtype: int64"
            ]
          },
          "metadata": {},
          "execution_count": 201
        }
      ]
    },
    {
      "cell_type": "code",
      "source": [
        "train.loc[train.WS=='?','WS']='1.6'"
      ],
      "metadata": {
        "id": "M-uaw3NHyDD5"
      },
      "execution_count": null,
      "outputs": []
    },
    {
      "cell_type": "code",
      "source": [
        "train['WS']=train['WS'].astype('float')"
      ],
      "metadata": {
        "id": "9n0LgJEeySMJ"
      },
      "execution_count": null,
      "outputs": []
    },
    {
      "cell_type": "code",
      "source": [
        "train.info()"
      ],
      "metadata": {
        "colab": {
          "base_uri": "https://localhost:8080/"
        },
        "id": "KfaWE3nWyVuI",
        "outputId": "fabed965-ecfe-48c8-c3a8-137071b68a9b"
      },
      "execution_count": null,
      "outputs": [
        {
          "output_type": "stream",
          "name": "stdout",
          "text": [
            "<class 'pandas.core.frame.DataFrame'>\n",
            "RangeIndex: 9000 entries, 0 to 8999\n",
            "Data columns (total 8 columns):\n",
            " #   Column  Non-Null Count  Dtype  \n",
            "---  ------  --------------  -----  \n",
            " 0   Hour    9000 non-null   int64  \n",
            " 1   Minute  9000 non-null   int64  \n",
            " 2   DHI     9000 non-null   int64  \n",
            " 3   DNI     9000 non-null   int64  \n",
            " 4   WS      9000 non-null   float64\n",
            " 5   RH      8995 non-null   float64\n",
            " 6   T       9000 non-null   int64  \n",
            " 7   TARGET  9000 non-null   float64\n",
            "dtypes: float64(3), int64(5)\n",
            "memory usage: 562.6 KB\n"
          ]
        }
      ]
    },
    {
      "cell_type": "code",
      "source": [
        "sns.histplot(data=train,x='DHI')"
      ],
      "metadata": {
        "colab": {
          "base_uri": "https://localhost:8080/",
          "height": 300
        },
        "id": "Ob5VVYK4yXqw",
        "outputId": "9fdecb81-f9f0-4944-9c72-f0fb12e76b58"
      },
      "execution_count": null,
      "outputs": [
        {
          "output_type": "execute_result",
          "data": {
            "text/plain": [
              "<matplotlib.axes._subplots.AxesSubplot at 0x7f43316ea050>"
            ]
          },
          "metadata": {},
          "execution_count": 205
        },
        {
          "output_type": "display_data",
          "data": {
            "image/png": "[encoded data removed]",
            "text/plain": [
              "<Figure size 432x288 with 1 Axes>"
            ]
          },
          "metadata": {}
        }
      ]
    },
    {
      "cell_type": "code",
      "source": [
        "sns.boxplot(data=train,x='DHI')"
      ],
      "metadata": {
        "colab": {
          "base_uri": "https://localhost:8080/",
          "height": 300
        },
        "id": "mP06wk0vypJi",
        "outputId": "8936bab6-1d71-403b-ae9c-60ef0e533f17"
      },
      "execution_count": null,
      "outputs": [
        {
          "output_type": "execute_result",
          "data": {
            "text/plain": [
              "<matplotlib.axes._subplots.AxesSubplot at 0x7f4330d66590>"
            ]
          },
          "metadata": {},
          "execution_count": 206
        },
        {
          "output_type": "display_data",
          "data": {
            "image/png": "[encoded data removed]",
            "text/plain": [
              "<Figure size 432x288 with 1 Axes>"
            ]
          },
          "metadata": {}
        }
      ]
    },
    {
      "cell_type": "code",
      "source": [
        "sns.histplot(data=train,x='DNI')"
      ],
      "metadata": {
        "colab": {
          "base_uri": "https://localhost:8080/",
          "height": 300
        },
        "id": "QuuQp6tayfT9",
        "outputId": "0ba79ae0-ab23-4070-ee17-d6b58e0d1ff4"
      },
      "execution_count": null,
      "outputs": [
        {
          "output_type": "execute_result",
          "data": {
            "text/plain": [
              "<matplotlib.axes._subplots.AxesSubplot at 0x7f4330d47310>"
            ]
          },
          "metadata": {},
          "execution_count": 207
        },
        {
          "output_type": "display_data",
          "data": {
            "image/png": "[encoded data removed]",
            "text/plain": [
              "<Figure size 432x288 with 1 Axes>"
            ]
          },
          "metadata": {}
        }
      ]
    },
    {
      "cell_type": "code",
      "source": [
        "sns.jointplot(data=train,x='DHI',y='DNI')"
      ],
      "metadata": {
        "colab": {
          "base_uri": "https://localhost:8080/",
          "height": 459
        },
        "id": "jU5XjFbq0mck",
        "outputId": "7d0f3296-1dc8-4fa9-e2ba-f9f5061d9878"
      },
      "execution_count": null,
      "outputs": [
        {
          "output_type": "execute_result",
          "data": {
            "text/plain": [
              "<seaborn.axisgrid.JointGrid at 0x7f4330d8fb50>"
            ]
          },
          "metadata": {},
          "execution_count": 208
        },
        {
          "output_type": "display_data",
          "data": {
            "image/png": "[encoded data removed]",
            "text/plain": [
              "<Figure size 432x432 with 3 Axes>"
            ]
          },
          "metadata": {}
        }
      ]
    },
    {
      "cell_type": "code",
      "source": [
        "sns.jointplot(data=train,x='DHI',y='TARGET')"
      ],
      "metadata": {
        "colab": {
          "base_uri": "https://localhost:8080/",
          "height": 459
        },
        "id": "_LIuQXTF0me6",
        "outputId": "8a600d51-1db3-4620-a3f7-40408d0d8f1d"
      },
      "execution_count": null,
      "outputs": [
        {
          "output_type": "execute_result",
          "data": {
            "text/plain": [
              "<seaborn.axisgrid.JointGrid at 0x7f4330231190>"
            ]
          },
          "metadata": {},
          "execution_count": 209
        },
        {
          "output_type": "display_data",
          "data": {
            "image/png": "[encoded data removed]",
            "text/plain": [
              "<Figure size 432x432 with 3 Axes>"
            ]
          },
          "metadata": {}
        }
      ]
    },
    {
      "cell_type": "code",
      "source": [
        "sns.jointplot(data=train,x='DNI',y='TARGET')"
      ],
      "metadata": {
        "colab": {
          "base_uri": "https://localhost:8080/",
          "height": 459
        },
        "id": "-QdAXkbp05gY",
        "outputId": "f85ef53b-8467-4d82-e45d-224f149e9f8d"
      },
      "execution_count": null,
      "outputs": [
        {
          "output_type": "execute_result",
          "data": {
            "text/plain": [
              "<seaborn.axisgrid.JointGrid at 0x7f4330231e50>"
            ]
          },
          "metadata": {},
          "execution_count": 210
        },
        {
          "output_type": "display_data",
          "data": {
            "image/png": "[encoded data removed]",
            "text/plain": [
              "<Figure size 432x432 with 3 Axes>"
            ]
          },
          "metadata": {}
        }
      ]
    },
    {
      "cell_type": "code",
      "source": [
        "sns.histplot(data=train,x='WS')"
      ],
      "metadata": {
        "colab": {
          "base_uri": "https://localhost:8080/",
          "height": 304
        },
        "id": "xAuv7t3my1c9",
        "outputId": "3029b892-82fd-4d7b-b987-3a58b7bfa4be"
      },
      "execution_count": null,
      "outputs": [
        {
          "output_type": "execute_result",
          "data": {
            "text/plain": [
              "<matplotlib.axes._subplots.AxesSubplot at 0x7f432ff1eed0>"
            ]
          },
          "metadata": {},
          "execution_count": 211
        },
        {
          "output_type": "display_data",
          "data": {
            "image/png": "[encoded data removed]",
            "text/plain": [
              "<Figure size 432x288 with 1 Axes>"
            ]
          },
          "metadata": {}
        }
      ]
    },
    {
      "cell_type": "code",
      "source": [
        "sns.histplot(data=train,x='RH')#상대습도"
      ],
      "metadata": {
        "colab": {
          "base_uri": "https://localhost:8080/",
          "height": 300
        },
        "id": "0BZ7NCn_zro0",
        "outputId": "dece5c94-dcf7-464f-c9f6-b5ba9138cda2"
      },
      "execution_count": null,
      "outputs": [
        {
          "output_type": "execute_result",
          "data": {
            "text/plain": [
              "<matplotlib.axes._subplots.AxesSubplot at 0x7f432fef8f90>"
            ]
          },
          "metadata": {},
          "execution_count": 212
        },
        {
          "output_type": "display_data",
          "data": {
            "image/png": "[encoded data removed]",
            "text/plain": [
              "<Figure size 432x288 with 1 Axes>"
            ]
          },
          "metadata": {}
        }
      ]
    },
    {
      "cell_type": "code",
      "source": [
        "sns.histplot(data=train,x='T')#기온"
      ],
      "metadata": {
        "colab": {
          "base_uri": "https://localhost:8080/",
          "height": 300
        },
        "id": "aq3bYCQ3zvx0",
        "outputId": "ef1e0b7f-1fe9-4924-b478-9f7ebc1411df"
      },
      "execution_count": null,
      "outputs": [
        {
          "output_type": "execute_result",
          "data": {
            "text/plain": [
              "<matplotlib.axes._subplots.AxesSubplot at 0x7f432fc79990>"
            ]
          },
          "metadata": {},
          "execution_count": 213
        },
        {
          "output_type": "display_data",
          "data": {
            "image/png": "[encoded data removed]",
            "text/plain": [
              "<Figure size 432x288 with 1 Axes>"
            ]
          },
          "metadata": {}
        }
      ]
    },
    {
      "cell_type": "code",
      "source": [
        "sns.histplot(data=train,x='TARGET')#타겟"
      ],
      "metadata": {
        "colab": {
          "base_uri": "https://localhost:8080/",
          "height": 304
        },
        "id": "PWVQkVFdz2Cc",
        "outputId": "8eff5352-c507-4fff-fb57-e9883b0ecf49"
      },
      "execution_count": null,
      "outputs": [
        {
          "output_type": "execute_result",
          "data": {
            "text/plain": [
              "<matplotlib.axes._subplots.AxesSubplot at 0x7f432fbb3650>"
            ]
          },
          "metadata": {},
          "execution_count": 214
        },
        {
          "output_type": "display_data",
          "data": {
            "image/png": "[encoded data removed]",
            "text/plain": [
              "<Figure size 432x288 with 1 Axes>"
            ]
          },
          "metadata": {}
        }
      ]
    },
    {
      "cell_type": "code",
      "source": [
        "sns.lineplot(data=train,\n",
        "             x='Hour',\n",
        "             y='T'\n",
        "             )"
      ],
      "metadata": {
        "colab": {
          "base_uri": "https://localhost:8080/",
          "height": 300
        },
        "id": "Xb9TVfxJz7eC",
        "outputId": "0985f5ee-29e5-4ee3-a87e-11a5923c13a4"
      },
      "execution_count": null,
      "outputs": [
        {
          "output_type": "execute_result",
          "data": {
            "text/plain": [
              "<matplotlib.axes._subplots.AxesSubplot at 0x7f432fb00550>"
            ]
          },
          "metadata": {},
          "execution_count": 215
        },
        {
          "output_type": "display_data",
          "data": {
            "image/png": "[encoded data removed]",
            "text/plain": [
              "<Figure size 432x288 with 1 Axes>"
            ]
          },
          "metadata": {}
        }
      ]
    },
    {
      "cell_type": "code",
      "source": [
        "sns.lineplot(data=train,\n",
        "             x='Hour',\n",
        "             y='WS'\n",
        "             )"
      ],
      "metadata": {
        "colab": {
          "base_uri": "https://localhost:8080/",
          "height": 300
        },
        "id": "sWJrybiu1RQs",
        "outputId": "7883d957-b71f-4e5b-d94f-c93bede58a0b"
      },
      "execution_count": null,
      "outputs": [
        {
          "output_type": "execute_result",
          "data": {
            "text/plain": [
              "<matplotlib.axes._subplots.AxesSubplot at 0x7f432fa77b90>"
            ]
          },
          "metadata": {},
          "execution_count": 216
        },
        {
          "output_type": "display_data",
          "data": {
            "image/png": "[encoded data removed]",
            "text/plain": [
              "<Figure size 432x288 with 1 Axes>"
            ]
          },
          "metadata": {}
        }
      ]
    },
    {
      "cell_type": "code",
      "source": [
        "sns.lineplot(data=train,\n",
        "             x='Hour',\n",
        "             y='RH'\n",
        "             )"
      ],
      "metadata": {
        "colab": {
          "base_uri": "https://localhost:8080/",
          "height": 300
        },
        "id": "qai3R1P41uKe",
        "outputId": "df687288-bc30-46bc-c028-3c1845a95db6"
      },
      "execution_count": null,
      "outputs": [
        {
          "output_type": "execute_result",
          "data": {
            "text/plain": [
              "<matplotlib.axes._subplots.AxesSubplot at 0x7f432f9e7390>"
            ]
          },
          "metadata": {},
          "execution_count": 217
        },
        {
          "output_type": "display_data",
          "data": {
            "image/png": "[encoded data removed]",
            "text/plain": [
              "<Figure size 432x288 with 1 Axes>"
            ]
          },
          "metadata": {}
        }
      ]
    },
    {
      "cell_type": "code",
      "source": [
        "sns.heatmap(train.corr(),annot=True)"
      ],
      "metadata": {
        "colab": {
          "base_uri": "https://localhost:8080/",
          "height": 287
        },
        "id": "Upc3i__S1xLO",
        "outputId": "7c48f012-cd8f-429d-caa1-77db1c1d0c9d"
      },
      "execution_count": null,
      "outputs": [
        {
          "output_type": "execute_result",
          "data": {
            "text/plain": [
              "<matplotlib.axes._subplots.AxesSubplot at 0x7f432fa2fd10>"
            ]
          },
          "metadata": {},
          "execution_count": 218
        },
        {
          "output_type": "display_data",
          "data": {
            "image/png": "[encoded data removed]",
            "text/plain": [
              "<Figure size 432x288 with 2 Axes>"
            ]
          },
          "metadata": {}
        }
      ]
    },
    {
      "cell_type": "code",
      "source": [
        "test.info()"
      ],
      "metadata": {
        "colab": {
          "base_uri": "https://localhost:8080/"
        },
        "id": "FzGtPLqy8xph",
        "outputId": "dc523f66-e3c4-4bd3-90d1-60e01ade4e53"
      },
      "execution_count": null,
      "outputs": [
        {
          "output_type": "stream",
          "name": "stdout",
          "text": [
            "<class 'pandas.core.frame.DataFrame'>\n",
            "RangeIndex: 1000 entries, 0 to 999\n",
            "Data columns (total 7 columns):\n",
            " #   Column  Non-Null Count  Dtype  \n",
            "---  ------  --------------  -----  \n",
            " 0   Hour    1000 non-null   object \n",
            " 1   Minute  1000 non-null   object \n",
            " 2   DHI     1000 non-null   object \n",
            " 3   DNI     1000 non-null   int64  \n",
            " 4   WS      1000 non-null   float64\n",
            " 5   RH      995 non-null    float64\n",
            " 6   T       1000 non-null   int64  \n",
            "dtypes: float64(2), int64(2), object(3)\n",
            "memory usage: 54.8+ KB\n"
          ]
        }
      ]
    },
    {
      "cell_type": "code",
      "source": [
        "test['Hour'].value_counts()"
      ],
      "metadata": {
        "colab": {
          "base_uri": "https://localhost:8080/"
        },
        "id": "HFKXZC6P5woM",
        "outputId": "e9dd8bc6-0a91-46bd-ac9b-90ef769c8db7"
      },
      "execution_count": null,
      "outputs": [
        {
          "output_type": "execute_result",
          "data": {
            "text/plain": [
              "2     54\n",
              "11    52\n",
              "13    48\n",
              "16    48\n",
              "7     44\n",
              "23    43\n",
              "17    43\n",
              "15    42\n",
              "6     42\n",
              "8     41\n",
              "3     41\n",
              "9     40\n",
              "0     40\n",
              "4     40\n",
              "5     40\n",
              "19    40\n",
              "12    39\n",
              "20    39\n",
              "21    39\n",
              "14    39\n",
              "1     38\n",
              "18    36\n",
              "22    36\n",
              "10    35\n",
              "?      1\n",
              "Name: Hour, dtype: int64"
            ]
          },
          "metadata": {},
          "execution_count": 220
        }
      ]
    },
    {
      "cell_type": "code",
      "source": [
        "#test도 똑같이 \n",
        "test.loc[test.Hour=='?','Hour']='2'\n",
        "test['Hour']=test['Hour'].astype('int')\n"
      ],
      "metadata": {
        "id": "Xs6ARYPP5ows"
      },
      "execution_count": null,
      "outputs": []
    },
    {
      "cell_type": "code",
      "source": [
        "test['Minute'].value_counts()"
      ],
      "metadata": {
        "colab": {
          "base_uri": "https://localhost:8080/"
        },
        "id": "AqOOmI6K9lU1",
        "outputId": "fe0ffc86-d568-4ba3-b32f-e9b161cce93e"
      },
      "execution_count": null,
      "outputs": [
        {
          "output_type": "execute_result",
          "data": {
            "text/plain": [
              "30    504\n",
              "0     495\n",
              "?       1\n",
              "Name: Minute, dtype: int64"
            ]
          },
          "metadata": {},
          "execution_count": 222
        }
      ]
    },
    {
      "cell_type": "code",
      "source": [
        "test.loc[test.Minute=='?','Minute']='30'\n",
        "test['Minute']=test['Minute'].astype('int')"
      ],
      "metadata": {
        "id": "T_8L4ShS9lXJ"
      },
      "execution_count": null,
      "outputs": []
    },
    {
      "cell_type": "code",
      "source": [
        "test['DHI'].value_counts()"
      ],
      "metadata": {
        "colab": {
          "base_uri": "https://localhost:8080/"
        },
        "id": "0D6XLElA-mf0",
        "outputId": "c65efdac-9b3b-44e9-f34a-2d13ed64f130"
      },
      "execution_count": null,
      "outputs": [
        {
          "output_type": "execute_result",
          "data": {
            "text/plain": [
              "0      476\n",
              "55       7\n",
              "52       6\n",
              "73       6\n",
              "20       6\n",
              "      ... \n",
              "471      1\n",
              "321      1\n",
              "370      1\n",
              "415      1\n",
              "350      1\n",
              "Name: DHI, Length: 274, dtype: int64"
            ]
          },
          "metadata": {},
          "execution_count": 224
        }
      ]
    },
    {
      "cell_type": "code",
      "source": [
        "test.loc[test.DHI=='?','DHI']='0'\n",
        "test['DHI']=test['DHI'].astype('int')"
      ],
      "metadata": {
        "id": "P0WprkSp-nIk"
      },
      "execution_count": null,
      "outputs": []
    },
    {
      "cell_type": "code",
      "source": [
        "#NULL값 없애주기\n",
        "train.isna().sum()"
      ],
      "metadata": {
        "colab": {
          "base_uri": "https://localhost:8080/"
        },
        "id": "PASsGLTr-nLS",
        "outputId": "abc34977-e210-4f63-ad06-123b0fb226da"
      },
      "execution_count": null,
      "outputs": [
        {
          "output_type": "execute_result",
          "data": {
            "text/plain": [
              "Hour      0\n",
              "Minute    0\n",
              "DHI       0\n",
              "DNI       0\n",
              "WS        0\n",
              "RH        5\n",
              "T         0\n",
              "TARGET    0\n",
              "dtype: int64"
            ]
          },
          "metadata": {},
          "execution_count": 226
        }
      ]
    },
    {
      "cell_type": "code",
      "source": [
        "train['RH'].value_counts()"
      ],
      "metadata": {
        "colab": {
          "base_uri": "https://localhost:8080/"
        },
        "id": "HPG8y4dFAfUo",
        "outputId": "94f450e7-f081-445e-d5a1-1dab101ea520"
      },
      "execution_count": null,
      "outputs": [
        {
          "output_type": "execute_result",
          "data": {
            "text/plain": [
              "100.00    495\n",
              "67.77      10\n",
              "77.04      10\n",
              "78.48       7\n",
              "80.33       7\n",
              "         ... \n",
              "24.16       1\n",
              "78.76       1\n",
              "98.02       1\n",
              "27.00       1\n",
              "87.78       1\n",
              "Name: RH, Length: 4977, dtype: int64"
            ]
          },
          "metadata": {},
          "execution_count": 227
        }
      ]
    },
    {
      "cell_type": "code",
      "source": [
        "train=train.fillna(train.mean())"
      ],
      "metadata": {
        "id": "7smKMrLe_rWG"
      },
      "execution_count": null,
      "outputs": []
    },
    {
      "cell_type": "code",
      "source": [
        "train.isna().sum()"
      ],
      "metadata": {
        "colab": {
          "base_uri": "https://localhost:8080/"
        },
        "id": "yc_7k4c-Bh7d",
        "outputId": "a2a0621f-8631-47b5-db74-cbc3038a0fbc"
      },
      "execution_count": null,
      "outputs": [
        {
          "output_type": "execute_result",
          "data": {
            "text/plain": [
              "Hour      0\n",
              "Minute    0\n",
              "DHI       0\n",
              "DNI       0\n",
              "WS        0\n",
              "RH        0\n",
              "T         0\n",
              "TARGET    0\n",
              "dtype: int64"
            ]
          },
          "metadata": {},
          "execution_count": 229
        }
      ]
    },
    {
      "cell_type": "code",
      "source": [
        "test.isna().sum()"
      ],
      "metadata": {
        "colab": {
          "base_uri": "https://localhost:8080/"
        },
        "id": "QRs64wxI_l4S",
        "outputId": "28271bd5-fef5-4242-ac84-bafcbc261d3c"
      },
      "execution_count": null,
      "outputs": [
        {
          "output_type": "execute_result",
          "data": {
            "text/plain": [
              "Hour      0\n",
              "Minute    0\n",
              "DHI       0\n",
              "DNI       0\n",
              "WS        0\n",
              "RH        5\n",
              "T         0\n",
              "dtype: int64"
            ]
          },
          "metadata": {},
          "execution_count": 230
        }
      ]
    },
    {
      "cell_type": "code",
      "source": [
        "test=test.fillna(test.mean())"
      ],
      "metadata": {
        "id": "2pcJiNqJ_l63"
      },
      "execution_count": null,
      "outputs": []
    },
    {
      "cell_type": "code",
      "source": [
        "test.isna().sum()"
      ],
      "metadata": {
        "colab": {
          "base_uri": "https://localhost:8080/"
        },
        "id": "PW2aR7JZBqAT",
        "outputId": "44ba6a75-8571-4c6e-ffe3-d55da57de31b"
      },
      "execution_count": null,
      "outputs": [
        {
          "output_type": "execute_result",
          "data": {
            "text/plain": [
              "Hour      0\n",
              "Minute    0\n",
              "DHI       0\n",
              "DNI       0\n",
              "WS        0\n",
              "RH        0\n",
              "T         0\n",
              "dtype: int64"
            ]
          },
          "metadata": {},
          "execution_count": 232
        }
      ]
    },
    {
      "cell_type": "markdown",
      "source": [
        "### 나눠주기"
      ],
      "metadata": {
        "id": "-iBf4KGoBrBR"
      }
    },
    {
      "cell_type": "code",
      "source": [
        "X_train=train.drop('TARGET',axis=1)\n",
        "y_train=train['TARGET']\n",
        "X_test=test"
      ],
      "metadata": {
        "id": "-KJblwlI3xbC"
      },
      "execution_count": null,
      "outputs": []
    },
    {
      "cell_type": "code",
      "source": [
        "\n",
        "from xgboost import XGBRegressor\n",
        "from lightgbm import LGBMRegressor\n",
        "from sklearn.preprocessing import StandardScaler\n",
        "from sklearn.model_selection import GridSearchCV\n",
        "from sklearn.pipeline import make_pipeline\n"
      ],
      "metadata": {
        "id": "6HQYNnaY2dB5"
      },
      "execution_count": null,
      "outputs": []
    },
    {
      "cell_type": "code",
      "source": [
        "#스케일링 진행\n",
        "st=StandardScaler()\n",
        "scaled_train=st.fit_transform(X_train)\n",
        "scaled_test=st.transform(X_test)"
      ],
      "metadata": {
        "id": "hf82bkqE5IRz"
      },
      "execution_count": null,
      "outputs": []
    },
    {
      "cell_type": "code",
      "source": [
        "scaled_train=pd.DataFrame(scaled_train,columns=X_train.columns)\n",
        "scaled_train"
      ],
      "metadata": {
        "colab": {
          "base_uri": "https://localhost:8080/",
          "height": 423
        },
        "id": "GORqzUrTfEsr",
        "outputId": "9b7d8e0b-193b-46b7-b8bb-bcb782d611db"
      },
      "execution_count": null,
      "outputs": [
        {
          "output_type": "execute_result",
          "data": {
            "text/html": [
              "\n",
              "  <div id=\"df-221aebf7-2551-4557-b446-cc69eebe3652\">\n",
              "    <div class=\"colab-df-container\">\n",
              "      <div>\n",
              "<style scoped>\n",
              "    .dataframe tbody tr th:only-of-type {\n",
              "        vertical-align: middle;\n",
              "    }\n",
              "\n",
              "    .dataframe tbody tr th {\n",
              "        vertical-align: top;\n",
              "    }\n",
              "\n",
              "    .dataframe thead th {\n",
              "        text-align: right;\n",
              "    }\n",
              "</style>\n",
              "<table border=\"1\" class=\"dataframe\">\n",
              "  <thead>\n",
              "    <tr style=\"text-align: right;\">\n",
              "      <th></th>\n",
              "      <th>Hour</th>\n",
              "      <th>Minute</th>\n",
              "      <th>DHI</th>\n",
              "      <th>DNI</th>\n",
              "      <th>WS</th>\n",
              "      <th>RH</th>\n",
              "      <th>T</th>\n",
              "    </tr>\n",
              "  </thead>\n",
              "  <tbody>\n",
              "    <tr>\n",
              "      <th>0</th>\n",
              "      <td>-1.659316</td>\n",
              "      <td>-0.998890</td>\n",
              "      <td>-0.645430</td>\n",
              "      <td>-0.624463</td>\n",
              "      <td>-0.719323</td>\n",
              "      <td>-0.292412</td>\n",
              "      <td>-0.862780</td>\n",
              "    </tr>\n",
              "    <tr>\n",
              "      <th>1</th>\n",
              "      <td>0.504926</td>\n",
              "      <td>-0.998890</td>\n",
              "      <td>1.217891</td>\n",
              "      <td>-0.570456</td>\n",
              "      <td>-0.798744</td>\n",
              "      <td>-1.700213</td>\n",
              "      <td>0.497999</td>\n",
              "    </tr>\n",
              "    <tr>\n",
              "      <th>2</th>\n",
              "      <td>-1.082185</td>\n",
              "      <td>-0.998890</td>\n",
              "      <td>-0.645430</td>\n",
              "      <td>-0.624463</td>\n",
              "      <td>0.233727</td>\n",
              "      <td>0.944305</td>\n",
              "      <td>-1.490832</td>\n",
              "    </tr>\n",
              "    <tr>\n",
              "      <th>3</th>\n",
              "      <td>0.937774</td>\n",
              "      <td>1.001112</td>\n",
              "      <td>-0.645430</td>\n",
              "      <td>-0.624463</td>\n",
              "      <td>-0.639902</td>\n",
              "      <td>1.137229</td>\n",
              "      <td>-0.653430</td>\n",
              "    </tr>\n",
              "    <tr>\n",
              "      <th>4</th>\n",
              "      <td>-1.515034</td>\n",
              "      <td>1.001112</td>\n",
              "      <td>-0.645430</td>\n",
              "      <td>-0.624463</td>\n",
              "      <td>0.074885</td>\n",
              "      <td>0.917459</td>\n",
              "      <td>0.393323</td>\n",
              "    </tr>\n",
              "    <tr>\n",
              "      <th>...</th>\n",
              "      <td>...</td>\n",
              "      <td>...</td>\n",
              "      <td>...</td>\n",
              "      <td>...</td>\n",
              "      <td>...</td>\n",
              "      <td>...</td>\n",
              "      <td>...</td>\n",
              "    </tr>\n",
              "    <tr>\n",
              "      <th>8995</th>\n",
              "      <td>-0.072206</td>\n",
              "      <td>-0.998890</td>\n",
              "      <td>1.360577</td>\n",
              "      <td>-0.576457</td>\n",
              "      <td>-1.195848</td>\n",
              "      <td>-1.783935</td>\n",
              "      <td>1.544751</td>\n",
              "    </tr>\n",
              "    <tr>\n",
              "      <th>8996</th>\n",
              "      <td>-1.226468</td>\n",
              "      <td>1.001112</td>\n",
              "      <td>-0.645430</td>\n",
              "      <td>-0.624463</td>\n",
              "      <td>2.616352</td>\n",
              "      <td>1.073527</td>\n",
              "      <td>-0.967456</td>\n",
              "    </tr>\n",
              "    <tr>\n",
              "      <th>8997</th>\n",
              "      <td>-0.649337</td>\n",
              "      <td>-0.998890</td>\n",
              "      <td>0.227477</td>\n",
              "      <td>0.950728</td>\n",
              "      <td>0.392568</td>\n",
              "      <td>-0.744692</td>\n",
              "      <td>0.288648</td>\n",
              "    </tr>\n",
              "    <tr>\n",
              "      <th>8998</th>\n",
              "      <td>1.514905</td>\n",
              "      <td>-0.998890</td>\n",
              "      <td>-0.645430</td>\n",
              "      <td>-0.624463</td>\n",
              "      <td>0.789673</td>\n",
              "      <td>0.360527</td>\n",
              "      <td>-0.862780</td>\n",
              "    </tr>\n",
              "    <tr>\n",
              "      <th>8999</th>\n",
              "      <td>-0.072206</td>\n",
              "      <td>-0.998890</td>\n",
              "      <td>3.081211</td>\n",
              "      <td>-0.462443</td>\n",
              "      <td>-1.354690</td>\n",
              "      <td>-1.485903</td>\n",
              "      <td>1.858777</td>\n",
              "    </tr>\n",
              "  </tbody>\n",
              "</table>\n",
              "<p>9000 rows × 7 columns</p>\n",
              "</div>\n",
              "      <button class=\"colab-df-convert\" onclick=\"convertToInteractive('df-221aebf7-2551-4557-b446-cc69eebe3652')\"\n",
              "              title=\"Convert this dataframe to an interactive table.\"\n",
              "              style=\"display:none;\">\n",
              "        \n",
              "  <svg xmlns=\"http://www.w3.org/2000/svg\" height=\"24px\"viewBox=\"0 0 24 24\"\n",
              "       width=\"24px\">\n",
              "    <path d=\"M0 0h24v24H0V0z\" fill=\"none\"/>\n",
              "    <path d=\"M18.56 5.44l.94 2.06.94-2.06 2.06-.94-2.06-.94-.94-2.06-.94 2.06-2.06.94zm-11 1L8.5 8.5l.94-2.06 2.06-.94-2.06-.94L8.5 2.5l-.94 2.06-2.06.94zm10 10l.94 2.06.94-2.06 2.06-.94-2.06-.94-.94-2.06-.94 2.06-2.06.94z\"/><path d=\"M17.41 7.96l-1.37-1.37c-.4-.4-.92-.59-1.43-.59-.52 0-1.04.2-1.43.59L10.3 9.45l-7.72 7.72c-.78.78-.78 2.05 0 2.83L4 21.41c.39.39.9.59 1.41.59.51 0 1.02-.2 1.41-.59l7.78-7.78 2.81-2.81c.8-.78.8-2.07 0-2.86zM5.41 20L4 18.59l7.72-7.72 1.47 1.35L5.41 20z\"/>\n",
              "  </svg>\n",
              "      </button>\n",
              "      \n",
              "  <style>\n",
              "    .colab-df-container {\n",
              "      display:flex;\n",
              "      flex-wrap:wrap;\n",
              "      gap: 12px;\n",
              "    }\n",
              "\n",
              "    .colab-df-convert {\n",
              "      background-color: #E8F0FE;\n",
              "      border: none;\n",
              "      border-radius: 50%;\n",
              "      cursor: pointer;\n",
              "      display: none;\n",
              "      fill: #1967D2;\n",
              "      height: 32px;\n",
              "      padding: 0 0 0 0;\n",
              "      width: 32px;\n",
              "    }\n",
              "\n",
              "    .colab-df-convert:hover {\n",
              "      background-color: #E2EBFA;\n",
              "      box-shadow: 0px 1px 2px rgba(60, 64, 67, 0.3), 0px 1px 3px 1px rgba(60, 64, 67, 0.15);\n",
              "      fill: #174EA6;\n",
              "    }\n",
              "\n",
              "    [theme=dark] .colab-df-convert {\n",
              "      background-color: #3B4455;\n",
              "      fill: #D2E3FC;\n",
              "    }\n",
              "\n",
              "    [theme=dark] .colab-df-convert:hover {\n",
              "      background-color: #434B5C;\n",
              "      box-shadow: 0px 1px 3px 1px rgba(0, 0, 0, 0.15);\n",
              "      filter: drop-shadow(0px 1px 2px rgba(0, 0, 0, 0.3));\n",
              "      fill: #FFFFFF;\n",
              "    }\n",
              "  </style>\n",
              "\n",
              "      <script>\n",
              "        const buttonEl =\n",
              "          document.querySelector('#df-221aebf7-2551-4557-b446-cc69eebe3652 button.colab-df-convert');\n",
              "        buttonEl.style.display =\n",
              "          google.colab.kernel.accessAllowed ? 'block' : 'none';\n",
              "\n",
              "        async function convertToInteractive(key) {\n",
              "          const element = document.querySelector('#df-221aebf7-2551-4557-b446-cc69eebe3652');\n",
              "          const dataTable =\n",
              "            await google.colab.kernel.invokeFunction('convertToInteractive',\n",
              "                                                     [key], {});\n",
              "          if (!dataTable) return;\n",
              "\n",
              "          const docLinkHtml = 'Like what you see? Visit the ' +\n",
              "            '<a target=\"_blank\" href=https://colab.research.google.com/notebooks/data_table.ipynb>data table notebook</a>'\n",
              "            + ' to learn more about interactive tables.';\n",
              "          element.innerHTML = '';\n",
              "          dataTable['output_type'] = 'display_data';\n",
              "          await google.colab.output.renderOutput(dataTable, element);\n",
              "          const docLink = document.createElement('div');\n",
              "          docLink.innerHTML = docLinkHtml;\n",
              "          element.appendChild(docLink);\n",
              "        }\n",
              "      </script>\n",
              "    </div>\n",
              "  </div>\n",
              "  "
            ],
            "text/plain": [
              "          Hour    Minute       DHI       DNI        WS        RH         T\n",
              "0    -1.659316 -0.998890 -0.645430 -0.624463 -0.719323 -0.292412 -0.862780\n",
              "1     0.504926 -0.998890  1.217891 -0.570456 -0.798744 -1.700213  0.497999\n",
              "2    -1.082185 -0.998890 -0.645430 -0.624463  0.233727  0.944305 -1.490832\n",
              "3     0.937774  1.001112 -0.645430 -0.624463 -0.639902  1.137229 -0.653430\n",
              "4    -1.515034  1.001112 -0.645430 -0.624463  0.074885  0.917459  0.393323\n",
              "...        ...       ...       ...       ...       ...       ...       ...\n",
              "8995 -0.072206 -0.998890  1.360577 -0.576457 -1.195848 -1.783935  1.544751\n",
              "8996 -1.226468  1.001112 -0.645430 -0.624463  2.616352  1.073527 -0.967456\n",
              "8997 -0.649337 -0.998890  0.227477  0.950728  0.392568 -0.744692  0.288648\n",
              "8998  1.514905 -0.998890 -0.645430 -0.624463  0.789673  0.360527 -0.862780\n",
              "8999 -0.072206 -0.998890  3.081211 -0.462443 -1.354690 -1.485903  1.858777\n",
              "\n",
              "[9000 rows x 7 columns]"
            ]
          },
          "metadata": {},
          "execution_count": 236
        }
      ]
    },
    {
      "cell_type": "code",
      "source": [
        "scaled_test=pd.DataFrame(scaled_test,columns=X_test.columns)\n",
        "scaled_test"
      ],
      "metadata": {
        "colab": {
          "base_uri": "https://localhost:8080/",
          "height": 423
        },
        "id": "4tbsZzhyfe3l",
        "outputId": "91c10d73-5a5a-4de3-d775-9da42f5fa347"
      },
      "execution_count": null,
      "outputs": [
        {
          "output_type": "execute_result",
          "data": {
            "text/html": [
              "\n",
              "  <div id=\"df-aabfcbd6-1ed5-429d-a656-9241de0ff2b2\">\n",
              "    <div class=\"colab-df-container\">\n",
              "      <div>\n",
              "<style scoped>\n",
              "    .dataframe tbody tr th:only-of-type {\n",
              "        vertical-align: middle;\n",
              "    }\n",
              "\n",
              "    .dataframe tbody tr th {\n",
              "        vertical-align: top;\n",
              "    }\n",
              "\n",
              "    .dataframe thead th {\n",
              "        text-align: right;\n",
              "    }\n",
              "</style>\n",
              "<table border=\"1\" class=\"dataframe\">\n",
              "  <thead>\n",
              "    <tr style=\"text-align: right;\">\n",
              "      <th></th>\n",
              "      <th>Hour</th>\n",
              "      <th>Minute</th>\n",
              "      <th>DHI</th>\n",
              "      <th>DNI</th>\n",
              "      <th>WS</th>\n",
              "      <th>RH</th>\n",
              "      <th>T</th>\n",
              "    </tr>\n",
              "  </thead>\n",
              "  <tbody>\n",
              "    <tr>\n",
              "      <th>0</th>\n",
              "      <td>-0.793620</td>\n",
              "      <td>-0.998890</td>\n",
              "      <td>-0.192190</td>\n",
              "      <td>1.019737</td>\n",
              "      <td>-0.878165</td>\n",
              "      <td>0.368717</td>\n",
              "      <td>-0.862780</td>\n",
              "    </tr>\n",
              "    <tr>\n",
              "      <th>1</th>\n",
              "      <td>0.360643</td>\n",
              "      <td>-0.998890</td>\n",
              "      <td>1.847391</td>\n",
              "      <td>-0.543453</td>\n",
              "      <td>4.522452</td>\n",
              "      <td>-2.052846</td>\n",
              "      <td>0.916700</td>\n",
              "    </tr>\n",
              "    <tr>\n",
              "      <th>2</th>\n",
              "      <td>-1.515034</td>\n",
              "      <td>1.001112</td>\n",
              "      <td>-0.645430</td>\n",
              "      <td>-0.624463</td>\n",
              "      <td>0.471989</td>\n",
              "      <td>0.095711</td>\n",
              "      <td>-0.758105</td>\n",
              "    </tr>\n",
              "    <tr>\n",
              "      <th>3</th>\n",
              "      <td>1.082057</td>\n",
              "      <td>-0.998890</td>\n",
              "      <td>-0.645430</td>\n",
              "      <td>-0.624463</td>\n",
              "      <td>-0.401640</td>\n",
              "      <td>-0.036697</td>\n",
              "      <td>-0.653430</td>\n",
              "    </tr>\n",
              "    <tr>\n",
              "      <th>4</th>\n",
              "      <td>-1.082185</td>\n",
              "      <td>1.001112</td>\n",
              "      <td>-0.645430</td>\n",
              "      <td>-0.624463</td>\n",
              "      <td>-0.481061</td>\n",
              "      <td>-0.390239</td>\n",
              "      <td>-0.862780</td>\n",
              "    </tr>\n",
              "    <tr>\n",
              "      <th>...</th>\n",
              "      <td>...</td>\n",
              "      <td>...</td>\n",
              "      <td>...</td>\n",
              "      <td>...</td>\n",
              "      <td>...</td>\n",
              "      <td>...</td>\n",
              "      <td>...</td>\n",
              "    </tr>\n",
              "    <tr>\n",
              "      <th>995</th>\n",
              "      <td>0.649208</td>\n",
              "      <td>1.001112</td>\n",
              "      <td>-0.049503</td>\n",
              "      <td>1.529798</td>\n",
              "      <td>1.027935</td>\n",
              "      <td>-1.379431</td>\n",
              "      <td>0.393323</td>\n",
              "    </tr>\n",
              "    <tr>\n",
              "      <th>996</th>\n",
              "      <td>-0.793620</td>\n",
              "      <td>1.001112</td>\n",
              "      <td>0.042824</td>\n",
              "      <td>1.223761</td>\n",
              "      <td>-1.434111</td>\n",
              "      <td>0.647638</td>\n",
              "      <td>-0.339404</td>\n",
              "    </tr>\n",
              "    <tr>\n",
              "      <th>997</th>\n",
              "      <td>0.216360</td>\n",
              "      <td>-0.998890</td>\n",
              "      <td>0.588390</td>\n",
              "      <td>1.916845</td>\n",
              "      <td>-0.163377</td>\n",
              "      <td>-0.844794</td>\n",
              "      <td>0.079297</td>\n",
              "    </tr>\n",
              "    <tr>\n",
              "      <th>998</th>\n",
              "      <td>-0.216488</td>\n",
              "      <td>1.001112</td>\n",
              "      <td>1.008057</td>\n",
              "      <td>0.779707</td>\n",
              "      <td>-0.481061</td>\n",
              "      <td>-0.698736</td>\n",
              "      <td>0.183973</td>\n",
              "    </tr>\n",
              "    <tr>\n",
              "      <th>999</th>\n",
              "      <td>0.649208</td>\n",
              "      <td>1.001112</td>\n",
              "      <td>0.907337</td>\n",
              "      <td>-0.567456</td>\n",
              "      <td>-0.322219</td>\n",
              "      <td>-0.068092</td>\n",
              "      <td>1.126050</td>\n",
              "    </tr>\n",
              "  </tbody>\n",
              "</table>\n",
              "<p>1000 rows × 7 columns</p>\n",
              "</div>\n",
              "      <button class=\"colab-df-convert\" onclick=\"convertToInteractive('df-aabfcbd6-1ed5-429d-a656-9241de0ff2b2')\"\n",
              "              title=\"Convert this dataframe to an interactive table.\"\n",
              "              style=\"display:none;\">\n",
              "        \n",
              "  <svg xmlns=\"http://www.w3.org/2000/svg\" height=\"24px\"viewBox=\"0 0 24 24\"\n",
              "       width=\"24px\">\n",
              "    <path d=\"M0 0h24v24H0V0z\" fill=\"none\"/>\n",
              "    <path d=\"M18.56 5.44l.94 2.06.94-2.06 2.06-.94-2.06-.94-.94-2.06-.94 2.06-2.06.94zm-11 1L8.5 8.5l.94-2.06 2.06-.94-2.06-.94L8.5 2.5l-.94 2.06-2.06.94zm10 10l.94 2.06.94-2.06 2.06-.94-2.06-.94-.94-2.06-.94 2.06-2.06.94z\"/><path d=\"M17.41 7.96l-1.37-1.37c-.4-.4-.92-.59-1.43-.59-.52 0-1.04.2-1.43.59L10.3 9.45l-7.72 7.72c-.78.78-.78 2.05 0 2.83L4 21.41c.39.39.9.59 1.41.59.51 0 1.02-.2 1.41-.59l7.78-7.78 2.81-2.81c.8-.78.8-2.07 0-2.86zM5.41 20L4 18.59l7.72-7.72 1.47 1.35L5.41 20z\"/>\n",
              "  </svg>\n",
              "      </button>\n",
              "      \n",
              "  <style>\n",
              "    .colab-df-container {\n",
              "      display:flex;\n",
              "      flex-wrap:wrap;\n",
              "      gap: 12px;\n",
              "    }\n",
              "\n",
              "    .colab-df-convert {\n",
              "      background-color: #E8F0FE;\n",
              "      border: none;\n",
              "      border-radius: 50%;\n",
              "      cursor: pointer;\n",
              "      display: none;\n",
              "      fill: #1967D2;\n",
              "      height: 32px;\n",
              "      padding: 0 0 0 0;\n",
              "      width: 32px;\n",
              "    }\n",
              "\n",
              "    .colab-df-convert:hover {\n",
              "      background-color: #E2EBFA;\n",
              "      box-shadow: 0px 1px 2px rgba(60, 64, 67, 0.3), 0px 1px 3px 1px rgba(60, 64, 67, 0.15);\n",
              "      fill: #174EA6;\n",
              "    }\n",
              "\n",
              "    [theme=dark] .colab-df-convert {\n",
              "      background-color: #3B4455;\n",
              "      fill: #D2E3FC;\n",
              "    }\n",
              "\n",
              "    [theme=dark] .colab-df-convert:hover {\n",
              "      background-color: #434B5C;\n",
              "      box-shadow: 0px 1px 3px 1px rgba(0, 0, 0, 0.15);\n",
              "      filter: drop-shadow(0px 1px 2px rgba(0, 0, 0, 0.3));\n",
              "      fill: #FFFFFF;\n",
              "    }\n",
              "  </style>\n",
              "\n",
              "      <script>\n",
              "        const buttonEl =\n",
              "          document.querySelector('#df-aabfcbd6-1ed5-429d-a656-9241de0ff2b2 button.colab-df-convert');\n",
              "        buttonEl.style.display =\n",
              "          google.colab.kernel.accessAllowed ? 'block' : 'none';\n",
              "\n",
              "        async function convertToInteractive(key) {\n",
              "          const element = document.querySelector('#df-aabfcbd6-1ed5-429d-a656-9241de0ff2b2');\n",
              "          const dataTable =\n",
              "            await google.colab.kernel.invokeFunction('convertToInteractive',\n",
              "                                                     [key], {});\n",
              "          if (!dataTable) return;\n",
              "\n",
              "          const docLinkHtml = 'Like what you see? Visit the ' +\n",
              "            '<a target=\"_blank\" href=https://colab.research.google.com/notebooks/data_table.ipynb>data table notebook</a>'\n",
              "            + ' to learn more about interactive tables.';\n",
              "          element.innerHTML = '';\n",
              "          dataTable['output_type'] = 'display_data';\n",
              "          await google.colab.output.renderOutput(dataTable, element);\n",
              "          const docLink = document.createElement('div');\n",
              "          docLink.innerHTML = docLinkHtml;\n",
              "          element.appendChild(docLink);\n",
              "        }\n",
              "      </script>\n",
              "    </div>\n",
              "  </div>\n",
              "  "
            ],
            "text/plain": [
              "         Hour    Minute       DHI       DNI        WS        RH         T\n",
              "0   -0.793620 -0.998890 -0.192190  1.019737 -0.878165  0.368717 -0.862780\n",
              "1    0.360643 -0.998890  1.847391 -0.543453  4.522452 -2.052846  0.916700\n",
              "2   -1.515034  1.001112 -0.645430 -0.624463  0.471989  0.095711 -0.758105\n",
              "3    1.082057 -0.998890 -0.645430 -0.624463 -0.401640 -0.036697 -0.653430\n",
              "4   -1.082185  1.001112 -0.645430 -0.624463 -0.481061 -0.390239 -0.862780\n",
              "..        ...       ...       ...       ...       ...       ...       ...\n",
              "995  0.649208  1.001112 -0.049503  1.529798  1.027935 -1.379431  0.393323\n",
              "996 -0.793620  1.001112  0.042824  1.223761 -1.434111  0.647638 -0.339404\n",
              "997  0.216360 -0.998890  0.588390  1.916845 -0.163377 -0.844794  0.079297\n",
              "998 -0.216488  1.001112  1.008057  0.779707 -0.481061 -0.698736  0.183973\n",
              "999  0.649208  1.001112  0.907337 -0.567456 -0.322219 -0.068092  1.126050\n",
              "\n",
              "[1000 rows x 7 columns]"
            ]
          },
          "metadata": {},
          "execution_count": 237
        }
      ]
    },
    {
      "cell_type": "code",
      "source": [
        "params={\n",
        "    'n_estimators':[100,400,500],\n",
        "    'max_depth':[1,3,5],\n",
        "    'subsample':[0.3,0.5],\n",
        "    'colsample_bytree':[0.5,0.8,1]}\n",
        "\n",
        "xgb=XGBRegressor(random_state=0,n_jobs=-1)\n",
        "grid_cv=GridSearchCV(xgb,param_grid=params,cv=3,n_jobs=-1)\n",
        "grid_cv.fit(scaled_train,y_train)\n",
        "\n",
        "print(\"최적 하이퍼 파라미터: \",grid_cv.best_params_)\n",
        "print(\"최고 예측 정확도 : \",grid_cv.best_score_)"
      ],
      "metadata": {
        "colab": {
          "base_uri": "https://localhost:8080/"
        },
        "id": "j_LRbz_65fNn",
        "outputId": "84960ff3-9844-4c08-f7d1-051369c1ee81"
      },
      "execution_count": null,
      "outputs": [
        {
          "output_type": "stream",
          "name": "stdout",
          "text": [
            "[12:27:21] WARNING: /workspace/src/objective/regression_obj.cu:152: reg:linear is now deprecated in favor of reg:squarederror.\n",
            "최적 하이퍼 파라미터:  {'colsample_bytree': 1, 'max_depth': 5, 'n_estimators': 500, 'subsample': 0.5}\n",
            "최고 예측 정확도 :  0.9970234498311573\n"
          ]
        }
      ]
    },
    {
      "cell_type": "code",
      "source": [
        "xgb_1=XGBRegressor(colsample_bytree= 1, max_depth=5, n_estimators= 500, subsample= 0.5,\n",
        "                   random_state=0)\n",
        "\n",
        "xgb_1.fit(scaled_train,y_train)\n",
        "pred=xgb_1.predict(scaled_test)"
      ],
      "metadata": {
        "id": "k8rX5nGTcGZ3",
        "colab": {
          "base_uri": "https://localhost:8080/"
        },
        "outputId": "78dd836e-7cb1-4a23-de84-b79a0b8c197e"
      },
      "execution_count": null,
      "outputs": [
        {
          "output_type": "stream",
          "name": "stdout",
          "text": [
            "[12:46:05] WARNING: /workspace/src/objective/regression_obj.cu:152: reg:linear is now deprecated in favor of reg:squarederror.\n"
          ]
        }
      ]
    },
    {
      "cell_type": "code",
      "source": [
        "sample"
      ],
      "metadata": {
        "colab": {
          "base_uri": "https://localhost:8080/",
          "height": 423
        },
        "id": "Iwl8WWbRntl9",
        "outputId": "d2c9ea58-7ee3-45fc-940d-df2256b34f12"
      },
      "execution_count": null,
      "outputs": [
        {
          "output_type": "execute_result",
          "data": {
            "text/html": [
              "\n",
              "  <div id=\"df-82116bf2-27cf-4ad0-bc6b-dc1794cc8c67\">\n",
              "    <div class=\"colab-df-container\">\n",
              "      <div>\n",
              "<style scoped>\n",
              "    .dataframe tbody tr th:only-of-type {\n",
              "        vertical-align: middle;\n",
              "    }\n",
              "\n",
              "    .dataframe tbody tr th {\n",
              "        vertical-align: top;\n",
              "    }\n",
              "\n",
              "    .dataframe thead th {\n",
              "        text-align: right;\n",
              "    }\n",
              "</style>\n",
              "<table border=\"1\" class=\"dataframe\">\n",
              "  <thead>\n",
              "    <tr style=\"text-align: right;\">\n",
              "      <th></th>\n",
              "      <th>INDEX</th>\n",
              "      <th>TARGET</th>\n",
              "    </tr>\n",
              "  </thead>\n",
              "  <tbody>\n",
              "    <tr>\n",
              "      <th>0</th>\n",
              "      <td>0</td>\n",
              "      <td>0</td>\n",
              "    </tr>\n",
              "    <tr>\n",
              "      <th>1</th>\n",
              "      <td>1</td>\n",
              "      <td>0</td>\n",
              "    </tr>\n",
              "    <tr>\n",
              "      <th>2</th>\n",
              "      <td>2</td>\n",
              "      <td>0</td>\n",
              "    </tr>\n",
              "    <tr>\n",
              "      <th>3</th>\n",
              "      <td>3</td>\n",
              "      <td>0</td>\n",
              "    </tr>\n",
              "    <tr>\n",
              "      <th>4</th>\n",
              "      <td>4</td>\n",
              "      <td>0</td>\n",
              "    </tr>\n",
              "    <tr>\n",
              "      <th>...</th>\n",
              "      <td>...</td>\n",
              "      <td>...</td>\n",
              "    </tr>\n",
              "    <tr>\n",
              "      <th>995</th>\n",
              "      <td>995</td>\n",
              "      <td>0</td>\n",
              "    </tr>\n",
              "    <tr>\n",
              "      <th>996</th>\n",
              "      <td>996</td>\n",
              "      <td>0</td>\n",
              "    </tr>\n",
              "    <tr>\n",
              "      <th>997</th>\n",
              "      <td>997</td>\n",
              "      <td>0</td>\n",
              "    </tr>\n",
              "    <tr>\n",
              "      <th>998</th>\n",
              "      <td>998</td>\n",
              "      <td>0</td>\n",
              "    </tr>\n",
              "    <tr>\n",
              "      <th>999</th>\n",
              "      <td>999</td>\n",
              "      <td>0</td>\n",
              "    </tr>\n",
              "  </tbody>\n",
              "</table>\n",
              "<p>1000 rows × 2 columns</p>\n",
              "</div>\n",
              "      <button class=\"colab-df-convert\" onclick=\"convertToInteractive('df-82116bf2-27cf-4ad0-bc6b-dc1794cc8c67')\"\n",
              "              title=\"Convert this dataframe to an interactive table.\"\n",
              "              style=\"display:none;\">\n",
              "        \n",
              "  <svg xmlns=\"http://www.w3.org/2000/svg\" height=\"24px\"viewBox=\"0 0 24 24\"\n",
              "       width=\"24px\">\n",
              "    <path d=\"M0 0h24v24H0V0z\" fill=\"none\"/>\n",
              "    <path d=\"M18.56 5.44l.94 2.06.94-2.06 2.06-.94-2.06-.94-.94-2.06-.94 2.06-2.06.94zm-11 1L8.5 8.5l.94-2.06 2.06-.94-2.06-.94L8.5 2.5l-.94 2.06-2.06.94zm10 10l.94 2.06.94-2.06 2.06-.94-2.06-.94-.94-2.06-.94 2.06-2.06.94z\"/><path d=\"M17.41 7.96l-1.37-1.37c-.4-.4-.92-.59-1.43-.59-.52 0-1.04.2-1.43.59L10.3 9.45l-7.72 7.72c-.78.78-.78 2.05 0 2.83L4 21.41c.39.39.9.59 1.41.59.51 0 1.02-.2 1.41-.59l7.78-7.78 2.81-2.81c.8-.78.8-2.07 0-2.86zM5.41 20L4 18.59l7.72-7.72 1.47 1.35L5.41 20z\"/>\n",
              "  </svg>\n",
              "      </button>\n",
              "      \n",
              "  <style>\n",
              "    .colab-df-container {\n",
              "      display:flex;\n",
              "      flex-wrap:wrap;\n",
              "      gap: 12px;\n",
              "    }\n",
              "\n",
              "    .colab-df-convert {\n",
              "      background-color: #E8F0FE;\n",
              "      border: none;\n",
              "      border-radius: 50%;\n",
              "      cursor: pointer;\n",
              "      display: none;\n",
              "      fill: #1967D2;\n",
              "      height: 32px;\n",
              "      padding: 0 0 0 0;\n",
              "      width: 32px;\n",
              "    }\n",
              "\n",
              "    .colab-df-convert:hover {\n",
              "      background-color: #E2EBFA;\n",
              "      box-shadow: 0px 1px 2px rgba(60, 64, 67, 0.3), 0px 1px 3px 1px rgba(60, 64, 67, 0.15);\n",
              "      fill: #174EA6;\n",
              "    }\n",
              "\n",
              "    [theme=dark] .colab-df-convert {\n",
              "      background-color: #3B4455;\n",
              "      fill: #D2E3FC;\n",
              "    }\n",
              "\n",
              "    [theme=dark] .colab-df-convert:hover {\n",
              "      background-color: #434B5C;\n",
              "      box-shadow: 0px 1px 3px 1px rgba(0, 0, 0, 0.15);\n",
              "      filter: drop-shadow(0px 1px 2px rgba(0, 0, 0, 0.3));\n",
              "      fill: #FFFFFF;\n",
              "    }\n",
              "  </style>\n",
              "\n",
              "      <script>\n",
              "        const buttonEl =\n",
              "          document.querySelector('#df-82116bf2-27cf-4ad0-bc6b-dc1794cc8c67 button.colab-df-convert');\n",
              "        buttonEl.style.display =\n",
              "          google.colab.kernel.accessAllowed ? 'block' : 'none';\n",
              "\n",
              "        async function convertToInteractive(key) {\n",
              "          const element = document.querySelector('#df-82116bf2-27cf-4ad0-bc6b-dc1794cc8c67');\n",
              "          const dataTable =\n",
              "            await google.colab.kernel.invokeFunction('convertToInteractive',\n",
              "                                                     [key], {});\n",
              "          if (!dataTable) return;\n",
              "\n",
              "          const docLinkHtml = 'Like what you see? Visit the ' +\n",
              "            '<a target=\"_blank\" href=https://colab.research.google.com/notebooks/data_table.ipynb>data table notebook</a>'\n",
              "            + ' to learn more about interactive tables.';\n",
              "          element.innerHTML = '';\n",
              "          dataTable['output_type'] = 'display_data';\n",
              "          await google.colab.output.renderOutput(dataTable, element);\n",
              "          const docLink = document.createElement('div');\n",
              "          docLink.innerHTML = docLinkHtml;\n",
              "          element.appendChild(docLink);\n",
              "        }\n",
              "      </script>\n",
              "    </div>\n",
              "  </div>\n",
              "  "
            ],
            "text/plain": [
              "     INDEX  TARGET\n",
              "0        0       0\n",
              "1        1       0\n",
              "2        2       0\n",
              "3        3       0\n",
              "4        4       0\n",
              "..     ...     ...\n",
              "995    995       0\n",
              "996    996       0\n",
              "997    997       0\n",
              "998    998       0\n",
              "999    999       0\n",
              "\n",
              "[1000 rows x 2 columns]"
            ]
          },
          "metadata": {},
          "execution_count": 242
        }
      ]
    },
    {
      "cell_type": "code",
      "source": [
        "submit_1=sample.copy()\n"
      ],
      "metadata": {
        "id": "iBwSXurLnw8q"
      },
      "execution_count": null,
      "outputs": []
    },
    {
      "cell_type": "code",
      "source": [
        "\n",
        "submit_1"
      ],
      "metadata": {
        "colab": {
          "base_uri": "https://localhost:8080/",
          "height": 423
        },
        "id": "0Bm2P_TJpiAo",
        "outputId": "80088e4d-6bc9-41f5-c7b5-ca8b505328cc"
      },
      "execution_count": null,
      "outputs": [
        {
          "output_type": "execute_result",
          "data": {
            "text/html": [
              "\n",
              "  <div id=\"df-f8ac97b6-a374-4bf8-827a-563b5ef3e515\">\n",
              "    <div class=\"colab-df-container\">\n",
              "      <div>\n",
              "<style scoped>\n",
              "    .dataframe tbody tr th:only-of-type {\n",
              "        vertical-align: middle;\n",
              "    }\n",
              "\n",
              "    .dataframe tbody tr th {\n",
              "        vertical-align: top;\n",
              "    }\n",
              "\n",
              "    .dataframe thead th {\n",
              "        text-align: right;\n",
              "    }\n",
              "</style>\n",
              "<table border=\"1\" class=\"dataframe\">\n",
              "  <thead>\n",
              "    <tr style=\"text-align: right;\">\n",
              "      <th></th>\n",
              "      <th>INDEX</th>\n",
              "      <th>TARGET</th>\n",
              "    </tr>\n",
              "  </thead>\n",
              "  <tbody>\n",
              "    <tr>\n",
              "      <th>0</th>\n",
              "      <td>0</td>\n",
              "      <td>0</td>\n",
              "    </tr>\n",
              "    <tr>\n",
              "      <th>1</th>\n",
              "      <td>1</td>\n",
              "      <td>0</td>\n",
              "    </tr>\n",
              "    <tr>\n",
              "      <th>2</th>\n",
              "      <td>2</td>\n",
              "      <td>0</td>\n",
              "    </tr>\n",
              "    <tr>\n",
              "      <th>3</th>\n",
              "      <td>3</td>\n",
              "      <td>0</td>\n",
              "    </tr>\n",
              "    <tr>\n",
              "      <th>4</th>\n",
              "      <td>4</td>\n",
              "      <td>0</td>\n",
              "    </tr>\n",
              "    <tr>\n",
              "      <th>...</th>\n",
              "      <td>...</td>\n",
              "      <td>...</td>\n",
              "    </tr>\n",
              "    <tr>\n",
              "      <th>995</th>\n",
              "      <td>995</td>\n",
              "      <td>0</td>\n",
              "    </tr>\n",
              "    <tr>\n",
              "      <th>996</th>\n",
              "      <td>996</td>\n",
              "      <td>0</td>\n",
              "    </tr>\n",
              "    <tr>\n",
              "      <th>997</th>\n",
              "      <td>997</td>\n",
              "      <td>0</td>\n",
              "    </tr>\n",
              "    <tr>\n",
              "      <th>998</th>\n",
              "      <td>998</td>\n",
              "      <td>0</td>\n",
              "    </tr>\n",
              "    <tr>\n",
              "      <th>999</th>\n",
              "      <td>999</td>\n",
              "      <td>0</td>\n",
              "    </tr>\n",
              "  </tbody>\n",
              "</table>\n",
              "<p>1000 rows × 2 columns</p>\n",
              "</div>\n",
              "      <button class=\"colab-df-convert\" onclick=\"convertToInteractive('df-f8ac97b6-a374-4bf8-827a-563b5ef3e515')\"\n",
              "              title=\"Convert this dataframe to an interactive table.\"\n",
              "              style=\"display:none;\">\n",
              "        \n",
              "  <svg xmlns=\"http://www.w3.org/2000/svg\" height=\"24px\"viewBox=\"0 0 24 24\"\n",
              "       width=\"24px\">\n",
              "    <path d=\"M0 0h24v24H0V0z\" fill=\"none\"/>\n",
              "    <path d=\"M18.56 5.44l.94 2.06.94-2.06 2.06-.94-2.06-.94-.94-2.06-.94 2.06-2.06.94zm-11 1L8.5 8.5l.94-2.06 2.06-.94-2.06-.94L8.5 2.5l-.94 2.06-2.06.94zm10 10l.94 2.06.94-2.06 2.06-.94-2.06-.94-.94-2.06-.94 2.06-2.06.94z\"/><path d=\"M17.41 7.96l-1.37-1.37c-.4-.4-.92-.59-1.43-.59-.52 0-1.04.2-1.43.59L10.3 9.45l-7.72 7.72c-.78.78-.78 2.05 0 2.83L4 21.41c.39.39.9.59 1.41.59.51 0 1.02-.2 1.41-.59l7.78-7.78 2.81-2.81c.8-.78.8-2.07 0-2.86zM5.41 20L4 18.59l7.72-7.72 1.47 1.35L5.41 20z\"/>\n",
              "  </svg>\n",
              "      </button>\n",
              "      \n",
              "  <style>\n",
              "    .colab-df-container {\n",
              "      display:flex;\n",
              "      flex-wrap:wrap;\n",
              "      gap: 12px;\n",
              "    }\n",
              "\n",
              "    .colab-df-convert {\n",
              "      background-color: #E8F0FE;\n",
              "      border: none;\n",
              "      border-radius: 50%;\n",
              "      cursor: pointer;\n",
              "      display: none;\n",
              "      fill: #1967D2;\n",
              "      height: 32px;\n",
              "      padding: 0 0 0 0;\n",
              "      width: 32px;\n",
              "    }\n",
              "\n",
              "    .colab-df-convert:hover {\n",
              "      background-color: #E2EBFA;\n",
              "      box-shadow: 0px 1px 2px rgba(60, 64, 67, 0.3), 0px 1px 3px 1px rgba(60, 64, 67, 0.15);\n",
              "      fill: #174EA6;\n",
              "    }\n",
              "\n",
              "    [theme=dark] .colab-df-convert {\n",
              "      background-color: #3B4455;\n",
              "      fill: #D2E3FC;\n",
              "    }\n",
              "\n",
              "    [theme=dark] .colab-df-convert:hover {\n",
              "      background-color: #434B5C;\n",
              "      box-shadow: 0px 1px 3px 1px rgba(0, 0, 0, 0.15);\n",
              "      filter: drop-shadow(0px 1px 2px rgba(0, 0, 0, 0.3));\n",
              "      fill: #FFFFFF;\n",
              "    }\n",
              "  </style>\n",
              "\n",
              "      <script>\n",
              "        const buttonEl =\n",
              "          document.querySelector('#df-f8ac97b6-a374-4bf8-827a-563b5ef3e515 button.colab-df-convert');\n",
              "        buttonEl.style.display =\n",
              "          google.colab.kernel.accessAllowed ? 'block' : 'none';\n",
              "\n",
              "        async function convertToInteractive(key) {\n",
              "          const element = document.querySelector('#df-f8ac97b6-a374-4bf8-827a-563b5ef3e515');\n",
              "          const dataTable =\n",
              "            await google.colab.kernel.invokeFunction('convertToInteractive',\n",
              "                                                     [key], {});\n",
              "          if (!dataTable) return;\n",
              "\n",
              "          const docLinkHtml = 'Like what you see? Visit the ' +\n",
              "            '<a target=\"_blank\" href=https://colab.research.google.com/notebooks/data_table.ipynb>data table notebook</a>'\n",
              "            + ' to learn more about interactive tables.';\n",
              "          element.innerHTML = '';\n",
              "          dataTable['output_type'] = 'display_data';\n",
              "          await google.colab.output.renderOutput(dataTable, element);\n",
              "          const docLink = document.createElement('div');\n",
              "          docLink.innerHTML = docLinkHtml;\n",
              "          element.appendChild(docLink);\n",
              "        }\n",
              "      </script>\n",
              "    </div>\n",
              "  </div>\n",
              "  "
            ],
            "text/plain": [
              "     INDEX  TARGET\n",
              "0        0       0\n",
              "1        1       0\n",
              "2        2       0\n",
              "3        3       0\n",
              "4        4       0\n",
              "..     ...     ...\n",
              "995    995       0\n",
              "996    996       0\n",
              "997    997       0\n",
              "998    998       0\n",
              "999    999       0\n",
              "\n",
              "[1000 rows x 2 columns]"
            ]
          },
          "metadata": {},
          "execution_count": 254
        }
      ]
    },
    {
      "cell_type": "code",
      "source": [
        "submit_1['TARGET']=pred"
      ],
      "metadata": {
        "id": "Pkk-j-Gcppke"
      },
      "execution_count": null,
      "outputs": []
    },
    {
      "cell_type": "code",
      "source": [
        "submit_1.to_csv('submit1.csv',index=False)"
      ],
      "metadata": {
        "id": "Pgs4hsg7p1Vc"
      },
      "execution_count": null,
      "outputs": []
    },
    {
      "cell_type": "markdown",
      "source": [
        "![image.png](data:image/png;base64,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)"
      ],
      "metadata": {
        "id": "WTIgSZBur_Vb"
      }
    },
    {
      "cell_type": "code",
      "source": [
        ""
      ],
      "metadata": {
        "id": "5YI161Mop2EO"
      },
      "execution_count": null,
      "outputs": []
    }
  ]
}